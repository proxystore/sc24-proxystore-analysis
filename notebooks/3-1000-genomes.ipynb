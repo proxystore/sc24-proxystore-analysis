{
 "cells": [
  {
   "cell_type": "code",
   "execution_count": 23,
   "id": "b7caeb5a-c4c6-40d5-bdfa-2557386b477e",
   "metadata": {},
   "outputs": [
    {
     "data": {
      "text/plain": [
       "<module 'theme' from '/Users/jgpaul/workspace/sc24-proxystore-analysis/notebooks/theme.py'>"
      ]
     },
     "execution_count": 23,
     "metadata": {},
     "output_type": "execute_result"
    }
   ],
   "source": [
    "from __future__ import annotations\n",
    "\n",
    "import importlib\n",
    "import pathlib\n",
    "\n",
    "import plotly.express as px\n",
    "import plotly.figure_factory as ff\n",
    "import polars\n",
    "import theme\n",
    "from plotly.subplots import make_subplots\n",
    "\n",
    "importlib.reload(theme)"
   ]
  },
  {
   "cell_type": "code",
   "execution_count": 24,
   "id": "9b73f36e-3633-41b3-96b7-88e5a4de3c3a",
   "metadata": {},
   "outputs": [],
   "source": [
    "def load_data(filepath) -> polars.DataFrame:\n",
    "    return polars.read_csv(filepath)"
   ]
  },
  {
   "cell_type": "code",
   "execution_count": 63,
   "id": "c8932686-9234-4821-9604-c49053890678",
   "metadata": {},
   "outputs": [],
   "source": [
    "STAGES = {\n",
    "    'processing_chrom_parts': 'Stage 1',\n",
    "    'individuals': 'Stage 1',\n",
    "    'processing_2': 'Stage 2',\n",
    "    'merge': 'Stage 2',\n",
    "    'sifting': 'Stage 3',\n",
    "    'mutation_overlap': 'Stage 4',\n",
    "    'frequency': 'Stage 5',\n",
    "}\n",
    "\n",
    "RUNS = {\n",
    "    'gc-trial': 'Baseline',\n",
    "    'proxy-bench-trial': 'ProxyFutures',\n",
    "    'process-pool': 'Baseline (ProcessPool)',\n",
    "    'process-pool-proxystore': 'ProxyFutures (ProcessPool)',\n",
    "    'globus-compute': 'Baseline',\n",
    "    'globus-compute-proxystore': 'ProxyFutures',\n",
    "}\n",
    "\n",
    "\n",
    "def merge_stages(data: polars.DataFrame) -> polars.DataFrame:\n",
    "    out = []\n",
    "    for run in RUNS:\n",
    "        run_data = data.filter(polars.col('name') == run)\n",
    "        if len(run_data) == 0:\n",
    "            continue\n",
    "        run_start = run_data['start'].min()\n",
    "        for stage in STAGES:\n",
    "            stage_data = run_data.filter(polars.col('task') == stage)\n",
    "            if len(stage_data) == 0:\n",
    "                continue\n",
    "            start = stage_data['start'].min() - run_start\n",
    "            end = stage_data['end'].max() - run_start\n",
    "            out.append(\n",
    "                {\n",
    "                    'run': RUNS[run],\n",
    "                    'Start': start,\n",
    "                    'Finish': end,\n",
    "                    'Task': STAGES[stage],\n",
    "                },\n",
    "            )\n",
    "\n",
    "    return polars.DataFrame(out)"
   ]
  },
  {
   "cell_type": "code",
   "execution_count": 196,
   "id": "5caebe36-b6e6-4a94-89ae-7d40b146c0c3",
   "metadata": {},
   "outputs": [],
   "source": [
    "def make_gantt(data, layout=None):\n",
    "    runs = set(data.select(polars.col('run')).to_series().to_list())\n",
    "    fig = make_subplots(\n",
    "        cols=1,\n",
    "        rows=len(runs),\n",
    "        vertical_spacing=0.05,\n",
    "        shared_xaxes=True,\n",
    "    )\n",
    "\n",
    "    max_x_range = 0\n",
    "    colors = [0, 4, 1, 2, 3]\n",
    "    for row, run in enumerate(runs):\n",
    "        run_data = data.filter(polars.col('run') == run)\n",
    "        max_x_range = max(max_x_range, run_data['Finish'].max())\n",
    "        timeline_fig = ff.create_gantt(\n",
    "            run_data.to_dicts(),\n",
    "            show_colorbar=False,\n",
    "            group_tasks=False,\n",
    "            bar_width=0.475,\n",
    "            colors=[px.colors.qualitative.Bold[i] for i in colors],\n",
    "        )\n",
    "        for stage in range(5):\n",
    "            x = run_data.filter(polars.col('Task') == f'Stage {stage+1}')['Start'].min()\n",
    "            fig.add_annotation(\n",
    "                x=x + 30,\n",
    "                y=stage,\n",
    "                align='left',\n",
    "                text=stage + 1,\n",
    "                font=dict(size=10, color='white'),\n",
    "                showarrow=False,\n",
    "                row=row+1,\n",
    "                col=1,\n",
    "            )\n",
    "        for trace in timeline_fig.data:\n",
    "            fig.add_trace(trace, row=row + 1, col=1)\n",
    "        fig.update_yaxes(\n",
    "            title_text=run,\n",
    "            showticklabels=False,\n",
    "            ticks='',\n",
    "            row=row + 1,\n",
    "            col=1,\n",
    "        )\n",
    "        if row + 1 == len(runs):\n",
    "            fig.update_xaxes(\n",
    "                title_text='Runtime (s)',\n",
    "                range=[0, max_x_range + 0.1],\n",
    "                row=row + 1,\n",
    "                col=1,\n",
    "            )\n",
    "\n",
    "    fig.update_traces(showlegend=True)\n",
    "    names = set()\n",
    "    fig.for_each_trace(\n",
    "        lambda trace: trace.update(showlegend=False)\n",
    "        if trace.name == '' or trace.name in names\n",
    "        else names.add(trace.name),\n",
    "    )\n",
    "    \n",
    "    layout = {} if layout is None else layout\n",
    "    fig.update_layout(\n",
    "        legend=dict(\n",
    "            title=None,\n",
    "            yanchor='top',\n",
    "            y=0.85,\n",
    "            xanchor='left',\n",
    "            x=1.01,\n",
    "            tracegroupgap=1,\n",
    "        ),\n",
    "        template='proxystore',\n",
    "        **layout,\n",
    "    )\n",
    "\n",
    "    return fig"
   ]
  },
  {
   "cell_type": "code",
   "execution_count": 205,
   "id": "fd73c549-9022-4d6b-b092-0b675cd6fb23",
   "metadata": {},
   "outputs": [],
   "source": [
    "def get_deltas(data: polars.DataFrame) -> polars.DataFrame:\n",
    "    processed = data.select(\n",
    "        polars.col('run').alias('Run'),\n",
    "        polars.col('Task').alias('Stage'),\n",
    "        (polars.col('Finish') - polars.col('Start')).alias('Runtime'),\n",
    "    )\n",
    "    for run in set(data.select(polars.col('run')).to_series().to_list()):\n",
    "        run_data = data.filter(polars.col('run') == run)\n",
    "        runtime = run_data['Finish'].max() - run_data['Start'].min()\n",
    "        print(f'{run} runtime: {runtime:.2f} s')\n",
    "    processed = processed.pivot(index='Stage', columns='Run', values=None)\n",
    "    processed = processed.with_columns(\n",
    "        (polars.col('Baseline') - polars.col('ProxyFutures')).alias('Delta (s)'),\n",
    "        (100 * (polars.col('Baseline') - polars.col('ProxyFutures')) / polars.col('Baseline')).alias('Delta (%)'),\n",
    "    )\n",
    "    return processed"
   ]
  },
  {
   "cell_type": "markdown",
   "id": "034059fc-fc30-4674-ba3b-b2a448934c5b",
   "metadata": {},
   "source": [
    "## Chameleon (1%)"
   ]
  },
  {
   "cell_type": "code",
   "execution_count": 206,
   "id": "1cfdd925-1cfd-4360-b206-336f5bfc0a68",
   "metadata": {},
   "outputs": [
    {
     "name": "stdout",
     "output_type": "stream",
     "text": [
      "Baseline runtime: 499.56 s\n",
      "ProxyFutures runtime: 377.31 s\n",
      "shape: (5, 5)\n",
      "┌─────────┬────────────┬──────────────┬────────────┬───────────┐\n",
      "│ Stage   ┆ Baseline   ┆ ProxyFutures ┆ Delta (s)  ┆ Delta (%) │\n",
      "│ ---     ┆ ---        ┆ ---          ┆ ---        ┆ ---       │\n",
      "│ str     ┆ f64        ┆ f64          ┆ f64        ┆ f64       │\n",
      "╞═════════╪════════════╪══════════════╪════════════╪═══════════╡\n",
      "│ Stage 1 ┆ 210.962937 ┆ 110.760734   ┆ 100.202203 ┆ 47.497539 │\n",
      "│ Stage 2 ┆ 214.722628 ┆ 113.822504   ┆ 100.900125 ┆ 46.990914 │\n",
      "│ Stage 3 ┆ 201.800962 ┆ 105.225084   ┆ 96.575877  ┆ 47.856996 │\n",
      "│ Stage 4 ┆ 235.571252 ┆ 224.29193    ┆ 11.279323  ┆ 4.788073  │\n",
      "│ Stage 5 ┆ 259.630495 ┆ 249.503309   ┆ 10.127186  ┆ 3.900615  │\n",
      "└─────────┴────────────┴──────────────┴────────────┴───────────┘\n"
     ]
    },
    {
     "data": {
      "image/svg+xml": [
       "<svg class=\"main-svg\" xmlns=\"http://www.w3.org/2000/svg\" xmlns:xlink=\"http://www.w3.org/1999/xlink\" width=\"500\" height=\"200\" style=\"\" viewBox=\"0 0 500 200\"><rect x=\"0\" y=\"0\" width=\"500\" height=\"200\" style=\"fill: rgb(255, 255, 255); fill-opacity: 1;\"/><defs id=\"defs-1fe63b\"><g class=\"clips\"><clipPath id=\"clip1fe63bxyplot\" class=\"plotclip\"><rect width=\"384\" height=\"74.1\"/></clipPath><clipPath id=\"clip1fe63bx2y2plot\" class=\"plotclip\"><rect width=\"384\" height=\"74.1\"/></clipPath><clipPath class=\"axesclip\" id=\"clip1fe63bx\"><rect x=\"18\" y=\"0\" width=\"384\" height=\"200\"/></clipPath><clipPath class=\"axesclip\" id=\"clip1fe63by\"><rect x=\"0\" y=\"6\" width=\"500\" height=\"74.1\"/></clipPath><clipPath class=\"axesclip\" id=\"clip1fe63bxy\"><rect x=\"18\" y=\"6\" width=\"384\" height=\"74.1\"/></clipPath><clipPath class=\"axesclip\" id=\"clip1fe63by2\"><rect x=\"0\" y=\"87.9\" width=\"500\" height=\"74.1\"/></clipPath><clipPath class=\"axesclip\" id=\"clip1fe63bxy2\"><rect x=\"18\" y=\"87.9\" width=\"384\" height=\"74.1\"/></clipPath><clipPath class=\"axesclip\" id=\"clip1fe63bx2\"><rect x=\"18\" y=\"0\" width=\"384\" height=\"200\"/></clipPath><clipPath class=\"axesclip\" id=\"clip1fe63bx2y\"><rect x=\"18\" y=\"6\" width=\"384\" height=\"74.1\"/></clipPath><clipPath class=\"axesclip\" id=\"clip1fe63bx2y2\"><rect x=\"18\" y=\"87.9\" width=\"384\" height=\"74.1\"/></clipPath></g><g class=\"gradients\"/><g class=\"patterns\"/></defs><g class=\"bglayer\"/><g class=\"layer-below\"><g class=\"imagelayer\"/><g class=\"shapelayer\"/></g><g class=\"cartesianlayer\"><g class=\"subplot xy\"><g class=\"layer-subplot\"><g class=\"shapelayer\"/><g class=\"imagelayer\"/></g><g class=\"minor-gridlayer\"><g class=\"x\"/><g class=\"y\"/></g><g class=\"gridlayer\"><g class=\"x\"><path class=\"xgrid crisp\" transform=\"translate(94.85,0)\" d=\"M0,6v74.1\" style=\"stroke: rgb(224, 224, 224); stroke-opacity: 1; stroke-width: 1px;\"/><path class=\"xgrid crisp\" transform=\"translate(171.7,0)\" d=\"M0,6v74.1\" style=\"stroke: rgb(224, 224, 224); stroke-opacity: 1; stroke-width: 1px;\"/><path class=\"xgrid crisp\" transform=\"translate(248.56,0)\" d=\"M0,6v74.1\" style=\"stroke: rgb(224, 224, 224); stroke-opacity: 1; stroke-width: 1px;\"/><path class=\"xgrid crisp\" transform=\"translate(325.41,0)\" d=\"M0,6v74.1\" style=\"stroke: rgb(224, 224, 224); stroke-opacity: 1; stroke-width: 1px;\"/></g><g class=\"y\"><path class=\"ygrid crisp\" transform=\"translate(0,70)\" d=\"M18,0h384\" style=\"stroke: rgb(224, 224, 224); stroke-opacity: 1; stroke-width: 1px;\"/><path class=\"ygrid crisp\" transform=\"translate(0,43.05)\" d=\"M18,0h384\" style=\"stroke: rgb(224, 224, 224); stroke-opacity: 1; stroke-width: 1px;\"/><path class=\"ygrid crisp\" transform=\"translate(0,16.1)\" d=\"M18,0h384\" style=\"stroke: rgb(224, 224, 224); stroke-opacity: 1; stroke-width: 1px;\"/></g></g><g class=\"zerolinelayer\"/><path class=\"xlines-below\"/><path class=\"ylines-below\"/><g class=\"overlines-below\"/><g class=\"xaxislayer-below\"/><g class=\"yaxislayer-below\"/><g class=\"overaxes-below\"/><g class=\"plot\" transform=\"translate(18,6)\" clip-path=\"url(#clip1fe63bxyplot)\"><g class=\"scatterlayer mlayer\"><g class=\"trace scatter tracea5e4f5\" style=\"stroke-miterlimit: 2; opacity: 1;\"><g class=\"fills\"><g><path class=\"js-fill\" d=\"M2.47,70.39L164.6,70.39L164.6,57.6L2.47,57.6Z\" style=\"fill: rgb(127, 60, 141); fill-opacity: 1; stroke-width: 0;\"/></g></g><g class=\"errorbars\"/><g class=\"lines\"/><g class=\"points\"/><g class=\"text\"/></g><g class=\"trace scatter trace2d80e2\" style=\"stroke-miterlimit: 2; opacity: 1;\"><g class=\"fills\"><g><path class=\"js-fill\" d=\"M17.65,43.45L172.74,43.45L172.74,30.65L17.65,30.65Z\" style=\"fill: rgb(17, 165, 121); fill-opacity: 1; stroke-width: 0;\"/></g></g><g class=\"errorbars\"/><g class=\"lines\"/><g class=\"points\"/><g class=\"text\"/></g><g class=\"trace scatter traceb226ab\" style=\"stroke-miterlimit: 2; opacity: 1;\"><g class=\"fills\"><g><path class=\"js-fill\" d=\"M0,56.92L165.02,56.92L165.02,44.12L0,44.12Z\" style=\"fill: rgb(231, 63, 116); fill-opacity: 1; stroke-width: 0;\"/></g></g><g class=\"errorbars\"/><g class=\"lines\"/><g class=\"points\"/><g class=\"text\"/></g><g class=\"trace scatter trace9e1beb\" style=\"stroke-miterlimit: 2; opacity: 1;\"><g class=\"fills\"><g><path class=\"js-fill\" d=\"M184.39,16.5L383.92,16.5L383.92,3.71L184.39,3.71Z\" style=\"fill: rgb(242, 183, 1); fill-opacity: 1; stroke-width: 0;\"/></g></g><g class=\"errorbars\"/><g class=\"lines\"/><g class=\"points\"/><g class=\"text\"/></g><g class=\"trace scatter tracef14f72\" style=\"stroke-miterlimit: 2; opacity: 1;\"><g class=\"fills\"><g><path class=\"js-fill\" d=\"M176.1,29.98L357.14,29.98L357.14,17.18L176.1,17.18Z\" style=\"fill: rgb(57, 105, 172); fill-opacity: 1; stroke-width: 0;\"/></g></g><g class=\"errorbars\"/><g class=\"lines\"/><g class=\"points\"/><g class=\"text\"/></g><g class=\"trace scatter trace1d9a0b\" style=\"stroke-miterlimit: 2; opacity: 1;\"><g class=\"fills\"/><g class=\"errorbars\"/><g class=\"lines\"/><g class=\"points\"><path class=\"point\" transform=\"translate(2.47,64)\" d=\"M0.5,0A0.5,0.5 0 1,1 0,-0.5A0.5,0.5 0 0,1 0.5,0Z\" style=\"opacity: 0; stroke-width: 0px; fill: rgb(127, 60, 141); fill-opacity: 1;\"/><path class=\"point\" transform=\"translate(164.6,64)\" d=\"M0.5,0A0.5,0.5 0 1,1 0,-0.5A0.5,0.5 0 0,1 0.5,0Z\" style=\"opacity: 0; stroke-width: 0px; fill: rgb(127, 60, 141); fill-opacity: 1;\"/></g><g class=\"text\"/></g><g class=\"trace scatter traceefd4ea\" style=\"stroke-miterlimit: 2; opacity: 1;\"><g class=\"fills\"/><g class=\"errorbars\"/><g class=\"lines\"/><g class=\"points\"><path class=\"point\" transform=\"translate(17.65,37.05)\" d=\"M0.5,0A0.5,0.5 0 1,1 0,-0.5A0.5,0.5 0 0,1 0.5,0Z\" style=\"opacity: 0; stroke-width: 0px; fill: rgb(17, 165, 121); fill-opacity: 1;\"/><path class=\"point\" transform=\"translate(172.74,37.05)\" d=\"M0.5,0A0.5,0.5 0 1,1 0,-0.5A0.5,0.5 0 0,1 0.5,0Z\" style=\"opacity: 0; stroke-width: 0px; fill: rgb(17, 165, 121); fill-opacity: 1;\"/></g><g class=\"text\"/></g><g class=\"trace scatter trace21ce04\" style=\"stroke-miterlimit: 2; opacity: 1;\"><g class=\"fills\"/><g class=\"errorbars\"/><g class=\"lines\"/><g class=\"points\"><path class=\"point\" transform=\"translate(0,50.52)\" d=\"M0.5,0A0.5,0.5 0 1,1 0,-0.5A0.5,0.5 0 0,1 0.5,0Z\" style=\"opacity: 0; stroke-width: 0px; fill: rgb(231, 63, 116); fill-opacity: 1;\"/><path class=\"point\" transform=\"translate(165.02,50.52)\" d=\"M0.5,0A0.5,0.5 0 1,1 0,-0.5A0.5,0.5 0 0,1 0.5,0Z\" style=\"opacity: 0; stroke-width: 0px; fill: rgb(231, 63, 116); fill-opacity: 1;\"/></g><g class=\"text\"/></g><g class=\"trace scatter trace69fbec\" style=\"stroke-miterlimit: 2; opacity: 1;\"><g class=\"fills\"/><g class=\"errorbars\"/><g class=\"lines\"/><g class=\"points\"><path class=\"point\" transform=\"translate(184.39,10.1)\" d=\"M0.5,0A0.5,0.5 0 1,1 0,-0.5A0.5,0.5 0 0,1 0.5,0Z\" style=\"opacity: 0; stroke-width: 0px; fill: rgb(242, 183, 1); fill-opacity: 1;\"/><path class=\"point\" transform=\"translate(383.92,10.1)\" d=\"M0.5,0A0.5,0.5 0 1,1 0,-0.5A0.5,0.5 0 0,1 0.5,0Z\" style=\"opacity: 0; stroke-width: 0px; fill: rgb(242, 183, 1); fill-opacity: 1;\"/></g><g class=\"text\"/></g><g class=\"trace scatter trace9ae0a4\" style=\"stroke-miterlimit: 2; opacity: 1;\"><g class=\"fills\"/><g class=\"errorbars\"/><g class=\"lines\"/><g class=\"points\"><path class=\"point\" transform=\"translate(176.1,23.58)\" d=\"M0.5,0A0.5,0.5 0 1,1 0,-0.5A0.5,0.5 0 0,1 0.5,0Z\" style=\"opacity: 0; stroke-width: 0px; fill: rgb(57, 105, 172); fill-opacity: 1;\"/><path class=\"point\" transform=\"translate(357.14,23.58)\" d=\"M0.5,0A0.5,0.5 0 1,1 0,-0.5A0.5,0.5 0 0,1 0.5,0Z\" style=\"opacity: 0; stroke-width: 0px; fill: rgb(57, 105, 172); fill-opacity: 1;\"/></g><g class=\"text\"/></g></g></g><g class=\"overplot\"/><path class=\"xlines-above crisp\" d=\"M17,80.6H403M17,5.5H403\" style=\"fill: none; stroke-width: 1px; stroke: rgb(97, 97, 97); stroke-opacity: 1;\"/><path class=\"ylines-above crisp\" d=\"M17.5,6V80.1M402.5,6V80.1\" style=\"fill: none; stroke-width: 1px; stroke: rgb(97, 97, 97); stroke-opacity: 1;\"/><g class=\"overlines-above\"/><g class=\"xaxislayer-above\"><path class=\"xtick ticks crisp\" d=\"M0,81.1v5\" transform=\"translate(18,0)\" style=\"stroke: rgb(68, 68, 68); stroke-opacity: 1; stroke-width: 1px;\"/><path class=\"xtick ticks crisp\" d=\"M0,81.1v5\" transform=\"translate(94.85,0)\" style=\"stroke: rgb(68, 68, 68); stroke-opacity: 1; stroke-width: 1px;\"/><path class=\"xtick ticks crisp\" d=\"M0,81.1v5\" transform=\"translate(171.7,0)\" style=\"stroke: rgb(68, 68, 68); stroke-opacity: 1; stroke-width: 1px;\"/><path class=\"xtick ticks crisp\" d=\"M0,81.1v5\" transform=\"translate(248.56,0)\" style=\"stroke: rgb(68, 68, 68); stroke-opacity: 1; stroke-width: 1px;\"/><path class=\"xtick ticks crisp\" d=\"M0,81.1v5\" transform=\"translate(325.41,0)\" style=\"stroke: rgb(68, 68, 68); stroke-opacity: 1; stroke-width: 1px;\"/></g><g class=\"yaxislayer-above\"/><g class=\"overaxes-above\"/></g><g class=\"subplot x2y2\"><g class=\"layer-subplot\"><g class=\"shapelayer\"/><g class=\"imagelayer\"/></g><g class=\"minor-gridlayer\"><g class=\"x2\"/><g class=\"y2\"/></g><g class=\"gridlayer\"><g class=\"x2\"><path class=\"x2grid crisp\" transform=\"translate(94.85,0)\" d=\"M0,87.9v74.1\" style=\"stroke: rgb(224, 224, 224); stroke-opacity: 1; stroke-width: 1px;\"/><path class=\"x2grid crisp\" transform=\"translate(171.7,0)\" d=\"M0,87.9v74.1\" style=\"stroke: rgb(224, 224, 224); stroke-opacity: 1; stroke-width: 1px;\"/><path class=\"x2grid crisp\" transform=\"translate(248.56,0)\" d=\"M0,87.9v74.1\" style=\"stroke: rgb(224, 224, 224); stroke-opacity: 1; stroke-width: 1px;\"/><path class=\"x2grid crisp\" transform=\"translate(325.41,0)\" d=\"M0,87.9v74.1\" style=\"stroke: rgb(224, 224, 224); stroke-opacity: 1; stroke-width: 1px;\"/></g><g class=\"y2\"><path class=\"y2grid crisp\" transform=\"translate(0,151.9)\" d=\"M18,0h384\" style=\"stroke: rgb(224, 224, 224); stroke-opacity: 1; stroke-width: 1px;\"/><path class=\"y2grid crisp\" transform=\"translate(0,124.95)\" d=\"M18,0h384\" style=\"stroke: rgb(224, 224, 224); stroke-opacity: 1; stroke-width: 1px;\"/><path class=\"y2grid crisp\" transform=\"translate(0,98)\" d=\"M18,0h384\" style=\"stroke: rgb(224, 224, 224); stroke-opacity: 1; stroke-width: 1px;\"/></g></g><g class=\"zerolinelayer\"/><path class=\"xlines-below\"/><path class=\"ylines-below\"/><g class=\"overlines-below\"/><g class=\"xaxislayer-below\"/><g class=\"yaxislayer-below\"/><g class=\"overaxes-below\"/><g class=\"plot\" transform=\"translate(18,87.9)\" clip-path=\"url(#clip1fe63bx2y2plot)\"><g class=\"scatterlayer mlayer\"><g class=\"trace scatter trace73a161\" style=\"stroke-miterlimit: 2; opacity: 1;\"><g class=\"fills\"><g><path class=\"js-fill\" d=\"M2.35,70.39L87.47,70.39L87.47,57.6L2.35,57.6Z\" style=\"fill: rgb(127, 60, 141); fill-opacity: 1; stroke-width: 0;\"/></g></g><g class=\"errorbars\"/><g class=\"lines\"/><g class=\"points\"/><g class=\"text\"/></g><g class=\"trace scatter traceda2b49\" style=\"stroke-miterlimit: 2; opacity: 1;\"><g class=\"fills\"><g><path class=\"js-fill\" d=\"M3.04,43.45L83.91,43.45L83.91,30.65L3.04,30.65Z\" style=\"fill: rgb(17, 165, 121); fill-opacity: 1; stroke-width: 0;\"/></g></g><g class=\"errorbars\"/><g class=\"lines\"/><g class=\"points\"/><g class=\"text\"/></g><g class=\"trace scatter trace3e86aa\" style=\"stroke-miterlimit: 2; opacity: 1;\"><g class=\"fills\"><g><path class=\"js-fill\" d=\"M0,56.92L87.48,56.92L87.48,44.12L0,44.12Z\" style=\"fill: rgb(231, 63, 116); fill-opacity: 1; stroke-width: 0;\"/></g></g><g class=\"errorbars\"/><g class=\"lines\"/><g class=\"points\"/><g class=\"text\"/></g><g class=\"trace scatter trace6b1d17\" style=\"stroke-miterlimit: 2; opacity: 1;\"><g class=\"fills\"><g><path class=\"js-fill\" d=\"M98.22,16.5L289.97,16.5L289.97,3.71L98.22,3.71Z\" style=\"fill: rgb(242, 183, 1); fill-opacity: 1; stroke-width: 0;\"/></g></g><g class=\"errorbars\"/><g class=\"lines\"/><g class=\"points\"/><g class=\"text\"/></g><g class=\"trace scatter tracec003b7\" style=\"stroke-miterlimit: 2; opacity: 1;\"><g class=\"fills\"><g><path class=\"js-fill\" d=\"M90.8,29.98L263.17,29.98L263.17,17.18L90.8,17.18Z\" style=\"fill: rgb(57, 105, 172); fill-opacity: 1; stroke-width: 0;\"/></g></g><g class=\"errorbars\"/><g class=\"lines\"/><g class=\"points\"/><g class=\"text\"/></g><g class=\"trace scatter trace81016a\" style=\"stroke-miterlimit: 2; opacity: 1;\"><g class=\"fills\"/><g class=\"errorbars\"/><g class=\"lines\"/><g class=\"points\"><path class=\"point\" transform=\"translate(2.35,64)\" d=\"M0.5,0A0.5,0.5 0 1,1 0,-0.5A0.5,0.5 0 0,1 0.5,0Z\" style=\"opacity: 0; stroke-width: 0px; fill: rgb(127, 60, 141); fill-opacity: 1;\"/><path class=\"point\" transform=\"translate(87.47,64)\" d=\"M0.5,0A0.5,0.5 0 1,1 0,-0.5A0.5,0.5 0 0,1 0.5,0Z\" style=\"opacity: 0; stroke-width: 0px; fill: rgb(127, 60, 141); fill-opacity: 1;\"/></g><g class=\"text\"/></g><g class=\"trace scatter trace62242f\" style=\"stroke-miterlimit: 2; opacity: 1;\"><g class=\"fills\"/><g class=\"errorbars\"/><g class=\"lines\"/><g class=\"points\"><path class=\"point\" transform=\"translate(3.04,37.05)\" d=\"M0.5,0A0.5,0.5 0 1,1 0,-0.5A0.5,0.5 0 0,1 0.5,0Z\" style=\"opacity: 0; stroke-width: 0px; fill: rgb(17, 165, 121); fill-opacity: 1;\"/><path class=\"point\" transform=\"translate(83.91,37.05)\" d=\"M0.5,0A0.5,0.5 0 1,1 0,-0.5A0.5,0.5 0 0,1 0.5,0Z\" style=\"opacity: 0; stroke-width: 0px; fill: rgb(17, 165, 121); fill-opacity: 1;\"/></g><g class=\"text\"/></g><g class=\"trace scatter trace9fc292\" style=\"stroke-miterlimit: 2; opacity: 1;\"><g class=\"fills\"/><g class=\"errorbars\"/><g class=\"lines\"/><g class=\"points\"><path class=\"point\" transform=\"translate(0,50.52)\" d=\"M0.5,0A0.5,0.5 0 1,1 0,-0.5A0.5,0.5 0 0,1 0.5,0Z\" style=\"opacity: 0; stroke-width: 0px; fill: rgb(231, 63, 116); fill-opacity: 1;\"/><path class=\"point\" transform=\"translate(87.48,50.52)\" d=\"M0.5,0A0.5,0.5 0 1,1 0,-0.5A0.5,0.5 0 0,1 0.5,0Z\" style=\"opacity: 0; stroke-width: 0px; fill: rgb(231, 63, 116); fill-opacity: 1;\"/></g><g class=\"text\"/></g><g class=\"trace scatter trace00d60a\" style=\"stroke-miterlimit: 2; opacity: 1;\"><g class=\"fills\"/><g class=\"errorbars\"/><g class=\"lines\"/><g class=\"points\"><path class=\"point\" transform=\"translate(98.22,10.1)\" d=\"M0.5,0A0.5,0.5 0 1,1 0,-0.5A0.5,0.5 0 0,1 0.5,0Z\" style=\"opacity: 0; stroke-width: 0px; fill: rgb(242, 183, 1); fill-opacity: 1;\"/><path class=\"point\" transform=\"translate(289.97,10.1)\" d=\"M0.5,0A0.5,0.5 0 1,1 0,-0.5A0.5,0.5 0 0,1 0.5,0Z\" style=\"opacity: 0; stroke-width: 0px; fill: rgb(242, 183, 1); fill-opacity: 1;\"/></g><g class=\"text\"/></g><g class=\"trace scatter trace01d95b\" style=\"stroke-miterlimit: 2; opacity: 1;\"><g class=\"fills\"/><g class=\"errorbars\"/><g class=\"lines\"/><g class=\"points\"><path class=\"point\" transform=\"translate(90.8,23.58)\" d=\"M0.5,0A0.5,0.5 0 1,1 0,-0.5A0.5,0.5 0 0,1 0.5,0Z\" style=\"opacity: 0; stroke-width: 0px; fill: rgb(57, 105, 172); fill-opacity: 1;\"/><path class=\"point\" transform=\"translate(263.17,23.58)\" d=\"M0.5,0A0.5,0.5 0 1,1 0,-0.5A0.5,0.5 0 0,1 0.5,0Z\" style=\"opacity: 0; stroke-width: 0px; fill: rgb(57, 105, 172); fill-opacity: 1;\"/></g><g class=\"text\"/></g></g></g><g class=\"overplot\"/><path class=\"xlines-above crisp\" d=\"M17,162.5H403M17,87.4H403\" style=\"fill: none; stroke-width: 1px; stroke: rgb(97, 97, 97); stroke-opacity: 1;\"/><path class=\"ylines-above crisp\" d=\"M17.5,87.9V162M402.5,87.9V162\" style=\"fill: none; stroke-width: 1px; stroke: rgb(97, 97, 97); stroke-opacity: 1;\"/><g class=\"overlines-above\"/><g class=\"xaxislayer-above\"><path class=\"x2tick ticks crisp\" d=\"M0,163v5\" transform=\"translate(18,0)\" style=\"stroke: rgb(68, 68, 68); stroke-opacity: 1; stroke-width: 1px;\"/><path class=\"x2tick ticks crisp\" d=\"M0,163v5\" transform=\"translate(94.85,0)\" style=\"stroke: rgb(68, 68, 68); stroke-opacity: 1; stroke-width: 1px;\"/><path class=\"x2tick ticks crisp\" d=\"M0,163v5\" transform=\"translate(171.7,0)\" style=\"stroke: rgb(68, 68, 68); stroke-opacity: 1; stroke-width: 1px;\"/><path class=\"x2tick ticks crisp\" d=\"M0,163v5\" transform=\"translate(248.56,0)\" style=\"stroke: rgb(68, 68, 68); stroke-opacity: 1; stroke-width: 1px;\"/><path class=\"x2tick ticks crisp\" d=\"M0,163v5\" transform=\"translate(325.41,0)\" style=\"stroke: rgb(68, 68, 68); stroke-opacity: 1; stroke-width: 1px;\"/><g class=\"x2tick\"><text text-anchor=\"middle\" x=\"0\" y=\"180\" transform=\"translate(18,0)\" style=\"font-family: Arial; font-size: 10px; fill: rgb(36, 36, 36); fill-opacity: 1; white-space: pre; opacity: 1;\">0</text></g><g class=\"x2tick\"><text text-anchor=\"middle\" x=\"0\" y=\"180\" style=\"font-family: Arial; font-size: 10px; fill: rgb(36, 36, 36); fill-opacity: 1; white-space: pre; opacity: 1;\" transform=\"translate(94.85,0)\">100</text></g><g class=\"x2tick\"><text text-anchor=\"middle\" x=\"0\" y=\"180\" style=\"font-family: Arial; font-size: 10px; fill: rgb(36, 36, 36); fill-opacity: 1; white-space: pre; opacity: 1;\" transform=\"translate(171.7,0)\">200</text></g><g class=\"x2tick\"><text text-anchor=\"middle\" x=\"0\" y=\"180\" style=\"font-family: Arial; font-size: 10px; fill: rgb(36, 36, 36); fill-opacity: 1; white-space: pre; opacity: 1;\" transform=\"translate(248.56,0)\">300</text></g><g class=\"x2tick\"><text text-anchor=\"middle\" x=\"0\" y=\"180\" style=\"font-family: Arial; font-size: 10px; fill: rgb(36, 36, 36); fill-opacity: 1; white-space: pre; opacity: 1;\" transform=\"translate(325.41,0)\">400</text></g></g><g class=\"yaxislayer-above\"/><g class=\"overaxes-above\"/></g></g><g class=\"polarlayer\"/><g class=\"smithlayer\"/><g class=\"ternarylayer\"/><g class=\"geolayer\"/><g class=\"funnelarealayer\"/><g class=\"pielayer\"/><g class=\"iciclelayer\"/><g class=\"treemaplayer\"/><g class=\"sunburstlayer\"/><g class=\"glimages\"/><defs id=\"topdefs-1fe63b\"><g class=\"clips\"/><clipPath id=\"legend1fe63b\"><rect width=\"87\" height=\"109\" x=\"1\" y=\"1\"/></clipPath></defs><g class=\"layer-above\"><g class=\"imagelayer\"/><g class=\"shapelayer\"/></g><g class=\"infolayer\"><g class=\"legend\" pointer-events=\"all\" transform=\"translate(405.84000000000003,29.400000000000002)\"><rect class=\"bg\" shape-rendering=\"crispEdges\" width=\"88\" height=\"110\" x=\"0.5\" y=\"0.5\" style=\"stroke: rgb(224, 224, 224); stroke-opacity: 1; fill: rgb(255, 255, 255); fill-opacity: 1; stroke-width: 1px;\"/><g class=\"scrollbox\" transform=\"\" clip-path=\"url(#legend1fe63b)\"><g class=\"groups\" transform=\"\"><g class=\"traces\" transform=\"translate(1,15.5)\" style=\"opacity: 1;\"><text class=\"legendtext\" text-anchor=\"start\" x=\"40\" y=\"4.680000000000001\" style=\"font-family: Arial; font-size: 12px; fill: rgb(36, 36, 36); fill-opacity: 1; white-space: pre;\">Stage 1</text><g class=\"layers\" style=\"opacity: 1;\"><g class=\"legendfill\"><path class=\"js-fill\" d=\"M5,-3h30v6h-30z\" style=\"stroke-width: 0; fill: rgb(127, 60, 141); fill-opacity: 1;\"/></g><g class=\"legendlines\"/><g class=\"legendsymbols\"><g class=\"legendpoints\"/></g></g><rect class=\"legendtoggle\" x=\"0\" y=\"-9.5\" width=\"81.375\" height=\"19\" style=\"fill: rgb(0, 0, 0); fill-opacity: 0;\"/></g></g><g class=\"groups\" transform=\"translate(0,1)\"><g class=\"traces\" transform=\"translate(1,34.5)\" style=\"opacity: 1;\"><text class=\"legendtext\" text-anchor=\"start\" x=\"40\" y=\"4.680000000000001\" style=\"font-family: Arial; font-size: 12px; fill: rgb(36, 36, 36); fill-opacity: 1; white-space: pre;\">Stage 3</text><g class=\"layers\" style=\"opacity: 1;\"><g class=\"legendfill\"><path class=\"js-fill\" d=\"M5,-3h30v6h-30z\" style=\"stroke-width: 0; fill: rgb(17, 165, 121); fill-opacity: 1;\"/></g><g class=\"legendlines\"/><g class=\"legendsymbols\"><g class=\"legendpoints\"/></g></g><rect class=\"legendtoggle\" x=\"0\" y=\"-9.5\" width=\"81.375\" height=\"19\" style=\"fill: rgb(0, 0, 0); fill-opacity: 0;\"/></g></g><g class=\"groups\" transform=\"translate(0,2)\"><g class=\"traces\" transform=\"translate(1,53.5)\" style=\"opacity: 1;\"><text class=\"legendtext\" text-anchor=\"start\" x=\"40\" y=\"4.680000000000001\" style=\"font-family: Arial; font-size: 12px; fill: rgb(36, 36, 36); fill-opacity: 1; white-space: pre;\">Stage 2</text><g class=\"layers\" style=\"opacity: 1;\"><g class=\"legendfill\"><path class=\"js-fill\" d=\"M5,-3h30v6h-30z\" style=\"stroke-width: 0; fill: rgb(231, 63, 116); fill-opacity: 1;\"/></g><g class=\"legendlines\"/><g class=\"legendsymbols\"><g class=\"legendpoints\"/></g></g><rect class=\"legendtoggle\" x=\"0\" y=\"-9.5\" width=\"81.375\" height=\"19\" style=\"fill: rgb(0, 0, 0); fill-opacity: 0;\"/></g></g><g class=\"groups\" transform=\"translate(0,3)\"><g class=\"traces\" transform=\"translate(1,72.5)\" style=\"opacity: 1;\"><text class=\"legendtext\" text-anchor=\"start\" x=\"40\" y=\"4.680000000000001\" style=\"font-family: Arial; font-size: 12px; fill: rgb(36, 36, 36); fill-opacity: 1; white-space: pre;\">Stage 5</text><g class=\"layers\" style=\"opacity: 1;\"><g class=\"legendfill\"><path class=\"js-fill\" d=\"M5,-3h30v6h-30z\" style=\"stroke-width: 0; fill: rgb(242, 183, 1); fill-opacity: 1;\"/></g><g class=\"legendlines\"/><g class=\"legendsymbols\"><g class=\"legendpoints\"/></g></g><rect class=\"legendtoggle\" x=\"0\" y=\"-9.5\" width=\"81.375\" height=\"19\" style=\"fill: rgb(0, 0, 0); fill-opacity: 0;\"/></g></g><g class=\"groups\" transform=\"translate(0,4)\"><g class=\"traces\" transform=\"translate(1,91.5)\" style=\"opacity: 1;\"><text class=\"legendtext\" text-anchor=\"start\" x=\"40\" y=\"4.680000000000001\" style=\"font-family: Arial; font-size: 12px; fill: rgb(36, 36, 36); fill-opacity: 1; white-space: pre;\">Stage 4</text><g class=\"layers\" style=\"opacity: 1;\"><g class=\"legendfill\"><path class=\"js-fill\" d=\"M5,-3h30v6h-30z\" style=\"stroke-width: 0; fill: rgb(57, 105, 172); fill-opacity: 1;\"/></g><g class=\"legendlines\"/><g class=\"legendsymbols\"><g class=\"legendpoints\"/></g></g><rect class=\"legendtoggle\" x=\"0\" y=\"-9.5\" width=\"81.375\" height=\"19\" style=\"fill: rgb(0, 0, 0); fill-opacity: 0;\"/></g></g></g><rect class=\"scrollbar\" rx=\"20\" ry=\"3\" width=\"0\" height=\"0\" x=\"0\" y=\"0\" style=\"fill: rgb(128, 139, 164); fill-opacity: 1;\"/></g><g class=\"g-gtitle\"/><g class=\"g-xtitle\"/><g class=\"g-x2title\"><text class=\"x2title\" x=\"210\" y=\"194.9\" text-anchor=\"middle\" style=\"font-family: Arial; font-size: 12px; fill: rgb(36, 36, 36); opacity: 1; font-weight: normal; white-space: pre;\">Runtime (s)</text></g><g class=\"g-ytitle\" transform=\"translate(23.9033203125,0)\"><text class=\"ytitle\" transform=\"rotate(-90,-12.899999999999999,43.05)\" x=\"-12.899999999999999\" y=\"43.05\" text-anchor=\"middle\" style=\"font-family: Arial; font-size: 12px; fill: rgb(36, 36, 36); opacity: 1; font-weight: normal; white-space: pre;\">Baseline</text></g><g class=\"g-y2title\" transform=\"translate(23.912109375,0)\"><text class=\"y2title\" transform=\"rotate(-90,-12.899999999999999,124.95)\" x=\"-12.899999999999999\" y=\"124.95\" text-anchor=\"middle\" style=\"font-family: Arial; font-size: 12px; fill: rgb(36, 36, 36); opacity: 1; font-weight: normal; white-space: pre;\">ProxyFutures</text></g><g class=\"annotation\" data-index=\"0\" style=\"opacity: 1;\"><g class=\"annotation-text-g\" transform=\"rotate(0,43.519999999999996,70)\"><g class=\"cursor-pointer\" transform=\"translate(39,63)\"><rect class=\"bg\" x=\"0.5\" y=\"0.5\" width=\"9\" height=\"14\" style=\"stroke-width: 1px; stroke: rgb(0, 0, 0); stroke-opacity: 0; fill: rgb(0, 0, 0); fill-opacity: 0;\"/><text class=\"annotation-text\" text-anchor=\"start\" x=\"2\" y=\"11\" style=\"font-family: Arial; font-size: 10px; fill: rgb(255, 255, 255); fill-opacity: 1; white-space: pre;\">1</text></g></g></g><g class=\"annotation\" data-index=\"1\" style=\"opacity: 1;\"><g class=\"annotation-text-g\" transform=\"rotate(0,41.06,56.52)\"><g class=\"cursor-pointer\" transform=\"translate(36,49)\"><rect class=\"bg\" x=\"0.5\" y=\"0.5\" width=\"9\" height=\"14\" style=\"stroke-width: 1px; stroke: rgb(0, 0, 0); stroke-opacity: 0; fill: rgb(0, 0, 0); fill-opacity: 0;\"/><text class=\"annotation-text\" text-anchor=\"start\" x=\"2\" y=\"11\" style=\"font-family: Arial; font-size: 10px; fill: rgb(255, 255, 255); fill-opacity: 1; white-space: pre;\">2</text></g></g></g><g class=\"annotation\" data-index=\"2\" style=\"opacity: 1;\"><g class=\"annotation-text-g\" transform=\"rotate(0,58.71,43.05)\"><g class=\"cursor-pointer\" transform=\"translate(54,36)\"><rect class=\"bg\" x=\"0.5\" y=\"0.5\" width=\"9\" height=\"14\" style=\"stroke-width: 1px; stroke: rgb(0, 0, 0); stroke-opacity: 0; fill: rgb(0, 0, 0); fill-opacity: 0;\"/><text class=\"annotation-text\" text-anchor=\"start\" x=\"2\" y=\"11\" style=\"font-family: Arial; font-size: 10px; fill: rgb(255, 255, 255); fill-opacity: 1; white-space: pre;\">3</text></g></g></g><g class=\"annotation\" data-index=\"3\" style=\"opacity: 1;\"><g class=\"annotation-text-g\" transform=\"rotate(0,217.16,29.58)\"><g class=\"cursor-pointer\" transform=\"translate(212,22)\"><rect class=\"bg\" x=\"0.5\" y=\"0.5\" width=\"9\" height=\"14\" style=\"stroke-width: 1px; stroke: rgb(0, 0, 0); stroke-opacity: 0; fill: rgb(0, 0, 0); fill-opacity: 0;\"/><text class=\"annotation-text\" text-anchor=\"start\" x=\"2\" y=\"11\" style=\"font-family: Arial; font-size: 10px; fill: rgb(255, 255, 255); fill-opacity: 1; white-space: pre;\">4</text></g></g></g><g class=\"annotation\" data-index=\"4\" style=\"opacity: 1;\"><g class=\"annotation-text-g\" transform=\"rotate(0,225.45,16.1)\"><g class=\"cursor-pointer\" transform=\"translate(220,9)\"><rect class=\"bg\" x=\"0.5\" y=\"0.5\" width=\"9\" height=\"14\" style=\"stroke-width: 1px; stroke: rgb(0, 0, 0); stroke-opacity: 0; fill: rgb(0, 0, 0); fill-opacity: 0;\"/><text class=\"annotation-text\" text-anchor=\"start\" x=\"2\" y=\"11\" style=\"font-family: Arial; font-size: 10px; fill: rgb(255, 255, 255); fill-opacity: 1; white-space: pre;\">5</text></g></g></g><g class=\"annotation\" data-index=\"5\" style=\"opacity: 1;\"><g class=\"annotation-text-g\" transform=\"rotate(0,43.41,151.9)\"><g class=\"cursor-pointer\" transform=\"translate(38,144)\"><rect class=\"bg\" x=\"0.5\" y=\"0.5\" width=\"9\" height=\"14\" style=\"stroke-width: 1px; stroke: rgb(0, 0, 0); stroke-opacity: 0; fill: rgb(0, 0, 0); fill-opacity: 0;\"/><text class=\"annotation-text\" text-anchor=\"start\" x=\"2\" y=\"11\" style=\"font-family: Arial; font-size: 10px; fill: rgb(255, 255, 255); fill-opacity: 1; white-space: pre;\">1</text></g></g></g><g class=\"annotation\" data-index=\"6\" style=\"opacity: 1;\"><g class=\"annotation-text-g\" transform=\"rotate(0,41.06,138.42000000000002)\"><g class=\"cursor-pointer\" transform=\"translate(36,131)\"><rect class=\"bg\" x=\"0.5\" y=\"0.5\" width=\"9\" height=\"14\" style=\"stroke-width: 1px; stroke: rgb(0, 0, 0); stroke-opacity: 0; fill: rgb(0, 0, 0); fill-opacity: 0;\"/><text class=\"annotation-text\" text-anchor=\"start\" x=\"2\" y=\"11\" style=\"font-family: Arial; font-size: 10px; fill: rgb(255, 255, 255); fill-opacity: 1; white-space: pre;\">2</text></g></g></g><g class=\"annotation\" data-index=\"7\" style=\"opacity: 1;\"><g class=\"annotation-text-g\" transform=\"rotate(0,44.1,124.95)\"><g class=\"cursor-pointer\" transform=\"translate(39,117)\"><rect class=\"bg\" x=\"0.5\" y=\"0.5\" width=\"9\" height=\"14\" style=\"stroke-width: 1px; stroke: rgb(0, 0, 0); stroke-opacity: 0; fill: rgb(0, 0, 0); fill-opacity: 0;\"/><text class=\"annotation-text\" text-anchor=\"start\" x=\"2\" y=\"11\" style=\"font-family: Arial; font-size: 10px; fill: rgb(255, 255, 255); fill-opacity: 1; white-space: pre;\">3</text></g></g></g><g class=\"annotation\" data-index=\"8\" style=\"opacity: 1;\"><g class=\"annotation-text-g\" transform=\"rotate(0,131.85,111.48)\"><g class=\"cursor-pointer\" transform=\"translate(127,104)\"><rect class=\"bg\" x=\"0.5\" y=\"0.5\" width=\"9\" height=\"14\" style=\"stroke-width: 1px; stroke: rgb(0, 0, 0); stroke-opacity: 0; fill: rgb(0, 0, 0); fill-opacity: 0;\"/><text class=\"annotation-text\" text-anchor=\"start\" x=\"2\" y=\"11\" style=\"font-family: Arial; font-size: 10px; fill: rgb(255, 255, 255); fill-opacity: 1; white-space: pre;\">4</text></g></g></g><g class=\"annotation\" data-index=\"9\" style=\"opacity: 1;\"><g class=\"annotation-text-g\" transform=\"rotate(0,139.28,98)\"><g class=\"cursor-pointer\" transform=\"translate(134,91)\"><rect class=\"bg\" x=\"0.5\" y=\"0.5\" width=\"9\" height=\"14\" style=\"stroke-width: 1px; stroke: rgb(0, 0, 0); stroke-opacity: 0; fill: rgb(0, 0, 0); fill-opacity: 0;\"/><text class=\"annotation-text\" text-anchor=\"start\" x=\"2\" y=\"11\" style=\"font-family: Arial; font-size: 10px; fill: rgb(255, 255, 255); fill-opacity: 1; white-space: pre;\">5</text></g></g></g></g></svg>"
      ]
     },
     "metadata": {},
     "output_type": "display_data"
    }
   ],
   "source": [
    "raw_data = load_data('../data/chameleon/3-1000genomes-1percent.csv')\n",
    "data = merge_stages(raw_data)\n",
    "print(get_deltas(data))\n",
    "\n",
    "layout = dict(width=500, height=200, margin=dict(l=5, r=5, t=5, b=5))\n",
    "fig = make_gantt(data, layout=layout)\n",
    "fig.show(renderer='svg')"
   ]
  },
  {
   "cell_type": "markdown",
   "id": "65e048b7-a804-4359-ae1f-4eee03f708b7",
   "metadata": {},
   "source": [
    "## Chameleon (10%)"
   ]
  },
  {
   "cell_type": "code",
   "execution_count": 207,
   "id": "dbbe5bb3-f952-4b0b-94b0-c69faf0d2ad5",
   "metadata": {},
   "outputs": [
    {
     "name": "stdout",
     "output_type": "stream",
     "text": [
      "Baseline runtime: 1896.70 s\n",
      "ProxyFutures runtime: 1253.94 s\n",
      "shape: (5, 5)\n",
      "┌─────────┬─────────────┬──────────────┬────────────┬────────────┐\n",
      "│ Stage   ┆ Baseline    ┆ ProxyFutures ┆ Delta (s)  ┆ Delta (%)  │\n",
      "│ ---     ┆ ---         ┆ ---          ┆ ---        ┆ ---        │\n",
      "│ str     ┆ f64         ┆ f64          ┆ f64        ┆ f64        │\n",
      "╞═════════╪═════════════╪══════════════╪════════════╪════════════╡\n",
      "│ Stage 1 ┆ 1610.048221 ┆ 915.00193    ┆ 695.046291 ┆ 43.169284  │\n",
      "│ Stage 2 ┆ 1614.498646 ┆ 915.506052   ┆ 698.992594 ┆ 43.294715  │\n",
      "│ Stage 3 ┆ 1469.281431 ┆ 796.692284   ┆ 672.589147 ┆ 45.77674   │\n",
      "│ Stage 4 ┆ 232.50221   ┆ 299.987832   ┆ -67.485622 ┆ -29.025798 │\n",
      "│ Stage 5 ┆ 257.704743  ┆ 325.417199   ┆ -67.712456 ┆ -26.275207 │\n",
      "└─────────┴─────────────┴──────────────┴────────────┴────────────┘\n"
     ]
    },
    {
     "data": {
      "image/svg+xml": [
       "<svg class=\"main-svg\" xmlns=\"http://www.w3.org/2000/svg\" xmlns:xlink=\"http://www.w3.org/1999/xlink\" width=\"500\" height=\"200\" style=\"\" viewBox=\"0 0 500 200\"><rect x=\"0\" y=\"0\" width=\"500\" height=\"200\" style=\"fill: rgb(255, 255, 255); fill-opacity: 1;\"/><defs id=\"defs-d884c6\"><g class=\"clips\"><clipPath id=\"clipd884c6xyplot\" class=\"plotclip\"><rect width=\"384\" height=\"74.1\"/></clipPath><clipPath id=\"clipd884c6x2y2plot\" class=\"plotclip\"><rect width=\"384\" height=\"74.1\"/></clipPath><clipPath class=\"axesclip\" id=\"clipd884c6x\"><rect x=\"18\" y=\"0\" width=\"384\" height=\"200\"/></clipPath><clipPath class=\"axesclip\" id=\"clipd884c6y\"><rect x=\"0\" y=\"6\" width=\"500\" height=\"74.1\"/></clipPath><clipPath class=\"axesclip\" id=\"clipd884c6xy\"><rect x=\"18\" y=\"6\" width=\"384\" height=\"74.1\"/></clipPath><clipPath class=\"axesclip\" id=\"clipd884c6y2\"><rect x=\"0\" y=\"87.9\" width=\"500\" height=\"74.1\"/></clipPath><clipPath class=\"axesclip\" id=\"clipd884c6xy2\"><rect x=\"18\" y=\"87.9\" width=\"384\" height=\"74.1\"/></clipPath><clipPath class=\"axesclip\" id=\"clipd884c6x2\"><rect x=\"18\" y=\"0\" width=\"384\" height=\"200\"/></clipPath><clipPath class=\"axesclip\" id=\"clipd884c6x2y\"><rect x=\"18\" y=\"6\" width=\"384\" height=\"74.1\"/></clipPath><clipPath class=\"axesclip\" id=\"clipd884c6x2y2\"><rect x=\"18\" y=\"87.9\" width=\"384\" height=\"74.1\"/></clipPath></g><g class=\"gradients\"/><g class=\"patterns\"/></defs><g class=\"bglayer\"/><g class=\"layer-below\"><g class=\"imagelayer\"/><g class=\"shapelayer\"/></g><g class=\"cartesianlayer\"><g class=\"subplot xy\"><g class=\"layer-subplot\"><g class=\"shapelayer\"/><g class=\"imagelayer\"/></g><g class=\"minor-gridlayer\"><g class=\"x\"/><g class=\"y\"/></g><g class=\"gridlayer\"><g class=\"x\"><path class=\"xgrid crisp\" transform=\"translate(119.22,0)\" d=\"M0,6v74.1\" style=\"stroke: rgb(224, 224, 224); stroke-opacity: 1; stroke-width: 1px;\"/><path class=\"xgrid crisp\" transform=\"translate(220.45,0)\" d=\"M0,6v74.1\" style=\"stroke: rgb(224, 224, 224); stroke-opacity: 1; stroke-width: 1px;\"/><path class=\"xgrid crisp\" transform=\"translate(321.67,0)\" d=\"M0,6v74.1\" style=\"stroke: rgb(224, 224, 224); stroke-opacity: 1; stroke-width: 1px;\"/></g><g class=\"y\"><path class=\"ygrid crisp\" transform=\"translate(0,70)\" d=\"M18,0h384\" style=\"stroke: rgb(224, 224, 224); stroke-opacity: 1; stroke-width: 1px;\"/><path class=\"ygrid crisp\" transform=\"translate(0,43.05)\" d=\"M18,0h384\" style=\"stroke: rgb(224, 224, 224); stroke-opacity: 1; stroke-width: 1px;\"/><path class=\"ygrid crisp\" transform=\"translate(0,16.1)\" d=\"M18,0h384\" style=\"stroke: rgb(224, 224, 224); stroke-opacity: 1; stroke-width: 1px;\"/></g></g><g class=\"zerolinelayer\"/><path class=\"xlines-below\"/><path class=\"ylines-below\"/><g class=\"overlines-below\"/><g class=\"xaxislayer-below\"/><g class=\"yaxislayer-below\"/><g class=\"overaxes-below\"/><g class=\"plot\" transform=\"translate(18,6)\" clip-path=\"url(#clipd884c6xyplot)\"><g class=\"scatterlayer mlayer\"><g class=\"trace scatter trace0d0a84\" style=\"stroke-miterlimit: 2; opacity: 1;\"><g class=\"fills\"><g><path class=\"js-fill\" d=\"M0.73,70.39L326.67,70.39L326.67,57.6L0.73,57.6Z\" style=\"fill: rgb(127, 60, 141); fill-opacity: 1; stroke-width: 0;\"/></g></g><g class=\"errorbars\"/><g class=\"lines\"/><g class=\"points\"/><g class=\"text\"/></g><g class=\"trace scatter trace59b97b\" style=\"stroke-miterlimit: 2; opacity: 1;\"><g class=\"fills\"><g><path class=\"js-fill\" d=\"M31.54,43.45L328.99,43.45L328.99,30.65L31.54,30.65Z\" style=\"fill: rgb(17, 165, 121); fill-opacity: 1; stroke-width: 0;\"/></g></g><g class=\"errorbars\"/><g class=\"lines\"/><g class=\"points\"/><g class=\"text\"/></g><g class=\"trace scatter trace2d913f\" style=\"stroke-miterlimit: 2; opacity: 1;\"><g class=\"fills\"><g><path class=\"js-fill\" d=\"M0,56.92L326.85,56.92L326.85,44.12L0,44.12Z\" style=\"fill: rgb(231, 63, 116); fill-opacity: 1; stroke-width: 0;\"/></g></g><g class=\"errorbars\"/><g class=\"lines\"/><g class=\"points\"/><g class=\"text\"/></g><g class=\"trace scatter tracef5535f\" style=\"stroke-miterlimit: 2; opacity: 1;\"><g class=\"fills\"><g><path class=\"js-fill\" d=\"M331.81,16.5L383.98,16.5L383.98,3.71L331.81,3.71Z\" style=\"fill: rgb(242, 183, 1); fill-opacity: 1; stroke-width: 0;\"/></g></g><g class=\"errorbars\"/><g class=\"lines\"/><g class=\"points\"/><g class=\"text\"/></g><g class=\"trace scatter trace38b611\" style=\"stroke-miterlimit: 2; opacity: 1;\"><g class=\"fills\"><g><path class=\"js-fill\" d=\"M329.8,29.98L376.87,29.98L376.87,17.18L329.8,17.18Z\" style=\"fill: rgb(57, 105, 172); fill-opacity: 1; stroke-width: 0;\"/></g></g><g class=\"errorbars\"/><g class=\"lines\"/><g class=\"points\"/><g class=\"text\"/></g><g class=\"trace scatter trace4e7f76\" style=\"stroke-miterlimit: 2; opacity: 1;\"><g class=\"fills\"/><g class=\"errorbars\"/><g class=\"lines\"/><g class=\"points\"><path class=\"point\" transform=\"translate(0.73,64)\" d=\"M0.5,0A0.5,0.5 0 1,1 0,-0.5A0.5,0.5 0 0,1 0.5,0Z\" style=\"opacity: 0; stroke-width: 0px; fill: rgb(127, 60, 141); fill-opacity: 1;\"/><path class=\"point\" transform=\"translate(326.67,64)\" d=\"M0.5,0A0.5,0.5 0 1,1 0,-0.5A0.5,0.5 0 0,1 0.5,0Z\" style=\"opacity: 0; stroke-width: 0px; fill: rgb(127, 60, 141); fill-opacity: 1;\"/></g><g class=\"text\"/></g><g class=\"trace scatter trace140519\" style=\"stroke-miterlimit: 2; opacity: 1;\"><g class=\"fills\"/><g class=\"errorbars\"/><g class=\"lines\"/><g class=\"points\"><path class=\"point\" transform=\"translate(31.54,37.05)\" d=\"M0.5,0A0.5,0.5 0 1,1 0,-0.5A0.5,0.5 0 0,1 0.5,0Z\" style=\"opacity: 0; stroke-width: 0px; fill: rgb(17, 165, 121); fill-opacity: 1;\"/><path class=\"point\" transform=\"translate(328.99,37.05)\" d=\"M0.5,0A0.5,0.5 0 1,1 0,-0.5A0.5,0.5 0 0,1 0.5,0Z\" style=\"opacity: 0; stroke-width: 0px; fill: rgb(17, 165, 121); fill-opacity: 1;\"/></g><g class=\"text\"/></g><g class=\"trace scatter traceb9370e\" style=\"stroke-miterlimit: 2; opacity: 1;\"><g class=\"fills\"/><g class=\"errorbars\"/><g class=\"lines\"/><g class=\"points\"><path class=\"point\" transform=\"translate(0,50.52)\" d=\"M0.5,0A0.5,0.5 0 1,1 0,-0.5A0.5,0.5 0 0,1 0.5,0Z\" style=\"opacity: 0; stroke-width: 0px; fill: rgb(231, 63, 116); fill-opacity: 1;\"/><path class=\"point\" transform=\"translate(326.85,50.52)\" d=\"M0.5,0A0.5,0.5 0 1,1 0,-0.5A0.5,0.5 0 0,1 0.5,0Z\" style=\"opacity: 0; stroke-width: 0px; fill: rgb(231, 63, 116); fill-opacity: 1;\"/></g><g class=\"text\"/></g><g class=\"trace scatter traceaef9e5\" style=\"stroke-miterlimit: 2; opacity: 1;\"><g class=\"fills\"/><g class=\"errorbars\"/><g class=\"lines\"/><g class=\"points\"><path class=\"point\" transform=\"translate(331.81,10.1)\" d=\"M0.5,0A0.5,0.5 0 1,1 0,-0.5A0.5,0.5 0 0,1 0.5,0Z\" style=\"opacity: 0; stroke-width: 0px; fill: rgb(242, 183, 1); fill-opacity: 1;\"/><path class=\"point\" transform=\"translate(383.98,10.1)\" d=\"M0.5,0A0.5,0.5 0 1,1 0,-0.5A0.5,0.5 0 0,1 0.5,0Z\" style=\"opacity: 0; stroke-width: 0px; fill: rgb(242, 183, 1); fill-opacity: 1;\"/></g><g class=\"text\"/></g><g class=\"trace scatter traceb62197\" style=\"stroke-miterlimit: 2; opacity: 1;\"><g class=\"fills\"/><g class=\"errorbars\"/><g class=\"lines\"/><g class=\"points\"><path class=\"point\" transform=\"translate(329.8,23.58)\" d=\"M0.5,0A0.5,0.5 0 1,1 0,-0.5A0.5,0.5 0 0,1 0.5,0Z\" style=\"opacity: 0; stroke-width: 0px; fill: rgb(57, 105, 172); fill-opacity: 1;\"/><path class=\"point\" transform=\"translate(376.87,23.58)\" d=\"M0.5,0A0.5,0.5 0 1,1 0,-0.5A0.5,0.5 0 0,1 0.5,0Z\" style=\"opacity: 0; stroke-width: 0px; fill: rgb(57, 105, 172); fill-opacity: 1;\"/></g><g class=\"text\"/></g></g></g><g class=\"overplot\"/><path class=\"xlines-above crisp\" d=\"M17,80.6H403M17,5.5H403\" style=\"fill: none; stroke-width: 1px; stroke: rgb(97, 97, 97); stroke-opacity: 1;\"/><path class=\"ylines-above crisp\" d=\"M17.5,6V80.1M402.5,6V80.1\" style=\"fill: none; stroke-width: 1px; stroke: rgb(97, 97, 97); stroke-opacity: 1;\"/><g class=\"overlines-above\"/><g class=\"xaxislayer-above\"><path class=\"xtick ticks crisp\" d=\"M0,81.1v5\" transform=\"translate(18,0)\" style=\"stroke: rgb(68, 68, 68); stroke-opacity: 1; stroke-width: 1px;\"/><path class=\"xtick ticks crisp\" d=\"M0,81.1v5\" transform=\"translate(119.22,0)\" style=\"stroke: rgb(68, 68, 68); stroke-opacity: 1; stroke-width: 1px;\"/><path class=\"xtick ticks crisp\" d=\"M0,81.1v5\" transform=\"translate(220.45,0)\" style=\"stroke: rgb(68, 68, 68); stroke-opacity: 1; stroke-width: 1px;\"/><path class=\"xtick ticks crisp\" d=\"M0,81.1v5\" transform=\"translate(321.67,0)\" style=\"stroke: rgb(68, 68, 68); stroke-opacity: 1; stroke-width: 1px;\"/></g><g class=\"yaxislayer-above\"/><g class=\"overaxes-above\"/></g><g class=\"subplot x2y2\"><g class=\"layer-subplot\"><g class=\"shapelayer\"/><g class=\"imagelayer\"/></g><g class=\"minor-gridlayer\"><g class=\"x2\"/><g class=\"y2\"/></g><g class=\"gridlayer\"><g class=\"x2\"><path class=\"x2grid crisp\" transform=\"translate(119.22,0)\" d=\"M0,87.9v74.1\" style=\"stroke: rgb(224, 224, 224); stroke-opacity: 1; stroke-width: 1px;\"/><path class=\"x2grid crisp\" transform=\"translate(220.45,0)\" d=\"M0,87.9v74.1\" style=\"stroke: rgb(224, 224, 224); stroke-opacity: 1; stroke-width: 1px;\"/><path class=\"x2grid crisp\" transform=\"translate(321.67,0)\" d=\"M0,87.9v74.1\" style=\"stroke: rgb(224, 224, 224); stroke-opacity: 1; stroke-width: 1px;\"/></g><g class=\"y2\"><path class=\"y2grid crisp\" transform=\"translate(0,151.9)\" d=\"M18,0h384\" style=\"stroke: rgb(224, 224, 224); stroke-opacity: 1; stroke-width: 1px;\"/><path class=\"y2grid crisp\" transform=\"translate(0,124.95)\" d=\"M18,0h384\" style=\"stroke: rgb(224, 224, 224); stroke-opacity: 1; stroke-width: 1px;\"/><path class=\"y2grid crisp\" transform=\"translate(0,98)\" d=\"M18,0h384\" style=\"stroke: rgb(224, 224, 224); stroke-opacity: 1; stroke-width: 1px;\"/></g></g><g class=\"zerolinelayer\"/><path class=\"xlines-below\"/><path class=\"ylines-below\"/><g class=\"overlines-below\"/><g class=\"xaxislayer-below\"/><g class=\"yaxislayer-below\"/><g class=\"overaxes-below\"/><g class=\"plot\" transform=\"translate(18,87.9)\" clip-path=\"url(#clipd884c6x2y2plot)\"><g class=\"scatterlayer mlayer\"><g class=\"trace scatter trace3fb890\" style=\"stroke-miterlimit: 2; opacity: 1;\"><g class=\"fills\"><g><path class=\"js-fill\" d=\"M0.1,70.39L185.34,70.39L185.34,57.6L0.1,57.6Z\" style=\"fill: rgb(127, 60, 141); fill-opacity: 1; stroke-width: 0;\"/></g></g><g class=\"errorbars\"/><g class=\"lines\"/><g class=\"points\"/><g class=\"text\"/></g><g class=\"trace scatter trace26b788\" style=\"stroke-miterlimit: 2; opacity: 1;\"><g class=\"fills\"><g><path class=\"js-fill\" d=\"M0.67,43.45L161.96,43.45L161.96,30.65L0.67,30.65Z\" style=\"fill: rgb(17, 165, 121); fill-opacity: 1; stroke-width: 0;\"/></g></g><g class=\"errorbars\"/><g class=\"lines\"/><g class=\"points\"/><g class=\"text\"/></g><g class=\"trace scatter traceb0cbc7\" style=\"stroke-miterlimit: 2; opacity: 1;\"><g class=\"fills\"><g><path class=\"js-fill\" d=\"M0,56.92L185.34,56.92L185.34,44.12L0,44.12Z\" style=\"fill: rgb(231, 63, 116); fill-opacity: 1; stroke-width: 0;\"/></g></g><g class=\"errorbars\"/><g class=\"lines\"/><g class=\"points\"/><g class=\"text\"/></g><g class=\"trace scatter traceed3ff6\" style=\"stroke-miterlimit: 2; opacity: 1;\"><g class=\"fills\"><g><path class=\"js-fill\" d=\"M187.98,16.5L253.86,16.5L253.86,3.71L187.98,3.71Z\" style=\"fill: rgb(242, 183, 1); fill-opacity: 1; stroke-width: 0;\"/></g></g><g class=\"errorbars\"/><g class=\"lines\"/><g class=\"points\"/><g class=\"text\"/></g><g class=\"trace scatter traceae536a\" style=\"stroke-miterlimit: 2; opacity: 1;\"><g class=\"fills\"><g><path class=\"js-fill\" d=\"M186.09,29.98L246.82,29.98L246.82,17.18L186.09,17.18Z\" style=\"fill: rgb(57, 105, 172); fill-opacity: 1; stroke-width: 0;\"/></g></g><g class=\"errorbars\"/><g class=\"lines\"/><g class=\"points\"/><g class=\"text\"/></g><g class=\"trace scatter trace7f2f9b\" style=\"stroke-miterlimit: 2; opacity: 1;\"><g class=\"fills\"/><g class=\"errorbars\"/><g class=\"lines\"/><g class=\"points\"><path class=\"point\" transform=\"translate(0.1,64)\" d=\"M0.5,0A0.5,0.5 0 1,1 0,-0.5A0.5,0.5 0 0,1 0.5,0Z\" style=\"opacity: 0; stroke-width: 0px; fill: rgb(127, 60, 141); fill-opacity: 1;\"/><path class=\"point\" transform=\"translate(185.34,64)\" d=\"M0.5,0A0.5,0.5 0 1,1 0,-0.5A0.5,0.5 0 0,1 0.5,0Z\" style=\"opacity: 0; stroke-width: 0px; fill: rgb(127, 60, 141); fill-opacity: 1;\"/></g><g class=\"text\"/></g><g class=\"trace scatter trace0c271f\" style=\"stroke-miterlimit: 2; opacity: 1;\"><g class=\"fills\"/><g class=\"errorbars\"/><g class=\"lines\"/><g class=\"points\"><path class=\"point\" transform=\"translate(0.67,37.05)\" d=\"M0.5,0A0.5,0.5 0 1,1 0,-0.5A0.5,0.5 0 0,1 0.5,0Z\" style=\"opacity: 0; stroke-width: 0px; fill: rgb(17, 165, 121); fill-opacity: 1;\"/><path class=\"point\" transform=\"translate(161.96,37.05)\" d=\"M0.5,0A0.5,0.5 0 1,1 0,-0.5A0.5,0.5 0 0,1 0.5,0Z\" style=\"opacity: 0; stroke-width: 0px; fill: rgb(17, 165, 121); fill-opacity: 1;\"/></g><g class=\"text\"/></g><g class=\"trace scatter trace1d2b97\" style=\"stroke-miterlimit: 2; opacity: 1;\"><g class=\"fills\"/><g class=\"errorbars\"/><g class=\"lines\"/><g class=\"points\"><path class=\"point\" transform=\"translate(0,50.52)\" d=\"M0.5,0A0.5,0.5 0 1,1 0,-0.5A0.5,0.5 0 0,1 0.5,0Z\" style=\"opacity: 0; stroke-width: 0px; fill: rgb(231, 63, 116); fill-opacity: 1;\"/><path class=\"point\" transform=\"translate(185.34,50.52)\" d=\"M0.5,0A0.5,0.5 0 1,1 0,-0.5A0.5,0.5 0 0,1 0.5,0Z\" style=\"opacity: 0; stroke-width: 0px; fill: rgb(231, 63, 116); fill-opacity: 1;\"/></g><g class=\"text\"/></g><g class=\"trace scatter trace56c445\" style=\"stroke-miterlimit: 2; opacity: 1;\"><g class=\"fills\"/><g class=\"errorbars\"/><g class=\"lines\"/><g class=\"points\"><path class=\"point\" transform=\"translate(187.98,10.1)\" d=\"M0.5,0A0.5,0.5 0 1,1 0,-0.5A0.5,0.5 0 0,1 0.5,0Z\" style=\"opacity: 0; stroke-width: 0px; fill: rgb(242, 183, 1); fill-opacity: 1;\"/><path class=\"point\" transform=\"translate(253.86,10.1)\" d=\"M0.5,0A0.5,0.5 0 1,1 0,-0.5A0.5,0.5 0 0,1 0.5,0Z\" style=\"opacity: 0; stroke-width: 0px; fill: rgb(242, 183, 1); fill-opacity: 1;\"/></g><g class=\"text\"/></g><g class=\"trace scatter trace610b7c\" style=\"stroke-miterlimit: 2; opacity: 1;\"><g class=\"fills\"/><g class=\"errorbars\"/><g class=\"lines\"/><g class=\"points\"><path class=\"point\" transform=\"translate(186.09,23.58)\" d=\"M0.5,0A0.5,0.5 0 1,1 0,-0.5A0.5,0.5 0 0,1 0.5,0Z\" style=\"opacity: 0; stroke-width: 0px; fill: rgb(57, 105, 172); fill-opacity: 1;\"/><path class=\"point\" transform=\"translate(246.82,23.58)\" d=\"M0.5,0A0.5,0.5 0 1,1 0,-0.5A0.5,0.5 0 0,1 0.5,0Z\" style=\"opacity: 0; stroke-width: 0px; fill: rgb(57, 105, 172); fill-opacity: 1;\"/></g><g class=\"text\"/></g></g></g><g class=\"overplot\"/><path class=\"xlines-above crisp\" d=\"M17,162.5H403M17,87.4H403\" style=\"fill: none; stroke-width: 1px; stroke: rgb(97, 97, 97); stroke-opacity: 1;\"/><path class=\"ylines-above crisp\" d=\"M17.5,87.9V162M402.5,87.9V162\" style=\"fill: none; stroke-width: 1px; stroke: rgb(97, 97, 97); stroke-opacity: 1;\"/><g class=\"overlines-above\"/><g class=\"xaxislayer-above\"><path class=\"x2tick ticks crisp\" d=\"M0,163v5\" transform=\"translate(18,0)\" style=\"stroke: rgb(68, 68, 68); stroke-opacity: 1; stroke-width: 1px;\"/><path class=\"x2tick ticks crisp\" d=\"M0,163v5\" transform=\"translate(119.22,0)\" style=\"stroke: rgb(68, 68, 68); stroke-opacity: 1; stroke-width: 1px;\"/><path class=\"x2tick ticks crisp\" d=\"M0,163v5\" transform=\"translate(220.45,0)\" style=\"stroke: rgb(68, 68, 68); stroke-opacity: 1; stroke-width: 1px;\"/><path class=\"x2tick ticks crisp\" d=\"M0,163v5\" transform=\"translate(321.67,0)\" style=\"stroke: rgb(68, 68, 68); stroke-opacity: 1; stroke-width: 1px;\"/><g class=\"x2tick\"><text text-anchor=\"middle\" x=\"0\" y=\"180\" transform=\"translate(18,0)\" style=\"font-family: Arial; font-size: 10px; fill: rgb(36, 36, 36); fill-opacity: 1; white-space: pre; opacity: 1;\">0</text></g><g class=\"x2tick\"><text text-anchor=\"middle\" x=\"0\" y=\"180\" style=\"font-family: Arial; font-size: 10px; fill: rgb(36, 36, 36); fill-opacity: 1; white-space: pre; opacity: 1;\" transform=\"translate(119.22,0)\">500</text></g><g class=\"x2tick\"><text text-anchor=\"middle\" x=\"0\" y=\"180\" style=\"font-family: Arial; font-size: 10px; fill: rgb(36, 36, 36); fill-opacity: 1; white-space: pre; opacity: 1;\" transform=\"translate(220.45,0)\">1000</text></g><g class=\"x2tick\"><text text-anchor=\"middle\" x=\"0\" y=\"180\" style=\"font-family: Arial; font-size: 10px; fill: rgb(36, 36, 36); fill-opacity: 1; white-space: pre; opacity: 1;\" transform=\"translate(321.67,0)\">1500</text></g></g><g class=\"yaxislayer-above\"/><g class=\"overaxes-above\"/></g></g><g class=\"polarlayer\"/><g class=\"smithlayer\"/><g class=\"ternarylayer\"/><g class=\"geolayer\"/><g class=\"funnelarealayer\"/><g class=\"pielayer\"/><g class=\"iciclelayer\"/><g class=\"treemaplayer\"/><g class=\"sunburstlayer\"/><g class=\"glimages\"/><defs id=\"topdefs-d884c6\"><g class=\"clips\"/><clipPath id=\"legendd884c6\"><rect width=\"87\" height=\"109\" x=\"1\" y=\"1\"/></clipPath></defs><g class=\"layer-above\"><g class=\"imagelayer\"/><g class=\"shapelayer\"/></g><g class=\"infolayer\"><g class=\"legend\" pointer-events=\"all\" transform=\"translate(405.84000000000003,29.400000000000002)\"><rect class=\"bg\" shape-rendering=\"crispEdges\" width=\"88\" height=\"110\" x=\"0.5\" y=\"0.5\" style=\"stroke: rgb(224, 224, 224); stroke-opacity: 1; fill: rgb(255, 255, 255); fill-opacity: 1; stroke-width: 1px;\"/><g class=\"scrollbox\" transform=\"\" clip-path=\"url(#legendd884c6)\"><g class=\"groups\" transform=\"\"><g class=\"traces\" transform=\"translate(1,15.5)\" style=\"opacity: 1;\"><text class=\"legendtext\" text-anchor=\"start\" x=\"40\" y=\"4.680000000000001\" style=\"font-family: Arial; font-size: 12px; fill: rgb(36, 36, 36); fill-opacity: 1; white-space: pre;\">Stage 1</text><g class=\"layers\" style=\"opacity: 1;\"><g class=\"legendfill\"><path class=\"js-fill\" d=\"M5,-3h30v6h-30z\" style=\"stroke-width: 0; fill: rgb(127, 60, 141); fill-opacity: 1;\"/></g><g class=\"legendlines\"/><g class=\"legendsymbols\"><g class=\"legendpoints\"/></g></g><rect class=\"legendtoggle\" x=\"0\" y=\"-9.5\" width=\"81.375\" height=\"19\" style=\"fill: rgb(0, 0, 0); fill-opacity: 0;\"/></g></g><g class=\"groups\" transform=\"translate(0,1)\"><g class=\"traces\" transform=\"translate(1,34.5)\" style=\"opacity: 1;\"><text class=\"legendtext\" text-anchor=\"start\" x=\"40\" y=\"4.680000000000001\" style=\"font-family: Arial; font-size: 12px; fill: rgb(36, 36, 36); fill-opacity: 1; white-space: pre;\">Stage 3</text><g class=\"layers\" style=\"opacity: 1;\"><g class=\"legendfill\"><path class=\"js-fill\" d=\"M5,-3h30v6h-30z\" style=\"stroke-width: 0; fill: rgb(17, 165, 121); fill-opacity: 1;\"/></g><g class=\"legendlines\"/><g class=\"legendsymbols\"><g class=\"legendpoints\"/></g></g><rect class=\"legendtoggle\" x=\"0\" y=\"-9.5\" width=\"81.375\" height=\"19\" style=\"fill: rgb(0, 0, 0); fill-opacity: 0;\"/></g></g><g class=\"groups\" transform=\"translate(0,2)\"><g class=\"traces\" transform=\"translate(1,53.5)\" style=\"opacity: 1;\"><text class=\"legendtext\" text-anchor=\"start\" x=\"40\" y=\"4.680000000000001\" style=\"font-family: Arial; font-size: 12px; fill: rgb(36, 36, 36); fill-opacity: 1; white-space: pre;\">Stage 2</text><g class=\"layers\" style=\"opacity: 1;\"><g class=\"legendfill\"><path class=\"js-fill\" d=\"M5,-3h30v6h-30z\" style=\"stroke-width: 0; fill: rgb(231, 63, 116); fill-opacity: 1;\"/></g><g class=\"legendlines\"/><g class=\"legendsymbols\"><g class=\"legendpoints\"/></g></g><rect class=\"legendtoggle\" x=\"0\" y=\"-9.5\" width=\"81.375\" height=\"19\" style=\"fill: rgb(0, 0, 0); fill-opacity: 0;\"/></g></g><g class=\"groups\" transform=\"translate(0,3)\"><g class=\"traces\" transform=\"translate(1,72.5)\" style=\"opacity: 1;\"><text class=\"legendtext\" text-anchor=\"start\" x=\"40\" y=\"4.680000000000001\" style=\"font-family: Arial; font-size: 12px; fill: rgb(36, 36, 36); fill-opacity: 1; white-space: pre;\">Stage 5</text><g class=\"layers\" style=\"opacity: 1;\"><g class=\"legendfill\"><path class=\"js-fill\" d=\"M5,-3h30v6h-30z\" style=\"stroke-width: 0; fill: rgb(242, 183, 1); fill-opacity: 1;\"/></g><g class=\"legendlines\"/><g class=\"legendsymbols\"><g class=\"legendpoints\"/></g></g><rect class=\"legendtoggle\" x=\"0\" y=\"-9.5\" width=\"81.375\" height=\"19\" style=\"fill: rgb(0, 0, 0); fill-opacity: 0;\"/></g></g><g class=\"groups\" transform=\"translate(0,4)\"><g class=\"traces\" transform=\"translate(1,91.5)\" style=\"opacity: 1;\"><text class=\"legendtext\" text-anchor=\"start\" x=\"40\" y=\"4.680000000000001\" style=\"font-family: Arial; font-size: 12px; fill: rgb(36, 36, 36); fill-opacity: 1; white-space: pre;\">Stage 4</text><g class=\"layers\" style=\"opacity: 1;\"><g class=\"legendfill\"><path class=\"js-fill\" d=\"M5,-3h30v6h-30z\" style=\"stroke-width: 0; fill: rgb(57, 105, 172); fill-opacity: 1;\"/></g><g class=\"legendlines\"/><g class=\"legendsymbols\"><g class=\"legendpoints\"/></g></g><rect class=\"legendtoggle\" x=\"0\" y=\"-9.5\" width=\"81.375\" height=\"19\" style=\"fill: rgb(0, 0, 0); fill-opacity: 0;\"/></g></g></g><rect class=\"scrollbar\" rx=\"20\" ry=\"3\" width=\"0\" height=\"0\" x=\"0\" y=\"0\" style=\"fill: rgb(128, 139, 164); fill-opacity: 1;\"/></g><g class=\"g-gtitle\"/><g class=\"g-xtitle\"/><g class=\"g-x2title\"><text class=\"x2title\" x=\"210\" y=\"194.9\" text-anchor=\"middle\" style=\"font-family: Arial; font-size: 12px; fill: rgb(36, 36, 36); opacity: 1; font-weight: normal; white-space: pre;\">Runtime (s)</text></g><g class=\"g-ytitle\" transform=\"translate(23.9033203125,0)\"><text class=\"ytitle\" transform=\"rotate(-90,-12.899999999999999,43.05)\" x=\"-12.899999999999999\" y=\"43.05\" text-anchor=\"middle\" style=\"font-family: Arial; font-size: 12px; fill: rgb(36, 36, 36); opacity: 1; font-weight: normal; white-space: pre;\">Baseline</text></g><g class=\"g-y2title\" transform=\"translate(23.912109375,0)\"><text class=\"y2title\" transform=\"rotate(-90,-12.899999999999999,124.95)\" x=\"-12.899999999999999\" y=\"124.95\" text-anchor=\"middle\" style=\"font-family: Arial; font-size: 12px; fill: rgb(36, 36, 36); opacity: 1; font-weight: normal; white-space: pre;\">ProxyFutures</text></g><g class=\"annotation\" data-index=\"0\" style=\"opacity: 1;\"><g class=\"annotation-text-g\" transform=\"rotate(0,24.8,70)\"><g class=\"cursor-pointer\" transform=\"translate(20,63)\"><rect class=\"bg\" x=\"0.5\" y=\"0.5\" width=\"9\" height=\"14\" style=\"stroke-width: 1px; stroke: rgb(0, 0, 0); stroke-opacity: 0; fill: rgb(0, 0, 0); fill-opacity: 0;\"/><text class=\"annotation-text\" text-anchor=\"start\" x=\"2\" y=\"11\" style=\"font-family: Arial; font-size: 10px; fill: rgb(255, 255, 255); fill-opacity: 1; white-space: pre;\">1</text></g></g></g><g class=\"annotation\" data-index=\"1\" style=\"opacity: 1;\"><g class=\"annotation-text-g\" transform=\"rotate(0,24.07,56.52)\"><g class=\"cursor-pointer\" transform=\"translate(19,49)\"><rect class=\"bg\" x=\"0.5\" y=\"0.5\" width=\"9\" height=\"14\" style=\"stroke-width: 1px; stroke: rgb(0, 0, 0); stroke-opacity: 0; fill: rgb(0, 0, 0); fill-opacity: 0;\"/><text class=\"annotation-text\" text-anchor=\"start\" x=\"2\" y=\"11\" style=\"font-family: Arial; font-size: 10px; fill: rgb(255, 255, 255); fill-opacity: 1; white-space: pre;\">2</text></g></g></g><g class=\"annotation\" data-index=\"2\" style=\"opacity: 1;\"><g class=\"annotation-text-g\" transform=\"rotate(0,55.61,43.05)\"><g class=\"cursor-pointer\" transform=\"translate(51,36)\"><rect class=\"bg\" x=\"0.5\" y=\"0.5\" width=\"9\" height=\"14\" style=\"stroke-width: 1px; stroke: rgb(0, 0, 0); stroke-opacity: 0; fill: rgb(0, 0, 0); fill-opacity: 0;\"/><text class=\"annotation-text\" text-anchor=\"start\" x=\"2\" y=\"11\" style=\"font-family: Arial; font-size: 10px; fill: rgb(255, 255, 255); fill-opacity: 1; white-space: pre;\">3</text></g></g></g><g class=\"annotation\" data-index=\"3\" style=\"opacity: 1;\"><g class=\"annotation-text-g\" transform=\"rotate(0,353.87,29.58)\"><g class=\"cursor-pointer\" transform=\"translate(349,22)\"><rect class=\"bg\" x=\"0.5\" y=\"0.5\" width=\"9\" height=\"14\" style=\"stroke-width: 1px; stroke: rgb(0, 0, 0); stroke-opacity: 0; fill: rgb(0, 0, 0); fill-opacity: 0;\"/><text class=\"annotation-text\" text-anchor=\"start\" x=\"2\" y=\"11\" style=\"font-family: Arial; font-size: 10px; fill: rgb(255, 255, 255); fill-opacity: 1; white-space: pre;\">4</text></g></g></g><g class=\"annotation\" data-index=\"4\" style=\"opacity: 1;\"><g class=\"annotation-text-g\" transform=\"rotate(0,355.88,16.1)\"><g class=\"cursor-pointer\" transform=\"translate(351,9)\"><rect class=\"bg\" x=\"0.5\" y=\"0.5\" width=\"9\" height=\"14\" style=\"stroke-width: 1px; stroke: rgb(0, 0, 0); stroke-opacity: 0; fill: rgb(0, 0, 0); fill-opacity: 0;\"/><text class=\"annotation-text\" text-anchor=\"start\" x=\"2\" y=\"11\" style=\"font-family: Arial; font-size: 10px; fill: rgb(255, 255, 255); fill-opacity: 1; white-space: pre;\">5</text></g></g></g><g class=\"annotation\" data-index=\"5\" style=\"opacity: 1;\"><g class=\"annotation-text-g\" transform=\"rotate(0,24.17,151.9)\"><g class=\"cursor-pointer\" transform=\"translate(19,144)\"><rect class=\"bg\" x=\"0.5\" y=\"0.5\" width=\"9\" height=\"14\" style=\"stroke-width: 1px; stroke: rgb(0, 0, 0); stroke-opacity: 0; fill: rgb(0, 0, 0); fill-opacity: 0;\"/><text class=\"annotation-text\" text-anchor=\"start\" x=\"2\" y=\"11\" style=\"font-family: Arial; font-size: 10px; fill: rgb(255, 255, 255); fill-opacity: 1; white-space: pre;\">1</text></g></g></g><g class=\"annotation\" data-index=\"6\" style=\"opacity: 1;\"><g class=\"annotation-text-g\" transform=\"rotate(0,24.07,138.42000000000002)\"><g class=\"cursor-pointer\" transform=\"translate(19,131)\"><rect class=\"bg\" x=\"0.5\" y=\"0.5\" width=\"9\" height=\"14\" style=\"stroke-width: 1px; stroke: rgb(0, 0, 0); stroke-opacity: 0; fill: rgb(0, 0, 0); fill-opacity: 0;\"/><text class=\"annotation-text\" text-anchor=\"start\" x=\"2\" y=\"11\" style=\"font-family: Arial; font-size: 10px; fill: rgb(255, 255, 255); fill-opacity: 1; white-space: pre;\">2</text></g></g></g><g class=\"annotation\" data-index=\"7\" style=\"opacity: 1;\"><g class=\"annotation-text-g\" transform=\"rotate(0,24.75,124.95)\"><g class=\"cursor-pointer\" transform=\"translate(20,117)\"><rect class=\"bg\" x=\"0.5\" y=\"0.5\" width=\"9\" height=\"14\" style=\"stroke-width: 1px; stroke: rgb(0, 0, 0); stroke-opacity: 0; fill: rgb(0, 0, 0); fill-opacity: 0;\"/><text class=\"annotation-text\" text-anchor=\"start\" x=\"2\" y=\"11\" style=\"font-family: Arial; font-size: 10px; fill: rgb(255, 255, 255); fill-opacity: 1; white-space: pre;\">3</text></g></g></g><g class=\"annotation\" data-index=\"8\" style=\"opacity: 1;\"><g class=\"annotation-text-g\" transform=\"rotate(0,210.17,111.48)\"><g class=\"cursor-pointer\" transform=\"translate(205,104)\"><rect class=\"bg\" x=\"0.5\" y=\"0.5\" width=\"9\" height=\"14\" style=\"stroke-width: 1px; stroke: rgb(0, 0, 0); stroke-opacity: 0; fill: rgb(0, 0, 0); fill-opacity: 0;\"/><text class=\"annotation-text\" text-anchor=\"start\" x=\"2\" y=\"11\" style=\"font-family: Arial; font-size: 10px; fill: rgb(255, 255, 255); fill-opacity: 1; white-space: pre;\">4</text></g></g></g><g class=\"annotation\" data-index=\"9\" style=\"opacity: 1;\"><g class=\"annotation-text-g\" transform=\"rotate(0,212.05,98)\"><g class=\"cursor-pointer\" transform=\"translate(207,91)\"><rect class=\"bg\" x=\"0.5\" y=\"0.5\" width=\"9\" height=\"14\" style=\"stroke-width: 1px; stroke: rgb(0, 0, 0); stroke-opacity: 0; fill: rgb(0, 0, 0); fill-opacity: 0;\"/><text class=\"annotation-text\" text-anchor=\"start\" x=\"2\" y=\"11\" style=\"font-family: Arial; font-size: 10px; fill: rgb(255, 255, 255); fill-opacity: 1; white-space: pre;\">5</text></g></g></g></g></svg>"
      ]
     },
     "metadata": {},
     "output_type": "display_data"
    }
   ],
   "source": [
    "raw_data = load_data('../data/chameleon/3-1000genomes-10percent.csv')\n",
    "data = merge_stages(raw_data)\n",
    "print(get_deltas(data))\n",
    "\n",
    "layout = dict(width=500, height=200, margin=dict(l=5, r=5, t=5, b=5))\n",
    "fig = make_gantt(data, layout=layout)\n",
    "fig.show(renderer='svg')\n",
    "\n",
    "figure_dir = pathlib.Path('../figures/chameleon/')\n",
    "figure_dir.mkdir(exist_ok=True)\n",
    "fig.write_image(figure_dir / '3-1000-genomes.pdf')"
   ]
  },
  {
   "cell_type": "code",
   "execution_count": null,
   "id": "41060efa-977b-4e23-9e3d-4b2064501197",
   "metadata": {},
   "outputs": [],
   "source": []
  }
 ],
 "metadata": {
  "kernelspec": {
   "display_name": "Python 3 (ipykernel)",
   "language": "python",
   "name": "python3"
  },
  "language_info": {
   "codemirror_mode": {
    "name": "ipython",
    "version": 3
   },
   "file_extension": ".py",
   "mimetype": "text/x-python",
   "name": "python",
   "nbconvert_exporter": "python",
   "pygments_lexer": "ipython3",
   "version": "3.11.5"
  }
 },
 "nbformat": 4,
 "nbformat_minor": 5
}
