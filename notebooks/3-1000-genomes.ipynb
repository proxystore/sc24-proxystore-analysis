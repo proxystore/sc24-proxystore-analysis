{
 "cells": [
  {
   "cell_type": "code",
   "execution_count": 8,
   "id": "b7caeb5a-c4c6-40d5-bdfa-2557386b477e",
   "metadata": {},
   "outputs": [
    {
     "data": {
      "text/plain": [
       "<module 'theme' from '/home/jgpaul/workspace/sc24-proxystore-analysis/notebooks/theme.py'>"
      ]
     },
     "execution_count": 8,
     "metadata": {},
     "output_type": "execute_result"
    }
   ],
   "source": [
    "from __future__ import annotations\n",
    "\n",
    "import importlib\n",
    "import pathlib\n",
    "\n",
    "import plotly.express as px\n",
    "import polars\n",
    "import theme\n",
    "\n",
    "importlib.reload(theme)"
   ]
  },
  {
   "cell_type": "code",
   "execution_count": 9,
   "id": "9b73f36e-3633-41b3-96b7-88e5a4de3c3a",
   "metadata": {},
   "outputs": [],
   "source": [
    "def load_data(filepath) -> polars.DataFrame:\n",
    "    return polars.read_csv(filepath)"
   ]
  },
  {
   "cell_type": "code",
   "execution_count": 10,
   "id": "c8932686-9234-4821-9604-c49053890678",
   "metadata": {},
   "outputs": [],
   "source": [
    "STAGES = {\n",
    "    'processing_chrom_parts': 'Stage 1',\n",
    "    'processing_2': 'Stage 2',\n",
    "    'sifting': 'Stage 3',\n",
    "    'mutation_overlap': 'Stage 4',\n",
    "    'frequency': 'Stage 5',\n",
    "}\n",
    "\n",
    "RUNS = {\n",
    "    'gc-trial': 'Baseline',\n",
    "    'proxy-bench-trial': 'ProxyFutures',\n",
    "}\n",
    "\n",
    "\n",
    "def merge_stages(data: polars.DataFrame) -> polars.DataFrame:\n",
    "    out = []\n",
    "    for run in RUNS:\n",
    "        run_data = data.filter(polars.col('name') == run)\n",
    "        run_start = run_data['start'].min()\n",
    "        for stage in STAGES:\n",
    "            stage_data = run_data.filter(polars.col('task') == stage)\n",
    "            start = stage_data['start'].min() - run_start\n",
    "            end = stage_data['end'].max() - run_start\n",
    "            out.append(\n",
    "                {\n",
    "                    'run': RUNS[run],\n",
    "                    'stage': STAGES[stage],\n",
    "                    'start': start,\n",
    "                    'end': end,\n",
    "                },\n",
    "            )\n",
    "\n",
    "    return polars.DataFrame(out)"
   ]
  },
  {
   "cell_type": "code",
   "execution_count": 15,
   "id": "5caebe36-b6e6-4a94-89ae-7d40b146c0c3",
   "metadata": {},
   "outputs": [],
   "source": [
    "def make_gantt(data, layout=None):\n",
    "    data = data.with_columns(\n",
    "        polars.from_epoch('start', time_unit='s'),\n",
    "        polars.from_epoch('end', time_unit='s'),\n",
    "    )\n",
    "\n",
    "    colors = [0, 4, 1, 2, 3]\n",
    "    fig = px.timeline(\n",
    "        data,\n",
    "        x_start='start',\n",
    "        x_end='end',\n",
    "        y='run',\n",
    "        range_x=[data['start'].min(), data['end'].max()],\n",
    "        color='stage',\n",
    "        color_discrete_sequence=[\n",
    "            px.colors.qualitative.Bold[i] for i in colors\n",
    "        ],\n",
    "        category_orders={'run': list(RUNS.values())},\n",
    "        text=[f'{(i%5)+1}' for i in range(len(data))],\n",
    "    )\n",
    "    fig.update_traces(\n",
    "        # width=0.16,\n",
    "        textposition='auto',\n",
    "        textangle=0,\n",
    "        insidetextanchor='start',\n",
    "        insidetextfont=dict(size=10, color='white'),\n",
    "        outsidetextfont=dict(size=10, color='black'),\n",
    "    )\n",
    "\n",
    "    layout = {} if layout is None else layout\n",
    "    fig.update_layout(\n",
    "        # showlegend=False,\n",
    "        legend=dict(\n",
    "            title=None,\n",
    "            yanchor='bottom',\n",
    "            y=0.01,\n",
    "            xanchor='right',\n",
    "            x=0.995,\n",
    "            tracegroupgap=1,\n",
    "        ),\n",
    "        barmode='group',\n",
    "        bargap=0.05,\n",
    "        bargroupgap=0,\n",
    "        xaxis=dict(title='Runtime (s)', tickformat='%M:%S'),\n",
    "        # yaxis=dict(tickangle=-90),\n",
    "        # xaxis_type='linear',\n",
    "        xaxis_title='Runtime (mm:ss)',\n",
    "        yaxis_title=None,\n",
    "        template='proxystore',\n",
    "        **layout,\n",
    "    )\n",
    "\n",
    "    return fig"
   ]
  },
  {
   "cell_type": "markdown",
   "id": "034059fc-fc30-4674-ba3b-b2a448934c5b",
   "metadata": {},
   "source": [
    "## Chameleon (Small Test)"
   ]
  },
  {
   "cell_type": "code",
   "execution_count": 16,
   "id": "1cfdd925-1cfd-4360-b206-336f5bfc0a68",
   "metadata": {},
   "outputs": [
    {
     "data": {
      "image/svg+xml": [
       "<svg class=\"main-svg\" xmlns=\"http://www.w3.org/2000/svg\" xmlns:xlink=\"http://www.w3.org/1999/xlink\" width=\"500\" height=\"200\" style=\"\" viewBox=\"0 0 500 200\"><rect x=\"0\" y=\"0\" width=\"500\" height=\"200\" style=\"fill: rgb(255, 255, 255); fill-opacity: 1;\"/><defs id=\"defs-9cc658\"><g class=\"clips\"><clipPath id=\"clip9cc658xyplot\" class=\"plotclip\"><rect width=\"422\" height=\"156\"/></clipPath><clipPath class=\"axesclip\" id=\"clip9cc658x\"><rect x=\"72\" y=\"0\" width=\"422\" height=\"200\"/></clipPath><clipPath class=\"axesclip\" id=\"clip9cc658y\"><rect x=\"0\" y=\"6\" width=\"500\" height=\"156\"/></clipPath><clipPath class=\"axesclip\" id=\"clip9cc658xy\"><rect x=\"72\" y=\"6\" width=\"422\" height=\"156\"/></clipPath></g><g class=\"gradients\"/><g class=\"patterns\"/></defs><g class=\"bglayer\"/><g class=\"layer-below\"><g class=\"imagelayer\"/><g class=\"shapelayer\"/></g><g class=\"cartesianlayer\"><g class=\"subplot xy\"><g class=\"layer-subplot\"><g class=\"shapelayer\"/><g class=\"imagelayer\"/></g><g class=\"minor-gridlayer\"><g class=\"x\"/><g class=\"y\"/></g><g class=\"gridlayer\"><g class=\"x\"><path class=\"xgrid crisp\" transform=\"translate(191.43,0)\" d=\"M0,6v156\" style=\"stroke: rgb(224, 224, 224); stroke-opacity: 1; stroke-width: 1px;\"/><path class=\"xgrid crisp\" transform=\"translate(310.87,0)\" d=\"M0,6v156\" style=\"stroke: rgb(224, 224, 224); stroke-opacity: 1; stroke-width: 1px;\"/><path class=\"xgrid crisp\" transform=\"translate(430.3,0)\" d=\"M0,6v156\" style=\"stroke: rgb(224, 224, 224); stroke-opacity: 1; stroke-width: 1px;\"/></g><g class=\"y\"><path class=\"ygrid crisp\" transform=\"translate(0,123)\" d=\"M72,0h422\" style=\"stroke: rgb(224, 224, 224); stroke-opacity: 1; stroke-width: 1px;\"/><path class=\"ygrid crisp\" transform=\"translate(0,45)\" d=\"M72,0h422\" style=\"stroke: rgb(224, 224, 224); stroke-opacity: 1; stroke-width: 1px;\"/></g></g><g class=\"zerolinelayer\"/><path class=\"xlines-below\"/><path class=\"ylines-below\"/><g class=\"overlines-below\"/><g class=\"xaxislayer-below\"/><g class=\"yaxislayer-below\"/><g class=\"overaxes-below\"/><g class=\"plot\" transform=\"translate(72,6)\" clip-path=\"url(#clip9cc658xyplot)\"><g class=\"barlayer mlayer\"><g class=\"trace bars\" style=\"opacity: 1;\"><g class=\"points\"><g class=\"point\"><path d=\"M0,76.05V61.23H187.11V76.05Z\" style=\"vector-effect: none; opacity: 1; stroke-width: 0.5px; fill: rgb(127, 60, 141); fill-opacity: 1; stroke: rgb(255, 255, 255); stroke-opacity: 1;\"/><text class=\"bartext bartext-inside\" text-anchor=\"middle\" data-notex=\"1\" x=\"0\" y=\"0\" style=\"font-family: Arial; font-size: 10px; fill: rgb(255, 255, 255); fill-opacity: 1; white-space: pre;\" transform=\"translate(5.230056818181819,71.44636363636364)scale(0.8018181818181819)\">1</text></g><g class=\"point\"><path d=\"M0,154.05V139.23H119.43V154.05Z\" style=\"vector-effect: none; opacity: 1; stroke-width: 0.5px; fill: rgb(127, 60, 141); fill-opacity: 1; stroke: rgb(255, 255, 255); stroke-opacity: 1;\"/><text class=\"bartext bartext-inside\" text-anchor=\"middle\" data-notex=\"1\" x=\"0\" y=\"0\" style=\"font-family: Arial; font-size: 10px; fill: rgb(255, 255, 255); fill-opacity: 1; white-space: pre;\" transform=\"translate(5.230056818181824,149.44636363636363)scale(0.8018181818181838)\">1</text></g></g></g><g class=\"trace bars\" style=\"opacity: 1;\"><g class=\"points\"><g class=\"point\"><path d=\"M11.94,61.23V46.41H195.08V61.23Z\" style=\"vector-effect: none; opacity: 1; stroke-width: 0.5px; fill: rgb(231, 63, 116); fill-opacity: 1; stroke: rgb(255, 255, 255); stroke-opacity: 1;\"/><text class=\"bartext bartext-inside\" text-anchor=\"middle\" data-notex=\"1\" x=\"0\" y=\"0\" style=\"font-family: Arial; font-size: 10px; fill: rgb(255, 255, 255); fill-opacity: 1; white-space: pre;\" transform=\"translate(17.17005681818182,56.62636363636363)scale(0.8018181818181819)\">2</text></g><g class=\"point\"><path d=\"M11.94,139.23V124.41H127.4V139.23Z\" style=\"vector-effect: none; opacity: 1; stroke-width: 0.5px; fill: rgb(231, 63, 116); fill-opacity: 1; stroke: rgb(255, 255, 255); stroke-opacity: 1;\"/><text class=\"bartext bartext-inside\" text-anchor=\"middle\" data-notex=\"1\" x=\"0\" y=\"0\" style=\"font-family: Arial; font-size: 10px; fill: rgb(255, 255, 255); fill-opacity: 1; white-space: pre;\" transform=\"translate(17.170056818181816,134.62636363636364)scale(0.8018181818181812)\">2</text></g></g></g><g class=\"trace bars\" style=\"opacity: 1;\"><g class=\"points\"><g class=\"point\"><path d=\"M19.91,46.41V31.59H234.89V46.41Z\" style=\"vector-effect: none; opacity: 1; stroke-width: 0.5px; fill: rgb(17, 165, 121); fill-opacity: 1; stroke: rgb(255, 255, 255); stroke-opacity: 1;\"/><text class=\"bartext bartext-inside\" text-anchor=\"middle\" data-notex=\"1\" x=\"0\" y=\"0\" style=\"font-family: Arial; font-size: 10px; fill: rgb(255, 255, 255); fill-opacity: 1; white-space: pre;\" transform=\"translate(25.14005681818182,41.806363636363635)scale(0.8018181818181815)\">3</text></g><g class=\"point\"><path d=\"M11.94,124.41V109.59H163.23V124.41Z\" style=\"vector-effect: none; opacity: 1; stroke-width: 0.5px; fill: rgb(17, 165, 121); fill-opacity: 1; stroke: rgb(255, 255, 255); stroke-opacity: 1;\"/><text class=\"bartext bartext-inside\" text-anchor=\"middle\" data-notex=\"1\" x=\"0\" y=\"0\" style=\"font-family: Arial; font-size: 10px; fill: rgb(255, 255, 255); fill-opacity: 1; white-space: pre;\" transform=\"translate(17.170056818181816,119.80636363636363)scale(0.8018181818181812)\">3</text></g></g></g><g class=\"trace bars\" style=\"opacity: 1;\"><g class=\"points\"><g class=\"point\"><path d=\"M242.85,31.59V16.77H250.81V31.59Z\" style=\"vector-effect: none; opacity: 1; stroke-width: 0.5px; fill: rgb(57, 105, 172); fill-opacity: 1; stroke: rgb(255, 255, 255); stroke-opacity: 1;\"/><text class=\"bartext bartext-outside\" text-anchor=\"middle\" data-notex=\"1\" x=\"0\" y=\"0\" style=\"font-family: Arial; font-size: 10px; fill: rgb(0, 0, 0); fill-opacity: 1; white-space: pre;\" transform=\"translate(256.59125,27.68)\">4</text></g><g class=\"point\"><path d=\"M123.42,109.59V94.77H155.26V109.59Z\" style=\"vector-effect: none; opacity: 1; stroke-width: 0.5px; fill: rgb(57, 105, 172); fill-opacity: 1; stroke: rgb(255, 255, 255); stroke-opacity: 1;\"/><text class=\"bartext bartext-inside\" text-anchor=\"middle\" data-notex=\"1\" x=\"0\" y=\"0\" style=\"font-family: Arial; font-size: 10px; fill: rgb(255, 255, 255); fill-opacity: 1; white-space: pre;\" transform=\"translate(128.6500568181818,104.98636363636365)scale(0.8018181818181825)\">4</text></g></g></g><g class=\"trace bars\" style=\"opacity: 1;\"><g class=\"points\"><g class=\"point\"><path d=\"M242.85,16.77V1.95H422V16.77Z\" style=\"vector-effect: none; opacity: 1; stroke-width: 0.5px; fill: rgb(242, 183, 1); fill-opacity: 1; stroke: rgb(255, 255, 255); stroke-opacity: 1;\"/><text class=\"bartext bartext-inside\" text-anchor=\"middle\" data-notex=\"1\" x=\"0\" y=\"0\" style=\"font-family: Arial; font-size: 10px; fill: rgb(255, 255, 255); fill-opacity: 1; white-space: pre;\" transform=\"translate(248.08005681818182,12.166363636363636)scale(0.8018181818181819)\">5</text></g><g class=\"point\"><path d=\"M123.42,94.77V79.95H322.47V94.77Z\" style=\"vector-effect: none; opacity: 1; stroke-width: 0.5px; fill: rgb(242, 183, 1); fill-opacity: 1; stroke: rgb(255, 255, 255); stroke-opacity: 1;\"/><text class=\"bartext bartext-inside\" text-anchor=\"middle\" data-notex=\"1\" x=\"0\" y=\"0\" style=\"font-family: Arial; font-size: 10px; fill: rgb(255, 255, 255); fill-opacity: 1; white-space: pre;\" transform=\"translate(128.6500568181818,90.16636363636363)scale(0.8018181818181812)\">5</text></g></g></g></g></g><g class=\"overplot\"/><path class=\"xlines-above crisp\" d=\"M71,162.5H495M71,5.5H495\" style=\"fill: none; stroke-width: 1px; stroke: rgb(97, 97, 97); stroke-opacity: 1;\"/><path class=\"ylines-above crisp\" d=\"M71.5,6V162M494.5,6V162\" style=\"fill: none; stroke-width: 1px; stroke: rgb(97, 97, 97); stroke-opacity: 1;\"/><g class=\"overlines-above\"/><g class=\"xaxislayer-above\"><path class=\"xtick ticks crisp\" d=\"M0,163v5\" transform=\"translate(72,0)\" style=\"stroke: rgb(68, 68, 68); stroke-opacity: 1; stroke-width: 1px;\"/><path class=\"xtick ticks crisp\" d=\"M0,163v5\" transform=\"translate(191.43,0)\" style=\"stroke: rgb(68, 68, 68); stroke-opacity: 1; stroke-width: 1px;\"/><path class=\"xtick ticks crisp\" d=\"M0,163v5\" transform=\"translate(310.87,0)\" style=\"stroke: rgb(68, 68, 68); stroke-opacity: 1; stroke-width: 1px;\"/><path class=\"xtick ticks crisp\" d=\"M0,163v5\" transform=\"translate(430.3,0)\" style=\"stroke: rgb(68, 68, 68); stroke-opacity: 1; stroke-width: 1px;\"/><g class=\"xtick\"><text text-anchor=\"middle\" x=\"0\" y=\"180\" transform=\"translate(72,0)\" style=\"font-family: Arial; font-size: 10px; fill: rgb(36, 36, 36); fill-opacity: 1; white-space: pre; opacity: 1;\">00:00</text></g><g class=\"xtick\"><text text-anchor=\"middle\" x=\"0\" y=\"180\" style=\"font-family: Arial; font-size: 10px; fill: rgb(36, 36, 36); fill-opacity: 1; white-space: pre; opacity: 1;\" transform=\"translate(191.43,0)\">00:30</text></g><g class=\"xtick\"><text text-anchor=\"middle\" x=\"0\" y=\"180\" style=\"font-family: Arial; font-size: 10px; fill: rgb(36, 36, 36); fill-opacity: 1; white-space: pre; opacity: 1;\" transform=\"translate(310.87,0)\">01:00</text></g><g class=\"xtick\"><text text-anchor=\"middle\" x=\"0\" y=\"180\" style=\"font-family: Arial; font-size: 10px; fill: rgb(36, 36, 36); fill-opacity: 1; white-space: pre; opacity: 1;\" transform=\"translate(430.3,0)\">01:30</text></g></g><g class=\"yaxislayer-above\"><path class=\"ytick ticks crisp\" d=\"M71,0h-5\" transform=\"translate(0,123)\" style=\"stroke: rgb(68, 68, 68); stroke-opacity: 1; stroke-width: 1px;\"/><path class=\"ytick ticks crisp\" d=\"M71,0h-5\" transform=\"translate(0,45)\" style=\"stroke: rgb(68, 68, 68); stroke-opacity: 1; stroke-width: 1px;\"/><g class=\"ytick\"><text text-anchor=\"end\" x=\"64\" y=\"3.5\" transform=\"translate(0,123)\" style=\"font-family: Arial; font-size: 10px; fill: rgb(36, 36, 36); fill-opacity: 1; white-space: pre; opacity: 1;\">ProxyFutures</text></g><g class=\"ytick\"><text text-anchor=\"end\" x=\"64\" y=\"3.5\" transform=\"translate(0,45)\" style=\"font-family: Arial; font-size: 10px; fill: rgb(36, 36, 36); fill-opacity: 1; white-space: pre; opacity: 1;\">Baseline</text></g></g><g class=\"overaxes-above\"/></g></g><g class=\"polarlayer\"/><g class=\"smithlayer\"/><g class=\"ternarylayer\"/><g class=\"geolayer\"/><g class=\"funnelarealayer\"/><g class=\"pielayer\"/><g class=\"iciclelayer\"/><g class=\"treemaplayer\"/><g class=\"sunburstlayer\"/><g class=\"glimages\"/><defs id=\"topdefs-9cc658\"><g class=\"clips\"/><clipPath id=\"legend9cc658\"><rect width=\"87\" height=\"109\" x=\"1\" y=\"1\"/></clipPath></defs><g class=\"layer-above\"><g class=\"imagelayer\"/><g class=\"shapelayer\"/></g><g class=\"infolayer\"><g class=\"legend\" pointer-events=\"all\" transform=\"translate(402.89,49.44)\"><rect class=\"bg\" shape-rendering=\"crispEdges\" width=\"88\" height=\"110\" x=\"0.5\" y=\"0.5\" style=\"stroke: rgb(224, 224, 224); stroke-opacity: 1; fill: rgb(255, 255, 255); fill-opacity: 1; stroke-width: 1px;\"/><g class=\"scrollbox\" transform=\"\" clip-path=\"url(#legend9cc658)\"><g class=\"groups\" transform=\"\"><g class=\"traces\" transform=\"translate(1,15.5)\" style=\"opacity: 1;\"><text class=\"legendtext\" text-anchor=\"start\" x=\"40\" y=\"4.680000000000001\" style=\"font-family: Arial; font-size: 12px; fill: rgb(36, 36, 36); fill-opacity: 1; white-space: pre;\">Stage 1</text><g class=\"layers\" style=\"opacity: 1;\"><g class=\"legendfill\"/><g class=\"legendlines\"/><g class=\"legendsymbols\"><g class=\"legendpoints\"><path class=\"legendundefined\" d=\"M6,6H-6V-6H6Z\" transform=\"translate(20,0)\" style=\"stroke-width: 0.5px; fill: rgb(127, 60, 141); fill-opacity: 1; stroke: rgb(255, 255, 255); stroke-opacity: 1;\"/></g></g></g><rect class=\"legendtoggle\" x=\"0\" y=\"-9.5\" width=\"81.703125\" height=\"19\" style=\"fill: rgb(0, 0, 0); fill-opacity: 0;\"/></g></g><g class=\"groups\" transform=\"translate(0,1)\"><g class=\"traces\" transform=\"translate(1,34.5)\" style=\"opacity: 1;\"><text class=\"legendtext\" text-anchor=\"start\" x=\"40\" y=\"4.680000000000001\" style=\"font-family: Arial; font-size: 12px; fill: rgb(36, 36, 36); fill-opacity: 1; white-space: pre;\">Stage 2</text><g class=\"layers\" style=\"opacity: 1;\"><g class=\"legendfill\"/><g class=\"legendlines\"/><g class=\"legendsymbols\"><g class=\"legendpoints\"><path class=\"legendundefined\" d=\"M6,6H-6V-6H6Z\" transform=\"translate(20,0)\" style=\"stroke-width: 0.5px; fill: rgb(231, 63, 116); fill-opacity: 1; stroke: rgb(255, 255, 255); stroke-opacity: 1;\"/></g></g></g><rect class=\"legendtoggle\" x=\"0\" y=\"-9.5\" width=\"81.703125\" height=\"19\" style=\"fill: rgb(0, 0, 0); fill-opacity: 0;\"/></g></g><g class=\"groups\" transform=\"translate(0,2)\"><g class=\"traces\" transform=\"translate(1,53.5)\" style=\"opacity: 1;\"><text class=\"legendtext\" text-anchor=\"start\" x=\"40\" y=\"4.680000000000001\" style=\"font-family: Arial; font-size: 12px; fill: rgb(36, 36, 36); fill-opacity: 1; white-space: pre;\">Stage 3</text><g class=\"layers\" style=\"opacity: 1;\"><g class=\"legendfill\"/><g class=\"legendlines\"/><g class=\"legendsymbols\"><g class=\"legendpoints\"><path class=\"legendundefined\" d=\"M6,6H-6V-6H6Z\" transform=\"translate(20,0)\" style=\"stroke-width: 0.5px; fill: rgb(17, 165, 121); fill-opacity: 1; stroke: rgb(255, 255, 255); stroke-opacity: 1;\"/></g></g></g><rect class=\"legendtoggle\" x=\"0\" y=\"-9.5\" width=\"81.703125\" height=\"19\" style=\"fill: rgb(0, 0, 0); fill-opacity: 0;\"/></g></g><g class=\"groups\" transform=\"translate(0,3)\"><g class=\"traces\" transform=\"translate(1,72.5)\" style=\"opacity: 1;\"><text class=\"legendtext\" text-anchor=\"start\" x=\"40\" y=\"4.680000000000001\" style=\"font-family: Arial; font-size: 12px; fill: rgb(36, 36, 36); fill-opacity: 1; white-space: pre;\">Stage 4</text><g class=\"layers\" style=\"opacity: 1;\"><g class=\"legendfill\"/><g class=\"legendlines\"/><g class=\"legendsymbols\"><g class=\"legendpoints\"><path class=\"legendundefined\" d=\"M6,6H-6V-6H6Z\" transform=\"translate(20,0)\" style=\"stroke-width: 0.5px; fill: rgb(57, 105, 172); fill-opacity: 1; stroke: rgb(255, 255, 255); stroke-opacity: 1;\"/></g></g></g><rect class=\"legendtoggle\" x=\"0\" y=\"-9.5\" width=\"81.703125\" height=\"19\" style=\"fill: rgb(0, 0, 0); fill-opacity: 0;\"/></g></g><g class=\"groups\" transform=\"translate(0,4)\"><g class=\"traces\" transform=\"translate(1,91.5)\" style=\"opacity: 1;\"><text class=\"legendtext\" text-anchor=\"start\" x=\"40\" y=\"4.680000000000001\" style=\"font-family: Arial; font-size: 12px; fill: rgb(36, 36, 36); fill-opacity: 1; white-space: pre;\">Stage 5</text><g class=\"layers\" style=\"opacity: 1;\"><g class=\"legendfill\"/><g class=\"legendlines\"/><g class=\"legendsymbols\"><g class=\"legendpoints\"><path class=\"legendundefined\" d=\"M6,6H-6V-6H6Z\" transform=\"translate(20,0)\" style=\"stroke-width: 0.5px; fill: rgb(242, 183, 1); fill-opacity: 1; stroke: rgb(255, 255, 255); stroke-opacity: 1;\"/></g></g></g><rect class=\"legendtoggle\" x=\"0\" y=\"-9.5\" width=\"81.703125\" height=\"19\" style=\"fill: rgb(0, 0, 0); fill-opacity: 0;\"/></g></g></g><rect class=\"scrollbar\" rx=\"20\" ry=\"3\" width=\"0\" height=\"0\" x=\"0\" y=\"0\" style=\"fill: rgb(128, 139, 164); fill-opacity: 1;\"/></g><g class=\"g-gtitle\"/><g class=\"g-xtitle\"><text class=\"xtitle\" x=\"283\" y=\"194.9\" text-anchor=\"middle\" style=\"font-family: Arial; font-size: 12px; fill: rgb(36, 36, 36); opacity: 1; font-weight: normal; white-space: pre;\">Runtime (mm:ss)</text></g><g class=\"g-ytitle\"/></g></svg>"
      ]
     },
     "metadata": {},
     "output_type": "display_data"
    }
   ],
   "source": [
    "raw_data = load_data('../data/chameleon/3-1000genomes.csv')\n",
    "data = merge_stages(raw_data)\n",
    "\n",
    "layout = dict(width=500, height=200, margin=dict(l=5, r=5, t=5, b=5))\n",
    "fig = make_gantt(data, layout=layout)\n",
    "fig.show(renderer='svg')\n",
    "\n",
    "figure_dir = pathlib.Path('../figures/chameleon/')\n",
    "figure_dir.mkdir(exist_ok=True)\n",
    "fig.write_image(figure_dir / '3-1000-genomes.pdf')"
   ]
  },
  {
   "cell_type": "code",
   "execution_count": null,
   "id": "1092db4d-a6ed-4701-8917-ccbd453cdd2f",
   "metadata": {},
   "outputs": [],
   "source": []
  }
 ],
 "metadata": {
  "kernelspec": {
   "display_name": "Python 3 (ipykernel)",
   "language": "python",
   "name": "python3"
  },
  "language_info": {
   "codemirror_mode": {
    "name": "ipython",
    "version": 3
   },
   "file_extension": ".py",
   "mimetype": "text/x-python",
   "name": "python",
   "nbconvert_exporter": "python",
   "pygments_lexer": "ipython3",
   "version": "3.11.5"
  }
 },
 "nbformat": 4,
 "nbformat_minor": 5
}
