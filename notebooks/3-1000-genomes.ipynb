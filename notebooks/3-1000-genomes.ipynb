{
 "cells": [
  {
   "cell_type": "code",
   "execution_count": 1,
   "id": "b7caeb5a-c4c6-40d5-bdfa-2557386b477e",
   "metadata": {},
   "outputs": [
    {
     "data": {
      "text/plain": [
       "<module 'theme' from '/Users/jgpaul/workspace/sc24-proxystore-analysis/notebooks/theme.py'>"
      ]
     },
     "execution_count": 1,
     "metadata": {},
     "output_type": "execute_result"
    }
   ],
   "source": [
    "from __future__ import annotations\n",
    "\n",
    "import importlib\n",
    "import pathlib\n",
    "\n",
    "import plotly.express as px\n",
    "import plotly.figure_factory as ff\n",
    "import plotly.graph_objects as go\n",
    "import polars\n",
    "import theme\n",
    "from plotly.subplots import make_subplots\n",
    "\n",
    "importlib.reload(theme)"
   ]
  },
  {
   "cell_type": "code",
   "execution_count": 2,
   "id": "9b73f36e-3633-41b3-96b7-88e5a4de3c3a",
   "metadata": {},
   "outputs": [],
   "source": [
    "def load_data(filepath) -> polars.DataFrame:\n",
    "    return polars.read_csv(filepath)"
   ]
  },
  {
   "cell_type": "code",
   "execution_count": 3,
   "id": "c8932686-9234-4821-9604-c49053890678",
   "metadata": {},
   "outputs": [],
   "source": [
    "STAGES = {\n",
    "    'processing_chrom_parts': 'Stage 1',\n",
    "    'processing_2': 'Stage 2',\n",
    "    'sifting': 'Stage 3',\n",
    "    'mutation_overlap': 'Stage 4',\n",
    "    'frequency': 'Stage 5',\n",
    "}\n",
    "\n",
    "RUNS = {\n",
    "    'gc-trial': 'Baseline',\n",
    "    'proxy-bench-trial': 'ProxyFutures',\n",
    "}\n",
    "\n",
    "def merge_stages(data: polars.DataFrame) -> polars.DataFrame:\n",
    "    out = []\n",
    "    for run in RUNS.keys():\n",
    "        run_data = data.filter(polars.col('name') == run)\n",
    "        run_start = run_data['start'].min()\n",
    "        for stage in STAGES.keys():\n",
    "            stage_data = run_data.filter(polars.col('task') == stage)\n",
    "            start = stage_data['start'].min() - run_start\n",
    "            end = stage_data['end'].max() - run_start\n",
    "            out.append({'run': RUNS[run], 'stage': STAGES[stage], 'start': start, 'end': end})\n",
    "\n",
    "    return polars.DataFrame(out)"
   ]
  },
  {
   "cell_type": "code",
   "execution_count": 7,
   "id": "5caebe36-b6e6-4a94-89ae-7d40b146c0c3",
   "metadata": {},
   "outputs": [],
   "source": [
    "def make_gantt(data, layout=None):\n",
    "    runs = set(data.select(polars.col('run')).to_series().to_list())\n",
    "\n",
    "    data = data.with_columns(\n",
    "        polars.from_epoch('start', time_unit='s'),\n",
    "        polars.from_epoch('end', time_unit='s'),\n",
    "    )\n",
    "\n",
    "    colors = [0, 3, 1, 2, 4]\n",
    "    fig = px.timeline(\n",
    "        data,\n",
    "        x_start='start',\n",
    "        x_end='end',\n",
    "        y='run',\n",
    "        range_x=[data['start'].min(), data['end'].max()],\n",
    "        color='stage',\n",
    "        color_discrete_sequence=[px.colors.qualitative.Bold[i] for i in colors],\n",
    "    )\n",
    "\n",
    "    layout = {} if layout is None else layout\n",
    "    fig.update_layout(\n",
    "        legend=dict(\n",
    "            title=None,\n",
    "            yanchor='bottom',\n",
    "            y=0.01,\n",
    "            xanchor='right',\n",
    "            x=0.995,\n",
    "            tracegroupgap=1,\n",
    "        ),\n",
    "        barmode='group',\n",
    "        xaxis=dict(title='Runtime (s)', tickformat = '%M:%S'),\n",
    "        yaxis=dict(autorange=\"reversed\", tickangle=-90),\n",
    "        # xaxis_type='linear',\n",
    "        xaxis_title='Runtime (MM:SS)',\n",
    "        yaxis_title=None,\n",
    "        template='proxystore',\n",
    "        **layout,\n",
    "    )\n",
    "\n",
    "    return fig"
   ]
  },
  {
   "cell_type": "markdown",
   "id": "034059fc-fc30-4674-ba3b-b2a448934c5b",
   "metadata": {},
   "source": [
    "## Chameleon (Small Test)"
   ]
  },
  {
   "cell_type": "code",
   "execution_count": 8,
   "id": "1cfdd925-1cfd-4360-b206-336f5bfc0a68",
   "metadata": {},
   "outputs": [
    {
     "data": {
      "image/svg+xml": [
       "<svg class=\"main-svg\" xmlns=\"http://www.w3.org/2000/svg\" xmlns:xlink=\"http://www.w3.org/1999/xlink\" width=\"500\" height=\"250\" style=\"\" viewBox=\"0 0 500 250\"><rect x=\"0\" y=\"0\" width=\"500\" height=\"250\" style=\"fill: rgb(255, 255, 255); fill-opacity: 1;\"/><defs id=\"defs-d0486f\"><g class=\"clips\"><clipPath id=\"clipd0486fxyplot\" class=\"plotclip\"><rect width=\"470\" height=\"206\"/></clipPath><clipPath class=\"axesclip\" id=\"clipd0486fx\"><rect x=\"24\" y=\"0\" width=\"470\" height=\"250\"/></clipPath><clipPath class=\"axesclip\" id=\"clipd0486fy\"><rect x=\"0\" y=\"6\" width=\"500\" height=\"206\"/></clipPath><clipPath class=\"axesclip\" id=\"clipd0486fxy\"><rect x=\"24\" y=\"6\" width=\"470\" height=\"206\"/></clipPath></g><g class=\"gradients\"/><g class=\"patterns\"/></defs><g class=\"bglayer\"/><g class=\"layer-below\"><g class=\"imagelayer\"/><g class=\"shapelayer\"/></g><g class=\"cartesianlayer\"><g class=\"subplot xy\"><g class=\"layer-subplot\"><g class=\"shapelayer\"/><g class=\"imagelayer\"/></g><g class=\"minor-gridlayer\"><g class=\"x\"/><g class=\"y\"/></g><g class=\"gridlayer\"><g class=\"x\"><path class=\"xgrid crisp\" transform=\"translate(157.02,0)\" d=\"M0,6v206\" style=\"stroke: rgb(224, 224, 224); stroke-opacity: 1; stroke-width: 1px;\"/><path class=\"xgrid crisp\" transform=\"translate(290.04,0)\" d=\"M0,6v206\" style=\"stroke: rgb(224, 224, 224); stroke-opacity: 1; stroke-width: 1px;\"/><path class=\"xgrid crisp\" transform=\"translate(423.06,0)\" d=\"M0,6v206\" style=\"stroke: rgb(224, 224, 224); stroke-opacity: 1; stroke-width: 1px;\"/></g><g class=\"y\"><path class=\"ygrid crisp\" transform=\"translate(0,160.5)\" d=\"M24,0h470\" style=\"stroke: rgb(224, 224, 224); stroke-opacity: 1; stroke-width: 1px;\"/><path class=\"ygrid crisp\" transform=\"translate(0,57.5)\" d=\"M24,0h470\" style=\"stroke: rgb(224, 224, 224); stroke-opacity: 1; stroke-width: 1px;\"/></g></g><g class=\"zerolinelayer\"/><path class=\"xlines-below\"/><path class=\"ylines-below\"/><g class=\"overlines-below\"/><g class=\"xaxislayer-below\"/><g class=\"yaxislayer-below\"/><g class=\"overaxes-below\"/><g class=\"plot\" transform=\"translate(24,6)\" clip-path=\"url(#clipd0486fxyplot)\"><g class=\"barlayer mlayer\"><g class=\"trace bars\" style=\"opacity: 1;\"><g class=\"points\"><g class=\"point\"><path d=\"M0,10.3V26.78H208.4V10.3Z\" style=\"vector-effect: none; opacity: 1; stroke-width: 0.5px; fill: rgb(127, 60, 141); fill-opacity: 1; stroke: rgb(255, 255, 255); stroke-opacity: 1;\"/></g><g class=\"point\"><path d=\"M0,113.3V129.78H133.02V113.3Z\" style=\"vector-effect: none; opacity: 1; stroke-width: 0.5px; fill: rgb(127, 60, 141); fill-opacity: 1; stroke: rgb(255, 255, 255); stroke-opacity: 1;\"/></g></g></g><g class=\"trace bars\" style=\"opacity: 1;\"><g class=\"points\"><g class=\"point\"><path d=\"M13.3,26.78V43.26H217.26V26.78Z\" style=\"vector-effect: none; opacity: 1; stroke-width: 0.5px; fill: rgb(242, 183, 1); fill-opacity: 1; stroke: rgb(255, 255, 255); stroke-opacity: 1;\"/></g><g class=\"point\"><path d=\"M13.3,129.78V146.26H141.89V129.78Z\" style=\"vector-effect: none; opacity: 1; stroke-width: 0.5px; fill: rgb(242, 183, 1); fill-opacity: 1; stroke: rgb(255, 255, 255); stroke-opacity: 1;\"/></g></g></g><g class=\"trace bars\" style=\"opacity: 1;\"><g class=\"points\"><g class=\"point\"><path d=\"M22.17,43.26V59.74H261.6V43.26Z\" style=\"vector-effect: none; opacity: 1; stroke-width: 0.5px; fill: rgb(17, 165, 121); fill-opacity: 1; stroke: rgb(255, 255, 255); stroke-opacity: 1;\"/></g><g class=\"point\"><path d=\"M13.3,146.26V162.74H181.79V146.26Z\" style=\"vector-effect: none; opacity: 1; stroke-width: 0.5px; fill: rgb(17, 165, 121); fill-opacity: 1; stroke: rgb(255, 255, 255); stroke-opacity: 1;\"/></g></g></g><g class=\"trace bars\" style=\"opacity: 1;\"><g class=\"points\"><g class=\"point\"><path d=\"M270.47,59.74V76.22H279.34V59.74Z\" style=\"vector-effect: none; opacity: 1; stroke-width: 0.5px; fill: rgb(57, 105, 172); fill-opacity: 1; stroke: rgb(255, 255, 255); stroke-opacity: 1;\"/></g><g class=\"point\"><path d=\"M137.45,162.74V179.22H172.92V162.74Z\" style=\"vector-effect: none; opacity: 1; stroke-width: 0.5px; fill: rgb(57, 105, 172); fill-opacity: 1; stroke: rgb(255, 255, 255); stroke-opacity: 1;\"/></g></g></g><g class=\"trace bars\" style=\"opacity: 1;\"><g class=\"points\"><g class=\"point\"><path d=\"M270.47,76.22V92.7H470V76.22Z\" style=\"vector-effect: none; opacity: 1; stroke-width: 0.5px; fill: rgb(231, 63, 116); fill-opacity: 1; stroke: rgb(255, 255, 255); stroke-opacity: 1;\"/></g><g class=\"point\"><path d=\"M137.45,179.22V195.7H359.15V179.22Z\" style=\"vector-effect: none; opacity: 1; stroke-width: 0.5px; fill: rgb(231, 63, 116); fill-opacity: 1; stroke: rgb(255, 255, 255); stroke-opacity: 1;\"/></g></g></g></g></g><g class=\"overplot\"/><path class=\"xlines-above crisp\" d=\"M23,212.5H495M23,5.5H495\" style=\"fill: none; stroke-width: 1px; stroke: rgb(97, 97, 97); stroke-opacity: 1;\"/><path class=\"ylines-above crisp\" d=\"M23.5,6V212M494.5,6V212\" style=\"fill: none; stroke-width: 1px; stroke: rgb(97, 97, 97); stroke-opacity: 1;\"/><g class=\"overlines-above\"/><g class=\"xaxislayer-above\"><path class=\"xtick ticks crisp\" d=\"M0,213v5\" transform=\"translate(24,0)\" style=\"stroke: rgb(68, 68, 68); stroke-opacity: 1; stroke-width: 1px;\"/><path class=\"xtick ticks crisp\" d=\"M0,213v5\" transform=\"translate(157.02,0)\" style=\"stroke: rgb(68, 68, 68); stroke-opacity: 1; stroke-width: 1px;\"/><path class=\"xtick ticks crisp\" d=\"M0,213v5\" transform=\"translate(290.04,0)\" style=\"stroke: rgb(68, 68, 68); stroke-opacity: 1; stroke-width: 1px;\"/><path class=\"xtick ticks crisp\" d=\"M0,213v5\" transform=\"translate(423.06,0)\" style=\"stroke: rgb(68, 68, 68); stroke-opacity: 1; stroke-width: 1px;\"/><g class=\"xtick\"><text text-anchor=\"middle\" x=\"0\" y=\"230\" transform=\"translate(24,0)\" style=\"font-family: Arial; font-size: 10px; fill: rgb(36, 36, 36); fill-opacity: 1; white-space: pre; opacity: 1;\">00:00</text></g><g class=\"xtick\"><text text-anchor=\"middle\" x=\"0\" y=\"230\" style=\"font-family: Arial; font-size: 10px; fill: rgb(36, 36, 36); fill-opacity: 1; white-space: pre; opacity: 1;\" transform=\"translate(157.02,0)\">00:30</text></g><g class=\"xtick\"><text text-anchor=\"middle\" x=\"0\" y=\"230\" style=\"font-family: Arial; font-size: 10px; fill: rgb(36, 36, 36); fill-opacity: 1; white-space: pre; opacity: 1;\" transform=\"translate(290.04,0)\">01:00</text></g><g class=\"xtick\"><text text-anchor=\"middle\" x=\"0\" y=\"230\" style=\"font-family: Arial; font-size: 10px; fill: rgb(36, 36, 36); fill-opacity: 1; white-space: pre; opacity: 1;\" transform=\"translate(423.06,0)\">01:30</text></g></g><g class=\"yaxislayer-above\"><path class=\"ytick ticks crisp\" d=\"M23,0h-5\" transform=\"translate(0,160.5)\" style=\"stroke: rgb(68, 68, 68); stroke-opacity: 1; stroke-width: 1px;\"/><path class=\"ytick ticks crisp\" d=\"M23,0h-5\" transform=\"translate(0,57.5)\" style=\"stroke: rgb(68, 68, 68); stroke-opacity: 1; stroke-width: 1px;\"/><g class=\"ytick\"><text text-anchor=\"middle\" x=\"9\" y=\"3.5\" transform=\"translate(0,160.5) rotate(-90,9,-1.5)\" style=\"font-family: Arial; font-size: 10px; fill: rgb(36, 36, 36); fill-opacity: 1; white-space: pre; opacity: 1;\">ProxyFutures</text></g><g class=\"ytick\"><text text-anchor=\"middle\" x=\"9\" y=\"3.5\" transform=\"translate(0,57.5) rotate(-90,9,-1.5)\" style=\"font-family: Arial; font-size: 10px; fill: rgb(36, 36, 36); fill-opacity: 1; white-space: pre; opacity: 1;\">Baseline</text></g></g><g class=\"overaxes-above\"/></g></g><g class=\"polarlayer\"/><g class=\"smithlayer\"/><g class=\"ternarylayer\"/><g class=\"geolayer\"/><g class=\"funnelarealayer\"/><g class=\"pielayer\"/><g class=\"iciclelayer\"/><g class=\"treemaplayer\"/><g class=\"sunburstlayer\"/><g class=\"glimages\"/><defs id=\"topdefs-d0486f\"><g class=\"clips\"/><clipPath id=\"legendd0486f\"><rect width=\"87\" height=\"109\" x=\"1\" y=\"1\"/></clipPath></defs><g class=\"layer-above\"><g class=\"imagelayer\"/><g class=\"shapelayer\"/></g><g class=\"infolayer\"><g class=\"legend\" pointer-events=\"all\" transform=\"translate(402.65,98.94)\"><rect class=\"bg\" shape-rendering=\"crispEdges\" width=\"88\" height=\"110\" x=\"0.5\" y=\"0.5\" style=\"stroke: rgb(224, 224, 224); stroke-opacity: 1; fill: rgb(255, 255, 255); fill-opacity: 1; stroke-width: 1px;\"/><g class=\"scrollbox\" transform=\"\" clip-path=\"url(#legendd0486f)\"><g class=\"groups\" transform=\"\"><g class=\"traces\" transform=\"translate(1,15.5)\" style=\"opacity: 1;\"><text class=\"legendtext\" text-anchor=\"start\" x=\"40\" y=\"4.680000000000001\" style=\"font-family: Arial; font-size: 12px; fill: rgb(36, 36, 36); fill-opacity: 1; white-space: pre;\">Stage 1</text><g class=\"layers\" style=\"opacity: 1;\"><g class=\"legendfill\"/><g class=\"legendlines\"/><g class=\"legendsymbols\"><g class=\"legendpoints\"><path class=\"legendundefined\" d=\"M6,6H-6V-6H6Z\" transform=\"translate(20,0)\" style=\"stroke-width: 0.5px; fill: rgb(127, 60, 141); fill-opacity: 1; stroke: rgb(255, 255, 255); stroke-opacity: 1;\"/></g></g></g><rect class=\"legendtoggle\" x=\"0\" y=\"-9.5\" width=\"81.375\" height=\"19\" style=\"fill: rgb(0, 0, 0); fill-opacity: 0;\"/></g></g><g class=\"groups\" transform=\"translate(0,1)\"><g class=\"traces\" transform=\"translate(1,34.5)\" style=\"opacity: 1;\"><text class=\"legendtext\" text-anchor=\"start\" x=\"40\" y=\"4.680000000000001\" style=\"font-family: Arial; font-size: 12px; fill: rgb(36, 36, 36); fill-opacity: 1; white-space: pre;\">Stage 2</text><g class=\"layers\" style=\"opacity: 1;\"><g class=\"legendfill\"/><g class=\"legendlines\"/><g class=\"legendsymbols\"><g class=\"legendpoints\"><path class=\"legendundefined\" d=\"M6,6H-6V-6H6Z\" transform=\"translate(20,0)\" style=\"stroke-width: 0.5px; fill: rgb(242, 183, 1); fill-opacity: 1; stroke: rgb(255, 255, 255); stroke-opacity: 1;\"/></g></g></g><rect class=\"legendtoggle\" x=\"0\" y=\"-9.5\" width=\"81.375\" height=\"19\" style=\"fill: rgb(0, 0, 0); fill-opacity: 0;\"/></g></g><g class=\"groups\" transform=\"translate(0,2)\"><g class=\"traces\" transform=\"translate(1,53.5)\" style=\"opacity: 1;\"><text class=\"legendtext\" text-anchor=\"start\" x=\"40\" y=\"4.680000000000001\" style=\"font-family: Arial; font-size: 12px; fill: rgb(36, 36, 36); fill-opacity: 1; white-space: pre;\">Stage 3</text><g class=\"layers\" style=\"opacity: 1;\"><g class=\"legendfill\"/><g class=\"legendlines\"/><g class=\"legendsymbols\"><g class=\"legendpoints\"><path class=\"legendundefined\" d=\"M6,6H-6V-6H6Z\" transform=\"translate(20,0)\" style=\"stroke-width: 0.5px; fill: rgb(17, 165, 121); fill-opacity: 1; stroke: rgb(255, 255, 255); stroke-opacity: 1;\"/></g></g></g><rect class=\"legendtoggle\" x=\"0\" y=\"-9.5\" width=\"81.375\" height=\"19\" style=\"fill: rgb(0, 0, 0); fill-opacity: 0;\"/></g></g><g class=\"groups\" transform=\"translate(0,3)\"><g class=\"traces\" transform=\"translate(1,72.5)\" style=\"opacity: 1;\"><text class=\"legendtext\" text-anchor=\"start\" x=\"40\" y=\"4.680000000000001\" style=\"font-family: Arial; font-size: 12px; fill: rgb(36, 36, 36); fill-opacity: 1; white-space: pre;\">Stage 4</text><g class=\"layers\" style=\"opacity: 1;\"><g class=\"legendfill\"/><g class=\"legendlines\"/><g class=\"legendsymbols\"><g class=\"legendpoints\"><path class=\"legendundefined\" d=\"M6,6H-6V-6H6Z\" transform=\"translate(20,0)\" style=\"stroke-width: 0.5px; fill: rgb(57, 105, 172); fill-opacity: 1; stroke: rgb(255, 255, 255); stroke-opacity: 1;\"/></g></g></g><rect class=\"legendtoggle\" x=\"0\" y=\"-9.5\" width=\"81.375\" height=\"19\" style=\"fill: rgb(0, 0, 0); fill-opacity: 0;\"/></g></g><g class=\"groups\" transform=\"translate(0,4)\"><g class=\"traces\" transform=\"translate(1,91.5)\" style=\"opacity: 1;\"><text class=\"legendtext\" text-anchor=\"start\" x=\"40\" y=\"4.680000000000001\" style=\"font-family: Arial; font-size: 12px; fill: rgb(36, 36, 36); fill-opacity: 1; white-space: pre;\">Stage 5</text><g class=\"layers\" style=\"opacity: 1;\"><g class=\"legendfill\"/><g class=\"legendlines\"/><g class=\"legendsymbols\"><g class=\"legendpoints\"><path class=\"legendundefined\" d=\"M6,6H-6V-6H6Z\" transform=\"translate(20,0)\" style=\"stroke-width: 0.5px; fill: rgb(231, 63, 116); fill-opacity: 1; stroke: rgb(255, 255, 255); stroke-opacity: 1;\"/></g></g></g><rect class=\"legendtoggle\" x=\"0\" y=\"-9.5\" width=\"81.375\" height=\"19\" style=\"fill: rgb(0, 0, 0); fill-opacity: 0;\"/></g></g></g><rect class=\"scrollbar\" rx=\"20\" ry=\"3\" width=\"0\" height=\"0\" x=\"0\" y=\"0\" style=\"fill: rgb(128, 139, 164); fill-opacity: 1;\"/></g><g class=\"g-gtitle\"/><g class=\"g-xtitle\"><text class=\"xtitle\" x=\"259\" y=\"244.9\" text-anchor=\"middle\" style=\"font-family: Arial; font-size: 12px; fill: rgb(36, 36, 36); opacity: 1; font-weight: normal; white-space: pre;\">Runtime (MM:SS)</text></g><g class=\"g-ytitle\"/></g></svg>"
      ]
     },
     "metadata": {},
     "output_type": "display_data"
    }
   ],
   "source": [
    "raw_data = load_data('../data/chameleon/3-1000genomes.csv')\n",
    "data = merge_stages(raw_data)\n",
    "\n",
    "layout = dict(width=500, height=250, margin=dict(l=5, r=5, t=5, b=5))\n",
    "fig = make_gantt(data, layout=layout)\n",
    "fig.show(renderer='svg')\n",
    "\n",
    "figure_dir = pathlib.Path('../figures/chameleon/')\n",
    "figure_dir.mkdir(exist_ok=True)\n",
    "fig.write_image(figure_dir / '3-1000-genomes.pdf')"
   ]
  },
  {
   "cell_type": "code",
   "execution_count": null,
   "id": "1092db4d-a6ed-4701-8917-ccbd453cdd2f",
   "metadata": {},
   "outputs": [],
   "source": []
  }
 ],
 "metadata": {
  "kernelspec": {
   "display_name": "Python 3 (ipykernel)",
   "language": "python",
   "name": "python3"
  },
  "language_info": {
   "codemirror_mode": {
    "name": "ipython",
    "version": 3
   },
   "file_extension": ".py",
   "mimetype": "text/x-python",
   "name": "python",
   "nbconvert_exporter": "python",
   "pygments_lexer": "ipython3",
   "version": "3.11.5"
  }
 },
 "nbformat": 4,
 "nbformat_minor": 5
}
