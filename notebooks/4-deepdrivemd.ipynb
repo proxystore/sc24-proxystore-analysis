{
 "cells": [
  {
   "cell_type": "code",
   "execution_count": 1,
   "id": "392435fa-0b92-4b77-aa34-03c786763165",
   "metadata": {},
   "outputs": [
    {
     "data": {
      "text/plain": [
       "<module 'theme' from '/home/jgpaul/workspace/sc24-proxystore-analysis/notebooks/theme.py'>"
      ]
     },
     "execution_count": 1,
     "metadata": {},
     "output_type": "execute_result"
    }
   ],
   "source": [
    "from __future__ import annotations\n",
    "\n",
    "import importlib\n",
    "import json\n",
    "import math\n",
    "import pathlib\n",
    "import re\n",
    "from datetime import datetime\n",
    "\n",
    "import plotly.express as px\n",
    "import polars\n",
    "import theme\n",
    "\n",
    "importlib.reload(theme)"
   ]
  },
  {
   "cell_type": "code",
   "execution_count": 2,
   "id": "b4ed189e-0de4-4181-9981-e8d135d349a5",
   "metadata": {},
   "outputs": [],
   "source": [
    "def read_log(filepath: pathlib.Path | str) -> list[str]:\n",
    "    with open(filepath) as f:\n",
    "        return f.readlines()"
   ]
  },
  {
   "cell_type": "code",
   "execution_count": 3,
   "id": "17dd6150-4c22-4431-9d36-4f39955ce4ca",
   "metadata": {},
   "outputs": [],
   "source": [
    "def get_log_timestamp(log: str) -> datetime.datetime:\n",
    "    parts = log.split(' - ')\n",
    "    return datetime.strptime(parts[0], '%Y-%m-%d %H:%M:%S,%f')\n",
    "\n",
    "\n",
    "def get_batch_index(log: str) -> int:\n",
    "    matches = re.search('\\(batch: (\\d+)\\)', log)\n",
    "    return int(matches.group(1))\n",
    "\n",
    "\n",
    "def parse_baseline_inference_times(logs: list[str]) -> polars.DataFrame:\n",
    "    logs = [json.loads(l) for l in logs]\n",
    "\n",
    "    batches = [\n",
    "        {\n",
    "            'index': i,\n",
    "            'submitted': datetime.fromtimestamp(log['timestamp']['created']),\n",
    "            'received': datetime.fromtimestamp(\n",
    "                log['timestamp']['result_received'],\n",
    "            ),\n",
    "        }\n",
    "        for i, log in enumerate(logs)\n",
    "    ]\n",
    "\n",
    "    df = polars.from_dicts(batches)\n",
    "    df = df.with_columns(\n",
    "        (polars.col('received') - polars.col('submitted')).alias('timespan'),\n",
    "    )\n",
    "\n",
    "    return df\n",
    "\n",
    "\n",
    "def parse_proxystream_inference_times(logs: list[str]) -> polars.DataFrame:\n",
    "    submitted_logs = [l for l in logs if 'Sending inference input' in l]\n",
    "    received_logs = [l for l in logs if 'Received inference output' in l]\n",
    "\n",
    "    submitted_times = {\n",
    "        get_batch_index(l): get_log_timestamp(l) for l in submitted_logs\n",
    "    }\n",
    "    received_times = {\n",
    "        get_batch_index(l): get_log_timestamp(l) for l in received_logs\n",
    "    }\n",
    "    batches = set(submitted_times.keys()) & set(received_times.keys())\n",
    "\n",
    "    batches = [\n",
    "        {\n",
    "            'index': i,\n",
    "            'submitted': submitted_times[i],\n",
    "            'received': received_times[i],\n",
    "        }\n",
    "        for i in batches\n",
    "    ]\n",
    "\n",
    "    df = polars.from_dicts(batches)\n",
    "    df = df.with_columns(\n",
    "        (polars.col('received') - polars.col('submitted')).alias('timespan'),\n",
    "    )\n",
    "\n",
    "    return df"
   ]
  },
  {
   "cell_type": "code",
   "execution_count": 4,
   "id": "ce4cbfdc-c1c3-452b-b4b2-b72e513eaa76",
   "metadata": {},
   "outputs": [],
   "source": [
    "def plot_distributions(baseline_times, proxystream_times, layout=None):\n",
    "    baseline_times = baseline_times.select(\n",
    "        polars.col('index'),\n",
    "        polars.col('timespan').dt.total_microseconds() / 1e6,\n",
    "        polars.lit('Baseline').alias('method'),\n",
    "    )\n",
    "    proxystream_times = proxystream_times.select(\n",
    "        polars.col('index'),\n",
    "        polars.col('timespan').dt.total_microseconds() / 1e6,\n",
    "        polars.lit('ProxyStream').alias('method'),\n",
    "    )\n",
    "\n",
    "    times = polars.concat([baseline_times, proxystream_times])\n",
    "\n",
    "    bin_width = 0.1\n",
    "    nbins = math.ceil(\n",
    "        (times['timespan'].max() - times['timespan'].min()) / bin_width,\n",
    "    )\n",
    "    colors = {\n",
    "        'Baseline': px.colors.qualitative.Bold[1],\n",
    "        'ProxyStream': px.colors.qualitative.Bold[0],\n",
    "    }\n",
    "\n",
    "    fig = px.box(\n",
    "        x=times['timespan'],\n",
    "        color=times['method'],\n",
    "        color_discrete_map=colors,\n",
    "        category_orders={'timespan': list(colors.keys())},\n",
    "    )\n",
    "    layout = {} if layout is None else layout\n",
    "    fig.update_layout(\n",
    "        xaxis_title='Inference Time (s)',\n",
    "        yaxis=dict(autorange='reversed'),\n",
    "        legend=dict(\n",
    "            yanchor='bottom',\n",
    "            y=0.02,\n",
    "            xanchor='right',\n",
    "            x=0.995,\n",
    "            title=None,\n",
    "        ),\n",
    "        template='proxystore',\n",
    "        boxgap=0,\n",
    "        **layout,\n",
    "    )\n",
    "    return fig"
   ]
  },
  {
   "cell_type": "code",
   "execution_count": 5,
   "id": "c3c911ab-1a60-4ef0-b4b5-a28f612ed48e",
   "metadata": {},
   "outputs": [],
   "source": [
    "def plot_batch_time(baseline_times, proxystream_times, layout=None):\n",
    "    baseline_times = baseline_times.select(\n",
    "        polars.col('index'),\n",
    "        polars.col('timespan').dt.total_microseconds() / 1e6,\n",
    "        polars.lit('Baseline').alias('method'),\n",
    "    )\n",
    "    proxystream_times = proxystream_times.select(\n",
    "        polars.col('index'),\n",
    "        polars.col('timespan').dt.total_microseconds() / 1e6,\n",
    "        polars.lit('ProxyStream').alias('method'),\n",
    "    )\n",
    "\n",
    "    times = polars.concat([baseline_times, proxystream_times])\n",
    "\n",
    "    bin_width = 0.1\n",
    "    nbins = math.ceil(\n",
    "        (times['timespan'].max() - times['timespan'].min()) / bin_width,\n",
    "    )\n",
    "    colors = {\n",
    "        'Baseline': px.colors.qualitative.Bold[1],\n",
    "        'ProxyStream': px.colors.qualitative.Bold[0],\n",
    "    }\n",
    "    fig = px.line(\n",
    "        x=times['index'],\n",
    "        y=times['timespan'],\n",
    "        color=times['method'],\n",
    "    )\n",
    "    layout = {} if layout is None else layout\n",
    "    fig.update_layout(\n",
    "        xaxis_title='Batch Index',\n",
    "        yaxis_title='Inference Time (s)',\n",
    "        legend=dict(\n",
    "            yanchor='bottom',\n",
    "            y=0.02,\n",
    "            xanchor='right',\n",
    "            x=0.995,\n",
    "            title=None,\n",
    "        ),\n",
    "        template='proxystore',\n",
    "        **layout,\n",
    "    )\n",
    "    return fig"
   ]
  },
  {
   "cell_type": "markdown",
   "id": "c4c50433-dbe2-42ad-81f1-97ca2f363fde",
   "metadata": {},
   "source": [
    "## Single Node Test"
   ]
  },
  {
   "cell_type": "code",
   "execution_count": 6,
   "id": "83b65157-29e8-4857-a18e-a34076cfd90a",
   "metadata": {},
   "outputs": [
    {
     "name": "stdout",
     "output_type": "stream",
     "text": [
      "Baseline Mean (std): 3.264023 ± 6.615977\n",
      "ProxyStream Mean (std): 0.663543 ± 0.245087\n"
     ]
    },
    {
     "data": {
      "image/svg+xml": [
       "<svg class=\"main-svg\" xmlns=\"http://www.w3.org/2000/svg\" xmlns:xlink=\"http://www.w3.org/1999/xlink\" width=\"500\" height=\"150\" style=\"\" viewBox=\"0 0 500 150\"><rect x=\"0\" y=\"0\" width=\"500\" height=\"150\" style=\"fill: rgb(255, 255, 255); fill-opacity: 1;\"/><defs id=\"defs-bc5b90\"><g class=\"clips\"><clipPath id=\"clipbc5b90xyplot\" class=\"plotclip\"><rect width=\"473\" height=\"106\"/></clipPath><clipPath class=\"axesclip\" id=\"clipbc5b90x\"><rect x=\"16\" y=\"0\" width=\"473\" height=\"150\"/></clipPath><clipPath class=\"axesclip\" id=\"clipbc5b90y\"><rect x=\"0\" y=\"6\" width=\"500\" height=\"106\"/></clipPath><clipPath class=\"axesclip\" id=\"clipbc5b90xy\"><rect x=\"16\" y=\"6\" width=\"473\" height=\"106\"/></clipPath></g><g class=\"gradients\"/><g class=\"patterns\"/></defs><g class=\"bglayer\"/><g class=\"layer-below\"><g class=\"imagelayer\"/><g class=\"shapelayer\"/></g><g class=\"cartesianlayer\"><g class=\"subplot xy\"><g class=\"layer-subplot\"><g class=\"shapelayer\"/><g class=\"imagelayer\"/></g><g class=\"minor-gridlayer\"><g class=\"x\"/><g class=\"y\"/></g><g class=\"gridlayer\"><g class=\"x\"><path class=\"xgrid crisp\" transform=\"translate(134.25,0)\" d=\"M0,6v106\" style=\"stroke: rgb(224, 224, 224); stroke-opacity: 1; stroke-width: 1px;\"/><path class=\"xgrid crisp\" transform=\"translate(252.5,0)\" d=\"M0,6v106\" style=\"stroke: rgb(224, 224, 224); stroke-opacity: 1; stroke-width: 1px;\"/><path class=\"xgrid crisp\" transform=\"translate(370.75,0)\" d=\"M0,6v106\" style=\"stroke: rgb(224, 224, 224); stroke-opacity: 1; stroke-width: 1px;\"/></g><g class=\"y\"><path class=\"ygrid crisp\" transform=\"translate(0,59)\" d=\"M16,0h473\" style=\"stroke: rgb(224, 224, 224); stroke-opacity: 1; stroke-width: 1px;\"/></g></g><g class=\"zerolinelayer\"/><path class=\"xlines-below\"/><path class=\"ylines-below\"/><g class=\"overlines-below\"/><g class=\"xaxislayer-below\"/><g class=\"yaxislayer-below\"/><g class=\"overaxes-below\"/><g class=\"plot\" transform=\"translate(16,6)\" clip-path=\"url(#clipbc5b90xyplot)\"><g class=\"boxlayer mlayer\"><g class=\"trace boxes\" style=\"opacity: 1;\"><path class=\"box\" d=\"M20.76,10.5V45.5M14.22,10.5V45.5H25.8V10.5ZM14.22,28H7.74M25.8,28H35.72M7.74,19.25V36.75M35.72,19.25V36.75\" style=\"vector-effect: none; stroke-width: 2px; stroke: rgb(17, 165, 121); stroke-opacity: 1; fill: rgb(17, 165, 121); fill-opacity: 0.5;\"/><g class=\"points\"><path class=\"point\" transform=\"translate(46.73,28)\" d=\"M3,0A3,3 0 1,1 0,-3A3,3 0 0,1 3,0Z\" style=\"opacity: 1; stroke-width: 0px; fill: rgb(17, 165, 121); fill-opacity: 1;\"/><path class=\"point\" transform=\"translate(82.78,28)\" d=\"M3,0A3,3 0 1,1 0,-3A3,3 0 0,1 3,0Z\" style=\"opacity: 1; stroke-width: 0px; fill: rgb(17, 165, 121); fill-opacity: 1;\"/><path class=\"point\" transform=\"translate(140.57,28)\" d=\"M3,0A3,3 0 1,1 0,-3A3,3 0 0,1 3,0Z\" style=\"opacity: 1; stroke-width: 0px; fill: rgb(17, 165, 121); fill-opacity: 1;\"/><path class=\"point\" transform=\"translate(141.86,28)\" d=\"M3,0A3,3 0 1,1 0,-3A3,3 0 0,1 3,0Z\" style=\"opacity: 1; stroke-width: 0px; fill: rgb(17, 165, 121); fill-opacity: 1;\"/><path class=\"point\" transform=\"translate(152.68,28)\" d=\"M3,0A3,3 0 1,1 0,-3A3,3 0 0,1 3,0Z\" style=\"opacity: 1; stroke-width: 0px; fill: rgb(17, 165, 121); fill-opacity: 1;\"/><path class=\"point\" transform=\"translate(169.18,28)\" d=\"M3,0A3,3 0 1,1 0,-3A3,3 0 0,1 3,0Z\" style=\"opacity: 1; stroke-width: 0px; fill: rgb(17, 165, 121); fill-opacity: 1;\"/><path class=\"point\" transform=\"translate(203.96,28)\" d=\"M3,0A3,3 0 1,1 0,-3A3,3 0 0,1 3,0Z\" style=\"opacity: 1; stroke-width: 0px; fill: rgb(17, 165, 121); fill-opacity: 1;\"/><path class=\"point\" transform=\"translate(215.02,28)\" d=\"M3,0A3,3 0 1,1 0,-3A3,3 0 0,1 3,0Z\" style=\"opacity: 1; stroke-width: 0px; fill: rgb(17, 165, 121); fill-opacity: 1;\"/><path class=\"point\" transform=\"translate(219.83,28)\" d=\"M3,0A3,3 0 1,1 0,-3A3,3 0 0,1 3,0Z\" style=\"opacity: 1; stroke-width: 0px; fill: rgb(17, 165, 121); fill-opacity: 1;\"/><path class=\"point\" transform=\"translate(251.23,28)\" d=\"M3,0A3,3 0 1,1 0,-3A3,3 0 0,1 3,0Z\" style=\"opacity: 1; stroke-width: 0px; fill: rgb(17, 165, 121); fill-opacity: 1;\"/><path class=\"point\" transform=\"translate(274.85,28)\" d=\"M3,0A3,3 0 1,1 0,-3A3,3 0 0,1 3,0Z\" style=\"opacity: 1; stroke-width: 0px; fill: rgb(17, 165, 121); fill-opacity: 1;\"/><path class=\"point\" transform=\"translate(286.82,28)\" d=\"M3,0A3,3 0 1,1 0,-3A3,3 0 0,1 3,0Z\" style=\"opacity: 1; stroke-width: 0px; fill: rgb(17, 165, 121); fill-opacity: 1;\"/><path class=\"point\" transform=\"translate(306.13,28)\" d=\"M3,0A3,3 0 1,1 0,-3A3,3 0 0,1 3,0Z\" style=\"opacity: 1; stroke-width: 0px; fill: rgb(17, 165, 121); fill-opacity: 1;\"/><path class=\"point\" transform=\"translate(316.9,28)\" d=\"M3,0A3,3 0 1,1 0,-3A3,3 0 0,1 3,0Z\" style=\"opacity: 1; stroke-width: 0px; fill: rgb(17, 165, 121); fill-opacity: 1;\"/><path class=\"point\" transform=\"translate(333.53,28)\" d=\"M3,0A3,3 0 1,1 0,-3A3,3 0 0,1 3,0Z\" style=\"opacity: 1; stroke-width: 0px; fill: rgb(17, 165, 121); fill-opacity: 1;\"/><path class=\"point\" transform=\"translate(371.07,28)\" d=\"M3,0A3,3 0 1,1 0,-3A3,3 0 0,1 3,0Z\" style=\"opacity: 1; stroke-width: 0px; fill: rgb(17, 165, 121); fill-opacity: 1;\"/><path class=\"point\" transform=\"translate(374.96,28)\" d=\"M3,0A3,3 0 1,1 0,-3A3,3 0 0,1 3,0Z\" style=\"opacity: 1; stroke-width: 0px; fill: rgb(17, 165, 121); fill-opacity: 1;\"/><path class=\"point\" transform=\"translate(390.1,28)\" d=\"M3,0A3,3 0 1,1 0,-3A3,3 0 0,1 3,0Z\" style=\"opacity: 1; stroke-width: 0px; fill: rgb(17, 165, 121); fill-opacity: 1;\"/><path class=\"point\" transform=\"translate(411.62,28)\" d=\"M3,0A3,3 0 1,1 0,-3A3,3 0 0,1 3,0Z\" style=\"opacity: 1; stroke-width: 0px; fill: rgb(17, 165, 121); fill-opacity: 1;\"/><path class=\"point\" transform=\"translate(433.99,28)\" d=\"M3,0A3,3 0 1,1 0,-3A3,3 0 0,1 3,0Z\" style=\"opacity: 1; stroke-width: 0px; fill: rgb(17, 165, 121); fill-opacity: 1;\"/><path class=\"point\" transform=\"translate(439.24,28)\" d=\"M3,0A3,3 0 1,1 0,-3A3,3 0 0,1 3,0Z\" style=\"opacity: 1; stroke-width: 0px; fill: rgb(17, 165, 121); fill-opacity: 1;\"/><path class=\"point\" transform=\"translate(447.48,28)\" d=\"M3,0A3,3 0 1,1 0,-3A3,3 0 0,1 3,0Z\" style=\"opacity: 1; stroke-width: 0px; fill: rgb(17, 165, 121); fill-opacity: 1;\"/><path class=\"point\" transform=\"translate(466.98,28)\" d=\"M3,0A3,3 0 1,1 0,-3A3,3 0 0,1 3,0Z\" style=\"opacity: 1; stroke-width: 0px; fill: rgb(17, 165, 121); fill-opacity: 1;\"/><path class=\"point\" transform=\"translate(501.93,28)\" d=\"M3,0A3,3 0 1,1 0,-3A3,3 0 0,1 3,0Z\" style=\"opacity: 1; stroke-width: 0px; fill: rgb(17, 165, 121); fill-opacity: 1;\"/><path class=\"point\" transform=\"translate(503.04,28)\" d=\"M3,0A3,3 0 1,1 0,-3A3,3 0 0,1 3,0Z\" style=\"opacity: 1; stroke-width: 0px; fill: rgb(17, 165, 121); fill-opacity: 1;\"/><path class=\"point\" transform=\"translate(524.42,28)\" d=\"M3,0A3,3 0 1,1 0,-3A3,3 0 0,1 3,0Z\" style=\"opacity: 1; stroke-width: 0px; fill: rgb(17, 165, 121); fill-opacity: 1;\"/><path class=\"point\" transform=\"translate(534.69,28)\" d=\"M3,0A3,3 0 1,1 0,-3A3,3 0 0,1 3,0Z\" style=\"opacity: 1; stroke-width: 0px; fill: rgb(17, 165, 121); fill-opacity: 1;\"/><path class=\"point\" transform=\"translate(558.92,28)\" d=\"M3,0A3,3 0 1,1 0,-3A3,3 0 0,1 3,0Z\" style=\"opacity: 1; stroke-width: 0px; fill: rgb(17, 165, 121); fill-opacity: 1;\"/><path class=\"point\" transform=\"translate(593.61,28)\" d=\"M3,0A3,3 0 1,1 0,-3A3,3 0 0,1 3,0Z\" style=\"opacity: 1; stroke-width: 0px; fill: rgb(17, 165, 121); fill-opacity: 1;\"/><path class=\"point\" transform=\"translate(595.07,28)\" d=\"M3,0A3,3 0 1,1 0,-3A3,3 0 0,1 3,0Z\" style=\"opacity: 1; stroke-width: 0px; fill: rgb(17, 165, 121); fill-opacity: 1;\"/><path class=\"point\" transform=\"translate(616.25,28)\" d=\"M3,0A3,3 0 1,1 0,-3A3,3 0 0,1 3,0Z\" style=\"opacity: 1; stroke-width: 0px; fill: rgb(17, 165, 121); fill-opacity: 1;\"/><path class=\"point\" transform=\"translate(622.8,28)\" d=\"M3,0A3,3 0 1,1 0,-3A3,3 0 0,1 3,0Z\" style=\"opacity: 1; stroke-width: 0px; fill: rgb(17, 165, 121); fill-opacity: 1;\"/><path class=\"point\" transform=\"translate(642.16,28)\" d=\"M3,0A3,3 0 1,1 0,-3A3,3 0 0,1 3,0Z\" style=\"opacity: 1; stroke-width: 0px; fill: rgb(17, 165, 121); fill-opacity: 1;\"/><path class=\"point\" transform=\"translate(653.65,28)\" d=\"M3,0A3,3 0 1,1 0,-3A3,3 0 0,1 3,0Z\" style=\"opacity: 1; stroke-width: 0px; fill: rgb(17, 165, 121); fill-opacity: 1;\"/><path class=\"point\" transform=\"translate(673.29,28)\" d=\"M3,0A3,3 0 1,1 0,-3A3,3 0 0,1 3,0Z\" style=\"opacity: 1; stroke-width: 0px; fill: rgb(17, 165, 121); fill-opacity: 1;\"/><path class=\"point\" transform=\"translate(681.56,28)\" d=\"M3,0A3,3 0 1,1 0,-3A3,3 0 0,1 3,0Z\" style=\"opacity: 1; stroke-width: 0px; fill: rgb(17, 165, 121); fill-opacity: 1;\"/><path class=\"point\" transform=\"translate(701.35,28)\" d=\"M3,0A3,3 0 1,1 0,-3A3,3 0 0,1 3,0Z\" style=\"opacity: 1; stroke-width: 0px; fill: rgb(17, 165, 121); fill-opacity: 1;\"/></g></g><g class=\"trace boxes\" style=\"opacity: 1;\"><path class=\"box\" d=\"M15.28,60.5V95.5M11.05,60.5V95.5H19.82V60.5ZM11.05,78H6.57M19.82,78H31.5M6.57,69.25V86.75M31.5,69.25V86.75\" style=\"vector-effect: none; stroke-width: 2px; stroke: rgb(127, 60, 141); stroke-opacity: 1; fill: rgb(127, 60, 141); fill-opacity: 0.5;\"/><g class=\"points\"><path class=\"point\" transform=\"translate(33.32,78)\" d=\"M3,0A3,3 0 1,1 0,-3A3,3 0 0,1 3,0Z\" style=\"opacity: 1; stroke-width: 0px; fill: rgb(127, 60, 141); fill-opacity: 1;\"/><path class=\"point\" transform=\"translate(35.57,78)\" d=\"M3,0A3,3 0 1,1 0,-3A3,3 0 0,1 3,0Z\" style=\"opacity: 1; stroke-width: 0px; fill: rgb(127, 60, 141); fill-opacity: 1;\"/></g></g></g></g><g class=\"overplot\"/><path class=\"xlines-above crisp\" d=\"M15,112.5H490M15,5.5H490\" style=\"fill: none; stroke-width: 1px; stroke: rgb(97, 97, 97); stroke-opacity: 1;\"/><path class=\"ylines-above crisp\" d=\"M15.5,6V112M489.5,6V112\" style=\"fill: none; stroke-width: 1px; stroke: rgb(97, 97, 97); stroke-opacity: 1;\"/><g class=\"overlines-above\"/><g class=\"xaxislayer-above\"><path class=\"xtick ticks crisp\" d=\"M0,113v5\" transform=\"translate(16,0)\" style=\"stroke: rgb(68, 68, 68); stroke-opacity: 1; stroke-width: 1px;\"/><path class=\"xtick ticks crisp\" d=\"M0,113v5\" transform=\"translate(134.25,0)\" style=\"stroke: rgb(68, 68, 68); stroke-opacity: 1; stroke-width: 1px;\"/><path class=\"xtick ticks crisp\" d=\"M0,113v5\" transform=\"translate(252.5,0)\" style=\"stroke: rgb(68, 68, 68); stroke-opacity: 1; stroke-width: 1px;\"/><path class=\"xtick ticks crisp\" d=\"M0,113v5\" transform=\"translate(370.75,0)\" style=\"stroke: rgb(68, 68, 68); stroke-opacity: 1; stroke-width: 1px;\"/><path class=\"xtick ticks crisp\" d=\"M0,113v5\" transform=\"translate(489,0)\" style=\"stroke: rgb(68, 68, 68); stroke-opacity: 1; stroke-width: 1px;\"/><g class=\"xtick\"><text text-anchor=\"middle\" x=\"0\" y=\"130\" transform=\"translate(16,0)\" style=\"font-family: Arial; font-size: 10px; fill: rgb(36, 36, 36); fill-opacity: 1; white-space: pre; opacity: 1;\">0</text></g><g class=\"xtick\"><text text-anchor=\"middle\" x=\"0\" y=\"130\" style=\"font-family: Arial; font-size: 10px; fill: rgb(36, 36, 36); fill-opacity: 1; white-space: pre; opacity: 1;\" transform=\"translate(134.25,0)\">5</text></g><g class=\"xtick\"><text text-anchor=\"middle\" x=\"0\" y=\"130\" style=\"font-family: Arial; font-size: 10px; fill: rgb(36, 36, 36); fill-opacity: 1; white-space: pre; opacity: 1;\" transform=\"translate(252.5,0)\">10</text></g><g class=\"xtick\"><text text-anchor=\"middle\" x=\"0\" y=\"130\" style=\"font-family: Arial; font-size: 10px; fill: rgb(36, 36, 36); fill-opacity: 1; white-space: pre; opacity: 1;\" transform=\"translate(370.75,0)\">15</text></g><g class=\"xtick\"><text text-anchor=\"middle\" x=\"0\" y=\"130\" style=\"font-family: Arial; font-size: 10px; fill: rgb(36, 36, 36); fill-opacity: 1; white-space: pre; opacity: 1;\" transform=\"translate(489,0)\">20</text></g></g><g class=\"yaxislayer-above\"><path class=\"ytick ticks crisp\" d=\"M15,0h-5\" transform=\"translate(0,59)\" style=\"stroke: rgb(68, 68, 68); stroke-opacity: 1; stroke-width: 1px;\"/><g class=\"ytick\"><text text-anchor=\"end\" x=\"8\" y=\"3.5\" transform=\"translate(0,59)\" style=\"font-family: Arial; font-size: 10px; fill: rgb(36, 36, 36); fill-opacity: 1; white-space: pre; opacity: 1;\"> </text></g></g><g class=\"overaxes-above\"/></g></g><g class=\"polarlayer\"/><g class=\"smithlayer\"/><g class=\"ternarylayer\"/><g class=\"geolayer\"/><g class=\"funnelarealayer\"/><g class=\"pielayer\"/><g class=\"iciclelayer\"/><g class=\"treemaplayer\"/><g class=\"sunburstlayer\"/><g class=\"glimages\"/><defs id=\"topdefs-bc5b90\"><g class=\"clips\"/><clipPath id=\"legendbc5b90\"><rect width=\"115\" height=\"48\" x=\"1\" y=\"1\"/></clipPath></defs><g class=\"layer-above\"><g class=\"imagelayer\"/><g class=\"shapelayer\"/></g><g class=\"infolayer\"><g class=\"legend\" pointer-events=\"all\" transform=\"translate(369.635,59.879999999999995)\"><rect class=\"bg\" shape-rendering=\"crispEdges\" style=\"stroke: rgb(224, 224, 224); stroke-opacity: 1; fill: rgb(255, 255, 255); fill-opacity: 1; stroke-width: 1px;\" width=\"116\" height=\"49\" x=\"0.5\" y=\"0.5\"/><g class=\"scrollbox\" transform=\"\" clip-path=\"url(#legendbc5b90)\"><g class=\"groups\" transform=\"\"><g class=\"traces\" transform=\"translate(1,15.5)\" style=\"opacity: 1;\"><text class=\"legendtext\" text-anchor=\"start\" x=\"40\" y=\"4.680000000000001\" style=\"font-family: Arial; font-size: 12px; fill: rgb(36, 36, 36); fill-opacity: 1; white-space: pre;\">Baseline</text><g class=\"layers\" style=\"opacity: 1;\"><g class=\"legendfill\"/><g class=\"legendlines\"/><g class=\"legendsymbols\"><g class=\"legendpoints\"><path class=\"legendbox\" d=\"M6,6H-6V-6H6Z\" transform=\"translate(20,0)\" style=\"stroke-width: 2px; fill: rgb(17, 165, 121); fill-opacity: 0.5; stroke: rgb(17, 165, 121); stroke-opacity: 1;\"/></g></g></g><rect class=\"legendtoggle\" x=\"0\" y=\"-9.5\" width=\"109.359375\" height=\"19\" style=\"fill: rgb(0, 0, 0); fill-opacity: 0;\"/></g></g><g class=\"groups\" transform=\"\"><g class=\"traces\" transform=\"translate(1,34.5)\" style=\"opacity: 1;\"><text class=\"legendtext\" text-anchor=\"start\" x=\"40\" y=\"4.680000000000001\" style=\"font-family: Arial; font-size: 12px; fill: rgb(36, 36, 36); fill-opacity: 1; white-space: pre;\">ProxyStream</text><g class=\"layers\" style=\"opacity: 1;\"><g class=\"legendfill\"/><g class=\"legendlines\"/><g class=\"legendsymbols\"><g class=\"legendpoints\"><path class=\"legendbox\" d=\"M6,6H-6V-6H6Z\" transform=\"translate(20,0)\" style=\"stroke-width: 2px; fill: rgb(127, 60, 141); fill-opacity: 0.5; stroke: rgb(127, 60, 141); stroke-opacity: 1;\"/></g></g></g><rect class=\"legendtoggle\" x=\"0\" y=\"-9.5\" width=\"109.359375\" height=\"19\" style=\"fill: rgb(0, 0, 0); fill-opacity: 0;\"/></g></g></g><rect class=\"scrollbar\" rx=\"20\" ry=\"3\" width=\"0\" height=\"0\" style=\"fill: rgb(128, 139, 164); fill-opacity: 1;\" x=\"0\" y=\"0\"/></g><g class=\"g-gtitle\"/><g class=\"g-xtitle\"><text class=\"xtitle\" x=\"252.5\" y=\"144.9\" text-anchor=\"middle\" style=\"font-family: Arial; font-size: 12px; fill: rgb(36, 36, 36); opacity: 1; font-weight: normal; white-space: pre;\">Inference Time (s)</text></g><g class=\"g-ytitle\"/></g></svg>"
      ]
     },
     "metadata": {},
     "output_type": "display_data"
    }
   ],
   "source": [
    "baseline_logs = read_log(\n",
    "    '../data/polaris/4-deepdrivemd/bba-baseline-160324-174754/result/inference.json',\n",
    ")\n",
    "proxystream_logs = read_log(\n",
    "    '../data/polaris/4-deepdrivemd/bba-proxystream-160324-163305/runtime.log',\n",
    ")\n",
    "\n",
    "baseline_times = parse_baseline_inference_times(baseline_logs)\n",
    "proxystream_times = parse_proxystream_inference_times(proxystream_logs)\n",
    "\n",
    "baseline_summary = (\n",
    "    baseline_times['timespan'].mean().total_seconds(),\n",
    "    baseline_times['timespan'].std().total_seconds(),\n",
    ")\n",
    "proxystream_summary = (\n",
    "    proxystream_times['timespan'].mean().total_seconds(),\n",
    "    proxystream_times['timespan'].std().total_seconds(),\n",
    ")\n",
    "print(f'Baseline Mean (std): {baseline_summary[0]} ± {baseline_summary[1]}')\n",
    "print(\n",
    "    f'ProxyStream Mean (std): {proxystream_summary[0]} ± {proxystream_summary[1]}',\n",
    ")\n",
    "\n",
    "layout = dict(width=500, height=150, xaxis_range=[0, 20], margin=dict(l=5, r=5, t=5, b=5))\n",
    "\n",
    "fig = plot_distributions(baseline_times, proxystream_times, layout)\n",
    "fig.show(renderer='svg')"
   ]
  },
  {
   "cell_type": "markdown",
   "id": "425ef813-e423-4c7b-b43b-858b8da0f43c",
   "metadata": {},
   "source": [
    "## 10 Node Run"
   ]
  },
  {
   "cell_type": "code",
   "execution_count": 17,
   "id": "5658d485-471f-452c-97e1-5ed05ea9d96e",
   "metadata": {},
   "outputs": [
    {
     "name": "stdout",
     "output_type": "stream",
     "text": [
      "Baseline inference batchs: 96\n",
      "ProxyStream inference batchs: 116\n",
      "Baseline Mean (std): 21.290505 ± 8.804516\n",
      "ProxyStream Mean (std): 15.026258 ± 8.483399\n"
     ]
    },
    {
     "data": {
      "image/svg+xml": [
       "<svg class=\"main-svg\" xmlns=\"http://www.w3.org/2000/svg\" xmlns:xlink=\"http://www.w3.org/1999/xlink\" width=\"500\" height=\"150\" style=\"\" viewBox=\"0 0 500 150\"><rect x=\"0\" y=\"0\" width=\"500\" height=\"150\" style=\"fill: rgb(255, 255, 255); fill-opacity: 1;\"/><defs id=\"defs-c63b56\"><g class=\"clips\"><clipPath id=\"clipc63b56xyplot\" class=\"plotclip\"><rect width=\"478\" height=\"106\"/></clipPath><clipPath class=\"axesclip\" id=\"clipc63b56x\"><rect x=\"16\" y=\"0\" width=\"478\" height=\"150\"/></clipPath><clipPath class=\"axesclip\" id=\"clipc63b56y\"><rect x=\"0\" y=\"6\" width=\"500\" height=\"106\"/></clipPath><clipPath class=\"axesclip\" id=\"clipc63b56xy\"><rect x=\"16\" y=\"6\" width=\"478\" height=\"106\"/></clipPath></g><g class=\"gradients\"/><g class=\"patterns\"/></defs><g class=\"bglayer\"/><g class=\"layer-below\"><g class=\"imagelayer\"/><g class=\"shapelayer\"/></g><g class=\"cartesianlayer\"><g class=\"subplot xy\"><g class=\"layer-subplot\"><g class=\"shapelayer\"/><g class=\"imagelayer\"/></g><g class=\"minor-gridlayer\"><g class=\"x\"/><g class=\"y\"/></g><g class=\"gridlayer\"><g class=\"x\"><path class=\"xgrid crisp\" transform=\"translate(19.2,0)\" d=\"M0,6v106\" style=\"stroke: rgb(224, 224, 224); stroke-opacity: 1; stroke-width: 1px;\"/><path class=\"xgrid crisp\" transform=\"translate(105.54,0)\" d=\"M0,6v106\" style=\"stroke: rgb(224, 224, 224); stroke-opacity: 1; stroke-width: 1px;\"/><path class=\"xgrid crisp\" transform=\"translate(191.89,0)\" d=\"M0,6v106\" style=\"stroke: rgb(224, 224, 224); stroke-opacity: 1; stroke-width: 1px;\"/><path class=\"xgrid crisp\" transform=\"translate(278.23,0)\" d=\"M0,6v106\" style=\"stroke: rgb(224, 224, 224); stroke-opacity: 1; stroke-width: 1px;\"/><path class=\"xgrid crisp\" transform=\"translate(364.58,0)\" d=\"M0,6v106\" style=\"stroke: rgb(224, 224, 224); stroke-opacity: 1; stroke-width: 1px;\"/><path class=\"xgrid crisp\" transform=\"translate(450.92,0)\" d=\"M0,6v106\" style=\"stroke: rgb(224, 224, 224); stroke-opacity: 1; stroke-width: 1px;\"/></g><g class=\"y\"><path class=\"ygrid crisp\" transform=\"translate(0,59)\" d=\"M16,0h478\" style=\"stroke: rgb(224, 224, 224); stroke-opacity: 1; stroke-width: 1px;\"/></g></g><g class=\"zerolinelayer\"/><path class=\"xlines-below\"/><path class=\"ylines-below\"/><g class=\"overlines-below\"/><g class=\"xaxislayer-below\"/><g class=\"yaxislayer-below\"/><g class=\"overaxes-below\"/><g class=\"plot\" transform=\"translate(16,6)\" clip-path=\"url(#clipc63b56xyplot)\"><g class=\"boxlayer mlayer\"><g class=\"trace boxes\" style=\"opacity: 1;\"><path class=\"box\" d=\"M190.24,10.5V45.5M141.11,10.5V45.5H233.05V10.5ZM141.11,28H23.9M233.05,28H341.98M23.9,19.25V36.75M341.98,19.25V36.75\" style=\"vector-effect: none; stroke-width: 2px; stroke: rgb(17, 165, 121); stroke-opacity: 1; fill: rgb(17, 165, 121); fill-opacity: 0.5;\"/><g class=\"points\"><path class=\"point\" transform=\"translate(435.83,28)\" d=\"M3,0A3,3 0 1,1 0,-3A3,3 0 0,1 3,0Z\" style=\"opacity: 1; stroke-width: 0px; fill: rgb(17, 165, 121); fill-opacity: 1;\"/><path class=\"point\" transform=\"translate(454.1,28)\" d=\"M3,0A3,3 0 1,1 0,-3A3,3 0 0,1 3,0Z\" style=\"opacity: 1; stroke-width: 0px; fill: rgb(17, 165, 121); fill-opacity: 1;\"/></g></g><g class=\"trace boxes\" style=\"opacity: 1;\"><path class=\"box\" d=\"M124.04,60.5V95.5M66.36,60.5V95.5H195.65V60.5ZM66.36,78H24.14M195.65,78H267.22M24.14,69.25V86.75M267.22,69.25V86.75\" style=\"vector-effect: none; stroke-width: 2px; stroke: rgb(127, 60, 141); stroke-opacity: 1; fill: rgb(127, 60, 141); fill-opacity: 0.5;\"/><g class=\"points\"/></g></g></g><g class=\"overplot\"/><path class=\"xlines-above crisp\" d=\"M15,112.5H495M15,5.5H495\" style=\"fill: none; stroke-width: 1px; stroke: rgb(97, 97, 97); stroke-opacity: 1;\"/><path class=\"ylines-above crisp\" d=\"M15.5,6V112M494.5,6V112\" style=\"fill: none; stroke-width: 1px; stroke: rgb(97, 97, 97); stroke-opacity: 1;\"/><g class=\"overlines-above\"/><g class=\"xaxislayer-above\"><path class=\"xtick ticks crisp\" d=\"M0,113v5\" transform=\"translate(19.2,0)\" style=\"stroke: rgb(68, 68, 68); stroke-opacity: 1; stroke-width: 1px;\"/><path class=\"xtick ticks crisp\" d=\"M0,113v5\" transform=\"translate(105.54,0)\" style=\"stroke: rgb(68, 68, 68); stroke-opacity: 1; stroke-width: 1px;\"/><path class=\"xtick ticks crisp\" d=\"M0,113v5\" transform=\"translate(191.89,0)\" style=\"stroke: rgb(68, 68, 68); stroke-opacity: 1; stroke-width: 1px;\"/><path class=\"xtick ticks crisp\" d=\"M0,113v5\" transform=\"translate(278.23,0)\" style=\"stroke: rgb(68, 68, 68); stroke-opacity: 1; stroke-width: 1px;\"/><path class=\"xtick ticks crisp\" d=\"M0,113v5\" transform=\"translate(364.58,0)\" style=\"stroke: rgb(68, 68, 68); stroke-opacity: 1; stroke-width: 1px;\"/><path class=\"xtick ticks crisp\" d=\"M0,113v5\" transform=\"translate(450.92,0)\" style=\"stroke: rgb(68, 68, 68); stroke-opacity: 1; stroke-width: 1px;\"/><g class=\"xtick\"><text text-anchor=\"middle\" x=\"0\" y=\"130\" transform=\"translate(19.2,0)\" style=\"font-family: Arial; font-size: 10px; fill: rgb(36, 36, 36); fill-opacity: 1; white-space: pre; opacity: 1;\">0</text></g><g class=\"xtick\"><text text-anchor=\"middle\" x=\"0\" y=\"130\" style=\"font-family: Arial; font-size: 10px; fill: rgb(36, 36, 36); fill-opacity: 1; white-space: pre; opacity: 1;\" transform=\"translate(105.54,0)\">10</text></g><g class=\"xtick\"><text text-anchor=\"middle\" x=\"0\" y=\"130\" style=\"font-family: Arial; font-size: 10px; fill: rgb(36, 36, 36); fill-opacity: 1; white-space: pre; opacity: 1;\" transform=\"translate(191.89,0)\">20</text></g><g class=\"xtick\"><text text-anchor=\"middle\" x=\"0\" y=\"130\" style=\"font-family: Arial; font-size: 10px; fill: rgb(36, 36, 36); fill-opacity: 1; white-space: pre; opacity: 1;\" transform=\"translate(278.23,0)\">30</text></g><g class=\"xtick\"><text text-anchor=\"middle\" x=\"0\" y=\"130\" style=\"font-family: Arial; font-size: 10px; fill: rgb(36, 36, 36); fill-opacity: 1; white-space: pre; opacity: 1;\" transform=\"translate(364.58,0)\">40</text></g><g class=\"xtick\"><text text-anchor=\"middle\" x=\"0\" y=\"130\" style=\"font-family: Arial; font-size: 10px; fill: rgb(36, 36, 36); fill-opacity: 1; white-space: pre; opacity: 1;\" transform=\"translate(450.92,0)\">50</text></g></g><g class=\"yaxislayer-above\"><path class=\"ytick ticks crisp\" d=\"M15,0h-5\" transform=\"translate(0,59)\" style=\"stroke: rgb(68, 68, 68); stroke-opacity: 1; stroke-width: 1px;\"/><g class=\"ytick\"><text text-anchor=\"end\" x=\"8\" y=\"3.5\" transform=\"translate(0,59)\" style=\"font-family: Arial; font-size: 10px; fill: rgb(36, 36, 36); fill-opacity: 1; white-space: pre; opacity: 1;\"> </text></g></g><g class=\"overaxes-above\"/></g></g><g class=\"polarlayer\"/><g class=\"smithlayer\"/><g class=\"ternarylayer\"/><g class=\"geolayer\"/><g class=\"funnelarealayer\"/><g class=\"pielayer\"/><g class=\"iciclelayer\"/><g class=\"treemaplayer\"/><g class=\"sunburstlayer\"/><g class=\"glimages\"/><defs id=\"topdefs-c63b56\"><g class=\"clips\"/><clipPath id=\"legendc63b56\"><rect width=\"115\" height=\"48\" x=\"1\" y=\"1\"/></clipPath></defs><g class=\"layer-above\"><g class=\"imagelayer\"/><g class=\"shapelayer\"/></g><g class=\"infolayer\"><g class=\"legend\" pointer-events=\"all\" transform=\"translate(374.61,59.879999999999995)\"><rect class=\"bg\" shape-rendering=\"crispEdges\" width=\"116\" height=\"49\" x=\"0.5\" y=\"0.5\" style=\"stroke: rgb(224, 224, 224); stroke-opacity: 1; fill: rgb(255, 255, 255); fill-opacity: 1; stroke-width: 1px;\"/><g class=\"scrollbox\" transform=\"\" clip-path=\"url(#legendc63b56)\"><g class=\"groups\" transform=\"\"><g class=\"traces\" transform=\"translate(1,15.5)\" style=\"opacity: 1;\"><text class=\"legendtext\" text-anchor=\"start\" x=\"40\" y=\"4.680000000000001\" style=\"font-family: Arial; font-size: 12px; fill: rgb(36, 36, 36); fill-opacity: 1; white-space: pre;\">Baseline</text><g class=\"layers\" style=\"opacity: 1;\"><g class=\"legendfill\"/><g class=\"legendlines\"/><g class=\"legendsymbols\"><g class=\"legendpoints\"><path class=\"legendbox\" d=\"M6,6H-6V-6H6Z\" transform=\"translate(20,0)\" style=\"stroke-width: 2px; fill: rgb(17, 165, 121); fill-opacity: 0.5; stroke: rgb(17, 165, 121); stroke-opacity: 1;\"/></g></g></g><rect class=\"legendtoggle\" x=\"0\" y=\"-9.5\" width=\"109.359375\" height=\"19\" style=\"fill: rgb(0, 0, 0); fill-opacity: 0;\"/></g></g><g class=\"groups\" transform=\"\"><g class=\"traces\" transform=\"translate(1,34.5)\" style=\"opacity: 1;\"><text class=\"legendtext\" text-anchor=\"start\" x=\"40\" y=\"4.680000000000001\" style=\"font-family: Arial; font-size: 12px; fill: rgb(36, 36, 36); fill-opacity: 1; white-space: pre;\">ProxyStream</text><g class=\"layers\" style=\"opacity: 1;\"><g class=\"legendfill\"/><g class=\"legendlines\"/><g class=\"legendsymbols\"><g class=\"legendpoints\"><path class=\"legendbox\" d=\"M6,6H-6V-6H6Z\" transform=\"translate(20,0)\" style=\"stroke-width: 2px; fill: rgb(127, 60, 141); fill-opacity: 0.5; stroke: rgb(127, 60, 141); stroke-opacity: 1;\"/></g></g></g><rect class=\"legendtoggle\" x=\"0\" y=\"-9.5\" width=\"109.359375\" height=\"19\" style=\"fill: rgb(0, 0, 0); fill-opacity: 0;\"/></g></g></g><rect class=\"scrollbar\" rx=\"20\" ry=\"3\" width=\"0\" height=\"0\" x=\"0\" y=\"0\" style=\"fill: rgb(128, 139, 164); fill-opacity: 1;\"/></g><g class=\"g-gtitle\"/><g class=\"g-xtitle\"><text class=\"xtitle\" x=\"255\" y=\"144.9\" text-anchor=\"middle\" style=\"font-family: Arial; font-size: 12px; fill: rgb(36, 36, 36); opacity: 1; font-weight: normal; white-space: pre;\">Inference Time (s)</text></g><g class=\"g-ytitle\"/></g></svg>"
      ]
     },
     "metadata": {},
     "output_type": "display_data"
    }
   ],
   "source": [
    "baseline_logs = read_log(\n",
    "    '../data/polaris/4-deepdrivemd//bba-baseline-10-node-190324-202832/result/inference.json',\n",
    ")\n",
    "proxystream_logs = read_log(\n",
    "    '../data/polaris/4-deepdrivemd/bba-proxystream-10-node-220324-140525/runtime.log',\n",
    ")\n",
    "\n",
    "baseline_times = parse_baseline_inference_times(baseline_logs)\n",
    "proxystream_times = parse_proxystream_inference_times(proxystream_logs)\n",
    "\n",
    "baseline_summary = (\n",
    "    baseline_times['timespan'].mean().total_seconds(),\n",
    "    baseline_times['timespan'].std().total_seconds(),\n",
    ")\n",
    "proxystream_summary = (\n",
    "    proxystream_times['timespan'].mean().total_seconds(),\n",
    "    proxystream_times['timespan'].std().total_seconds(),\n",
    ")\n",
    "\n",
    "print(f'Baseline inference batchs: {len(baseline_times)}')\n",
    "print(f'ProxyStream inference batchs: {len(proxystream_times)}')\n",
    "\n",
    "print(f'Baseline Mean (std): {baseline_summary[0]} ± {baseline_summary[1]}')\n",
    "print(\n",
    "    f'ProxyStream Mean (std): {proxystream_summary[0]} ± {proxystream_summary[1]}',\n",
    ")\n",
    "\n",
    "layout = dict(width=500, height=150, margin=dict(l=5, r=5, t=5, b=5))\n",
    "\n",
    "fig = plot_distributions(baseline_times, proxystream_times, layout)\n",
    "# fig = plot_batch_time(baseline_times, proxystream_times, dict(width=500, height=200))\n",
    "fig.show(renderer='svg')\n",
    "\n",
    "figure_dir = pathlib.Path('../figures/polaris/')\n",
    "figure_dir.mkdir(exist_ok=True)\n",
    "fig.write_image(figure_dir / '4-ddmd-inference-dist.pdf')"
   ]
  },
  {
   "cell_type": "code",
   "execution_count": null,
   "id": "f2c535b1-f9d9-446f-afbd-bf919b7f04bb",
   "metadata": {},
   "outputs": [],
   "source": []
  }
 ],
 "metadata": {
  "kernelspec": {
   "display_name": "Python 3 (ipykernel)",
   "language": "python",
   "name": "python3"
  },
  "language_info": {
   "codemirror_mode": {
    "name": "ipython",
    "version": 3
   },
   "file_extension": ".py",
   "mimetype": "text/x-python",
   "name": "python",
   "nbconvert_exporter": "python",
   "pygments_lexer": "ipython3",
   "version": "3.11.5"
  }
 },
 "nbformat": 4,
 "nbformat_minor": 5
}
