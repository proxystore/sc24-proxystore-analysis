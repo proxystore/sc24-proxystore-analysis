{
 "cells": [
  {
   "cell_type": "code",
   "execution_count": 1,
   "id": "392435fa-0b92-4b77-aa34-03c786763165",
   "metadata": {},
   "outputs": [
    {
     "data": {
      "text/plain": [
       "<module 'theme' from '/home/jgpaul/workspace/sc24-proxystore-analysis/notebooks/theme.py'>"
      ]
     },
     "execution_count": 1,
     "metadata": {},
     "output_type": "execute_result"
    }
   ],
   "source": [
    "from __future__ import annotations\n",
    "\n",
    "import importlib\n",
    "import json\n",
    "import pathlib\n",
    "import re\n",
    "from datetime import datetime\n",
    "\n",
    "import plotly.express as px\n",
    "import polars\n",
    "import theme\n",
    "\n",
    "importlib.reload(theme)"
   ]
  },
  {
   "cell_type": "code",
   "execution_count": 2,
   "id": "b4ed189e-0de4-4181-9981-e8d135d349a5",
   "metadata": {},
   "outputs": [],
   "source": [
    "def read_log(filepath: pathlib.Path | str) -> list[str]:\n",
    "    with open(filepath) as f:\n",
    "        return f.readlines()"
   ]
  },
  {
   "cell_type": "code",
   "execution_count": 3,
   "id": "17dd6150-4c22-4431-9d36-4f39955ce4ca",
   "metadata": {},
   "outputs": [],
   "source": [
    "def get_log_timestamp(log: str) -> datetime.datetime:\n",
    "    parts = log.split(' - ')\n",
    "    return datetime.strptime(parts[0], '%Y-%m-%d %H:%M:%S,%f')\n",
    "\n",
    "\n",
    "def get_batch_index(log: str) -> int:\n",
    "    matches = re.search('\\(batch: (\\d+)\\)', log)\n",
    "    return int(matches.group(1))\n",
    "\n",
    "\n",
    "def parse_baseline_inference_times(logs: list[str]) -> polars.DataFrame:\n",
    "    logs = [json.loads(log) for log in logs]\n",
    "\n",
    "    batches = [\n",
    "        {\n",
    "            'index': i,\n",
    "            'submitted': datetime.fromtimestamp(log['timestamp']['created']),\n",
    "            'received': datetime.fromtimestamp(\n",
    "                log['timestamp']['result_received'],\n",
    "            ),\n",
    "        }\n",
    "        for i, log in enumerate(logs)\n",
    "    ]\n",
    "\n",
    "    df = polars.from_dicts(batches)\n",
    "    df = df.with_columns(\n",
    "        (polars.col('received') - polars.col('submitted')).alias('timespan'),\n",
    "    )\n",
    "\n",
    "    return df\n",
    "\n",
    "\n",
    "def parse_proxystream_inference_times(logs: list[str]) -> polars.DataFrame:\n",
    "    submitted_logs = [log for log in logs if 'Sending inference input' in log]\n",
    "    received_logs = [log for log in logs if 'Received inference output' in log]\n",
    "\n",
    "    submitted_times = {\n",
    "        get_batch_index(log): get_log_timestamp(log) for log in submitted_logs\n",
    "    }\n",
    "    received_times = {\n",
    "        get_batch_index(log): get_log_timestamp(log) for log in received_logs\n",
    "    }\n",
    "    batches = set(submitted_times.keys()) & set(received_times.keys())\n",
    "\n",
    "    batches = [\n",
    "        {\n",
    "            'index': i,\n",
    "            'submitted': submitted_times[i],\n",
    "            'received': received_times[i],\n",
    "        }\n",
    "        for i in batches\n",
    "    ]\n",
    "\n",
    "    df = polars.from_dicts(batches)\n",
    "    df = df.with_columns(\n",
    "        (polars.col('received') - polars.col('submitted')).alias('timespan'),\n",
    "    )\n",
    "\n",
    "    return df"
   ]
  },
  {
   "cell_type": "code",
   "execution_count": 4,
   "id": "ce4cbfdc-c1c3-452b-b4b2-b72e513eaa76",
   "metadata": {},
   "outputs": [],
   "source": [
    "def plot_distributions(baseline_times, proxystream_times, layout=None):\n",
    "    baseline_times = baseline_times.select(\n",
    "        polars.col('index'),\n",
    "        polars.col('timespan').dt.total_microseconds() / 1e6,\n",
    "        polars.lit('Baseline').alias('method'),\n",
    "    )\n",
    "    proxystream_times = proxystream_times.select(\n",
    "        polars.col('index'),\n",
    "        polars.col('timespan').dt.total_microseconds() / 1e6,\n",
    "        polars.lit('ProxyStream').alias('method'),\n",
    "    )\n",
    "\n",
    "    times = polars.concat([baseline_times, proxystream_times])\n",
    "\n",
    "    colors = {\n",
    "        'Baseline': px.colors.qualitative.Bold[1],\n",
    "        'ProxyStream': px.colors.qualitative.Bold[0],\n",
    "    }\n",
    "\n",
    "    fig = px.box(\n",
    "        x=times['timespan'],\n",
    "        y=times['method'],\n",
    "        orientation='h',\n",
    "        color=times['method'],\n",
    "        color_discrete_map=colors,\n",
    "    )\n",
    "    layout = {} if layout is None else layout\n",
    "    fig.update_layout(\n",
    "        xaxis_title='Inference Time (s)',\n",
    "        yaxis=dict(autorange='reversed', title=None),\n",
    "        showlegend=False,\n",
    "        legend=dict(\n",
    "            yanchor='bottom',\n",
    "            y=0.02,\n",
    "            xanchor='right',\n",
    "            x=0.995,\n",
    "            title=None,\n",
    "        ),\n",
    "        template='proxystore',\n",
    "        boxgap=0,\n",
    "        boxmode='overlay',\n",
    "        **layout,\n",
    "    )\n",
    "    return fig"
   ]
  },
  {
   "cell_type": "code",
   "execution_count": 5,
   "id": "c3c911ab-1a60-4ef0-b4b5-a28f612ed48e",
   "metadata": {},
   "outputs": [],
   "source": [
    "def plot_batch_time(baseline_times, proxystream_times, layout=None):\n",
    "    baseline_times = baseline_times.select(\n",
    "        polars.col('index'),\n",
    "        polars.col('timespan').dt.total_microseconds() / 1e6,\n",
    "        polars.lit('Baseline').alias('method'),\n",
    "    )\n",
    "    proxystream_times = proxystream_times.select(\n",
    "        polars.col('index'),\n",
    "        polars.col('timespan').dt.total_microseconds() / 1e6,\n",
    "        polars.lit('ProxyStream').alias('method'),\n",
    "    )\n",
    "\n",
    "    times = polars.concat([baseline_times, proxystream_times])\n",
    "\n",
    "    fig = px.line(\n",
    "        x=times['index'],\n",
    "        y=times['timespan'],\n",
    "        color=times['method'],\n",
    "    )\n",
    "    layout = {} if layout is None else layout\n",
    "    fig.update_layout(\n",
    "        xaxis_title='Batch Index',\n",
    "        yaxis_title='Inference Time (s)',\n",
    "        legend=dict(\n",
    "            yanchor='bottom',\n",
    "            y=0.02,\n",
    "            xanchor='right',\n",
    "            x=0.995,\n",
    "            title=None,\n",
    "        ),\n",
    "        template='proxystore',\n",
    "        **layout,\n",
    "    )\n",
    "    return fig"
   ]
  },
  {
   "cell_type": "markdown",
   "id": "c4c50433-dbe2-42ad-81f1-97ca2f363fde",
   "metadata": {},
   "source": [
    "## Single Node Test"
   ]
  },
  {
   "cell_type": "code",
   "execution_count": 6,
   "id": "83b65157-29e8-4857-a18e-a34076cfd90a",
   "metadata": {},
   "outputs": [
    {
     "name": "stdout",
     "output_type": "stream",
     "text": [
      "Baseline Mean (std): 3.264023 ± 6.615977\n",
      "ProxyStream Mean (std): 0.663543 ± 0.245087\n"
     ]
    },
    {
     "data": {
      "image/svg+xml": [
       "<svg class=\"main-svg\" xmlns=\"http://www.w3.org/2000/svg\" xmlns:xlink=\"http://www.w3.org/1999/xlink\" width=\"500\" height=\"150\" style=\"\" viewBox=\"0 0 500 150\"><rect x=\"0\" y=\"0\" width=\"500\" height=\"150\" style=\"fill: rgb(255, 255, 255); fill-opacity: 1;\"/><defs id=\"defs-24a4ef\"><g class=\"clips\"><clipPath id=\"clip24a4efxyplot\" class=\"plotclip\"><rect width=\"418\" height=\"106\"/></clipPath><clipPath class=\"axesclip\" id=\"clip24a4efx\"><rect x=\"71\" y=\"0\" width=\"418\" height=\"150\"/></clipPath><clipPath class=\"axesclip\" id=\"clip24a4efy\"><rect x=\"0\" y=\"6\" width=\"500\" height=\"106\"/></clipPath><clipPath class=\"axesclip\" id=\"clip24a4efxy\"><rect x=\"71\" y=\"6\" width=\"418\" height=\"106\"/></clipPath></g><g class=\"gradients\"/><g class=\"patterns\"/></defs><g class=\"bglayer\"/><g class=\"layer-below\"><g class=\"imagelayer\"/><g class=\"shapelayer\"/></g><g class=\"cartesianlayer\"><g class=\"subplot xy\"><g class=\"layer-subplot\"><g class=\"shapelayer\"/><g class=\"imagelayer\"/></g><g class=\"minor-gridlayer\"><g class=\"x\"/><g class=\"y\"/></g><g class=\"gridlayer\"><g class=\"x\"><path class=\"xgrid crisp\" transform=\"translate(175.5,0)\" d=\"M0,6v106\" style=\"stroke: rgb(224, 224, 224); stroke-opacity: 1; stroke-width: 1px;\"/><path class=\"xgrid crisp\" transform=\"translate(280,0)\" d=\"M0,6v106\" style=\"stroke: rgb(224, 224, 224); stroke-opacity: 1; stroke-width: 1px;\"/><path class=\"xgrid crisp\" transform=\"translate(384.5,0)\" d=\"M0,6v106\" style=\"stroke: rgb(224, 224, 224); stroke-opacity: 1; stroke-width: 1px;\"/></g><g class=\"y\"><path class=\"ygrid crisp\" transform=\"translate(0,85.5)\" d=\"M71,0h418\" style=\"stroke: rgb(224, 224, 224); stroke-opacity: 1; stroke-width: 1px;\"/><path class=\"ygrid crisp\" transform=\"translate(0,32.5)\" d=\"M71,0h418\" style=\"stroke: rgb(224, 224, 224); stroke-opacity: 1; stroke-width: 1px;\"/></g></g><g class=\"zerolinelayer\"/><path class=\"xlines-below\"/><path class=\"ylines-below\"/><g class=\"overlines-below\"/><g class=\"xaxislayer-below\"/><g class=\"yaxislayer-below\"/><g class=\"overaxes-below\"/><g class=\"plot\" transform=\"translate(71,6)\" clip-path=\"url(#clip24a4efxyplot)\"><g class=\"boxlayer mlayer\"><g class=\"trace boxes\" style=\"opacity: 1;\"><path class=\"box\" d=\"M18.35,7.95V45.05M12.56,7.95V45.05H22.8V7.95ZM12.56,26.5H6.84M22.8,26.5H31.57M6.84,17.23V35.78M31.57,17.23V35.78\" style=\"vector-effect: none; stroke-width: 2px; stroke: rgb(17, 165, 121); stroke-opacity: 1; fill: rgb(17, 165, 121); fill-opacity: 0.5;\"/><g class=\"points\"><path class=\"point\" transform=\"translate(41.29,26.5)\" d=\"M3,0A3,3 0 1,1 0,-3A3,3 0 0,1 3,0Z\" style=\"opacity: 1; stroke-width: 0px; fill: rgb(17, 165, 121); fill-opacity: 1;\"/><path class=\"point\" transform=\"translate(73.16,26.5)\" d=\"M3,0A3,3 0 1,1 0,-3A3,3 0 0,1 3,0Z\" style=\"opacity: 1; stroke-width: 0px; fill: rgb(17, 165, 121); fill-opacity: 1;\"/><path class=\"point\" transform=\"translate(124.23,26.5)\" d=\"M3,0A3,3 0 1,1 0,-3A3,3 0 0,1 3,0Z\" style=\"opacity: 1; stroke-width: 0px; fill: rgb(17, 165, 121); fill-opacity: 1;\"/><path class=\"point\" transform=\"translate(125.36,26.5)\" d=\"M3,0A3,3 0 1,1 0,-3A3,3 0 0,1 3,0Z\" style=\"opacity: 1; stroke-width: 0px; fill: rgb(17, 165, 121); fill-opacity: 1;\"/><path class=\"point\" transform=\"translate(134.93,26.5)\" d=\"M3,0A3,3 0 1,1 0,-3A3,3 0 0,1 3,0Z\" style=\"opacity: 1; stroke-width: 0px; fill: rgb(17, 165, 121); fill-opacity: 1;\"/><path class=\"point\" transform=\"translate(149.51,26.5)\" d=\"M3,0A3,3 0 1,1 0,-3A3,3 0 0,1 3,0Z\" style=\"opacity: 1; stroke-width: 0px; fill: rgb(17, 165, 121); fill-opacity: 1;\"/><path class=\"point\" transform=\"translate(180.24,26.5)\" d=\"M3,0A3,3 0 1,1 0,-3A3,3 0 0,1 3,0Z\" style=\"opacity: 1; stroke-width: 0px; fill: rgb(17, 165, 121); fill-opacity: 1;\"/><path class=\"point\" transform=\"translate(190.02,26.5)\" d=\"M3,0A3,3 0 1,1 0,-3A3,3 0 0,1 3,0Z\" style=\"opacity: 1; stroke-width: 0px; fill: rgb(17, 165, 121); fill-opacity: 1;\"/><path class=\"point\" transform=\"translate(194.27,26.5)\" d=\"M3,0A3,3 0 1,1 0,-3A3,3 0 0,1 3,0Z\" style=\"opacity: 1; stroke-width: 0px; fill: rgb(17, 165, 121); fill-opacity: 1;\"/><path class=\"point\" transform=\"translate(222.02,26.5)\" d=\"M3,0A3,3 0 1,1 0,-3A3,3 0 0,1 3,0Z\" style=\"opacity: 1; stroke-width: 0px; fill: rgb(17, 165, 121); fill-opacity: 1;\"/><path class=\"point\" transform=\"translate(242.89,26.5)\" d=\"M3,0A3,3 0 1,1 0,-3A3,3 0 0,1 3,0Z\" style=\"opacity: 1; stroke-width: 0px; fill: rgb(17, 165, 121); fill-opacity: 1;\"/><path class=\"point\" transform=\"translate(253.47,26.5)\" d=\"M3,0A3,3 0 1,1 0,-3A3,3 0 0,1 3,0Z\" style=\"opacity: 1; stroke-width: 0px; fill: rgb(17, 165, 121); fill-opacity: 1;\"/><path class=\"point\" transform=\"translate(270.54,26.5)\" d=\"M3,0A3,3 0 1,1 0,-3A3,3 0 0,1 3,0Z\" style=\"opacity: 1; stroke-width: 0px; fill: rgb(17, 165, 121); fill-opacity: 1;\"/><path class=\"point\" transform=\"translate(280.05,26.5)\" d=\"M3,0A3,3 0 1,1 0,-3A3,3 0 0,1 3,0Z\" style=\"opacity: 1; stroke-width: 0px; fill: rgb(17, 165, 121); fill-opacity: 1;\"/><path class=\"point\" transform=\"translate(294.74,26.5)\" d=\"M3,0A3,3 0 1,1 0,-3A3,3 0 0,1 3,0Z\" style=\"opacity: 1; stroke-width: 0px; fill: rgb(17, 165, 121); fill-opacity: 1;\"/><path class=\"point\" transform=\"translate(327.93,26.5)\" d=\"M3,0A3,3 0 1,1 0,-3A3,3 0 0,1 3,0Z\" style=\"opacity: 1; stroke-width: 0px; fill: rgb(17, 165, 121); fill-opacity: 1;\"/><path class=\"point\" transform=\"translate(331.36,26.5)\" d=\"M3,0A3,3 0 1,1 0,-3A3,3 0 0,1 3,0Z\" style=\"opacity: 1; stroke-width: 0px; fill: rgb(17, 165, 121); fill-opacity: 1;\"/><path class=\"point\" transform=\"translate(344.74,26.5)\" d=\"M3,0A3,3 0 1,1 0,-3A3,3 0 0,1 3,0Z\" style=\"opacity: 1; stroke-width: 0px; fill: rgb(17, 165, 121); fill-opacity: 1;\"/><path class=\"point\" transform=\"translate(363.76,26.5)\" d=\"M3,0A3,3 0 1,1 0,-3A3,3 0 0,1 3,0Z\" style=\"opacity: 1; stroke-width: 0px; fill: rgb(17, 165, 121); fill-opacity: 1;\"/><path class=\"point\" transform=\"translate(383.52,26.5)\" d=\"M3,0A3,3 0 1,1 0,-3A3,3 0 0,1 3,0Z\" style=\"opacity: 1; stroke-width: 0px; fill: rgb(17, 165, 121); fill-opacity: 1;\"/><path class=\"point\" transform=\"translate(388.16,26.5)\" d=\"M3,0A3,3 0 1,1 0,-3A3,3 0 0,1 3,0Z\" style=\"opacity: 1; stroke-width: 0px; fill: rgb(17, 165, 121); fill-opacity: 1;\"/><path class=\"point\" transform=\"translate(395.45,26.5)\" d=\"M3,0A3,3 0 1,1 0,-3A3,3 0 0,1 3,0Z\" style=\"opacity: 1; stroke-width: 0px; fill: rgb(17, 165, 121); fill-opacity: 1;\"/><path class=\"point\" transform=\"translate(412.68,26.5)\" d=\"M3,0A3,3 0 1,1 0,-3A3,3 0 0,1 3,0Z\" style=\"opacity: 1; stroke-width: 0px; fill: rgb(17, 165, 121); fill-opacity: 1;\"/><path class=\"point\" transform=\"translate(443.56,26.5)\" d=\"M3,0A3,3 0 1,1 0,-3A3,3 0 0,1 3,0Z\" style=\"opacity: 1; stroke-width: 0px; fill: rgb(17, 165, 121); fill-opacity: 1;\"/><path class=\"point\" transform=\"translate(444.54,26.5)\" d=\"M3,0A3,3 0 1,1 0,-3A3,3 0 0,1 3,0Z\" style=\"opacity: 1; stroke-width: 0px; fill: rgb(17, 165, 121); fill-opacity: 1;\"/><path class=\"point\" transform=\"translate(463.44,26.5)\" d=\"M3,0A3,3 0 1,1 0,-3A3,3 0 0,1 3,0Z\" style=\"opacity: 1; stroke-width: 0px; fill: rgb(17, 165, 121); fill-opacity: 1;\"/><path class=\"point\" transform=\"translate(472.52,26.5)\" d=\"M3,0A3,3 0 1,1 0,-3A3,3 0 0,1 3,0Z\" style=\"opacity: 1; stroke-width: 0px; fill: rgb(17, 165, 121); fill-opacity: 1;\"/><path class=\"point\" transform=\"translate(493.93,26.5)\" d=\"M3,0A3,3 0 1,1 0,-3A3,3 0 0,1 3,0Z\" style=\"opacity: 1; stroke-width: 0px; fill: rgb(17, 165, 121); fill-opacity: 1;\"/><path class=\"point\" transform=\"translate(524.59,26.5)\" d=\"M3,0A3,3 0 1,1 0,-3A3,3 0 0,1 3,0Z\" style=\"opacity: 1; stroke-width: 0px; fill: rgb(17, 165, 121); fill-opacity: 1;\"/><path class=\"point\" transform=\"translate(525.88,26.5)\" d=\"M3,0A3,3 0 1,1 0,-3A3,3 0 0,1 3,0Z\" style=\"opacity: 1; stroke-width: 0px; fill: rgb(17, 165, 121); fill-opacity: 1;\"/><path class=\"point\" transform=\"translate(544.59,26.5)\" d=\"M3,0A3,3 0 1,1 0,-3A3,3 0 0,1 3,0Z\" style=\"opacity: 1; stroke-width: 0px; fill: rgb(17, 165, 121); fill-opacity: 1;\"/><path class=\"point\" transform=\"translate(550.38,26.5)\" d=\"M3,0A3,3 0 1,1 0,-3A3,3 0 0,1 3,0Z\" style=\"opacity: 1; stroke-width: 0px; fill: rgb(17, 165, 121); fill-opacity: 1;\"/><path class=\"point\" transform=\"translate(567.49,26.5)\" d=\"M3,0A3,3 0 1,1 0,-3A3,3 0 0,1 3,0Z\" style=\"opacity: 1; stroke-width: 0px; fill: rgb(17, 165, 121); fill-opacity: 1;\"/><path class=\"point\" transform=\"translate(577.64,26.5)\" d=\"M3,0A3,3 0 1,1 0,-3A3,3 0 0,1 3,0Z\" style=\"opacity: 1; stroke-width: 0px; fill: rgb(17, 165, 121); fill-opacity: 1;\"/><path class=\"point\" transform=\"translate(595,26.5)\" d=\"M3,0A3,3 0 1,1 0,-3A3,3 0 0,1 3,0Z\" style=\"opacity: 1; stroke-width: 0px; fill: rgb(17, 165, 121); fill-opacity: 1;\"/><path class=\"point\" transform=\"translate(602.31,26.5)\" d=\"M3,0A3,3 0 1,1 0,-3A3,3 0 0,1 3,0Z\" style=\"opacity: 1; stroke-width: 0px; fill: rgb(17, 165, 121); fill-opacity: 1;\"/><path class=\"point\" transform=\"translate(619.8,26.5)\" d=\"M3,0A3,3 0 1,1 0,-3A3,3 0 0,1 3,0Z\" style=\"opacity: 1; stroke-width: 0px; fill: rgb(17, 165, 121); fill-opacity: 1;\"/></g></g><g class=\"trace boxes\" style=\"opacity: 1;\"><path class=\"box\" d=\"M13.5,60.95V98.05M9.77,60.95V98.05H17.51V60.95ZM9.77,79.5H5.81M17.51,79.5H27.84M5.81,70.22V88.78M27.84,70.22V88.78\" style=\"vector-effect: none; stroke-width: 2px; stroke: rgb(127, 60, 141); stroke-opacity: 1; fill: rgb(127, 60, 141); fill-opacity: 0.5;\"/><g class=\"points\"><path class=\"point\" transform=\"translate(29.45,79.5)\" d=\"M3,0A3,3 0 1,1 0,-3A3,3 0 0,1 3,0Z\" style=\"opacity: 1; stroke-width: 0px; fill: rgb(127, 60, 141); fill-opacity: 1;\"/><path class=\"point\" transform=\"translate(31.43,79.5)\" d=\"M3,0A3,3 0 1,1 0,-3A3,3 0 0,1 3,0Z\" style=\"opacity: 1; stroke-width: 0px; fill: rgb(127, 60, 141); fill-opacity: 1;\"/></g></g></g></g><g class=\"overplot\"/><path class=\"xlines-above crisp\" d=\"M70,112.5H490M70,5.5H490\" style=\"fill: none; stroke-width: 1px; stroke: rgb(97, 97, 97); stroke-opacity: 1;\"/><path class=\"ylines-above crisp\" d=\"M70.5,6V112M489.5,6V112\" style=\"fill: none; stroke-width: 1px; stroke: rgb(97, 97, 97); stroke-opacity: 1;\"/><g class=\"overlines-above\"/><g class=\"xaxislayer-above\"><path class=\"xtick ticks crisp\" d=\"M0,113v5\" transform=\"translate(71,0)\" style=\"stroke: rgb(68, 68, 68); stroke-opacity: 1; stroke-width: 1px;\"/><path class=\"xtick ticks crisp\" d=\"M0,113v5\" transform=\"translate(175.5,0)\" style=\"stroke: rgb(68, 68, 68); stroke-opacity: 1; stroke-width: 1px;\"/><path class=\"xtick ticks crisp\" d=\"M0,113v5\" transform=\"translate(280,0)\" style=\"stroke: rgb(68, 68, 68); stroke-opacity: 1; stroke-width: 1px;\"/><path class=\"xtick ticks crisp\" d=\"M0,113v5\" transform=\"translate(384.5,0)\" style=\"stroke: rgb(68, 68, 68); stroke-opacity: 1; stroke-width: 1px;\"/><path class=\"xtick ticks crisp\" d=\"M0,113v5\" transform=\"translate(489,0)\" style=\"stroke: rgb(68, 68, 68); stroke-opacity: 1; stroke-width: 1px;\"/><g class=\"xtick\"><text text-anchor=\"middle\" x=\"0\" y=\"130\" transform=\"translate(71,0)\" style=\"font-family: Arial; font-size: 10px; fill: rgb(36, 36, 36); fill-opacity: 1; white-space: pre; opacity: 1;\">0</text></g><g class=\"xtick\"><text text-anchor=\"middle\" x=\"0\" y=\"130\" style=\"font-family: Arial; font-size: 10px; fill: rgb(36, 36, 36); fill-opacity: 1; white-space: pre; opacity: 1;\" transform=\"translate(175.5,0)\">5</text></g><g class=\"xtick\"><text text-anchor=\"middle\" x=\"0\" y=\"130\" style=\"font-family: Arial; font-size: 10px; fill: rgb(36, 36, 36); fill-opacity: 1; white-space: pre; opacity: 1;\" transform=\"translate(280,0)\">10</text></g><g class=\"xtick\"><text text-anchor=\"middle\" x=\"0\" y=\"130\" style=\"font-family: Arial; font-size: 10px; fill: rgb(36, 36, 36); fill-opacity: 1; white-space: pre; opacity: 1;\" transform=\"translate(384.5,0)\">15</text></g><g class=\"xtick\"><text text-anchor=\"middle\" x=\"0\" y=\"130\" style=\"font-family: Arial; font-size: 10px; fill: rgb(36, 36, 36); fill-opacity: 1; white-space: pre; opacity: 1;\" transform=\"translate(489,0)\">20</text></g></g><g class=\"yaxislayer-above\"><path class=\"ytick ticks crisp\" d=\"M70,0h-5\" transform=\"translate(0,85.5)\" style=\"stroke: rgb(68, 68, 68); stroke-opacity: 1; stroke-width: 1px;\"/><path class=\"ytick ticks crisp\" d=\"M70,0h-5\" transform=\"translate(0,32.5)\" style=\"stroke: rgb(68, 68, 68); stroke-opacity: 1; stroke-width: 1px;\"/><g class=\"ytick\"><text text-anchor=\"end\" x=\"63\" y=\"3.5\" transform=\"translate(0,85.5)\" style=\"font-family: Arial; font-size: 10px; fill: rgb(36, 36, 36); fill-opacity: 1; white-space: pre; opacity: 1;\">ProxyStream</text></g><g class=\"ytick\"><text text-anchor=\"end\" x=\"63\" y=\"3.5\" transform=\"translate(0,32.5)\" style=\"font-family: Arial; font-size: 10px; fill: rgb(36, 36, 36); fill-opacity: 1; white-space: pre; opacity: 1;\">Baseline</text></g></g><g class=\"overaxes-above\"/></g></g><g class=\"polarlayer\"/><g class=\"smithlayer\"/><g class=\"ternarylayer\"/><g class=\"geolayer\"/><g class=\"funnelarealayer\"/><g class=\"pielayer\"/><g class=\"iciclelayer\"/><g class=\"treemaplayer\"/><g class=\"sunburstlayer\"/><g class=\"glimages\"/><defs id=\"topdefs-24a4ef\"><g class=\"clips\"/></defs><g class=\"layer-above\"><g class=\"imagelayer\"/><g class=\"shapelayer\"/></g><g class=\"infolayer\"><g class=\"g-gtitle\"/><g class=\"g-xtitle\"><text class=\"xtitle\" x=\"280\" y=\"144.9\" text-anchor=\"middle\" style=\"font-family: Arial; font-size: 12px; fill: rgb(36, 36, 36); opacity: 1; font-weight: normal; white-space: pre;\">Inference Time (s)</text></g><g class=\"g-ytitle\"/></g></svg>"
      ]
     },
     "metadata": {},
     "output_type": "display_data"
    }
   ],
   "source": [
    "baseline_logs = read_log(\n",
    "    '../data/polaris/4-deepdrivemd/bba-baseline-160324-174754/result/inference.json',\n",
    ")\n",
    "proxystream_logs = read_log(\n",
    "    '../data/polaris/4-deepdrivemd/bba-proxystream-160324-163305/runtime.log',\n",
    ")\n",
    "\n",
    "baseline_times = parse_baseline_inference_times(baseline_logs)\n",
    "proxystream_times = parse_proxystream_inference_times(proxystream_logs)\n",
    "\n",
    "baseline_summary = (\n",
    "    baseline_times['timespan'].mean().total_seconds(),\n",
    "    baseline_times['timespan'].std().total_seconds(),\n",
    ")\n",
    "proxystream_summary = (\n",
    "    proxystream_times['timespan'].mean().total_seconds(),\n",
    "    proxystream_times['timespan'].std().total_seconds(),\n",
    ")\n",
    "print(f'Baseline Mean (std): {baseline_summary[0]} ± {baseline_summary[1]}')\n",
    "print(\n",
    "    f'ProxyStream Mean (std): {proxystream_summary[0]} ± {proxystream_summary[1]}',\n",
    ")\n",
    "\n",
    "layout = dict(\n",
    "    width=500,\n",
    "    height=150,\n",
    "    xaxis_range=[0, 20],\n",
    "    margin=dict(l=5, r=5, t=5, b=5),\n",
    ")\n",
    "\n",
    "fig = plot_distributions(baseline_times, proxystream_times, layout)\n",
    "fig.show(renderer='svg')"
   ]
  },
  {
   "cell_type": "markdown",
   "id": "425ef813-e423-4c7b-b43b-858b8da0f43c",
   "metadata": {},
   "source": [
    "## 10 Node Run"
   ]
  },
  {
   "cell_type": "code",
   "execution_count": 9,
   "id": "5658d485-471f-452c-97e1-5ed05ea9d96e",
   "metadata": {},
   "outputs": [
    {
     "name": "stdout",
     "output_type": "stream",
     "text": [
      "Baseline inference batchs: 96\n",
      "ProxyStream inference batchs: 116\n",
      "Baseline Mean (std): 21.290505 ± 8.804516\n",
      "ProxyStream Mean (std): 15.026258 ± 8.483399\n"
     ]
    },
    {
     "data": {
      "image/svg+xml": [
       "<svg class=\"main-svg\" xmlns=\"http://www.w3.org/2000/svg\" xmlns:xlink=\"http://www.w3.org/1999/xlink\" width=\"500\" height=\"125\" style=\"\" viewBox=\"0 0 500 125\"><rect x=\"0\" y=\"0\" width=\"500\" height=\"125\" style=\"fill: rgb(255, 255, 255); fill-opacity: 1;\"/><defs id=\"defs-c758c6\"><g class=\"clips\"><clipPath id=\"clipc758c6xyplot\" class=\"plotclip\"><rect width=\"423\" height=\"81\"/></clipPath><clipPath class=\"axesclip\" id=\"clipc758c6x\"><rect x=\"71\" y=\"0\" width=\"423\" height=\"125\"/></clipPath><clipPath class=\"axesclip\" id=\"clipc758c6y\"><rect x=\"0\" y=\"6\" width=\"500\" height=\"81\"/></clipPath><clipPath class=\"axesclip\" id=\"clipc758c6xy\"><rect x=\"71\" y=\"6\" width=\"423\" height=\"81\"/></clipPath></g><g class=\"gradients\"/><g class=\"patterns\"/></defs><g class=\"bglayer\"/><g class=\"layer-below\"><g class=\"imagelayer\"/><g class=\"shapelayer\"/></g><g class=\"cartesianlayer\"><g class=\"subplot xy\"><g class=\"layer-subplot\"><g class=\"shapelayer\"/><g class=\"imagelayer\"/></g><g class=\"minor-gridlayer\"><g class=\"x\"/><g class=\"y\"/></g><g class=\"gridlayer\"><g class=\"x\"><path class=\"xgrid crisp\" transform=\"translate(73.83,0)\" d=\"M0,6v81\" style=\"stroke: rgb(224, 224, 224); stroke-opacity: 1; stroke-width: 1px;\"/><path class=\"xgrid crisp\" transform=\"translate(150.24,0)\" d=\"M0,6v81\" style=\"stroke: rgb(224, 224, 224); stroke-opacity: 1; stroke-width: 1px;\"/><path class=\"xgrid crisp\" transform=\"translate(226.65,0)\" d=\"M0,6v81\" style=\"stroke: rgb(224, 224, 224); stroke-opacity: 1; stroke-width: 1px;\"/><path class=\"xgrid crisp\" transform=\"translate(303.06,0)\" d=\"M0,6v81\" style=\"stroke: rgb(224, 224, 224); stroke-opacity: 1; stroke-width: 1px;\"/><path class=\"xgrid crisp\" transform=\"translate(379.47,0)\" d=\"M0,6v81\" style=\"stroke: rgb(224, 224, 224); stroke-opacity: 1; stroke-width: 1px;\"/><path class=\"xgrid crisp\" transform=\"translate(455.88,0)\" d=\"M0,6v81\" style=\"stroke: rgb(224, 224, 224); stroke-opacity: 1; stroke-width: 1px;\"/></g><g class=\"y\"><path class=\"ygrid crisp\" transform=\"translate(0,66.75)\" d=\"M71,0h423\" style=\"stroke: rgb(224, 224, 224); stroke-opacity: 1; stroke-width: 1px;\"/><path class=\"ygrid crisp\" transform=\"translate(0,26.25)\" d=\"M71,0h423\" style=\"stroke: rgb(224, 224, 224); stroke-opacity: 1; stroke-width: 1px;\"/></g></g><g class=\"zerolinelayer\"/><path class=\"xlines-below\"/><path class=\"ylines-below\"/><g class=\"overlines-below\"/><g class=\"xaxislayer-below\"/><g class=\"yaxislayer-below\"/><g class=\"overaxes-below\"/><g class=\"plot\" transform=\"translate(71,6)\" clip-path=\"url(#clipc758c6xyplot)\"><g class=\"boxlayer mlayer\"><g class=\"trace boxes\" style=\"opacity: 1;\"><path class=\"box\" d=\"M168.35,6.08V34.42M124.87,6.08V34.42H206.23V6.08ZM124.87,20.25H21.15M206.23,20.25H302.63M21.15,13.16V27.34M302.63,13.16V27.34\" style=\"vector-effect: none; stroke-width: 2px; stroke: rgb(17, 165, 121); stroke-opacity: 1; fill: rgb(17, 165, 121); fill-opacity: 0.5;\"/><g class=\"points\"><path class=\"point\" transform=\"translate(385.68,20.25)\" d=\"M3,0A3,3 0 1,1 0,-3A3,3 0 0,1 3,0Z\" style=\"opacity: 1; stroke-width: 0px; fill: rgb(17, 165, 121); fill-opacity: 1;\"/><path class=\"point\" transform=\"translate(401.85,20.25)\" d=\"M3,0A3,3 0 1,1 0,-3A3,3 0 0,1 3,0Z\" style=\"opacity: 1; stroke-width: 0px; fill: rgb(17, 165, 121); fill-opacity: 1;\"/></g></g><g class=\"trace boxes\" style=\"opacity: 1;\"><path class=\"box\" d=\"M109.76,46.58V74.93M58.73,46.58V74.93H173.13V46.58ZM58.73,60.75H21.36M173.13,60.75H236.48M21.36,53.66V67.84M236.48,53.66V67.84\" style=\"vector-effect: none; stroke-width: 2px; stroke: rgb(127, 60, 141); stroke-opacity: 1; fill: rgb(127, 60, 141); fill-opacity: 0.5;\"/><g class=\"points\"/></g></g></g><g class=\"overplot\"/><path class=\"xlines-above crisp\" d=\"M70,87.5H495M70,5.5H495\" style=\"fill: none; stroke-width: 1px; stroke: rgb(97, 97, 97); stroke-opacity: 1;\"/><path class=\"ylines-above crisp\" d=\"M70.5,6V87M494.5,6V87\" style=\"fill: none; stroke-width: 1px; stroke: rgb(97, 97, 97); stroke-opacity: 1;\"/><g class=\"overlines-above\"/><g class=\"xaxislayer-above\"><path class=\"xtick ticks crisp\" d=\"M0,88v5\" transform=\"translate(73.83,0)\" style=\"stroke: rgb(68, 68, 68); stroke-opacity: 1; stroke-width: 1px;\"/><path class=\"xtick ticks crisp\" d=\"M0,88v5\" transform=\"translate(150.24,0)\" style=\"stroke: rgb(68, 68, 68); stroke-opacity: 1; stroke-width: 1px;\"/><path class=\"xtick ticks crisp\" d=\"M0,88v5\" transform=\"translate(226.65,0)\" style=\"stroke: rgb(68, 68, 68); stroke-opacity: 1; stroke-width: 1px;\"/><path class=\"xtick ticks crisp\" d=\"M0,88v5\" transform=\"translate(303.06,0)\" style=\"stroke: rgb(68, 68, 68); stroke-opacity: 1; stroke-width: 1px;\"/><path class=\"xtick ticks crisp\" d=\"M0,88v5\" transform=\"translate(379.47,0)\" style=\"stroke: rgb(68, 68, 68); stroke-opacity: 1; stroke-width: 1px;\"/><path class=\"xtick ticks crisp\" d=\"M0,88v5\" transform=\"translate(455.88,0)\" style=\"stroke: rgb(68, 68, 68); stroke-opacity: 1; stroke-width: 1px;\"/><g class=\"xtick\"><text text-anchor=\"middle\" x=\"0\" y=\"105\" transform=\"translate(73.83,0)\" style=\"font-family: Arial; font-size: 10px; fill: rgb(36, 36, 36); fill-opacity: 1; white-space: pre; opacity: 1;\">0</text></g><g class=\"xtick\"><text text-anchor=\"middle\" x=\"0\" y=\"105\" style=\"font-family: Arial; font-size: 10px; fill: rgb(36, 36, 36); fill-opacity: 1; white-space: pre; opacity: 1;\" transform=\"translate(150.24,0)\">10</text></g><g class=\"xtick\"><text text-anchor=\"middle\" x=\"0\" y=\"105\" style=\"font-family: Arial; font-size: 10px; fill: rgb(36, 36, 36); fill-opacity: 1; white-space: pre; opacity: 1;\" transform=\"translate(226.65,0)\">20</text></g><g class=\"xtick\"><text text-anchor=\"middle\" x=\"0\" y=\"105\" style=\"font-family: Arial; font-size: 10px; fill: rgb(36, 36, 36); fill-opacity: 1; white-space: pre; opacity: 1;\" transform=\"translate(303.06,0)\">30</text></g><g class=\"xtick\"><text text-anchor=\"middle\" x=\"0\" y=\"105\" style=\"font-family: Arial; font-size: 10px; fill: rgb(36, 36, 36); fill-opacity: 1; white-space: pre; opacity: 1;\" transform=\"translate(379.47,0)\">40</text></g><g class=\"xtick\"><text text-anchor=\"middle\" x=\"0\" y=\"105\" style=\"font-family: Arial; font-size: 10px; fill: rgb(36, 36, 36); fill-opacity: 1; white-space: pre; opacity: 1;\" transform=\"translate(455.88,0)\">50</text></g></g><g class=\"yaxislayer-above\"><path class=\"ytick ticks crisp\" d=\"M70,0h-5\" transform=\"translate(0,66.75)\" style=\"stroke: rgb(68, 68, 68); stroke-opacity: 1; stroke-width: 1px;\"/><path class=\"ytick ticks crisp\" d=\"M70,0h-5\" transform=\"translate(0,26.25)\" style=\"stroke: rgb(68, 68, 68); stroke-opacity: 1; stroke-width: 1px;\"/><g class=\"ytick\"><text text-anchor=\"end\" x=\"63\" y=\"3.5\" transform=\"translate(0,66.75)\" style=\"font-family: Arial; font-size: 10px; fill: rgb(36, 36, 36); fill-opacity: 1; white-space: pre; opacity: 1;\">ProxyStream</text></g><g class=\"ytick\"><text text-anchor=\"end\" x=\"63\" y=\"3.5\" transform=\"translate(0,26.25)\" style=\"font-family: Arial; font-size: 10px; fill: rgb(36, 36, 36); fill-opacity: 1; white-space: pre; opacity: 1;\">Baseline</text></g></g><g class=\"overaxes-above\"/></g></g><g class=\"polarlayer\"/><g class=\"smithlayer\"/><g class=\"ternarylayer\"/><g class=\"geolayer\"/><g class=\"funnelarealayer\"/><g class=\"pielayer\"/><g class=\"iciclelayer\"/><g class=\"treemaplayer\"/><g class=\"sunburstlayer\"/><g class=\"glimages\"/><defs id=\"topdefs-c758c6\"><g class=\"clips\"/></defs><g class=\"layer-above\"><g class=\"imagelayer\"/><g class=\"shapelayer\"/></g><g class=\"infolayer\"><g class=\"g-gtitle\"/><g class=\"g-xtitle\"><text class=\"xtitle\" x=\"282.5\" y=\"119.9\" text-anchor=\"middle\" style=\"font-family: Arial; font-size: 12px; fill: rgb(36, 36, 36); opacity: 1; font-weight: normal; white-space: pre;\">Inference Time (s)</text></g><g class=\"g-ytitle\"/></g></svg>"
      ]
     },
     "metadata": {},
     "output_type": "display_data"
    }
   ],
   "source": [
    "baseline_logs = read_log(\n",
    "    '../data/polaris/4-deepdrivemd//bba-baseline-10-node-190324-202832/result/inference.json',\n",
    ")\n",
    "proxystream_logs = read_log(\n",
    "    '../data/polaris/4-deepdrivemd/bba-proxystream-10-node-220324-140525/runtime.log',\n",
    ")\n",
    "\n",
    "baseline_times = parse_baseline_inference_times(baseline_logs)\n",
    "proxystream_times = parse_proxystream_inference_times(proxystream_logs)\n",
    "\n",
    "baseline_summary = (\n",
    "    baseline_times['timespan'].mean().total_seconds(),\n",
    "    baseline_times['timespan'].std().total_seconds(),\n",
    ")\n",
    "proxystream_summary = (\n",
    "    proxystream_times['timespan'].mean().total_seconds(),\n",
    "    proxystream_times['timespan'].std().total_seconds(),\n",
    ")\n",
    "\n",
    "print(f'Baseline inference batchs: {len(baseline_times)}')\n",
    "print(f'ProxyStream inference batchs: {len(proxystream_times)}')\n",
    "\n",
    "print(f'Baseline Mean (std): {baseline_summary[0]} ± {baseline_summary[1]}')\n",
    "print(\n",
    "    f'ProxyStream Mean (std): {proxystream_summary[0]} ± {proxystream_summary[1]}',\n",
    ")\n",
    "\n",
    "layout = dict(width=500, height=125, margin=dict(l=5, r=5, t=5, b=5))\n",
    "\n",
    "fig = plot_distributions(baseline_times, proxystream_times, layout)\n",
    "# fig = plot_batch_time(baseline_times, proxystream_times, dict(width=500, height=200))\n",
    "fig.show(renderer='svg')\n",
    "\n",
    "figure_dir = pathlib.Path('../figures/polaris/')\n",
    "figure_dir.mkdir(exist_ok=True)\n",
    "fig.write_image(figure_dir / '4-ddmd-inference-dist.pdf')"
   ]
  },
  {
   "cell_type": "code",
   "execution_count": null,
   "id": "f2c535b1-f9d9-446f-afbd-bf919b7f04bb",
   "metadata": {},
   "outputs": [],
   "source": []
  }
 ],
 "metadata": {
  "kernelspec": {
   "display_name": "Python 3 (ipykernel)",
   "language": "python",
   "name": "python3"
  },
  "language_info": {
   "codemirror_mode": {
    "name": "ipython",
    "version": 3
   },
   "file_extension": ".py",
   "mimetype": "text/x-python",
   "name": "python",
   "nbconvert_exporter": "python",
   "pygments_lexer": "ipython3",
   "version": "3.11.5"
  }
 },
 "nbformat": 4,
 "nbformat_minor": 5
}
