{
 "cells": [
  {
   "cell_type": "code",
   "execution_count": 94,
   "id": "392435fa-0b92-4b77-aa34-03c786763165",
   "metadata": {},
   "outputs": [
    {
     "data": {
      "text/plain": [
       "<module 'theme' from '/home/jgpaul/workspace/sc24-proxystore-analysis/notebooks/theme.py'>"
      ]
     },
     "execution_count": 94,
     "metadata": {},
     "output_type": "execute_result"
    }
   ],
   "source": [
    "from __future__ import annotations\n",
    "\n",
    "import importlib\n",
    "import json\n",
    "import math\n",
    "import pathlib\n",
    "import re\n",
    "from datetime import datetime\n",
    "\n",
    "import plotly.express as px\n",
    "import polars\n",
    "import theme\n",
    "\n",
    "importlib.reload(theme)"
   ]
  },
  {
   "cell_type": "code",
   "execution_count": 95,
   "id": "b4ed189e-0de4-4181-9981-e8d135d349a5",
   "metadata": {},
   "outputs": [],
   "source": [
    "def read_log(filepath: pathlib.Path | str) -> list[str]:\n",
    "    with open(filepath) as f:\n",
    "        return f.readlines()"
   ]
  },
  {
   "cell_type": "code",
   "execution_count": 96,
   "id": "17dd6150-4c22-4431-9d36-4f39955ce4ca",
   "metadata": {},
   "outputs": [],
   "source": [
    "def get_log_timestamp(log: str) -> datetime.datetime:\n",
    "    parts = log.split(' - ')\n",
    "    return datetime.strptime(parts[0], '%Y-%m-%d %H:%M:%S,%f')\n",
    "\n",
    "\n",
    "def get_batch_index(log: str) -> int:\n",
    "    matches = re.search('\\(batch: (\\d+)\\)', log)\n",
    "    return int(matches.group(1))\n",
    "\n",
    "\n",
    "def parse_baseline_inference_times(logs: list[str]) -> polars.DataFrame:\n",
    "    logs = [json.loads(l) for l in logs]\n",
    "\n",
    "    batches = [\n",
    "        {\n",
    "            'index': i,\n",
    "            'submitted': datetime.fromtimestamp(log['timestamp']['created']),\n",
    "            'received': datetime.fromtimestamp(\n",
    "                log['timestamp']['result_received'],\n",
    "            ),\n",
    "        }\n",
    "        for i, log in enumerate(logs)\n",
    "    ]\n",
    "\n",
    "    df = polars.from_dicts(batches)\n",
    "    df = df.with_columns(\n",
    "        (polars.col('received') - polars.col('submitted')).alias('timespan'),\n",
    "    )\n",
    "\n",
    "    return df\n",
    "\n",
    "\n",
    "def parse_proxystream_inference_times(logs: list[str]) -> polars.DataFrame:\n",
    "    submitted_logs = [l for l in logs if 'Sending inference input' in l]\n",
    "    received_logs = [l for l in logs if 'Received inference output' in l]\n",
    "\n",
    "    submitted_times = {\n",
    "        get_batch_index(l): get_log_timestamp(l) for l in submitted_logs\n",
    "    }\n",
    "    received_times = {\n",
    "        get_batch_index(l): get_log_timestamp(l) for l in received_logs\n",
    "    }\n",
    "    batches = set(submitted_times.keys()) & set(received_times.keys())\n",
    "\n",
    "    batches = [\n",
    "        {\n",
    "            'index': i,\n",
    "            'submitted': submitted_times[i],\n",
    "            'received': received_times[i],\n",
    "        }\n",
    "        for i in batches\n",
    "    ]\n",
    "\n",
    "    df = polars.from_dicts(batches)\n",
    "    df = df.with_columns(\n",
    "        (polars.col('received') - polars.col('submitted')).alias('timespan'),\n",
    "    )\n",
    "\n",
    "    return df"
   ]
  },
  {
   "cell_type": "code",
   "execution_count": 145,
   "id": "ce4cbfdc-c1c3-452b-b4b2-b72e513eaa76",
   "metadata": {},
   "outputs": [],
   "source": [
    "def plot_distributions(baseline_times, proxystream_times, layout=None):\n",
    "    baseline_times = baseline_times.select(\n",
    "        polars.col('timespan').dt.total_microseconds() / 1e6,\n",
    "        polars.lit('Baseline').alias('method'),\n",
    "    )\n",
    "    proxystream_times = proxystream_times.select(\n",
    "        polars.col('timespan').dt.total_microseconds() / 1e6,\n",
    "        polars.lit('ProxyStream').alias('method'),\n",
    "    )\n",
    "\n",
    "    times = polars.concat([baseline_times, proxystream_times])\n",
    "\n",
    "    bin_width = 0.1\n",
    "    nbins = math.ceil(\n",
    "        (times['timespan'].max() - times['timespan'].min()) / bin_width,\n",
    "    )\n",
    "    colors = {\n",
    "        'Baseline': px.colors.qualitative.Bold[1],\n",
    "        'ProxyStream': px.colors.qualitative.Bold[0],\n",
    "    }\n",
    "\n",
    "    fig = px.box(\n",
    "        x=times['timespan'],\n",
    "        color=times['method'],\n",
    "        color_discrete_map=colors,\n",
    "        category_orders={'timespan': list(colors.keys())},\n",
    "    )\n",
    "    layout = {} if layout is None else layout\n",
    "    fig.update_layout(\n",
    "        xaxis_title='Inference Time (s)',\n",
    "        # yaxis_title='Count',\n",
    "        yaxis=dict(autorange='reversed'),\n",
    "        legend=dict(\n",
    "            yanchor='bottom',\n",
    "            y=0.02,\n",
    "            xanchor='right',\n",
    "            x=0.995,\n",
    "            title=None,\n",
    "        ),\n",
    "        template='proxystore',\n",
    "        boxgap=0,\n",
    "        **layout,\n",
    "    )\n",
    "    return fig"
   ]
  },
  {
   "cell_type": "code",
   "execution_count": 146,
   "id": "83b65157-29e8-4857-a18e-a34076cfd90a",
   "metadata": {},
   "outputs": [
    {
     "name": "stdout",
     "output_type": "stream",
     "text": [
      "Baseline Mean (std): 3.264023 ± 6.615977\n",
      "ProxyStream Mean (std): 0.663543 ± 0.245087\n"
     ]
    },
    {
     "data": {
      "image/svg+xml": [
       "<svg class=\"main-svg\" xmlns=\"http://www.w3.org/2000/svg\" xmlns:xlink=\"http://www.w3.org/1999/xlink\" width=\"500\" height=\"200\" style=\"\" viewBox=\"0 0 500 200\"><rect x=\"0\" y=\"0\" width=\"500\" height=\"200\" style=\"fill: rgb(255, 255, 255); fill-opacity: 1;\"/><defs id=\"defs-e0e20c\"><g class=\"clips\"><clipPath id=\"clipe0e20cxyplot\" class=\"plotclip\"><rect width=\"473\" height=\"102\"/></clipPath><clipPath class=\"axesclip\" id=\"clipe0e20cx\"><rect x=\"16\" y=\"0\" width=\"473\" height=\"200\"/></clipPath><clipPath class=\"axesclip\" id=\"clipe0e20cy\"><rect x=\"0\" y=\"60\" width=\"500\" height=\"102\"/></clipPath><clipPath class=\"axesclip\" id=\"clipe0e20cxy\"><rect x=\"16\" y=\"60\" width=\"473\" height=\"102\"/></clipPath></g><g class=\"gradients\"/><g class=\"patterns\"/></defs><g class=\"bglayer\"/><g class=\"layer-below\"><g class=\"imagelayer\"/><g class=\"shapelayer\"/></g><g class=\"cartesianlayer\"><g class=\"subplot xy\"><g class=\"layer-subplot\"><g class=\"shapelayer\"/><g class=\"imagelayer\"/></g><g class=\"minor-gridlayer\"><g class=\"x\"/><g class=\"y\"/></g><g class=\"gridlayer\"><g class=\"x\"><path class=\"xgrid crisp\" transform=\"translate(134.25,0)\" d=\"M0,60v102\" style=\"stroke: rgb(224, 224, 224); stroke-opacity: 1; stroke-width: 1px;\"/><path class=\"xgrid crisp\" transform=\"translate(252.5,0)\" d=\"M0,60v102\" style=\"stroke: rgb(224, 224, 224); stroke-opacity: 1; stroke-width: 1px;\"/><path class=\"xgrid crisp\" transform=\"translate(370.75,0)\" d=\"M0,60v102\" style=\"stroke: rgb(224, 224, 224); stroke-opacity: 1; stroke-width: 1px;\"/></g><g class=\"y\"><path class=\"ygrid crisp\" transform=\"translate(0,111)\" d=\"M16,0h473\" style=\"stroke: rgb(224, 224, 224); stroke-opacity: 1; stroke-width: 1px;\"/></g></g><g class=\"zerolinelayer\"/><path class=\"xlines-below\"/><path class=\"ylines-below\"/><g class=\"overlines-below\"/><g class=\"xaxislayer-below\"/><g class=\"yaxislayer-below\"/><g class=\"overaxes-below\"/><g class=\"plot\" transform=\"translate(16,60)\" clip-path=\"url(#clipe0e20cxyplot)\"><g class=\"boxlayer mlayer\"><g class=\"trace boxes\" style=\"opacity: 1;\"><path class=\"box\" d=\"M20.76,10.2V43.8M14.22,10.2V43.8H25.8V10.2ZM14.22,27H7.74M25.8,27H35.72M7.74,18.6V35.4M35.72,18.6V35.4\" style=\"vector-effect: none; stroke-width: 2px; stroke: rgb(17, 165, 121); stroke-opacity: 1; fill: rgb(17, 165, 121); fill-opacity: 0.5;\"/><g class=\"points\"><path class=\"point\" transform=\"translate(46.73,27)\" d=\"M3,0A3,3 0 1,1 0,-3A3,3 0 0,1 3,0Z\" style=\"opacity: 1; stroke-width: 0px; fill: rgb(17, 165, 121); fill-opacity: 1;\"/><path class=\"point\" transform=\"translate(82.78,27)\" d=\"M3,0A3,3 0 1,1 0,-3A3,3 0 0,1 3,0Z\" style=\"opacity: 1; stroke-width: 0px; fill: rgb(17, 165, 121); fill-opacity: 1;\"/><path class=\"point\" transform=\"translate(140.57,27)\" d=\"M3,0A3,3 0 1,1 0,-3A3,3 0 0,1 3,0Z\" style=\"opacity: 1; stroke-width: 0px; fill: rgb(17, 165, 121); fill-opacity: 1;\"/><path class=\"point\" transform=\"translate(141.86,27)\" d=\"M3,0A3,3 0 1,1 0,-3A3,3 0 0,1 3,0Z\" style=\"opacity: 1; stroke-width: 0px; fill: rgb(17, 165, 121); fill-opacity: 1;\"/><path class=\"point\" transform=\"translate(152.68,27)\" d=\"M3,0A3,3 0 1,1 0,-3A3,3 0 0,1 3,0Z\" style=\"opacity: 1; stroke-width: 0px; fill: rgb(17, 165, 121); fill-opacity: 1;\"/><path class=\"point\" transform=\"translate(169.18,27)\" d=\"M3,0A3,3 0 1,1 0,-3A3,3 0 0,1 3,0Z\" style=\"opacity: 1; stroke-width: 0px; fill: rgb(17, 165, 121); fill-opacity: 1;\"/><path class=\"point\" transform=\"translate(203.96,27)\" d=\"M3,0A3,3 0 1,1 0,-3A3,3 0 0,1 3,0Z\" style=\"opacity: 1; stroke-width: 0px; fill: rgb(17, 165, 121); fill-opacity: 1;\"/><path class=\"point\" transform=\"translate(215.02,27)\" d=\"M3,0A3,3 0 1,1 0,-3A3,3 0 0,1 3,0Z\" style=\"opacity: 1; stroke-width: 0px; fill: rgb(17, 165, 121); fill-opacity: 1;\"/><path class=\"point\" transform=\"translate(219.83,27)\" d=\"M3,0A3,3 0 1,1 0,-3A3,3 0 0,1 3,0Z\" style=\"opacity: 1; stroke-width: 0px; fill: rgb(17, 165, 121); fill-opacity: 1;\"/><path class=\"point\" transform=\"translate(251.23,27)\" d=\"M3,0A3,3 0 1,1 0,-3A3,3 0 0,1 3,0Z\" style=\"opacity: 1; stroke-width: 0px; fill: rgb(17, 165, 121); fill-opacity: 1;\"/><path class=\"point\" transform=\"translate(274.85,27)\" d=\"M3,0A3,3 0 1,1 0,-3A3,3 0 0,1 3,0Z\" style=\"opacity: 1; stroke-width: 0px; fill: rgb(17, 165, 121); fill-opacity: 1;\"/><path class=\"point\" transform=\"translate(286.82,27)\" d=\"M3,0A3,3 0 1,1 0,-3A3,3 0 0,1 3,0Z\" style=\"opacity: 1; stroke-width: 0px; fill: rgb(17, 165, 121); fill-opacity: 1;\"/><path class=\"point\" transform=\"translate(306.13,27)\" d=\"M3,0A3,3 0 1,1 0,-3A3,3 0 0,1 3,0Z\" style=\"opacity: 1; stroke-width: 0px; fill: rgb(17, 165, 121); fill-opacity: 1;\"/><path class=\"point\" transform=\"translate(316.9,27)\" d=\"M3,0A3,3 0 1,1 0,-3A3,3 0 0,1 3,0Z\" style=\"opacity: 1; stroke-width: 0px; fill: rgb(17, 165, 121); fill-opacity: 1;\"/><path class=\"point\" transform=\"translate(333.53,27)\" d=\"M3,0A3,3 0 1,1 0,-3A3,3 0 0,1 3,0Z\" style=\"opacity: 1; stroke-width: 0px; fill: rgb(17, 165, 121); fill-opacity: 1;\"/><path class=\"point\" transform=\"translate(371.07,27)\" d=\"M3,0A3,3 0 1,1 0,-3A3,3 0 0,1 3,0Z\" style=\"opacity: 1; stroke-width: 0px; fill: rgb(17, 165, 121); fill-opacity: 1;\"/><path class=\"point\" transform=\"translate(374.96,27)\" d=\"M3,0A3,3 0 1,1 0,-3A3,3 0 0,1 3,0Z\" style=\"opacity: 1; stroke-width: 0px; fill: rgb(17, 165, 121); fill-opacity: 1;\"/><path class=\"point\" transform=\"translate(390.1,27)\" d=\"M3,0A3,3 0 1,1 0,-3A3,3 0 0,1 3,0Z\" style=\"opacity: 1; stroke-width: 0px; fill: rgb(17, 165, 121); fill-opacity: 1;\"/><path class=\"point\" transform=\"translate(411.62,27)\" d=\"M3,0A3,3 0 1,1 0,-3A3,3 0 0,1 3,0Z\" style=\"opacity: 1; stroke-width: 0px; fill: rgb(17, 165, 121); fill-opacity: 1;\"/><path class=\"point\" transform=\"translate(433.99,27)\" d=\"M3,0A3,3 0 1,1 0,-3A3,3 0 0,1 3,0Z\" style=\"opacity: 1; stroke-width: 0px; fill: rgb(17, 165, 121); fill-opacity: 1;\"/><path class=\"point\" transform=\"translate(439.24,27)\" d=\"M3,0A3,3 0 1,1 0,-3A3,3 0 0,1 3,0Z\" style=\"opacity: 1; stroke-width: 0px; fill: rgb(17, 165, 121); fill-opacity: 1;\"/><path class=\"point\" transform=\"translate(447.48,27)\" d=\"M3,0A3,3 0 1,1 0,-3A3,3 0 0,1 3,0Z\" style=\"opacity: 1; stroke-width: 0px; fill: rgb(17, 165, 121); fill-opacity: 1;\"/><path class=\"point\" transform=\"translate(466.98,27)\" d=\"M3,0A3,3 0 1,1 0,-3A3,3 0 0,1 3,0Z\" style=\"opacity: 1; stroke-width: 0px; fill: rgb(17, 165, 121); fill-opacity: 1;\"/><path class=\"point\" transform=\"translate(501.93,27)\" d=\"M3,0A3,3 0 1,1 0,-3A3,3 0 0,1 3,0Z\" style=\"opacity: 1; stroke-width: 0px; fill: rgb(17, 165, 121); fill-opacity: 1;\"/><path class=\"point\" transform=\"translate(503.04,27)\" d=\"M3,0A3,3 0 1,1 0,-3A3,3 0 0,1 3,0Z\" style=\"opacity: 1; stroke-width: 0px; fill: rgb(17, 165, 121); fill-opacity: 1;\"/><path class=\"point\" transform=\"translate(524.42,27)\" d=\"M3,0A3,3 0 1,1 0,-3A3,3 0 0,1 3,0Z\" style=\"opacity: 1; stroke-width: 0px; fill: rgb(17, 165, 121); fill-opacity: 1;\"/><path class=\"point\" transform=\"translate(534.69,27)\" d=\"M3,0A3,3 0 1,1 0,-3A3,3 0 0,1 3,0Z\" style=\"opacity: 1; stroke-width: 0px; fill: rgb(17, 165, 121); fill-opacity: 1;\"/><path class=\"point\" transform=\"translate(558.92,27)\" d=\"M3,0A3,3 0 1,1 0,-3A3,3 0 0,1 3,0Z\" style=\"opacity: 1; stroke-width: 0px; fill: rgb(17, 165, 121); fill-opacity: 1;\"/><path class=\"point\" transform=\"translate(593.61,27)\" d=\"M3,0A3,3 0 1,1 0,-3A3,3 0 0,1 3,0Z\" style=\"opacity: 1; stroke-width: 0px; fill: rgb(17, 165, 121); fill-opacity: 1;\"/><path class=\"point\" transform=\"translate(595.07,27)\" d=\"M3,0A3,3 0 1,1 0,-3A3,3 0 0,1 3,0Z\" style=\"opacity: 1; stroke-width: 0px; fill: rgb(17, 165, 121); fill-opacity: 1;\"/><path class=\"point\" transform=\"translate(616.25,27)\" d=\"M3,0A3,3 0 1,1 0,-3A3,3 0 0,1 3,0Z\" style=\"opacity: 1; stroke-width: 0px; fill: rgb(17, 165, 121); fill-opacity: 1;\"/><path class=\"point\" transform=\"translate(622.8,27)\" d=\"M3,0A3,3 0 1,1 0,-3A3,3 0 0,1 3,0Z\" style=\"opacity: 1; stroke-width: 0px; fill: rgb(17, 165, 121); fill-opacity: 1;\"/><path class=\"point\" transform=\"translate(642.16,27)\" d=\"M3,0A3,3 0 1,1 0,-3A3,3 0 0,1 3,0Z\" style=\"opacity: 1; stroke-width: 0px; fill: rgb(17, 165, 121); fill-opacity: 1;\"/><path class=\"point\" transform=\"translate(653.65,27)\" d=\"M3,0A3,3 0 1,1 0,-3A3,3 0 0,1 3,0Z\" style=\"opacity: 1; stroke-width: 0px; fill: rgb(17, 165, 121); fill-opacity: 1;\"/><path class=\"point\" transform=\"translate(673.29,27)\" d=\"M3,0A3,3 0 1,1 0,-3A3,3 0 0,1 3,0Z\" style=\"opacity: 1; stroke-width: 0px; fill: rgb(17, 165, 121); fill-opacity: 1;\"/><path class=\"point\" transform=\"translate(681.56,27)\" d=\"M3,0A3,3 0 1,1 0,-3A3,3 0 0,1 3,0Z\" style=\"opacity: 1; stroke-width: 0px; fill: rgb(17, 165, 121); fill-opacity: 1;\"/><path class=\"point\" transform=\"translate(701.35,27)\" d=\"M3,0A3,3 0 1,1 0,-3A3,3 0 0,1 3,0Z\" style=\"opacity: 1; stroke-width: 0px; fill: rgb(17, 165, 121); fill-opacity: 1;\"/></g></g><g class=\"trace boxes\" style=\"opacity: 1;\"><path class=\"box\" d=\"M15.28,58.2V91.8M11.05,58.2V91.8H19.82V58.2ZM11.05,75H6.57M19.82,75H31.5M6.57,66.6V83.4M31.5,66.6V83.4\" style=\"vector-effect: none; stroke-width: 2px; stroke: rgb(127, 60, 141); stroke-opacity: 1; fill: rgb(127, 60, 141); fill-opacity: 0.5;\"/><g class=\"points\"><path class=\"point\" transform=\"translate(33.32,75)\" d=\"M3,0A3,3 0 1,1 0,-3A3,3 0 0,1 3,0Z\" style=\"opacity: 1; stroke-width: 0px; fill: rgb(127, 60, 141); fill-opacity: 1;\"/><path class=\"point\" transform=\"translate(35.57,75)\" d=\"M3,0A3,3 0 1,1 0,-3A3,3 0 0,1 3,0Z\" style=\"opacity: 1; stroke-width: 0px; fill: rgb(127, 60, 141); fill-opacity: 1;\"/></g></g></g></g><g class=\"overplot\"/><path class=\"xlines-above crisp\" d=\"M15,162.5H490M15,59.5H490\" style=\"fill: none; stroke-width: 1px; stroke: rgb(97, 97, 97); stroke-opacity: 1;\"/><path class=\"ylines-above crisp\" d=\"M15.5,60V162M489.5,60V162\" style=\"fill: none; stroke-width: 1px; stroke: rgb(97, 97, 97); stroke-opacity: 1;\"/><g class=\"overlines-above\"/><g class=\"xaxislayer-above\"><path class=\"xtick ticks crisp\" d=\"M0,163v5\" transform=\"translate(16,0)\" style=\"stroke: rgb(68, 68, 68); stroke-opacity: 1; stroke-width: 1px;\"/><path class=\"xtick ticks crisp\" d=\"M0,163v5\" transform=\"translate(134.25,0)\" style=\"stroke: rgb(68, 68, 68); stroke-opacity: 1; stroke-width: 1px;\"/><path class=\"xtick ticks crisp\" d=\"M0,163v5\" transform=\"translate(252.5,0)\" style=\"stroke: rgb(68, 68, 68); stroke-opacity: 1; stroke-width: 1px;\"/><path class=\"xtick ticks crisp\" d=\"M0,163v5\" transform=\"translate(370.75,0)\" style=\"stroke: rgb(68, 68, 68); stroke-opacity: 1; stroke-width: 1px;\"/><path class=\"xtick ticks crisp\" d=\"M0,163v5\" transform=\"translate(489,0)\" style=\"stroke: rgb(68, 68, 68); stroke-opacity: 1; stroke-width: 1px;\"/><g class=\"xtick\"><text text-anchor=\"middle\" x=\"0\" y=\"180\" transform=\"translate(16,0)\" style=\"font-family: Arial; font-size: 10px; fill: rgb(36, 36, 36); fill-opacity: 1; white-space: pre; opacity: 1;\">0</text></g><g class=\"xtick\"><text text-anchor=\"middle\" x=\"0\" y=\"180\" style=\"font-family: Arial; font-size: 10px; fill: rgb(36, 36, 36); fill-opacity: 1; white-space: pre; opacity: 1;\" transform=\"translate(134.25,0)\">5</text></g><g class=\"xtick\"><text text-anchor=\"middle\" x=\"0\" y=\"180\" style=\"font-family: Arial; font-size: 10px; fill: rgb(36, 36, 36); fill-opacity: 1; white-space: pre; opacity: 1;\" transform=\"translate(252.5,0)\">10</text></g><g class=\"xtick\"><text text-anchor=\"middle\" x=\"0\" y=\"180\" style=\"font-family: Arial; font-size: 10px; fill: rgb(36, 36, 36); fill-opacity: 1; white-space: pre; opacity: 1;\" transform=\"translate(370.75,0)\">15</text></g><g class=\"xtick\"><text text-anchor=\"middle\" x=\"0\" y=\"180\" style=\"font-family: Arial; font-size: 10px; fill: rgb(36, 36, 36); fill-opacity: 1; white-space: pre; opacity: 1;\" transform=\"translate(489,0)\">20</text></g></g><g class=\"yaxislayer-above\"><path class=\"ytick ticks crisp\" d=\"M15,0h-5\" transform=\"translate(0,111)\" style=\"stroke: rgb(68, 68, 68); stroke-opacity: 1; stroke-width: 1px;\"/><g class=\"ytick\"><text text-anchor=\"end\" x=\"8\" y=\"3.5\" transform=\"translate(0,111)\" style=\"font-family: Arial; font-size: 10px; fill: rgb(36, 36, 36); fill-opacity: 1; white-space: pre; opacity: 1;\"> </text></g></g><g class=\"overaxes-above\"/></g></g><g class=\"polarlayer\"/><g class=\"smithlayer\"/><g class=\"ternarylayer\"/><g class=\"geolayer\"/><g class=\"funnelarealayer\"/><g class=\"pielayer\"/><g class=\"iciclelayer\"/><g class=\"treemaplayer\"/><g class=\"sunburstlayer\"/><g class=\"glimages\"/><defs id=\"topdefs-e0e20c\"><g class=\"clips\"/><clipPath id=\"legende0e20c\"><rect width=\"115\" height=\"48\" x=\"1\" y=\"1\"/></clipPath></defs><g class=\"layer-above\"><g class=\"imagelayer\"/><g class=\"shapelayer\"/></g><g class=\"infolayer\"><g class=\"legend\" pointer-events=\"all\" transform=\"translate(369.635,109.95999999999998)\"><rect class=\"bg\" shape-rendering=\"crispEdges\" width=\"116\" height=\"49\" x=\"0.5\" y=\"0.5\" style=\"stroke: rgb(224, 224, 224); stroke-opacity: 1; fill: rgb(255, 255, 255); fill-opacity: 1; stroke-width: 1px;\"/><g class=\"scrollbox\" transform=\"\" clip-path=\"url(#legende0e20c)\"><g class=\"groups\" transform=\"\"><g class=\"traces\" transform=\"translate(1,15.5)\" style=\"opacity: 1;\"><text class=\"legendtext\" text-anchor=\"start\" x=\"40\" y=\"4.680000000000001\" style=\"font-family: Arial; font-size: 12px; fill: rgb(36, 36, 36); fill-opacity: 1; white-space: pre;\">Baseline</text><g class=\"layers\" style=\"opacity: 1;\"><g class=\"legendfill\"/><g class=\"legendlines\"/><g class=\"legendsymbols\"><g class=\"legendpoints\"><path class=\"legendbox\" d=\"M6,6H-6V-6H6Z\" transform=\"translate(20,0)\" style=\"stroke-width: 2px; fill: rgb(17, 165, 121); fill-opacity: 0.5; stroke: rgb(17, 165, 121); stroke-opacity: 1;\"/></g></g></g><rect class=\"legendtoggle\" x=\"0\" y=\"-9.5\" width=\"109.359375\" height=\"19\" style=\"fill: rgb(0, 0, 0); fill-opacity: 0;\"/></g></g><g class=\"groups\" transform=\"\"><g class=\"traces\" transform=\"translate(1,34.5)\" style=\"opacity: 1;\"><text class=\"legendtext\" text-anchor=\"start\" x=\"40\" y=\"4.680000000000001\" style=\"font-family: Arial; font-size: 12px; fill: rgb(36, 36, 36); fill-opacity: 1; white-space: pre;\">ProxyStream</text><g class=\"layers\" style=\"opacity: 1;\"><g class=\"legendfill\"/><g class=\"legendlines\"/><g class=\"legendsymbols\"><g class=\"legendpoints\"><path class=\"legendbox\" d=\"M6,6H-6V-6H6Z\" transform=\"translate(20,0)\" style=\"stroke-width: 2px; fill: rgb(127, 60, 141); fill-opacity: 0.5; stroke: rgb(127, 60, 141); stroke-opacity: 1;\"/></g></g></g><rect class=\"legendtoggle\" x=\"0\" y=\"-9.5\" width=\"109.359375\" height=\"19\" style=\"fill: rgb(0, 0, 0); fill-opacity: 0;\"/></g></g></g><rect class=\"scrollbar\" rx=\"20\" ry=\"3\" width=\"0\" height=\"0\" x=\"0\" y=\"0\" style=\"fill: rgb(128, 139, 164); fill-opacity: 1;\"/></g><g class=\"g-gtitle\"/><g class=\"g-xtitle\"><text class=\"xtitle\" x=\"252.5\" y=\"194.9\" text-anchor=\"middle\" style=\"font-family: Arial; font-size: 12px; fill: rgb(36, 36, 36); opacity: 1; font-weight: normal; white-space: pre;\">Inference Time (s)</text></g><g class=\"g-ytitle\"/></g></svg>"
      ]
     },
     "metadata": {},
     "output_type": "display_data"
    }
   ],
   "source": [
    "baseline_logs = read_log(\n",
    "    '../data/polaris/4-deepdrivemd/bba-baseline-160324-174754/result/inference.json',\n",
    ")\n",
    "proxystream_logs = read_log(\n",
    "    '../data/polaris/4-deepdrivemd/bba-proxystream-160324-163305/runtime.log',\n",
    ")\n",
    "\n",
    "baseline_times = parse_baseline_inference_times(baseline_logs)\n",
    "proxystream_times = parse_proxystream_inference_times(proxystream_logs)\n",
    "\n",
    "baseline_summary = (\n",
    "    baseline_times['timespan'].mean().total_seconds(),\n",
    "    baseline_times['timespan'].std().total_seconds(),\n",
    ")\n",
    "proxystream_summary = (\n",
    "    proxystream_times['timespan'].mean().total_seconds(),\n",
    "    proxystream_times['timespan'].std().total_seconds(),\n",
    ")\n",
    "print(f'Baseline Mean (std): {baseline_summary[0]} ± {baseline_summary[1]}')\n",
    "print(\n",
    "    f'ProxyStream Mean (std): {proxystream_summary[0]} ± {proxystream_summary[1]}',\n",
    ")\n",
    "\n",
    "layout = dict(width=500, height=200, xaxis_range=[0, 20])\n",
    "\n",
    "fig = plot_distributions(baseline_times, proxystream_times, layout)\n",
    "fig.show(renderer='svg')\n",
    "\n",
    "figure_dir = pathlib.Path('../figures/polaris/')\n",
    "figure_dir.mkdir(exist_ok=True)\n",
    "fig.write_image(figure_dir / '4-ddmd-inference-dist.pdf')"
   ]
  },
  {
   "cell_type": "code",
   "execution_count": null,
   "id": "5658d485-471f-452c-97e1-5ed05ea9d96e",
   "metadata": {},
   "outputs": [],
   "source": []
  }
 ],
 "metadata": {
  "kernelspec": {
   "display_name": "Python 3 (ipykernel)",
   "language": "python",
   "name": "python3"
  },
  "language_info": {
   "codemirror_mode": {
    "name": "ipython",
    "version": 3
   },
   "file_extension": ".py",
   "mimetype": "text/x-python",
   "name": "python",
   "nbconvert_exporter": "python",
   "pygments_lexer": "ipython3",
   "version": "3.11.5"
  }
 },
 "nbformat": 4,
 "nbformat_minor": 5
}
