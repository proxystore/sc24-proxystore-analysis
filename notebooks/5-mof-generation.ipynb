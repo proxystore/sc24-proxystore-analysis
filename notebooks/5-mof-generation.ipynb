{
 "cells": [
  {
   "cell_type": "code",
   "execution_count": 1,
   "id": "bc65a245-3600-47ff-9a46-e1a70e8a16dc",
   "metadata": {},
   "outputs": [
    {
     "data": {
      "text/plain": [
       "<module 'theme' from '/home/jgpaul/workspace/sc24-proxystore-analysis/notebooks/theme.py'>"
      ]
     },
     "execution_count": 1,
     "metadata": {},
     "output_type": "execute_result"
    }
   ],
   "source": [
    "from __future__ import annotations\n",
    "\n",
    "import importlib\n",
    "import json\n",
    "import pathlib\n",
    "import re\n",
    "from datetime import datetime\n",
    "\n",
    "import plotly.express as px\n",
    "import polars\n",
    "import theme\n",
    "\n",
    "importlib.reload(theme)"
   ]
  },
  {
   "cell_type": "code",
   "execution_count": 2,
   "id": "b8d14a9a-ba49-4980-bb0d-687f86f0596d",
   "metadata": {},
   "outputs": [],
   "source": [
    "def read_log(filepath: pathlib.Path | str) -> list[str]:\n",
    "    with open(filepath) as f:\n",
    "        return f.readlines()"
   ]
  },
  {
   "cell_type": "code",
   "execution_count": 3,
   "id": "b9cdbdf8-9e87-47a3-8f60-4be7175a8919",
   "metadata": {},
   "outputs": [],
   "source": [
    "UUID_PATTERN = '[0-9a-f]{8}-[0-9a-f]{4}-[0-9a-f]{4}-[0-9a-f]{4}-[0-9a-f]{12}'\n",
    "DATE_PATTERN = '\\d{4}-\\d{2}-\\d{2} \\d{2}:\\d{2}:\\d{2}(?:,|.)\\d{3}'\n",
    "PATTERN = re.compile(f'({DATE_PATTERN}).*(EVICT|PROXY|GET|PUT|PROXY).*({UUID_PATTERN})')\n",
    "\n",
    "def parse_line(line: str) -> dict:\n",
    "    match = PATTERN.match(line)\n",
    "    if match is None:\n",
    "        return None\n",
    "    return {\n",
    "        'datetime': datetime.strptime(match.group(1), '%Y-%m-%d %H:%M:%S,%f' if ',' in match.group(1) else '%Y-%m-%d %H:%M:%S.%f'),\n",
    "        'operation': match.group(2),\n",
    "        'uuid': match.group(3),\n",
    "    }\n",
    "\n",
    "def parse_events(logs: list[str]) -> polars.DataFrame:\n",
    "    lines = list(x for x in map(parse_line, logs) if x is not None)\n",
    "    df = polars.from_dicts(lines).sort('datetime')\n",
    "    df = df.with_columns(polars.col('datetime').dt.timestamp('ms').truediv(1000).alias('timestamp'))\n",
    "    df = df.select(\n",
    "        polars.col('uuid'),\n",
    "        polars.col('operation'),\n",
    "        polars.col('timestamp') - df['timestamp'].min(),\n",
    "    )\n",
    "    df = df.pivot(index='uuid', columns='operation', values='timestamp')\n",
    "    return df\n",
    "\n",
    "def process(files: dict[str, pathlib.Path | str]) -> polars.DataFrame:\n",
    "    dfs = []\n",
    "    for name, filepath in files.items():\n",
    "        log = read_log(filepath)\n",
    "        data = parse_events(log)\n",
    "        data = data.select(polars.lit(name).alias('run'), polars.all())\n",
    "        dfs.append(data)\n",
    "    return polars.concat(dfs, how='diagonal')"
   ]
  },
  {
   "cell_type": "code",
   "execution_count": 33,
   "id": "a8d882c2-2259-45ec-9e28-fd243c63b665",
   "metadata": {},
   "outputs": [],
   "source": [
    "def get_active_proxies(data: polars.DataFrame, period=10) -> polars.DataFrame:\n",
    "    data = data.select(\n",
    "        polars.col('run'),\n",
    "        polars.col('uuid'),\n",
    "        polars.col('PROXY'), # .cast(polars.Int32),\n",
    "        polars.col('EVICT'), # .cast(polars.Int32),\n",
    "    )\n",
    "    proxy_data = data.pivot(values='PROXY', index='PROXY', columns=('run'), aggregate_function='len').select(\n",
    "        polars.col('PROXY').alias('timestep'),\n",
    "        polars.col('Baseline').cast(polars.Int32).alias('Baseline-Proxy'),\n",
    "        polars.col('Ownership').cast(polars.Int32).alias('Ownership-Proxy'),\n",
    "    ).drop_nulls('timestep').fill_null(0)\n",
    "    evict_data = data.pivot(values='EVICT', index='EVICT', columns=('run'), aggregate_function='len').select(\n",
    "        polars.col('EVICT').alias('timestep'),\n",
    "        polars.col('Baseline').cast(polars.Int32).alias('Baseline-Evict'),\n",
    "        polars.col('Ownership').cast(polars.Int32).alias('Ownership-Evict'),\n",
    "    ).drop_nulls('timestep').fill_null(0)\n",
    "    data = proxy_data.join(evict_data, on='timestep', how='outer_coalesce').fill_null(0).sort('timestep')\n",
    "    data = data.select(\n",
    "        polars.col('timestep'),\n",
    "        (polars.col('Baseline-Proxy') - polars.col('Baseline-Evict')).alias('Baseline'),\n",
    "        (polars.col('Ownership-Proxy') - polars.col('Ownership-Evict')).alias('Ownership'),\n",
    "    )\n",
    "    data = data.select(\n",
    "        polars.col('timestep'),\n",
    "        polars.cum_sum('Baseline'),\n",
    "        polars.cum_sum('Ownership'),\n",
    "    )\n",
    "    return data"
   ]
  },
  {
   "cell_type": "code",
   "execution_count": 30,
   "id": "15419ff2-dbd4-4d64-a87b-4846f62fd58b",
   "metadata": {},
   "outputs": [],
   "source": [
    "def generate_figure(data, layout=None):\n",
    "    data = get_active_proxies(data)\n",
    "    data = data.melt(id_vars='timestep', value_vars=('Baseline', 'Ownership'))    \n",
    "\n",
    "    colors = {\n",
    "        'Baseline': px.colors.qualitative.Bold[1],\n",
    "        'Ownership': px.colors.qualitative.Bold[0],\n",
    "    }\n",
    "\n",
    "    # Add one to values because we use log scale and 0 won't work\n",
    "    data = data.with_columns(polars.col('value') + 1)\n",
    "    \n",
    "    fig = px.line(\n",
    "        data,\n",
    "        x='timestep',\n",
    "        y='value',\n",
    "        color='variable',\n",
    "        color_discrete_map=colors,\n",
    "        log_y=True,\n",
    "    )\n",
    "\n",
    "    ymax = data['value'].max()\n",
    "    yaxis_ticks = [i for i in range(len(str(ymax)) + 1)]\n",
    "    \n",
    "    layout = {} if layout is None else layout\n",
    "    fig.update_layout(\n",
    "        xaxis_title='Runtime (s)',\n",
    "        yaxis_title='Active Proxies',\n",
    "        # xaxis_range=[0, xmax],\n",
    "        yaxis = dict(\n",
    "            tickmode='array',\n",
    "            tickvals=[10**e for e in yaxis_ticks],\n",
    "            ticktext=[f'10<sup>{e}</sup>' for e in yaxis_ticks],\n",
    "        ),\n",
    "        legend=dict(\n",
    "            yanchor='bottom',\n",
    "            y=0.2,\n",
    "            xanchor='right',\n",
    "            x=0.995,\n",
    "            title=None,\n",
    "        ),\n",
    "        template='proxystore',\n",
    "        **layout,\n",
    "    )\n",
    "    return fig\n"
   ]
  },
  {
   "cell_type": "markdown",
   "id": "f1f22290-68ba-48d5-b988-b5a6133e84d0",
   "metadata": {},
   "source": [
    "## Single Node Polaris"
   ]
  },
  {
   "cell_type": "code",
   "execution_count": 6,
   "id": "cf2abf31-64dd-4131-b44c-377a2eb84ca2",
   "metadata": {},
   "outputs": [
    {
     "name": "stdout",
     "output_type": "stream",
     "text": [
      "shape: (662, 4)\n",
      "┌───────────┬───────────────────────────────────┬───────┬───────┐\n",
      "│ run       ┆ uuid                              ┆ PROXY ┆ EVICT │\n",
      "│ ---       ┆ ---                               ┆ ---   ┆ ---   │\n",
      "│ str       ┆ str                               ┆ i32   ┆ i32   │\n",
      "╞═══════════╪═══════════════════════════════════╪═══════╪═══════╡\n",
      "│ Ownership ┆ 6229c729-009c-46c6-b38a-c89cd134… ┆ 0     ┆ 0     │\n",
      "│ Ownership ┆ 65f65825-6ce6-46c2-b29e-a3e4db10… ┆ 0     ┆ 0     │\n",
      "│ Ownership ┆ e49b6088-1fc7-4444-ae7b-f647ed8d… ┆ 0     ┆ 0     │\n",
      "│ Ownership ┆ 8d30fc29-d5cf-466a-82ab-3759e23b… ┆ 0     ┆ 3     │\n",
      "│ Ownership ┆ 8e48052b-e0c1-44e8-a0f3-40237057… ┆ 3     ┆ 3     │\n",
      "│ …         ┆ …                                 ┆ …     ┆ …     │\n",
      "│ Ownership ┆ 5e14a4bb-0c7d-4495-8ac7-c4679d55… ┆ 697   ┆ 698   │\n",
      "│ Ownership ┆ 253a5d03-ca97-4c6a-a099-86fe96f7… ┆ 697   ┆ 698   │\n",
      "│ Ownership ┆ f7cb7930-6719-428b-86f2-b9515e02… ┆ 697   ┆ 698   │\n",
      "│ Ownership ┆ e6bdbc6e-3ad6-49fa-a4dc-ac3e286a… ┆ 726   ┆ 768   │\n",
      "│ Ownership ┆ 3b0a9b8c-90b0-4671-b353-17fbf8b9… ┆ 768   ┆ 768   │\n",
      "└───────────┴───────────────────────────────────┴───────┴───────┘\n",
      "shape: (1_517, 4)\n",
      "┌───────────┬───────────────────────────────────┬───────┬───────┐\n",
      "│ run       ┆ uuid                              ┆ PROXY ┆ EVICT │\n",
      "│ ---       ┆ ---                               ┆ ---   ┆ ---   │\n",
      "│ str       ┆ str                               ┆ i32   ┆ i32   │\n",
      "╞═══════════╪═══════════════════════════════════╪═══════╪═══════╡\n",
      "│ Baseline  ┆ 32da0613-5f52-4255-bf39-db4973b7… ┆ 0     ┆ null  │\n",
      "│ Baseline  ┆ 53a35c9c-9ea0-4f49-b8b5-f30f5fad… ┆ 0     ┆ null  │\n",
      "│ Baseline  ┆ b454159a-b55b-4da9-82e2-e2f2516a… ┆ 0     ┆ null  │\n",
      "│ Baseline  ┆ e9a37a8b-b8e7-47b5-ab3c-62fed62c… ┆ 0     ┆ null  │\n",
      "│ Baseline  ┆ e1aa1c43-e644-4454-88ab-909ba402… ┆ 3     ┆ null  │\n",
      "│ …         ┆ …                                 ┆ …     ┆ …     │\n",
      "│ Ownership ┆ 5e14a4bb-0c7d-4495-8ac7-c4679d55… ┆ 697   ┆ 698   │\n",
      "│ Ownership ┆ 253a5d03-ca97-4c6a-a099-86fe96f7… ┆ 697   ┆ 698   │\n",
      "│ Ownership ┆ f7cb7930-6719-428b-86f2-b9515e02… ┆ 697   ┆ 698   │\n",
      "│ Ownership ┆ e6bdbc6e-3ad6-49fa-a4dc-ac3e286a… ┆ 726   ┆ 768   │\n",
      "│ Ownership ┆ 3b0a9b8c-90b0-4671-b353-17fbf8b9… ┆ 768   ┆ 768   │\n",
      "└───────────┴───────────────────────────────────┴───────┴───────┘\n"
     ]
    },
    {
     "data": {
      "image/svg+xml": [
       "<svg class=\"main-svg\" xmlns=\"http://www.w3.org/2000/svg\" xmlns:xlink=\"http://www.w3.org/1999/xlink\" width=\"500\" height=\"125\" style=\"\" viewBox=\"0 0 500 125\"><rect x=\"0\" y=\"0\" width=\"500\" height=\"125\" style=\"fill: rgb(255, 255, 255); fill-opacity: 1;\"/><defs id=\"defs-54f11b\"><g class=\"clips\"><clipPath id=\"clip54f11bxyplot\" class=\"plotclip\"><rect width=\"453\" height=\"79\"/></clipPath><clipPath class=\"axesclip\" id=\"clip54f11bx\"><rect x=\"41\" y=\"0\" width=\"453\" height=\"125\"/></clipPath><clipPath class=\"axesclip\" id=\"clip54f11by\"><rect x=\"0\" y=\"8\" width=\"500\" height=\"79\"/></clipPath><clipPath class=\"axesclip\" id=\"clip54f11bxy\"><rect x=\"41\" y=\"8\" width=\"453\" height=\"79\"/></clipPath></g><g class=\"gradients\"/><g class=\"patterns\"/></defs><g class=\"bglayer\"/><g class=\"layer-below\"><g class=\"imagelayer\"/><g class=\"shapelayer\"/></g><g class=\"cartesianlayer\"><g class=\"subplot xy\"><g class=\"layer-subplot\"><g class=\"shapelayer\"/><g class=\"imagelayer\"/></g><g class=\"minor-gridlayer\"><g class=\"x\"/><g class=\"y\"/></g><g class=\"gridlayer\"><g class=\"x\"><path class=\"xgrid crisp\" transform=\"translate(121.89,0)\" d=\"M0,8v79\" style=\"stroke: rgb(224, 224, 224); stroke-opacity: 1; stroke-width: 1px;\"/><path class=\"xgrid crisp\" transform=\"translate(202.79,0)\" d=\"M0,8v79\" style=\"stroke: rgb(224, 224, 224); stroke-opacity: 1; stroke-width: 1px;\"/><path class=\"xgrid crisp\" transform=\"translate(283.68,0)\" d=\"M0,8v79\" style=\"stroke: rgb(224, 224, 224); stroke-opacity: 1; stroke-width: 1px;\"/><path class=\"xgrid crisp\" transform=\"translate(364.57,0)\" d=\"M0,8v79\" style=\"stroke: rgb(224, 224, 224); stroke-opacity: 1; stroke-width: 1px;\"/><path class=\"xgrid crisp\" transform=\"translate(445.46,0)\" d=\"M0,8v79\" style=\"stroke: rgb(224, 224, 224); stroke-opacity: 1; stroke-width: 1px;\"/></g><g class=\"y\"><path class=\"ygrid crisp\" transform=\"translate(0,83.05)\" d=\"M41,0h453\" style=\"stroke: rgb(224, 224, 224); stroke-opacity: 1; stroke-width: 1px;\"/><path class=\"ygrid crisp\" transform=\"translate(0,58.8)\" d=\"M41,0h453\" style=\"stroke: rgb(224, 224, 224); stroke-opacity: 1; stroke-width: 1px;\"/><path class=\"ygrid crisp\" transform=\"translate(0,34.55)\" d=\"M41,0h453\" style=\"stroke: rgb(224, 224, 224); stroke-opacity: 1; stroke-width: 1px;\"/><path class=\"ygrid crisp\" transform=\"translate(0,10.3)\" d=\"M41,0h453\" style=\"stroke: rgb(224, 224, 224); stroke-opacity: 1; stroke-width: 1px;\"/></g></g><g class=\"zerolinelayer\"/><path class=\"xlines-below\"/><path class=\"ylines-below\"/><g class=\"overlines-below\"/><g class=\"xaxislayer-below\"/><g class=\"yaxislayer-below\"/><g class=\"overaxes-below\"/><g class=\"plot\" transform=\"translate(41,8)\" clip-path=\"url(#clip54f11bxyplot)\"><g class=\"scatterlayer mlayer\"><g class=\"trace scatter trace653931\" style=\"stroke-miterlimit: 2; opacity: 1;\"><g class=\"fills\"/><g class=\"errorbars\"/><g class=\"lines\"><path class=\"js-line\" d=\"M0,60.45L1.62,53.15L2.43,53.15L2.83,48.88L4.45,45.85L5.26,45.85L5.66,43.5L6.47,43.5L7.28,41.58L8.09,41.58L8.9,39.96L9.71,39.96L10.11,38.55L11.33,38.55L11.73,37.31L12.94,37.31L13.35,36.2L17.8,33.44L18.2,33.44L20.63,31.93L21.44,31.93L23.05,31.25L24.67,31.25L27.1,30.61L27.91,30.01L30.33,29.44L31.14,28.9L33.98,28.39L34.38,27.9L37.21,27.43L37.62,26.98L40.85,26.55L41.26,26.14L42.87,25.74L44.49,25.36L66.74,20.84L67.14,20.84L72.4,20.13L73.21,19.9L79.68,19.25L80.89,19.04L86.96,18.44L88.17,18.25L96.67,17.51L97.48,17.33L105.97,16.65L107.18,16.49L114.06,15.86L115.27,15.71L124.58,14.98L125.38,14.84L134.69,14.17L135.5,14.04L145.61,13.3L147.23,13.18L209.51,9.29L211.13,9.21L227.31,8.5L227.71,8.43L246.32,7.7L247.13,7.63L268.97,6.89L269.78,6.82L290,6.07L291.62,6.01L351.88,3.97L375.75,3.96L453,3.95\" style=\"vector-effect: none; fill: none; stroke: rgb(17, 165, 121); stroke-opacity: 1; stroke-width: 2px; opacity: 1;\"/></g><g class=\"points\"/><g class=\"text\"/></g><g class=\"trace scatter trace1da7a2\" style=\"stroke-miterlimit: 2; opacity: 1;\"><g class=\"fills\"/><g class=\"errorbars\"/><g class=\"lines\"><path class=\"js-line\" d=\"M0,75.05L1.21,75.05L1.62,60.45L2.43,56.18L2.83,60.45L4.45,58.1L4.85,60.45L5.66,60.45L6.07,58.1L6.47,60.45L7.28,60.45L7.68,58.1L8.09,60.45L8.9,60.45L9.3,56.18L10.11,60.45L10.92,54.56L11.73,60.45L12.94,60.45L13.35,60.45L14.56,58.1L14.97,60.45L16.18,58.1L16.58,60.45L17.8,56.18L18.2,60.45L19.01,60.45L19.41,54.56L19.82,60.45L23.05,60.45L24.67,58.1L25.08,63.48L26.29,63.48L26.69,58.1L27.1,60.45L27.91,60.45L52.18,60.45L52.98,63.48L54.6,63.48L55.01,58.1L55.41,60.45L56.63,56.18L57.43,60.45L58.24,54.56L58.65,60.45L60.27,58.1L60.67,60.45L61.88,56.18L62.29,60.45L63.5,54.56L63.91,60.45L65.12,60.45L66.74,60.45L67.14,58.1L67.55,60.45L68.35,60.45L68.76,56.18L69.16,60.45L69.97,60.45L70.38,54.56L70.78,60.45L71.59,60.45L73.21,60.45L74.02,58.1L74.83,60.45L75.63,56.18L76.04,60.45L76.85,60.45L78.87,60.45L79.28,58.1L79.68,60.45L80.89,56.18L81.3,63.48L82.51,63.48L83.32,60.45L84.53,60.45L92.22,60.45L92.62,58.1L93.03,60.45L93.84,60.45L97.48,60.45L98.28,54.56L98.69,60.45L99.5,60.45L110.42,60.45L111.63,58.1L112.04,63.48L113.65,56.18L114.06,60.45L115.27,54.56L115.68,60.45L116.89,60.45L118.51,60.45L118.91,58.1L119.32,60.45L120.13,60.45L120.53,56.18L120.93,60.45L121.74,60.45L122.15,54.56L122.55,60.45L123.77,60.45L124.17,58.1L124.58,60.45L125.38,60.45L125.79,56.18L126.19,60.45L127,60.45L127.41,54.56L127.81,60.45L130.24,60.45L131.05,56.18L131.86,60.45L132.66,56.18L133.47,60.45L134.69,60.45L135.5,60.45L136.3,58.1L137.11,60.45L137.92,56.18L138.73,60.45L139.54,54.56L140.35,63.48L141.97,60.45L148.84,60.45L150.46,58.1L165.43,58.1L165.83,56.18L166.23,58.1L167.04,58.1L167.85,60.45L168.66,60.45L169.07,60.45L169.47,54.56L169.88,58.1L170.68,58.1L171.09,54.56L171.49,58.1L172.3,58.1L172.71,53.15L173.11,58.1L173.92,58.1L175.54,58.1L176.35,56.18L177.16,58.1L177.96,54.56L178.77,58.1L179.58,53.15L180.39,58.1L181.6,58.1L182.01,58.1L183.22,56.18L183.63,58.1L184.84,54.56L185.24,58.1L186.46,53.15L186.86,58.1L188.08,58.1L189.69,58.1L190.1,56.18L190.5,58.1L191.72,56.18L192.12,58.1L193.33,54.56L194.14,58.1L194.95,53.15L195.76,60.45L197.38,58.1L214.77,58.1L216.39,54.56L216.79,58.1L218.01,58.1L221.24,58.1L221.65,56.18L222.05,58.1L222.86,58.1L223.67,60.45L224.48,60.45L225.29,53.15L225.69,58.1L227.71,58.1L228.93,56.18L229.74,58.1L230.54,54.56L231.35,58.1L232.16,53.15L232.97,58.1L234.18,58.1L234.59,58.1L235.8,56.18L236.21,58.1L237.42,54.56L237.83,58.1L239.04,53.15L239.44,58.1L241.06,58.1L242.68,56.18L243.08,58.1L243.49,58.1L244.3,54.56L244.7,58.1L245.51,58.1L245.91,53.15L246.32,58.1L249.15,58.1L249.55,54.56L249.96,58.1L250.77,58.1L251.17,54.56L251.58,60.45L252.79,60.45L253.6,58.1L281.51,58.1L281.91,53.15L283.13,63.48L284.74,63.48L293.24,63.48L293.64,67.75L310.22,67.75L310.2207865772039,1659L310.63,1659\" style=\"vector-effect: none; fill: none; stroke: rgb(127, 60, 141); stroke-opacity: 1; stroke-width: 2px; opacity: 1;\"/></g><g class=\"points\"/><g class=\"text\"/></g></g></g><g class=\"overplot\"/><path class=\"xlines-above crisp\" d=\"M40,87.5H495M40,7.5H495\" style=\"fill: none; stroke-width: 1px; stroke: rgb(97, 97, 97); stroke-opacity: 1;\"/><path class=\"ylines-above crisp\" d=\"M40.5,8V87M494.5,8V87\" style=\"fill: none; stroke-width: 1px; stroke: rgb(97, 97, 97); stroke-opacity: 1;\"/><g class=\"overlines-above\"/><g class=\"xaxislayer-above\"><path class=\"xtick ticks crisp\" d=\"M0,88v5\" transform=\"translate(41,0)\" style=\"stroke: rgb(68, 68, 68); stroke-opacity: 1; stroke-width: 1px;\"/><path class=\"xtick ticks crisp\" d=\"M0,88v5\" transform=\"translate(121.89,0)\" style=\"stroke: rgb(68, 68, 68); stroke-opacity: 1; stroke-width: 1px;\"/><path class=\"xtick ticks crisp\" d=\"M0,88v5\" transform=\"translate(202.79,0)\" style=\"stroke: rgb(68, 68, 68); stroke-opacity: 1; stroke-width: 1px;\"/><path class=\"xtick ticks crisp\" d=\"M0,88v5\" transform=\"translate(283.68,0)\" style=\"stroke: rgb(68, 68, 68); stroke-opacity: 1; stroke-width: 1px;\"/><path class=\"xtick ticks crisp\" d=\"M0,88v5\" transform=\"translate(364.57,0)\" style=\"stroke: rgb(68, 68, 68); stroke-opacity: 1; stroke-width: 1px;\"/><path class=\"xtick ticks crisp\" d=\"M0,88v5\" transform=\"translate(445.46,0)\" style=\"stroke: rgb(68, 68, 68); stroke-opacity: 1; stroke-width: 1px;\"/><g class=\"xtick\"><text text-anchor=\"middle\" x=\"0\" y=\"105\" transform=\"translate(41,0)\" style=\"font-family: Arial; font-size: 10px; fill: rgb(36, 36, 36); fill-opacity: 1; white-space: pre; opacity: 1;\">0</text></g><g class=\"xtick\"><text text-anchor=\"middle\" x=\"0\" y=\"105\" style=\"font-family: Arial; font-size: 10px; fill: rgb(36, 36, 36); fill-opacity: 1; white-space: pre; opacity: 1;\" transform=\"translate(121.89,0)\">200</text></g><g class=\"xtick\"><text text-anchor=\"middle\" x=\"0\" y=\"105\" style=\"font-family: Arial; font-size: 10px; fill: rgb(36, 36, 36); fill-opacity: 1; white-space: pre; opacity: 1;\" transform=\"translate(202.79,0)\">400</text></g><g class=\"xtick\"><text text-anchor=\"middle\" x=\"0\" y=\"105\" style=\"font-family: Arial; font-size: 10px; fill: rgb(36, 36, 36); fill-opacity: 1; white-space: pre; opacity: 1;\" transform=\"translate(283.68,0)\">600</text></g><g class=\"xtick\"><text text-anchor=\"middle\" x=\"0\" y=\"105\" style=\"font-family: Arial; font-size: 10px; fill: rgb(36, 36, 36); fill-opacity: 1; white-space: pre; opacity: 1;\" transform=\"translate(364.57,0)\">800</text></g><g class=\"xtick\"><text text-anchor=\"middle\" x=\"0\" y=\"105\" style=\"font-family: Arial; font-size: 10px; fill: rgb(36, 36, 36); fill-opacity: 1; white-space: pre; opacity: 1;\" transform=\"translate(445.46,0)\">1000</text></g></g><g class=\"yaxislayer-above\"><path class=\"ytick ticks crisp\" d=\"M40,0h-5\" transform=\"translate(0,83.05)\" style=\"stroke: rgb(68, 68, 68); stroke-opacity: 1; stroke-width: 1px;\"/><path class=\"ytick ticks crisp\" d=\"M40,0h-5\" transform=\"translate(0,58.8)\" style=\"stroke: rgb(68, 68, 68); stroke-opacity: 1; stroke-width: 1px;\"/><path class=\"ytick ticks crisp\" d=\"M40,0h-5\" transform=\"translate(0,34.55)\" style=\"stroke: rgb(68, 68, 68); stroke-opacity: 1; stroke-width: 1px;\"/><path class=\"ytick ticks crisp\" d=\"M40,0h-5\" transform=\"translate(0,10.3)\" style=\"stroke: rgb(68, 68, 68); stroke-opacity: 1; stroke-width: 1px;\"/><g class=\"ytick\"><text text-anchor=\"end\" x=\"33\" y=\"3.5\" transform=\"translate(0,83.05)\" style=\"font-family: Arial; font-size: 10px; fill: rgb(36, 36, 36); fill-opacity: 1; white-space: pre; opacity: 1;\">10​<tspan style=\"font-size:70%\" dy=\"-0.6em\">0</tspan><tspan dy=\"0.42em\">​</tspan></text></g><g class=\"ytick\"><text text-anchor=\"end\" x=\"33\" y=\"3.5\" style=\"font-family: Arial; font-size: 10px; fill: rgb(36, 36, 36); fill-opacity: 1; white-space: pre; opacity: 1;\" transform=\"translate(0,58.8)\">10​<tspan style=\"font-size:70%\" dy=\"-0.6em\">1</tspan><tspan dy=\"0.42em\">​</tspan></text></g><g class=\"ytick\"><text text-anchor=\"end\" x=\"33\" y=\"3.5\" style=\"font-family: Arial; font-size: 10px; fill: rgb(36, 36, 36); fill-opacity: 1; white-space: pre; opacity: 1;\" transform=\"translate(0,34.55)\">10​<tspan style=\"font-size:70%\" dy=\"-0.6em\">2</tspan><tspan dy=\"0.42em\">​</tspan></text></g><g class=\"ytick\"><text text-anchor=\"end\" x=\"33\" y=\"3.5\" style=\"font-family: Arial; font-size: 10px; fill: rgb(36, 36, 36); fill-opacity: 1; white-space: pre; opacity: 1;\" transform=\"translate(0,10.3)\">10​<tspan style=\"font-size:70%\" dy=\"-0.6em\">3</tspan><tspan dy=\"0.42em\">​</tspan></text></g></g><g class=\"overaxes-above\"/></g></g><g class=\"polarlayer\"/><g class=\"smithlayer\"/><g class=\"ternarylayer\"/><g class=\"geolayer\"/><g class=\"funnelarealayer\"/><g class=\"pielayer\"/><g class=\"iciclelayer\"/><g class=\"treemaplayer\"/><g class=\"sunburstlayer\"/><g class=\"glimages\"/><defs id=\"topdefs-54f11b\"><g class=\"clips\"/><clipPath id=\"legend54f11b\"><rect width=\"103\" height=\"48\" x=\"1\" y=\"1\"/></clipPath></defs><g class=\"layer-above\"><g class=\"imagelayer\"/><g class=\"shapelayer\"/></g><g class=\"infolayer\"><g class=\"legend\" pointer-events=\"all\" transform=\"translate(386.735,21.200000000000003)\"><rect class=\"bg\" shape-rendering=\"crispEdges\" style=\"stroke: rgb(224, 224, 224); stroke-opacity: 1; fill: rgb(255, 255, 255); fill-opacity: 1; stroke-width: 1px;\" width=\"104\" height=\"49\" x=\"0.5\" y=\"0.5\"/><g class=\"scrollbox\" transform=\"\" clip-path=\"url(#legend54f11b)\"><g class=\"groups\" transform=\"\"><g class=\"traces\" transform=\"translate(1,15.5)\" style=\"opacity: 1;\"><text class=\"legendtext\" text-anchor=\"start\" x=\"40\" y=\"4.680000000000001\" style=\"font-family: Arial; font-size: 12px; fill: rgb(36, 36, 36); fill-opacity: 1; white-space: pre;\">Baseline</text><g class=\"layers\" style=\"opacity: 1;\"><g class=\"legendfill\"/><g class=\"legendlines\"><path class=\"js-line\" d=\"M5,0h30\" style=\"fill: none; stroke: rgb(17, 165, 121); stroke-opacity: 1; stroke-width: 2px;\"/></g><g class=\"legendsymbols\"><g class=\"legendpoints\"/></g></g><rect class=\"legendtoggle\" x=\"0\" y=\"-9.5\" width=\"97.6875\" height=\"19\" style=\"fill: rgb(0, 0, 0); fill-opacity: 0;\"/></g></g><g class=\"groups\" transform=\"\"><g class=\"traces\" transform=\"translate(1,34.5)\" style=\"opacity: 1;\"><text class=\"legendtext\" text-anchor=\"start\" x=\"40\" y=\"4.680000000000001\" style=\"font-family: Arial; font-size: 12px; fill: rgb(36, 36, 36); fill-opacity: 1; white-space: pre;\">Ownership</text><g class=\"layers\" style=\"opacity: 1;\"><g class=\"legendfill\"/><g class=\"legendlines\"><path class=\"js-line\" d=\"M5,0h30\" style=\"fill: none; stroke: rgb(127, 60, 141); stroke-opacity: 1; stroke-width: 2px;\"/></g><g class=\"legendsymbols\"><g class=\"legendpoints\"/></g></g><rect class=\"legendtoggle\" x=\"0\" y=\"-9.5\" width=\"97.6875\" height=\"19\" style=\"fill: rgb(0, 0, 0); fill-opacity: 0;\"/></g></g></g><rect class=\"scrollbar\" rx=\"20\" ry=\"3\" width=\"0\" height=\"0\" style=\"fill: rgb(128, 139, 164); fill-opacity: 1;\" x=\"0\" y=\"0\"/></g><g class=\"g-gtitle\"/><g class=\"g-xtitle\"><text class=\"xtitle\" x=\"267.5\" y=\"119.9\" text-anchor=\"middle\" style=\"font-family: Arial; font-size: 12px; fill: rgb(36, 36, 36); opacity: 1; font-weight: normal; white-space: pre;\">Runtime (s)</text></g><g class=\"g-ytitle\" transform=\"translate(5.931640625,0)\"><text class=\"ytitle\" transform=\"rotate(-90,5.068750000000001,47.5)\" x=\"5.068750000000001\" y=\"47.5\" text-anchor=\"middle\" style=\"font-family: Arial; font-size: 12px; fill: rgb(36, 36, 36); opacity: 1; font-weight: normal; white-space: pre;\">Active Proxies</text></g></g></svg>"
      ]
     },
     "metadata": {},
     "output_type": "display_data"
    }
   ],
   "source": [
    "files = {\n",
    "    'Baseline': '../data/polaris/5-mof-generation/proxystore-baseline-single-node.log',\n",
    "    'Ownership': '../data/polaris/5-mof-generation/proxystore-ownership-single-node.log',\n",
    "}\n",
    "data = process(files)\n",
    "\n",
    "layout = dict(width=500, height=125, margin=dict(l=5, r=5, t=5, b=5))\n",
    "\n",
    "fig = generate_figure(data, layout)\n",
    "fig.show(renderer='svg')"
   ]
  },
  {
   "cell_type": "markdown",
   "id": "16c84a5f-cdd5-494c-827e-3c570c3bd4d4",
   "metadata": {},
   "source": [
    "## 10 Node Polaris"
   ]
  },
  {
   "cell_type": "code",
   "execution_count": 34,
   "id": "49720fe0-404b-4a46-a164-f108b8815d63",
   "metadata": {},
   "outputs": [
    {
     "data": {
      "image/svg+xml": [
       "<svg class=\"main-svg\" xmlns=\"http://www.w3.org/2000/svg\" xmlns:xlink=\"http://www.w3.org/1999/xlink\" width=\"500\" height=\"125\" style=\"\" viewBox=\"0 0 500 125\"><rect x=\"0\" y=\"0\" width=\"500\" height=\"125\" style=\"fill: rgb(255, 255, 255); fill-opacity: 1;\"/><defs id=\"defs-4e4f1c\"><g class=\"clips\"><clipPath id=\"clip4e4f1cxyplot\" class=\"plotclip\"><rect width=\"449\" height=\"81\"/></clipPath><clipPath class=\"axesclip\" id=\"clip4e4f1cx\"><rect x=\"41\" y=\"0\" width=\"449\" height=\"125\"/></clipPath><clipPath class=\"axesclip\" id=\"clip4e4f1cy\"><rect x=\"0\" y=\"6\" width=\"500\" height=\"81\"/></clipPath><clipPath class=\"axesclip\" id=\"clip4e4f1cxy\"><rect x=\"41\" y=\"6\" width=\"449\" height=\"81\"/></clipPath></g><g class=\"gradients\"/><g class=\"patterns\"/></defs><g class=\"bglayer\"/><g class=\"layer-below\"><g class=\"imagelayer\"/><g class=\"shapelayer\"/></g><g class=\"cartesianlayer\"><g class=\"subplot xy\"><g class=\"layer-subplot\"><g class=\"shapelayer\"/><g class=\"imagelayer\"/></g><g class=\"minor-gridlayer\"><g class=\"x\"/><g class=\"y\"/></g><g class=\"gridlayer\"><g class=\"x\"><path class=\"xgrid crisp\" transform=\"translate(114.86,0)\" d=\"M0,6v81\" style=\"stroke: rgb(224, 224, 224); stroke-opacity: 1; stroke-width: 1px;\"/><path class=\"xgrid crisp\" transform=\"translate(188.71,0)\" d=\"M0,6v81\" style=\"stroke: rgb(224, 224, 224); stroke-opacity: 1; stroke-width: 1px;\"/><path class=\"xgrid crisp\" transform=\"translate(262.57,0)\" d=\"M0,6v81\" style=\"stroke: rgb(224, 224, 224); stroke-opacity: 1; stroke-width: 1px;\"/><path class=\"xgrid crisp\" transform=\"translate(336.42,0)\" d=\"M0,6v81\" style=\"stroke: rgb(224, 224, 224); stroke-opacity: 1; stroke-width: 1px;\"/><path class=\"xgrid crisp\" transform=\"translate(410.28,0)\" d=\"M0,6v81\" style=\"stroke: rgb(224, 224, 224); stroke-opacity: 1; stroke-width: 1px;\"/><path class=\"xgrid crisp\" transform=\"translate(484.13,0)\" d=\"M0,6v81\" style=\"stroke: rgb(224, 224, 224); stroke-opacity: 1; stroke-width: 1px;\"/></g><g class=\"y\"><path class=\"ygrid crisp\" transform=\"translate(0,82.95)\" d=\"M41,0h449\" style=\"stroke: rgb(224, 224, 224); stroke-opacity: 1; stroke-width: 1px;\"/><path class=\"ygrid crisp\" transform=\"translate(0,59.24)\" d=\"M41,0h449\" style=\"stroke: rgb(224, 224, 224); stroke-opacity: 1; stroke-width: 1px;\"/><path class=\"ygrid crisp\" transform=\"translate(0,35.519999999999996)\" d=\"M41,0h449\" style=\"stroke: rgb(224, 224, 224); stroke-opacity: 1; stroke-width: 1px;\"/><path class=\"ygrid crisp\" transform=\"translate(0,11.809999999999999)\" d=\"M41,0h449\" style=\"stroke: rgb(224, 224, 224); stroke-opacity: 1; stroke-width: 1px;\"/></g></g><g class=\"zerolinelayer\"/><path class=\"xlines-below\"/><path class=\"ylines-below\"/><g class=\"overlines-below\"/><g class=\"xaxislayer-below\"/><g class=\"yaxislayer-below\"/><g class=\"overaxes-below\"/><g class=\"plot\" transform=\"translate(41,6)\" clip-path=\"url(#clip4e4f1cxyplot)\"/><g class=\"overplot\"/><path class=\"xlines-above crisp\" d=\"M40,87.5H491M40,5.5H491\" style=\"fill: none; stroke-width: 1px; stroke: rgb(97, 97, 97); stroke-opacity: 1;\"/><path class=\"ylines-above crisp\" d=\"M40.5,6V87M490.5,6V87\" style=\"fill: none; stroke-width: 1px; stroke: rgb(97, 97, 97); stroke-opacity: 1;\"/><g class=\"overlines-above\"/><g class=\"xaxislayer-above\"><path class=\"xtick ticks crisp\" d=\"M0,88v5\" transform=\"translate(41,0)\" style=\"stroke: rgb(68, 68, 68); stroke-opacity: 1; stroke-width: 1px;\"/><path class=\"xtick ticks crisp\" d=\"M0,88v5\" transform=\"translate(114.86,0)\" style=\"stroke: rgb(68, 68, 68); stroke-opacity: 1; stroke-width: 1px;\"/><path class=\"xtick ticks crisp\" d=\"M0,88v5\" transform=\"translate(188.71,0)\" style=\"stroke: rgb(68, 68, 68); stroke-opacity: 1; stroke-width: 1px;\"/><path class=\"xtick ticks crisp\" d=\"M0,88v5\" transform=\"translate(262.57,0)\" style=\"stroke: rgb(68, 68, 68); stroke-opacity: 1; stroke-width: 1px;\"/><path class=\"xtick ticks crisp\" d=\"M0,88v5\" transform=\"translate(336.42,0)\" style=\"stroke: rgb(68, 68, 68); stroke-opacity: 1; stroke-width: 1px;\"/><path class=\"xtick ticks crisp\" d=\"M0,88v5\" transform=\"translate(410.28,0)\" style=\"stroke: rgb(68, 68, 68); stroke-opacity: 1; stroke-width: 1px;\"/><path class=\"xtick ticks crisp\" d=\"M0,88v5\" transform=\"translate(484.13,0)\" style=\"stroke: rgb(68, 68, 68); stroke-opacity: 1; stroke-width: 1px;\"/><g class=\"xtick\"><text text-anchor=\"middle\" x=\"0\" y=\"105\" transform=\"translate(41,0)\" style=\"font-family: Arial; font-size: 10px; fill: rgb(36, 36, 36); fill-opacity: 1; white-space: pre; opacity: 1;\">0</text></g><g class=\"xtick\"><text text-anchor=\"middle\" x=\"0\" y=\"105\" style=\"font-family: Arial; font-size: 10px; fill: rgb(36, 36, 36); fill-opacity: 1; white-space: pre; opacity: 1;\" transform=\"translate(114.86,0)\">200</text></g><g class=\"xtick\"><text text-anchor=\"middle\" x=\"0\" y=\"105\" style=\"font-family: Arial; font-size: 10px; fill: rgb(36, 36, 36); fill-opacity: 1; white-space: pre; opacity: 1;\" transform=\"translate(188.71,0)\">400</text></g><g class=\"xtick\"><text text-anchor=\"middle\" x=\"0\" y=\"105\" style=\"font-family: Arial; font-size: 10px; fill: rgb(36, 36, 36); fill-opacity: 1; white-space: pre; opacity: 1;\" transform=\"translate(262.57,0)\">600</text></g><g class=\"xtick\"><text text-anchor=\"middle\" x=\"0\" y=\"105\" style=\"font-family: Arial; font-size: 10px; fill: rgb(36, 36, 36); fill-opacity: 1; white-space: pre; opacity: 1;\" transform=\"translate(336.42,0)\">800</text></g><g class=\"xtick\"><text text-anchor=\"middle\" x=\"0\" y=\"105\" style=\"font-family: Arial; font-size: 10px; fill: rgb(36, 36, 36); fill-opacity: 1; white-space: pre; opacity: 1;\" transform=\"translate(410.28,0)\">1000</text></g><g class=\"xtick\"><text text-anchor=\"middle\" x=\"0\" y=\"105\" style=\"font-family: Arial; font-size: 10px; fill: rgb(36, 36, 36); fill-opacity: 1; white-space: pre; opacity: 1;\" transform=\"translate(484.13,0)\">1200</text></g></g><g class=\"yaxislayer-above\"><path class=\"ytick ticks crisp\" d=\"M40,0h-5\" transform=\"translate(0,82.95)\" style=\"stroke: rgb(68, 68, 68); stroke-opacity: 1; stroke-width: 1px;\"/><path class=\"ytick ticks crisp\" d=\"M40,0h-5\" transform=\"translate(0,59.24)\" style=\"stroke: rgb(68, 68, 68); stroke-opacity: 1; stroke-width: 1px;\"/><path class=\"ytick ticks crisp\" d=\"M40,0h-5\" transform=\"translate(0,35.519999999999996)\" style=\"stroke: rgb(68, 68, 68); stroke-opacity: 1; stroke-width: 1px;\"/><path class=\"ytick ticks crisp\" d=\"M40,0h-5\" transform=\"translate(0,11.809999999999999)\" style=\"stroke: rgb(68, 68, 68); stroke-opacity: 1; stroke-width: 1px;\"/><g class=\"ytick\"><text text-anchor=\"end\" x=\"33\" y=\"3.5\" transform=\"translate(0,82.95)\" style=\"font-family: Arial; font-size: 10px; fill: rgb(36, 36, 36); fill-opacity: 1; white-space: pre; opacity: 1;\">10​<tspan style=\"font-size:70%\" dy=\"-0.6em\">0</tspan><tspan dy=\"0.42em\">​</tspan></text></g><g class=\"ytick\"><text text-anchor=\"end\" x=\"33\" y=\"3.5\" style=\"font-family: Arial; font-size: 10px; fill: rgb(36, 36, 36); fill-opacity: 1; white-space: pre; opacity: 1;\" transform=\"translate(0,59.24)\">10​<tspan style=\"font-size:70%\" dy=\"-0.6em\">1</tspan><tspan dy=\"0.42em\">​</tspan></text></g><g class=\"ytick\"><text text-anchor=\"end\" x=\"33\" y=\"3.5\" style=\"font-family: Arial; font-size: 10px; fill: rgb(36, 36, 36); fill-opacity: 1; white-space: pre; opacity: 1;\" transform=\"translate(0,35.519999999999996)\">10​<tspan style=\"font-size:70%\" dy=\"-0.6em\">2</tspan><tspan dy=\"0.42em\">​</tspan></text></g><g class=\"ytick\"><text text-anchor=\"end\" x=\"33\" y=\"3.5\" style=\"font-family: Arial; font-size: 10px; fill: rgb(36, 36, 36); fill-opacity: 1; white-space: pre; opacity: 1;\" transform=\"translate(0,11.809999999999999)\">10​<tspan style=\"font-size:70%\" dy=\"-0.6em\">3</tspan><tspan dy=\"0.42em\">​</tspan></text></g></g><g class=\"overaxes-above\"/></g></g><g class=\"polarlayer\"/><g class=\"smithlayer\"/><g class=\"ternarylayer\"/><g class=\"geolayer\"/><g class=\"funnelarealayer\"/><g class=\"pielayer\"/><g class=\"iciclelayer\"/><g class=\"treemaplayer\"/><g class=\"sunburstlayer\"/><g class=\"glimages\"><image xmlns=\"http://www.w3.org/2000/svg\" xlink:href=\"data:image/png;base64,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\" preserveAspectRatio=\"none\" x=\"0\" y=\"0\" width=\"500px\" height=\"125px\"/><image xmlns=\"http://www.w3.org/2000/svg\" xlink:href=\"data:image/png;base64,iVBORw0KGgoAAAANSUhEUgAAA+gAAAD6CAYAAAAyVW3pAAATc0lEQVR4Xu3XMREAAAgDMfBvGhn8EBT0UpbuOAIECBAgQIAAAQIECBAgQOBdYN8TCECAAAECBAgQIECAAAECBAiMge4JCBAgQIAAAQIECBAgQIBAQMBAD5QgAgECBAgQIECAAAECBAgQMND9AAECBAgQIECAAAECBAgQCAgY6IESRCBAgAABAgQIECBAgAABAga6HyBAgAABAgQIECBAgAABAgEBAz1QgggECBAgQIAAAQIECBAgQMBA9wMECBAgQIAAAQIECBAgQCAgYKAHShCBAAECBAgQIECAAAECBAgY6H6AAAECBAgQIECAAAECBAgEBAz0QAkiECBAgAABAgQIECBAgAABA90PECBAgAABAgQIECBAgACBgICBHihBBAIECBAgQIAAAQIECBAgYKD7AQIECBAgQIAAAQIECBAgEBAw0AMliECAAAECBAgQIECAAAECBAx0P0CAAAECBAgQIECAAAECBAICBnqgBBEIECBAgAABAgQIECBAgICB7gcIECBAgAABAgQIECBAgEBAwEAPlCACAQIECBAgQIAAAQIECBAw0P0AAQIECBAgQIAAAQIECBAICBjogRJEIECAAAECBAgQIECAAAECBrofIECAAAECBAgQIECAAAECAQEDPVCCCAQIECBAgAABAgQIECBAwED3AwQIECBAgAABAgQIECBAICBgoAdKEIEAAQIECBAgQIAAAQIECBjofoAAAQIECBAgQIAAAQIECAQEDPRACSIQIECAAAECBAgQIECAAAED3Q8QIECAAAECBAgQIECAAIGAgIEeKEEEAgQIECBAgAABAgQIECBgoPsBAgQIECBAgAABAgQIECAQEDDQAyWIQIAAAQIECBAgQIAAAQIEDHQ/QIAAAQIECBAgQIAAAQIEAgIGeqAEEQgQIECAAAECBAgQIECAgIHuBwgQIECAAAECBAgQIECAQEDAQA+UIAIBAgQIECBAgAABAgQIEDDQ/QABAgQIECBAgAABAgQIEAgIGOiBEkQgQIAAAQIECBAgQIAAAQIGuh8gQIAAAQIECBAgQIAAAQIBAQM9UIIIBAgQIECAAAECBAgQIEDAQPcDBAgQIECAAAECBAgQIEAgIGCgB0oQgQABAgQIECBAgAABAgQIGOh+gAABAgQIECBAgAABAgQIBAQM9EAJIhAgQIAAAQIECBAgQIAAAQPdDxAgQIAAAQIECBAgQIAAgYCAgR4oQQQCBAgQIECAAAECBAgQIGCg+wECBAgQIECAAAECBAgQIBAQMNADJYhAgAABAgQIECBAgAABAgQMdD9AgAABAgQIECBAgAABAgQCAgZ6oAQRCBAgQIAAAQIECBAgQICAge4HCBAgQIAAAQIECBAgQIBAQMBAD5QgAgECBAgQIECAAAECBAgQMND9AAECBAgQIECAAAECBAgQCAgY6IESRCBAgAABAgQIECBAgAABAga6HyBAgAABAgQIECBAgAABAgEBAz1QgggECBAgQIAAAQIECBAgQMBA9wMECBAgQIAAAQIECBAgQCAgYKAHShCBAAECBAgQIECAAAECBAgY6H6AAAECBAgQIECAAAECBAgEBAz0QAkiECBAgAABAgQIECBAgAABA90PECBAgAABAgQIECBAgACBgICBHihBBAIECBAgQIAAAQIECBAgYKD7AQIECBAgQIAAAQIECBAgEBAw0AMliECAAAECBAgQIECAAAECBAx0P0CAAAECBAgQIECAAAECBAICBnqgBBEIECBAgAABAgQIECBAgICB7gcIECBAgAABAgQIECBAgEBAwEAPlCACAQIECBAgQIAAAQIECBAw0P0AAQIECBAgQIAAAQIECBAICBjogRJEIECAAAECBAgQIECAAAECBrofIECAAAECBAgQIECAAAECAQEDPVCCCAQIECBAgAABAgQIECBAwED3AwQIECBAgAABAgQIECBAICBgoAdKEIEAAQIECBAgQIAAAQIECBjofoAAAQIECBAgQIAAAQIECAQEDPRACSIQIECAAAECBAgQIECAAAED3Q8QIECAAAECBAgQIECAAIGAgIEeKEEEAgQIECBAgAABAgQIECBgoPsBAgQIECBAgAABAgQIECAQEDDQAyWIQIAAAQIECBAgQIAAAQIEDHQ/QIAAAQIECBAgQIAAAQIEAgIGeqAEEQgQIECAAAECBAgQIECAgIHuBwgQIECAAAECBAgQIECAQEDAQA+UIAIBAgQIECBAgAABAgQIEDDQ/QABAgQIECBAgAABAgQIEAgIGOiBEkQgQIAAAQIECBAgQIAAAQIGuh8gQIAAAQIECBAgQIAAAQIBAQM9UIIIBAgQIECAAAECBAgQIEDAQPcDBAgQIECAAAECBAgQIEAgIGCgB0oQgQABAgQIECBAgAABAgQIGOh+gAABAgQIECBAgAABAgQIBAQM9EAJIhAgQIAAAQIECBAgQIAAAQPdDxAgQIAAAQIECBAgQIAAgYCAgR4oQQQCBAgQIECAAAECBAgQIGCg+wECBAgQIECAAAECBAgQIBAQMNADJYhAgAABAgQIECBAgAABAgQMdD9AgAABAgQIECBAgAABAgQCAgZ6oAQRCBAgQIAAAQIECBAgQICAge4HCBAgQIAAAQIECBAgQIBAQMBAD5QgAgECBAgQIECAAAECBAgQMND9AAECBAgQIECAAAECBAgQCAgY6IESRCBAgAABAgQIECBAgAABAga6HyBAgAABAgQIECBAgAABAgEBAz1QgggECBAgQIAAAQIECBAgQMBA9wMECBAgQIAAAQIECBAgQCAgYKAHShCBAAECBAgQIECAAAECBAgY6H6AAAECBAgQIECAAAECBAgEBAz0QAkiECBAgAABAgQIECBAgAABA90PECBAgAABAgQIECBAgACBgICBHihBBAIECBAgQIAAAQIECBAgYKD7AQIECBAgQIAAAQIECBAgEBAw0AMliECAAAECBAgQIECAAAECBAx0P0CAAAECBAgQIECAAAECBAICBnqgBBEIECBAgAABAgQIECBAgICB7gcIECBAgAABAgQIECBAgEBAwEAPlCACAQIECBAgQIAAAQIECBAw0P0AAQIECBAgQIAAAQIECBAICBjogRJEIECAAAECBAgQIECAAAECBrofIECAAAECBAgQIECAAAECAQEDPVCCCAQIECBAgAABAgQIECBAwED3AwQIECBAgAABAgQIECBAICBgoAdKEIEAAQIECBAgQIAAAQIECBjofoAAAQIECBAgQIAAAQIECAQEDPRACSIQIECAAAECBAgQIECAAAED3Q8QIECAAAECBAgQIECAAIGAgIEeKEEEAgQIECBAgAABAgQIECBgoPsBAgQIECBAgAABAgQIECAQEDDQAyWIQIAAAQIECBAgQIAAAQIEDHQ/QIAAAQIECBAgQIAAAQIEAgIGeqAEEQgQIECAAAECBAgQIECAgIHuBwgQIECAAAECBAgQIECAQEDAQA+UIAIBAgQIECBAgAABAgQIEDDQ/QABAgQIECBAgAABAgQIEAgIGOiBEkQgQIAAAQIECBAgQIAAAQIGuh8gQIAAAQIECBAgQIAAAQIBAQM9UIIIBAgQIECAAAECBAgQIEDAQPcDBAgQIECAAAECBAgQIEAgIGCgB0oQgQABAgQIECBAgAABAgQIGOh+gAABAgQIECBAgAABAgQIBAQM9EAJIhAgQIAAAQIECBAgQIAAAQPdDxAgQIAAAQIECBAgQIAAgYCAgR4oQQQCBAgQIECAAAECBAgQIGCg+wECBAgQIECAAAECBAgQIBAQMNADJYhAgAABAgQIECBAgAABAgQMdD9AgAABAgQIECBAgAABAgQCAgZ6oAQRCBAgQIAAAQIECBAgQICAge4HCBAgQIAAAQIECBAgQIBAQMBAD5QgAgECBAgQIECAAAECBAgQMND9AAECBAgQIECAAAECBAgQCAgY6IESRCBAgAABAgQIECBAgAABAga6HyBAgAABAgQIECBAgAABAgEBAz1QgggECBAgQIAAAQIECBAgQMBA9wMECBAgQIAAAQIECBAgQCAgYKAHShCBAAECBAgQIECAAAECBAgY6H6AAAECBAgQIECAAAECBAgEBAz0QAkiECBAgAABAgQIECBAgAABA90PECBAgAABAgQIECBAgACBgICBHihBBAIECBAgQIAAAQIECBAgYKD7AQIECBAgQIAAAQIECBAgEBAw0AMliECAAAECBAgQIECAAAECBAx0P0CAAAECBAgQIECAAAECBAICBnqgBBEIECBAgAABAgQIECBAgICB7gcIECBAgAABAgQIECBAgEBAwEAPlCACAQIECBAgQIAAAQIECBAw0P0AAQIECBAgQIAAAQIECBAICBjogRJEIECAAAECBAgQIECAAAECBrofIECAAAECBAgQIECAAAECAQEDPVCCCAQIECBAgAABAgQIECBAwED3AwQIECBAgAABAgQIECBAICBgoAdKEIEAAQIECBAgQIAAAQIECBjofoAAAQIECBAgQIAAAQIECAQEDPRACSIQIECAAAECBAgQIECAAAED3Q8QIECAAAECBAgQIECAAIGAgIEeKEEEAgQIECBAgAABAgQIECBgoPsBAgQIECBAgAABAgQIECAQEDDQAyWIQIAAAQIECBAgQIAAAQIEDHQ/QIAAAQIECBAgQIAAAQIEAgIGeqAEEQgQIECAAAECBAgQIECAgIHuBwgQIECAAAECBAgQIECAQEDAQA+UIAIBAgQIECBAgAABAgQIEDDQ/QABAgQIECBAgAABAgQIEAgIGOiBEkQgQIAAAQIECBAgQIAAAQIGuh8gQIAAAQIECBAgQIAAAQIBAQM9UIIIBAgQIECAAAECBAgQIEDAQPcDBAgQIECAAAECBAgQIEAgIGCgB0oQgQABAgQIECBAgAABAgQIGOh+gAABAgQIECBAgAABAgQIBAQM9EAJIhAgQIAAAQIECBAgQIAAAQPdDxAgQIAAAQIECBAgQIAAgYCAgR4oQQQCBAgQIECAAAECBAgQIGCg+wECBAgQIECAAAECBAgQIBAQMNADJYhAgAABAgQIECBAgAABAgQMdD9AgAABAgQIECBAgAABAgQCAgZ6oAQRCBAgQIAAAQIECBAgQICAge4HCBAgQIAAAQIECBAgQIBAQMBAD5QgAgECBAgQIECAAAECBAgQMND9AAECBAgQIECAAAECBAgQCAgY6IESRCBAgAABAgQIECBAgAABAga6HyBAgAABAgQIECBAgAABAgEBAz1QgggECBAgQIAAAQIECBAgQMBA9wMECBAgQIAAAQIECBAgQCAgYKAHShCBAAECBAgQIECAAAECBAgY6H6AAAECBAgQIECAAAECBAgEBAz0QAkiECBAgAABAgQIECBAgAABA90PECBAgAABAgQIECBAgACBgICBHihBBAIECBAgQIAAAQIECBAgYKD7AQIECBAgQIAAAQIECBAgEBAw0AMliECAAAECBAgQIECAAAECBAx0P0CAAAECBAgQIECAAAECBAICBnqgBBEIECBAgAABAgQIECBAgICB7gcIECBAgAABAgQIECBAgEBAwEAPlCACAQIECBAgQIAAAQIECBAw0P0AAQIECBAgQIAAAQIECBAICBjogRJEIECAAAECBAgQIECAAAECBrofIECAAAECBAgQIECAAAECAQEDPVCCCAQIECBAgAABAgQIECBAwED3AwQIECBAgAABAgQIECBAICBgoAdKEIEAAQIECBAgQIAAAQIECBjofoAAAQIECBAgQIAAAQIECAQEDPRACSIQIECAAAECBAgQIECAAAED3Q8QIECAAAECBAgQIECAAIGAgIEeKEEEAgQIECBAgAABAgQIECBgoPsBAgQIECBAgAABAgQIECAQEDDQAyWIQIAAAQIECBAgQIAAAQIEDHQ/QIAAAQIECBAgQIAAAQIEAgIGeqAEEQgQIECAAAECBAgQIECAgIHuBwgQIECAAAECBAgQIECAQEDAQA+UIAIBAgQIECBAgAABAgQIEDDQ/QABAgQIECBAgAABAgQIEAgIGOiBEkQgQIAAAQIECBAgQIAAAQIGuh8gQIAAAQIECBAgQIAAAQIBAQM9UIIIBAgQIECAAAECBAgQIEDAQPcDBAgQIECAAAECBAgQIEAgIGCgB0oQgQABAgQIECBAgAABAgQIGOh+gAABAgQIECBAgAABAgQIBAQM9EAJIhAgQIAAAQIECBAgQIAAAQPdDxAgQIAAAQIECBAgQIAAgYCAgR4oQQQCBAgQIECAAAECBAgQIGCg+wECBAgQIECAAAECBAgQIBAQMNADJYhAgAABAgQIECBAgAABAgQMdD9AgAABAgQIECBAgAABAgQCAgZ6oAQRCBAgQIAAAQIECBAgQICAge4HCBAgQIAAAQIECBAgQIBAQMBAD5QgAgECBAgQIECAAAECBAgQMND9AAECBAgQIECAAAECBAgQCAgY6IESRCBAgAABAgQIECBAgAABAga6HyBAgAABAgQIECBAgAABAgEBAz1QgggECBAgQIAAAQIECBAgQMBA9wMECBAgQIAAAQIECBAgQCAgYKAHShCBAAECBAgQIECAAAECBAgcKU4A+3iXovYAAAAASUVORK5CYII=\" preserveAspectRatio=\"none\" x=\"0\" y=\"0\" width=\"500px\" height=\"125px\"/></g><defs id=\"topdefs-4e4f1c\"><g class=\"clips\"/><clipPath id=\"legend4e4f1c\"><rect width=\"103\" height=\"48\" x=\"1\" y=\"1\"/></clipPath></defs><g class=\"layer-above\"><g class=\"imagelayer\"/><g class=\"shapelayer\"/></g><g class=\"infolayer\"><g class=\"legend\" pointer-events=\"all\" transform=\"translate(382.755,20.799999999999997)\"><rect class=\"bg\" shape-rendering=\"crispEdges\" width=\"104\" height=\"49\" x=\"0.5\" y=\"0.5\" style=\"stroke: rgb(224, 224, 224); stroke-opacity: 1; fill: rgb(255, 255, 255); fill-opacity: 1; stroke-width: 1px;\"/><g class=\"scrollbox\" transform=\"\" clip-path=\"url(#legend4e4f1c)\"><g class=\"groups\" transform=\"\"><g class=\"traces\" transform=\"translate(1,15.5)\" style=\"opacity: 1;\"><text class=\"legendtext\" text-anchor=\"start\" x=\"40\" y=\"4.680000000000001\" style=\"font-family: Arial; font-size: 12px; fill: rgb(36, 36, 36); fill-opacity: 1; white-space: pre;\">Baseline</text><g class=\"layers\" style=\"opacity: 1;\"><g class=\"legendfill\"/><g class=\"legendlines\"><path class=\"js-line\" d=\"M5,0h30\" style=\"fill: none; stroke: rgb(17, 165, 121); stroke-opacity: 1; stroke-width: 2px;\"/></g><g class=\"legendsymbols\"><g class=\"legendpoints\"/></g></g><rect class=\"legendtoggle\" x=\"0\" y=\"-9.5\" width=\"97.6875\" height=\"19\" style=\"fill: rgb(0, 0, 0); fill-opacity: 0;\"/></g></g><g class=\"groups\" transform=\"\"><g class=\"traces\" transform=\"translate(1,34.5)\" style=\"opacity: 1;\"><text class=\"legendtext\" text-anchor=\"start\" x=\"40\" y=\"4.680000000000001\" style=\"font-family: Arial; font-size: 12px; fill: rgb(36, 36, 36); fill-opacity: 1; white-space: pre;\">Ownership</text><g class=\"layers\" style=\"opacity: 1;\"><g class=\"legendfill\"/><g class=\"legendlines\"><path class=\"js-line\" d=\"M5,0h30\" style=\"fill: none; stroke: rgb(127, 60, 141); stroke-opacity: 1; stroke-width: 2px;\"/></g><g class=\"legendsymbols\"><g class=\"legendpoints\"/></g></g><rect class=\"legendtoggle\" x=\"0\" y=\"-9.5\" width=\"97.6875\" height=\"19\" style=\"fill: rgb(0, 0, 0); fill-opacity: 0;\"/></g></g></g><rect class=\"scrollbar\" rx=\"20\" ry=\"3\" width=\"0\" height=\"0\" x=\"0\" y=\"0\" style=\"fill: rgb(128, 139, 164); fill-opacity: 1;\"/></g><g class=\"g-gtitle\"/><g class=\"g-xtitle\"><text class=\"xtitle\" x=\"265.5\" y=\"119.9\" text-anchor=\"middle\" style=\"font-family: Arial; font-size: 12px; fill: rgb(36, 36, 36); opacity: 1; font-weight: normal; white-space: pre;\">Runtime (s)</text></g><g class=\"g-ytitle\" transform=\"translate(5.931640625,0)\"><text class=\"ytitle\" transform=\"rotate(-90,5.068750000000001,46.5)\" x=\"5.068750000000001\" y=\"46.5\" text-anchor=\"middle\" style=\"font-family: Arial; font-size: 12px; fill: rgb(36, 36, 36); opacity: 1; font-weight: normal; white-space: pre;\">Active Proxies</text></g></g></svg>"
      ]
     },
     "metadata": {},
     "output_type": "display_data"
    }
   ],
   "source": [
    "files = {\n",
    "    'Baseline': '../data/polaris/5-mof-generation/proxystore-baseline-ten-node.log',\n",
    "    'Ownership': '../data/polaris/5-mof-generation/proxystore-ownership-ten-node.log',\n",
    "}\n",
    "data = process(files)\n",
    "\n",
    "layout = dict(width=500, height=125, margin=dict(l=5, r=5, t=5, b=5))\n",
    "\n",
    "fig = generate_figure(data, layout)\n",
    "fig.show(renderer='svg')\n",
    "\n",
    "figure_dir = pathlib.Path('../figures/polaris/')\n",
    "figure_dir.mkdir(exist_ok=True)\n",
    "fig.write_image(figure_dir / '5-mof-generation.pdf')"
   ]
  },
  {
   "cell_type": "code",
   "execution_count": null,
   "id": "ba29077a-dd50-4178-898a-05be3927688f",
   "metadata": {},
   "outputs": [],
   "source": []
  }
 ],
 "metadata": {
  "kernelspec": {
   "display_name": "Python 3 (ipykernel)",
   "language": "python",
   "name": "python3"
  },
  "language_info": {
   "codemirror_mode": {
    "name": "ipython",
    "version": 3
   },
   "file_extension": ".py",
   "mimetype": "text/x-python",
   "name": "python",
   "nbconvert_exporter": "python",
   "pygments_lexer": "ipython3",
   "version": "3.11.5"
  }
 },
 "nbformat": 4,
 "nbformat_minor": 5
}
