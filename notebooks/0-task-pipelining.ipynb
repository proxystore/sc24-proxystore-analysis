{
 "cells": [
  {
   "cell_type": "code",
   "execution_count": 38,
   "id": "3b371f9b-bdb4-4856-94c8-c6653ebe0211",
   "metadata": {},
   "outputs": [
    {
     "data": {
      "text/plain": [
       "<module 'theme' from '/home/jgpaul/workspace/sc24-proxystore-analysis/notebooks/theme.py'>"
      ]
     },
     "execution_count": 38,
     "metadata": {},
     "output_type": "execute_result"
    }
   ],
   "source": [
    "from __future__ import annotations\n",
    "\n",
    "import importlib\n",
    "import pathlib\n",
    "\n",
    "import plotly.express as px\n",
    "import plotly.figure_factory as ff\n",
    "import plotly.graph_objects as go\n",
    "import polars\n",
    "import theme\n",
    "from plotly.subplots import make_subplots\n",
    "\n",
    "importlib.reload(theme)"
   ]
  },
  {
   "cell_type": "code",
   "execution_count": 34,
   "id": "d89c3c66-db3c-4547-896d-782ac1f0734b",
   "metadata": {
    "scrolled": true
   },
   "outputs": [],
   "source": [
    "def load_data(directory):\n",
    "    data = polars.read_csv(pathlib.Path(directory) / 'results.csv')\n",
    "\n",
    "    data = data.with_columns(\n",
    "        (polars.col('workflow_makespan_ms') / 1000).alias(\n",
    "            'workflow_makespan_s',\n",
    "        ),\n",
    "    )\n",
    "    data = data.with_columns(\n",
    "        polars.when(polars.col('submission_method') == 'sequential')\n",
    "        .then(polars.col('task_sleep') * polars.col('task_chain_length'))\n",
    "        .otherwise(\n",
    "            (1 - polars.col('task_overhead_fraction'))\n",
    "            * polars.col('task_sleep')\n",
    "            * polars.col('task_chain_length'),\n",
    "        )\n",
    "        .alias('limit'),\n",
    "    )\n",
    "\n",
    "    return data"
   ]
  },
  {
   "cell_type": "code",
   "execution_count": 42,
   "id": "b9fa5625-69ed-4224-97e0-eef63c80faf5",
   "metadata": {},
   "outputs": [],
   "source": [
    "def create_trend_figure(data, layout=None):\n",
    "    fig = go.Figure()\n",
    "\n",
    "    colors = px.colors.qualitative.Bold[0:2]\n",
    "    markers = ('circle', 'diamond')\n",
    "\n",
    "    for i, deployment in enumerate(('Sequential', 'Pipelined')):\n",
    "        subdata = data.filter(\n",
    "            polars.col('submission_method') == deployment.lower(),\n",
    "        )\n",
    "\n",
    "        scatter_data = go.Scatter(\n",
    "            x=subdata['task_overhead_fraction'],\n",
    "            y=subdata['workflow_makespan_s'],\n",
    "            name=deployment,\n",
    "            line=dict(color=colors[i]),\n",
    "            mode='lines+markers',\n",
    "            marker=dict(symbol=markers[i], size=10),\n",
    "        )\n",
    "        scatter_limit = go.Scatter(\n",
    "            x=subdata['task_overhead_fraction'],\n",
    "            y=subdata['limit'],\n",
    "            name=f'{deployment} Limit',\n",
    "            line=dict(color=colors[i], dash='dash'),\n",
    "            mode='lines',\n",
    "        )\n",
    "\n",
    "        fig.add_trace(scatter_data)\n",
    "        fig.add_trace(scatter_limit)\n",
    "\n",
    "    layout = {} if layout is None else layout\n",
    "    fig.update_layout(\n",
    "        # title={'text': 'Task Pipelining with Futures'},\n",
    "        xaxis_title='Task Overhead Fraction',\n",
    "        yaxis_title='Makespan (s)',\n",
    "        yaxis={'tickformat': '.0f'},\n",
    "        legend=dict(yanchor='bottom', y=0.02, xanchor='left', x=0.01),\n",
    "        template='proxystore',\n",
    "        **layout,\n",
    "    )\n",
    "\n",
    "    return fig"
   ]
  },
  {
   "cell_type": "code",
   "execution_count": 43,
   "id": "b390e73b-457b-4c1e-a47d-e5efa4119daa",
   "metadata": {},
   "outputs": [],
   "source": [
    "def extract_timestamps(data, sections):\n",
    "    assert len(data) == 1\n",
    "\n",
    "    timestamps = data['task_timestamps'].item()\n",
    "    timestamps = timestamps.split(':')\n",
    "    timestamps = [sorted(float(x) for x in t.split('-')) for t in timestamps]\n",
    "    timestamps = sorted(timestamps, key=lambda x: x[0])\n",
    "\n",
    "    start_timestamp = timestamps[0][0]\n",
    "    timestamps = [[v - start_timestamp for v in t] for t in timestamps]\n",
    "\n",
    "    parts = []\n",
    "    for task_index, timestamp in enumerate(timestamps):\n",
    "        assert len(timestamp) == len(sections) + 1\n",
    "        for i, section in enumerate(sections):\n",
    "            start = timestamp[i]\n",
    "            end = timestamp[i + 1]\n",
    "            part = dict(\n",
    "                Task=task_index % 4,\n",
    "                Start=start,\n",
    "                Finish=end,\n",
    "                delta=end - start,\n",
    "                section=section,\n",
    "            )\n",
    "            parts.append(part)\n",
    "\n",
    "    return parts  # polars.DataFrame(parts)\n",
    "\n",
    "\n",
    "def create_timeline_figure(data, layout=None):\n",
    "    sections = (\n",
    "        'submit',\n",
    "        'overhead',\n",
    "        'resolve',\n",
    "        'compute',\n",
    "        'generate',\n",
    "        'receive',\n",
    "    )\n",
    "    sample_types = (\n",
    "        ('sequential', 0.1),\n",
    "        ('pipelined', 0.1),\n",
    "        ('pipelined', 0.5),\n",
    "    )\n",
    "\n",
    "    fig = make_subplots(\n",
    "        cols=1,\n",
    "        rows=len(sample_types),\n",
    "        vertical_spacing=0.04,\n",
    "        shared_xaxes=True,\n",
    "    )\n",
    "\n",
    "    max_x_range = 0\n",
    "    for row, (deployment, overhead) in enumerate(sample_types):\n",
    "        subsamples = data.filter(\n",
    "            polars.col('submission_method') == deployment,\n",
    "        ).filter(polars.col('task_overhead_fraction') == overhead)\n",
    "        subsample = subsamples.sample(1)\n",
    "        timestamps = list(reversed(extract_timestamps(subsample, sections)))\n",
    "\n",
    "        timeline_fig = ff.create_gantt(\n",
    "            timestamps,\n",
    "            index_col='section',\n",
    "            show_colorbar=False,\n",
    "            group_tasks=True,\n",
    "            bar_width=0.4,\n",
    "            colors=[px.colors.qualitative.Bold[i] for i in [1, 2, 0, 3, 4, 5]],\n",
    "        )\n",
    "\n",
    "        # Crazy hacks to add traces in right order for legend\n",
    "        traces = list(timeline_fig.data)\n",
    "        for section in sections:\n",
    "            for trace in traces:\n",
    "                if trace.name == section:\n",
    "                    fig.add_trace(trace, row=row + 1, col=1)\n",
    "                    traces.remove(trace)\n",
    "                    break\n",
    "        for trace in traces:\n",
    "            fig.add_trace(trace, row=row + 1, col=1)\n",
    "        fig.update_yaxes(\n",
    "            title_text=f'{deployment}<br>Overhead = {overhead}',\n",
    "            title_font=dict(size=11),\n",
    "            showticklabels=False,\n",
    "            ticks='',\n",
    "            row=row + 1,\n",
    "            col=1,\n",
    "        )\n",
    "        max_x_range = max(max_x_range, timestamps[0]['Finish'])\n",
    "        if row + 1 == len(sample_types):\n",
    "            fig.update_xaxes(\n",
    "                title_text='Runtime (s)',\n",
    "                range=[0, max_x_range],\n",
    "                row=row + 1,\n",
    "                col=1,\n",
    "            )\n",
    "\n",
    "    fig.update_traces(showlegend=True)\n",
    "    names = set()\n",
    "    fig.for_each_trace(\n",
    "        lambda trace: trace.update(showlegend=False)\n",
    "        if trace.name == '' or trace.name in names\n",
    "        else names.add(trace.name),\n",
    "    )\n",
    "\n",
    "    layout = {} if layout is None else layout\n",
    "    fig.update_layout(\n",
    "        # title={'text': 'Task Pipelining with Futures'},\n",
    "        legend=dict(\n",
    "            yanchor='bottom', y=0.02, xanchor='right', x=0.99, tracegroupgap=4,\n",
    "        ),\n",
    "        template='proxystore',\n",
    "        **layout,\n",
    "    )\n",
    "\n",
    "    return fig"
   ]
  },
  {
   "cell_type": "markdown",
   "id": "74a16ea7-c015-4a19-85af-621e5111ac7a",
   "metadata": {},
   "source": [
    "## Alderaan Testing Run"
   ]
  },
  {
   "cell_type": "code",
   "execution_count": 44,
   "id": "080f0ed3-2169-44b3-945b-e4ebed7cec10",
   "metadata": {},
   "outputs": [
    {
     "data": {
      "application/vnd.plotly.v1+json": {
       "config": {
        "plotlyServerURL": "https://plot.ly"
       },
       "data": [
        {
         "line": {
          "color": "rgb(127, 60, 141)"
         },
         "marker": {
          "size": 10,
          "symbol": "circle"
         },
         "mode": "lines+markers",
         "name": "Sequential",
         "type": "scatter",
         "x": [
          0.1,
          0.1,
          0.1,
          0.5,
          0.5,
          0.5
         ],
         "y": [
          8.076560784,
          8.07376902,
          8.071392616,
          8.075940308,
          8.074958057,
          8.075867268
         ]
        },
        {
         "line": {
          "color": "rgb(127, 60, 141)",
          "dash": "dash"
         },
         "mode": "lines",
         "name": "Sequential Limit",
         "type": "scatter",
         "x": [
          0.1,
          0.1,
          0.1,
          0.5,
          0.5,
          0.5
         ],
         "y": [
          8,
          8,
          8,
          8,
          8,
          8
         ]
        },
        {
         "line": {
          "color": "rgb(17, 165, 121)"
         },
         "marker": {
          "size": 10,
          "symbol": "diamond"
         },
         "mode": "lines+markers",
         "name": "Pipelined",
         "type": "scatter",
         "x": [
          0.1,
          0.1,
          0.1,
          0.5,
          0.5,
          0.5
         ],
         "y": [
          7.34993558,
          7.352126961,
          7.351057242,
          4.560590274,
          4.561161753,
          4.559304084000001
         ]
        },
        {
         "line": {
          "color": "rgb(17, 165, 121)",
          "dash": "dash"
         },
         "mode": "lines",
         "name": "Pipelined Limit",
         "type": "scatter",
         "x": [
          0.1,
          0.1,
          0.1,
          0.5,
          0.5,
          0.5
         ],
         "y": [
          7.2,
          7.2,
          7.2,
          4,
          4,
          4
         ]
        }
       ],
       "layout": {
        "height": 350,
        "legend": {
         "x": 0.01,
         "xanchor": "left",
         "y": 0.02,
         "yanchor": "bottom"
        },
        "template": {
         "data": {
          "bar": [
           {
            "error_x": {
             "color": "rgb(36,36,36)"
            },
            "error_y": {
             "color": "rgb(36,36,36)"
            },
            "marker": {
             "line": {
              "color": "white",
              "width": 0.5
             },
             "pattern": {
              "fillmode": "overlay",
              "size": 10,
              "solidity": 0.2
             }
            },
            "type": "bar"
           }
          ],
          "barpolar": [
           {
            "marker": {
             "line": {
              "color": "white",
              "width": 0.5
             },
             "pattern": {
              "fillmode": "overlay",
              "size": 10,
              "solidity": 0.2
             }
            },
            "type": "barpolar"
           }
          ],
          "carpet": [
           {
            "aaxis": {
             "endlinecolor": "rgb(36,36,36)",
             "gridcolor": "white",
             "linecolor": "white",
             "minorgridcolor": "white",
             "startlinecolor": "rgb(36,36,36)"
            },
            "baxis": {
             "endlinecolor": "rgb(36,36,36)",
             "gridcolor": "white",
             "linecolor": "white",
             "minorgridcolor": "white",
             "startlinecolor": "rgb(36,36,36)"
            },
            "type": "carpet"
           }
          ],
          "choropleth": [
           {
            "colorbar": {
             "outlinewidth": 1,
             "tickcolor": "rgb(36,36,36)",
             "ticks": "outside"
            },
            "type": "choropleth"
           }
          ],
          "contour": [
           {
            "colorbar": {
             "outlinewidth": 1,
             "tickcolor": "rgb(36,36,36)",
             "ticks": "outside"
            },
            "colorscale": [
             [
              0,
              "#440154"
             ],
             [
              0.1111111111111111,
              "#482878"
             ],
             [
              0.2222222222222222,
              "#3e4989"
             ],
             [
              0.3333333333333333,
              "#31688e"
             ],
             [
              0.4444444444444444,
              "#26828e"
             ],
             [
              0.5555555555555556,
              "#1f9e89"
             ],
             [
              0.6666666666666666,
              "#35b779"
             ],
             [
              0.7777777777777778,
              "#6ece58"
             ],
             [
              0.8888888888888888,
              "#b5de2b"
             ],
             [
              1,
              "#fde725"
             ]
            ],
            "type": "contour"
           }
          ],
          "contourcarpet": [
           {
            "colorbar": {
             "outlinewidth": 1,
             "tickcolor": "rgb(36,36,36)",
             "ticks": "outside"
            },
            "type": "contourcarpet"
           }
          ],
          "heatmap": [
           {
            "colorbar": {
             "outlinewidth": 1,
             "tickcolor": "rgb(36,36,36)",
             "ticks": "outside"
            },
            "colorscale": [
             [
              0,
              "#440154"
             ],
             [
              0.1111111111111111,
              "#482878"
             ],
             [
              0.2222222222222222,
              "#3e4989"
             ],
             [
              0.3333333333333333,
              "#31688e"
             ],
             [
              0.4444444444444444,
              "#26828e"
             ],
             [
              0.5555555555555556,
              "#1f9e89"
             ],
             [
              0.6666666666666666,
              "#35b779"
             ],
             [
              0.7777777777777778,
              "#6ece58"
             ],
             [
              0.8888888888888888,
              "#b5de2b"
             ],
             [
              1,
              "#fde725"
             ]
            ],
            "type": "heatmap"
           }
          ],
          "heatmapgl": [
           {
            "colorbar": {
             "outlinewidth": 1,
             "tickcolor": "rgb(36,36,36)",
             "ticks": "outside"
            },
            "colorscale": [
             [
              0,
              "#440154"
             ],
             [
              0.1111111111111111,
              "#482878"
             ],
             [
              0.2222222222222222,
              "#3e4989"
             ],
             [
              0.3333333333333333,
              "#31688e"
             ],
             [
              0.4444444444444444,
              "#26828e"
             ],
             [
              0.5555555555555556,
              "#1f9e89"
             ],
             [
              0.6666666666666666,
              "#35b779"
             ],
             [
              0.7777777777777778,
              "#6ece58"
             ],
             [
              0.8888888888888888,
              "#b5de2b"
             ],
             [
              1,
              "#fde725"
             ]
            ],
            "type": "heatmapgl"
           }
          ],
          "histogram": [
           {
            "marker": {
             "line": {
              "color": "white",
              "width": 0.6
             }
            },
            "type": "histogram"
           }
          ],
          "histogram2d": [
           {
            "colorbar": {
             "outlinewidth": 1,
             "tickcolor": "rgb(36,36,36)",
             "ticks": "outside"
            },
            "colorscale": [
             [
              0,
              "#440154"
             ],
             [
              0.1111111111111111,
              "#482878"
             ],
             [
              0.2222222222222222,
              "#3e4989"
             ],
             [
              0.3333333333333333,
              "#31688e"
             ],
             [
              0.4444444444444444,
              "#26828e"
             ],
             [
              0.5555555555555556,
              "#1f9e89"
             ],
             [
              0.6666666666666666,
              "#35b779"
             ],
             [
              0.7777777777777778,
              "#6ece58"
             ],
             [
              0.8888888888888888,
              "#b5de2b"
             ],
             [
              1,
              "#fde725"
             ]
            ],
            "type": "histogram2d"
           }
          ],
          "histogram2dcontour": [
           {
            "colorbar": {
             "outlinewidth": 1,
             "tickcolor": "rgb(36,36,36)",
             "ticks": "outside"
            },
            "colorscale": [
             [
              0,
              "#440154"
             ],
             [
              0.1111111111111111,
              "#482878"
             ],
             [
              0.2222222222222222,
              "#3e4989"
             ],
             [
              0.3333333333333333,
              "#31688e"
             ],
             [
              0.4444444444444444,
              "#26828e"
             ],
             [
              0.5555555555555556,
              "#1f9e89"
             ],
             [
              0.6666666666666666,
              "#35b779"
             ],
             [
              0.7777777777777778,
              "#6ece58"
             ],
             [
              0.8888888888888888,
              "#b5de2b"
             ],
             [
              1,
              "#fde725"
             ]
            ],
            "type": "histogram2dcontour"
           }
          ],
          "mesh3d": [
           {
            "colorbar": {
             "outlinewidth": 1,
             "tickcolor": "rgb(36,36,36)",
             "ticks": "outside"
            },
            "type": "mesh3d"
           }
          ],
          "parcoords": [
           {
            "line": {
             "colorbar": {
              "outlinewidth": 1,
              "tickcolor": "rgb(36,36,36)",
              "ticks": "outside"
             }
            },
            "type": "parcoords"
           }
          ],
          "pie": [
           {
            "automargin": true,
            "type": "pie"
           }
          ],
          "scatter": [
           {
            "fillpattern": {
             "fillmode": "overlay",
             "size": 10,
             "solidity": 0.2
            },
            "type": "scatter"
           }
          ],
          "scatter3d": [
           {
            "line": {
             "colorbar": {
              "outlinewidth": 1,
              "tickcolor": "rgb(36,36,36)",
              "ticks": "outside"
             }
            },
            "marker": {
             "colorbar": {
              "outlinewidth": 1,
              "tickcolor": "rgb(36,36,36)",
              "ticks": "outside"
             }
            },
            "type": "scatter3d"
           }
          ],
          "scattercarpet": [
           {
            "marker": {
             "colorbar": {
              "outlinewidth": 1,
              "tickcolor": "rgb(36,36,36)",
              "ticks": "outside"
             }
            },
            "type": "scattercarpet"
           }
          ],
          "scattergeo": [
           {
            "marker": {
             "colorbar": {
              "outlinewidth": 1,
              "tickcolor": "rgb(36,36,36)",
              "ticks": "outside"
             }
            },
            "type": "scattergeo"
           }
          ],
          "scattergl": [
           {
            "marker": {
             "colorbar": {
              "outlinewidth": 1,
              "tickcolor": "rgb(36,36,36)",
              "ticks": "outside"
             }
            },
            "type": "scattergl"
           }
          ],
          "scattermapbox": [
           {
            "marker": {
             "colorbar": {
              "outlinewidth": 1,
              "tickcolor": "rgb(36,36,36)",
              "ticks": "outside"
             }
            },
            "type": "scattermapbox"
           }
          ],
          "scatterpolar": [
           {
            "marker": {
             "colorbar": {
              "outlinewidth": 1,
              "tickcolor": "rgb(36,36,36)",
              "ticks": "outside"
             }
            },
            "type": "scatterpolar"
           }
          ],
          "scatterpolargl": [
           {
            "marker": {
             "colorbar": {
              "outlinewidth": 1,
              "tickcolor": "rgb(36,36,36)",
              "ticks": "outside"
             }
            },
            "type": "scatterpolargl"
           }
          ],
          "scatterternary": [
           {
            "marker": {
             "colorbar": {
              "outlinewidth": 1,
              "tickcolor": "rgb(36,36,36)",
              "ticks": "outside"
             }
            },
            "type": "scatterternary"
           }
          ],
          "surface": [
           {
            "colorbar": {
             "outlinewidth": 1,
             "tickcolor": "rgb(36,36,36)",
             "ticks": "outside"
            },
            "colorscale": [
             [
              0,
              "#440154"
             ],
             [
              0.1111111111111111,
              "#482878"
             ],
             [
              0.2222222222222222,
              "#3e4989"
             ],
             [
              0.3333333333333333,
              "#31688e"
             ],
             [
              0.4444444444444444,
              "#26828e"
             ],
             [
              0.5555555555555556,
              "#1f9e89"
             ],
             [
              0.6666666666666666,
              "#35b779"
             ],
             [
              0.7777777777777778,
              "#6ece58"
             ],
             [
              0.8888888888888888,
              "#b5de2b"
             ],
             [
              1,
              "#fde725"
             ]
            ],
            "type": "surface"
           }
          ],
          "table": [
           {
            "cells": {
             "fill": {
              "color": "rgb(237,237,237)"
             },
             "line": {
              "color": "white"
             }
            },
            "header": {
             "fill": {
              "color": "rgb(217,217,217)"
             },
             "line": {
              "color": "white"
             }
            },
            "type": "table"
           }
          ]
         },
         "layout": {
          "annotationdefaults": {
           "arrowhead": 0,
           "arrowwidth": 1
          },
          "autotypenumbers": "strict",
          "coloraxis": {
           "colorbar": {
            "outlinewidth": 1,
            "tickcolor": "rgb(36,36,36)",
            "ticks": "outside"
           }
          },
          "colorscale": {
           "diverging": [
            [
             0,
             "rgb(103,0,31)"
            ],
            [
             0.1,
             "rgb(178,24,43)"
            ],
            [
             0.2,
             "rgb(214,96,77)"
            ],
            [
             0.3,
             "rgb(244,165,130)"
            ],
            [
             0.4,
             "rgb(253,219,199)"
            ],
            [
             0.5,
             "rgb(247,247,247)"
            ],
            [
             0.6,
             "rgb(209,229,240)"
            ],
            [
             0.7,
             "rgb(146,197,222)"
            ],
            [
             0.8,
             "rgb(67,147,195)"
            ],
            [
             0.9,
             "rgb(33,102,172)"
            ],
            [
             1,
             "rgb(5,48,97)"
            ]
           ],
           "sequential": [
            [
             0,
             "#440154"
            ],
            [
             0.1111111111111111,
             "#482878"
            ],
            [
             0.2222222222222222,
             "#3e4989"
            ],
            [
             0.3333333333333333,
             "#31688e"
            ],
            [
             0.4444444444444444,
             "#26828e"
            ],
            [
             0.5555555555555556,
             "#1f9e89"
            ],
            [
             0.6666666666666666,
             "#35b779"
            ],
            [
             0.7777777777777778,
             "#6ece58"
            ],
            [
             0.8888888888888888,
             "#b5de2b"
            ],
            [
             1,
             "#fde725"
            ]
           ],
           "sequentialminus": [
            [
             0,
             "#440154"
            ],
            [
             0.1111111111111111,
             "#482878"
            ],
            [
             0.2222222222222222,
             "#3e4989"
            ],
            [
             0.3333333333333333,
             "#31688e"
            ],
            [
             0.4444444444444444,
             "#26828e"
            ],
            [
             0.5555555555555556,
             "#1f9e89"
            ],
            [
             0.6666666666666666,
             "#35b779"
            ],
            [
             0.7777777777777778,
             "#6ece58"
            ],
            [
             0.8888888888888888,
             "#b5de2b"
            ],
            [
             1,
             "#fde725"
            ]
           ]
          },
          "colorway": [
           "#1F77B4",
           "#FF7F0E",
           "#2CA02C",
           "#D62728",
           "#9467BD",
           "#8C564B",
           "#E377C2",
           "#7F7F7F",
           "#BCBD22",
           "#17BECF"
          ],
          "font": {
           "color": "rgb(36,36,36)"
          },
          "geo": {
           "bgcolor": "white",
           "lakecolor": "white",
           "landcolor": "white",
           "showlakes": true,
           "showland": true,
           "subunitcolor": "white"
          },
          "hoverlabel": {
           "align": "left"
          },
          "hovermode": "closest",
          "legend": {
           "bordercolor": "#e0e0e0",
           "borderwidth": 1,
           "font": {
            "size": 12
           }
          },
          "mapbox": {
           "style": "light"
          },
          "margin": {
           "b": 5,
           "l": 5,
           "r": 5,
           "t": 5
          },
          "paper_bgcolor": "white",
          "plot_bgcolor": "white",
          "polar": {
           "angularaxis": {
            "gridcolor": "rgb(232,232,232)",
            "linecolor": "rgb(36,36,36)",
            "showgrid": false,
            "showline": true,
            "ticks": "outside"
           },
           "bgcolor": "white",
           "radialaxis": {
            "gridcolor": "rgb(232,232,232)",
            "linecolor": "rgb(36,36,36)",
            "showgrid": false,
            "showline": true,
            "ticks": "outside"
           }
          },
          "scene": {
           "xaxis": {
            "backgroundcolor": "white",
            "gridcolor": "rgb(232,232,232)",
            "gridwidth": 2,
            "linecolor": "rgb(36,36,36)",
            "showbackground": true,
            "showgrid": false,
            "showline": true,
            "ticks": "outside",
            "zeroline": false,
            "zerolinecolor": "rgb(36,36,36)"
           },
           "yaxis": {
            "backgroundcolor": "white",
            "gridcolor": "rgb(232,232,232)",
            "gridwidth": 2,
            "linecolor": "rgb(36,36,36)",
            "showbackground": true,
            "showgrid": false,
            "showline": true,
            "ticks": "outside",
            "zeroline": false,
            "zerolinecolor": "rgb(36,36,36)"
           },
           "zaxis": {
            "backgroundcolor": "white",
            "gridcolor": "rgb(232,232,232)",
            "gridwidth": 2,
            "linecolor": "rgb(36,36,36)",
            "showbackground": true,
            "showgrid": false,
            "showline": true,
            "ticks": "outside",
            "zeroline": false,
            "zerolinecolor": "rgb(36,36,36)"
           }
          },
          "shapedefaults": {
           "fillcolor": "black",
           "line": {
            "width": 0
           },
           "opacity": 0.3
          },
          "ternary": {
           "aaxis": {
            "gridcolor": "rgb(232,232,232)",
            "linecolor": "rgb(36,36,36)",
            "showgrid": false,
            "showline": true,
            "ticks": "outside"
           },
           "baxis": {
            "gridcolor": "rgb(232,232,232)",
            "linecolor": "rgb(36,36,36)",
            "showgrid": false,
            "showline": true,
            "ticks": "outside"
           },
           "bgcolor": "white",
           "caxis": {
            "gridcolor": "rgb(232,232,232)",
            "linecolor": "rgb(36,36,36)",
            "showgrid": false,
            "showline": true,
            "ticks": "outside"
           }
          },
          "title": {
           "font": {
            "size": 10
           },
           "x": 0.05
          },
          "xaxis": {
           "automargin": true,
           "gridcolor": "#e0e0e0",
           "linecolor": "#616161",
           "linewidth": 1,
           "mirror": true,
           "showgrid": true,
           "showline": true,
           "tickfont": {
            "size": 10
           },
           "ticks": "outside",
           "title": {
            "font": {
             "size": 12
            },
            "standoff": 5
           },
           "zeroline": false,
           "zerolinecolor": "rgb(36,36,36)"
          },
          "yaxis": {
           "automargin": true,
           "gridcolor": "#e0e0e0",
           "linecolor": "#616161",
           "linewidth": 1,
           "mirror": true,
           "showgrid": true,
           "showline": true,
           "tickfont": {
            "size": 10
           },
           "ticks": "outside",
           "title": {
            "font": {
             "size": 12
            },
            "standoff": 5
           },
           "zeroline": false,
           "zerolinecolor": "rgb(36,36,36)"
          }
         }
        },
        "width": 800,
        "xaxis": {
         "autorange": true,
         "range": [
          0.07364663890541345,
          0.5263533610945865
         ],
         "title": {
          "text": "Task Overhead Fraction"
         },
         "type": "linear"
        },
        "yaxis": {
         "autorange": true,
         "range": [
          3.768265353909716,
          8.4029582757154
         ],
         "tickformat": ".0f",
         "title": {
          "text": "Makespan (s)"
         },
         "type": "linear"
        }
       }
      },
      "image/png": "[encoded data removed]",
      "text/html": [
       "<div>                            <div id=\"dde410f0-5e62-4512-8ae6-4200fb083def\" class=\"plotly-graph-div\" style=\"height:350px; width:800px;\"></div>            <script type=\"text/javascript\">                require([\"plotly\"], function(Plotly) {                    window.PLOTLYENV=window.PLOTLYENV || {};                                    if (document.getElementById(\"dde410f0-5e62-4512-8ae6-4200fb083def\")) {                    Plotly.newPlot(                        \"dde410f0-5e62-4512-8ae6-4200fb083def\",                        [{\"line\":{\"color\":\"rgb(127, 60, 141)\"},\"marker\":{\"size\":10,\"symbol\":\"circle\"},\"mode\":\"lines+markers\",\"name\":\"Sequential\",\"x\":[0.1,0.1,0.1,0.5,0.5,0.5],\"y\":[8.076560784,8.07376902,8.071392616,8.075940308,8.074958057,8.075867268],\"type\":\"scatter\"},{\"line\":{\"color\":\"rgb(127, 60, 141)\",\"dash\":\"dash\"},\"mode\":\"lines\",\"name\":\"Sequential Limit\",\"x\":[0.1,0.1,0.1,0.5,0.5,0.5],\"y\":[8.0,8.0,8.0,8.0,8.0,8.0],\"type\":\"scatter\"},{\"line\":{\"color\":\"rgb(17, 165, 121)\"},\"marker\":{\"size\":10,\"symbol\":\"diamond\"},\"mode\":\"lines+markers\",\"name\":\"Pipelined\",\"x\":[0.1,0.1,0.1,0.5,0.5,0.5],\"y\":[7.34993558,7.352126961,7.351057242,4.560590274,4.561161753,4.559304084000001],\"type\":\"scatter\"},{\"line\":{\"color\":\"rgb(17, 165, 121)\",\"dash\":\"dash\"},\"mode\":\"lines\",\"name\":\"Pipelined Limit\",\"x\":[0.1,0.1,0.1,0.5,0.5,0.5],\"y\":[7.2,7.2,7.2,4.0,4.0,4.0],\"type\":\"scatter\"}],                        {\"template\":{\"data\":{\"barpolar\":[{\"marker\":{\"line\":{\"color\":\"white\",\"width\":0.5},\"pattern\":{\"fillmode\":\"overlay\",\"size\":10,\"solidity\":0.2}},\"type\":\"barpolar\"}],\"bar\":[{\"error_x\":{\"color\":\"rgb(36,36,36)\"},\"error_y\":{\"color\":\"rgb(36,36,36)\"},\"marker\":{\"line\":{\"color\":\"white\",\"width\":0.5},\"pattern\":{\"fillmode\":\"overlay\",\"size\":10,\"solidity\":0.2}},\"type\":\"bar\"}],\"carpet\":[{\"aaxis\":{\"endlinecolor\":\"rgb(36,36,36)\",\"gridcolor\":\"white\",\"linecolor\":\"white\",\"minorgridcolor\":\"white\",\"startlinecolor\":\"rgb(36,36,36)\"},\"baxis\":{\"endlinecolor\":\"rgb(36,36,36)\",\"gridcolor\":\"white\",\"linecolor\":\"white\",\"minorgridcolor\":\"white\",\"startlinecolor\":\"rgb(36,36,36)\"},\"type\":\"carpet\"}],\"choropleth\":[{\"colorbar\":{\"outlinewidth\":1,\"tickcolor\":\"rgb(36,36,36)\",\"ticks\":\"outside\"},\"type\":\"choropleth\"}],\"contourcarpet\":[{\"colorbar\":{\"outlinewidth\":1,\"tickcolor\":\"rgb(36,36,36)\",\"ticks\":\"outside\"},\"type\":\"contourcarpet\"}],\"contour\":[{\"colorbar\":{\"outlinewidth\":1,\"tickcolor\":\"rgb(36,36,36)\",\"ticks\":\"outside\"},\"colorscale\":[[0.0,\"#440154\"],[0.1111111111111111,\"#482878\"],[0.2222222222222222,\"#3e4989\"],[0.3333333333333333,\"#31688e\"],[0.4444444444444444,\"#26828e\"],[0.5555555555555556,\"#1f9e89\"],[0.6666666666666666,\"#35b779\"],[0.7777777777777778,\"#6ece58\"],[0.8888888888888888,\"#b5de2b\"],[1.0,\"#fde725\"]],\"type\":\"contour\"}],\"heatmapgl\":[{\"colorbar\":{\"outlinewidth\":1,\"tickcolor\":\"rgb(36,36,36)\",\"ticks\":\"outside\"},\"colorscale\":[[0.0,\"#440154\"],[0.1111111111111111,\"#482878\"],[0.2222222222222222,\"#3e4989\"],[0.3333333333333333,\"#31688e\"],[0.4444444444444444,\"#26828e\"],[0.5555555555555556,\"#1f9e89\"],[0.6666666666666666,\"#35b779\"],[0.7777777777777778,\"#6ece58\"],[0.8888888888888888,\"#b5de2b\"],[1.0,\"#fde725\"]],\"type\":\"heatmapgl\"}],\"heatmap\":[{\"colorbar\":{\"outlinewidth\":1,\"tickcolor\":\"rgb(36,36,36)\",\"ticks\":\"outside\"},\"colorscale\":[[0.0,\"#440154\"],[0.1111111111111111,\"#482878\"],[0.2222222222222222,\"#3e4989\"],[0.3333333333333333,\"#31688e\"],[0.4444444444444444,\"#26828e\"],[0.5555555555555556,\"#1f9e89\"],[0.6666666666666666,\"#35b779\"],[0.7777777777777778,\"#6ece58\"],[0.8888888888888888,\"#b5de2b\"],[1.0,\"#fde725\"]],\"type\":\"heatmap\"}],\"histogram2dcontour\":[{\"colorbar\":{\"outlinewidth\":1,\"tickcolor\":\"rgb(36,36,36)\",\"ticks\":\"outside\"},\"colorscale\":[[0.0,\"#440154\"],[0.1111111111111111,\"#482878\"],[0.2222222222222222,\"#3e4989\"],[0.3333333333333333,\"#31688e\"],[0.4444444444444444,\"#26828e\"],[0.5555555555555556,\"#1f9e89\"],[0.6666666666666666,\"#35b779\"],[0.7777777777777778,\"#6ece58\"],[0.8888888888888888,\"#b5de2b\"],[1.0,\"#fde725\"]],\"type\":\"histogram2dcontour\"}],\"histogram2d\":[{\"colorbar\":{\"outlinewidth\":1,\"tickcolor\":\"rgb(36,36,36)\",\"ticks\":\"outside\"},\"colorscale\":[[0.0,\"#440154\"],[0.1111111111111111,\"#482878\"],[0.2222222222222222,\"#3e4989\"],[0.3333333333333333,\"#31688e\"],[0.4444444444444444,\"#26828e\"],[0.5555555555555556,\"#1f9e89\"],[0.6666666666666666,\"#35b779\"],[0.7777777777777778,\"#6ece58\"],[0.8888888888888888,\"#b5de2b\"],[1.0,\"#fde725\"]],\"type\":\"histogram2d\"}],\"histogram\":[{\"marker\":{\"line\":{\"color\":\"white\",\"width\":0.6}},\"type\":\"histogram\"}],\"mesh3d\":[{\"colorbar\":{\"outlinewidth\":1,\"tickcolor\":\"rgb(36,36,36)\",\"ticks\":\"outside\"},\"type\":\"mesh3d\"}],\"parcoords\":[{\"line\":{\"colorbar\":{\"outlinewidth\":1,\"tickcolor\":\"rgb(36,36,36)\",\"ticks\":\"outside\"}},\"type\":\"parcoords\"}],\"pie\":[{\"automargin\":true,\"type\":\"pie\"}],\"scatter3d\":[{\"line\":{\"colorbar\":{\"outlinewidth\":1,\"tickcolor\":\"rgb(36,36,36)\",\"ticks\":\"outside\"}},\"marker\":{\"colorbar\":{\"outlinewidth\":1,\"tickcolor\":\"rgb(36,36,36)\",\"ticks\":\"outside\"}},\"type\":\"scatter3d\"}],\"scattercarpet\":[{\"marker\":{\"colorbar\":{\"outlinewidth\":1,\"tickcolor\":\"rgb(36,36,36)\",\"ticks\":\"outside\"}},\"type\":\"scattercarpet\"}],\"scattergeo\":[{\"marker\":{\"colorbar\":{\"outlinewidth\":1,\"tickcolor\":\"rgb(36,36,36)\",\"ticks\":\"outside\"}},\"type\":\"scattergeo\"}],\"scattergl\":[{\"marker\":{\"colorbar\":{\"outlinewidth\":1,\"tickcolor\":\"rgb(36,36,36)\",\"ticks\":\"outside\"}},\"type\":\"scattergl\"}],\"scattermapbox\":[{\"marker\":{\"colorbar\":{\"outlinewidth\":1,\"tickcolor\":\"rgb(36,36,36)\",\"ticks\":\"outside\"}},\"type\":\"scattermapbox\"}],\"scatterpolargl\":[{\"marker\":{\"colorbar\":{\"outlinewidth\":1,\"tickcolor\":\"rgb(36,36,36)\",\"ticks\":\"outside\"}},\"type\":\"scatterpolargl\"}],\"scatterpolar\":[{\"marker\":{\"colorbar\":{\"outlinewidth\":1,\"tickcolor\":\"rgb(36,36,36)\",\"ticks\":\"outside\"}},\"type\":\"scatterpolar\"}],\"scatter\":[{\"fillpattern\":{\"fillmode\":\"overlay\",\"size\":10,\"solidity\":0.2},\"type\":\"scatter\"}],\"scatterternary\":[{\"marker\":{\"colorbar\":{\"outlinewidth\":1,\"tickcolor\":\"rgb(36,36,36)\",\"ticks\":\"outside\"}},\"type\":\"scatterternary\"}],\"surface\":[{\"colorbar\":{\"outlinewidth\":1,\"tickcolor\":\"rgb(36,36,36)\",\"ticks\":\"outside\"},\"colorscale\":[[0.0,\"#440154\"],[0.1111111111111111,\"#482878\"],[0.2222222222222222,\"#3e4989\"],[0.3333333333333333,\"#31688e\"],[0.4444444444444444,\"#26828e\"],[0.5555555555555556,\"#1f9e89\"],[0.6666666666666666,\"#35b779\"],[0.7777777777777778,\"#6ece58\"],[0.8888888888888888,\"#b5de2b\"],[1.0,\"#fde725\"]],\"type\":\"surface\"}],\"table\":[{\"cells\":{\"fill\":{\"color\":\"rgb(237,237,237)\"},\"line\":{\"color\":\"white\"}},\"header\":{\"fill\":{\"color\":\"rgb(217,217,217)\"},\"line\":{\"color\":\"white\"}},\"type\":\"table\"}]},\"layout\":{\"annotationdefaults\":{\"arrowhead\":0,\"arrowwidth\":1},\"autotypenumbers\":\"strict\",\"coloraxis\":{\"colorbar\":{\"outlinewidth\":1,\"tickcolor\":\"rgb(36,36,36)\",\"ticks\":\"outside\"}},\"colorscale\":{\"diverging\":[[0.0,\"rgb(103,0,31)\"],[0.1,\"rgb(178,24,43)\"],[0.2,\"rgb(214,96,77)\"],[0.3,\"rgb(244,165,130)\"],[0.4,\"rgb(253,219,199)\"],[0.5,\"rgb(247,247,247)\"],[0.6,\"rgb(209,229,240)\"],[0.7,\"rgb(146,197,222)\"],[0.8,\"rgb(67,147,195)\"],[0.9,\"rgb(33,102,172)\"],[1.0,\"rgb(5,48,97)\"]],\"sequential\":[[0.0,\"#440154\"],[0.1111111111111111,\"#482878\"],[0.2222222222222222,\"#3e4989\"],[0.3333333333333333,\"#31688e\"],[0.4444444444444444,\"#26828e\"],[0.5555555555555556,\"#1f9e89\"],[0.6666666666666666,\"#35b779\"],[0.7777777777777778,\"#6ece58\"],[0.8888888888888888,\"#b5de2b\"],[1.0,\"#fde725\"]],\"sequentialminus\":[[0.0,\"#440154\"],[0.1111111111111111,\"#482878\"],[0.2222222222222222,\"#3e4989\"],[0.3333333333333333,\"#31688e\"],[0.4444444444444444,\"#26828e\"],[0.5555555555555556,\"#1f9e89\"],[0.6666666666666666,\"#35b779\"],[0.7777777777777778,\"#6ece58\"],[0.8888888888888888,\"#b5de2b\"],[1.0,\"#fde725\"]]},\"colorway\":[\"#1F77B4\",\"#FF7F0E\",\"#2CA02C\",\"#D62728\",\"#9467BD\",\"#8C564B\",\"#E377C2\",\"#7F7F7F\",\"#BCBD22\",\"#17BECF\"],\"font\":{\"color\":\"rgb(36,36,36)\"},\"geo\":{\"bgcolor\":\"white\",\"lakecolor\":\"white\",\"landcolor\":\"white\",\"showlakes\":true,\"showland\":true,\"subunitcolor\":\"white\"},\"hoverlabel\":{\"align\":\"left\"},\"hovermode\":\"closest\",\"legend\":{\"bordercolor\":\"#e0e0e0\",\"borderwidth\":1,\"font\":{\"size\":12}},\"mapbox\":{\"style\":\"light\"},\"margin\":{\"b\":5,\"l\":5,\"r\":5,\"t\":5},\"paper_bgcolor\":\"white\",\"plot_bgcolor\":\"white\",\"polar\":{\"angularaxis\":{\"gridcolor\":\"rgb(232,232,232)\",\"linecolor\":\"rgb(36,36,36)\",\"showgrid\":false,\"showline\":true,\"ticks\":\"outside\"},\"bgcolor\":\"white\",\"radialaxis\":{\"gridcolor\":\"rgb(232,232,232)\",\"linecolor\":\"rgb(36,36,36)\",\"showgrid\":false,\"showline\":true,\"ticks\":\"outside\"}},\"scene\":{\"xaxis\":{\"backgroundcolor\":\"white\",\"gridcolor\":\"rgb(232,232,232)\",\"gridwidth\":2,\"linecolor\":\"rgb(36,36,36)\",\"showbackground\":true,\"showgrid\":false,\"showline\":true,\"ticks\":\"outside\",\"zeroline\":false,\"zerolinecolor\":\"rgb(36,36,36)\"},\"yaxis\":{\"backgroundcolor\":\"white\",\"gridcolor\":\"rgb(232,232,232)\",\"gridwidth\":2,\"linecolor\":\"rgb(36,36,36)\",\"showbackground\":true,\"showgrid\":false,\"showline\":true,\"ticks\":\"outside\",\"zeroline\":false,\"zerolinecolor\":\"rgb(36,36,36)\"},\"zaxis\":{\"backgroundcolor\":\"white\",\"gridcolor\":\"rgb(232,232,232)\",\"gridwidth\":2,\"linecolor\":\"rgb(36,36,36)\",\"showbackground\":true,\"showgrid\":false,\"showline\":true,\"ticks\":\"outside\",\"zeroline\":false,\"zerolinecolor\":\"rgb(36,36,36)\"}},\"shapedefaults\":{\"fillcolor\":\"black\",\"line\":{\"width\":0},\"opacity\":0.3},\"ternary\":{\"aaxis\":{\"gridcolor\":\"rgb(232,232,232)\",\"linecolor\":\"rgb(36,36,36)\",\"showgrid\":false,\"showline\":true,\"ticks\":\"outside\"},\"baxis\":{\"gridcolor\":\"rgb(232,232,232)\",\"linecolor\":\"rgb(36,36,36)\",\"showgrid\":false,\"showline\":true,\"ticks\":\"outside\"},\"bgcolor\":\"white\",\"caxis\":{\"gridcolor\":\"rgb(232,232,232)\",\"linecolor\":\"rgb(36,36,36)\",\"showgrid\":false,\"showline\":true,\"ticks\":\"outside\"}},\"title\":{\"font\":{\"size\":10},\"x\":0.05},\"xaxis\":{\"automargin\":true,\"gridcolor\":\"#e0e0e0\",\"linecolor\":\"#616161\",\"linewidth\":1,\"mirror\":true,\"showgrid\":true,\"showline\":true,\"tickfont\":{\"size\":10},\"ticks\":\"outside\",\"title\":{\"font\":{\"size\":12},\"standoff\":5},\"zeroline\":false,\"zerolinecolor\":\"rgb(36,36,36)\"},\"yaxis\":{\"automargin\":true,\"gridcolor\":\"#e0e0e0\",\"linecolor\":\"#616161\",\"linewidth\":1,\"mirror\":true,\"showgrid\":true,\"showline\":true,\"tickfont\":{\"size\":10},\"ticks\":\"outside\",\"title\":{\"font\":{\"size\":12},\"standoff\":5},\"zeroline\":false,\"zerolinecolor\":\"rgb(36,36,36)\"}}},\"yaxis\":{\"title\":{\"text\":\"Makespan (s)\"},\"tickformat\":\".0f\"},\"legend\":{\"yanchor\":\"bottom\",\"y\":0.02,\"xanchor\":\"left\",\"x\":0.01},\"xaxis\":{\"title\":{\"text\":\"Task Overhead Fraction\"}},\"width\":800,\"height\":350},                        {\"responsive\": true}                    ).then(function(){\n",
       "                            \n",
       "var gd = document.getElementById('dde410f0-5e62-4512-8ae6-4200fb083def');\n",
       "var x = new MutationObserver(function (mutations, observer) {{\n",
       "        var display = window.getComputedStyle(gd).display;\n",
       "        if (!display || display === 'none') {{\n",
       "            console.log([gd, 'removed!']);\n",
       "            Plotly.purge(gd);\n",
       "            observer.disconnect();\n",
       "        }}\n",
       "}});\n",
       "\n",
       "// Listen for the removal of the full notebook cells\n",
       "var notebookContainer = gd.closest('#notebook-container');\n",
       "if (notebookContainer) {{\n",
       "    x.observe(notebookContainer, {childList: true});\n",
       "}}\n",
       "\n",
       "// Listen for the clearing of the current output cell\n",
       "var outputEl = gd.closest('.output');\n",
       "if (outputEl) {{\n",
       "    x.observe(outputEl, {childList: true});\n",
       "}}\n",
       "\n",
       "                        })                };                });            </script>        </div>"
      ]
     },
     "metadata": {},
     "output_type": "display_data"
    },
    {
     "data": {
      "application/vnd.plotly.v1+json": {
       "config": {
        "plotlyServerURL": "https://plot.ly"
       },
       "data": [
        {
         "fill": "toself",
         "fillcolor": "rgb(128, 186, 90)",
         "hoverinfo": "name",
         "legendgroup": "rgb(128, 186, 90)",
         "mode": "none",
         "name": "submit",
         "showlegend": true,
         "type": "scatter",
         "x": [
          7.060981750488281,
          7.06210470199585,
          7.06210470199585,
          7.060981750488281,
          7.060981750488281,
          6.053415775299072,
          6.054504871368408,
          6.054504871368408,
          6.053415775299072,
          6.053415775299072,
          5.0460875034332275,
          5.047182321548462,
          5.047182321548462,
          5.0460875034332275,
          5.0460875034332275,
          4.0389323234558105,
          4.039992094039917,
          4.039992094039917,
          4.0389323234558105,
          4.0389323234558105,
          3.0315260887145996,
          3.0326602458953857,
          3.0326602458953857,
          3.0315260887145996,
          3.0315260887145996,
          2.023613214492798,
          2.024845600128174,
          2.024845600128174,
          2.023613214492798,
          2.023613214492798,
          1.0160682201385498,
          1.017237663269043,
          1.017237663269043,
          1.0160682201385498,
          1.0160682201385498,
          0,
          0.00958704948425293,
          0.00958704948425293,
          0
         ],
         "xaxis": "x",
         "y": [
          2.6,
          2.6,
          3.4,
          3.4,
          null,
          1.6,
          1.6,
          2.4,
          2.4,
          null,
          0.6,
          0.6,
          1.4,
          1.4,
          null,
          -0.4,
          -0.4,
          0.4,
          0.4,
          null,
          2.6,
          2.6,
          3.4,
          3.4,
          null,
          1.6,
          1.6,
          2.4,
          2.4,
          null,
          0.6,
          0.6,
          1.4,
          1.4,
          null,
          -0.4,
          -0.4,
          0.4,
          0.4
         ],
         "yaxis": "y"
        },
        {
         "fill": "toself",
         "fillcolor": "rgb(127, 60, 141)",
         "hoverinfo": "name",
         "legendgroup": "rgb(127, 60, 141)",
         "mode": "none",
         "name": "overhead",
         "showlegend": true,
         "type": "scatter",
         "x": [
          7.06210470199585,
          7.16217041015625,
          7.16217041015625,
          7.06210470199585,
          7.06210470199585,
          6.054504871368408,
          6.154570817947388,
          6.154570817947388,
          6.054504871368408,
          6.054504871368408,
          5.047182321548462,
          5.147254943847656,
          5.147254943847656,
          5.047182321548462,
          5.047182321548462,
          4.039992094039917,
          4.140070676803589,
          4.140070676803589,
          4.039992094039917,
          4.039992094039917,
          3.0326602458953857,
          3.1327271461486816,
          3.1327271461486816,
          3.0326602458953857,
          3.0326602458953857,
          2.024845600128174,
          2.12492036819458,
          2.12492036819458,
          2.024845600128174,
          2.024845600128174,
          1.017237663269043,
          1.1173338890075684,
          1.1173338890075684,
          1.017237663269043,
          1.017237663269043,
          0.00958704948425293,
          0.10965943336486816,
          0.10965943336486816,
          0.00958704948425293
         ],
         "xaxis": "x",
         "y": [
          2.6,
          2.6,
          3.4,
          3.4,
          null,
          1.6,
          1.6,
          2.4,
          2.4,
          null,
          0.6,
          0.6,
          1.4,
          1.4,
          null,
          -0.4,
          -0.4,
          0.4,
          0.4,
          null,
          2.6,
          2.6,
          3.4,
          3.4,
          null,
          1.6,
          1.6,
          2.4,
          2.4,
          null,
          0.6,
          0.6,
          1.4,
          1.4,
          null,
          -0.4,
          -0.4,
          0.4,
          0.4
         ],
         "yaxis": "y"
        },
        {
         "fill": "toself",
         "fillcolor": "rgb(231, 63, 116)",
         "hoverinfo": "name",
         "legendgroup": "rgb(231, 63, 116)",
         "mode": "none",
         "name": "resolve",
         "showlegend": true,
         "type": "scatter",
         "x": [
          7.16217041015625,
          7.163575649261475,
          7.163575649261475,
          7.16217041015625,
          7.16217041015625,
          6.154570817947388,
          6.155940532684326,
          6.155940532684326,
          6.154570817947388,
          6.154570817947388,
          5.147254943847656,
          5.148689031600952,
          5.148689031600952,
          5.147254943847656,
          5.147254943847656,
          4.140070676803589,
          4.141535758972168,
          4.141535758972168,
          4.140070676803589,
          4.140070676803589,
          3.1327271461486816,
          3.1342620849609375,
          3.1342620849609375,
          3.1327271461486816,
          3.1327271461486816,
          2.12492036819458,
          2.126223564147949,
          2.126223564147949,
          2.12492036819458,
          2.12492036819458,
          1.1173338890075684,
          1.1186895370483398,
          1.1186895370483398,
          1.1173338890075684,
          1.1173338890075684,
          0.10965943336486816,
          0.11116385459899902,
          0.11116385459899902,
          0.10965943336486816
         ],
         "xaxis": "x",
         "y": [
          2.6,
          2.6,
          3.4,
          3.4,
          null,
          1.6,
          1.6,
          2.4,
          2.4,
          null,
          0.6,
          0.6,
          1.4,
          1.4,
          null,
          -0.4,
          -0.4,
          0.4,
          0.4,
          null,
          2.6,
          2.6,
          3.4,
          3.4,
          null,
          1.6,
          1.6,
          2.4,
          2.4,
          null,
          0.6,
          0.6,
          1.4,
          1.4,
          null,
          -0.4,
          -0.4,
          0.4,
          0.4
         ],
         "yaxis": "y"
        },
        {
         "fill": "toself",
         "fillcolor": "rgb(17, 165, 121)",
         "hoverinfo": "name",
         "legendgroup": "rgb(17, 165, 121)",
         "mode": "none",
         "name": "compute",
         "showlegend": true,
         "type": "scatter",
         "x": [
          7.163575649261475,
          8.063639879226685,
          8.063639879226685,
          7.163575649261475,
          7.163575649261475,
          6.155940532684326,
          7.055999755859375,
          7.055999755859375,
          6.155940532684326,
          6.155940532684326,
          5.148689031600952,
          6.0487587451934814,
          6.0487587451934814,
          5.148689031600952,
          5.148689031600952,
          4.141535758972168,
          5.041595220565796,
          5.041595220565796,
          4.141535758972168,
          4.141535758972168,
          3.1342620849609375,
          4.034321308135986,
          4.034321308135986,
          3.1342620849609375,
          3.1342620849609375,
          2.126223564147949,
          3.026293992996216,
          3.026293992996216,
          2.126223564147949,
          2.126223564147949,
          1.1186895370483398,
          2.0187580585479736,
          2.0187580585479736,
          1.1186895370483398,
          1.1186895370483398,
          0.11116385459899902,
          1.0112483501434326,
          1.0112483501434326,
          0.11116385459899902
         ],
         "xaxis": "x",
         "y": [
          2.6,
          2.6,
          3.4,
          3.4,
          null,
          1.6,
          1.6,
          2.4,
          2.4,
          null,
          0.6,
          0.6,
          1.4,
          1.4,
          null,
          -0.4,
          -0.4,
          0.4,
          0.4,
          null,
          2.6,
          2.6,
          3.4,
          3.4,
          null,
          1.6,
          1.6,
          2.4,
          2.4,
          null,
          0.6,
          0.6,
          1.4,
          1.4,
          null,
          -0.4,
          -0.4,
          0.4,
          0.4
         ],
         "yaxis": "y"
        },
        {
         "fill": "toself",
         "fillcolor": "rgb(57, 105, 172)",
         "hoverinfo": "name",
         "legendgroup": "rgb(57, 105, 172)",
         "mode": "none",
         "name": "generate",
         "showlegend": true,
         "type": "scatter",
         "x": [
          8.063639879226685,
          8.066116571426392,
          8.066116571426392,
          8.063639879226685,
          8.063639879226685,
          7.055999755859375,
          7.058741569519043,
          7.058741569519043,
          7.055999755859375,
          7.055999755859375,
          6.0487587451934814,
          6.051246881484985,
          6.051246881484985,
          6.0487587451934814,
          6.0487587451934814,
          5.041595220565796,
          5.0440099239349365,
          5.0440099239349365,
          5.041595220565796,
          5.041595220565796,
          4.034321308135986,
          4.036774635314941,
          4.036774635314941,
          4.034321308135986,
          4.034321308135986,
          3.026293992996216,
          3.0292515754699707,
          3.0292515754699707,
          3.026293992996216,
          3.026293992996216,
          2.0187580585479736,
          2.021270751953125,
          2.021270751953125,
          2.0187580585479736,
          2.0187580585479736,
          1.0112483501434326,
          1.0138144493103027,
          1.0138144493103027,
          1.0112483501434326
         ],
         "xaxis": "x",
         "y": [
          2.6,
          2.6,
          3.4,
          3.4,
          null,
          1.6,
          1.6,
          2.4,
          2.4,
          null,
          0.6,
          0.6,
          1.4,
          1.4,
          null,
          -0.4,
          -0.4,
          0.4,
          0.4,
          null,
          2.6,
          2.6,
          3.4,
          3.4,
          null,
          1.6,
          1.6,
          2.4,
          2.4,
          null,
          0.6,
          0.6,
          1.4,
          1.4,
          null,
          -0.4,
          -0.4,
          0.4,
          0.4
         ],
         "yaxis": "y"
        },
        {
         "fill": "toself",
         "fillcolor": "rgb(242, 183, 1)",
         "hoverinfo": "name",
         "legendgroup": "rgb(242, 183, 1)",
         "mode": "none",
         "name": "receive",
         "showlegend": true,
         "type": "scatter",
         "x": [
          8.066116571426392,
          8.06791353225708,
          8.06791353225708,
          8.066116571426392,
          8.066116571426392,
          7.058741569519043,
          7.060607194900513,
          7.060607194900513,
          7.058741569519043,
          7.058741569519043,
          6.051246881484985,
          6.053042888641357,
          6.053042888641357,
          6.051246881484985,
          6.051246881484985,
          5.0440099239349365,
          5.0457470417022705,
          5.0457470417022705,
          5.0440099239349365,
          5.0440099239349365,
          4.036774635314941,
          4.038579940795898,
          4.038579940795898,
          4.036774635314941,
          4.036774635314941,
          3.0292515754699707,
          3.0311574935913086,
          3.0311574935913086,
          3.0292515754699707,
          3.0292515754699707,
          2.021270751953125,
          2.0232419967651367,
          2.0232419967651367,
          2.021270751953125,
          2.021270751953125,
          1.0138144493103027,
          1.0156984329223633,
          1.0156984329223633,
          1.0138144493103027
         ],
         "xaxis": "x",
         "y": [
          2.6,
          2.6,
          3.4,
          3.4,
          null,
          1.6,
          1.6,
          2.4,
          2.4,
          null,
          0.6,
          0.6,
          1.4,
          1.4,
          null,
          -0.4,
          -0.4,
          0.4,
          0.4,
          null,
          2.6,
          2.6,
          3.4,
          3.4,
          null,
          1.6,
          1.6,
          2.4,
          2.4,
          null,
          0.6,
          0.6,
          1.4,
          1.4,
          null,
          -0.4,
          -0.4,
          0.4,
          0.4
         ],
         "yaxis": "y"
        },
        {
         "legendgroup": "rgb(127, 60, 141)",
         "marker": {
          "color": "rgb(127, 60, 141)",
          "opacity": 0,
          "size": 1
         },
         "mode": "markers",
         "name": "",
         "showlegend": false,
         "text": [
          null,
          null,
          null,
          null,
          null,
          null,
          null,
          null,
          null,
          null,
          null,
          null,
          null,
          null,
          null,
          null
         ],
         "type": "scatter",
         "x": [
          7.06210470199585,
          7.16217041015625,
          6.054504871368408,
          6.154570817947388,
          5.047182321548462,
          5.147254943847656,
          4.039992094039917,
          4.140070676803589,
          3.0326602458953857,
          3.1327271461486816,
          2.024845600128174,
          2.12492036819458,
          1.017237663269043,
          1.1173338890075684,
          0.00958704948425293,
          0.10965943336486816
         ],
         "xaxis": "x",
         "y": [
          3,
          3,
          2,
          2,
          1,
          1,
          0,
          0,
          3,
          3,
          2,
          2,
          1,
          1,
          0,
          0
         ],
         "yaxis": "y"
        },
        {
         "legendgroup": "rgb(128, 186, 90)",
         "marker": {
          "color": "rgb(128, 186, 90)",
          "opacity": 0,
          "size": 1
         },
         "mode": "markers",
         "name": "",
         "showlegend": false,
         "text": [
          null,
          null,
          null,
          null,
          null,
          null,
          null,
          null,
          null,
          null,
          null,
          null,
          null,
          null,
          null,
          null
         ],
         "type": "scatter",
         "x": [
          7.060981750488281,
          7.06210470199585,
          6.053415775299072,
          6.054504871368408,
          5.0460875034332275,
          5.047182321548462,
          4.0389323234558105,
          4.039992094039917,
          3.0315260887145996,
          3.0326602458953857,
          2.023613214492798,
          2.024845600128174,
          1.0160682201385498,
          1.017237663269043,
          0,
          0.00958704948425293
         ],
         "xaxis": "x",
         "y": [
          3,
          3,
          2,
          2,
          1,
          1,
          0,
          0,
          3,
          3,
          2,
          2,
          1,
          1,
          0,
          0
         ],
         "yaxis": "y"
        },
        {
         "legendgroup": "rgb(17, 165, 121)",
         "marker": {
          "color": "rgb(17, 165, 121)",
          "opacity": 0,
          "size": 1
         },
         "mode": "markers",
         "name": "",
         "showlegend": false,
         "text": [
          null,
          null,
          null,
          null,
          null,
          null,
          null,
          null,
          null,
          null,
          null,
          null,
          null,
          null,
          null,
          null
         ],
         "type": "scatter",
         "x": [
          7.163575649261475,
          8.063639879226685,
          6.155940532684326,
          7.055999755859375,
          5.148689031600952,
          6.0487587451934814,
          4.141535758972168,
          5.041595220565796,
          3.1342620849609375,
          4.034321308135986,
          2.126223564147949,
          3.026293992996216,
          1.1186895370483398,
          2.0187580585479736,
          0.11116385459899902,
          1.0112483501434326
         ],
         "xaxis": "x",
         "y": [
          3,
          3,
          2,
          2,
          1,
          1,
          0,
          0,
          3,
          3,
          2,
          2,
          1,
          1,
          0,
          0
         ],
         "yaxis": "y"
        },
        {
         "legendgroup": "rgb(231, 63, 116)",
         "marker": {
          "color": "rgb(231, 63, 116)",
          "opacity": 0,
          "size": 1
         },
         "mode": "markers",
         "name": "",
         "showlegend": false,
         "text": [
          null,
          null,
          null,
          null,
          null,
          null,
          null,
          null,
          null,
          null,
          null,
          null,
          null,
          null,
          null,
          null
         ],
         "type": "scatter",
         "x": [
          7.16217041015625,
          7.163575649261475,
          6.154570817947388,
          6.155940532684326,
          5.147254943847656,
          5.148689031600952,
          4.140070676803589,
          4.141535758972168,
          3.1327271461486816,
          3.1342620849609375,
          2.12492036819458,
          2.126223564147949,
          1.1173338890075684,
          1.1186895370483398,
          0.10965943336486816,
          0.11116385459899902
         ],
         "xaxis": "x",
         "y": [
          3,
          3,
          2,
          2,
          1,
          1,
          0,
          0,
          3,
          3,
          2,
          2,
          1,
          1,
          0,
          0
         ],
         "yaxis": "y"
        },
        {
         "legendgroup": "rgb(242, 183, 1)",
         "marker": {
          "color": "rgb(242, 183, 1)",
          "opacity": 0,
          "size": 1
         },
         "mode": "markers",
         "name": "",
         "showlegend": false,
         "text": [
          null,
          null,
          null,
          null,
          null,
          null,
          null,
          null,
          null,
          null,
          null,
          null,
          null,
          null,
          null,
          null
         ],
         "type": "scatter",
         "x": [
          8.066116571426392,
          8.06791353225708,
          7.058741569519043,
          7.060607194900513,
          6.051246881484985,
          6.053042888641357,
          5.0440099239349365,
          5.0457470417022705,
          4.036774635314941,
          4.038579940795898,
          3.0292515754699707,
          3.0311574935913086,
          2.021270751953125,
          2.0232419967651367,
          1.0138144493103027,
          1.0156984329223633
         ],
         "xaxis": "x",
         "y": [
          3,
          3,
          2,
          2,
          1,
          1,
          0,
          0,
          3,
          3,
          2,
          2,
          1,
          1,
          0,
          0
         ],
         "yaxis": "y"
        },
        {
         "legendgroup": "rgb(57, 105, 172)",
         "marker": {
          "color": "rgb(57, 105, 172)",
          "opacity": 0,
          "size": 1
         },
         "mode": "markers",
         "name": "",
         "showlegend": false,
         "text": [
          null,
          null,
          null,
          null,
          null,
          null,
          null,
          null,
          null,
          null,
          null,
          null,
          null,
          null,
          null,
          null
         ],
         "type": "scatter",
         "x": [
          8.063639879226685,
          8.066116571426392,
          7.055999755859375,
          7.058741569519043,
          6.0487587451934814,
          6.051246881484985,
          5.041595220565796,
          5.0440099239349365,
          4.034321308135986,
          4.036774635314941,
          3.026293992996216,
          3.0292515754699707,
          2.0187580585479736,
          2.021270751953125,
          1.0112483501434326,
          1.0138144493103027
         ],
         "xaxis": "x",
         "y": [
          3,
          3,
          2,
          2,
          1,
          1,
          0,
          0,
          3,
          3,
          2,
          2,
          1,
          1,
          0,
          0
         ],
         "yaxis": "y"
        },
        {
         "fill": "toself",
         "fillcolor": "rgb(128, 186, 90)",
         "hoverinfo": "name",
         "legendgroup": "rgb(128, 186, 90)",
         "mode": "none",
         "name": "submit",
         "showlegend": false,
         "type": "scatter",
         "x": [
          6.3379857540130615,
          6.339077711105347,
          6.339077711105347,
          6.3379857540130615,
          6.3379857540130615,
          5.433667182922363,
          5.4348554611206055,
          5.4348554611206055,
          5.433667182922363,
          5.433667182922363,
          4.529182195663452,
          4.530466794967651,
          4.530466794967651,
          4.529182195663452,
          4.529182195663452,
          3.623634576797486,
          3.624962329864502,
          3.624962329864502,
          3.623634576797486,
          3.623634576797486,
          2.7195234298706055,
          2.720970869064331,
          2.720970869064331,
          2.7195234298706055,
          2.7195234298706055,
          1.8150272369384768,
          1.816234827041626,
          1.816234827041626,
          1.8150272369384768,
          1.8150272369384768,
          0.9006748199462891,
          0.9017374515533448,
          0.9017374515533448,
          0.9006748199462891,
          0.9006748199462891,
          0,
          0.008654594421386719,
          0.008654594421386719,
          0
         ],
         "xaxis": "x2",
         "y": [
          2.6,
          2.6,
          3.4,
          3.4,
          null,
          1.6,
          1.6,
          2.4,
          2.4,
          null,
          0.6,
          0.6,
          1.4,
          1.4,
          null,
          -0.4,
          -0.4,
          0.4,
          0.4,
          null,
          2.6,
          2.6,
          3.4,
          3.4,
          null,
          1.6,
          1.6,
          2.4,
          2.4,
          null,
          0.6,
          0.6,
          1.4,
          1.4,
          null,
          -0.4,
          -0.4,
          0.4,
          0.4
         ],
         "yaxis": "y2"
        },
        {
         "fill": "toself",
         "fillcolor": "rgb(127, 60, 141)",
         "hoverinfo": "name",
         "legendgroup": "rgb(127, 60, 141)",
         "mode": "none",
         "name": "overhead",
         "showlegend": false,
         "type": "scatter",
         "x": [
          6.339077711105347,
          6.4391539096832275,
          6.4391539096832275,
          6.339077711105347,
          6.339077711105347,
          5.4348554611206055,
          5.534924507141113,
          5.534924507141113,
          5.4348554611206055,
          5.4348554611206055,
          4.530466794967651,
          4.630542516708374,
          4.630542516708374,
          4.530466794967651,
          4.530466794967651,
          3.624962329864502,
          3.72502875328064,
          3.72502875328064,
          3.624962329864502,
          3.624962329864502,
          2.720970869064331,
          2.8210391998291016,
          2.8210391998291016,
          2.720970869064331,
          2.720970869064331,
          1.816234827041626,
          1.916304111480713,
          1.916304111480713,
          1.816234827041626,
          1.816234827041626,
          0.9017374515533448,
          1.001784324645996,
          1.001784324645996,
          0.9017374515533448,
          0.9017374515533448,
          0.008654594421386719,
          0.10872149467468262,
          0.10872149467468262,
          0.008654594421386719
         ],
         "xaxis": "x2",
         "y": [
          2.6,
          2.6,
          3.4,
          3.4,
          null,
          1.6,
          1.6,
          2.4,
          2.4,
          null,
          0.6,
          0.6,
          1.4,
          1.4,
          null,
          -0.4,
          -0.4,
          0.4,
          0.4,
          null,
          2.6,
          2.6,
          3.4,
          3.4,
          null,
          1.6,
          1.6,
          2.4,
          2.4,
          null,
          0.6,
          0.6,
          1.4,
          1.4,
          null,
          -0.4,
          -0.4,
          0.4,
          0.4
         ],
         "yaxis": "y2"
        },
        {
         "fill": "toself",
         "fillcolor": "rgb(231, 63, 116)",
         "hoverinfo": "name",
         "legendgroup": "rgb(231, 63, 116)",
         "mode": "none",
         "name": "resolve",
         "showlegend": false,
         "type": "scatter",
         "x": [
          6.4391539096832275,
          6.4422125816345215,
          6.4422125816345215,
          6.4391539096832275,
          6.4391539096832275,
          5.534924507141113,
          5.537686824798584,
          5.537686824798584,
          5.534924507141113,
          5.534924507141113,
          4.630542516708374,
          4.633219242095947,
          4.633219242095947,
          4.630542516708374,
          4.630542516708374,
          3.72502875328064,
          3.72879958152771,
          3.72879958152771,
          3.72502875328064,
          3.72502875328064,
          2.8210391998291016,
          2.8236887454986572,
          2.8236887454986572,
          2.8210391998291016,
          2.8210391998291016,
          1.916304111480713,
          1.9188990592956543,
          1.9188990592956543,
          1.916304111480713,
          1.916304111480713,
          1.001784324645996,
          1.0146105289459229,
          1.0146105289459229,
          1.001784324645996,
          1.001784324645996,
          0.10872149467468262,
          0.11029529571533205,
          0.11029529571533205,
          0.10872149467468262
         ],
         "xaxis": "x2",
         "y": [
          2.6,
          2.6,
          3.4,
          3.4,
          null,
          1.6,
          1.6,
          2.4,
          2.4,
          null,
          0.6,
          0.6,
          1.4,
          1.4,
          null,
          -0.4,
          -0.4,
          0.4,
          0.4,
          null,
          2.6,
          2.6,
          3.4,
          3.4,
          null,
          1.6,
          1.6,
          2.4,
          2.4,
          null,
          0.6,
          0.6,
          1.4,
          1.4,
          null,
          -0.4,
          -0.4,
          0.4,
          0.4
         ],
         "yaxis": "y2"
        },
        {
         "fill": "toself",
         "fillcolor": "rgb(17, 165, 121)",
         "hoverinfo": "name",
         "legendgroup": "rgb(17, 165, 121)",
         "mode": "none",
         "name": "compute",
         "showlegend": false,
         "type": "scatter",
         "x": [
          6.4422125816345215,
          7.342283248901367,
          7.342283248901367,
          6.4422125816345215,
          6.4422125816345215,
          5.537686824798584,
          6.437749624252319,
          6.437749624252319,
          5.537686824798584,
          5.537686824798584,
          4.633219242095947,
          5.533299207687378,
          5.533299207687378,
          4.633219242095947,
          4.633219242095947,
          3.72879958152771,
          4.628868103027344,
          4.628868103027344,
          3.72879958152771,
          3.72879958152771,
          2.8236887454986572,
          3.7237660884857178,
          3.7237660884857178,
          2.8236887454986572,
          2.8236887454986572,
          1.9188990592956543,
          2.818990707397461,
          2.818990707397461,
          1.9188990592956543,
          1.9188990592956543,
          1.0146105289459229,
          1.9146842956542969,
          1.9146842956542969,
          1.0146105289459229,
          1.0146105289459229,
          0.11029529571533205,
          1.0103609561920166,
          1.0103609561920166,
          0.11029529571533205
         ],
         "xaxis": "x2",
         "y": [
          2.6,
          2.6,
          3.4,
          3.4,
          null,
          1.6,
          1.6,
          2.4,
          2.4,
          null,
          0.6,
          0.6,
          1.4,
          1.4,
          null,
          -0.4,
          -0.4,
          0.4,
          0.4,
          null,
          2.6,
          2.6,
          3.4,
          3.4,
          null,
          1.6,
          1.6,
          2.4,
          2.4,
          null,
          0.6,
          0.6,
          1.4,
          1.4,
          null,
          -0.4,
          -0.4,
          0.4,
          0.4
         ],
         "yaxis": "y2"
        },
        {
         "fill": "toself",
         "fillcolor": "rgb(57, 105, 172)",
         "hoverinfo": "name",
         "legendgroup": "rgb(57, 105, 172)",
         "mode": "none",
         "name": "generate",
         "showlegend": false,
         "type": "scatter",
         "x": [
          7.342283248901367,
          7.344804286956787,
          7.344804286956787,
          7.342283248901367,
          7.342283248901367,
          6.437749624252319,
          6.4402384757995605,
          6.4402384757995605,
          6.437749624252319,
          6.437749624252319,
          5.533299207687378,
          5.53578782081604,
          5.53578782081604,
          5.533299207687378,
          5.533299207687378,
          4.628868103027344,
          4.631474018096924,
          4.631474018096924,
          4.628868103027344,
          4.628868103027344,
          3.7237660884857178,
          3.726534128189087,
          3.726534128189087,
          3.7237660884857178,
          3.7237660884857178,
          2.818990707397461,
          2.8214452266693115,
          2.8214452266693115,
          2.818990707397461,
          2.818990707397461,
          1.9146842956542969,
          1.917431592941284,
          1.917431592941284,
          1.9146842956542969,
          1.9146842956542969,
          1.0103609561920166,
          1.012859582901001,
          1.012859582901001,
          1.0103609561920166
         ],
         "xaxis": "x2",
         "y": [
          2.6,
          2.6,
          3.4,
          3.4,
          null,
          1.6,
          1.6,
          2.4,
          2.4,
          null,
          0.6,
          0.6,
          1.4,
          1.4,
          null,
          -0.4,
          -0.4,
          0.4,
          0.4,
          null,
          2.6,
          2.6,
          3.4,
          3.4,
          null,
          1.6,
          1.6,
          2.4,
          2.4,
          null,
          0.6,
          0.6,
          1.4,
          1.4,
          null,
          -0.4,
          -0.4,
          0.4,
          0.4
         ],
         "yaxis": "y2"
        },
        {
         "fill": "toself",
         "fillcolor": "rgb(242, 183, 1)",
         "hoverinfo": "name",
         "legendgroup": "rgb(242, 183, 1)",
         "mode": "none",
         "name": "receive",
         "showlegend": false,
         "type": "scatter",
         "x": [
          7.344804286956787,
          7.346341848373413,
          7.346341848373413,
          7.344804286956787,
          7.344804286956787,
          6.4402384757995605,
          6.455885648727417,
          6.455885648727417,
          6.4402384757995605,
          6.4402384757995605,
          5.53578782081604,
          5.5374596118927,
          5.5374596118927,
          5.53578782081604,
          5.53578782081604,
          4.631474018096924,
          4.633112907409668,
          4.633112907409668,
          4.631474018096924,
          4.631474018096924,
          3.726534128189087,
          3.7285373210906982,
          3.7285373210906982,
          3.726534128189087,
          3.726534128189087,
          2.8214452266693115,
          2.822915554046631,
          2.822915554046631,
          2.8214452266693115,
          2.8214452266693115,
          1.917431592941284,
          1.918956995010376,
          1.918956995010376,
          1.917431592941284,
          1.917431592941284,
          1.012859582901001,
          1.014482021331787,
          1.014482021331787,
          1.012859582901001
         ],
         "xaxis": "x2",
         "y": [
          2.6,
          2.6,
          3.4,
          3.4,
          null,
          1.6,
          1.6,
          2.4,
          2.4,
          null,
          0.6,
          0.6,
          1.4,
          1.4,
          null,
          -0.4,
          -0.4,
          0.4,
          0.4,
          null,
          2.6,
          2.6,
          3.4,
          3.4,
          null,
          1.6,
          1.6,
          2.4,
          2.4,
          null,
          0.6,
          0.6,
          1.4,
          1.4,
          null,
          -0.4,
          -0.4,
          0.4,
          0.4
         ],
         "yaxis": "y2"
        },
        {
         "legendgroup": "rgb(127, 60, 141)",
         "marker": {
          "color": "rgb(127, 60, 141)",
          "opacity": 0,
          "size": 1
         },
         "mode": "markers",
         "name": "",
         "showlegend": false,
         "text": [
          null,
          null,
          null,
          null,
          null,
          null,
          null,
          null,
          null,
          null,
          null,
          null,
          null,
          null,
          null,
          null
         ],
         "type": "scatter",
         "x": [
          6.339077711105347,
          6.4391539096832275,
          5.4348554611206055,
          5.534924507141113,
          4.530466794967651,
          4.630542516708374,
          3.624962329864502,
          3.72502875328064,
          2.720970869064331,
          2.8210391998291016,
          1.816234827041626,
          1.916304111480713,
          0.9017374515533448,
          1.001784324645996,
          0.008654594421386719,
          0.10872149467468262
         ],
         "xaxis": "x2",
         "y": [
          3,
          3,
          2,
          2,
          1,
          1,
          0,
          0,
          3,
          3,
          2,
          2,
          1,
          1,
          0,
          0
         ],
         "yaxis": "y2"
        },
        {
         "legendgroup": "rgb(128, 186, 90)",
         "marker": {
          "color": "rgb(128, 186, 90)",
          "opacity": 0,
          "size": 1
         },
         "mode": "markers",
         "name": "",
         "showlegend": false,
         "text": [
          null,
          null,
          null,
          null,
          null,
          null,
          null,
          null,
          null,
          null,
          null,
          null,
          null,
          null,
          null,
          null
         ],
         "type": "scatter",
         "x": [
          6.3379857540130615,
          6.339077711105347,
          5.433667182922363,
          5.4348554611206055,
          4.529182195663452,
          4.530466794967651,
          3.623634576797486,
          3.624962329864502,
          2.7195234298706055,
          2.720970869064331,
          1.8150272369384768,
          1.816234827041626,
          0.9006748199462891,
          0.9017374515533448,
          0,
          0.008654594421386719
         ],
         "xaxis": "x2",
         "y": [
          3,
          3,
          2,
          2,
          1,
          1,
          0,
          0,
          3,
          3,
          2,
          2,
          1,
          1,
          0,
          0
         ],
         "yaxis": "y2"
        },
        {
         "legendgroup": "rgb(17, 165, 121)",
         "marker": {
          "color": "rgb(17, 165, 121)",
          "opacity": 0,
          "size": 1
         },
         "mode": "markers",
         "name": "",
         "showlegend": false,
         "text": [
          null,
          null,
          null,
          null,
          null,
          null,
          null,
          null,
          null,
          null,
          null,
          null,
          null,
          null,
          null,
          null
         ],
         "type": "scatter",
         "x": [
          6.4422125816345215,
          7.342283248901367,
          5.537686824798584,
          6.437749624252319,
          4.633219242095947,
          5.533299207687378,
          3.72879958152771,
          4.628868103027344,
          2.8236887454986572,
          3.7237660884857178,
          1.9188990592956543,
          2.818990707397461,
          1.0146105289459229,
          1.9146842956542969,
          0.11029529571533205,
          1.0103609561920166
         ],
         "xaxis": "x2",
         "y": [
          3,
          3,
          2,
          2,
          1,
          1,
          0,
          0,
          3,
          3,
          2,
          2,
          1,
          1,
          0,
          0
         ],
         "yaxis": "y2"
        },
        {
         "legendgroup": "rgb(231, 63, 116)",
         "marker": {
          "color": "rgb(231, 63, 116)",
          "opacity": 0,
          "size": 1
         },
         "mode": "markers",
         "name": "",
         "showlegend": false,
         "text": [
          null,
          null,
          null,
          null,
          null,
          null,
          null,
          null,
          null,
          null,
          null,
          null,
          null,
          null,
          null,
          null
         ],
         "type": "scatter",
         "x": [
          6.4391539096832275,
          6.4422125816345215,
          5.534924507141113,
          5.537686824798584,
          4.630542516708374,
          4.633219242095947,
          3.72502875328064,
          3.72879958152771,
          2.8210391998291016,
          2.8236887454986572,
          1.916304111480713,
          1.9188990592956543,
          1.001784324645996,
          1.0146105289459229,
          0.10872149467468262,
          0.11029529571533205
         ],
         "xaxis": "x2",
         "y": [
          3,
          3,
          2,
          2,
          1,
          1,
          0,
          0,
          3,
          3,
          2,
          2,
          1,
          1,
          0,
          0
         ],
         "yaxis": "y2"
        },
        {
         "legendgroup": "rgb(242, 183, 1)",
         "marker": {
          "color": "rgb(242, 183, 1)",
          "opacity": 0,
          "size": 1
         },
         "mode": "markers",
         "name": "",
         "showlegend": false,
         "text": [
          null,
          null,
          null,
          null,
          null,
          null,
          null,
          null,
          null,
          null,
          null,
          null,
          null,
          null,
          null,
          null
         ],
         "type": "scatter",
         "x": [
          7.344804286956787,
          7.346341848373413,
          6.4402384757995605,
          6.455885648727417,
          5.53578782081604,
          5.5374596118927,
          4.631474018096924,
          4.633112907409668,
          3.726534128189087,
          3.7285373210906982,
          2.8214452266693115,
          2.822915554046631,
          1.917431592941284,
          1.918956995010376,
          1.012859582901001,
          1.014482021331787
         ],
         "xaxis": "x2",
         "y": [
          3,
          3,
          2,
          2,
          1,
          1,
          0,
          0,
          3,
          3,
          2,
          2,
          1,
          1,
          0,
          0
         ],
         "yaxis": "y2"
        },
        {
         "legendgroup": "rgb(57, 105, 172)",
         "marker": {
          "color": "rgb(57, 105, 172)",
          "opacity": 0,
          "size": 1
         },
         "mode": "markers",
         "name": "",
         "showlegend": false,
         "text": [
          null,
          null,
          null,
          null,
          null,
          null,
          null,
          null,
          null,
          null,
          null,
          null,
          null,
          null,
          null,
          null
         ],
         "type": "scatter",
         "x": [
          7.342283248901367,
          7.344804286956787,
          6.437749624252319,
          6.4402384757995605,
          5.533299207687378,
          5.53578782081604,
          4.628868103027344,
          4.631474018096924,
          3.7237660884857178,
          3.726534128189087,
          2.818990707397461,
          2.8214452266693115,
          1.9146842956542969,
          1.917431592941284,
          1.0103609561920166,
          1.012859582901001
         ],
         "xaxis": "x2",
         "y": [
          3,
          3,
          2,
          2,
          1,
          1,
          0,
          0,
          3,
          3,
          2,
          2,
          1,
          1,
          0,
          0
         ],
         "yaxis": "y2"
        },
        {
         "fill": "toself",
         "fillcolor": "rgb(128, 186, 90)",
         "hoverinfo": "name",
         "legendgroup": "rgb(128, 186, 90)",
         "mode": "none",
         "name": "submit",
         "showlegend": false,
         "type": "scatter",
         "x": [
          3.542665481567383,
          3.5499608516693115,
          3.5499608516693115,
          3.542665481567383,
          3.542665481567383,
          3.038097620010376,
          3.0456159114837646,
          3.0456159114837646,
          3.038097620010376,
          3.038097620010376,
          2.5338222980499268,
          2.5359444618225098,
          2.5359444618225098,
          2.5338222980499268,
          2.5338222980499268,
          2.024369716644287,
          2.0315957069396973,
          2.0315957069396973,
          2.024369716644287,
          2.024369716644287,
          1.5198757648468018,
          1.527250051498413,
          1.527250051498413,
          1.5198757648468018,
          1.5198757648468018,
          1.015348196029663,
          1.0164411067962646,
          1.0164411067962646,
          1.015348196029663,
          1.015348196029663,
          0.5008492469787598,
          0.5019617080688477,
          0.5019617080688477,
          0.5008492469787598,
          0.5008492469787598,
          0,
          0.008807182312011719,
          0.008807182312011719,
          0
         ],
         "xaxis": "x3",
         "y": [
          2.6,
          2.6,
          3.4,
          3.4,
          null,
          1.6,
          1.6,
          2.4,
          2.4,
          null,
          0.6,
          0.6,
          1.4,
          1.4,
          null,
          -0.4,
          -0.4,
          0.4,
          0.4,
          null,
          2.6,
          2.6,
          3.4,
          3.4,
          null,
          1.6,
          1.6,
          2.4,
          2.4,
          null,
          0.6,
          0.6,
          1.4,
          1.4,
          null,
          -0.4,
          -0.4,
          0.4,
          0.4
         ],
         "yaxis": "y3"
        },
        {
         "fill": "toself",
         "fillcolor": "rgb(127, 60, 141)",
         "hoverinfo": "name",
         "legendgroup": "rgb(127, 60, 141)",
         "mode": "none",
         "name": "overhead",
         "showlegend": false,
         "type": "scatter",
         "x": [
          3.5499608516693115,
          4.0500335693359375,
          4.0500335693359375,
          3.5499608516693115,
          3.5499608516693115,
          3.0456159114837646,
          3.545691728591919,
          3.545691728591919,
          3.0456159114837646,
          3.0456159114837646,
          2.5359444618225098,
          3.036018133163452,
          3.036018133163452,
          2.5359444618225098,
          2.5359444618225098,
          2.0315957069396973,
          2.53169584274292,
          2.53169584274292,
          2.0315957069396973,
          2.0315957069396973,
          1.527250051498413,
          2.0273234844207764,
          2.0273234844207764,
          1.527250051498413,
          1.527250051498413,
          1.0164411067962646,
          1.5165159702301023,
          1.5165159702301023,
          1.0164411067962646,
          1.0164411067962646,
          0.5019617080688477,
          1.002037763595581,
          1.002037763595581,
          0.5019617080688477,
          0.5019617080688477,
          0.008807182312011719,
          0.508875846862793,
          0.508875846862793,
          0.008807182312011719
         ],
         "xaxis": "x3",
         "y": [
          2.6,
          2.6,
          3.4,
          3.4,
          null,
          1.6,
          1.6,
          2.4,
          2.4,
          null,
          0.6,
          0.6,
          1.4,
          1.4,
          null,
          -0.4,
          -0.4,
          0.4,
          0.4,
          null,
          2.6,
          2.6,
          3.4,
          3.4,
          null,
          1.6,
          1.6,
          2.4,
          2.4,
          null,
          0.6,
          0.6,
          1.4,
          1.4,
          null,
          -0.4,
          -0.4,
          0.4,
          0.4
         ],
         "yaxis": "y3"
        },
        {
         "fill": "toself",
         "fillcolor": "rgb(231, 63, 116)",
         "hoverinfo": "name",
         "legendgroup": "rgb(231, 63, 116)",
         "mode": "none",
         "name": "resolve",
         "showlegend": false,
         "type": "scatter",
         "x": [
          4.0500335693359375,
          4.051410675048828,
          4.051410675048828,
          4.0500335693359375,
          4.0500335693359375,
          3.545691728591919,
          3.547088384628296,
          3.547088384628296,
          3.545691728591919,
          3.545691728591919,
          3.036018133163452,
          3.037752389907837,
          3.037752389907837,
          3.036018133163452,
          3.036018133163452,
          2.53169584274292,
          2.5332157611846924,
          2.5332157611846924,
          2.53169584274292,
          2.53169584274292,
          2.0273234844207764,
          2.028852701187134,
          2.028852701187134,
          2.0273234844207764,
          2.0273234844207764,
          1.5165159702301023,
          1.5191941261291504,
          1.5191941261291504,
          1.5165159702301023,
          1.5165159702301023,
          1.002037763595581,
          1.0150716304779053,
          1.0150716304779053,
          1.002037763595581,
          1.002037763595581,
          0.508875846862793,
          0.5105545520782471,
          0.5105545520782471,
          0.508875846862793
         ],
         "xaxis": "x3",
         "y": [
          2.6,
          2.6,
          3.4,
          3.4,
          null,
          1.6,
          1.6,
          2.4,
          2.4,
          null,
          0.6,
          0.6,
          1.4,
          1.4,
          null,
          -0.4,
          -0.4,
          0.4,
          0.4,
          null,
          2.6,
          2.6,
          3.4,
          3.4,
          null,
          1.6,
          1.6,
          2.4,
          2.4,
          null,
          0.6,
          0.6,
          1.4,
          1.4,
          null,
          -0.4,
          -0.4,
          0.4,
          0.4
         ],
         "yaxis": "y3"
        },
        {
         "fill": "toself",
         "fillcolor": "rgb(17, 165, 121)",
         "hoverinfo": "name",
         "legendgroup": "rgb(17, 165, 121)",
         "mode": "none",
         "name": "compute",
         "showlegend": false,
         "type": "scatter",
         "x": [
          4.051410675048828,
          4.551480054855347,
          4.551480054855347,
          4.051410675048828,
          4.051410675048828,
          3.547088384628296,
          4.047161340713501,
          4.047161340713501,
          3.547088384628296,
          3.547088384628296,
          3.037752389907837,
          3.5378332138061523,
          3.5378332138061523,
          3.037752389907837,
          3.037752389907837,
          2.5332157611846924,
          3.03328800201416,
          3.03328800201416,
          2.5332157611846924,
          2.5332157611846924,
          2.028852701187134,
          2.528921604156494,
          2.528921604156494,
          2.028852701187134,
          2.028852701187134,
          1.5191941261291504,
          2.0192651748657227,
          2.0192651748657227,
          1.5191941261291504,
          1.5191941261291504,
          1.0150716304779053,
          1.515145778656006,
          1.515145778656006,
          1.0150716304779053,
          1.0150716304779053,
          0.5105545520782471,
          1.0106191635131836,
          1.0106191635131836,
          0.5105545520782471
         ],
         "xaxis": "x3",
         "y": [
          2.6,
          2.6,
          3.4,
          3.4,
          null,
          1.6,
          1.6,
          2.4,
          2.4,
          null,
          0.6,
          0.6,
          1.4,
          1.4,
          null,
          -0.4,
          -0.4,
          0.4,
          0.4,
          null,
          2.6,
          2.6,
          3.4,
          3.4,
          null,
          1.6,
          1.6,
          2.4,
          2.4,
          null,
          0.6,
          0.6,
          1.4,
          1.4,
          null,
          -0.4,
          -0.4,
          0.4,
          0.4
         ],
         "yaxis": "y3"
        },
        {
         "fill": "toself",
         "fillcolor": "rgb(57, 105, 172)",
         "hoverinfo": "name",
         "legendgroup": "rgb(57, 105, 172)",
         "mode": "none",
         "name": "generate",
         "showlegend": false,
         "type": "scatter",
         "x": [
          4.551480054855347,
          4.553977012634277,
          4.553977012634277,
          4.551480054855347,
          4.551480054855347,
          4.047161340713501,
          4.049802541732788,
          4.049802541732788,
          4.047161340713501,
          4.047161340713501,
          3.5378332138061523,
          3.540515899658203,
          3.540515899658203,
          3.5378332138061523,
          3.5378332138061523,
          3.03328800201416,
          3.0358083248138428,
          3.0358083248138428,
          3.03328800201416,
          3.03328800201416,
          2.528921604156494,
          2.5314788818359375,
          2.5314788818359375,
          2.528921604156494,
          2.528921604156494,
          2.0192651748657227,
          2.0219645500183105,
          2.0219645500183105,
          2.0192651748657227,
          2.0192651748657227,
          1.515145778656006,
          1.5176751613616943,
          1.5176751613616943,
          1.515145778656006,
          1.515145778656006,
          1.0106191635131836,
          1.0130531787872314,
          1.0130531787872314,
          1.0106191635131836
         ],
         "xaxis": "x3",
         "y": [
          2.6,
          2.6,
          3.4,
          3.4,
          null,
          1.6,
          1.6,
          2.4,
          2.4,
          null,
          0.6,
          0.6,
          1.4,
          1.4,
          null,
          -0.4,
          -0.4,
          0.4,
          0.4,
          null,
          2.6,
          2.6,
          3.4,
          3.4,
          null,
          1.6,
          1.6,
          2.4,
          2.4,
          null,
          0.6,
          0.6,
          1.4,
          1.4,
          null,
          -0.4,
          -0.4,
          0.4,
          0.4
         ],
         "yaxis": "y3"
        },
        {
         "fill": "toself",
         "fillcolor": "rgb(242, 183, 1)",
         "hoverinfo": "name",
         "legendgroup": "rgb(242, 183, 1)",
         "mode": "none",
         "name": "receive",
         "showlegend": false,
         "type": "scatter",
         "x": [
          4.553977012634277,
          4.555644750595093,
          4.555644750595093,
          4.553977012634277,
          4.553977012634277,
          4.049802541732788,
          4.051609039306641,
          4.051609039306641,
          4.049802541732788,
          4.049802541732788,
          3.540515899658203,
          3.5421600341796875,
          3.5421600341796875,
          3.540515899658203,
          3.540515899658203,
          3.0358083248138428,
          3.0375938415527344,
          3.0375938415527344,
          3.0358083248138428,
          3.0358083248138428,
          2.5314788818359375,
          2.533322811126709,
          2.533322811126709,
          2.5314788818359375,
          2.5314788818359375,
          2.0219645500183105,
          2.023825168609619,
          2.023825168609619,
          2.0219645500183105,
          2.0219645500183105,
          1.5176751613616943,
          1.519369125366211,
          1.519369125366211,
          1.5176751613616943,
          1.5176751613616943,
          1.0130531787872314,
          1.0147864818572998,
          1.0147864818572998,
          1.0130531787872314
         ],
         "xaxis": "x3",
         "y": [
          2.6,
          2.6,
          3.4,
          3.4,
          null,
          1.6,
          1.6,
          2.4,
          2.4,
          null,
          0.6,
          0.6,
          1.4,
          1.4,
          null,
          -0.4,
          -0.4,
          0.4,
          0.4,
          null,
          2.6,
          2.6,
          3.4,
          3.4,
          null,
          1.6,
          1.6,
          2.4,
          2.4,
          null,
          0.6,
          0.6,
          1.4,
          1.4,
          null,
          -0.4,
          -0.4,
          0.4,
          0.4
         ],
         "yaxis": "y3"
        },
        {
         "legendgroup": "rgb(127, 60, 141)",
         "marker": {
          "color": "rgb(127, 60, 141)",
          "opacity": 0,
          "size": 1
         },
         "mode": "markers",
         "name": "",
         "showlegend": false,
         "text": [
          null,
          null,
          null,
          null,
          null,
          null,
          null,
          null,
          null,
          null,
          null,
          null,
          null,
          null,
          null,
          null
         ],
         "type": "scatter",
         "x": [
          3.5499608516693115,
          4.0500335693359375,
          3.0456159114837646,
          3.545691728591919,
          2.5359444618225098,
          3.036018133163452,
          2.0315957069396973,
          2.53169584274292,
          1.527250051498413,
          2.0273234844207764,
          1.0164411067962646,
          1.5165159702301023,
          0.5019617080688477,
          1.002037763595581,
          0.008807182312011719,
          0.508875846862793
         ],
         "xaxis": "x3",
         "y": [
          3,
          3,
          2,
          2,
          1,
          1,
          0,
          0,
          3,
          3,
          2,
          2,
          1,
          1,
          0,
          0
         ],
         "yaxis": "y3"
        },
        {
         "legendgroup": "rgb(128, 186, 90)",
         "marker": {
          "color": "rgb(128, 186, 90)",
          "opacity": 0,
          "size": 1
         },
         "mode": "markers",
         "name": "",
         "showlegend": false,
         "text": [
          null,
          null,
          null,
          null,
          null,
          null,
          null,
          null,
          null,
          null,
          null,
          null,
          null,
          null,
          null,
          null
         ],
         "type": "scatter",
         "x": [
          3.542665481567383,
          3.5499608516693115,
          3.038097620010376,
          3.0456159114837646,
          2.5338222980499268,
          2.5359444618225098,
          2.024369716644287,
          2.0315957069396973,
          1.5198757648468018,
          1.527250051498413,
          1.015348196029663,
          1.0164411067962646,
          0.5008492469787598,
          0.5019617080688477,
          0,
          0.008807182312011719
         ],
         "xaxis": "x3",
         "y": [
          3,
          3,
          2,
          2,
          1,
          1,
          0,
          0,
          3,
          3,
          2,
          2,
          1,
          1,
          0,
          0
         ],
         "yaxis": "y3"
        },
        {
         "legendgroup": "rgb(17, 165, 121)",
         "marker": {
          "color": "rgb(17, 165, 121)",
          "opacity": 0,
          "size": 1
         },
         "mode": "markers",
         "name": "",
         "showlegend": false,
         "text": [
          null,
          null,
          null,
          null,
          null,
          null,
          null,
          null,
          null,
          null,
          null,
          null,
          null,
          null,
          null,
          null
         ],
         "type": "scatter",
         "x": [
          4.051410675048828,
          4.551480054855347,
          3.547088384628296,
          4.047161340713501,
          3.037752389907837,
          3.5378332138061523,
          2.5332157611846924,
          3.03328800201416,
          2.028852701187134,
          2.528921604156494,
          1.5191941261291504,
          2.0192651748657227,
          1.0150716304779053,
          1.515145778656006,
          0.5105545520782471,
          1.0106191635131836
         ],
         "xaxis": "x3",
         "y": [
          3,
          3,
          2,
          2,
          1,
          1,
          0,
          0,
          3,
          3,
          2,
          2,
          1,
          1,
          0,
          0
         ],
         "yaxis": "y3"
        },
        {
         "legendgroup": "rgb(231, 63, 116)",
         "marker": {
          "color": "rgb(231, 63, 116)",
          "opacity": 0,
          "size": 1
         },
         "mode": "markers",
         "name": "",
         "showlegend": false,
         "text": [
          null,
          null,
          null,
          null,
          null,
          null,
          null,
          null,
          null,
          null,
          null,
          null,
          null,
          null,
          null,
          null
         ],
         "type": "scatter",
         "x": [
          4.0500335693359375,
          4.051410675048828,
          3.545691728591919,
          3.547088384628296,
          3.036018133163452,
          3.037752389907837,
          2.53169584274292,
          2.5332157611846924,
          2.0273234844207764,
          2.028852701187134,
          1.5165159702301023,
          1.5191941261291504,
          1.002037763595581,
          1.0150716304779053,
          0.508875846862793,
          0.5105545520782471
         ],
         "xaxis": "x3",
         "y": [
          3,
          3,
          2,
          2,
          1,
          1,
          0,
          0,
          3,
          3,
          2,
          2,
          1,
          1,
          0,
          0
         ],
         "yaxis": "y3"
        },
        {
         "legendgroup": "rgb(242, 183, 1)",
         "marker": {
          "color": "rgb(242, 183, 1)",
          "opacity": 0,
          "size": 1
         },
         "mode": "markers",
         "name": "",
         "showlegend": false,
         "text": [
          null,
          null,
          null,
          null,
          null,
          null,
          null,
          null,
          null,
          null,
          null,
          null,
          null,
          null,
          null,
          null
         ],
         "type": "scatter",
         "x": [
          4.553977012634277,
          4.555644750595093,
          4.049802541732788,
          4.051609039306641,
          3.540515899658203,
          3.5421600341796875,
          3.0358083248138428,
          3.0375938415527344,
          2.5314788818359375,
          2.533322811126709,
          2.0219645500183105,
          2.023825168609619,
          1.5176751613616943,
          1.519369125366211,
          1.0130531787872314,
          1.0147864818572998
         ],
         "xaxis": "x3",
         "y": [
          3,
          3,
          2,
          2,
          1,
          1,
          0,
          0,
          3,
          3,
          2,
          2,
          1,
          1,
          0,
          0
         ],
         "yaxis": "y3"
        },
        {
         "legendgroup": "rgb(57, 105, 172)",
         "marker": {
          "color": "rgb(57, 105, 172)",
          "opacity": 0,
          "size": 1
         },
         "mode": "markers",
         "name": "",
         "showlegend": false,
         "text": [
          null,
          null,
          null,
          null,
          null,
          null,
          null,
          null,
          null,
          null,
          null,
          null,
          null,
          null,
          null,
          null
         ],
         "type": "scatter",
         "x": [
          4.551480054855347,
          4.553977012634277,
          4.047161340713501,
          4.049802541732788,
          3.5378332138061523,
          3.540515899658203,
          3.03328800201416,
          3.0358083248138428,
          2.528921604156494,
          2.5314788818359375,
          2.0192651748657227,
          2.0219645500183105,
          1.515145778656006,
          1.5176751613616943,
          1.0106191635131836,
          1.0130531787872314
         ],
         "xaxis": "x3",
         "y": [
          3,
          3,
          2,
          2,
          1,
          1,
          0,
          0,
          3,
          3,
          2,
          2,
          1,
          1,
          0,
          0
         ],
         "yaxis": "y3"
        }
       ],
       "layout": {
        "height": 350,
        "legend": {
         "tracegroupgap": 4,
         "x": 0.99,
         "xanchor": "right",
         "y": 0.02,
         "yanchor": "bottom"
        },
        "template": {
         "data": {
          "bar": [
           {
            "error_x": {
             "color": "rgb(36,36,36)"
            },
            "error_y": {
             "color": "rgb(36,36,36)"
            },
            "marker": {
             "line": {
              "color": "white",
              "width": 0.5
             },
             "pattern": {
              "fillmode": "overlay",
              "size": 10,
              "solidity": 0.2
             }
            },
            "type": "bar"
           }
          ],
          "barpolar": [
           {
            "marker": {
             "line": {
              "color": "white",
              "width": 0.5
             },
             "pattern": {
              "fillmode": "overlay",
              "size": 10,
              "solidity": 0.2
             }
            },
            "type": "barpolar"
           }
          ],
          "carpet": [
           {
            "aaxis": {
             "endlinecolor": "rgb(36,36,36)",
             "gridcolor": "white",
             "linecolor": "white",
             "minorgridcolor": "white",
             "startlinecolor": "rgb(36,36,36)"
            },
            "baxis": {
             "endlinecolor": "rgb(36,36,36)",
             "gridcolor": "white",
             "linecolor": "white",
             "minorgridcolor": "white",
             "startlinecolor": "rgb(36,36,36)"
            },
            "type": "carpet"
           }
          ],
          "choropleth": [
           {
            "colorbar": {
             "outlinewidth": 1,
             "tickcolor": "rgb(36,36,36)",
             "ticks": "outside"
            },
            "type": "choropleth"
           }
          ],
          "contour": [
           {
            "colorbar": {
             "outlinewidth": 1,
             "tickcolor": "rgb(36,36,36)",
             "ticks": "outside"
            },
            "colorscale": [
             [
              0,
              "#440154"
             ],
             [
              0.1111111111111111,
              "#482878"
             ],
             [
              0.2222222222222222,
              "#3e4989"
             ],
             [
              0.3333333333333333,
              "#31688e"
             ],
             [
              0.4444444444444444,
              "#26828e"
             ],
             [
              0.5555555555555556,
              "#1f9e89"
             ],
             [
              0.6666666666666666,
              "#35b779"
             ],
             [
              0.7777777777777778,
              "#6ece58"
             ],
             [
              0.8888888888888888,
              "#b5de2b"
             ],
             [
              1,
              "#fde725"
             ]
            ],
            "type": "contour"
           }
          ],
          "contourcarpet": [
           {
            "colorbar": {
             "outlinewidth": 1,
             "tickcolor": "rgb(36,36,36)",
             "ticks": "outside"
            },
            "type": "contourcarpet"
           }
          ],
          "heatmap": [
           {
            "colorbar": {
             "outlinewidth": 1,
             "tickcolor": "rgb(36,36,36)",
             "ticks": "outside"
            },
            "colorscale": [
             [
              0,
              "#440154"
             ],
             [
              0.1111111111111111,
              "#482878"
             ],
             [
              0.2222222222222222,
              "#3e4989"
             ],
             [
              0.3333333333333333,
              "#31688e"
             ],
             [
              0.4444444444444444,
              "#26828e"
             ],
             [
              0.5555555555555556,
              "#1f9e89"
             ],
             [
              0.6666666666666666,
              "#35b779"
             ],
             [
              0.7777777777777778,
              "#6ece58"
             ],
             [
              0.8888888888888888,
              "#b5de2b"
             ],
             [
              1,
              "#fde725"
             ]
            ],
            "type": "heatmap"
           }
          ],
          "heatmapgl": [
           {
            "colorbar": {
             "outlinewidth": 1,
             "tickcolor": "rgb(36,36,36)",
             "ticks": "outside"
            },
            "colorscale": [
             [
              0,
              "#440154"
             ],
             [
              0.1111111111111111,
              "#482878"
             ],
             [
              0.2222222222222222,
              "#3e4989"
             ],
             [
              0.3333333333333333,
              "#31688e"
             ],
             [
              0.4444444444444444,
              "#26828e"
             ],
             [
              0.5555555555555556,
              "#1f9e89"
             ],
             [
              0.6666666666666666,
              "#35b779"
             ],
             [
              0.7777777777777778,
              "#6ece58"
             ],
             [
              0.8888888888888888,
              "#b5de2b"
             ],
             [
              1,
              "#fde725"
             ]
            ],
            "type": "heatmapgl"
           }
          ],
          "histogram": [
           {
            "marker": {
             "line": {
              "color": "white",
              "width": 0.6
             }
            },
            "type": "histogram"
           }
          ],
          "histogram2d": [
           {
            "colorbar": {
             "outlinewidth": 1,
             "tickcolor": "rgb(36,36,36)",
             "ticks": "outside"
            },
            "colorscale": [
             [
              0,
              "#440154"
             ],
             [
              0.1111111111111111,
              "#482878"
             ],
             [
              0.2222222222222222,
              "#3e4989"
             ],
             [
              0.3333333333333333,
              "#31688e"
             ],
             [
              0.4444444444444444,
              "#26828e"
             ],
             [
              0.5555555555555556,
              "#1f9e89"
             ],
             [
              0.6666666666666666,
              "#35b779"
             ],
             [
              0.7777777777777778,
              "#6ece58"
             ],
             [
              0.8888888888888888,
              "#b5de2b"
             ],
             [
              1,
              "#fde725"
             ]
            ],
            "type": "histogram2d"
           }
          ],
          "histogram2dcontour": [
           {
            "colorbar": {
             "outlinewidth": 1,
             "tickcolor": "rgb(36,36,36)",
             "ticks": "outside"
            },
            "colorscale": [
             [
              0,
              "#440154"
             ],
             [
              0.1111111111111111,
              "#482878"
             ],
             [
              0.2222222222222222,
              "#3e4989"
             ],
             [
              0.3333333333333333,
              "#31688e"
             ],
             [
              0.4444444444444444,
              "#26828e"
             ],
             [
              0.5555555555555556,
              "#1f9e89"
             ],
             [
              0.6666666666666666,
              "#35b779"
             ],
             [
              0.7777777777777778,
              "#6ece58"
             ],
             [
              0.8888888888888888,
              "#b5de2b"
             ],
             [
              1,
              "#fde725"
             ]
            ],
            "type": "histogram2dcontour"
           }
          ],
          "mesh3d": [
           {
            "colorbar": {
             "outlinewidth": 1,
             "tickcolor": "rgb(36,36,36)",
             "ticks": "outside"
            },
            "type": "mesh3d"
           }
          ],
          "parcoords": [
           {
            "line": {
             "colorbar": {
              "outlinewidth": 1,
              "tickcolor": "rgb(36,36,36)",
              "ticks": "outside"
             }
            },
            "type": "parcoords"
           }
          ],
          "pie": [
           {
            "automargin": true,
            "type": "pie"
           }
          ],
          "scatter": [
           {
            "fillpattern": {
             "fillmode": "overlay",
             "size": 10,
             "solidity": 0.2
            },
            "type": "scatter"
           }
          ],
          "scatter3d": [
           {
            "line": {
             "colorbar": {
              "outlinewidth": 1,
              "tickcolor": "rgb(36,36,36)",
              "ticks": "outside"
             }
            },
            "marker": {
             "colorbar": {
              "outlinewidth": 1,
              "tickcolor": "rgb(36,36,36)",
              "ticks": "outside"
             }
            },
            "type": "scatter3d"
           }
          ],
          "scattercarpet": [
           {
            "marker": {
             "colorbar": {
              "outlinewidth": 1,
              "tickcolor": "rgb(36,36,36)",
              "ticks": "outside"
             }
            },
            "type": "scattercarpet"
           }
          ],
          "scattergeo": [
           {
            "marker": {
             "colorbar": {
              "outlinewidth": 1,
              "tickcolor": "rgb(36,36,36)",
              "ticks": "outside"
             }
            },
            "type": "scattergeo"
           }
          ],
          "scattergl": [
           {
            "marker": {
             "colorbar": {
              "outlinewidth": 1,
              "tickcolor": "rgb(36,36,36)",
              "ticks": "outside"
             }
            },
            "type": "scattergl"
           }
          ],
          "scattermapbox": [
           {
            "marker": {
             "colorbar": {
              "outlinewidth": 1,
              "tickcolor": "rgb(36,36,36)",
              "ticks": "outside"
             }
            },
            "type": "scattermapbox"
           }
          ],
          "scatterpolar": [
           {
            "marker": {
             "colorbar": {
              "outlinewidth": 1,
              "tickcolor": "rgb(36,36,36)",
              "ticks": "outside"
             }
            },
            "type": "scatterpolar"
           }
          ],
          "scatterpolargl": [
           {
            "marker": {
             "colorbar": {
              "outlinewidth": 1,
              "tickcolor": "rgb(36,36,36)",
              "ticks": "outside"
             }
            },
            "type": "scatterpolargl"
           }
          ],
          "scatterternary": [
           {
            "marker": {
             "colorbar": {
              "outlinewidth": 1,
              "tickcolor": "rgb(36,36,36)",
              "ticks": "outside"
             }
            },
            "type": "scatterternary"
           }
          ],
          "surface": [
           {
            "colorbar": {
             "outlinewidth": 1,
             "tickcolor": "rgb(36,36,36)",
             "ticks": "outside"
            },
            "colorscale": [
             [
              0,
              "#440154"
             ],
             [
              0.1111111111111111,
              "#482878"
             ],
             [
              0.2222222222222222,
              "#3e4989"
             ],
             [
              0.3333333333333333,
              "#31688e"
             ],
             [
              0.4444444444444444,
              "#26828e"
             ],
             [
              0.5555555555555556,
              "#1f9e89"
             ],
             [
              0.6666666666666666,
              "#35b779"
             ],
             [
              0.7777777777777778,
              "#6ece58"
             ],
             [
              0.8888888888888888,
              "#b5de2b"
             ],
             [
              1,
              "#fde725"
             ]
            ],
            "type": "surface"
           }
          ],
          "table": [
           {
            "cells": {
             "fill": {
              "color": "rgb(237,237,237)"
             },
             "line": {
              "color": "white"
             }
            },
            "header": {
             "fill": {
              "color": "rgb(217,217,217)"
             },
             "line": {
              "color": "white"
             }
            },
            "type": "table"
           }
          ]
         },
         "layout": {
          "annotationdefaults": {
           "arrowhead": 0,
           "arrowwidth": 1
          },
          "autotypenumbers": "strict",
          "coloraxis": {
           "colorbar": {
            "outlinewidth": 1,
            "tickcolor": "rgb(36,36,36)",
            "ticks": "outside"
           }
          },
          "colorscale": {
           "diverging": [
            [
             0,
             "rgb(103,0,31)"
            ],
            [
             0.1,
             "rgb(178,24,43)"
            ],
            [
             0.2,
             "rgb(214,96,77)"
            ],
            [
             0.3,
             "rgb(244,165,130)"
            ],
            [
             0.4,
             "rgb(253,219,199)"
            ],
            [
             0.5,
             "rgb(247,247,247)"
            ],
            [
             0.6,
             "rgb(209,229,240)"
            ],
            [
             0.7,
             "rgb(146,197,222)"
            ],
            [
             0.8,
             "rgb(67,147,195)"
            ],
            [
             0.9,
             "rgb(33,102,172)"
            ],
            [
             1,
             "rgb(5,48,97)"
            ]
           ],
           "sequential": [
            [
             0,
             "#440154"
            ],
            [
             0.1111111111111111,
             "#482878"
            ],
            [
             0.2222222222222222,
             "#3e4989"
            ],
            [
             0.3333333333333333,
             "#31688e"
            ],
            [
             0.4444444444444444,
             "#26828e"
            ],
            [
             0.5555555555555556,
             "#1f9e89"
            ],
            [
             0.6666666666666666,
             "#35b779"
            ],
            [
             0.7777777777777778,
             "#6ece58"
            ],
            [
             0.8888888888888888,
             "#b5de2b"
            ],
            [
             1,
             "#fde725"
            ]
           ],
           "sequentialminus": [
            [
             0,
             "#440154"
            ],
            [
             0.1111111111111111,
             "#482878"
            ],
            [
             0.2222222222222222,
             "#3e4989"
            ],
            [
             0.3333333333333333,
             "#31688e"
            ],
            [
             0.4444444444444444,
             "#26828e"
            ],
            [
             0.5555555555555556,
             "#1f9e89"
            ],
            [
             0.6666666666666666,
             "#35b779"
            ],
            [
             0.7777777777777778,
             "#6ece58"
            ],
            [
             0.8888888888888888,
             "#b5de2b"
            ],
            [
             1,
             "#fde725"
            ]
           ]
          },
          "colorway": [
           "#1F77B4",
           "#FF7F0E",
           "#2CA02C",
           "#D62728",
           "#9467BD",
           "#8C564B",
           "#E377C2",
           "#7F7F7F",
           "#BCBD22",
           "#17BECF"
          ],
          "font": {
           "color": "rgb(36,36,36)"
          },
          "geo": {
           "bgcolor": "white",
           "lakecolor": "white",
           "landcolor": "white",
           "showlakes": true,
           "showland": true,
           "subunitcolor": "white"
          },
          "hoverlabel": {
           "align": "left"
          },
          "hovermode": "closest",
          "legend": {
           "bordercolor": "#e0e0e0",
           "borderwidth": 1,
           "font": {
            "size": 12
           }
          },
          "mapbox": {
           "style": "light"
          },
          "margin": {
           "b": 5,
           "l": 5,
           "r": 5,
           "t": 5
          },
          "paper_bgcolor": "white",
          "plot_bgcolor": "white",
          "polar": {
           "angularaxis": {
            "gridcolor": "rgb(232,232,232)",
            "linecolor": "rgb(36,36,36)",
            "showgrid": false,
            "showline": true,
            "ticks": "outside"
           },
           "bgcolor": "white",
           "radialaxis": {
            "gridcolor": "rgb(232,232,232)",
            "linecolor": "rgb(36,36,36)",
            "showgrid": false,
            "showline": true,
            "ticks": "outside"
           }
          },
          "scene": {
           "xaxis": {
            "backgroundcolor": "white",
            "gridcolor": "rgb(232,232,232)",
            "gridwidth": 2,
            "linecolor": "rgb(36,36,36)",
            "showbackground": true,
            "showgrid": false,
            "showline": true,
            "ticks": "outside",
            "zeroline": false,
            "zerolinecolor": "rgb(36,36,36)"
           },
           "yaxis": {
            "backgroundcolor": "white",
            "gridcolor": "rgb(232,232,232)",
            "gridwidth": 2,
            "linecolor": "rgb(36,36,36)",
            "showbackground": true,
            "showgrid": false,
            "showline": true,
            "ticks": "outside",
            "zeroline": false,
            "zerolinecolor": "rgb(36,36,36)"
           },
           "zaxis": {
            "backgroundcolor": "white",
            "gridcolor": "rgb(232,232,232)",
            "gridwidth": 2,
            "linecolor": "rgb(36,36,36)",
            "showbackground": true,
            "showgrid": false,
            "showline": true,
            "ticks": "outside",
            "zeroline": false,
            "zerolinecolor": "rgb(36,36,36)"
           }
          },
          "shapedefaults": {
           "fillcolor": "black",
           "line": {
            "width": 0
           },
           "opacity": 0.3
          },
          "ternary": {
           "aaxis": {
            "gridcolor": "rgb(232,232,232)",
            "linecolor": "rgb(36,36,36)",
            "showgrid": false,
            "showline": true,
            "ticks": "outside"
           },
           "baxis": {
            "gridcolor": "rgb(232,232,232)",
            "linecolor": "rgb(36,36,36)",
            "showgrid": false,
            "showline": true,
            "ticks": "outside"
           },
           "bgcolor": "white",
           "caxis": {
            "gridcolor": "rgb(232,232,232)",
            "linecolor": "rgb(36,36,36)",
            "showgrid": false,
            "showline": true,
            "ticks": "outside"
           }
          },
          "title": {
           "font": {
            "size": 10
           },
           "x": 0.05
          },
          "xaxis": {
           "automargin": true,
           "gridcolor": "#e0e0e0",
           "linecolor": "#616161",
           "linewidth": 1,
           "mirror": true,
           "showgrid": true,
           "showline": true,
           "tickfont": {
            "size": 10
           },
           "ticks": "outside",
           "title": {
            "font": {
             "size": 12
            },
            "standoff": 5
           },
           "zeroline": false,
           "zerolinecolor": "rgb(36,36,36)"
          },
          "yaxis": {
           "automargin": true,
           "gridcolor": "#e0e0e0",
           "linecolor": "#616161",
           "linewidth": 1,
           "mirror": true,
           "showgrid": true,
           "showline": true,
           "tickfont": {
            "size": 10
           },
           "ticks": "outside",
           "title": {
            "font": {
             "size": 12
            },
            "standoff": 5
           },
           "zeroline": false,
           "zerolinecolor": "rgb(36,36,36)"
          }
         }
        },
        "width": 800,
        "xaxis": {
         "anchor": "y",
         "domain": [
          0,
          1
         ],
         "matches": "x3",
         "showticklabels": false,
         "type": "linear"
        },
        "xaxis2": {
         "anchor": "y2",
         "domain": [
          0,
          1
         ],
         "matches": "x3",
         "showticklabels": false,
         "type": "linear"
        },
        "xaxis3": {
         "anchor": "y3",
         "domain": [
          0,
          1
         ],
         "range": [
          0,
          8.06791353225708
         ],
         "title": {
          "text": "Runtime (s)"
         },
         "type": "linear"
        },
        "yaxis": {
         "anchor": "x",
         "autorange": true,
         "domain": [
          0.6933333333333334,
          1
         ],
         "range": [
          -0.611111111111111,
          3.611111111111111
         ],
         "showticklabels": false,
         "ticks": "",
         "title": {
          "font": {
           "size": 11
          },
          "text": "sequential<br>Overhead = 0.1"
         },
         "type": "linear"
        },
        "yaxis2": {
         "anchor": "x2",
         "autorange": true,
         "domain": [
          0.3466666666666667,
          0.6533333333333333
         ],
         "range": [
          -0.611111111111111,
          3.611111111111111
         ],
         "showticklabels": false,
         "ticks": "",
         "title": {
          "font": {
           "size": 11
          },
          "text": "pipelined<br>Overhead = 0.1"
         },
         "type": "linear"
        },
        "yaxis3": {
         "anchor": "x3",
         "autorange": true,
         "domain": [
          0,
          0.3066666666666667
         ],
         "range": [
          -0.6111111111111112,
          3.611111111111111
         ],
         "showticklabels": false,
         "ticks": "",
         "title": {
          "font": {
           "size": 11
          },
          "text": "pipelined<br>Overhead = 0.5"
         },
         "type": "linear"
        }
       }
      },
      "image/png": "[encoded data removed]",
      "text/html": [
       "<div>                            <div id=\"92adc84f-df4d-4a93-8f10-bce16895e737\" class=\"plotly-graph-div\" style=\"height:350px; width:800px;\"></div>            <script type=\"text/javascript\">                require([\"plotly\"], function(Plotly) {                    window.PLOTLYENV=window.PLOTLYENV || {};                                    if (document.getElementById(\"92adc84f-df4d-4a93-8f10-bce16895e737\")) {                    Plotly.newPlot(                        \"92adc84f-df4d-4a93-8f10-bce16895e737\",                        [{\"fill\":\"toself\",\"fillcolor\":\"rgb(128, 186, 90)\",\"hoverinfo\":\"name\",\"legendgroup\":\"rgb(128, 186, 90)\",\"mode\":\"none\",\"name\":\"submit\",\"showlegend\":true,\"x\":[7.060981750488281,7.06210470199585,7.06210470199585,7.060981750488281,7.060981750488281,6.053415775299072,6.054504871368408,6.054504871368408,6.053415775299072,6.053415775299072,5.0460875034332275,5.047182321548462,5.047182321548462,5.0460875034332275,5.0460875034332275,4.0389323234558105,4.039992094039917,4.039992094039917,4.0389323234558105,4.0389323234558105,3.0315260887145996,3.0326602458953857,3.0326602458953857,3.0315260887145996,3.0315260887145996,2.023613214492798,2.024845600128174,2.024845600128174,2.023613214492798,2.023613214492798,1.0160682201385498,1.017237663269043,1.017237663269043,1.0160682201385498,1.0160682201385498,0.0,0.00958704948425293,0.00958704948425293,0.0],\"y\":[2.6,2.6,3.4,3.4,null,1.6,1.6,2.4,2.4,null,0.6,0.6,1.4,1.4,null,-0.4,-0.4,0.4,0.4,null,2.6,2.6,3.4,3.4,null,1.6,1.6,2.4,2.4,null,0.6,0.6,1.4,1.4,null,-0.4,-0.4,0.4,0.4],\"type\":\"scatter\",\"xaxis\":\"x\",\"yaxis\":\"y\"},{\"fill\":\"toself\",\"fillcolor\":\"rgb(127, 60, 141)\",\"hoverinfo\":\"name\",\"legendgroup\":\"rgb(127, 60, 141)\",\"mode\":\"none\",\"name\":\"overhead\",\"showlegend\":true,\"x\":[7.06210470199585,7.16217041015625,7.16217041015625,7.06210470199585,7.06210470199585,6.054504871368408,6.154570817947388,6.154570817947388,6.054504871368408,6.054504871368408,5.047182321548462,5.147254943847656,5.147254943847656,5.047182321548462,5.047182321548462,4.039992094039917,4.140070676803589,4.140070676803589,4.039992094039917,4.039992094039917,3.0326602458953857,3.1327271461486816,3.1327271461486816,3.0326602458953857,3.0326602458953857,2.024845600128174,2.12492036819458,2.12492036819458,2.024845600128174,2.024845600128174,1.017237663269043,1.1173338890075684,1.1173338890075684,1.017237663269043,1.017237663269043,0.00958704948425293,0.10965943336486816,0.10965943336486816,0.00958704948425293],\"y\":[2.6,2.6,3.4,3.4,null,1.6,1.6,2.4,2.4,null,0.6,0.6,1.4,1.4,null,-0.4,-0.4,0.4,0.4,null,2.6,2.6,3.4,3.4,null,1.6,1.6,2.4,2.4,null,0.6,0.6,1.4,1.4,null,-0.4,-0.4,0.4,0.4],\"type\":\"scatter\",\"xaxis\":\"x\",\"yaxis\":\"y\"},{\"fill\":\"toself\",\"fillcolor\":\"rgb(231, 63, 116)\",\"hoverinfo\":\"name\",\"legendgroup\":\"rgb(231, 63, 116)\",\"mode\":\"none\",\"name\":\"resolve\",\"showlegend\":true,\"x\":[7.16217041015625,7.163575649261475,7.163575649261475,7.16217041015625,7.16217041015625,6.154570817947388,6.155940532684326,6.155940532684326,6.154570817947388,6.154570817947388,5.147254943847656,5.148689031600952,5.148689031600952,5.147254943847656,5.147254943847656,4.140070676803589,4.141535758972168,4.141535758972168,4.140070676803589,4.140070676803589,3.1327271461486816,3.1342620849609375,3.1342620849609375,3.1327271461486816,3.1327271461486816,2.12492036819458,2.126223564147949,2.126223564147949,2.12492036819458,2.12492036819458,1.1173338890075684,1.1186895370483398,1.1186895370483398,1.1173338890075684,1.1173338890075684,0.10965943336486816,0.11116385459899902,0.11116385459899902,0.10965943336486816],\"y\":[2.6,2.6,3.4,3.4,null,1.6,1.6,2.4,2.4,null,0.6,0.6,1.4,1.4,null,-0.4,-0.4,0.4,0.4,null,2.6,2.6,3.4,3.4,null,1.6,1.6,2.4,2.4,null,0.6,0.6,1.4,1.4,null,-0.4,-0.4,0.4,0.4],\"type\":\"scatter\",\"xaxis\":\"x\",\"yaxis\":\"y\"},{\"fill\":\"toself\",\"fillcolor\":\"rgb(17, 165, 121)\",\"hoverinfo\":\"name\",\"legendgroup\":\"rgb(17, 165, 121)\",\"mode\":\"none\",\"name\":\"compute\",\"showlegend\":true,\"x\":[7.163575649261475,8.063639879226685,8.063639879226685,7.163575649261475,7.163575649261475,6.155940532684326,7.055999755859375,7.055999755859375,6.155940532684326,6.155940532684326,5.148689031600952,6.0487587451934814,6.0487587451934814,5.148689031600952,5.148689031600952,4.141535758972168,5.041595220565796,5.041595220565796,4.141535758972168,4.141535758972168,3.1342620849609375,4.034321308135986,4.034321308135986,3.1342620849609375,3.1342620849609375,2.126223564147949,3.026293992996216,3.026293992996216,2.126223564147949,2.126223564147949,1.1186895370483398,2.0187580585479736,2.0187580585479736,1.1186895370483398,1.1186895370483398,0.11116385459899902,1.0112483501434326,1.0112483501434326,0.11116385459899902],\"y\":[2.6,2.6,3.4,3.4,null,1.6,1.6,2.4,2.4,null,0.6,0.6,1.4,1.4,null,-0.4,-0.4,0.4,0.4,null,2.6,2.6,3.4,3.4,null,1.6,1.6,2.4,2.4,null,0.6,0.6,1.4,1.4,null,-0.4,-0.4,0.4,0.4],\"type\":\"scatter\",\"xaxis\":\"x\",\"yaxis\":\"y\"},{\"fill\":\"toself\",\"fillcolor\":\"rgb(57, 105, 172)\",\"hoverinfo\":\"name\",\"legendgroup\":\"rgb(57, 105, 172)\",\"mode\":\"none\",\"name\":\"generate\",\"showlegend\":true,\"x\":[8.063639879226685,8.066116571426392,8.066116571426392,8.063639879226685,8.063639879226685,7.055999755859375,7.058741569519043,7.058741569519043,7.055999755859375,7.055999755859375,6.0487587451934814,6.051246881484985,6.051246881484985,6.0487587451934814,6.0487587451934814,5.041595220565796,5.0440099239349365,5.0440099239349365,5.041595220565796,5.041595220565796,4.034321308135986,4.036774635314941,4.036774635314941,4.034321308135986,4.034321308135986,3.026293992996216,3.0292515754699707,3.0292515754699707,3.026293992996216,3.026293992996216,2.0187580585479736,2.021270751953125,2.021270751953125,2.0187580585479736,2.0187580585479736,1.0112483501434326,1.0138144493103027,1.0138144493103027,1.0112483501434326],\"y\":[2.6,2.6,3.4,3.4,null,1.6,1.6,2.4,2.4,null,0.6,0.6,1.4,1.4,null,-0.4,-0.4,0.4,0.4,null,2.6,2.6,3.4,3.4,null,1.6,1.6,2.4,2.4,null,0.6,0.6,1.4,1.4,null,-0.4,-0.4,0.4,0.4],\"type\":\"scatter\",\"xaxis\":\"x\",\"yaxis\":\"y\"},{\"fill\":\"toself\",\"fillcolor\":\"rgb(242, 183, 1)\",\"hoverinfo\":\"name\",\"legendgroup\":\"rgb(242, 183, 1)\",\"mode\":\"none\",\"name\":\"receive\",\"showlegend\":true,\"x\":[8.066116571426392,8.06791353225708,8.06791353225708,8.066116571426392,8.066116571426392,7.058741569519043,7.060607194900513,7.060607194900513,7.058741569519043,7.058741569519043,6.051246881484985,6.053042888641357,6.053042888641357,6.051246881484985,6.051246881484985,5.0440099239349365,5.0457470417022705,5.0457470417022705,5.0440099239349365,5.0440099239349365,4.036774635314941,4.038579940795898,4.038579940795898,4.036774635314941,4.036774635314941,3.0292515754699707,3.0311574935913086,3.0311574935913086,3.0292515754699707,3.0292515754699707,2.021270751953125,2.0232419967651367,2.0232419967651367,2.021270751953125,2.021270751953125,1.0138144493103027,1.0156984329223633,1.0156984329223633,1.0138144493103027],\"y\":[2.6,2.6,3.4,3.4,null,1.6,1.6,2.4,2.4,null,0.6,0.6,1.4,1.4,null,-0.4,-0.4,0.4,0.4,null,2.6,2.6,3.4,3.4,null,1.6,1.6,2.4,2.4,null,0.6,0.6,1.4,1.4,null,-0.4,-0.4,0.4,0.4],\"type\":\"scatter\",\"xaxis\":\"x\",\"yaxis\":\"y\"},{\"legendgroup\":\"rgb(127, 60, 141)\",\"marker\":{\"color\":\"rgb(127, 60, 141)\",\"opacity\":0,\"size\":1},\"mode\":\"markers\",\"name\":\"\",\"showlegend\":false,\"text\":[null,null,null,null,null,null,null,null,null,null,null,null,null,null,null,null],\"x\":[7.06210470199585,7.16217041015625,6.054504871368408,6.154570817947388,5.047182321548462,5.147254943847656,4.039992094039917,4.140070676803589,3.0326602458953857,3.1327271461486816,2.024845600128174,2.12492036819458,1.017237663269043,1.1173338890075684,0.00958704948425293,0.10965943336486816],\"y\":[3,3,2,2,1,1,0,0,3,3,2,2,1,1,0,0],\"type\":\"scatter\",\"xaxis\":\"x\",\"yaxis\":\"y\"},{\"legendgroup\":\"rgb(128, 186, 90)\",\"marker\":{\"color\":\"rgb(128, 186, 90)\",\"opacity\":0,\"size\":1},\"mode\":\"markers\",\"name\":\"\",\"showlegend\":false,\"text\":[null,null,null,null,null,null,null,null,null,null,null,null,null,null,null,null],\"x\":[7.060981750488281,7.06210470199585,6.053415775299072,6.054504871368408,5.0460875034332275,5.047182321548462,4.0389323234558105,4.039992094039917,3.0315260887145996,3.0326602458953857,2.023613214492798,2.024845600128174,1.0160682201385498,1.017237663269043,0.0,0.00958704948425293],\"y\":[3,3,2,2,1,1,0,0,3,3,2,2,1,1,0,0],\"type\":\"scatter\",\"xaxis\":\"x\",\"yaxis\":\"y\"},{\"legendgroup\":\"rgb(17, 165, 121)\",\"marker\":{\"color\":\"rgb(17, 165, 121)\",\"opacity\":0,\"size\":1},\"mode\":\"markers\",\"name\":\"\",\"showlegend\":false,\"text\":[null,null,null,null,null,null,null,null,null,null,null,null,null,null,null,null],\"x\":[7.163575649261475,8.063639879226685,6.155940532684326,7.055999755859375,5.148689031600952,6.0487587451934814,4.141535758972168,5.041595220565796,3.1342620849609375,4.034321308135986,2.126223564147949,3.026293992996216,1.1186895370483398,2.0187580585479736,0.11116385459899902,1.0112483501434326],\"y\":[3,3,2,2,1,1,0,0,3,3,2,2,1,1,0,0],\"type\":\"scatter\",\"xaxis\":\"x\",\"yaxis\":\"y\"},{\"legendgroup\":\"rgb(231, 63, 116)\",\"marker\":{\"color\":\"rgb(231, 63, 116)\",\"opacity\":0,\"size\":1},\"mode\":\"markers\",\"name\":\"\",\"showlegend\":false,\"text\":[null,null,null,null,null,null,null,null,null,null,null,null,null,null,null,null],\"x\":[7.16217041015625,7.163575649261475,6.154570817947388,6.155940532684326,5.147254943847656,5.148689031600952,4.140070676803589,4.141535758972168,3.1327271461486816,3.1342620849609375,2.12492036819458,2.126223564147949,1.1173338890075684,1.1186895370483398,0.10965943336486816,0.11116385459899902],\"y\":[3,3,2,2,1,1,0,0,3,3,2,2,1,1,0,0],\"type\":\"scatter\",\"xaxis\":\"x\",\"yaxis\":\"y\"},{\"legendgroup\":\"rgb(242, 183, 1)\",\"marker\":{\"color\":\"rgb(242, 183, 1)\",\"opacity\":0,\"size\":1},\"mode\":\"markers\",\"name\":\"\",\"showlegend\":false,\"text\":[null,null,null,null,null,null,null,null,null,null,null,null,null,null,null,null],\"x\":[8.066116571426392,8.06791353225708,7.058741569519043,7.060607194900513,6.051246881484985,6.053042888641357,5.0440099239349365,5.0457470417022705,4.036774635314941,4.038579940795898,3.0292515754699707,3.0311574935913086,2.021270751953125,2.0232419967651367,1.0138144493103027,1.0156984329223633],\"y\":[3,3,2,2,1,1,0,0,3,3,2,2,1,1,0,0],\"type\":\"scatter\",\"xaxis\":\"x\",\"yaxis\":\"y\"},{\"legendgroup\":\"rgb(57, 105, 172)\",\"marker\":{\"color\":\"rgb(57, 105, 172)\",\"opacity\":0,\"size\":1},\"mode\":\"markers\",\"name\":\"\",\"showlegend\":false,\"text\":[null,null,null,null,null,null,null,null,null,null,null,null,null,null,null,null],\"x\":[8.063639879226685,8.066116571426392,7.055999755859375,7.058741569519043,6.0487587451934814,6.051246881484985,5.041595220565796,5.0440099239349365,4.034321308135986,4.036774635314941,3.026293992996216,3.0292515754699707,2.0187580585479736,2.021270751953125,1.0112483501434326,1.0138144493103027],\"y\":[3,3,2,2,1,1,0,0,3,3,2,2,1,1,0,0],\"type\":\"scatter\",\"xaxis\":\"x\",\"yaxis\":\"y\"},{\"fill\":\"toself\",\"fillcolor\":\"rgb(128, 186, 90)\",\"hoverinfo\":\"name\",\"legendgroup\":\"rgb(128, 186, 90)\",\"mode\":\"none\",\"name\":\"submit\",\"showlegend\":false,\"x\":[6.3379857540130615,6.339077711105347,6.339077711105347,6.3379857540130615,6.3379857540130615,5.433667182922363,5.4348554611206055,5.4348554611206055,5.433667182922363,5.433667182922363,4.529182195663452,4.530466794967651,4.530466794967651,4.529182195663452,4.529182195663452,3.6236345767974854,3.624962329864502,3.624962329864502,3.6236345767974854,3.6236345767974854,2.7195234298706055,2.720970869064331,2.720970869064331,2.7195234298706055,2.7195234298706055,1.8150272369384766,1.816234827041626,1.816234827041626,1.8150272369384766,1.8150272369384766,0.9006748199462891,0.9017374515533447,0.9017374515533447,0.9006748199462891,0.9006748199462891,0.0,0.008654594421386719,0.008654594421386719,0.0],\"y\":[2.6,2.6,3.4,3.4,null,1.6,1.6,2.4,2.4,null,0.6,0.6,1.4,1.4,null,-0.4,-0.4,0.4,0.4,null,2.6,2.6,3.4,3.4,null,1.6,1.6,2.4,2.4,null,0.6,0.6,1.4,1.4,null,-0.4,-0.4,0.4,0.4],\"type\":\"scatter\",\"xaxis\":\"x2\",\"yaxis\":\"y2\"},{\"fill\":\"toself\",\"fillcolor\":\"rgb(127, 60, 141)\",\"hoverinfo\":\"name\",\"legendgroup\":\"rgb(127, 60, 141)\",\"mode\":\"none\",\"name\":\"overhead\",\"showlegend\":false,\"x\":[6.339077711105347,6.4391539096832275,6.4391539096832275,6.339077711105347,6.339077711105347,5.4348554611206055,5.534924507141113,5.534924507141113,5.4348554611206055,5.4348554611206055,4.530466794967651,4.630542516708374,4.630542516708374,4.530466794967651,4.530466794967651,3.624962329864502,3.7250287532806396,3.7250287532806396,3.624962329864502,3.624962329864502,2.720970869064331,2.8210391998291016,2.8210391998291016,2.720970869064331,2.720970869064331,1.816234827041626,1.916304111480713,1.916304111480713,1.816234827041626,1.816234827041626,0.9017374515533447,1.001784324645996,1.001784324645996,0.9017374515533447,0.9017374515533447,0.008654594421386719,0.10872149467468262,0.10872149467468262,0.008654594421386719],\"y\":[2.6,2.6,3.4,3.4,null,1.6,1.6,2.4,2.4,null,0.6,0.6,1.4,1.4,null,-0.4,-0.4,0.4,0.4,null,2.6,2.6,3.4,3.4,null,1.6,1.6,2.4,2.4,null,0.6,0.6,1.4,1.4,null,-0.4,-0.4,0.4,0.4],\"type\":\"scatter\",\"xaxis\":\"x2\",\"yaxis\":\"y2\"},{\"fill\":\"toself\",\"fillcolor\":\"rgb(231, 63, 116)\",\"hoverinfo\":\"name\",\"legendgroup\":\"rgb(231, 63, 116)\",\"mode\":\"none\",\"name\":\"resolve\",\"showlegend\":false,\"x\":[6.4391539096832275,6.4422125816345215,6.4422125816345215,6.4391539096832275,6.4391539096832275,5.534924507141113,5.537686824798584,5.537686824798584,5.534924507141113,5.534924507141113,4.630542516708374,4.633219242095947,4.633219242095947,4.630542516708374,4.630542516708374,3.7250287532806396,3.72879958152771,3.72879958152771,3.7250287532806396,3.7250287532806396,2.8210391998291016,2.8236887454986572,2.8236887454986572,2.8210391998291016,2.8210391998291016,1.916304111480713,1.9188990592956543,1.9188990592956543,1.916304111480713,1.916304111480713,1.001784324645996,1.0146105289459229,1.0146105289459229,1.001784324645996,1.001784324645996,0.10872149467468262,0.11029529571533203,0.11029529571533203,0.10872149467468262],\"y\":[2.6,2.6,3.4,3.4,null,1.6,1.6,2.4,2.4,null,0.6,0.6,1.4,1.4,null,-0.4,-0.4,0.4,0.4,null,2.6,2.6,3.4,3.4,null,1.6,1.6,2.4,2.4,null,0.6,0.6,1.4,1.4,null,-0.4,-0.4,0.4,0.4],\"type\":\"scatter\",\"xaxis\":\"x2\",\"yaxis\":\"y2\"},{\"fill\":\"toself\",\"fillcolor\":\"rgb(17, 165, 121)\",\"hoverinfo\":\"name\",\"legendgroup\":\"rgb(17, 165, 121)\",\"mode\":\"none\",\"name\":\"compute\",\"showlegend\":false,\"x\":[6.4422125816345215,7.342283248901367,7.342283248901367,6.4422125816345215,6.4422125816345215,5.537686824798584,6.437749624252319,6.437749624252319,5.537686824798584,5.537686824798584,4.633219242095947,5.533299207687378,5.533299207687378,4.633219242095947,4.633219242095947,3.72879958152771,4.628868103027344,4.628868103027344,3.72879958152771,3.72879958152771,2.8236887454986572,3.7237660884857178,3.7237660884857178,2.8236887454986572,2.8236887454986572,1.9188990592956543,2.818990707397461,2.818990707397461,1.9188990592956543,1.9188990592956543,1.0146105289459229,1.9146842956542969,1.9146842956542969,1.0146105289459229,1.0146105289459229,0.11029529571533203,1.0103609561920166,1.0103609561920166,0.11029529571533203],\"y\":[2.6,2.6,3.4,3.4,null,1.6,1.6,2.4,2.4,null,0.6,0.6,1.4,1.4,null,-0.4,-0.4,0.4,0.4,null,2.6,2.6,3.4,3.4,null,1.6,1.6,2.4,2.4,null,0.6,0.6,1.4,1.4,null,-0.4,-0.4,0.4,0.4],\"type\":\"scatter\",\"xaxis\":\"x2\",\"yaxis\":\"y2\"},{\"fill\":\"toself\",\"fillcolor\":\"rgb(57, 105, 172)\",\"hoverinfo\":\"name\",\"legendgroup\":\"rgb(57, 105, 172)\",\"mode\":\"none\",\"name\":\"generate\",\"showlegend\":false,\"x\":[7.342283248901367,7.344804286956787,7.344804286956787,7.342283248901367,7.342283248901367,6.437749624252319,6.4402384757995605,6.4402384757995605,6.437749624252319,6.437749624252319,5.533299207687378,5.53578782081604,5.53578782081604,5.533299207687378,5.533299207687378,4.628868103027344,4.631474018096924,4.631474018096924,4.628868103027344,4.628868103027344,3.7237660884857178,3.726534128189087,3.726534128189087,3.7237660884857178,3.7237660884857178,2.818990707397461,2.8214452266693115,2.8214452266693115,2.818990707397461,2.818990707397461,1.9146842956542969,1.9174315929412842,1.9174315929412842,1.9146842956542969,1.9146842956542969,1.0103609561920166,1.012859582901001,1.012859582901001,1.0103609561920166],\"y\":[2.6,2.6,3.4,3.4,null,1.6,1.6,2.4,2.4,null,0.6,0.6,1.4,1.4,null,-0.4,-0.4,0.4,0.4,null,2.6,2.6,3.4,3.4,null,1.6,1.6,2.4,2.4,null,0.6,0.6,1.4,1.4,null,-0.4,-0.4,0.4,0.4],\"type\":\"scatter\",\"xaxis\":\"x2\",\"yaxis\":\"y2\"},{\"fill\":\"toself\",\"fillcolor\":\"rgb(242, 183, 1)\",\"hoverinfo\":\"name\",\"legendgroup\":\"rgb(242, 183, 1)\",\"mode\":\"none\",\"name\":\"receive\",\"showlegend\":false,\"x\":[7.344804286956787,7.346341848373413,7.346341848373413,7.344804286956787,7.344804286956787,6.4402384757995605,6.455885648727417,6.455885648727417,6.4402384757995605,6.4402384757995605,5.53578782081604,5.5374596118927,5.5374596118927,5.53578782081604,5.53578782081604,4.631474018096924,4.633112907409668,4.633112907409668,4.631474018096924,4.631474018096924,3.726534128189087,3.7285373210906982,3.7285373210906982,3.726534128189087,3.726534128189087,2.8214452266693115,2.822915554046631,2.822915554046631,2.8214452266693115,2.8214452266693115,1.9174315929412842,1.918956995010376,1.918956995010376,1.9174315929412842,1.9174315929412842,1.012859582901001,1.014482021331787,1.014482021331787,1.012859582901001],\"y\":[2.6,2.6,3.4,3.4,null,1.6,1.6,2.4,2.4,null,0.6,0.6,1.4,1.4,null,-0.4,-0.4,0.4,0.4,null,2.6,2.6,3.4,3.4,null,1.6,1.6,2.4,2.4,null,0.6,0.6,1.4,1.4,null,-0.4,-0.4,0.4,0.4],\"type\":\"scatter\",\"xaxis\":\"x2\",\"yaxis\":\"y2\"},{\"legendgroup\":\"rgb(127, 60, 141)\",\"marker\":{\"color\":\"rgb(127, 60, 141)\",\"opacity\":0,\"size\":1},\"mode\":\"markers\",\"name\":\"\",\"showlegend\":false,\"text\":[null,null,null,null,null,null,null,null,null,null,null,null,null,null,null,null],\"x\":[6.339077711105347,6.4391539096832275,5.4348554611206055,5.534924507141113,4.530466794967651,4.630542516708374,3.624962329864502,3.7250287532806396,2.720970869064331,2.8210391998291016,1.816234827041626,1.916304111480713,0.9017374515533447,1.001784324645996,0.008654594421386719,0.10872149467468262],\"y\":[3,3,2,2,1,1,0,0,3,3,2,2,1,1,0,0],\"type\":\"scatter\",\"xaxis\":\"x2\",\"yaxis\":\"y2\"},{\"legendgroup\":\"rgb(128, 186, 90)\",\"marker\":{\"color\":\"rgb(128, 186, 90)\",\"opacity\":0,\"size\":1},\"mode\":\"markers\",\"name\":\"\",\"showlegend\":false,\"text\":[null,null,null,null,null,null,null,null,null,null,null,null,null,null,null,null],\"x\":[6.3379857540130615,6.339077711105347,5.433667182922363,5.4348554611206055,4.529182195663452,4.530466794967651,3.6236345767974854,3.624962329864502,2.7195234298706055,2.720970869064331,1.8150272369384766,1.816234827041626,0.9006748199462891,0.9017374515533447,0.0,0.008654594421386719],\"y\":[3,3,2,2,1,1,0,0,3,3,2,2,1,1,0,0],\"type\":\"scatter\",\"xaxis\":\"x2\",\"yaxis\":\"y2\"},{\"legendgroup\":\"rgb(17, 165, 121)\",\"marker\":{\"color\":\"rgb(17, 165, 121)\",\"opacity\":0,\"size\":1},\"mode\":\"markers\",\"name\":\"\",\"showlegend\":false,\"text\":[null,null,null,null,null,null,null,null,null,null,null,null,null,null,null,null],\"x\":[6.4422125816345215,7.342283248901367,5.537686824798584,6.437749624252319,4.633219242095947,5.533299207687378,3.72879958152771,4.628868103027344,2.8236887454986572,3.7237660884857178,1.9188990592956543,2.818990707397461,1.0146105289459229,1.9146842956542969,0.11029529571533203,1.0103609561920166],\"y\":[3,3,2,2,1,1,0,0,3,3,2,2,1,1,0,0],\"type\":\"scatter\",\"xaxis\":\"x2\",\"yaxis\":\"y2\"},{\"legendgroup\":\"rgb(231, 63, 116)\",\"marker\":{\"color\":\"rgb(231, 63, 116)\",\"opacity\":0,\"size\":1},\"mode\":\"markers\",\"name\":\"\",\"showlegend\":false,\"text\":[null,null,null,null,null,null,null,null,null,null,null,null,null,null,null,null],\"x\":[6.4391539096832275,6.4422125816345215,5.534924507141113,5.537686824798584,4.630542516708374,4.633219242095947,3.7250287532806396,3.72879958152771,2.8210391998291016,2.8236887454986572,1.916304111480713,1.9188990592956543,1.001784324645996,1.0146105289459229,0.10872149467468262,0.11029529571533203],\"y\":[3,3,2,2,1,1,0,0,3,3,2,2,1,1,0,0],\"type\":\"scatter\",\"xaxis\":\"x2\",\"yaxis\":\"y2\"},{\"legendgroup\":\"rgb(242, 183, 1)\",\"marker\":{\"color\":\"rgb(242, 183, 1)\",\"opacity\":0,\"size\":1},\"mode\":\"markers\",\"name\":\"\",\"showlegend\":false,\"text\":[null,null,null,null,null,null,null,null,null,null,null,null,null,null,null,null],\"x\":[7.344804286956787,7.346341848373413,6.4402384757995605,6.455885648727417,5.53578782081604,5.5374596118927,4.631474018096924,4.633112907409668,3.726534128189087,3.7285373210906982,2.8214452266693115,2.822915554046631,1.9174315929412842,1.918956995010376,1.012859582901001,1.014482021331787],\"y\":[3,3,2,2,1,1,0,0,3,3,2,2,1,1,0,0],\"type\":\"scatter\",\"xaxis\":\"x2\",\"yaxis\":\"y2\"},{\"legendgroup\":\"rgb(57, 105, 172)\",\"marker\":{\"color\":\"rgb(57, 105, 172)\",\"opacity\":0,\"size\":1},\"mode\":\"markers\",\"name\":\"\",\"showlegend\":false,\"text\":[null,null,null,null,null,null,null,null,null,null,null,null,null,null,null,null],\"x\":[7.342283248901367,7.344804286956787,6.437749624252319,6.4402384757995605,5.533299207687378,5.53578782081604,4.628868103027344,4.631474018096924,3.7237660884857178,3.726534128189087,2.818990707397461,2.8214452266693115,1.9146842956542969,1.9174315929412842,1.0103609561920166,1.012859582901001],\"y\":[3,3,2,2,1,1,0,0,3,3,2,2,1,1,0,0],\"type\":\"scatter\",\"xaxis\":\"x2\",\"yaxis\":\"y2\"},{\"fill\":\"toself\",\"fillcolor\":\"rgb(128, 186, 90)\",\"hoverinfo\":\"name\",\"legendgroup\":\"rgb(128, 186, 90)\",\"mode\":\"none\",\"name\":\"submit\",\"showlegend\":false,\"x\":[3.542665481567383,3.5499608516693115,3.5499608516693115,3.542665481567383,3.542665481567383,3.038097620010376,3.0456159114837646,3.0456159114837646,3.038097620010376,3.038097620010376,2.5338222980499268,2.5359444618225098,2.5359444618225098,2.5338222980499268,2.5338222980499268,2.024369716644287,2.0315957069396973,2.0315957069396973,2.024369716644287,2.024369716644287,1.5198757648468018,1.527250051498413,1.527250051498413,1.5198757648468018,1.5198757648468018,1.015348196029663,1.0164411067962646,1.0164411067962646,1.015348196029663,1.015348196029663,0.5008492469787598,0.5019617080688477,0.5019617080688477,0.5008492469787598,0.5008492469787598,0.0,0.008807182312011719,0.008807182312011719,0.0],\"y\":[2.6,2.6,3.4,3.4,null,1.6,1.6,2.4,2.4,null,0.6,0.6,1.4,1.4,null,-0.4,-0.4,0.4,0.4,null,2.6,2.6,3.4,3.4,null,1.6,1.6,2.4,2.4,null,0.6,0.6,1.4,1.4,null,-0.4,-0.4,0.4,0.4],\"type\":\"scatter\",\"xaxis\":\"x3\",\"yaxis\":\"y3\"},{\"fill\":\"toself\",\"fillcolor\":\"rgb(127, 60, 141)\",\"hoverinfo\":\"name\",\"legendgroup\":\"rgb(127, 60, 141)\",\"mode\":\"none\",\"name\":\"overhead\",\"showlegend\":false,\"x\":[3.5499608516693115,4.0500335693359375,4.0500335693359375,3.5499608516693115,3.5499608516693115,3.0456159114837646,3.545691728591919,3.545691728591919,3.0456159114837646,3.0456159114837646,2.5359444618225098,3.036018133163452,3.036018133163452,2.5359444618225098,2.5359444618225098,2.0315957069396973,2.53169584274292,2.53169584274292,2.0315957069396973,2.0315957069396973,1.527250051498413,2.0273234844207764,2.0273234844207764,1.527250051498413,1.527250051498413,1.0164411067962646,1.5165159702301025,1.5165159702301025,1.0164411067962646,1.0164411067962646,0.5019617080688477,1.002037763595581,1.002037763595581,0.5019617080688477,0.5019617080688477,0.008807182312011719,0.508875846862793,0.508875846862793,0.008807182312011719],\"y\":[2.6,2.6,3.4,3.4,null,1.6,1.6,2.4,2.4,null,0.6,0.6,1.4,1.4,null,-0.4,-0.4,0.4,0.4,null,2.6,2.6,3.4,3.4,null,1.6,1.6,2.4,2.4,null,0.6,0.6,1.4,1.4,null,-0.4,-0.4,0.4,0.4],\"type\":\"scatter\",\"xaxis\":\"x3\",\"yaxis\":\"y3\"},{\"fill\":\"toself\",\"fillcolor\":\"rgb(231, 63, 116)\",\"hoverinfo\":\"name\",\"legendgroup\":\"rgb(231, 63, 116)\",\"mode\":\"none\",\"name\":\"resolve\",\"showlegend\":false,\"x\":[4.0500335693359375,4.051410675048828,4.051410675048828,4.0500335693359375,4.0500335693359375,3.545691728591919,3.547088384628296,3.547088384628296,3.545691728591919,3.545691728591919,3.036018133163452,3.037752389907837,3.037752389907837,3.036018133163452,3.036018133163452,2.53169584274292,2.5332157611846924,2.5332157611846924,2.53169584274292,2.53169584274292,2.0273234844207764,2.028852701187134,2.028852701187134,2.0273234844207764,2.0273234844207764,1.5165159702301025,1.5191941261291504,1.5191941261291504,1.5165159702301025,1.5165159702301025,1.002037763595581,1.0150716304779053,1.0150716304779053,1.002037763595581,1.002037763595581,0.508875846862793,0.5105545520782471,0.5105545520782471,0.508875846862793],\"y\":[2.6,2.6,3.4,3.4,null,1.6,1.6,2.4,2.4,null,0.6,0.6,1.4,1.4,null,-0.4,-0.4,0.4,0.4,null,2.6,2.6,3.4,3.4,null,1.6,1.6,2.4,2.4,null,0.6,0.6,1.4,1.4,null,-0.4,-0.4,0.4,0.4],\"type\":\"scatter\",\"xaxis\":\"x3\",\"yaxis\":\"y3\"},{\"fill\":\"toself\",\"fillcolor\":\"rgb(17, 165, 121)\",\"hoverinfo\":\"name\",\"legendgroup\":\"rgb(17, 165, 121)\",\"mode\":\"none\",\"name\":\"compute\",\"showlegend\":false,\"x\":[4.051410675048828,4.551480054855347,4.551480054855347,4.051410675048828,4.051410675048828,3.547088384628296,4.047161340713501,4.047161340713501,3.547088384628296,3.547088384628296,3.037752389907837,3.5378332138061523,3.5378332138061523,3.037752389907837,3.037752389907837,2.5332157611846924,3.03328800201416,3.03328800201416,2.5332157611846924,2.5332157611846924,2.028852701187134,2.528921604156494,2.528921604156494,2.028852701187134,2.028852701187134,1.5191941261291504,2.0192651748657227,2.0192651748657227,1.5191941261291504,1.5191941261291504,1.0150716304779053,1.5151457786560059,1.5151457786560059,1.0150716304779053,1.0150716304779053,0.5105545520782471,1.0106191635131836,1.0106191635131836,0.5105545520782471],\"y\":[2.6,2.6,3.4,3.4,null,1.6,1.6,2.4,2.4,null,0.6,0.6,1.4,1.4,null,-0.4,-0.4,0.4,0.4,null,2.6,2.6,3.4,3.4,null,1.6,1.6,2.4,2.4,null,0.6,0.6,1.4,1.4,null,-0.4,-0.4,0.4,0.4],\"type\":\"scatter\",\"xaxis\":\"x3\",\"yaxis\":\"y3\"},{\"fill\":\"toself\",\"fillcolor\":\"rgb(57, 105, 172)\",\"hoverinfo\":\"name\",\"legendgroup\":\"rgb(57, 105, 172)\",\"mode\":\"none\",\"name\":\"generate\",\"showlegend\":false,\"x\":[4.551480054855347,4.553977012634277,4.553977012634277,4.551480054855347,4.551480054855347,4.047161340713501,4.049802541732788,4.049802541732788,4.047161340713501,4.047161340713501,3.5378332138061523,3.540515899658203,3.540515899658203,3.5378332138061523,3.5378332138061523,3.03328800201416,3.0358083248138428,3.0358083248138428,3.03328800201416,3.03328800201416,2.528921604156494,2.5314788818359375,2.5314788818359375,2.528921604156494,2.528921604156494,2.0192651748657227,2.0219645500183105,2.0219645500183105,2.0192651748657227,2.0192651748657227,1.5151457786560059,1.5176751613616943,1.5176751613616943,1.5151457786560059,1.5151457786560059,1.0106191635131836,1.0130531787872314,1.0130531787872314,1.0106191635131836],\"y\":[2.6,2.6,3.4,3.4,null,1.6,1.6,2.4,2.4,null,0.6,0.6,1.4,1.4,null,-0.4,-0.4,0.4,0.4,null,2.6,2.6,3.4,3.4,null,1.6,1.6,2.4,2.4,null,0.6,0.6,1.4,1.4,null,-0.4,-0.4,0.4,0.4],\"type\":\"scatter\",\"xaxis\":\"x3\",\"yaxis\":\"y3\"},{\"fill\":\"toself\",\"fillcolor\":\"rgb(242, 183, 1)\",\"hoverinfo\":\"name\",\"legendgroup\":\"rgb(242, 183, 1)\",\"mode\":\"none\",\"name\":\"receive\",\"showlegend\":false,\"x\":[4.553977012634277,4.555644750595093,4.555644750595093,4.553977012634277,4.553977012634277,4.049802541732788,4.051609039306641,4.051609039306641,4.049802541732788,4.049802541732788,3.540515899658203,3.5421600341796875,3.5421600341796875,3.540515899658203,3.540515899658203,3.0358083248138428,3.0375938415527344,3.0375938415527344,3.0358083248138428,3.0358083248138428,2.5314788818359375,2.533322811126709,2.533322811126709,2.5314788818359375,2.5314788818359375,2.0219645500183105,2.023825168609619,2.023825168609619,2.0219645500183105,2.0219645500183105,1.5176751613616943,1.519369125366211,1.519369125366211,1.5176751613616943,1.5176751613616943,1.0130531787872314,1.0147864818572998,1.0147864818572998,1.0130531787872314],\"y\":[2.6,2.6,3.4,3.4,null,1.6,1.6,2.4,2.4,null,0.6,0.6,1.4,1.4,null,-0.4,-0.4,0.4,0.4,null,2.6,2.6,3.4,3.4,null,1.6,1.6,2.4,2.4,null,0.6,0.6,1.4,1.4,null,-0.4,-0.4,0.4,0.4],\"type\":\"scatter\",\"xaxis\":\"x3\",\"yaxis\":\"y3\"},{\"legendgroup\":\"rgb(127, 60, 141)\",\"marker\":{\"color\":\"rgb(127, 60, 141)\",\"opacity\":0,\"size\":1},\"mode\":\"markers\",\"name\":\"\",\"showlegend\":false,\"text\":[null,null,null,null,null,null,null,null,null,null,null,null,null,null,null,null],\"x\":[3.5499608516693115,4.0500335693359375,3.0456159114837646,3.545691728591919,2.5359444618225098,3.036018133163452,2.0315957069396973,2.53169584274292,1.527250051498413,2.0273234844207764,1.0164411067962646,1.5165159702301025,0.5019617080688477,1.002037763595581,0.008807182312011719,0.508875846862793],\"y\":[3,3,2,2,1,1,0,0,3,3,2,2,1,1,0,0],\"type\":\"scatter\",\"xaxis\":\"x3\",\"yaxis\":\"y3\"},{\"legendgroup\":\"rgb(128, 186, 90)\",\"marker\":{\"color\":\"rgb(128, 186, 90)\",\"opacity\":0,\"size\":1},\"mode\":\"markers\",\"name\":\"\",\"showlegend\":false,\"text\":[null,null,null,null,null,null,null,null,null,null,null,null,null,null,null,null],\"x\":[3.542665481567383,3.5499608516693115,3.038097620010376,3.0456159114837646,2.5338222980499268,2.5359444618225098,2.024369716644287,2.0315957069396973,1.5198757648468018,1.527250051498413,1.015348196029663,1.0164411067962646,0.5008492469787598,0.5019617080688477,0.0,0.008807182312011719],\"y\":[3,3,2,2,1,1,0,0,3,3,2,2,1,1,0,0],\"type\":\"scatter\",\"xaxis\":\"x3\",\"yaxis\":\"y3\"},{\"legendgroup\":\"rgb(17, 165, 121)\",\"marker\":{\"color\":\"rgb(17, 165, 121)\",\"opacity\":0,\"size\":1},\"mode\":\"markers\",\"name\":\"\",\"showlegend\":false,\"text\":[null,null,null,null,null,null,null,null,null,null,null,null,null,null,null,null],\"x\":[4.051410675048828,4.551480054855347,3.547088384628296,4.047161340713501,3.037752389907837,3.5378332138061523,2.5332157611846924,3.03328800201416,2.028852701187134,2.528921604156494,1.5191941261291504,2.0192651748657227,1.0150716304779053,1.5151457786560059,0.5105545520782471,1.0106191635131836],\"y\":[3,3,2,2,1,1,0,0,3,3,2,2,1,1,0,0],\"type\":\"scatter\",\"xaxis\":\"x3\",\"yaxis\":\"y3\"},{\"legendgroup\":\"rgb(231, 63, 116)\",\"marker\":{\"color\":\"rgb(231, 63, 116)\",\"opacity\":0,\"size\":1},\"mode\":\"markers\",\"name\":\"\",\"showlegend\":false,\"text\":[null,null,null,null,null,null,null,null,null,null,null,null,null,null,null,null],\"x\":[4.0500335693359375,4.051410675048828,3.545691728591919,3.547088384628296,3.036018133163452,3.037752389907837,2.53169584274292,2.5332157611846924,2.0273234844207764,2.028852701187134,1.5165159702301025,1.5191941261291504,1.002037763595581,1.0150716304779053,0.508875846862793,0.5105545520782471],\"y\":[3,3,2,2,1,1,0,0,3,3,2,2,1,1,0,0],\"type\":\"scatter\",\"xaxis\":\"x3\",\"yaxis\":\"y3\"},{\"legendgroup\":\"rgb(242, 183, 1)\",\"marker\":{\"color\":\"rgb(242, 183, 1)\",\"opacity\":0,\"size\":1},\"mode\":\"markers\",\"name\":\"\",\"showlegend\":false,\"text\":[null,null,null,null,null,null,null,null,null,null,null,null,null,null,null,null],\"x\":[4.553977012634277,4.555644750595093,4.049802541732788,4.051609039306641,3.540515899658203,3.5421600341796875,3.0358083248138428,3.0375938415527344,2.5314788818359375,2.533322811126709,2.0219645500183105,2.023825168609619,1.5176751613616943,1.519369125366211,1.0130531787872314,1.0147864818572998],\"y\":[3,3,2,2,1,1,0,0,3,3,2,2,1,1,0,0],\"type\":\"scatter\",\"xaxis\":\"x3\",\"yaxis\":\"y3\"},{\"legendgroup\":\"rgb(57, 105, 172)\",\"marker\":{\"color\":\"rgb(57, 105, 172)\",\"opacity\":0,\"size\":1},\"mode\":\"markers\",\"name\":\"\",\"showlegend\":false,\"text\":[null,null,null,null,null,null,null,null,null,null,null,null,null,null,null,null],\"x\":[4.551480054855347,4.553977012634277,4.047161340713501,4.049802541732788,3.5378332138061523,3.540515899658203,3.03328800201416,3.0358083248138428,2.528921604156494,2.5314788818359375,2.0192651748657227,2.0219645500183105,1.5151457786560059,1.5176751613616943,1.0106191635131836,1.0130531787872314],\"y\":[3,3,2,2,1,1,0,0,3,3,2,2,1,1,0,0],\"type\":\"scatter\",\"xaxis\":\"x3\",\"yaxis\":\"y3\"}],                        {\"template\":{\"data\":{\"barpolar\":[{\"marker\":{\"line\":{\"color\":\"white\",\"width\":0.5},\"pattern\":{\"fillmode\":\"overlay\",\"size\":10,\"solidity\":0.2}},\"type\":\"barpolar\"}],\"bar\":[{\"error_x\":{\"color\":\"rgb(36,36,36)\"},\"error_y\":{\"color\":\"rgb(36,36,36)\"},\"marker\":{\"line\":{\"color\":\"white\",\"width\":0.5},\"pattern\":{\"fillmode\":\"overlay\",\"size\":10,\"solidity\":0.2}},\"type\":\"bar\"}],\"carpet\":[{\"aaxis\":{\"endlinecolor\":\"rgb(36,36,36)\",\"gridcolor\":\"white\",\"linecolor\":\"white\",\"minorgridcolor\":\"white\",\"startlinecolor\":\"rgb(36,36,36)\"},\"baxis\":{\"endlinecolor\":\"rgb(36,36,36)\",\"gridcolor\":\"white\",\"linecolor\":\"white\",\"minorgridcolor\":\"white\",\"startlinecolor\":\"rgb(36,36,36)\"},\"type\":\"carpet\"}],\"choropleth\":[{\"colorbar\":{\"outlinewidth\":1,\"tickcolor\":\"rgb(36,36,36)\",\"ticks\":\"outside\"},\"type\":\"choropleth\"}],\"contourcarpet\":[{\"colorbar\":{\"outlinewidth\":1,\"tickcolor\":\"rgb(36,36,36)\",\"ticks\":\"outside\"},\"type\":\"contourcarpet\"}],\"contour\":[{\"colorbar\":{\"outlinewidth\":1,\"tickcolor\":\"rgb(36,36,36)\",\"ticks\":\"outside\"},\"colorscale\":[[0.0,\"#440154\"],[0.1111111111111111,\"#482878\"],[0.2222222222222222,\"#3e4989\"],[0.3333333333333333,\"#31688e\"],[0.4444444444444444,\"#26828e\"],[0.5555555555555556,\"#1f9e89\"],[0.6666666666666666,\"#35b779\"],[0.7777777777777778,\"#6ece58\"],[0.8888888888888888,\"#b5de2b\"],[1.0,\"#fde725\"]],\"type\":\"contour\"}],\"heatmapgl\":[{\"colorbar\":{\"outlinewidth\":1,\"tickcolor\":\"rgb(36,36,36)\",\"ticks\":\"outside\"},\"colorscale\":[[0.0,\"#440154\"],[0.1111111111111111,\"#482878\"],[0.2222222222222222,\"#3e4989\"],[0.3333333333333333,\"#31688e\"],[0.4444444444444444,\"#26828e\"],[0.5555555555555556,\"#1f9e89\"],[0.6666666666666666,\"#35b779\"],[0.7777777777777778,\"#6ece58\"],[0.8888888888888888,\"#b5de2b\"],[1.0,\"#fde725\"]],\"type\":\"heatmapgl\"}],\"heatmap\":[{\"colorbar\":{\"outlinewidth\":1,\"tickcolor\":\"rgb(36,36,36)\",\"ticks\":\"outside\"},\"colorscale\":[[0.0,\"#440154\"],[0.1111111111111111,\"#482878\"],[0.2222222222222222,\"#3e4989\"],[0.3333333333333333,\"#31688e\"],[0.4444444444444444,\"#26828e\"],[0.5555555555555556,\"#1f9e89\"],[0.6666666666666666,\"#35b779\"],[0.7777777777777778,\"#6ece58\"],[0.8888888888888888,\"#b5de2b\"],[1.0,\"#fde725\"]],\"type\":\"heatmap\"}],\"histogram2dcontour\":[{\"colorbar\":{\"outlinewidth\":1,\"tickcolor\":\"rgb(36,36,36)\",\"ticks\":\"outside\"},\"colorscale\":[[0.0,\"#440154\"],[0.1111111111111111,\"#482878\"],[0.2222222222222222,\"#3e4989\"],[0.3333333333333333,\"#31688e\"],[0.4444444444444444,\"#26828e\"],[0.5555555555555556,\"#1f9e89\"],[0.6666666666666666,\"#35b779\"],[0.7777777777777778,\"#6ece58\"],[0.8888888888888888,\"#b5de2b\"],[1.0,\"#fde725\"]],\"type\":\"histogram2dcontour\"}],\"histogram2d\":[{\"colorbar\":{\"outlinewidth\":1,\"tickcolor\":\"rgb(36,36,36)\",\"ticks\":\"outside\"},\"colorscale\":[[0.0,\"#440154\"],[0.1111111111111111,\"#482878\"],[0.2222222222222222,\"#3e4989\"],[0.3333333333333333,\"#31688e\"],[0.4444444444444444,\"#26828e\"],[0.5555555555555556,\"#1f9e89\"],[0.6666666666666666,\"#35b779\"],[0.7777777777777778,\"#6ece58\"],[0.8888888888888888,\"#b5de2b\"],[1.0,\"#fde725\"]],\"type\":\"histogram2d\"}],\"histogram\":[{\"marker\":{\"line\":{\"color\":\"white\",\"width\":0.6}},\"type\":\"histogram\"}],\"mesh3d\":[{\"colorbar\":{\"outlinewidth\":1,\"tickcolor\":\"rgb(36,36,36)\",\"ticks\":\"outside\"},\"type\":\"mesh3d\"}],\"parcoords\":[{\"line\":{\"colorbar\":{\"outlinewidth\":1,\"tickcolor\":\"rgb(36,36,36)\",\"ticks\":\"outside\"}},\"type\":\"parcoords\"}],\"pie\":[{\"automargin\":true,\"type\":\"pie\"}],\"scatter3d\":[{\"line\":{\"colorbar\":{\"outlinewidth\":1,\"tickcolor\":\"rgb(36,36,36)\",\"ticks\":\"outside\"}},\"marker\":{\"colorbar\":{\"outlinewidth\":1,\"tickcolor\":\"rgb(36,36,36)\",\"ticks\":\"outside\"}},\"type\":\"scatter3d\"}],\"scattercarpet\":[{\"marker\":{\"colorbar\":{\"outlinewidth\":1,\"tickcolor\":\"rgb(36,36,36)\",\"ticks\":\"outside\"}},\"type\":\"scattercarpet\"}],\"scattergeo\":[{\"marker\":{\"colorbar\":{\"outlinewidth\":1,\"tickcolor\":\"rgb(36,36,36)\",\"ticks\":\"outside\"}},\"type\":\"scattergeo\"}],\"scattergl\":[{\"marker\":{\"colorbar\":{\"outlinewidth\":1,\"tickcolor\":\"rgb(36,36,36)\",\"ticks\":\"outside\"}},\"type\":\"scattergl\"}],\"scattermapbox\":[{\"marker\":{\"colorbar\":{\"outlinewidth\":1,\"tickcolor\":\"rgb(36,36,36)\",\"ticks\":\"outside\"}},\"type\":\"scattermapbox\"}],\"scatterpolargl\":[{\"marker\":{\"colorbar\":{\"outlinewidth\":1,\"tickcolor\":\"rgb(36,36,36)\",\"ticks\":\"outside\"}},\"type\":\"scatterpolargl\"}],\"scatterpolar\":[{\"marker\":{\"colorbar\":{\"outlinewidth\":1,\"tickcolor\":\"rgb(36,36,36)\",\"ticks\":\"outside\"}},\"type\":\"scatterpolar\"}],\"scatter\":[{\"fillpattern\":{\"fillmode\":\"overlay\",\"size\":10,\"solidity\":0.2},\"type\":\"scatter\"}],\"scatterternary\":[{\"marker\":{\"colorbar\":{\"outlinewidth\":1,\"tickcolor\":\"rgb(36,36,36)\",\"ticks\":\"outside\"}},\"type\":\"scatterternary\"}],\"surface\":[{\"colorbar\":{\"outlinewidth\":1,\"tickcolor\":\"rgb(36,36,36)\",\"ticks\":\"outside\"},\"colorscale\":[[0.0,\"#440154\"],[0.1111111111111111,\"#482878\"],[0.2222222222222222,\"#3e4989\"],[0.3333333333333333,\"#31688e\"],[0.4444444444444444,\"#26828e\"],[0.5555555555555556,\"#1f9e89\"],[0.6666666666666666,\"#35b779\"],[0.7777777777777778,\"#6ece58\"],[0.8888888888888888,\"#b5de2b\"],[1.0,\"#fde725\"]],\"type\":\"surface\"}],\"table\":[{\"cells\":{\"fill\":{\"color\":\"rgb(237,237,237)\"},\"line\":{\"color\":\"white\"}},\"header\":{\"fill\":{\"color\":\"rgb(217,217,217)\"},\"line\":{\"color\":\"white\"}},\"type\":\"table\"}]},\"layout\":{\"annotationdefaults\":{\"arrowhead\":0,\"arrowwidth\":1},\"autotypenumbers\":\"strict\",\"coloraxis\":{\"colorbar\":{\"outlinewidth\":1,\"tickcolor\":\"rgb(36,36,36)\",\"ticks\":\"outside\"}},\"colorscale\":{\"diverging\":[[0.0,\"rgb(103,0,31)\"],[0.1,\"rgb(178,24,43)\"],[0.2,\"rgb(214,96,77)\"],[0.3,\"rgb(244,165,130)\"],[0.4,\"rgb(253,219,199)\"],[0.5,\"rgb(247,247,247)\"],[0.6,\"rgb(209,229,240)\"],[0.7,\"rgb(146,197,222)\"],[0.8,\"rgb(67,147,195)\"],[0.9,\"rgb(33,102,172)\"],[1.0,\"rgb(5,48,97)\"]],\"sequential\":[[0.0,\"#440154\"],[0.1111111111111111,\"#482878\"],[0.2222222222222222,\"#3e4989\"],[0.3333333333333333,\"#31688e\"],[0.4444444444444444,\"#26828e\"],[0.5555555555555556,\"#1f9e89\"],[0.6666666666666666,\"#35b779\"],[0.7777777777777778,\"#6ece58\"],[0.8888888888888888,\"#b5de2b\"],[1.0,\"#fde725\"]],\"sequentialminus\":[[0.0,\"#440154\"],[0.1111111111111111,\"#482878\"],[0.2222222222222222,\"#3e4989\"],[0.3333333333333333,\"#31688e\"],[0.4444444444444444,\"#26828e\"],[0.5555555555555556,\"#1f9e89\"],[0.6666666666666666,\"#35b779\"],[0.7777777777777778,\"#6ece58\"],[0.8888888888888888,\"#b5de2b\"],[1.0,\"#fde725\"]]},\"colorway\":[\"#1F77B4\",\"#FF7F0E\",\"#2CA02C\",\"#D62728\",\"#9467BD\",\"#8C564B\",\"#E377C2\",\"#7F7F7F\",\"#BCBD22\",\"#17BECF\"],\"font\":{\"color\":\"rgb(36,36,36)\"},\"geo\":{\"bgcolor\":\"white\",\"lakecolor\":\"white\",\"landcolor\":\"white\",\"showlakes\":true,\"showland\":true,\"subunitcolor\":\"white\"},\"hoverlabel\":{\"align\":\"left\"},\"hovermode\":\"closest\",\"legend\":{\"bordercolor\":\"#e0e0e0\",\"borderwidth\":1,\"font\":{\"size\":12}},\"mapbox\":{\"style\":\"light\"},\"margin\":{\"b\":5,\"l\":5,\"r\":5,\"t\":5},\"paper_bgcolor\":\"white\",\"plot_bgcolor\":\"white\",\"polar\":{\"angularaxis\":{\"gridcolor\":\"rgb(232,232,232)\",\"linecolor\":\"rgb(36,36,36)\",\"showgrid\":false,\"showline\":true,\"ticks\":\"outside\"},\"bgcolor\":\"white\",\"radialaxis\":{\"gridcolor\":\"rgb(232,232,232)\",\"linecolor\":\"rgb(36,36,36)\",\"showgrid\":false,\"showline\":true,\"ticks\":\"outside\"}},\"scene\":{\"xaxis\":{\"backgroundcolor\":\"white\",\"gridcolor\":\"rgb(232,232,232)\",\"gridwidth\":2,\"linecolor\":\"rgb(36,36,36)\",\"showbackground\":true,\"showgrid\":false,\"showline\":true,\"ticks\":\"outside\",\"zeroline\":false,\"zerolinecolor\":\"rgb(36,36,36)\"},\"yaxis\":{\"backgroundcolor\":\"white\",\"gridcolor\":\"rgb(232,232,232)\",\"gridwidth\":2,\"linecolor\":\"rgb(36,36,36)\",\"showbackground\":true,\"showgrid\":false,\"showline\":true,\"ticks\":\"outside\",\"zeroline\":false,\"zerolinecolor\":\"rgb(36,36,36)\"},\"zaxis\":{\"backgroundcolor\":\"white\",\"gridcolor\":\"rgb(232,232,232)\",\"gridwidth\":2,\"linecolor\":\"rgb(36,36,36)\",\"showbackground\":true,\"showgrid\":false,\"showline\":true,\"ticks\":\"outside\",\"zeroline\":false,\"zerolinecolor\":\"rgb(36,36,36)\"}},\"shapedefaults\":{\"fillcolor\":\"black\",\"line\":{\"width\":0},\"opacity\":0.3},\"ternary\":{\"aaxis\":{\"gridcolor\":\"rgb(232,232,232)\",\"linecolor\":\"rgb(36,36,36)\",\"showgrid\":false,\"showline\":true,\"ticks\":\"outside\"},\"baxis\":{\"gridcolor\":\"rgb(232,232,232)\",\"linecolor\":\"rgb(36,36,36)\",\"showgrid\":false,\"showline\":true,\"ticks\":\"outside\"},\"bgcolor\":\"white\",\"caxis\":{\"gridcolor\":\"rgb(232,232,232)\",\"linecolor\":\"rgb(36,36,36)\",\"showgrid\":false,\"showline\":true,\"ticks\":\"outside\"}},\"title\":{\"font\":{\"size\":10},\"x\":0.05},\"xaxis\":{\"automargin\":true,\"gridcolor\":\"#e0e0e0\",\"linecolor\":\"#616161\",\"linewidth\":1,\"mirror\":true,\"showgrid\":true,\"showline\":true,\"tickfont\":{\"size\":10},\"ticks\":\"outside\",\"title\":{\"font\":{\"size\":12},\"standoff\":5},\"zeroline\":false,\"zerolinecolor\":\"rgb(36,36,36)\"},\"yaxis\":{\"automargin\":true,\"gridcolor\":\"#e0e0e0\",\"linecolor\":\"#616161\",\"linewidth\":1,\"mirror\":true,\"showgrid\":true,\"showline\":true,\"tickfont\":{\"size\":10},\"ticks\":\"outside\",\"title\":{\"font\":{\"size\":12},\"standoff\":5},\"zeroline\":false,\"zerolinecolor\":\"rgb(36,36,36)\"}}},\"xaxis\":{\"anchor\":\"y\",\"domain\":[0.0,1.0],\"matches\":\"x3\",\"showticklabels\":false},\"yaxis\":{\"anchor\":\"x\",\"domain\":[0.6933333333333334,1.0],\"title\":{\"font\":{\"size\":11},\"text\":\"sequential\\u003cbr\\u003eOverhead = 0.1\"},\"showticklabels\":false,\"ticks\":\"\"},\"xaxis2\":{\"anchor\":\"y2\",\"domain\":[0.0,1.0],\"matches\":\"x3\",\"showticklabels\":false},\"yaxis2\":{\"anchor\":\"x2\",\"domain\":[0.3466666666666667,0.6533333333333333],\"title\":{\"font\":{\"size\":11},\"text\":\"pipelined\\u003cbr\\u003eOverhead = 0.1\"},\"showticklabels\":false,\"ticks\":\"\"},\"xaxis3\":{\"anchor\":\"y3\",\"domain\":[0.0,1.0],\"title\":{\"text\":\"Runtime (s)\"},\"range\":[0,8.06791353225708]},\"yaxis3\":{\"anchor\":\"x3\",\"domain\":[0.0,0.3066666666666667],\"title\":{\"font\":{\"size\":11},\"text\":\"pipelined\\u003cbr\\u003eOverhead = 0.5\"},\"showticklabels\":false,\"ticks\":\"\"},\"legend\":{\"yanchor\":\"bottom\",\"y\":0.02,\"xanchor\":\"right\",\"x\":0.99,\"tracegroupgap\":4},\"width\":800,\"height\":350},                        {\"responsive\": true}                    ).then(function(){\n",
       "                            \n",
       "var gd = document.getElementById('92adc84f-df4d-4a93-8f10-bce16895e737');\n",
       "var x = new MutationObserver(function (mutations, observer) {{\n",
       "        var display = window.getComputedStyle(gd).display;\n",
       "        if (!display || display === 'none') {{\n",
       "            console.log([gd, 'removed!']);\n",
       "            Plotly.purge(gd);\n",
       "            observer.disconnect();\n",
       "        }}\n",
       "}});\n",
       "\n",
       "// Listen for the removal of the full notebook cells\n",
       "var notebookContainer = gd.closest('#notebook-container');\n",
       "if (notebookContainer) {{\n",
       "    x.observe(notebookContainer, {childList: true});\n",
       "}}\n",
       "\n",
       "// Listen for the clearing of the current output cell\n",
       "var outputEl = gd.closest('.output');\n",
       "if (outputEl) {{\n",
       "    x.observe(outputEl, {childList: true});\n",
       "}}\n",
       "\n",
       "                        })                };                });            </script>        </div>"
      ]
     },
     "metadata": {},
     "output_type": "display_data"
    }
   ],
   "source": [
    "data = load_data('../data/alderaan/task-pipelining-2024-03-07-10-54-21')\n",
    "\n",
    "layout = dict(width=800, height=350)\n",
    "\n",
    "trend_fig = create_trend_figure(data, layout)\n",
    "timeline_fig = create_timeline_figure(data, layout)\n",
    "\n",
    "trend_fig.show()\n",
    "timeline_fig.show()\n",
    "\n",
    "figure_dir = pathlib.Path('../figures/alderaan/')\n",
    "figure_dir.mkdir(exist_ok=True)\n",
    "\n",
    "trend_fig.write_image(figure_dir / '0-task-pipelining-trend.pdf')\n",
    "timeline_fig.write_image(figure_dir / '0-task-pipelining-timeline.pdf')"
   ]
  },
  {
   "cell_type": "code",
   "execution_count": null,
   "id": "7e883ac2-c743-4cd2-91f1-a28542fa9413",
   "metadata": {},
   "outputs": [],
   "source": []
  }
 ],
 "metadata": {
  "kernelspec": {
   "display_name": "Python 3 (ipykernel)",
   "language": "python",
   "name": "python3"
  },
  "language_info": {
   "codemirror_mode": {
    "name": "ipython",
    "version": 3
   },
   "file_extension": ".py",
   "mimetype": "text/x-python",
   "name": "python",
   "nbconvert_exporter": "python",
   "pygments_lexer": "ipython3",
   "version": "3.11.5"
  }
 },
 "nbformat": 4,
 "nbformat_minor": 5
}
