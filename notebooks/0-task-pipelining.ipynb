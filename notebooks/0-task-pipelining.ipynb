{
 "cells": [
  {
   "cell_type": "code",
   "execution_count": 38,
   "id": "3b371f9b-bdb4-4856-94c8-c6653ebe0211",
   "metadata": {},
   "outputs": [
    {
     "data": {
      "text/plain": [
       "<module 'theme' from '/home/jgpaul/workspace/sc24-proxystore-analysis/notebooks/theme.py'>"
      ]
     },
     "execution_count": 38,
     "metadata": {},
     "output_type": "execute_result"
    }
   ],
   "source": [
    "from __future__ import annotations\n",
    "\n",
    "import importlib\n",
    "import pathlib\n",
    "\n",
    "import plotly.express as px\n",
    "import plotly.figure_factory as ff\n",
    "import plotly.graph_objects as go\n",
    "import polars\n",
    "import theme\n",
    "from plotly.subplots import make_subplots\n",
    "\n",
    "importlib.reload(theme)"
   ]
  },
  {
   "cell_type": "code",
   "execution_count": 34,
   "id": "d89c3c66-db3c-4547-896d-782ac1f0734b",
   "metadata": {
    "scrolled": true
   },
   "outputs": [],
   "source": [
    "def load_data(directory):\n",
    "    data = polars.read_csv(pathlib.Path(directory) / 'results.csv')\n",
    "\n",
    "    data = data.with_columns(\n",
    "        (polars.col('workflow_makespan_ms') / 1000).alias(\n",
    "            'workflow_makespan_s',\n",
    "        ),\n",
    "    )\n",
    "    data = data.with_columns(\n",
    "        polars.when(polars.col('submission_method') == 'sequential')\n",
    "        .then(polars.col('task_sleep') * polars.col('task_chain_length'))\n",
    "        .otherwise(\n",
    "            (1 - polars.col('task_overhead_fraction'))\n",
    "            * polars.col('task_sleep')\n",
    "            * polars.col('task_chain_length'),\n",
    "        )\n",
    "        .alias('limit'),\n",
    "    )\n",
    "\n",
    "    return data"
   ]
  },
  {
   "cell_type": "code",
   "execution_count": 99,
   "id": "b9fa5625-69ed-4224-97e0-eef63c80faf5",
   "metadata": {},
   "outputs": [],
   "source": [
    "def create_trend_figure(data, layout=None):\n",
    "    fig = go.Figure()\n",
    "\n",
    "    data = data.select(\n",
    "        polars.col('submission_method'),\n",
    "        polars.col('task_overhead_fraction'),\n",
    "        polars.col('workflow_makespan_s'),\n",
    "        polars.col('limit'),\n",
    "    )\n",
    "    data = data.group_by('submission_method', 'task_overhead_fraction').agg(\n",
    "        [\n",
    "            polars.col('limit').mean(),\n",
    "            polars.col('workflow_makespan_s')\n",
    "            .mean()\n",
    "            .alias('workflow_makespan_s_mean'),\n",
    "            polars.col('workflow_makespan_s')\n",
    "            .std()\n",
    "            .alias('workflow_makespan_s_std'),\n",
    "        ],\n",
    "    )\n",
    "\n",
    "    colors = px.colors.qualitative.Bold[0:2]\n",
    "    markers = ('circle', 'diamond')\n",
    "\n",
    "    for i, deployment in enumerate(('Sequential', 'Pipelined')):\n",
    "        subdata = data.filter(\n",
    "            polars.col('submission_method') == deployment.lower(),\n",
    "        )\n",
    "\n",
    "        scatter_data = go.Scatter(\n",
    "            x=subdata['task_overhead_fraction'],\n",
    "            y=subdata['workflow_makespan_s_mean'],\n",
    "            # error_y=dict(\n",
    "            #     type='data',\n",
    "            #     array=subdata['workflow_makespan_s_std'],\n",
    "            #     visible=True,\n",
    "            # ),\n",
    "            name=deployment,\n",
    "            line=dict(color=colors[i]),\n",
    "            mode='lines+markers',\n",
    "            marker=dict(symbol=markers[i], size=10),\n",
    "        )\n",
    "        scatter_limit = go.Scatter(\n",
    "            x=subdata['task_overhead_fraction'],\n",
    "            y=subdata['limit'],\n",
    "            name=f'{deployment} Limit',\n",
    "            line=dict(color=colors[i], dash='dash'),\n",
    "            mode='lines',\n",
    "        )\n",
    "\n",
    "        fig.add_trace(scatter_data)\n",
    "        fig.add_trace(scatter_limit)\n",
    "\n",
    "    layout = {} if layout is None else layout\n",
    "    fig.update_layout(\n",
    "        # title={'text': 'Task Pipelining with Futures'},\n",
    "        xaxis_title='Task Overhead Fraction',\n",
    "        yaxis_title='Makespan (s)',\n",
    "        yaxis={'tickformat': '.0f'},\n",
    "        legend=dict(yanchor='bottom', y=0.02, xanchor='left', x=0.01),\n",
    "        template='proxystore',\n",
    "        **layout,\n",
    "    )\n",
    "\n",
    "    return fig"
   ]
  },
  {
   "cell_type": "code",
   "execution_count": 100,
   "id": "b390e73b-457b-4c1e-a47d-e5efa4119daa",
   "metadata": {},
   "outputs": [],
   "source": [
    "def extract_timestamps(data, sections):\n",
    "    assert len(data) == 1\n",
    "\n",
    "    timestamps = data['task_timestamps'].item()\n",
    "    timestamps = timestamps.split(':')\n",
    "    timestamps = [sorted(float(x) for x in t.split('-')) for t in timestamps]\n",
    "    timestamps = sorted(timestamps, key=lambda x: x[0])\n",
    "\n",
    "    start_timestamp = timestamps[0][0]\n",
    "    timestamps = [[v - start_timestamp for v in t] for t in timestamps]\n",
    "\n",
    "    parts = []\n",
    "    for task_index, timestamp in enumerate(timestamps):\n",
    "        assert len(timestamp) == len(sections) + 1\n",
    "        for i, section in enumerate(sections):\n",
    "            start = timestamp[i]\n",
    "            end = timestamp[i + 1]\n",
    "            part = dict(\n",
    "                Task=task_index % 3,\n",
    "                Start=start,\n",
    "                Finish=end,\n",
    "                delta=end - start,\n",
    "                section=section,\n",
    "            )\n",
    "            parts.append(part)\n",
    "\n",
    "    return parts  # polars.DataFrame(parts)\n",
    "\n",
    "\n",
    "def create_timeline_figure(data, layout=None):\n",
    "    sections = (\n",
    "        'submit',\n",
    "        'overhead',\n",
    "        'resolve',\n",
    "        'compute',\n",
    "        'generate',\n",
    "        'receive',\n",
    "    )\n",
    "    sample_types = (\n",
    "        ('sequential', 0.2),\n",
    "        ('pipelined', 0.2),\n",
    "        ('pipelined', 0.5),\n",
    "    )\n",
    "\n",
    "    fig = make_subplots(\n",
    "        cols=1,\n",
    "        rows=len(sample_types),\n",
    "        vertical_spacing=0.04,\n",
    "        shared_xaxes=True,\n",
    "    )\n",
    "\n",
    "    max_x_range = 0\n",
    "    for row, (deployment, overhead) in enumerate(sample_types):\n",
    "        subsamples = data.filter(\n",
    "            polars.col('submission_method') == deployment,\n",
    "        ).filter(polars.col('task_overhead_fraction') == overhead)\n",
    "        subsample = subsamples.sample(1)\n",
    "        timestamps = extract_timestamps(subsample, sections)\n",
    "\n",
    "        timeline_fig = ff.create_gantt(\n",
    "            timestamps,\n",
    "            index_col='section',\n",
    "            show_colorbar=False,\n",
    "            group_tasks=True,\n",
    "            bar_width=0.4,\n",
    "            colors=[px.colors.qualitative.Bold[i] for i in [1, 2, 0, 3, 4, 5]],\n",
    "        )\n",
    "\n",
    "        # Crazy hacks to add traces in right order for legend\n",
    "        traces = list(timeline_fig.data)\n",
    "        for section in sections:\n",
    "            for trace in traces:\n",
    "                if trace.name == section:\n",
    "                    fig.add_trace(trace, row=row + 1, col=1)\n",
    "                    traces.remove(trace)\n",
    "                    break\n",
    "        for trace in traces:\n",
    "            fig.add_trace(trace, row=row + 1, col=1)\n",
    "        fig.update_yaxes(\n",
    "            title_text=f'{deployment.capitalize()}<br>Overhead = {overhead}',\n",
    "            title_font=dict(size=11),\n",
    "            showticklabels=False,\n",
    "            ticks='',\n",
    "            row=row + 1,\n",
    "            col=1,\n",
    "            autorange='reversed',\n",
    "        )\n",
    "        max_x_range = max(max_x_range, timestamps[-1]['Finish'])\n",
    "        if row + 1 == len(sample_types):\n",
    "            fig.update_xaxes(\n",
    "                title_text='Runtime (s)',\n",
    "                range=[0, max_x_range],\n",
    "                row=row + 1,\n",
    "                col=1,\n",
    "            )\n",
    "\n",
    "    fig.update_traces(showlegend=True)\n",
    "    names = set()\n",
    "    fig.for_each_trace(\n",
    "        lambda trace: trace.update(showlegend=False)\n",
    "        if trace.name == '' or trace.name in names\n",
    "        else names.add(trace.name),\n",
    "    )\n",
    "\n",
    "    layout = {} if layout is None else layout\n",
    "    fig.update_layout(\n",
    "        # title={'text': 'Task Pipelining with Futures'},\n",
    "        legend=dict(\n",
    "            yanchor='bottom',\n",
    "            y=0.02,\n",
    "            xanchor='right',\n",
    "            x=0.99,\n",
    "            tracegroupgap=4,\n",
    "        ),\n",
    "        template='proxystore',\n",
    "        **layout,\n",
    "    )\n",
    "\n",
    "    return fig"
   ]
  },
  {
   "cell_type": "markdown",
   "id": "74a16ea7-c015-4a19-85af-621e5111ac7a",
   "metadata": {},
   "source": [
    "## Alderaan Testing Run"
   ]
  },
  {
   "cell_type": "code",
   "execution_count": 101,
   "id": "080f0ed3-2169-44b3-945b-e4ebed7cec10",
   "metadata": {},
   "outputs": [
    {
     "name": "stdout",
     "output_type": "stream",
     "text": [
      "shape: (20, 5)\n",
      "┌───────────────────┬───────────────────────┬───────┬───────────────────────┬──────────────────────┐\n",
      "│ submission_method ┆ task_overhead_fractio ┆ limit ┆ workflow_makespan_s_m ┆ workflow_makespan_s_ │\n",
      "│ ---               ┆ n                     ┆ ---   ┆ ean                   ┆ std                  │\n",
      "│ str               ┆ ---                   ┆ f64   ┆ ---                   ┆ ---                  │\n",
      "│                   ┆ f64                   ┆       ┆ f64                   ┆ f64                  │\n",
      "╞═══════════════════╪═══════════════════════╪═══════╪═══════════════════════╪══════════════════════╡\n",
      "│ sequential        ┆ 0.0                   ┆ 8.0   ┆ 8.250334              ┆ 0.00647              │\n",
      "│ sequential        ┆ 0.5                   ┆ 8.0   ┆ 8.23146               ┆ 0.004656             │\n",
      "│ sequential        ┆ 0.6                   ┆ 8.0   ┆ 8.228359              ┆ 0.007254             │\n",
      "│ pipelined         ┆ 0.6                   ┆ 3.2   ┆ 3.867637              ┆ 0.004626             │\n",
      "│ sequential        ┆ 0.7                   ┆ 8.0   ┆ 8.228264              ┆ 0.00315              │\n",
      "│ …                 ┆ …                     ┆ …     ┆ …                     ┆ …                    │\n",
      "│ pipelined         ┆ 0.0                   ┆ 8.0   ┆ 8.060228              ┆ 0.004692             │\n",
      "│ sequential        ┆ 0.3                   ┆ 8.0   ┆ 8.233965              ┆ 0.003797             │\n",
      "│ pipelined         ┆ 0.8                   ┆ 1.6   ┆ 2.458791              ┆ 0.004513             │\n",
      "│ sequential        ┆ 0.4                   ┆ 8.0   ┆ 8.234598              ┆ 0.003818             │\n",
      "│ pipelined         ┆ 0.9                   ┆ 0.8   ┆ 1.755992              ┆ 0.002332             │\n",
      "└───────────────────┴───────────────────────┴───────┴───────────────────────┴──────────────────────┘\n"
     ]
    },
    {
     "data": {
      "application/vnd.plotly.v1+json": {
       "config": {
        "plotlyServerURL": "https://plot.ly"
       },
       "data": [
        {
         "line": {
          "color": "rgb(127, 60, 141)"
         },
         "marker": {
          "size": 10,
          "symbol": "circle"
         },
         "mode": "lines+markers",
         "name": "Sequential",
         "type": "scatter",
         "x": [
          0,
          0.5,
          0.6,
          0.7,
          0.2,
          0.1,
          0.9,
          0.8,
          0.3,
          0.4
         ],
         "y": [
          8.250334398800002,
          8.231459594399999,
          8.228358735,
          8.2282640926,
          8.2401862146,
          8.2417572372,
          8.2250450646,
          8.228458723200001,
          8.233964636600001,
          8.2345981536
         ]
        },
        {
         "line": {
          "color": "rgb(127, 60, 141)",
          "dash": "dash"
         },
         "mode": "lines",
         "name": "Sequential Limit",
         "type": "scatter",
         "x": [
          0,
          0.5,
          0.6,
          0.7,
          0.2,
          0.1,
          0.9,
          0.8,
          0.3,
          0.4
         ],
         "y": [
          8,
          8,
          8,
          8,
          8,
          8,
          8,
          8,
          8,
          8
         ]
        },
        {
         "line": {
          "color": "rgb(17, 165, 121)"
         },
         "marker": {
          "size": 10,
          "symbol": "diamond"
         },
         "mode": "lines+markers",
         "name": "Pipelined",
         "type": "scatter",
         "x": [
          0.6,
          0.5,
          0.2,
          0.3,
          0.4,
          0.7,
          0.1,
          0,
          0.8,
          0.9
         ],
         "y": [
          3.8676367172,
          4.5675750048,
          6.6572448915999995,
          5.9583467954,
          5.2576136218,
          3.1577884586,
          7.3588175566,
          8.060227901200001,
          2.458790792,
          1.7559919131999997
         ]
        },
        {
         "line": {
          "color": "rgb(17, 165, 121)",
          "dash": "dash"
         },
         "mode": "lines",
         "name": "Pipelined Limit",
         "type": "scatter",
         "x": [
          0.6,
          0.5,
          0.2,
          0.3,
          0.4,
          0.7,
          0.1,
          0,
          0.8,
          0.9
         ],
         "y": [
          3.2,
          4,
          6.4,
          5.6,
          4.8,
          2.4000000000000004,
          7.2,
          8,
          1.5999999999999996,
          0.7999999999999998
         ]
        }
       ],
       "layout": {
        "height": 350,
        "legend": {
         "x": 0.01,
         "xanchor": "left",
         "y": 0.02,
         "yanchor": "bottom"
        },
        "template": {
         "data": {
          "bar": [
           {
            "error_x": {
             "color": "rgb(36,36,36)"
            },
            "error_y": {
             "color": "rgb(36,36,36)"
            },
            "marker": {
             "line": {
              "color": "white",
              "width": 0.5
             },
             "pattern": {
              "fillmode": "overlay",
              "size": 10,
              "solidity": 0.2
             }
            },
            "type": "bar"
           }
          ],
          "barpolar": [
           {
            "marker": {
             "line": {
              "color": "white",
              "width": 0.5
             },
             "pattern": {
              "fillmode": "overlay",
              "size": 10,
              "solidity": 0.2
             }
            },
            "type": "barpolar"
           }
          ],
          "carpet": [
           {
            "aaxis": {
             "endlinecolor": "rgb(36,36,36)",
             "gridcolor": "white",
             "linecolor": "white",
             "minorgridcolor": "white",
             "startlinecolor": "rgb(36,36,36)"
            },
            "baxis": {
             "endlinecolor": "rgb(36,36,36)",
             "gridcolor": "white",
             "linecolor": "white",
             "minorgridcolor": "white",
             "startlinecolor": "rgb(36,36,36)"
            },
            "type": "carpet"
           }
          ],
          "choropleth": [
           {
            "colorbar": {
             "outlinewidth": 1,
             "tickcolor": "rgb(36,36,36)",
             "ticks": "outside"
            },
            "type": "choropleth"
           }
          ],
          "contour": [
           {
            "colorbar": {
             "outlinewidth": 1,
             "tickcolor": "rgb(36,36,36)",
             "ticks": "outside"
            },
            "colorscale": [
             [
              0,
              "#440154"
             ],
             [
              0.1111111111111111,
              "#482878"
             ],
             [
              0.2222222222222222,
              "#3e4989"
             ],
             [
              0.3333333333333333,
              "#31688e"
             ],
             [
              0.4444444444444444,
              "#26828e"
             ],
             [
              0.5555555555555556,
              "#1f9e89"
             ],
             [
              0.6666666666666666,
              "#35b779"
             ],
             [
              0.7777777777777778,
              "#6ece58"
             ],
             [
              0.8888888888888888,
              "#b5de2b"
             ],
             [
              1,
              "#fde725"
             ]
            ],
            "type": "contour"
           }
          ],
          "contourcarpet": [
           {
            "colorbar": {
             "outlinewidth": 1,
             "tickcolor": "rgb(36,36,36)",
             "ticks": "outside"
            },
            "type": "contourcarpet"
           }
          ],
          "heatmap": [
           {
            "colorbar": {
             "outlinewidth": 1,
             "tickcolor": "rgb(36,36,36)",
             "ticks": "outside"
            },
            "colorscale": [
             [
              0,
              "#440154"
             ],
             [
              0.1111111111111111,
              "#482878"
             ],
             [
              0.2222222222222222,
              "#3e4989"
             ],
             [
              0.3333333333333333,
              "#31688e"
             ],
             [
              0.4444444444444444,
              "#26828e"
             ],
             [
              0.5555555555555556,
              "#1f9e89"
             ],
             [
              0.6666666666666666,
              "#35b779"
             ],
             [
              0.7777777777777778,
              "#6ece58"
             ],
             [
              0.8888888888888888,
              "#b5de2b"
             ],
             [
              1,
              "#fde725"
             ]
            ],
            "type": "heatmap"
           }
          ],
          "heatmapgl": [
           {
            "colorbar": {
             "outlinewidth": 1,
             "tickcolor": "rgb(36,36,36)",
             "ticks": "outside"
            },
            "colorscale": [
             [
              0,
              "#440154"
             ],
             [
              0.1111111111111111,
              "#482878"
             ],
             [
              0.2222222222222222,
              "#3e4989"
             ],
             [
              0.3333333333333333,
              "#31688e"
             ],
             [
              0.4444444444444444,
              "#26828e"
             ],
             [
              0.5555555555555556,
              "#1f9e89"
             ],
             [
              0.6666666666666666,
              "#35b779"
             ],
             [
              0.7777777777777778,
              "#6ece58"
             ],
             [
              0.8888888888888888,
              "#b5de2b"
             ],
             [
              1,
              "#fde725"
             ]
            ],
            "type": "heatmapgl"
           }
          ],
          "histogram": [
           {
            "marker": {
             "line": {
              "color": "white",
              "width": 0.6
             }
            },
            "type": "histogram"
           }
          ],
          "histogram2d": [
           {
            "colorbar": {
             "outlinewidth": 1,
             "tickcolor": "rgb(36,36,36)",
             "ticks": "outside"
            },
            "colorscale": [
             [
              0,
              "#440154"
             ],
             [
              0.1111111111111111,
              "#482878"
             ],
             [
              0.2222222222222222,
              "#3e4989"
             ],
             [
              0.3333333333333333,
              "#31688e"
             ],
             [
              0.4444444444444444,
              "#26828e"
             ],
             [
              0.5555555555555556,
              "#1f9e89"
             ],
             [
              0.6666666666666666,
              "#35b779"
             ],
             [
              0.7777777777777778,
              "#6ece58"
             ],
             [
              0.8888888888888888,
              "#b5de2b"
             ],
             [
              1,
              "#fde725"
             ]
            ],
            "type": "histogram2d"
           }
          ],
          "histogram2dcontour": [
           {
            "colorbar": {
             "outlinewidth": 1,
             "tickcolor": "rgb(36,36,36)",
             "ticks": "outside"
            },
            "colorscale": [
             [
              0,
              "#440154"
             ],
             [
              0.1111111111111111,
              "#482878"
             ],
             [
              0.2222222222222222,
              "#3e4989"
             ],
             [
              0.3333333333333333,
              "#31688e"
             ],
             [
              0.4444444444444444,
              "#26828e"
             ],
             [
              0.5555555555555556,
              "#1f9e89"
             ],
             [
              0.6666666666666666,
              "#35b779"
             ],
             [
              0.7777777777777778,
              "#6ece58"
             ],
             [
              0.8888888888888888,
              "#b5de2b"
             ],
             [
              1,
              "#fde725"
             ]
            ],
            "type": "histogram2dcontour"
           }
          ],
          "mesh3d": [
           {
            "colorbar": {
             "outlinewidth": 1,
             "tickcolor": "rgb(36,36,36)",
             "ticks": "outside"
            },
            "type": "mesh3d"
           }
          ],
          "parcoords": [
           {
            "line": {
             "colorbar": {
              "outlinewidth": 1,
              "tickcolor": "rgb(36,36,36)",
              "ticks": "outside"
             }
            },
            "type": "parcoords"
           }
          ],
          "pie": [
           {
            "automargin": true,
            "type": "pie"
           }
          ],
          "scatter": [
           {
            "fillpattern": {
             "fillmode": "overlay",
             "size": 10,
             "solidity": 0.2
            },
            "type": "scatter"
           }
          ],
          "scatter3d": [
           {
            "line": {
             "colorbar": {
              "outlinewidth": 1,
              "tickcolor": "rgb(36,36,36)",
              "ticks": "outside"
             }
            },
            "marker": {
             "colorbar": {
              "outlinewidth": 1,
              "tickcolor": "rgb(36,36,36)",
              "ticks": "outside"
             }
            },
            "type": "scatter3d"
           }
          ],
          "scattercarpet": [
           {
            "marker": {
             "colorbar": {
              "outlinewidth": 1,
              "tickcolor": "rgb(36,36,36)",
              "ticks": "outside"
             }
            },
            "type": "scattercarpet"
           }
          ],
          "scattergeo": [
           {
            "marker": {
             "colorbar": {
              "outlinewidth": 1,
              "tickcolor": "rgb(36,36,36)",
              "ticks": "outside"
             }
            },
            "type": "scattergeo"
           }
          ],
          "scattergl": [
           {
            "marker": {
             "colorbar": {
              "outlinewidth": 1,
              "tickcolor": "rgb(36,36,36)",
              "ticks": "outside"
             }
            },
            "type": "scattergl"
           }
          ],
          "scattermapbox": [
           {
            "marker": {
             "colorbar": {
              "outlinewidth": 1,
              "tickcolor": "rgb(36,36,36)",
              "ticks": "outside"
             }
            },
            "type": "scattermapbox"
           }
          ],
          "scatterpolar": [
           {
            "marker": {
             "colorbar": {
              "outlinewidth": 1,
              "tickcolor": "rgb(36,36,36)",
              "ticks": "outside"
             }
            },
            "type": "scatterpolar"
           }
          ],
          "scatterpolargl": [
           {
            "marker": {
             "colorbar": {
              "outlinewidth": 1,
              "tickcolor": "rgb(36,36,36)",
              "ticks": "outside"
             }
            },
            "type": "scatterpolargl"
           }
          ],
          "scatterternary": [
           {
            "marker": {
             "colorbar": {
              "outlinewidth": 1,
              "tickcolor": "rgb(36,36,36)",
              "ticks": "outside"
             }
            },
            "type": "scatterternary"
           }
          ],
          "surface": [
           {
            "colorbar": {
             "outlinewidth": 1,
             "tickcolor": "rgb(36,36,36)",
             "ticks": "outside"
            },
            "colorscale": [
             [
              0,
              "#440154"
             ],
             [
              0.1111111111111111,
              "#482878"
             ],
             [
              0.2222222222222222,
              "#3e4989"
             ],
             [
              0.3333333333333333,
              "#31688e"
             ],
             [
              0.4444444444444444,
              "#26828e"
             ],
             [
              0.5555555555555556,
              "#1f9e89"
             ],
             [
              0.6666666666666666,
              "#35b779"
             ],
             [
              0.7777777777777778,
              "#6ece58"
             ],
             [
              0.8888888888888888,
              "#b5de2b"
             ],
             [
              1,
              "#fde725"
             ]
            ],
            "type": "surface"
           }
          ],
          "table": [
           {
            "cells": {
             "fill": {
              "color": "rgb(237,237,237)"
             },
             "line": {
              "color": "white"
             }
            },
            "header": {
             "fill": {
              "color": "rgb(217,217,217)"
             },
             "line": {
              "color": "white"
             }
            },
            "type": "table"
           }
          ]
         },
         "layout": {
          "annotationdefaults": {
           "arrowhead": 0,
           "arrowwidth": 1
          },
          "autotypenumbers": "strict",
          "coloraxis": {
           "colorbar": {
            "outlinewidth": 1,
            "tickcolor": "rgb(36,36,36)",
            "ticks": "outside"
           }
          },
          "colorscale": {
           "diverging": [
            [
             0,
             "rgb(103,0,31)"
            ],
            [
             0.1,
             "rgb(178,24,43)"
            ],
            [
             0.2,
             "rgb(214,96,77)"
            ],
            [
             0.3,
             "rgb(244,165,130)"
            ],
            [
             0.4,
             "rgb(253,219,199)"
            ],
            [
             0.5,
             "rgb(247,247,247)"
            ],
            [
             0.6,
             "rgb(209,229,240)"
            ],
            [
             0.7,
             "rgb(146,197,222)"
            ],
            [
             0.8,
             "rgb(67,147,195)"
            ],
            [
             0.9,
             "rgb(33,102,172)"
            ],
            [
             1,
             "rgb(5,48,97)"
            ]
           ],
           "sequential": [
            [
             0,
             "#440154"
            ],
            [
             0.1111111111111111,
             "#482878"
            ],
            [
             0.2222222222222222,
             "#3e4989"
            ],
            [
             0.3333333333333333,
             "#31688e"
            ],
            [
             0.4444444444444444,
             "#26828e"
            ],
            [
             0.5555555555555556,
             "#1f9e89"
            ],
            [
             0.6666666666666666,
             "#35b779"
            ],
            [
             0.7777777777777778,
             "#6ece58"
            ],
            [
             0.8888888888888888,
             "#b5de2b"
            ],
            [
             1,
             "#fde725"
            ]
           ],
           "sequentialminus": [
            [
             0,
             "#440154"
            ],
            [
             0.1111111111111111,
             "#482878"
            ],
            [
             0.2222222222222222,
             "#3e4989"
            ],
            [
             0.3333333333333333,
             "#31688e"
            ],
            [
             0.4444444444444444,
             "#26828e"
            ],
            [
             0.5555555555555556,
             "#1f9e89"
            ],
            [
             0.6666666666666666,
             "#35b779"
            ],
            [
             0.7777777777777778,
             "#6ece58"
            ],
            [
             0.8888888888888888,
             "#b5de2b"
            ],
            [
             1,
             "#fde725"
            ]
           ]
          },
          "colorway": [
           "#1F77B4",
           "#FF7F0E",
           "#2CA02C",
           "#D62728",
           "#9467BD",
           "#8C564B",
           "#E377C2",
           "#7F7F7F",
           "#BCBD22",
           "#17BECF"
          ],
          "font": {
           "color": "rgb(36,36,36)"
          },
          "geo": {
           "bgcolor": "white",
           "lakecolor": "white",
           "landcolor": "white",
           "showlakes": true,
           "showland": true,
           "subunitcolor": "white"
          },
          "hoverlabel": {
           "align": "left"
          },
          "hovermode": "closest",
          "legend": {
           "bordercolor": "#e0e0e0",
           "borderwidth": 1,
           "font": {
            "size": 12
           }
          },
          "mapbox": {
           "style": "light"
          },
          "margin": {
           "b": 5,
           "l": 5,
           "r": 5,
           "t": 5
          },
          "paper_bgcolor": "white",
          "plot_bgcolor": "white",
          "polar": {
           "angularaxis": {
            "gridcolor": "rgb(232,232,232)",
            "linecolor": "rgb(36,36,36)",
            "showgrid": false,
            "showline": true,
            "ticks": "outside"
           },
           "bgcolor": "white",
           "radialaxis": {
            "gridcolor": "rgb(232,232,232)",
            "linecolor": "rgb(36,36,36)",
            "showgrid": false,
            "showline": true,
            "ticks": "outside"
           }
          },
          "scene": {
           "xaxis": {
            "backgroundcolor": "white",
            "gridcolor": "rgb(232,232,232)",
            "gridwidth": 2,
            "linecolor": "rgb(36,36,36)",
            "showbackground": true,
            "showgrid": false,
            "showline": true,
            "ticks": "outside",
            "zeroline": false,
            "zerolinecolor": "rgb(36,36,36)"
           },
           "yaxis": {
            "backgroundcolor": "white",
            "gridcolor": "rgb(232,232,232)",
            "gridwidth": 2,
            "linecolor": "rgb(36,36,36)",
            "showbackground": true,
            "showgrid": false,
            "showline": true,
            "ticks": "outside",
            "zeroline": false,
            "zerolinecolor": "rgb(36,36,36)"
           },
           "zaxis": {
            "backgroundcolor": "white",
            "gridcolor": "rgb(232,232,232)",
            "gridwidth": 2,
            "linecolor": "rgb(36,36,36)",
            "showbackground": true,
            "showgrid": false,
            "showline": true,
            "ticks": "outside",
            "zeroline": false,
            "zerolinecolor": "rgb(36,36,36)"
           }
          },
          "shapedefaults": {
           "fillcolor": "black",
           "line": {
            "width": 0
           },
           "opacity": 0.3
          },
          "ternary": {
           "aaxis": {
            "gridcolor": "rgb(232,232,232)",
            "linecolor": "rgb(36,36,36)",
            "showgrid": false,
            "showline": true,
            "ticks": "outside"
           },
           "baxis": {
            "gridcolor": "rgb(232,232,232)",
            "linecolor": "rgb(36,36,36)",
            "showgrid": false,
            "showline": true,
            "ticks": "outside"
           },
           "bgcolor": "white",
           "caxis": {
            "gridcolor": "rgb(232,232,232)",
            "linecolor": "rgb(36,36,36)",
            "showgrid": false,
            "showline": true,
            "ticks": "outside"
           }
          },
          "title": {
           "font": {
            "size": 10
           },
           "x": 0.05
          },
          "xaxis": {
           "automargin": true,
           "gridcolor": "#e0e0e0",
           "linecolor": "#616161",
           "linewidth": 1,
           "mirror": true,
           "showgrid": true,
           "showline": true,
           "tickfont": {
            "size": 10
           },
           "ticks": "outside",
           "title": {
            "font": {
             "size": 12
            },
            "standoff": 5
           },
           "zeroline": false,
           "zerolinecolor": "rgb(36,36,36)"
          },
          "yaxis": {
           "automargin": true,
           "gridcolor": "#e0e0e0",
           "linecolor": "#616161",
           "linewidth": 1,
           "mirror": true,
           "showgrid": true,
           "showline": true,
           "tickfont": {
            "size": 10
           },
           "ticks": "outside",
           "title": {
            "font": {
             "size": 12
            },
            "standoff": 5
           },
           "zeroline": false,
           "zerolinecolor": "rgb(36,36,36)"
          }
         }
        },
        "width": 800,
        "xaxis": {
         "autorange": true,
         "range": [
          -0.05929506246281974,
          0.9592950624628198
         ],
         "title": {
          "text": "Task Overhead Fraction"
         },
         "type": "linear"
        },
        "yaxis": {
         "autorange": true,
         "range": [
          0.37648108377618394,
          8.8468594082525
         ],
         "tickformat": ".0f",
         "title": {
          "text": "Makespan (s)"
         },
         "type": "linear"
        }
       }
      },
      "image/png": "[encoded data removed]",
      "text/html": [
       "<div>                            <div id=\"3ac55820-269c-4abf-9f3b-63ba88eab921\" class=\"plotly-graph-div\" style=\"height:350px; width:800px;\"></div>            <script type=\"text/javascript\">                require([\"plotly\"], function(Plotly) {                    window.PLOTLYENV=window.PLOTLYENV || {};                                    if (document.getElementById(\"3ac55820-269c-4abf-9f3b-63ba88eab921\")) {                    Plotly.newPlot(                        \"3ac55820-269c-4abf-9f3b-63ba88eab921\",                        [{\"line\":{\"color\":\"rgb(127, 60, 141)\"},\"marker\":{\"size\":10,\"symbol\":\"circle\"},\"mode\":\"lines+markers\",\"name\":\"Sequential\",\"x\":[0.0,0.5,0.6,0.7,0.2,0.1,0.9,0.8,0.3,0.4],\"y\":[8.250334398800002,8.231459594399999,8.228358735,8.2282640926,8.2401862146,8.2417572372,8.2250450646,8.228458723200001,8.233964636600001,8.2345981536],\"type\":\"scatter\"},{\"line\":{\"color\":\"rgb(127, 60, 141)\",\"dash\":\"dash\"},\"mode\":\"lines\",\"name\":\"Sequential Limit\",\"x\":[0.0,0.5,0.6,0.7,0.2,0.1,0.9,0.8,0.3,0.4],\"y\":[8.0,8.0,8.0,8.0,8.0,8.0,8.0,8.0,8.0,8.0],\"type\":\"scatter\"},{\"line\":{\"color\":\"rgb(17, 165, 121)\"},\"marker\":{\"size\":10,\"symbol\":\"diamond\"},\"mode\":\"lines+markers\",\"name\":\"Pipelined\",\"x\":[0.6,0.5,0.2,0.3,0.4,0.7,0.1,0.0,0.8,0.9],\"y\":[3.8676367172,4.5675750048,6.6572448915999995,5.9583467954,5.2576136218,3.1577884586,7.3588175566,8.060227901200001,2.458790792,1.7559919131999997],\"type\":\"scatter\"},{\"line\":{\"color\":\"rgb(17, 165, 121)\",\"dash\":\"dash\"},\"mode\":\"lines\",\"name\":\"Pipelined Limit\",\"x\":[0.6,0.5,0.2,0.3,0.4,0.7,0.1,0.0,0.8,0.9],\"y\":[3.2,4.0,6.4,5.6,4.8,2.4000000000000004,7.2,8.0,1.5999999999999996,0.7999999999999998],\"type\":\"scatter\"}],                        {\"template\":{\"data\":{\"barpolar\":[{\"marker\":{\"line\":{\"color\":\"white\",\"width\":0.5},\"pattern\":{\"fillmode\":\"overlay\",\"size\":10,\"solidity\":0.2}},\"type\":\"barpolar\"}],\"bar\":[{\"error_x\":{\"color\":\"rgb(36,36,36)\"},\"error_y\":{\"color\":\"rgb(36,36,36)\"},\"marker\":{\"line\":{\"color\":\"white\",\"width\":0.5},\"pattern\":{\"fillmode\":\"overlay\",\"size\":10,\"solidity\":0.2}},\"type\":\"bar\"}],\"carpet\":[{\"aaxis\":{\"endlinecolor\":\"rgb(36,36,36)\",\"gridcolor\":\"white\",\"linecolor\":\"white\",\"minorgridcolor\":\"white\",\"startlinecolor\":\"rgb(36,36,36)\"},\"baxis\":{\"endlinecolor\":\"rgb(36,36,36)\",\"gridcolor\":\"white\",\"linecolor\":\"white\",\"minorgridcolor\":\"white\",\"startlinecolor\":\"rgb(36,36,36)\"},\"type\":\"carpet\"}],\"choropleth\":[{\"colorbar\":{\"outlinewidth\":1,\"tickcolor\":\"rgb(36,36,36)\",\"ticks\":\"outside\"},\"type\":\"choropleth\"}],\"contourcarpet\":[{\"colorbar\":{\"outlinewidth\":1,\"tickcolor\":\"rgb(36,36,36)\",\"ticks\":\"outside\"},\"type\":\"contourcarpet\"}],\"contour\":[{\"colorbar\":{\"outlinewidth\":1,\"tickcolor\":\"rgb(36,36,36)\",\"ticks\":\"outside\"},\"colorscale\":[[0.0,\"#440154\"],[0.1111111111111111,\"#482878\"],[0.2222222222222222,\"#3e4989\"],[0.3333333333333333,\"#31688e\"],[0.4444444444444444,\"#26828e\"],[0.5555555555555556,\"#1f9e89\"],[0.6666666666666666,\"#35b779\"],[0.7777777777777778,\"#6ece58\"],[0.8888888888888888,\"#b5de2b\"],[1.0,\"#fde725\"]],\"type\":\"contour\"}],\"heatmapgl\":[{\"colorbar\":{\"outlinewidth\":1,\"tickcolor\":\"rgb(36,36,36)\",\"ticks\":\"outside\"},\"colorscale\":[[0.0,\"#440154\"],[0.1111111111111111,\"#482878\"],[0.2222222222222222,\"#3e4989\"],[0.3333333333333333,\"#31688e\"],[0.4444444444444444,\"#26828e\"],[0.5555555555555556,\"#1f9e89\"],[0.6666666666666666,\"#35b779\"],[0.7777777777777778,\"#6ece58\"],[0.8888888888888888,\"#b5de2b\"],[1.0,\"#fde725\"]],\"type\":\"heatmapgl\"}],\"heatmap\":[{\"colorbar\":{\"outlinewidth\":1,\"tickcolor\":\"rgb(36,36,36)\",\"ticks\":\"outside\"},\"colorscale\":[[0.0,\"#440154\"],[0.1111111111111111,\"#482878\"],[0.2222222222222222,\"#3e4989\"],[0.3333333333333333,\"#31688e\"],[0.4444444444444444,\"#26828e\"],[0.5555555555555556,\"#1f9e89\"],[0.6666666666666666,\"#35b779\"],[0.7777777777777778,\"#6ece58\"],[0.8888888888888888,\"#b5de2b\"],[1.0,\"#fde725\"]],\"type\":\"heatmap\"}],\"histogram2dcontour\":[{\"colorbar\":{\"outlinewidth\":1,\"tickcolor\":\"rgb(36,36,36)\",\"ticks\":\"outside\"},\"colorscale\":[[0.0,\"#440154\"],[0.1111111111111111,\"#482878\"],[0.2222222222222222,\"#3e4989\"],[0.3333333333333333,\"#31688e\"],[0.4444444444444444,\"#26828e\"],[0.5555555555555556,\"#1f9e89\"],[0.6666666666666666,\"#35b779\"],[0.7777777777777778,\"#6ece58\"],[0.8888888888888888,\"#b5de2b\"],[1.0,\"#fde725\"]],\"type\":\"histogram2dcontour\"}],\"histogram2d\":[{\"colorbar\":{\"outlinewidth\":1,\"tickcolor\":\"rgb(36,36,36)\",\"ticks\":\"outside\"},\"colorscale\":[[0.0,\"#440154\"],[0.1111111111111111,\"#482878\"],[0.2222222222222222,\"#3e4989\"],[0.3333333333333333,\"#31688e\"],[0.4444444444444444,\"#26828e\"],[0.5555555555555556,\"#1f9e89\"],[0.6666666666666666,\"#35b779\"],[0.7777777777777778,\"#6ece58\"],[0.8888888888888888,\"#b5de2b\"],[1.0,\"#fde725\"]],\"type\":\"histogram2d\"}],\"histogram\":[{\"marker\":{\"line\":{\"color\":\"white\",\"width\":0.6}},\"type\":\"histogram\"}],\"mesh3d\":[{\"colorbar\":{\"outlinewidth\":1,\"tickcolor\":\"rgb(36,36,36)\",\"ticks\":\"outside\"},\"type\":\"mesh3d\"}],\"parcoords\":[{\"line\":{\"colorbar\":{\"outlinewidth\":1,\"tickcolor\":\"rgb(36,36,36)\",\"ticks\":\"outside\"}},\"type\":\"parcoords\"}],\"pie\":[{\"automargin\":true,\"type\":\"pie\"}],\"scatter3d\":[{\"line\":{\"colorbar\":{\"outlinewidth\":1,\"tickcolor\":\"rgb(36,36,36)\",\"ticks\":\"outside\"}},\"marker\":{\"colorbar\":{\"outlinewidth\":1,\"tickcolor\":\"rgb(36,36,36)\",\"ticks\":\"outside\"}},\"type\":\"scatter3d\"}],\"scattercarpet\":[{\"marker\":{\"colorbar\":{\"outlinewidth\":1,\"tickcolor\":\"rgb(36,36,36)\",\"ticks\":\"outside\"}},\"type\":\"scattercarpet\"}],\"scattergeo\":[{\"marker\":{\"colorbar\":{\"outlinewidth\":1,\"tickcolor\":\"rgb(36,36,36)\",\"ticks\":\"outside\"}},\"type\":\"scattergeo\"}],\"scattergl\":[{\"marker\":{\"colorbar\":{\"outlinewidth\":1,\"tickcolor\":\"rgb(36,36,36)\",\"ticks\":\"outside\"}},\"type\":\"scattergl\"}],\"scattermapbox\":[{\"marker\":{\"colorbar\":{\"outlinewidth\":1,\"tickcolor\":\"rgb(36,36,36)\",\"ticks\":\"outside\"}},\"type\":\"scattermapbox\"}],\"scatterpolargl\":[{\"marker\":{\"colorbar\":{\"outlinewidth\":1,\"tickcolor\":\"rgb(36,36,36)\",\"ticks\":\"outside\"}},\"type\":\"scatterpolargl\"}],\"scatterpolar\":[{\"marker\":{\"colorbar\":{\"outlinewidth\":1,\"tickcolor\":\"rgb(36,36,36)\",\"ticks\":\"outside\"}},\"type\":\"scatterpolar\"}],\"scatter\":[{\"fillpattern\":{\"fillmode\":\"overlay\",\"size\":10,\"solidity\":0.2},\"type\":\"scatter\"}],\"scatterternary\":[{\"marker\":{\"colorbar\":{\"outlinewidth\":1,\"tickcolor\":\"rgb(36,36,36)\",\"ticks\":\"outside\"}},\"type\":\"scatterternary\"}],\"surface\":[{\"colorbar\":{\"outlinewidth\":1,\"tickcolor\":\"rgb(36,36,36)\",\"ticks\":\"outside\"},\"colorscale\":[[0.0,\"#440154\"],[0.1111111111111111,\"#482878\"],[0.2222222222222222,\"#3e4989\"],[0.3333333333333333,\"#31688e\"],[0.4444444444444444,\"#26828e\"],[0.5555555555555556,\"#1f9e89\"],[0.6666666666666666,\"#35b779\"],[0.7777777777777778,\"#6ece58\"],[0.8888888888888888,\"#b5de2b\"],[1.0,\"#fde725\"]],\"type\":\"surface\"}],\"table\":[{\"cells\":{\"fill\":{\"color\":\"rgb(237,237,237)\"},\"line\":{\"color\":\"white\"}},\"header\":{\"fill\":{\"color\":\"rgb(217,217,217)\"},\"line\":{\"color\":\"white\"}},\"type\":\"table\"}]},\"layout\":{\"annotationdefaults\":{\"arrowhead\":0,\"arrowwidth\":1},\"autotypenumbers\":\"strict\",\"coloraxis\":{\"colorbar\":{\"outlinewidth\":1,\"tickcolor\":\"rgb(36,36,36)\",\"ticks\":\"outside\"}},\"colorscale\":{\"diverging\":[[0.0,\"rgb(103,0,31)\"],[0.1,\"rgb(178,24,43)\"],[0.2,\"rgb(214,96,77)\"],[0.3,\"rgb(244,165,130)\"],[0.4,\"rgb(253,219,199)\"],[0.5,\"rgb(247,247,247)\"],[0.6,\"rgb(209,229,240)\"],[0.7,\"rgb(146,197,222)\"],[0.8,\"rgb(67,147,195)\"],[0.9,\"rgb(33,102,172)\"],[1.0,\"rgb(5,48,97)\"]],\"sequential\":[[0.0,\"#440154\"],[0.1111111111111111,\"#482878\"],[0.2222222222222222,\"#3e4989\"],[0.3333333333333333,\"#31688e\"],[0.4444444444444444,\"#26828e\"],[0.5555555555555556,\"#1f9e89\"],[0.6666666666666666,\"#35b779\"],[0.7777777777777778,\"#6ece58\"],[0.8888888888888888,\"#b5de2b\"],[1.0,\"#fde725\"]],\"sequentialminus\":[[0.0,\"#440154\"],[0.1111111111111111,\"#482878\"],[0.2222222222222222,\"#3e4989\"],[0.3333333333333333,\"#31688e\"],[0.4444444444444444,\"#26828e\"],[0.5555555555555556,\"#1f9e89\"],[0.6666666666666666,\"#35b779\"],[0.7777777777777778,\"#6ece58\"],[0.8888888888888888,\"#b5de2b\"],[1.0,\"#fde725\"]]},\"colorway\":[\"#1F77B4\",\"#FF7F0E\",\"#2CA02C\",\"#D62728\",\"#9467BD\",\"#8C564B\",\"#E377C2\",\"#7F7F7F\",\"#BCBD22\",\"#17BECF\"],\"font\":{\"color\":\"rgb(36,36,36)\"},\"geo\":{\"bgcolor\":\"white\",\"lakecolor\":\"white\",\"landcolor\":\"white\",\"showlakes\":true,\"showland\":true,\"subunitcolor\":\"white\"},\"hoverlabel\":{\"align\":\"left\"},\"hovermode\":\"closest\",\"legend\":{\"bordercolor\":\"#e0e0e0\",\"borderwidth\":1,\"font\":{\"size\":12}},\"mapbox\":{\"style\":\"light\"},\"margin\":{\"b\":5,\"l\":5,\"r\":5,\"t\":5},\"paper_bgcolor\":\"white\",\"plot_bgcolor\":\"white\",\"polar\":{\"angularaxis\":{\"gridcolor\":\"rgb(232,232,232)\",\"linecolor\":\"rgb(36,36,36)\",\"showgrid\":false,\"showline\":true,\"ticks\":\"outside\"},\"bgcolor\":\"white\",\"radialaxis\":{\"gridcolor\":\"rgb(232,232,232)\",\"linecolor\":\"rgb(36,36,36)\",\"showgrid\":false,\"showline\":true,\"ticks\":\"outside\"}},\"scene\":{\"xaxis\":{\"backgroundcolor\":\"white\",\"gridcolor\":\"rgb(232,232,232)\",\"gridwidth\":2,\"linecolor\":\"rgb(36,36,36)\",\"showbackground\":true,\"showgrid\":false,\"showline\":true,\"ticks\":\"outside\",\"zeroline\":false,\"zerolinecolor\":\"rgb(36,36,36)\"},\"yaxis\":{\"backgroundcolor\":\"white\",\"gridcolor\":\"rgb(232,232,232)\",\"gridwidth\":2,\"linecolor\":\"rgb(36,36,36)\",\"showbackground\":true,\"showgrid\":false,\"showline\":true,\"ticks\":\"outside\",\"zeroline\":false,\"zerolinecolor\":\"rgb(36,36,36)\"},\"zaxis\":{\"backgroundcolor\":\"white\",\"gridcolor\":\"rgb(232,232,232)\",\"gridwidth\":2,\"linecolor\":\"rgb(36,36,36)\",\"showbackground\":true,\"showgrid\":false,\"showline\":true,\"ticks\":\"outside\",\"zeroline\":false,\"zerolinecolor\":\"rgb(36,36,36)\"}},\"shapedefaults\":{\"fillcolor\":\"black\",\"line\":{\"width\":0},\"opacity\":0.3},\"ternary\":{\"aaxis\":{\"gridcolor\":\"rgb(232,232,232)\",\"linecolor\":\"rgb(36,36,36)\",\"showgrid\":false,\"showline\":true,\"ticks\":\"outside\"},\"baxis\":{\"gridcolor\":\"rgb(232,232,232)\",\"linecolor\":\"rgb(36,36,36)\",\"showgrid\":false,\"showline\":true,\"ticks\":\"outside\"},\"bgcolor\":\"white\",\"caxis\":{\"gridcolor\":\"rgb(232,232,232)\",\"linecolor\":\"rgb(36,36,36)\",\"showgrid\":false,\"showline\":true,\"ticks\":\"outside\"}},\"title\":{\"font\":{\"size\":10},\"x\":0.05},\"xaxis\":{\"automargin\":true,\"gridcolor\":\"#e0e0e0\",\"linecolor\":\"#616161\",\"linewidth\":1,\"mirror\":true,\"showgrid\":true,\"showline\":true,\"tickfont\":{\"size\":10},\"ticks\":\"outside\",\"title\":{\"font\":{\"size\":12},\"standoff\":5},\"zeroline\":false,\"zerolinecolor\":\"rgb(36,36,36)\"},\"yaxis\":{\"automargin\":true,\"gridcolor\":\"#e0e0e0\",\"linecolor\":\"#616161\",\"linewidth\":1,\"mirror\":true,\"showgrid\":true,\"showline\":true,\"tickfont\":{\"size\":10},\"ticks\":\"outside\",\"title\":{\"font\":{\"size\":12},\"standoff\":5},\"zeroline\":false,\"zerolinecolor\":\"rgb(36,36,36)\"}}},\"yaxis\":{\"title\":{\"text\":\"Makespan (s)\"},\"tickformat\":\".0f\"},\"legend\":{\"yanchor\":\"bottom\",\"y\":0.02,\"xanchor\":\"left\",\"x\":0.01},\"xaxis\":{\"title\":{\"text\":\"Task Overhead Fraction\"}},\"width\":800,\"height\":350},                        {\"responsive\": true}                    ).then(function(){\n",
       "                            \n",
       "var gd = document.getElementById('3ac55820-269c-4abf-9f3b-63ba88eab921');\n",
       "var x = new MutationObserver(function (mutations, observer) {{\n",
       "        var display = window.getComputedStyle(gd).display;\n",
       "        if (!display || display === 'none') {{\n",
       "            console.log([gd, 'removed!']);\n",
       "            Plotly.purge(gd);\n",
       "            observer.disconnect();\n",
       "        }}\n",
       "}});\n",
       "\n",
       "// Listen for the removal of the full notebook cells\n",
       "var notebookContainer = gd.closest('#notebook-container');\n",
       "if (notebookContainer) {{\n",
       "    x.observe(notebookContainer, {childList: true});\n",
       "}}\n",
       "\n",
       "// Listen for the clearing of the current output cell\n",
       "var outputEl = gd.closest('.output');\n",
       "if (outputEl) {{\n",
       "    x.observe(outputEl, {childList: true});\n",
       "}}\n",
       "\n",
       "                        })                };                });            </script>        </div>"
      ]
     },
     "metadata": {},
     "output_type": "display_data"
    },
    {
     "data": {
      "application/vnd.plotly.v1+json": {
       "config": {
        "plotlyServerURL": "https://plot.ly"
       },
       "data": [
        {
         "fill": "toself",
         "fillcolor": "rgb(128, 186, 90)",
         "hoverinfo": "name",
         "legendgroup": "rgb(128, 186, 90)",
         "mode": "none",
         "name": "submit",
         "showlegend": true,
         "type": "scatter",
         "x": [
          0,
          0.0011916160583496094,
          0.0011916160583496094,
          0,
          0,
          1.025754690170288,
          1.027019500732422,
          1.027019500732422,
          1.025754690170288,
          1.025754690170288,
          2.054107666015625,
          2.0551302433013916,
          2.0551302433013916,
          2.054107666015625,
          2.054107666015625,
          3.0794782638549805,
          3.0806331634521484,
          3.0806331634521484,
          3.0794782638549805,
          3.0794782638549805,
          4.106562852859497,
          4.107748508453369,
          4.107748508453369,
          4.106562852859497,
          4.106562852859497,
          5.1318745613098145,
          5.133280277252197,
          5.133280277252197,
          5.1318745613098145,
          5.1318745613098145,
          6.1585328578948975,
          6.159654140472412,
          6.159654140472412,
          6.1585328578948975,
          6.1585328578948975,
          7.184313535690308,
          7.1855151653289795,
          7.1855151653289795,
          7.184313535690308
         ],
         "xaxis": "x",
         "y": [
          1.6,
          1.6,
          2.4,
          2.4,
          null,
          0.6,
          0.6,
          1.4,
          1.4,
          null,
          -0.4,
          -0.4,
          0.4,
          0.4,
          null,
          1.6,
          1.6,
          2.4,
          2.4,
          null,
          0.6,
          0.6,
          1.4,
          1.4,
          null,
          -0.4,
          -0.4,
          0.4,
          0.4,
          null,
          1.6,
          1.6,
          2.4,
          2.4,
          null,
          0.6,
          0.6,
          1.4,
          1.4
         ],
         "yaxis": "y"
        },
        {
         "fill": "toself",
         "fillcolor": "rgb(127, 60, 141)",
         "hoverinfo": "name",
         "legendgroup": "rgb(127, 60, 141)",
         "mode": "none",
         "name": "overhead",
         "showlegend": true,
         "type": "scatter",
         "x": [
          0.0011916160583496094,
          0.20125818252563477,
          0.20125818252563477,
          0.0011916160583496094,
          0.0011916160583496094,
          1.027019500732422,
          1.227083683013916,
          1.227083683013916,
          1.027019500732422,
          1.027019500732422,
          2.0551302433013916,
          2.255214214324951,
          2.255214214324951,
          2.0551302433013916,
          2.0551302433013916,
          3.0806331634521484,
          3.280698537826538,
          3.280698537826538,
          3.0806331634521484,
          3.0806331634521484,
          4.107748508453369,
          4.307816505432129,
          4.307816505432129,
          4.107748508453369,
          4.107748508453369,
          5.133280277252197,
          5.333348751068115,
          5.333348751068115,
          5.133280277252197,
          5.133280277252197,
          6.159654140472412,
          6.359726190567017,
          6.359726190567017,
          6.159654140472412,
          6.159654140472412,
          7.1855151653289795,
          7.385593175888061,
          7.385593175888061,
          7.1855151653289795
         ],
         "xaxis": "x",
         "y": [
          1.6,
          1.6,
          2.4,
          2.4,
          null,
          0.6,
          0.6,
          1.4,
          1.4,
          null,
          -0.4,
          -0.4,
          0.4,
          0.4,
          null,
          1.6,
          1.6,
          2.4,
          2.4,
          null,
          0.6,
          0.6,
          1.4,
          1.4,
          null,
          -0.4,
          -0.4,
          0.4,
          0.4,
          null,
          1.6,
          1.6,
          2.4,
          2.4,
          null,
          0.6,
          0.6,
          1.4,
          1.4
         ],
         "yaxis": "y"
        },
        {
         "fill": "toself",
         "fillcolor": "rgb(231, 63, 116)",
         "hoverinfo": "name",
         "legendgroup": "rgb(231, 63, 116)",
         "mode": "none",
         "name": "resolve",
         "showlegend": true,
         "type": "scatter",
         "x": [
          0.20125818252563477,
          0.21147894859313965,
          0.21147894859313965,
          0.20125818252563477,
          0.20125818252563477,
          1.227083683013916,
          1.2404632568359375,
          1.2404632568359375,
          1.227083683013916,
          1.227083683013916,
          2.255214214324951,
          2.2682840824127197,
          2.2682840824127197,
          2.255214214324951,
          2.255214214324951,
          3.280698537826538,
          3.2945282459259033,
          3.2945282459259033,
          3.280698537826538,
          3.280698537826538,
          4.307816505432129,
          4.317958354949951,
          4.317958354949951,
          4.307816505432129,
          4.307816505432129,
          5.333348751068115,
          5.344037294387817,
          5.344037294387817,
          5.333348751068115,
          5.333348751068115,
          6.359726190567017,
          6.370559930801392,
          6.370559930801392,
          6.359726190567017,
          6.359726190567017,
          7.385593175888061,
          7.395761013031006,
          7.395761013031006,
          7.385593175888061
         ],
         "xaxis": "x",
         "y": [
          1.6,
          1.6,
          2.4,
          2.4,
          null,
          0.6,
          0.6,
          1.4,
          1.4,
          null,
          -0.4,
          -0.4,
          0.4,
          0.4,
          null,
          1.6,
          1.6,
          2.4,
          2.4,
          null,
          0.6,
          0.6,
          1.4,
          1.4,
          null,
          -0.4,
          -0.4,
          0.4,
          0.4,
          null,
          1.6,
          1.6,
          2.4,
          2.4,
          null,
          0.6,
          0.6,
          1.4,
          1.4
         ],
         "yaxis": "y"
        },
        {
         "fill": "toself",
         "fillcolor": "rgb(17, 165, 121)",
         "hoverinfo": "name",
         "legendgroup": "rgb(17, 165, 121)",
         "mode": "none",
         "name": "compute",
         "showlegend": true,
         "type": "scatter",
         "x": [
          0.21147894859313965,
          1.0013206005096436,
          1.0013206005096436,
          0.21147894859313965,
          0.21147894859313965,
          1.2404632568359375,
          2.027143955230713,
          2.027143955230713,
          1.2404632568359375,
          1.2404632568359375,
          2.2682840824127197,
          3.055293083190918,
          3.055293083190918,
          2.2682840824127197,
          2.2682840824127197,
          3.2945282459259033,
          4.080759525299072,
          4.080759525299072,
          3.2945282459259033,
          3.2945282459259033,
          4.317958354949951,
          5.1078855991363525,
          5.1078855991363525,
          4.317958354949951,
          4.317958354949951,
          5.344037294387817,
          6.133410215377808,
          6.133410215377808,
          5.344037294387817,
          5.344037294387817,
          6.370559930801392,
          7.1597900390625,
          7.1597900390625,
          6.370559930801392,
          6.370559930801392,
          7.395761013031006,
          8.185663938522339,
          8.185663938522339,
          7.395761013031006
         ],
         "xaxis": "x",
         "y": [
          1.6,
          1.6,
          2.4,
          2.4,
          null,
          0.6,
          0.6,
          1.4,
          1.4,
          null,
          -0.4,
          -0.4,
          0.4,
          0.4,
          null,
          1.6,
          1.6,
          2.4,
          2.4,
          null,
          0.6,
          0.6,
          1.4,
          1.4,
          null,
          -0.4,
          -0.4,
          0.4,
          0.4,
          null,
          1.6,
          1.6,
          2.4,
          2.4,
          null,
          0.6,
          0.6,
          1.4,
          1.4
         ],
         "yaxis": "y"
        },
        {
         "fill": "toself",
         "fillcolor": "rgb(57, 105, 172)",
         "hoverinfo": "name",
         "legendgroup": "rgb(57, 105, 172)",
         "mode": "none",
         "name": "generate",
         "showlegend": true,
         "type": "scatter",
         "x": [
          1.0013206005096436,
          1.0232620239257812,
          1.0232620239257812,
          1.0013206005096436,
          1.0013206005096436,
          2.027143955230713,
          2.051299810409546,
          2.051299810409546,
          2.027143955230713,
          2.027143955230713,
          3.055293083190918,
          3.0769784450531006,
          3.0769784450531006,
          3.055293083190918,
          3.055293083190918,
          4.080759525299072,
          4.1040589809417725,
          4.1040589809417725,
          4.080759525299072,
          4.080759525299072,
          5.1078855991363525,
          5.129502058029175,
          5.129502058029175,
          5.1078855991363525,
          5.1078855991363525,
          6.133410215377808,
          6.156150817871094,
          6.156150817871094,
          6.133410215377808,
          6.133410215377808,
          7.1597900390625,
          7.181989908218384,
          7.181989908218384,
          7.1597900390625,
          7.1597900390625,
          8.185663938522339,
          8.208261251449585,
          8.208261251449585,
          8.185663938522339
         ],
         "xaxis": "x",
         "y": [
          1.6,
          1.6,
          2.4,
          2.4,
          null,
          0.6,
          0.6,
          1.4,
          1.4,
          null,
          -0.4,
          -0.4,
          0.4,
          0.4,
          null,
          1.6,
          1.6,
          2.4,
          2.4,
          null,
          0.6,
          0.6,
          1.4,
          1.4,
          null,
          -0.4,
          -0.4,
          0.4,
          0.4,
          null,
          1.6,
          1.6,
          2.4,
          2.4,
          null,
          0.6,
          0.6,
          1.4,
          1.4
         ],
         "yaxis": "y"
        },
        {
         "fill": "toself",
         "fillcolor": "rgb(242, 183, 1)",
         "hoverinfo": "name",
         "legendgroup": "rgb(242, 183, 1)",
         "mode": "none",
         "name": "receive",
         "showlegend": true,
         "type": "scatter",
         "x": [
          1.0232620239257812,
          1.0253794193267822,
          1.0253794193267822,
          1.0232620239257812,
          1.0232620239257812,
          2.051299810409546,
          2.053532838821411,
          2.053532838821411,
          2.051299810409546,
          2.051299810409546,
          3.0769784450531006,
          3.0789496898651123,
          3.0789496898651123,
          3.0769784450531006,
          3.0769784450531006,
          4.1040589809417725,
          4.106175422668457,
          4.106175422668457,
          4.1040589809417725,
          4.1040589809417725,
          5.129502058029175,
          5.131500482559204,
          5.131500482559204,
          5.129502058029175,
          5.129502058029175,
          6.156150817871094,
          6.158157587051392,
          6.158157587051392,
          6.156150817871094,
          6.156150817871094,
          7.181989908218384,
          7.18389105796814,
          7.18389105796814,
          7.181989908218384,
          7.181989908218384,
          8.208261251449585,
          8.210195541381836,
          8.210195541381836,
          8.208261251449585
         ],
         "xaxis": "x",
         "y": [
          1.6,
          1.6,
          2.4,
          2.4,
          null,
          0.6,
          0.6,
          1.4,
          1.4,
          null,
          -0.4,
          -0.4,
          0.4,
          0.4,
          null,
          1.6,
          1.6,
          2.4,
          2.4,
          null,
          0.6,
          0.6,
          1.4,
          1.4,
          null,
          -0.4,
          -0.4,
          0.4,
          0.4,
          null,
          1.6,
          1.6,
          2.4,
          2.4,
          null,
          0.6,
          0.6,
          1.4,
          1.4
         ],
         "yaxis": "y"
        },
        {
         "legendgroup": "rgb(127, 60, 141)",
         "marker": {
          "color": "rgb(127, 60, 141)",
          "opacity": 0,
          "size": 1
         },
         "mode": "markers",
         "name": "",
         "showlegend": false,
         "text": [
          null,
          null,
          null,
          null,
          null,
          null,
          null,
          null,
          null,
          null,
          null,
          null,
          null,
          null,
          null,
          null
         ],
         "type": "scatter",
         "x": [
          0.0011916160583496094,
          0.20125818252563477,
          1.027019500732422,
          1.227083683013916,
          2.0551302433013916,
          2.255214214324951,
          3.0806331634521484,
          3.280698537826538,
          4.107748508453369,
          4.307816505432129,
          5.133280277252197,
          5.333348751068115,
          6.159654140472412,
          6.359726190567017,
          7.1855151653289795,
          7.385593175888061
         ],
         "xaxis": "x",
         "y": [
          2,
          2,
          1,
          1,
          0,
          0,
          2,
          2,
          1,
          1,
          0,
          0,
          2,
          2,
          1,
          1
         ],
         "yaxis": "y"
        },
        {
         "legendgroup": "rgb(128, 186, 90)",
         "marker": {
          "color": "rgb(128, 186, 90)",
          "opacity": 0,
          "size": 1
         },
         "mode": "markers",
         "name": "",
         "showlegend": false,
         "text": [
          null,
          null,
          null,
          null,
          null,
          null,
          null,
          null,
          null,
          null,
          null,
          null,
          null,
          null,
          null,
          null
         ],
         "type": "scatter",
         "x": [
          0,
          0.0011916160583496094,
          1.025754690170288,
          1.027019500732422,
          2.054107666015625,
          2.0551302433013916,
          3.0794782638549805,
          3.0806331634521484,
          4.106562852859497,
          4.107748508453369,
          5.1318745613098145,
          5.133280277252197,
          6.1585328578948975,
          6.159654140472412,
          7.184313535690308,
          7.1855151653289795
         ],
         "xaxis": "x",
         "y": [
          2,
          2,
          1,
          1,
          0,
          0,
          2,
          2,
          1,
          1,
          0,
          0,
          2,
          2,
          1,
          1
         ],
         "yaxis": "y"
        },
        {
         "legendgroup": "rgb(17, 165, 121)",
         "marker": {
          "color": "rgb(17, 165, 121)",
          "opacity": 0,
          "size": 1
         },
         "mode": "markers",
         "name": "",
         "showlegend": false,
         "text": [
          null,
          null,
          null,
          null,
          null,
          null,
          null,
          null,
          null,
          null,
          null,
          null,
          null,
          null,
          null,
          null
         ],
         "type": "scatter",
         "x": [
          0.21147894859313965,
          1.0013206005096436,
          1.2404632568359375,
          2.027143955230713,
          2.2682840824127197,
          3.055293083190918,
          3.2945282459259033,
          4.080759525299072,
          4.317958354949951,
          5.1078855991363525,
          5.344037294387817,
          6.133410215377808,
          6.370559930801392,
          7.1597900390625,
          7.395761013031006,
          8.185663938522339
         ],
         "xaxis": "x",
         "y": [
          2,
          2,
          1,
          1,
          0,
          0,
          2,
          2,
          1,
          1,
          0,
          0,
          2,
          2,
          1,
          1
         ],
         "yaxis": "y"
        },
        {
         "legendgroup": "rgb(231, 63, 116)",
         "marker": {
          "color": "rgb(231, 63, 116)",
          "opacity": 0,
          "size": 1
         },
         "mode": "markers",
         "name": "",
         "showlegend": false,
         "text": [
          null,
          null,
          null,
          null,
          null,
          null,
          null,
          null,
          null,
          null,
          null,
          null,
          null,
          null,
          null,
          null
         ],
         "type": "scatter",
         "x": [
          0.20125818252563477,
          0.21147894859313965,
          1.227083683013916,
          1.2404632568359375,
          2.255214214324951,
          2.2682840824127197,
          3.280698537826538,
          3.2945282459259033,
          4.307816505432129,
          4.317958354949951,
          5.333348751068115,
          5.344037294387817,
          6.359726190567017,
          6.370559930801392,
          7.385593175888061,
          7.395761013031006
         ],
         "xaxis": "x",
         "y": [
          2,
          2,
          1,
          1,
          0,
          0,
          2,
          2,
          1,
          1,
          0,
          0,
          2,
          2,
          1,
          1
         ],
         "yaxis": "y"
        },
        {
         "legendgroup": "rgb(242, 183, 1)",
         "marker": {
          "color": "rgb(242, 183, 1)",
          "opacity": 0,
          "size": 1
         },
         "mode": "markers",
         "name": "",
         "showlegend": false,
         "text": [
          null,
          null,
          null,
          null,
          null,
          null,
          null,
          null,
          null,
          null,
          null,
          null,
          null,
          null,
          null,
          null
         ],
         "type": "scatter",
         "x": [
          1.0232620239257812,
          1.0253794193267822,
          2.051299810409546,
          2.053532838821411,
          3.0769784450531006,
          3.0789496898651123,
          4.1040589809417725,
          4.106175422668457,
          5.129502058029175,
          5.131500482559204,
          6.156150817871094,
          6.158157587051392,
          7.181989908218384,
          7.18389105796814,
          8.208261251449585,
          8.210195541381836
         ],
         "xaxis": "x",
         "y": [
          2,
          2,
          1,
          1,
          0,
          0,
          2,
          2,
          1,
          1,
          0,
          0,
          2,
          2,
          1,
          1
         ],
         "yaxis": "y"
        },
        {
         "legendgroup": "rgb(57, 105, 172)",
         "marker": {
          "color": "rgb(57, 105, 172)",
          "opacity": 0,
          "size": 1
         },
         "mode": "markers",
         "name": "",
         "showlegend": false,
         "text": [
          null,
          null,
          null,
          null,
          null,
          null,
          null,
          null,
          null,
          null,
          null,
          null,
          null,
          null,
          null,
          null
         ],
         "type": "scatter",
         "x": [
          1.0013206005096436,
          1.0232620239257812,
          2.027143955230713,
          2.051299810409546,
          3.055293083190918,
          3.0769784450531006,
          4.080759525299072,
          4.1040589809417725,
          5.1078855991363525,
          5.129502058029175,
          6.133410215377808,
          6.156150817871094,
          7.1597900390625,
          7.181989908218384,
          8.185663938522339,
          8.208261251449585
         ],
         "xaxis": "x",
         "y": [
          2,
          2,
          1,
          1,
          0,
          0,
          2,
          2,
          1,
          1,
          0,
          0,
          2,
          2,
          1,
          1
         ],
         "yaxis": "y"
        },
        {
         "fill": "toself",
         "fillcolor": "rgb(128, 186, 90)",
         "hoverinfo": "name",
         "legendgroup": "rgb(128, 186, 90)",
         "mode": "none",
         "name": "submit",
         "showlegend": false,
         "type": "scatter",
         "x": [
          0,
          0.003228902816772461,
          0.003228902816772461,
          0,
          0,
          0.8006770610809326,
          0.8016724586486816,
          0.8016724586486816,
          0.8006770610809326,
          0.8006770610809326,
          1.6011903285980225,
          1.602287769317627,
          1.602287769317627,
          1.6011903285980225,
          1.6011903285980225,
          2.4017062187194824,
          2.403099298477173,
          2.403099298477173,
          2.4017062187194824,
          2.4017062187194824,
          3.202399492263794,
          3.2035868167877197,
          3.2035868167877197,
          3.202399492263794,
          3.202399492263794,
          4.002927541732788,
          4.004007816314697,
          4.004007816314697,
          4.002927541732788,
          4.002927541732788,
          4.803516864776611,
          4.804635047912598,
          4.804635047912598,
          4.803516864776611,
          4.803516864776611,
          5.604028940200806,
          5.605299711227417,
          5.605299711227417,
          5.604028940200806
         ],
         "xaxis": "x2",
         "y": [
          1.6,
          1.6,
          2.4,
          2.4,
          null,
          0.6,
          0.6,
          1.4,
          1.4,
          null,
          -0.4,
          -0.4,
          0.4,
          0.4,
          null,
          1.6,
          1.6,
          2.4,
          2.4,
          null,
          0.6,
          0.6,
          1.4,
          1.4,
          null,
          -0.4,
          -0.4,
          0.4,
          0.4,
          null,
          1.6,
          1.6,
          2.4,
          2.4,
          null,
          0.6,
          0.6,
          1.4,
          1.4
         ],
         "yaxis": "y2"
        },
        {
         "fill": "toself",
         "fillcolor": "rgb(127, 60, 141)",
         "hoverinfo": "name",
         "legendgroup": "rgb(127, 60, 141)",
         "mode": "none",
         "name": "overhead",
         "showlegend": false,
         "type": "scatter",
         "x": [
          0.003228902816772461,
          0.2032935619354248,
          0.2032935619354248,
          0.003228902816772461,
          0.003228902816772461,
          0.8016724586486816,
          1.0017409324645996,
          1.0017409324645996,
          0.8016724586486816,
          0.8016724586486816,
          1.602287769317627,
          1.802349090576172,
          1.802349090576172,
          1.602287769317627,
          1.602287769317627,
          2.403099298477173,
          2.6031689643859863,
          2.6031689643859863,
          2.403099298477173,
          2.403099298477173,
          3.2035868167877197,
          3.4036636352539062,
          3.4036636352539062,
          3.2035868167877197,
          3.2035868167877197,
          4.004007816314697,
          4.204071998596191,
          4.204071998596191,
          4.004007816314697,
          4.004007816314697,
          4.804635047912598,
          5.0047056674957275,
          5.0047056674957275,
          4.804635047912598,
          4.804635047912598,
          5.605299711227417,
          5.805363893508911,
          5.805363893508911,
          5.605299711227417
         ],
         "xaxis": "x2",
         "y": [
          1.6,
          1.6,
          2.4,
          2.4,
          null,
          0.6,
          0.6,
          1.4,
          1.4,
          null,
          -0.4,
          -0.4,
          0.4,
          0.4,
          null,
          1.6,
          1.6,
          2.4,
          2.4,
          null,
          0.6,
          0.6,
          1.4,
          1.4,
          null,
          -0.4,
          -0.4,
          0.4,
          0.4,
          null,
          1.6,
          1.6,
          2.4,
          2.4,
          null,
          0.6,
          0.6,
          1.4,
          1.4
         ],
         "yaxis": "y2"
        },
        {
         "fill": "toself",
         "fillcolor": "rgb(231, 63, 116)",
         "hoverinfo": "name",
         "legendgroup": "rgb(231, 63, 116)",
         "mode": "none",
         "name": "resolve",
         "showlegend": false,
         "type": "scatter",
         "x": [
          0.2032935619354248,
          0.2139182090759277,
          0.2139182090759277,
          0.2032935619354248,
          0.2032935619354248,
          1.0017409324645996,
          1.03590726852417,
          1.03590726852417,
          1.0017409324645996,
          1.0017409324645996,
          1.802349090576172,
          1.836989164352417,
          1.836989164352417,
          1.802349090576172,
          1.802349090576172,
          2.6031689643859863,
          2.634087085723877,
          2.634087085723877,
          2.6031689643859863,
          2.6031689643859863,
          3.4036636352539062,
          3.436781406402588,
          3.436781406402588,
          3.4036636352539062,
          3.4036636352539062,
          4.204071998596191,
          4.239460706710815,
          4.239460706710815,
          4.204071998596191,
          4.204071998596191,
          5.0047056674957275,
          5.037428617477417,
          5.037428617477417,
          5.0047056674957275,
          5.0047056674957275,
          5.805363893508911,
          5.841763496398926,
          5.841763496398926,
          5.805363893508911
         ],
         "xaxis": "x2",
         "y": [
          1.6,
          1.6,
          2.4,
          2.4,
          null,
          0.6,
          0.6,
          1.4,
          1.4,
          null,
          -0.4,
          -0.4,
          0.4,
          0.4,
          null,
          1.6,
          1.6,
          2.4,
          2.4,
          null,
          0.6,
          0.6,
          1.4,
          1.4,
          null,
          -0.4,
          -0.4,
          0.4,
          0.4,
          null,
          1.6,
          1.6,
          2.4,
          2.4,
          null,
          0.6,
          0.6,
          1.4,
          1.4
         ],
         "yaxis": "y2"
        },
        {
         "fill": "toself",
         "fillcolor": "rgb(17, 165, 121)",
         "hoverinfo": "name",
         "legendgroup": "rgb(17, 165, 121)",
         "mode": "none",
         "name": "compute",
         "showlegend": false,
         "type": "scatter",
         "x": [
          0.2139182090759277,
          1.0033528804779053,
          1.0033528804779053,
          0.2139182090759277,
          0.2139182090759277,
          1.03590726852417,
          1.801807641983032,
          1.801807641983032,
          1.03590726852417,
          1.03590726852417,
          1.836989164352417,
          2.602416515350342,
          2.602416515350342,
          1.836989164352417,
          1.836989164352417,
          2.634087085723877,
          3.403234481811523,
          3.403234481811523,
          2.634087085723877,
          2.634087085723877,
          3.436781406402588,
          4.203735828399658,
          4.203735828399658,
          3.436781406402588,
          3.436781406402588,
          4.239460706710815,
          5.004134178161621,
          5.004134178161621,
          4.239460706710815,
          4.239460706710815,
          5.037428617477417,
          5.804765701293945,
          5.804765701293945,
          5.037428617477417,
          5.037428617477417,
          5.841763496398926,
          6.605443716049194,
          6.605443716049194,
          5.841763496398926
         ],
         "xaxis": "x2",
         "y": [
          1.6,
          1.6,
          2.4,
          2.4,
          null,
          0.6,
          0.6,
          1.4,
          1.4,
          null,
          -0.4,
          -0.4,
          0.4,
          0.4,
          null,
          1.6,
          1.6,
          2.4,
          2.4,
          null,
          0.6,
          0.6,
          1.4,
          1.4,
          null,
          -0.4,
          -0.4,
          0.4,
          0.4,
          null,
          1.6,
          1.6,
          2.4,
          2.4,
          null,
          0.6,
          0.6,
          1.4,
          1.4
         ],
         "yaxis": "y2"
        },
        {
         "fill": "toself",
         "fillcolor": "rgb(57, 105, 172)",
         "hoverinfo": "name",
         "legendgroup": "rgb(57, 105, 172)",
         "mode": "none",
         "name": "generate",
         "showlegend": false,
         "type": "scatter",
         "x": [
          1.0033528804779053,
          1.0251977443695068,
          1.0251977443695068,
          1.0033528804779053,
          1.0033528804779053,
          1.801807641983032,
          1.8244645595550537,
          1.8244645595550537,
          1.801807641983032,
          1.801807641983032,
          2.602416515350342,
          2.6238698959350586,
          2.6238698959350586,
          2.602416515350342,
          2.602416515350342,
          3.403234481811523,
          3.4269015789031982,
          3.4269015789031982,
          3.403234481811523,
          3.403234481811523,
          4.203735828399658,
          4.225224494934082,
          4.225224494934082,
          4.203735828399658,
          4.203735828399658,
          5.004134178161621,
          5.026766538619995,
          5.026766538619995,
          5.004134178161621,
          5.004134178161621,
          5.804765701293945,
          5.827421426773071,
          5.827421426773071,
          5.804765701293945,
          5.804765701293945,
          6.605443716049194,
          6.628499984741211,
          6.628499984741211,
          6.605443716049194
         ],
         "xaxis": "x2",
         "y": [
          1.6,
          1.6,
          2.4,
          2.4,
          null,
          0.6,
          0.6,
          1.4,
          1.4,
          null,
          -0.4,
          -0.4,
          0.4,
          0.4,
          null,
          1.6,
          1.6,
          2.4,
          2.4,
          null,
          0.6,
          0.6,
          1.4,
          1.4,
          null,
          -0.4,
          -0.4,
          0.4,
          0.4,
          null,
          1.6,
          1.6,
          2.4,
          2.4,
          null,
          0.6,
          0.6,
          1.4,
          1.4
         ],
         "yaxis": "y2"
        },
        {
         "fill": "toself",
         "fillcolor": "rgb(242, 183, 1)",
         "hoverinfo": "name",
         "legendgroup": "rgb(242, 183, 1)",
         "mode": "none",
         "name": "receive",
         "showlegend": false,
         "type": "scatter",
         "x": [
          1.0251977443695068,
          1.027392864227295,
          1.027392864227295,
          1.0251977443695068,
          1.0251977443695068,
          1.8244645595550537,
          1.8288016319274905,
          1.8288016319274905,
          1.8244645595550537,
          1.8244645595550537,
          2.6238698959350586,
          2.6302289962768555,
          2.6302289962768555,
          2.6238698959350586,
          2.6238698959350586,
          3.4269015789031982,
          3.4317569732666016,
          3.4317569732666016,
          3.4269015789031982,
          3.4269015789031982,
          4.225224494934082,
          4.2331695556640625,
          4.2331695556640625,
          4.225224494934082,
          4.225224494934082,
          5.026766538619995,
          5.034634828567505,
          5.034634828567505,
          5.026766538619995,
          5.026766538619995,
          5.827421426773071,
          5.836007118225098,
          5.836007118225098,
          5.827421426773071,
          5.827421426773071,
          6.628499984741211,
          6.637578010559082,
          6.637578010559082,
          6.628499984741211
         ],
         "xaxis": "x2",
         "y": [
          1.6,
          1.6,
          2.4,
          2.4,
          null,
          0.6,
          0.6,
          1.4,
          1.4,
          null,
          -0.4,
          -0.4,
          0.4,
          0.4,
          null,
          1.6,
          1.6,
          2.4,
          2.4,
          null,
          0.6,
          0.6,
          1.4,
          1.4,
          null,
          -0.4,
          -0.4,
          0.4,
          0.4,
          null,
          1.6,
          1.6,
          2.4,
          2.4,
          null,
          0.6,
          0.6,
          1.4,
          1.4
         ],
         "yaxis": "y2"
        },
        {
         "legendgroup": "rgb(127, 60, 141)",
         "marker": {
          "color": "rgb(127, 60, 141)",
          "opacity": 0,
          "size": 1
         },
         "mode": "markers",
         "name": "",
         "showlegend": false,
         "text": [
          null,
          null,
          null,
          null,
          null,
          null,
          null,
          null,
          null,
          null,
          null,
          null,
          null,
          null,
          null,
          null
         ],
         "type": "scatter",
         "x": [
          0.003228902816772461,
          0.2032935619354248,
          0.8016724586486816,
          1.0017409324645996,
          1.602287769317627,
          1.802349090576172,
          2.403099298477173,
          2.6031689643859863,
          3.2035868167877197,
          3.4036636352539062,
          4.004007816314697,
          4.204071998596191,
          4.804635047912598,
          5.0047056674957275,
          5.605299711227417,
          5.805363893508911
         ],
         "xaxis": "x2",
         "y": [
          2,
          2,
          1,
          1,
          0,
          0,
          2,
          2,
          1,
          1,
          0,
          0,
          2,
          2,
          1,
          1
         ],
         "yaxis": "y2"
        },
        {
         "legendgroup": "rgb(128, 186, 90)",
         "marker": {
          "color": "rgb(128, 186, 90)",
          "opacity": 0,
          "size": 1
         },
         "mode": "markers",
         "name": "",
         "showlegend": false,
         "text": [
          null,
          null,
          null,
          null,
          null,
          null,
          null,
          null,
          null,
          null,
          null,
          null,
          null,
          null,
          null,
          null
         ],
         "type": "scatter",
         "x": [
          0,
          0.003228902816772461,
          0.8006770610809326,
          0.8016724586486816,
          1.6011903285980225,
          1.602287769317627,
          2.4017062187194824,
          2.403099298477173,
          3.202399492263794,
          3.2035868167877197,
          4.002927541732788,
          4.004007816314697,
          4.803516864776611,
          4.804635047912598,
          5.604028940200806,
          5.605299711227417
         ],
         "xaxis": "x2",
         "y": [
          2,
          2,
          1,
          1,
          0,
          0,
          2,
          2,
          1,
          1,
          0,
          0,
          2,
          2,
          1,
          1
         ],
         "yaxis": "y2"
        },
        {
         "legendgroup": "rgb(17, 165, 121)",
         "marker": {
          "color": "rgb(17, 165, 121)",
          "opacity": 0,
          "size": 1
         },
         "mode": "markers",
         "name": "",
         "showlegend": false,
         "text": [
          null,
          null,
          null,
          null,
          null,
          null,
          null,
          null,
          null,
          null,
          null,
          null,
          null,
          null,
          null,
          null
         ],
         "type": "scatter",
         "x": [
          0.2139182090759277,
          1.0033528804779053,
          1.03590726852417,
          1.801807641983032,
          1.836989164352417,
          2.602416515350342,
          2.634087085723877,
          3.403234481811523,
          3.436781406402588,
          4.203735828399658,
          4.239460706710815,
          5.004134178161621,
          5.037428617477417,
          5.804765701293945,
          5.841763496398926,
          6.605443716049194
         ],
         "xaxis": "x2",
         "y": [
          2,
          2,
          1,
          1,
          0,
          0,
          2,
          2,
          1,
          1,
          0,
          0,
          2,
          2,
          1,
          1
         ],
         "yaxis": "y2"
        },
        {
         "legendgroup": "rgb(231, 63, 116)",
         "marker": {
          "color": "rgb(231, 63, 116)",
          "opacity": 0,
          "size": 1
         },
         "mode": "markers",
         "name": "",
         "showlegend": false,
         "text": [
          null,
          null,
          null,
          null,
          null,
          null,
          null,
          null,
          null,
          null,
          null,
          null,
          null,
          null,
          null,
          null
         ],
         "type": "scatter",
         "x": [
          0.2032935619354248,
          0.2139182090759277,
          1.0017409324645996,
          1.03590726852417,
          1.802349090576172,
          1.836989164352417,
          2.6031689643859863,
          2.634087085723877,
          3.4036636352539062,
          3.436781406402588,
          4.204071998596191,
          4.239460706710815,
          5.0047056674957275,
          5.037428617477417,
          5.805363893508911,
          5.841763496398926
         ],
         "xaxis": "x2",
         "y": [
          2,
          2,
          1,
          1,
          0,
          0,
          2,
          2,
          1,
          1,
          0,
          0,
          2,
          2,
          1,
          1
         ],
         "yaxis": "y2"
        },
        {
         "legendgroup": "rgb(242, 183, 1)",
         "marker": {
          "color": "rgb(242, 183, 1)",
          "opacity": 0,
          "size": 1
         },
         "mode": "markers",
         "name": "",
         "showlegend": false,
         "text": [
          null,
          null,
          null,
          null,
          null,
          null,
          null,
          null,
          null,
          null,
          null,
          null,
          null,
          null,
          null,
          null
         ],
         "type": "scatter",
         "x": [
          1.0251977443695068,
          1.027392864227295,
          1.8244645595550537,
          1.8288016319274905,
          2.6238698959350586,
          2.6302289962768555,
          3.4269015789031982,
          3.4317569732666016,
          4.225224494934082,
          4.2331695556640625,
          5.026766538619995,
          5.034634828567505,
          5.827421426773071,
          5.836007118225098,
          6.628499984741211,
          6.637578010559082
         ],
         "xaxis": "x2",
         "y": [
          2,
          2,
          1,
          1,
          0,
          0,
          2,
          2,
          1,
          1,
          0,
          0,
          2,
          2,
          1,
          1
         ],
         "yaxis": "y2"
        },
        {
         "legendgroup": "rgb(57, 105, 172)",
         "marker": {
          "color": "rgb(57, 105, 172)",
          "opacity": 0,
          "size": 1
         },
         "mode": "markers",
         "name": "",
         "showlegend": false,
         "text": [
          null,
          null,
          null,
          null,
          null,
          null,
          null,
          null,
          null,
          null,
          null,
          null,
          null,
          null,
          null,
          null
         ],
         "type": "scatter",
         "x": [
          1.0033528804779053,
          1.0251977443695068,
          1.801807641983032,
          1.8244645595550537,
          2.602416515350342,
          2.6238698959350586,
          3.403234481811523,
          3.4269015789031982,
          4.203735828399658,
          4.225224494934082,
          5.004134178161621,
          5.026766538619995,
          5.804765701293945,
          5.827421426773071,
          6.605443716049194,
          6.628499984741211
         ],
         "xaxis": "x2",
         "y": [
          2,
          2,
          1,
          1,
          0,
          0,
          2,
          2,
          1,
          1,
          0,
          0,
          2,
          2,
          1,
          1
         ],
         "yaxis": "y2"
        },
        {
         "fill": "toself",
         "fillcolor": "rgb(128, 186, 90)",
         "hoverinfo": "name",
         "legendgroup": "rgb(128, 186, 90)",
         "mode": "none",
         "name": "submit",
         "showlegend": false,
         "type": "scatter",
         "x": [
          0,
          0.0012085437774658203,
          0.0012085437774658203,
          0,
          0,
          0.5004584789276123,
          0.5015249252319336,
          0.5015249252319336,
          0.5004584789276123,
          0.5004584789276123,
          1.0009570121765137,
          1.0134053230285645,
          1.0134053230285645,
          1.0009570121765137,
          1.0009570121765137,
          1.5014317035675049,
          1.5026121139526367,
          1.5026121139526367,
          1.5014317035675049,
          1.5014317035675049,
          2.0021121501922607,
          2.0032312870025635,
          2.0032312870025635,
          2.0021121501922607,
          2.0021121501922607,
          2.502627372741699,
          2.5148680210113525,
          2.5148680210113525,
          2.502627372741699,
          2.502627372741699,
          3.0031003952026367,
          3.0043938159942627,
          3.0043938159942627,
          3.0031003952026367,
          3.0031003952026367,
          3.503572463989258,
          3.504801988601685,
          3.504801988601685,
          3.503572463989258
         ],
         "xaxis": "x3",
         "y": [
          1.6,
          1.6,
          2.4,
          2.4,
          null,
          0.6,
          0.6,
          1.4,
          1.4,
          null,
          -0.4,
          -0.4,
          0.4,
          0.4,
          null,
          1.6,
          1.6,
          2.4,
          2.4,
          null,
          0.6,
          0.6,
          1.4,
          1.4,
          null,
          -0.4,
          -0.4,
          0.4,
          0.4,
          null,
          1.6,
          1.6,
          2.4,
          2.4,
          null,
          0.6,
          0.6,
          1.4,
          1.4
         ],
         "yaxis": "y3"
        },
        {
         "fill": "toself",
         "fillcolor": "rgb(127, 60, 141)",
         "hoverinfo": "name",
         "legendgroup": "rgb(127, 60, 141)",
         "mode": "none",
         "name": "overhead",
         "showlegend": false,
         "type": "scatter",
         "x": [
          0.0012085437774658203,
          0.5012784004211426,
          0.5012784004211426,
          0.0012085437774658203,
          0.0012085437774658203,
          0.5015249252319336,
          1.001589059829712,
          1.001589059829712,
          0.5015249252319336,
          0.5015249252319336,
          1.0134053230285645,
          1.513469934463501,
          1.513469934463501,
          1.0134053230285645,
          1.0134053230285645,
          1.5026121139526367,
          2.002683401107788,
          2.002683401107788,
          1.5026121139526367,
          1.5026121139526367,
          2.0032312870025635,
          2.503296375274658,
          2.503296375274658,
          2.0032312870025635,
          2.0032312870025635,
          2.5148680210113525,
          3.014932155609131,
          3.014932155609131,
          2.5148680210113525,
          2.5148680210113525,
          3.0043938159942627,
          3.5044703483581543,
          3.5044703483581543,
          3.0043938159942627,
          3.0043938159942627,
          3.504801988601685,
          4.004870653152466,
          4.004870653152466,
          3.504801988601685
         ],
         "xaxis": "x3",
         "y": [
          1.6,
          1.6,
          2.4,
          2.4,
          null,
          0.6,
          0.6,
          1.4,
          1.4,
          null,
          -0.4,
          -0.4,
          0.4,
          0.4,
          null,
          1.6,
          1.6,
          2.4,
          2.4,
          null,
          0.6,
          0.6,
          1.4,
          1.4,
          null,
          -0.4,
          -0.4,
          0.4,
          0.4,
          null,
          1.6,
          1.6,
          2.4,
          2.4,
          null,
          0.6,
          0.6,
          1.4,
          1.4
         ],
         "yaxis": "y3"
        },
        {
         "fill": "toself",
         "fillcolor": "rgb(231, 63, 116)",
         "hoverinfo": "name",
         "legendgroup": "rgb(231, 63, 116)",
         "mode": "none",
         "name": "resolve",
         "showlegend": false,
         "type": "scatter",
         "x": [
          0.5012784004211426,
          0.5119655132293701,
          0.5119655132293701,
          0.5012784004211426,
          0.5012784004211426,
          1.001589059829712,
          1.03328537940979,
          1.03328537940979,
          1.001589059829712,
          1.001589059829712,
          1.513469934463501,
          1.5346348285675049,
          1.5346348285675049,
          1.513469934463501,
          1.513469934463501,
          2.002683401107788,
          2.0495471954345703,
          2.0495471954345703,
          2.002683401107788,
          2.002683401107788,
          2.503296375274658,
          2.5368192195892334,
          2.5368192195892334,
          2.503296375274658,
          2.503296375274658,
          3.014932155609131,
          3.03273868560791,
          3.03273868560791,
          3.014932155609131,
          3.014932155609131,
          3.5044703483581543,
          3.5465168952941895,
          3.5465168952941895,
          3.5044703483581543,
          3.5044703483581543,
          4.004870653152466,
          4.036640405654907,
          4.036640405654907,
          4.004870653152466
         ],
         "xaxis": "x3",
         "y": [
          1.6,
          1.6,
          2.4,
          2.4,
          null,
          0.6,
          0.6,
          1.4,
          1.4,
          null,
          -0.4,
          -0.4,
          0.4,
          0.4,
          null,
          1.6,
          1.6,
          2.4,
          2.4,
          null,
          0.6,
          0.6,
          1.4,
          1.4,
          null,
          -0.4,
          -0.4,
          0.4,
          0.4,
          null,
          1.6,
          1.6,
          2.4,
          2.4,
          null,
          0.6,
          0.6,
          1.4,
          1.4
         ],
         "yaxis": "y3"
        },
        {
         "fill": "toself",
         "fillcolor": "rgb(17, 165, 121)",
         "hoverinfo": "name",
         "legendgroup": "rgb(17, 165, 121)",
         "mode": "none",
         "name": "compute",
         "showlegend": false,
         "type": "scatter",
         "x": [
          0.5119655132293701,
          1.0013446807861328,
          1.0013446807861328,
          0.5119655132293701,
          0.5119655132293701,
          1.03328537940979,
          1.5016674995422363,
          1.5016674995422363,
          1.03328537940979,
          1.03328537940979,
          1.5346348285675049,
          2.0135338306427,
          2.0135338306427,
          1.5346348285675049,
          1.5346348285675049,
          2.0495471954345703,
          2.502752780914306,
          2.502752780914306,
          2.0495471954345703,
          2.0495471954345703,
          2.5368192195892334,
          3.0033621788024902,
          3.0033621788024902,
          2.5368192195892334,
          2.5368192195892334,
          3.03273868560791,
          3.51501989364624,
          3.51501989364624,
          3.03273868560791,
          3.03273868560791,
          3.5465168952941895,
          4.004540920257568,
          4.004540920257568,
          3.5465168952941895,
          3.5465168952941895,
          4.036640405654907,
          4.504932403564453,
          4.504932403564453,
          4.036640405654907
         ],
         "xaxis": "x3",
         "y": [
          1.6,
          1.6,
          2.4,
          2.4,
          null,
          0.6,
          0.6,
          1.4,
          1.4,
          null,
          -0.4,
          -0.4,
          0.4,
          0.4,
          null,
          1.6,
          1.6,
          2.4,
          2.4,
          null,
          0.6,
          0.6,
          1.4,
          1.4,
          null,
          -0.4,
          -0.4,
          0.4,
          0.4,
          null,
          1.6,
          1.6,
          2.4,
          2.4,
          null,
          0.6,
          0.6,
          1.4,
          1.4
         ],
         "yaxis": "y3"
        },
        {
         "fill": "toself",
         "fillcolor": "rgb(57, 105, 172)",
         "hoverinfo": "name",
         "legendgroup": "rgb(57, 105, 172)",
         "mode": "none",
         "name": "generate",
         "showlegend": false,
         "type": "scatter",
         "x": [
          1.0013446807861328,
          1.0230236053466797,
          1.0230236053466797,
          1.0013446807861328,
          1.0013446807861328,
          1.5016674995422363,
          1.5220732688903809,
          1.5220732688903809,
          1.5016674995422363,
          1.5016674995422363,
          2.0135338306427,
          2.035762310028076,
          2.035762310028076,
          2.0135338306427,
          2.0135338306427,
          2.502752780914306,
          2.5242230892181396,
          2.5242230892181396,
          2.502752780914306,
          2.502752780914306,
          3.0033621788024902,
          3.0234482288360596,
          3.0234482288360596,
          3.0033621788024902,
          3.0033621788024902,
          3.51501989364624,
          3.5362253189086914,
          3.5362253189086914,
          3.51501989364624,
          3.51501989364624,
          4.004540920257568,
          4.026112079620361,
          4.026112079620361,
          4.004540920257568,
          4.004540920257568,
          4.504932403564453,
          4.52743673324585,
          4.52743673324585,
          4.504932403564453
         ],
         "xaxis": "x3",
         "y": [
          1.6,
          1.6,
          2.4,
          2.4,
          null,
          0.6,
          0.6,
          1.4,
          1.4,
          null,
          -0.4,
          -0.4,
          0.4,
          0.4,
          null,
          1.6,
          1.6,
          2.4,
          2.4,
          null,
          0.6,
          0.6,
          1.4,
          1.4,
          null,
          -0.4,
          -0.4,
          0.4,
          0.4,
          null,
          1.6,
          1.6,
          2.4,
          2.4,
          null,
          0.6,
          0.6,
          1.4,
          1.4
         ],
         "yaxis": "y3"
        },
        {
         "fill": "toself",
         "fillcolor": "rgb(242, 183, 1)",
         "hoverinfo": "name",
         "legendgroup": "rgb(242, 183, 1)",
         "mode": "none",
         "name": "receive",
         "showlegend": false,
         "type": "scatter",
         "x": [
          1.0230236053466797,
          1.0246541500091553,
          1.0246541500091553,
          1.0230236053466797,
          1.0230236053466797,
          1.5220732688903809,
          1.5260608196258545,
          1.5260608196258545,
          1.5220732688903809,
          1.5220732688903809,
          2.035762310028076,
          2.0374338626861572,
          2.0374338626861572,
          2.035762310028076,
          2.035762310028076,
          2.5242230892181396,
          2.5388569831848145,
          2.5388569831848145,
          2.5242230892181396,
          2.5242230892181396,
          3.0234482288360596,
          3.0401835441589355,
          3.0401835441589355,
          3.0234482288360596,
          3.0234482288360596,
          3.5362253189086914,
          3.5469138622283936,
          3.5469138622283936,
          3.5362253189086914,
          3.5362253189086914,
          4.026112079620361,
          4.048342943191528,
          4.048342943191528,
          4.026112079620361,
          4.026112079620361,
          4.52743673324585,
          4.549788236618042,
          4.549788236618042,
          4.52743673324585
         ],
         "xaxis": "x3",
         "y": [
          1.6,
          1.6,
          2.4,
          2.4,
          null,
          0.6,
          0.6,
          1.4,
          1.4,
          null,
          -0.4,
          -0.4,
          0.4,
          0.4,
          null,
          1.6,
          1.6,
          2.4,
          2.4,
          null,
          0.6,
          0.6,
          1.4,
          1.4,
          null,
          -0.4,
          -0.4,
          0.4,
          0.4,
          null,
          1.6,
          1.6,
          2.4,
          2.4,
          null,
          0.6,
          0.6,
          1.4,
          1.4
         ],
         "yaxis": "y3"
        },
        {
         "legendgroup": "rgb(127, 60, 141)",
         "marker": {
          "color": "rgb(127, 60, 141)",
          "opacity": 0,
          "size": 1
         },
         "mode": "markers",
         "name": "",
         "showlegend": false,
         "text": [
          null,
          null,
          null,
          null,
          null,
          null,
          null,
          null,
          null,
          null,
          null,
          null,
          null,
          null,
          null,
          null
         ],
         "type": "scatter",
         "x": [
          0.0012085437774658203,
          0.5012784004211426,
          0.5015249252319336,
          1.001589059829712,
          1.0134053230285645,
          1.513469934463501,
          1.5026121139526367,
          2.002683401107788,
          2.0032312870025635,
          2.503296375274658,
          2.5148680210113525,
          3.014932155609131,
          3.0043938159942627,
          3.5044703483581543,
          3.504801988601685,
          4.004870653152466
         ],
         "xaxis": "x3",
         "y": [
          2,
          2,
          1,
          1,
          0,
          0,
          2,
          2,
          1,
          1,
          0,
          0,
          2,
          2,
          1,
          1
         ],
         "yaxis": "y3"
        },
        {
         "legendgroup": "rgb(128, 186, 90)",
         "marker": {
          "color": "rgb(128, 186, 90)",
          "opacity": 0,
          "size": 1
         },
         "mode": "markers",
         "name": "",
         "showlegend": false,
         "text": [
          null,
          null,
          null,
          null,
          null,
          null,
          null,
          null,
          null,
          null,
          null,
          null,
          null,
          null,
          null,
          null
         ],
         "type": "scatter",
         "x": [
          0,
          0.0012085437774658203,
          0.5004584789276123,
          0.5015249252319336,
          1.0009570121765137,
          1.0134053230285645,
          1.5014317035675049,
          1.5026121139526367,
          2.0021121501922607,
          2.0032312870025635,
          2.502627372741699,
          2.5148680210113525,
          3.0031003952026367,
          3.0043938159942627,
          3.503572463989258,
          3.504801988601685
         ],
         "xaxis": "x3",
         "y": [
          2,
          2,
          1,
          1,
          0,
          0,
          2,
          2,
          1,
          1,
          0,
          0,
          2,
          2,
          1,
          1
         ],
         "yaxis": "y3"
        },
        {
         "legendgroup": "rgb(17, 165, 121)",
         "marker": {
          "color": "rgb(17, 165, 121)",
          "opacity": 0,
          "size": 1
         },
         "mode": "markers",
         "name": "",
         "showlegend": false,
         "text": [
          null,
          null,
          null,
          null,
          null,
          null,
          null,
          null,
          null,
          null,
          null,
          null,
          null,
          null,
          null,
          null
         ],
         "type": "scatter",
         "x": [
          0.5119655132293701,
          1.0013446807861328,
          1.03328537940979,
          1.5016674995422363,
          1.5346348285675049,
          2.0135338306427,
          2.0495471954345703,
          2.502752780914306,
          2.5368192195892334,
          3.0033621788024902,
          3.03273868560791,
          3.51501989364624,
          3.5465168952941895,
          4.004540920257568,
          4.036640405654907,
          4.504932403564453
         ],
         "xaxis": "x3",
         "y": [
          2,
          2,
          1,
          1,
          0,
          0,
          2,
          2,
          1,
          1,
          0,
          0,
          2,
          2,
          1,
          1
         ],
         "yaxis": "y3"
        },
        {
         "legendgroup": "rgb(231, 63, 116)",
         "marker": {
          "color": "rgb(231, 63, 116)",
          "opacity": 0,
          "size": 1
         },
         "mode": "markers",
         "name": "",
         "showlegend": false,
         "text": [
          null,
          null,
          null,
          null,
          null,
          null,
          null,
          null,
          null,
          null,
          null,
          null,
          null,
          null,
          null,
          null
         ],
         "type": "scatter",
         "x": [
          0.5012784004211426,
          0.5119655132293701,
          1.001589059829712,
          1.03328537940979,
          1.513469934463501,
          1.5346348285675049,
          2.002683401107788,
          2.0495471954345703,
          2.503296375274658,
          2.5368192195892334,
          3.014932155609131,
          3.03273868560791,
          3.5044703483581543,
          3.5465168952941895,
          4.004870653152466,
          4.036640405654907
         ],
         "xaxis": "x3",
         "y": [
          2,
          2,
          1,
          1,
          0,
          0,
          2,
          2,
          1,
          1,
          0,
          0,
          2,
          2,
          1,
          1
         ],
         "yaxis": "y3"
        },
        {
         "legendgroup": "rgb(242, 183, 1)",
         "marker": {
          "color": "rgb(242, 183, 1)",
          "opacity": 0,
          "size": 1
         },
         "mode": "markers",
         "name": "",
         "showlegend": false,
         "text": [
          null,
          null,
          null,
          null,
          null,
          null,
          null,
          null,
          null,
          null,
          null,
          null,
          null,
          null,
          null,
          null
         ],
         "type": "scatter",
         "x": [
          1.0230236053466797,
          1.0246541500091553,
          1.5220732688903809,
          1.5260608196258545,
          2.035762310028076,
          2.0374338626861572,
          2.5242230892181396,
          2.5388569831848145,
          3.0234482288360596,
          3.0401835441589355,
          3.5362253189086914,
          3.5469138622283936,
          4.026112079620361,
          4.048342943191528,
          4.52743673324585,
          4.549788236618042
         ],
         "xaxis": "x3",
         "y": [
          2,
          2,
          1,
          1,
          0,
          0,
          2,
          2,
          1,
          1,
          0,
          0,
          2,
          2,
          1,
          1
         ],
         "yaxis": "y3"
        },
        {
         "legendgroup": "rgb(57, 105, 172)",
         "marker": {
          "color": "rgb(57, 105, 172)",
          "opacity": 0,
          "size": 1
         },
         "mode": "markers",
         "name": "",
         "showlegend": false,
         "text": [
          null,
          null,
          null,
          null,
          null,
          null,
          null,
          null,
          null,
          null,
          null,
          null,
          null,
          null,
          null,
          null
         ],
         "type": "scatter",
         "x": [
          1.0013446807861328,
          1.0230236053466797,
          1.5016674995422363,
          1.5220732688903809,
          2.0135338306427,
          2.035762310028076,
          2.502752780914306,
          2.5242230892181396,
          3.0033621788024902,
          3.0234482288360596,
          3.51501989364624,
          3.5362253189086914,
          4.004540920257568,
          4.026112079620361,
          4.504932403564453,
          4.52743673324585
         ],
         "xaxis": "x3",
         "y": [
          2,
          2,
          1,
          1,
          0,
          0,
          2,
          2,
          1,
          1,
          0,
          0,
          2,
          2,
          1,
          1
         ],
         "yaxis": "y3"
        }
       ],
       "layout": {
        "height": 350,
        "legend": {
         "tracegroupgap": 4,
         "x": 0.99,
         "xanchor": "right",
         "y": 0.02,
         "yanchor": "bottom"
        },
        "template": {
         "data": {
          "bar": [
           {
            "error_x": {
             "color": "rgb(36,36,36)"
            },
            "error_y": {
             "color": "rgb(36,36,36)"
            },
            "marker": {
             "line": {
              "color": "white",
              "width": 0.5
             },
             "pattern": {
              "fillmode": "overlay",
              "size": 10,
              "solidity": 0.2
             }
            },
            "type": "bar"
           }
          ],
          "barpolar": [
           {
            "marker": {
             "line": {
              "color": "white",
              "width": 0.5
             },
             "pattern": {
              "fillmode": "overlay",
              "size": 10,
              "solidity": 0.2
             }
            },
            "type": "barpolar"
           }
          ],
          "carpet": [
           {
            "aaxis": {
             "endlinecolor": "rgb(36,36,36)",
             "gridcolor": "white",
             "linecolor": "white",
             "minorgridcolor": "white",
             "startlinecolor": "rgb(36,36,36)"
            },
            "baxis": {
             "endlinecolor": "rgb(36,36,36)",
             "gridcolor": "white",
             "linecolor": "white",
             "minorgridcolor": "white",
             "startlinecolor": "rgb(36,36,36)"
            },
            "type": "carpet"
           }
          ],
          "choropleth": [
           {
            "colorbar": {
             "outlinewidth": 1,
             "tickcolor": "rgb(36,36,36)",
             "ticks": "outside"
            },
            "type": "choropleth"
           }
          ],
          "contour": [
           {
            "colorbar": {
             "outlinewidth": 1,
             "tickcolor": "rgb(36,36,36)",
             "ticks": "outside"
            },
            "colorscale": [
             [
              0,
              "#440154"
             ],
             [
              0.1111111111111111,
              "#482878"
             ],
             [
              0.2222222222222222,
              "#3e4989"
             ],
             [
              0.3333333333333333,
              "#31688e"
             ],
             [
              0.4444444444444444,
              "#26828e"
             ],
             [
              0.5555555555555556,
              "#1f9e89"
             ],
             [
              0.6666666666666666,
              "#35b779"
             ],
             [
              0.7777777777777778,
              "#6ece58"
             ],
             [
              0.8888888888888888,
              "#b5de2b"
             ],
             [
              1,
              "#fde725"
             ]
            ],
            "type": "contour"
           }
          ],
          "contourcarpet": [
           {
            "colorbar": {
             "outlinewidth": 1,
             "tickcolor": "rgb(36,36,36)",
             "ticks": "outside"
            },
            "type": "contourcarpet"
           }
          ],
          "heatmap": [
           {
            "colorbar": {
             "outlinewidth": 1,
             "tickcolor": "rgb(36,36,36)",
             "ticks": "outside"
            },
            "colorscale": [
             [
              0,
              "#440154"
             ],
             [
              0.1111111111111111,
              "#482878"
             ],
             [
              0.2222222222222222,
              "#3e4989"
             ],
             [
              0.3333333333333333,
              "#31688e"
             ],
             [
              0.4444444444444444,
              "#26828e"
             ],
             [
              0.5555555555555556,
              "#1f9e89"
             ],
             [
              0.6666666666666666,
              "#35b779"
             ],
             [
              0.7777777777777778,
              "#6ece58"
             ],
             [
              0.8888888888888888,
              "#b5de2b"
             ],
             [
              1,
              "#fde725"
             ]
            ],
            "type": "heatmap"
           }
          ],
          "heatmapgl": [
           {
            "colorbar": {
             "outlinewidth": 1,
             "tickcolor": "rgb(36,36,36)",
             "ticks": "outside"
            },
            "colorscale": [
             [
              0,
              "#440154"
             ],
             [
              0.1111111111111111,
              "#482878"
             ],
             [
              0.2222222222222222,
              "#3e4989"
             ],
             [
              0.3333333333333333,
              "#31688e"
             ],
             [
              0.4444444444444444,
              "#26828e"
             ],
             [
              0.5555555555555556,
              "#1f9e89"
             ],
             [
              0.6666666666666666,
              "#35b779"
             ],
             [
              0.7777777777777778,
              "#6ece58"
             ],
             [
              0.8888888888888888,
              "#b5de2b"
             ],
             [
              1,
              "#fde725"
             ]
            ],
            "type": "heatmapgl"
           }
          ],
          "histogram": [
           {
            "marker": {
             "line": {
              "color": "white",
              "width": 0.6
             }
            },
            "type": "histogram"
           }
          ],
          "histogram2d": [
           {
            "colorbar": {
             "outlinewidth": 1,
             "tickcolor": "rgb(36,36,36)",
             "ticks": "outside"
            },
            "colorscale": [
             [
              0,
              "#440154"
             ],
             [
              0.1111111111111111,
              "#482878"
             ],
             [
              0.2222222222222222,
              "#3e4989"
             ],
             [
              0.3333333333333333,
              "#31688e"
             ],
             [
              0.4444444444444444,
              "#26828e"
             ],
             [
              0.5555555555555556,
              "#1f9e89"
             ],
             [
              0.6666666666666666,
              "#35b779"
             ],
             [
              0.7777777777777778,
              "#6ece58"
             ],
             [
              0.8888888888888888,
              "#b5de2b"
             ],
             [
              1,
              "#fde725"
             ]
            ],
            "type": "histogram2d"
           }
          ],
          "histogram2dcontour": [
           {
            "colorbar": {
             "outlinewidth": 1,
             "tickcolor": "rgb(36,36,36)",
             "ticks": "outside"
            },
            "colorscale": [
             [
              0,
              "#440154"
             ],
             [
              0.1111111111111111,
              "#482878"
             ],
             [
              0.2222222222222222,
              "#3e4989"
             ],
             [
              0.3333333333333333,
              "#31688e"
             ],
             [
              0.4444444444444444,
              "#26828e"
             ],
             [
              0.5555555555555556,
              "#1f9e89"
             ],
             [
              0.6666666666666666,
              "#35b779"
             ],
             [
              0.7777777777777778,
              "#6ece58"
             ],
             [
              0.8888888888888888,
              "#b5de2b"
             ],
             [
              1,
              "#fde725"
             ]
            ],
            "type": "histogram2dcontour"
           }
          ],
          "mesh3d": [
           {
            "colorbar": {
             "outlinewidth": 1,
             "tickcolor": "rgb(36,36,36)",
             "ticks": "outside"
            },
            "type": "mesh3d"
           }
          ],
          "parcoords": [
           {
            "line": {
             "colorbar": {
              "outlinewidth": 1,
              "tickcolor": "rgb(36,36,36)",
              "ticks": "outside"
             }
            },
            "type": "parcoords"
           }
          ],
          "pie": [
           {
            "automargin": true,
            "type": "pie"
           }
          ],
          "scatter": [
           {
            "fillpattern": {
             "fillmode": "overlay",
             "size": 10,
             "solidity": 0.2
            },
            "type": "scatter"
           }
          ],
          "scatter3d": [
           {
            "line": {
             "colorbar": {
              "outlinewidth": 1,
              "tickcolor": "rgb(36,36,36)",
              "ticks": "outside"
             }
            },
            "marker": {
             "colorbar": {
              "outlinewidth": 1,
              "tickcolor": "rgb(36,36,36)",
              "ticks": "outside"
             }
            },
            "type": "scatter3d"
           }
          ],
          "scattercarpet": [
           {
            "marker": {
             "colorbar": {
              "outlinewidth": 1,
              "tickcolor": "rgb(36,36,36)",
              "ticks": "outside"
             }
            },
            "type": "scattercarpet"
           }
          ],
          "scattergeo": [
           {
            "marker": {
             "colorbar": {
              "outlinewidth": 1,
              "tickcolor": "rgb(36,36,36)",
              "ticks": "outside"
             }
            },
            "type": "scattergeo"
           }
          ],
          "scattergl": [
           {
            "marker": {
             "colorbar": {
              "outlinewidth": 1,
              "tickcolor": "rgb(36,36,36)",
              "ticks": "outside"
             }
            },
            "type": "scattergl"
           }
          ],
          "scattermapbox": [
           {
            "marker": {
             "colorbar": {
              "outlinewidth": 1,
              "tickcolor": "rgb(36,36,36)",
              "ticks": "outside"
             }
            },
            "type": "scattermapbox"
           }
          ],
          "scatterpolar": [
           {
            "marker": {
             "colorbar": {
              "outlinewidth": 1,
              "tickcolor": "rgb(36,36,36)",
              "ticks": "outside"
             }
            },
            "type": "scatterpolar"
           }
          ],
          "scatterpolargl": [
           {
            "marker": {
             "colorbar": {
              "outlinewidth": 1,
              "tickcolor": "rgb(36,36,36)",
              "ticks": "outside"
             }
            },
            "type": "scatterpolargl"
           }
          ],
          "scatterternary": [
           {
            "marker": {
             "colorbar": {
              "outlinewidth": 1,
              "tickcolor": "rgb(36,36,36)",
              "ticks": "outside"
             }
            },
            "type": "scatterternary"
           }
          ],
          "surface": [
           {
            "colorbar": {
             "outlinewidth": 1,
             "tickcolor": "rgb(36,36,36)",
             "ticks": "outside"
            },
            "colorscale": [
             [
              0,
              "#440154"
             ],
             [
              0.1111111111111111,
              "#482878"
             ],
             [
              0.2222222222222222,
              "#3e4989"
             ],
             [
              0.3333333333333333,
              "#31688e"
             ],
             [
              0.4444444444444444,
              "#26828e"
             ],
             [
              0.5555555555555556,
              "#1f9e89"
             ],
             [
              0.6666666666666666,
              "#35b779"
             ],
             [
              0.7777777777777778,
              "#6ece58"
             ],
             [
              0.8888888888888888,
              "#b5de2b"
             ],
             [
              1,
              "#fde725"
             ]
            ],
            "type": "surface"
           }
          ],
          "table": [
           {
            "cells": {
             "fill": {
              "color": "rgb(237,237,237)"
             },
             "line": {
              "color": "white"
             }
            },
            "header": {
             "fill": {
              "color": "rgb(217,217,217)"
             },
             "line": {
              "color": "white"
             }
            },
            "type": "table"
           }
          ]
         },
         "layout": {
          "annotationdefaults": {
           "arrowhead": 0,
           "arrowwidth": 1
          },
          "autotypenumbers": "strict",
          "coloraxis": {
           "colorbar": {
            "outlinewidth": 1,
            "tickcolor": "rgb(36,36,36)",
            "ticks": "outside"
           }
          },
          "colorscale": {
           "diverging": [
            [
             0,
             "rgb(103,0,31)"
            ],
            [
             0.1,
             "rgb(178,24,43)"
            ],
            [
             0.2,
             "rgb(214,96,77)"
            ],
            [
             0.3,
             "rgb(244,165,130)"
            ],
            [
             0.4,
             "rgb(253,219,199)"
            ],
            [
             0.5,
             "rgb(247,247,247)"
            ],
            [
             0.6,
             "rgb(209,229,240)"
            ],
            [
             0.7,
             "rgb(146,197,222)"
            ],
            [
             0.8,
             "rgb(67,147,195)"
            ],
            [
             0.9,
             "rgb(33,102,172)"
            ],
            [
             1,
             "rgb(5,48,97)"
            ]
           ],
           "sequential": [
            [
             0,
             "#440154"
            ],
            [
             0.1111111111111111,
             "#482878"
            ],
            [
             0.2222222222222222,
             "#3e4989"
            ],
            [
             0.3333333333333333,
             "#31688e"
            ],
            [
             0.4444444444444444,
             "#26828e"
            ],
            [
             0.5555555555555556,
             "#1f9e89"
            ],
            [
             0.6666666666666666,
             "#35b779"
            ],
            [
             0.7777777777777778,
             "#6ece58"
            ],
            [
             0.8888888888888888,
             "#b5de2b"
            ],
            [
             1,
             "#fde725"
            ]
           ],
           "sequentialminus": [
            [
             0,
             "#440154"
            ],
            [
             0.1111111111111111,
             "#482878"
            ],
            [
             0.2222222222222222,
             "#3e4989"
            ],
            [
             0.3333333333333333,
             "#31688e"
            ],
            [
             0.4444444444444444,
             "#26828e"
            ],
            [
             0.5555555555555556,
             "#1f9e89"
            ],
            [
             0.6666666666666666,
             "#35b779"
            ],
            [
             0.7777777777777778,
             "#6ece58"
            ],
            [
             0.8888888888888888,
             "#b5de2b"
            ],
            [
             1,
             "#fde725"
            ]
           ]
          },
          "colorway": [
           "#1F77B4",
           "#FF7F0E",
           "#2CA02C",
           "#D62728",
           "#9467BD",
           "#8C564B",
           "#E377C2",
           "#7F7F7F",
           "#BCBD22",
           "#17BECF"
          ],
          "font": {
           "color": "rgb(36,36,36)"
          },
          "geo": {
           "bgcolor": "white",
           "lakecolor": "white",
           "landcolor": "white",
           "showlakes": true,
           "showland": true,
           "subunitcolor": "white"
          },
          "hoverlabel": {
           "align": "left"
          },
          "hovermode": "closest",
          "legend": {
           "bordercolor": "#e0e0e0",
           "borderwidth": 1,
           "font": {
            "size": 12
           }
          },
          "mapbox": {
           "style": "light"
          },
          "margin": {
           "b": 5,
           "l": 5,
           "r": 5,
           "t": 5
          },
          "paper_bgcolor": "white",
          "plot_bgcolor": "white",
          "polar": {
           "angularaxis": {
            "gridcolor": "rgb(232,232,232)",
            "linecolor": "rgb(36,36,36)",
            "showgrid": false,
            "showline": true,
            "ticks": "outside"
           },
           "bgcolor": "white",
           "radialaxis": {
            "gridcolor": "rgb(232,232,232)",
            "linecolor": "rgb(36,36,36)",
            "showgrid": false,
            "showline": true,
            "ticks": "outside"
           }
          },
          "scene": {
           "xaxis": {
            "backgroundcolor": "white",
            "gridcolor": "rgb(232,232,232)",
            "gridwidth": 2,
            "linecolor": "rgb(36,36,36)",
            "showbackground": true,
            "showgrid": false,
            "showline": true,
            "ticks": "outside",
            "zeroline": false,
            "zerolinecolor": "rgb(36,36,36)"
           },
           "yaxis": {
            "backgroundcolor": "white",
            "gridcolor": "rgb(232,232,232)",
            "gridwidth": 2,
            "linecolor": "rgb(36,36,36)",
            "showbackground": true,
            "showgrid": false,
            "showline": true,
            "ticks": "outside",
            "zeroline": false,
            "zerolinecolor": "rgb(36,36,36)"
           },
           "zaxis": {
            "backgroundcolor": "white",
            "gridcolor": "rgb(232,232,232)",
            "gridwidth": 2,
            "linecolor": "rgb(36,36,36)",
            "showbackground": true,
            "showgrid": false,
            "showline": true,
            "ticks": "outside",
            "zeroline": false,
            "zerolinecolor": "rgb(36,36,36)"
           }
          },
          "shapedefaults": {
           "fillcolor": "black",
           "line": {
            "width": 0
           },
           "opacity": 0.3
          },
          "ternary": {
           "aaxis": {
            "gridcolor": "rgb(232,232,232)",
            "linecolor": "rgb(36,36,36)",
            "showgrid": false,
            "showline": true,
            "ticks": "outside"
           },
           "baxis": {
            "gridcolor": "rgb(232,232,232)",
            "linecolor": "rgb(36,36,36)",
            "showgrid": false,
            "showline": true,
            "ticks": "outside"
           },
           "bgcolor": "white",
           "caxis": {
            "gridcolor": "rgb(232,232,232)",
            "linecolor": "rgb(36,36,36)",
            "showgrid": false,
            "showline": true,
            "ticks": "outside"
           }
          },
          "title": {
           "font": {
            "size": 10
           },
           "x": 0.05
          },
          "xaxis": {
           "automargin": true,
           "gridcolor": "#e0e0e0",
           "linecolor": "#616161",
           "linewidth": 1,
           "mirror": true,
           "showgrid": true,
           "showline": true,
           "tickfont": {
            "size": 10
           },
           "ticks": "outside",
           "title": {
            "font": {
             "size": 12
            },
            "standoff": 5
           },
           "zeroline": false,
           "zerolinecolor": "rgb(36,36,36)"
          },
          "yaxis": {
           "automargin": true,
           "gridcolor": "#e0e0e0",
           "linecolor": "#616161",
           "linewidth": 1,
           "mirror": true,
           "showgrid": true,
           "showline": true,
           "tickfont": {
            "size": 10
           },
           "ticks": "outside",
           "title": {
            "font": {
             "size": 12
            },
            "standoff": 5
           },
           "zeroline": false,
           "zerolinecolor": "rgb(36,36,36)"
          }
         }
        },
        "width": 800,
        "xaxis": {
         "anchor": "y",
         "domain": [
          0,
          1
         ],
         "matches": "x3",
         "showticklabels": false,
         "type": "linear"
        },
        "xaxis2": {
         "anchor": "y2",
         "domain": [
          0,
          1
         ],
         "matches": "x3",
         "showticklabels": false,
         "type": "linear"
        },
        "xaxis3": {
         "anchor": "y3",
         "domain": [
          0,
          1
         ],
         "range": [
          0,
          8.210195541381836
         ],
         "title": {
          "text": "Runtime (s)"
         },
         "type": "linear"
        },
        "yaxis": {
         "anchor": "x",
         "autorange": true,
         "domain": [
          0.6933333333333334,
          1
         ],
         "range": [
          2.5555555555555554,
          -0.5555555555555556
         ],
         "showticklabels": false,
         "ticks": "",
         "title": {
          "font": {
           "size": 11
          },
          "text": "Sequential<br>Overhead = 0.2"
         },
         "type": "linear"
        },
        "yaxis2": {
         "anchor": "x2",
         "autorange": true,
         "domain": [
          0.3466666666666667,
          0.6533333333333333
         ],
         "range": [
          2.5555555555555554,
          -0.5555555555555556
         ],
         "showticklabels": false,
         "ticks": "",
         "title": {
          "font": {
           "size": 11
          },
          "text": "Pipelined<br>Overhead = 0.2"
         },
         "type": "linear"
        },
        "yaxis3": {
         "anchor": "x3",
         "autorange": true,
         "domain": [
          0,
          0.3066666666666667
         ],
         "range": [
          2.5555555555555554,
          -0.5555555555555556
         ],
         "showticklabels": false,
         "ticks": "",
         "title": {
          "font": {
           "size": 11
          },
          "text": "Pipelined<br>Overhead = 0.5"
         },
         "type": "linear"
        }
       }
      },
      "image/png": "[encoded data removed]",
      "text/html": [
       "<div>                            <div id=\"9a0463ea-ea17-4106-9cee-4d1dfdc2cd4b\" class=\"plotly-graph-div\" style=\"height:350px; width:800px;\"></div>            <script type=\"text/javascript\">                require([\"plotly\"], function(Plotly) {                    window.PLOTLYENV=window.PLOTLYENV || {};                                    if (document.getElementById(\"9a0463ea-ea17-4106-9cee-4d1dfdc2cd4b\")) {                    Plotly.newPlot(                        \"9a0463ea-ea17-4106-9cee-4d1dfdc2cd4b\",                        [{\"fill\":\"toself\",\"fillcolor\":\"rgb(128, 186, 90)\",\"hoverinfo\":\"name\",\"legendgroup\":\"rgb(128, 186, 90)\",\"mode\":\"none\",\"name\":\"submit\",\"showlegend\":true,\"x\":[0.0,0.0011916160583496094,0.0011916160583496094,0.0,0.0,1.025754690170288,1.0270195007324219,1.0270195007324219,1.025754690170288,1.025754690170288,2.054107666015625,2.0551302433013916,2.0551302433013916,2.054107666015625,2.054107666015625,3.0794782638549805,3.0806331634521484,3.0806331634521484,3.0794782638549805,3.0794782638549805,4.106562852859497,4.107748508453369,4.107748508453369,4.106562852859497,4.106562852859497,5.1318745613098145,5.133280277252197,5.133280277252197,5.1318745613098145,5.1318745613098145,6.1585328578948975,6.159654140472412,6.159654140472412,6.1585328578948975,6.1585328578948975,7.184313535690308,7.1855151653289795,7.1855151653289795,7.184313535690308],\"y\":[1.6,1.6,2.4,2.4,null,0.6,0.6,1.4,1.4,null,-0.4,-0.4,0.4,0.4,null,1.6,1.6,2.4,2.4,null,0.6,0.6,1.4,1.4,null,-0.4,-0.4,0.4,0.4,null,1.6,1.6,2.4,2.4,null,0.6,0.6,1.4,1.4],\"type\":\"scatter\",\"xaxis\":\"x\",\"yaxis\":\"y\"},{\"fill\":\"toself\",\"fillcolor\":\"rgb(127, 60, 141)\",\"hoverinfo\":\"name\",\"legendgroup\":\"rgb(127, 60, 141)\",\"mode\":\"none\",\"name\":\"overhead\",\"showlegend\":true,\"x\":[0.0011916160583496094,0.20125818252563477,0.20125818252563477,0.0011916160583496094,0.0011916160583496094,1.0270195007324219,1.227083683013916,1.227083683013916,1.0270195007324219,1.0270195007324219,2.0551302433013916,2.255214214324951,2.255214214324951,2.0551302433013916,2.0551302433013916,3.0806331634521484,3.280698537826538,3.280698537826538,3.0806331634521484,3.0806331634521484,4.107748508453369,4.307816505432129,4.307816505432129,4.107748508453369,4.107748508453369,5.133280277252197,5.333348751068115,5.333348751068115,5.133280277252197,5.133280277252197,6.159654140472412,6.359726190567017,6.359726190567017,6.159654140472412,6.159654140472412,7.1855151653289795,7.3855931758880615,7.3855931758880615,7.1855151653289795],\"y\":[1.6,1.6,2.4,2.4,null,0.6,0.6,1.4,1.4,null,-0.4,-0.4,0.4,0.4,null,1.6,1.6,2.4,2.4,null,0.6,0.6,1.4,1.4,null,-0.4,-0.4,0.4,0.4,null,1.6,1.6,2.4,2.4,null,0.6,0.6,1.4,1.4],\"type\":\"scatter\",\"xaxis\":\"x\",\"yaxis\":\"y\"},{\"fill\":\"toself\",\"fillcolor\":\"rgb(231, 63, 116)\",\"hoverinfo\":\"name\",\"legendgroup\":\"rgb(231, 63, 116)\",\"mode\":\"none\",\"name\":\"resolve\",\"showlegend\":true,\"x\":[0.20125818252563477,0.21147894859313965,0.21147894859313965,0.20125818252563477,0.20125818252563477,1.227083683013916,1.2404632568359375,1.2404632568359375,1.227083683013916,1.227083683013916,2.255214214324951,2.2682840824127197,2.2682840824127197,2.255214214324951,2.255214214324951,3.280698537826538,3.2945282459259033,3.2945282459259033,3.280698537826538,3.280698537826538,4.307816505432129,4.317958354949951,4.317958354949951,4.307816505432129,4.307816505432129,5.333348751068115,5.344037294387817,5.344037294387817,5.333348751068115,5.333348751068115,6.359726190567017,6.370559930801392,6.370559930801392,6.359726190567017,6.359726190567017,7.3855931758880615,7.395761013031006,7.395761013031006,7.3855931758880615],\"y\":[1.6,1.6,2.4,2.4,null,0.6,0.6,1.4,1.4,null,-0.4,-0.4,0.4,0.4,null,1.6,1.6,2.4,2.4,null,0.6,0.6,1.4,1.4,null,-0.4,-0.4,0.4,0.4,null,1.6,1.6,2.4,2.4,null,0.6,0.6,1.4,1.4],\"type\":\"scatter\",\"xaxis\":\"x\",\"yaxis\":\"y\"},{\"fill\":\"toself\",\"fillcolor\":\"rgb(17, 165, 121)\",\"hoverinfo\":\"name\",\"legendgroup\":\"rgb(17, 165, 121)\",\"mode\":\"none\",\"name\":\"compute\",\"showlegend\":true,\"x\":[0.21147894859313965,1.0013206005096436,1.0013206005096436,0.21147894859313965,0.21147894859313965,1.2404632568359375,2.027143955230713,2.027143955230713,1.2404632568359375,1.2404632568359375,2.2682840824127197,3.055293083190918,3.055293083190918,2.2682840824127197,2.2682840824127197,3.2945282459259033,4.080759525299072,4.080759525299072,3.2945282459259033,3.2945282459259033,4.317958354949951,5.1078855991363525,5.1078855991363525,4.317958354949951,4.317958354949951,5.344037294387817,6.133410215377808,6.133410215377808,5.344037294387817,5.344037294387817,6.370559930801392,7.1597900390625,7.1597900390625,6.370559930801392,6.370559930801392,7.395761013031006,8.185663938522339,8.185663938522339,7.395761013031006],\"y\":[1.6,1.6,2.4,2.4,null,0.6,0.6,1.4,1.4,null,-0.4,-0.4,0.4,0.4,null,1.6,1.6,2.4,2.4,null,0.6,0.6,1.4,1.4,null,-0.4,-0.4,0.4,0.4,null,1.6,1.6,2.4,2.4,null,0.6,0.6,1.4,1.4],\"type\":\"scatter\",\"xaxis\":\"x\",\"yaxis\":\"y\"},{\"fill\":\"toself\",\"fillcolor\":\"rgb(57, 105, 172)\",\"hoverinfo\":\"name\",\"legendgroup\":\"rgb(57, 105, 172)\",\"mode\":\"none\",\"name\":\"generate\",\"showlegend\":true,\"x\":[1.0013206005096436,1.0232620239257812,1.0232620239257812,1.0013206005096436,1.0013206005096436,2.027143955230713,2.051299810409546,2.051299810409546,2.027143955230713,2.027143955230713,3.055293083190918,3.0769784450531006,3.0769784450531006,3.055293083190918,3.055293083190918,4.080759525299072,4.1040589809417725,4.1040589809417725,4.080759525299072,4.080759525299072,5.1078855991363525,5.129502058029175,5.129502058029175,5.1078855991363525,5.1078855991363525,6.133410215377808,6.156150817871094,6.156150817871094,6.133410215377808,6.133410215377808,7.1597900390625,7.181989908218384,7.181989908218384,7.1597900390625,7.1597900390625,8.185663938522339,8.208261251449585,8.208261251449585,8.185663938522339],\"y\":[1.6,1.6,2.4,2.4,null,0.6,0.6,1.4,1.4,null,-0.4,-0.4,0.4,0.4,null,1.6,1.6,2.4,2.4,null,0.6,0.6,1.4,1.4,null,-0.4,-0.4,0.4,0.4,null,1.6,1.6,2.4,2.4,null,0.6,0.6,1.4,1.4],\"type\":\"scatter\",\"xaxis\":\"x\",\"yaxis\":\"y\"},{\"fill\":\"toself\",\"fillcolor\":\"rgb(242, 183, 1)\",\"hoverinfo\":\"name\",\"legendgroup\":\"rgb(242, 183, 1)\",\"mode\":\"none\",\"name\":\"receive\",\"showlegend\":true,\"x\":[1.0232620239257812,1.0253794193267822,1.0253794193267822,1.0232620239257812,1.0232620239257812,2.051299810409546,2.053532838821411,2.053532838821411,2.051299810409546,2.051299810409546,3.0769784450531006,3.0789496898651123,3.0789496898651123,3.0769784450531006,3.0769784450531006,4.1040589809417725,4.106175422668457,4.106175422668457,4.1040589809417725,4.1040589809417725,5.129502058029175,5.131500482559204,5.131500482559204,5.129502058029175,5.129502058029175,6.156150817871094,6.158157587051392,6.158157587051392,6.156150817871094,6.156150817871094,7.181989908218384,7.18389105796814,7.18389105796814,7.181989908218384,7.181989908218384,8.208261251449585,8.210195541381836,8.210195541381836,8.208261251449585],\"y\":[1.6,1.6,2.4,2.4,null,0.6,0.6,1.4,1.4,null,-0.4,-0.4,0.4,0.4,null,1.6,1.6,2.4,2.4,null,0.6,0.6,1.4,1.4,null,-0.4,-0.4,0.4,0.4,null,1.6,1.6,2.4,2.4,null,0.6,0.6,1.4,1.4],\"type\":\"scatter\",\"xaxis\":\"x\",\"yaxis\":\"y\"},{\"legendgroup\":\"rgb(127, 60, 141)\",\"marker\":{\"color\":\"rgb(127, 60, 141)\",\"opacity\":0,\"size\":1},\"mode\":\"markers\",\"name\":\"\",\"showlegend\":false,\"text\":[null,null,null,null,null,null,null,null,null,null,null,null,null,null,null,null],\"x\":[0.0011916160583496094,0.20125818252563477,1.0270195007324219,1.227083683013916,2.0551302433013916,2.255214214324951,3.0806331634521484,3.280698537826538,4.107748508453369,4.307816505432129,5.133280277252197,5.333348751068115,6.159654140472412,6.359726190567017,7.1855151653289795,7.3855931758880615],\"y\":[2,2,1,1,0,0,2,2,1,1,0,0,2,2,1,1],\"type\":\"scatter\",\"xaxis\":\"x\",\"yaxis\":\"y\"},{\"legendgroup\":\"rgb(128, 186, 90)\",\"marker\":{\"color\":\"rgb(128, 186, 90)\",\"opacity\":0,\"size\":1},\"mode\":\"markers\",\"name\":\"\",\"showlegend\":false,\"text\":[null,null,null,null,null,null,null,null,null,null,null,null,null,null,null,null],\"x\":[0.0,0.0011916160583496094,1.025754690170288,1.0270195007324219,2.054107666015625,2.0551302433013916,3.0794782638549805,3.0806331634521484,4.106562852859497,4.107748508453369,5.1318745613098145,5.133280277252197,6.1585328578948975,6.159654140472412,7.184313535690308,7.1855151653289795],\"y\":[2,2,1,1,0,0,2,2,1,1,0,0,2,2,1,1],\"type\":\"scatter\",\"xaxis\":\"x\",\"yaxis\":\"y\"},{\"legendgroup\":\"rgb(17, 165, 121)\",\"marker\":{\"color\":\"rgb(17, 165, 121)\",\"opacity\":0,\"size\":1},\"mode\":\"markers\",\"name\":\"\",\"showlegend\":false,\"text\":[null,null,null,null,null,null,null,null,null,null,null,null,null,null,null,null],\"x\":[0.21147894859313965,1.0013206005096436,1.2404632568359375,2.027143955230713,2.2682840824127197,3.055293083190918,3.2945282459259033,4.080759525299072,4.317958354949951,5.1078855991363525,5.344037294387817,6.133410215377808,6.370559930801392,7.1597900390625,7.395761013031006,8.185663938522339],\"y\":[2,2,1,1,0,0,2,2,1,1,0,0,2,2,1,1],\"type\":\"scatter\",\"xaxis\":\"x\",\"yaxis\":\"y\"},{\"legendgroup\":\"rgb(231, 63, 116)\",\"marker\":{\"color\":\"rgb(231, 63, 116)\",\"opacity\":0,\"size\":1},\"mode\":\"markers\",\"name\":\"\",\"showlegend\":false,\"text\":[null,null,null,null,null,null,null,null,null,null,null,null,null,null,null,null],\"x\":[0.20125818252563477,0.21147894859313965,1.227083683013916,1.2404632568359375,2.255214214324951,2.2682840824127197,3.280698537826538,3.2945282459259033,4.307816505432129,4.317958354949951,5.333348751068115,5.344037294387817,6.359726190567017,6.370559930801392,7.3855931758880615,7.395761013031006],\"y\":[2,2,1,1,0,0,2,2,1,1,0,0,2,2,1,1],\"type\":\"scatter\",\"xaxis\":\"x\",\"yaxis\":\"y\"},{\"legendgroup\":\"rgb(242, 183, 1)\",\"marker\":{\"color\":\"rgb(242, 183, 1)\",\"opacity\":0,\"size\":1},\"mode\":\"markers\",\"name\":\"\",\"showlegend\":false,\"text\":[null,null,null,null,null,null,null,null,null,null,null,null,null,null,null,null],\"x\":[1.0232620239257812,1.0253794193267822,2.051299810409546,2.053532838821411,3.0769784450531006,3.0789496898651123,4.1040589809417725,4.106175422668457,5.129502058029175,5.131500482559204,6.156150817871094,6.158157587051392,7.181989908218384,7.18389105796814,8.208261251449585,8.210195541381836],\"y\":[2,2,1,1,0,0,2,2,1,1,0,0,2,2,1,1],\"type\":\"scatter\",\"xaxis\":\"x\",\"yaxis\":\"y\"},{\"legendgroup\":\"rgb(57, 105, 172)\",\"marker\":{\"color\":\"rgb(57, 105, 172)\",\"opacity\":0,\"size\":1},\"mode\":\"markers\",\"name\":\"\",\"showlegend\":false,\"text\":[null,null,null,null,null,null,null,null,null,null,null,null,null,null,null,null],\"x\":[1.0013206005096436,1.0232620239257812,2.027143955230713,2.051299810409546,3.055293083190918,3.0769784450531006,4.080759525299072,4.1040589809417725,5.1078855991363525,5.129502058029175,6.133410215377808,6.156150817871094,7.1597900390625,7.181989908218384,8.185663938522339,8.208261251449585],\"y\":[2,2,1,1,0,0,2,2,1,1,0,0,2,2,1,1],\"type\":\"scatter\",\"xaxis\":\"x\",\"yaxis\":\"y\"},{\"fill\":\"toself\",\"fillcolor\":\"rgb(128, 186, 90)\",\"hoverinfo\":\"name\",\"legendgroup\":\"rgb(128, 186, 90)\",\"mode\":\"none\",\"name\":\"submit\",\"showlegend\":false,\"x\":[0.0,0.003228902816772461,0.003228902816772461,0.0,0.0,0.8006770610809326,0.8016724586486816,0.8016724586486816,0.8006770610809326,0.8006770610809326,1.6011903285980225,1.602287769317627,1.602287769317627,1.6011903285980225,1.6011903285980225,2.4017062187194824,2.403099298477173,2.403099298477173,2.4017062187194824,2.4017062187194824,3.202399492263794,3.2035868167877197,3.2035868167877197,3.202399492263794,3.202399492263794,4.002927541732788,4.004007816314697,4.004007816314697,4.002927541732788,4.002927541732788,4.803516864776611,4.804635047912598,4.804635047912598,4.803516864776611,4.803516864776611,5.604028940200806,5.605299711227417,5.605299711227417,5.604028940200806],\"y\":[1.6,1.6,2.4,2.4,null,0.6,0.6,1.4,1.4,null,-0.4,-0.4,0.4,0.4,null,1.6,1.6,2.4,2.4,null,0.6,0.6,1.4,1.4,null,-0.4,-0.4,0.4,0.4,null,1.6,1.6,2.4,2.4,null,0.6,0.6,1.4,1.4],\"type\":\"scatter\",\"xaxis\":\"x2\",\"yaxis\":\"y2\"},{\"fill\":\"toself\",\"fillcolor\":\"rgb(127, 60, 141)\",\"hoverinfo\":\"name\",\"legendgroup\":\"rgb(127, 60, 141)\",\"mode\":\"none\",\"name\":\"overhead\",\"showlegend\":false,\"x\":[0.003228902816772461,0.2032935619354248,0.2032935619354248,0.003228902816772461,0.003228902816772461,0.8016724586486816,1.0017409324645996,1.0017409324645996,0.8016724586486816,0.8016724586486816,1.602287769317627,1.8023490905761719,1.8023490905761719,1.602287769317627,1.602287769317627,2.403099298477173,2.6031689643859863,2.6031689643859863,2.403099298477173,2.403099298477173,3.2035868167877197,3.4036636352539062,3.4036636352539062,3.2035868167877197,3.2035868167877197,4.004007816314697,4.204071998596191,4.204071998596191,4.004007816314697,4.004007816314697,4.804635047912598,5.0047056674957275,5.0047056674957275,4.804635047912598,4.804635047912598,5.605299711227417,5.805363893508911,5.805363893508911,5.605299711227417],\"y\":[1.6,1.6,2.4,2.4,null,0.6,0.6,1.4,1.4,null,-0.4,-0.4,0.4,0.4,null,1.6,1.6,2.4,2.4,null,0.6,0.6,1.4,1.4,null,-0.4,-0.4,0.4,0.4,null,1.6,1.6,2.4,2.4,null,0.6,0.6,1.4,1.4],\"type\":\"scatter\",\"xaxis\":\"x2\",\"yaxis\":\"y2\"},{\"fill\":\"toself\",\"fillcolor\":\"rgb(231, 63, 116)\",\"hoverinfo\":\"name\",\"legendgroup\":\"rgb(231, 63, 116)\",\"mode\":\"none\",\"name\":\"resolve\",\"showlegend\":false,\"x\":[0.2032935619354248,0.21391820907592773,0.21391820907592773,0.2032935619354248,0.2032935619354248,1.0017409324645996,1.03590726852417,1.03590726852417,1.0017409324645996,1.0017409324645996,1.8023490905761719,1.836989164352417,1.836989164352417,1.8023490905761719,1.8023490905761719,2.6031689643859863,2.634087085723877,2.634087085723877,2.6031689643859863,2.6031689643859863,3.4036636352539062,3.436781406402588,3.436781406402588,3.4036636352539062,3.4036636352539062,4.204071998596191,4.239460706710815,4.239460706710815,4.204071998596191,4.204071998596191,5.0047056674957275,5.037428617477417,5.037428617477417,5.0047056674957275,5.0047056674957275,5.805363893508911,5.841763496398926,5.841763496398926,5.805363893508911],\"y\":[1.6,1.6,2.4,2.4,null,0.6,0.6,1.4,1.4,null,-0.4,-0.4,0.4,0.4,null,1.6,1.6,2.4,2.4,null,0.6,0.6,1.4,1.4,null,-0.4,-0.4,0.4,0.4,null,1.6,1.6,2.4,2.4,null,0.6,0.6,1.4,1.4],\"type\":\"scatter\",\"xaxis\":\"x2\",\"yaxis\":\"y2\"},{\"fill\":\"toself\",\"fillcolor\":\"rgb(17, 165, 121)\",\"hoverinfo\":\"name\",\"legendgroup\":\"rgb(17, 165, 121)\",\"mode\":\"none\",\"name\":\"compute\",\"showlegend\":false,\"x\":[0.21391820907592773,1.0033528804779053,1.0033528804779053,0.21391820907592773,0.21391820907592773,1.03590726852417,1.8018076419830322,1.8018076419830322,1.03590726852417,1.03590726852417,1.836989164352417,2.602416515350342,2.602416515350342,1.836989164352417,1.836989164352417,2.634087085723877,3.4032344818115234,3.4032344818115234,2.634087085723877,2.634087085723877,3.436781406402588,4.203735828399658,4.203735828399658,3.436781406402588,3.436781406402588,4.239460706710815,5.004134178161621,5.004134178161621,4.239460706710815,4.239460706710815,5.037428617477417,5.804765701293945,5.804765701293945,5.037428617477417,5.037428617477417,5.841763496398926,6.605443716049194,6.605443716049194,5.841763496398926],\"y\":[1.6,1.6,2.4,2.4,null,0.6,0.6,1.4,1.4,null,-0.4,-0.4,0.4,0.4,null,1.6,1.6,2.4,2.4,null,0.6,0.6,1.4,1.4,null,-0.4,-0.4,0.4,0.4,null,1.6,1.6,2.4,2.4,null,0.6,0.6,1.4,1.4],\"type\":\"scatter\",\"xaxis\":\"x2\",\"yaxis\":\"y2\"},{\"fill\":\"toself\",\"fillcolor\":\"rgb(57, 105, 172)\",\"hoverinfo\":\"name\",\"legendgroup\":\"rgb(57, 105, 172)\",\"mode\":\"none\",\"name\":\"generate\",\"showlegend\":false,\"x\":[1.0033528804779053,1.0251977443695068,1.0251977443695068,1.0033528804779053,1.0033528804779053,1.8018076419830322,1.8244645595550537,1.8244645595550537,1.8018076419830322,1.8018076419830322,2.602416515350342,2.6238698959350586,2.6238698959350586,2.602416515350342,2.602416515350342,3.4032344818115234,3.4269015789031982,3.4269015789031982,3.4032344818115234,3.4032344818115234,4.203735828399658,4.225224494934082,4.225224494934082,4.203735828399658,4.203735828399658,5.004134178161621,5.026766538619995,5.026766538619995,5.004134178161621,5.004134178161621,5.804765701293945,5.827421426773071,5.827421426773071,5.804765701293945,5.804765701293945,6.605443716049194,6.628499984741211,6.628499984741211,6.605443716049194],\"y\":[1.6,1.6,2.4,2.4,null,0.6,0.6,1.4,1.4,null,-0.4,-0.4,0.4,0.4,null,1.6,1.6,2.4,2.4,null,0.6,0.6,1.4,1.4,null,-0.4,-0.4,0.4,0.4,null,1.6,1.6,2.4,2.4,null,0.6,0.6,1.4,1.4],\"type\":\"scatter\",\"xaxis\":\"x2\",\"yaxis\":\"y2\"},{\"fill\":\"toself\",\"fillcolor\":\"rgb(242, 183, 1)\",\"hoverinfo\":\"name\",\"legendgroup\":\"rgb(242, 183, 1)\",\"mode\":\"none\",\"name\":\"receive\",\"showlegend\":false,\"x\":[1.0251977443695068,1.027392864227295,1.027392864227295,1.0251977443695068,1.0251977443695068,1.8244645595550537,1.8288016319274902,1.8288016319274902,1.8244645595550537,1.8244645595550537,2.6238698959350586,2.6302289962768555,2.6302289962768555,2.6238698959350586,2.6238698959350586,3.4269015789031982,3.4317569732666016,3.4317569732666016,3.4269015789031982,3.4269015789031982,4.225224494934082,4.2331695556640625,4.2331695556640625,4.225224494934082,4.225224494934082,5.026766538619995,5.034634828567505,5.034634828567505,5.026766538619995,5.026766538619995,5.827421426773071,5.836007118225098,5.836007118225098,5.827421426773071,5.827421426773071,6.628499984741211,6.637578010559082,6.637578010559082,6.628499984741211],\"y\":[1.6,1.6,2.4,2.4,null,0.6,0.6,1.4,1.4,null,-0.4,-0.4,0.4,0.4,null,1.6,1.6,2.4,2.4,null,0.6,0.6,1.4,1.4,null,-0.4,-0.4,0.4,0.4,null,1.6,1.6,2.4,2.4,null,0.6,0.6,1.4,1.4],\"type\":\"scatter\",\"xaxis\":\"x2\",\"yaxis\":\"y2\"},{\"legendgroup\":\"rgb(127, 60, 141)\",\"marker\":{\"color\":\"rgb(127, 60, 141)\",\"opacity\":0,\"size\":1},\"mode\":\"markers\",\"name\":\"\",\"showlegend\":false,\"text\":[null,null,null,null,null,null,null,null,null,null,null,null,null,null,null,null],\"x\":[0.003228902816772461,0.2032935619354248,0.8016724586486816,1.0017409324645996,1.602287769317627,1.8023490905761719,2.403099298477173,2.6031689643859863,3.2035868167877197,3.4036636352539062,4.004007816314697,4.204071998596191,4.804635047912598,5.0047056674957275,5.605299711227417,5.805363893508911],\"y\":[2,2,1,1,0,0,2,2,1,1,0,0,2,2,1,1],\"type\":\"scatter\",\"xaxis\":\"x2\",\"yaxis\":\"y2\"},{\"legendgroup\":\"rgb(128, 186, 90)\",\"marker\":{\"color\":\"rgb(128, 186, 90)\",\"opacity\":0,\"size\":1},\"mode\":\"markers\",\"name\":\"\",\"showlegend\":false,\"text\":[null,null,null,null,null,null,null,null,null,null,null,null,null,null,null,null],\"x\":[0.0,0.003228902816772461,0.8006770610809326,0.8016724586486816,1.6011903285980225,1.602287769317627,2.4017062187194824,2.403099298477173,3.202399492263794,3.2035868167877197,4.002927541732788,4.004007816314697,4.803516864776611,4.804635047912598,5.604028940200806,5.605299711227417],\"y\":[2,2,1,1,0,0,2,2,1,1,0,0,2,2,1,1],\"type\":\"scatter\",\"xaxis\":\"x2\",\"yaxis\":\"y2\"},{\"legendgroup\":\"rgb(17, 165, 121)\",\"marker\":{\"color\":\"rgb(17, 165, 121)\",\"opacity\":0,\"size\":1},\"mode\":\"markers\",\"name\":\"\",\"showlegend\":false,\"text\":[null,null,null,null,null,null,null,null,null,null,null,null,null,null,null,null],\"x\":[0.21391820907592773,1.0033528804779053,1.03590726852417,1.8018076419830322,1.836989164352417,2.602416515350342,2.634087085723877,3.4032344818115234,3.436781406402588,4.203735828399658,4.239460706710815,5.004134178161621,5.037428617477417,5.804765701293945,5.841763496398926,6.605443716049194],\"y\":[2,2,1,1,0,0,2,2,1,1,0,0,2,2,1,1],\"type\":\"scatter\",\"xaxis\":\"x2\",\"yaxis\":\"y2\"},{\"legendgroup\":\"rgb(231, 63, 116)\",\"marker\":{\"color\":\"rgb(231, 63, 116)\",\"opacity\":0,\"size\":1},\"mode\":\"markers\",\"name\":\"\",\"showlegend\":false,\"text\":[null,null,null,null,null,null,null,null,null,null,null,null,null,null,null,null],\"x\":[0.2032935619354248,0.21391820907592773,1.0017409324645996,1.03590726852417,1.8023490905761719,1.836989164352417,2.6031689643859863,2.634087085723877,3.4036636352539062,3.436781406402588,4.204071998596191,4.239460706710815,5.0047056674957275,5.037428617477417,5.805363893508911,5.841763496398926],\"y\":[2,2,1,1,0,0,2,2,1,1,0,0,2,2,1,1],\"type\":\"scatter\",\"xaxis\":\"x2\",\"yaxis\":\"y2\"},{\"legendgroup\":\"rgb(242, 183, 1)\",\"marker\":{\"color\":\"rgb(242, 183, 1)\",\"opacity\":0,\"size\":1},\"mode\":\"markers\",\"name\":\"\",\"showlegend\":false,\"text\":[null,null,null,null,null,null,null,null,null,null,null,null,null,null,null,null],\"x\":[1.0251977443695068,1.027392864227295,1.8244645595550537,1.8288016319274902,2.6238698959350586,2.6302289962768555,3.4269015789031982,3.4317569732666016,4.225224494934082,4.2331695556640625,5.026766538619995,5.034634828567505,5.827421426773071,5.836007118225098,6.628499984741211,6.637578010559082],\"y\":[2,2,1,1,0,0,2,2,1,1,0,0,2,2,1,1],\"type\":\"scatter\",\"xaxis\":\"x2\",\"yaxis\":\"y2\"},{\"legendgroup\":\"rgb(57, 105, 172)\",\"marker\":{\"color\":\"rgb(57, 105, 172)\",\"opacity\":0,\"size\":1},\"mode\":\"markers\",\"name\":\"\",\"showlegend\":false,\"text\":[null,null,null,null,null,null,null,null,null,null,null,null,null,null,null,null],\"x\":[1.0033528804779053,1.0251977443695068,1.8018076419830322,1.8244645595550537,2.602416515350342,2.6238698959350586,3.4032344818115234,3.4269015789031982,4.203735828399658,4.225224494934082,5.004134178161621,5.026766538619995,5.804765701293945,5.827421426773071,6.605443716049194,6.628499984741211],\"y\":[2,2,1,1,0,0,2,2,1,1,0,0,2,2,1,1],\"type\":\"scatter\",\"xaxis\":\"x2\",\"yaxis\":\"y2\"},{\"fill\":\"toself\",\"fillcolor\":\"rgb(128, 186, 90)\",\"hoverinfo\":\"name\",\"legendgroup\":\"rgb(128, 186, 90)\",\"mode\":\"none\",\"name\":\"submit\",\"showlegend\":false,\"x\":[0.0,0.0012085437774658203,0.0012085437774658203,0.0,0.0,0.5004584789276123,0.5015249252319336,0.5015249252319336,0.5004584789276123,0.5004584789276123,1.0009570121765137,1.0134053230285645,1.0134053230285645,1.0009570121765137,1.0009570121765137,1.5014317035675049,1.5026121139526367,1.5026121139526367,1.5014317035675049,1.5014317035675049,2.0021121501922607,2.0032312870025635,2.0032312870025635,2.0021121501922607,2.0021121501922607,2.502627372741699,2.5148680210113525,2.5148680210113525,2.502627372741699,2.502627372741699,3.0031003952026367,3.0043938159942627,3.0043938159942627,3.0031003952026367,3.0031003952026367,3.503572463989258,3.5048019886016846,3.5048019886016846,3.503572463989258],\"y\":[1.6,1.6,2.4,2.4,null,0.6,0.6,1.4,1.4,null,-0.4,-0.4,0.4,0.4,null,1.6,1.6,2.4,2.4,null,0.6,0.6,1.4,1.4,null,-0.4,-0.4,0.4,0.4,null,1.6,1.6,2.4,2.4,null,0.6,0.6,1.4,1.4],\"type\":\"scatter\",\"xaxis\":\"x3\",\"yaxis\":\"y3\"},{\"fill\":\"toself\",\"fillcolor\":\"rgb(127, 60, 141)\",\"hoverinfo\":\"name\",\"legendgroup\":\"rgb(127, 60, 141)\",\"mode\":\"none\",\"name\":\"overhead\",\"showlegend\":false,\"x\":[0.0012085437774658203,0.5012784004211426,0.5012784004211426,0.0012085437774658203,0.0012085437774658203,0.5015249252319336,1.001589059829712,1.001589059829712,0.5015249252319336,0.5015249252319336,1.0134053230285645,1.513469934463501,1.513469934463501,1.0134053230285645,1.0134053230285645,1.5026121139526367,2.002683401107788,2.002683401107788,1.5026121139526367,1.5026121139526367,2.0032312870025635,2.503296375274658,2.503296375274658,2.0032312870025635,2.0032312870025635,2.5148680210113525,3.014932155609131,3.014932155609131,2.5148680210113525,2.5148680210113525,3.0043938159942627,3.5044703483581543,3.5044703483581543,3.0043938159942627,3.0043938159942627,3.5048019886016846,4.004870653152466,4.004870653152466,3.5048019886016846],\"y\":[1.6,1.6,2.4,2.4,null,0.6,0.6,1.4,1.4,null,-0.4,-0.4,0.4,0.4,null,1.6,1.6,2.4,2.4,null,0.6,0.6,1.4,1.4,null,-0.4,-0.4,0.4,0.4,null,1.6,1.6,2.4,2.4,null,0.6,0.6,1.4,1.4],\"type\":\"scatter\",\"xaxis\":\"x3\",\"yaxis\":\"y3\"},{\"fill\":\"toself\",\"fillcolor\":\"rgb(231, 63, 116)\",\"hoverinfo\":\"name\",\"legendgroup\":\"rgb(231, 63, 116)\",\"mode\":\"none\",\"name\":\"resolve\",\"showlegend\":false,\"x\":[0.5012784004211426,0.5119655132293701,0.5119655132293701,0.5012784004211426,0.5012784004211426,1.001589059829712,1.03328537940979,1.03328537940979,1.001589059829712,1.001589059829712,1.513469934463501,1.5346348285675049,1.5346348285675049,1.513469934463501,1.513469934463501,2.002683401107788,2.0495471954345703,2.0495471954345703,2.002683401107788,2.002683401107788,2.503296375274658,2.5368192195892334,2.5368192195892334,2.503296375274658,2.503296375274658,3.014932155609131,3.03273868560791,3.03273868560791,3.014932155609131,3.014932155609131,3.5044703483581543,3.5465168952941895,3.5465168952941895,3.5044703483581543,3.5044703483581543,4.004870653152466,4.036640405654907,4.036640405654907,4.004870653152466],\"y\":[1.6,1.6,2.4,2.4,null,0.6,0.6,1.4,1.4,null,-0.4,-0.4,0.4,0.4,null,1.6,1.6,2.4,2.4,null,0.6,0.6,1.4,1.4,null,-0.4,-0.4,0.4,0.4,null,1.6,1.6,2.4,2.4,null,0.6,0.6,1.4,1.4],\"type\":\"scatter\",\"xaxis\":\"x3\",\"yaxis\":\"y3\"},{\"fill\":\"toself\",\"fillcolor\":\"rgb(17, 165, 121)\",\"hoverinfo\":\"name\",\"legendgroup\":\"rgb(17, 165, 121)\",\"mode\":\"none\",\"name\":\"compute\",\"showlegend\":false,\"x\":[0.5119655132293701,1.0013446807861328,1.0013446807861328,0.5119655132293701,0.5119655132293701,1.03328537940979,1.5016674995422363,1.5016674995422363,1.03328537940979,1.03328537940979,1.5346348285675049,2.0135338306427,2.0135338306427,1.5346348285675049,1.5346348285675049,2.0495471954345703,2.5027527809143066,2.5027527809143066,2.0495471954345703,2.0495471954345703,2.5368192195892334,3.0033621788024902,3.0033621788024902,2.5368192195892334,2.5368192195892334,3.03273868560791,3.5150198936462402,3.5150198936462402,3.03273868560791,3.03273868560791,3.5465168952941895,4.004540920257568,4.004540920257568,3.5465168952941895,3.5465168952941895,4.036640405654907,4.504932403564453,4.504932403564453,4.036640405654907],\"y\":[1.6,1.6,2.4,2.4,null,0.6,0.6,1.4,1.4,null,-0.4,-0.4,0.4,0.4,null,1.6,1.6,2.4,2.4,null,0.6,0.6,1.4,1.4,null,-0.4,-0.4,0.4,0.4,null,1.6,1.6,2.4,2.4,null,0.6,0.6,1.4,1.4],\"type\":\"scatter\",\"xaxis\":\"x3\",\"yaxis\":\"y3\"},{\"fill\":\"toself\",\"fillcolor\":\"rgb(57, 105, 172)\",\"hoverinfo\":\"name\",\"legendgroup\":\"rgb(57, 105, 172)\",\"mode\":\"none\",\"name\":\"generate\",\"showlegend\":false,\"x\":[1.0013446807861328,1.0230236053466797,1.0230236053466797,1.0013446807861328,1.0013446807861328,1.5016674995422363,1.5220732688903809,1.5220732688903809,1.5016674995422363,1.5016674995422363,2.0135338306427,2.035762310028076,2.035762310028076,2.0135338306427,2.0135338306427,2.5027527809143066,2.5242230892181396,2.5242230892181396,2.5027527809143066,2.5027527809143066,3.0033621788024902,3.0234482288360596,3.0234482288360596,3.0033621788024902,3.0033621788024902,3.5150198936462402,3.5362253189086914,3.5362253189086914,3.5150198936462402,3.5150198936462402,4.004540920257568,4.026112079620361,4.026112079620361,4.004540920257568,4.004540920257568,4.504932403564453,4.52743673324585,4.52743673324585,4.504932403564453],\"y\":[1.6,1.6,2.4,2.4,null,0.6,0.6,1.4,1.4,null,-0.4,-0.4,0.4,0.4,null,1.6,1.6,2.4,2.4,null,0.6,0.6,1.4,1.4,null,-0.4,-0.4,0.4,0.4,null,1.6,1.6,2.4,2.4,null,0.6,0.6,1.4,1.4],\"type\":\"scatter\",\"xaxis\":\"x3\",\"yaxis\":\"y3\"},{\"fill\":\"toself\",\"fillcolor\":\"rgb(242, 183, 1)\",\"hoverinfo\":\"name\",\"legendgroup\":\"rgb(242, 183, 1)\",\"mode\":\"none\",\"name\":\"receive\",\"showlegend\":false,\"x\":[1.0230236053466797,1.0246541500091553,1.0246541500091553,1.0230236053466797,1.0230236053466797,1.5220732688903809,1.5260608196258545,1.5260608196258545,1.5220732688903809,1.5220732688903809,2.035762310028076,2.0374338626861572,2.0374338626861572,2.035762310028076,2.035762310028076,2.5242230892181396,2.5388569831848145,2.5388569831848145,2.5242230892181396,2.5242230892181396,3.0234482288360596,3.0401835441589355,3.0401835441589355,3.0234482288360596,3.0234482288360596,3.5362253189086914,3.5469138622283936,3.5469138622283936,3.5362253189086914,3.5362253189086914,4.026112079620361,4.048342943191528,4.048342943191528,4.026112079620361,4.026112079620361,4.52743673324585,4.549788236618042,4.549788236618042,4.52743673324585],\"y\":[1.6,1.6,2.4,2.4,null,0.6,0.6,1.4,1.4,null,-0.4,-0.4,0.4,0.4,null,1.6,1.6,2.4,2.4,null,0.6,0.6,1.4,1.4,null,-0.4,-0.4,0.4,0.4,null,1.6,1.6,2.4,2.4,null,0.6,0.6,1.4,1.4],\"type\":\"scatter\",\"xaxis\":\"x3\",\"yaxis\":\"y3\"},{\"legendgroup\":\"rgb(127, 60, 141)\",\"marker\":{\"color\":\"rgb(127, 60, 141)\",\"opacity\":0,\"size\":1},\"mode\":\"markers\",\"name\":\"\",\"showlegend\":false,\"text\":[null,null,null,null,null,null,null,null,null,null,null,null,null,null,null,null],\"x\":[0.0012085437774658203,0.5012784004211426,0.5015249252319336,1.001589059829712,1.0134053230285645,1.513469934463501,1.5026121139526367,2.002683401107788,2.0032312870025635,2.503296375274658,2.5148680210113525,3.014932155609131,3.0043938159942627,3.5044703483581543,3.5048019886016846,4.004870653152466],\"y\":[2,2,1,1,0,0,2,2,1,1,0,0,2,2,1,1],\"type\":\"scatter\",\"xaxis\":\"x3\",\"yaxis\":\"y3\"},{\"legendgroup\":\"rgb(128, 186, 90)\",\"marker\":{\"color\":\"rgb(128, 186, 90)\",\"opacity\":0,\"size\":1},\"mode\":\"markers\",\"name\":\"\",\"showlegend\":false,\"text\":[null,null,null,null,null,null,null,null,null,null,null,null,null,null,null,null],\"x\":[0.0,0.0012085437774658203,0.5004584789276123,0.5015249252319336,1.0009570121765137,1.0134053230285645,1.5014317035675049,1.5026121139526367,2.0021121501922607,2.0032312870025635,2.502627372741699,2.5148680210113525,3.0031003952026367,3.0043938159942627,3.503572463989258,3.5048019886016846],\"y\":[2,2,1,1,0,0,2,2,1,1,0,0,2,2,1,1],\"type\":\"scatter\",\"xaxis\":\"x3\",\"yaxis\":\"y3\"},{\"legendgroup\":\"rgb(17, 165, 121)\",\"marker\":{\"color\":\"rgb(17, 165, 121)\",\"opacity\":0,\"size\":1},\"mode\":\"markers\",\"name\":\"\",\"showlegend\":false,\"text\":[null,null,null,null,null,null,null,null,null,null,null,null,null,null,null,null],\"x\":[0.5119655132293701,1.0013446807861328,1.03328537940979,1.5016674995422363,1.5346348285675049,2.0135338306427,2.0495471954345703,2.5027527809143066,2.5368192195892334,3.0033621788024902,3.03273868560791,3.5150198936462402,3.5465168952941895,4.004540920257568,4.036640405654907,4.504932403564453],\"y\":[2,2,1,1,0,0,2,2,1,1,0,0,2,2,1,1],\"type\":\"scatter\",\"xaxis\":\"x3\",\"yaxis\":\"y3\"},{\"legendgroup\":\"rgb(231, 63, 116)\",\"marker\":{\"color\":\"rgb(231, 63, 116)\",\"opacity\":0,\"size\":1},\"mode\":\"markers\",\"name\":\"\",\"showlegend\":false,\"text\":[null,null,null,null,null,null,null,null,null,null,null,null,null,null,null,null],\"x\":[0.5012784004211426,0.5119655132293701,1.001589059829712,1.03328537940979,1.513469934463501,1.5346348285675049,2.002683401107788,2.0495471954345703,2.503296375274658,2.5368192195892334,3.014932155609131,3.03273868560791,3.5044703483581543,3.5465168952941895,4.004870653152466,4.036640405654907],\"y\":[2,2,1,1,0,0,2,2,1,1,0,0,2,2,1,1],\"type\":\"scatter\",\"xaxis\":\"x3\",\"yaxis\":\"y3\"},{\"legendgroup\":\"rgb(242, 183, 1)\",\"marker\":{\"color\":\"rgb(242, 183, 1)\",\"opacity\":0,\"size\":1},\"mode\":\"markers\",\"name\":\"\",\"showlegend\":false,\"text\":[null,null,null,null,null,null,null,null,null,null,null,null,null,null,null,null],\"x\":[1.0230236053466797,1.0246541500091553,1.5220732688903809,1.5260608196258545,2.035762310028076,2.0374338626861572,2.5242230892181396,2.5388569831848145,3.0234482288360596,3.0401835441589355,3.5362253189086914,3.5469138622283936,4.026112079620361,4.048342943191528,4.52743673324585,4.549788236618042],\"y\":[2,2,1,1,0,0,2,2,1,1,0,0,2,2,1,1],\"type\":\"scatter\",\"xaxis\":\"x3\",\"yaxis\":\"y3\"},{\"legendgroup\":\"rgb(57, 105, 172)\",\"marker\":{\"color\":\"rgb(57, 105, 172)\",\"opacity\":0,\"size\":1},\"mode\":\"markers\",\"name\":\"\",\"showlegend\":false,\"text\":[null,null,null,null,null,null,null,null,null,null,null,null,null,null,null,null],\"x\":[1.0013446807861328,1.0230236053466797,1.5016674995422363,1.5220732688903809,2.0135338306427,2.035762310028076,2.5027527809143066,2.5242230892181396,3.0033621788024902,3.0234482288360596,3.5150198936462402,3.5362253189086914,4.004540920257568,4.026112079620361,4.504932403564453,4.52743673324585],\"y\":[2,2,1,1,0,0,2,2,1,1,0,0,2,2,1,1],\"type\":\"scatter\",\"xaxis\":\"x3\",\"yaxis\":\"y3\"}],                        {\"template\":{\"data\":{\"barpolar\":[{\"marker\":{\"line\":{\"color\":\"white\",\"width\":0.5},\"pattern\":{\"fillmode\":\"overlay\",\"size\":10,\"solidity\":0.2}},\"type\":\"barpolar\"}],\"bar\":[{\"error_x\":{\"color\":\"rgb(36,36,36)\"},\"error_y\":{\"color\":\"rgb(36,36,36)\"},\"marker\":{\"line\":{\"color\":\"white\",\"width\":0.5},\"pattern\":{\"fillmode\":\"overlay\",\"size\":10,\"solidity\":0.2}},\"type\":\"bar\"}],\"carpet\":[{\"aaxis\":{\"endlinecolor\":\"rgb(36,36,36)\",\"gridcolor\":\"white\",\"linecolor\":\"white\",\"minorgridcolor\":\"white\",\"startlinecolor\":\"rgb(36,36,36)\"},\"baxis\":{\"endlinecolor\":\"rgb(36,36,36)\",\"gridcolor\":\"white\",\"linecolor\":\"white\",\"minorgridcolor\":\"white\",\"startlinecolor\":\"rgb(36,36,36)\"},\"type\":\"carpet\"}],\"choropleth\":[{\"colorbar\":{\"outlinewidth\":1,\"tickcolor\":\"rgb(36,36,36)\",\"ticks\":\"outside\"},\"type\":\"choropleth\"}],\"contourcarpet\":[{\"colorbar\":{\"outlinewidth\":1,\"tickcolor\":\"rgb(36,36,36)\",\"ticks\":\"outside\"},\"type\":\"contourcarpet\"}],\"contour\":[{\"colorbar\":{\"outlinewidth\":1,\"tickcolor\":\"rgb(36,36,36)\",\"ticks\":\"outside\"},\"colorscale\":[[0.0,\"#440154\"],[0.1111111111111111,\"#482878\"],[0.2222222222222222,\"#3e4989\"],[0.3333333333333333,\"#31688e\"],[0.4444444444444444,\"#26828e\"],[0.5555555555555556,\"#1f9e89\"],[0.6666666666666666,\"#35b779\"],[0.7777777777777778,\"#6ece58\"],[0.8888888888888888,\"#b5de2b\"],[1.0,\"#fde725\"]],\"type\":\"contour\"}],\"heatmapgl\":[{\"colorbar\":{\"outlinewidth\":1,\"tickcolor\":\"rgb(36,36,36)\",\"ticks\":\"outside\"},\"colorscale\":[[0.0,\"#440154\"],[0.1111111111111111,\"#482878\"],[0.2222222222222222,\"#3e4989\"],[0.3333333333333333,\"#31688e\"],[0.4444444444444444,\"#26828e\"],[0.5555555555555556,\"#1f9e89\"],[0.6666666666666666,\"#35b779\"],[0.7777777777777778,\"#6ece58\"],[0.8888888888888888,\"#b5de2b\"],[1.0,\"#fde725\"]],\"type\":\"heatmapgl\"}],\"heatmap\":[{\"colorbar\":{\"outlinewidth\":1,\"tickcolor\":\"rgb(36,36,36)\",\"ticks\":\"outside\"},\"colorscale\":[[0.0,\"#440154\"],[0.1111111111111111,\"#482878\"],[0.2222222222222222,\"#3e4989\"],[0.3333333333333333,\"#31688e\"],[0.4444444444444444,\"#26828e\"],[0.5555555555555556,\"#1f9e89\"],[0.6666666666666666,\"#35b779\"],[0.7777777777777778,\"#6ece58\"],[0.8888888888888888,\"#b5de2b\"],[1.0,\"#fde725\"]],\"type\":\"heatmap\"}],\"histogram2dcontour\":[{\"colorbar\":{\"outlinewidth\":1,\"tickcolor\":\"rgb(36,36,36)\",\"ticks\":\"outside\"},\"colorscale\":[[0.0,\"#440154\"],[0.1111111111111111,\"#482878\"],[0.2222222222222222,\"#3e4989\"],[0.3333333333333333,\"#31688e\"],[0.4444444444444444,\"#26828e\"],[0.5555555555555556,\"#1f9e89\"],[0.6666666666666666,\"#35b779\"],[0.7777777777777778,\"#6ece58\"],[0.8888888888888888,\"#b5de2b\"],[1.0,\"#fde725\"]],\"type\":\"histogram2dcontour\"}],\"histogram2d\":[{\"colorbar\":{\"outlinewidth\":1,\"tickcolor\":\"rgb(36,36,36)\",\"ticks\":\"outside\"},\"colorscale\":[[0.0,\"#440154\"],[0.1111111111111111,\"#482878\"],[0.2222222222222222,\"#3e4989\"],[0.3333333333333333,\"#31688e\"],[0.4444444444444444,\"#26828e\"],[0.5555555555555556,\"#1f9e89\"],[0.6666666666666666,\"#35b779\"],[0.7777777777777778,\"#6ece58\"],[0.8888888888888888,\"#b5de2b\"],[1.0,\"#fde725\"]],\"type\":\"histogram2d\"}],\"histogram\":[{\"marker\":{\"line\":{\"color\":\"white\",\"width\":0.6}},\"type\":\"histogram\"}],\"mesh3d\":[{\"colorbar\":{\"outlinewidth\":1,\"tickcolor\":\"rgb(36,36,36)\",\"ticks\":\"outside\"},\"type\":\"mesh3d\"}],\"parcoords\":[{\"line\":{\"colorbar\":{\"outlinewidth\":1,\"tickcolor\":\"rgb(36,36,36)\",\"ticks\":\"outside\"}},\"type\":\"parcoords\"}],\"pie\":[{\"automargin\":true,\"type\":\"pie\"}],\"scatter3d\":[{\"line\":{\"colorbar\":{\"outlinewidth\":1,\"tickcolor\":\"rgb(36,36,36)\",\"ticks\":\"outside\"}},\"marker\":{\"colorbar\":{\"outlinewidth\":1,\"tickcolor\":\"rgb(36,36,36)\",\"ticks\":\"outside\"}},\"type\":\"scatter3d\"}],\"scattercarpet\":[{\"marker\":{\"colorbar\":{\"outlinewidth\":1,\"tickcolor\":\"rgb(36,36,36)\",\"ticks\":\"outside\"}},\"type\":\"scattercarpet\"}],\"scattergeo\":[{\"marker\":{\"colorbar\":{\"outlinewidth\":1,\"tickcolor\":\"rgb(36,36,36)\",\"ticks\":\"outside\"}},\"type\":\"scattergeo\"}],\"scattergl\":[{\"marker\":{\"colorbar\":{\"outlinewidth\":1,\"tickcolor\":\"rgb(36,36,36)\",\"ticks\":\"outside\"}},\"type\":\"scattergl\"}],\"scattermapbox\":[{\"marker\":{\"colorbar\":{\"outlinewidth\":1,\"tickcolor\":\"rgb(36,36,36)\",\"ticks\":\"outside\"}},\"type\":\"scattermapbox\"}],\"scatterpolargl\":[{\"marker\":{\"colorbar\":{\"outlinewidth\":1,\"tickcolor\":\"rgb(36,36,36)\",\"ticks\":\"outside\"}},\"type\":\"scatterpolargl\"}],\"scatterpolar\":[{\"marker\":{\"colorbar\":{\"outlinewidth\":1,\"tickcolor\":\"rgb(36,36,36)\",\"ticks\":\"outside\"}},\"type\":\"scatterpolar\"}],\"scatter\":[{\"fillpattern\":{\"fillmode\":\"overlay\",\"size\":10,\"solidity\":0.2},\"type\":\"scatter\"}],\"scatterternary\":[{\"marker\":{\"colorbar\":{\"outlinewidth\":1,\"tickcolor\":\"rgb(36,36,36)\",\"ticks\":\"outside\"}},\"type\":\"scatterternary\"}],\"surface\":[{\"colorbar\":{\"outlinewidth\":1,\"tickcolor\":\"rgb(36,36,36)\",\"ticks\":\"outside\"},\"colorscale\":[[0.0,\"#440154\"],[0.1111111111111111,\"#482878\"],[0.2222222222222222,\"#3e4989\"],[0.3333333333333333,\"#31688e\"],[0.4444444444444444,\"#26828e\"],[0.5555555555555556,\"#1f9e89\"],[0.6666666666666666,\"#35b779\"],[0.7777777777777778,\"#6ece58\"],[0.8888888888888888,\"#b5de2b\"],[1.0,\"#fde725\"]],\"type\":\"surface\"}],\"table\":[{\"cells\":{\"fill\":{\"color\":\"rgb(237,237,237)\"},\"line\":{\"color\":\"white\"}},\"header\":{\"fill\":{\"color\":\"rgb(217,217,217)\"},\"line\":{\"color\":\"white\"}},\"type\":\"table\"}]},\"layout\":{\"annotationdefaults\":{\"arrowhead\":0,\"arrowwidth\":1},\"autotypenumbers\":\"strict\",\"coloraxis\":{\"colorbar\":{\"outlinewidth\":1,\"tickcolor\":\"rgb(36,36,36)\",\"ticks\":\"outside\"}},\"colorscale\":{\"diverging\":[[0.0,\"rgb(103,0,31)\"],[0.1,\"rgb(178,24,43)\"],[0.2,\"rgb(214,96,77)\"],[0.3,\"rgb(244,165,130)\"],[0.4,\"rgb(253,219,199)\"],[0.5,\"rgb(247,247,247)\"],[0.6,\"rgb(209,229,240)\"],[0.7,\"rgb(146,197,222)\"],[0.8,\"rgb(67,147,195)\"],[0.9,\"rgb(33,102,172)\"],[1.0,\"rgb(5,48,97)\"]],\"sequential\":[[0.0,\"#440154\"],[0.1111111111111111,\"#482878\"],[0.2222222222222222,\"#3e4989\"],[0.3333333333333333,\"#31688e\"],[0.4444444444444444,\"#26828e\"],[0.5555555555555556,\"#1f9e89\"],[0.6666666666666666,\"#35b779\"],[0.7777777777777778,\"#6ece58\"],[0.8888888888888888,\"#b5de2b\"],[1.0,\"#fde725\"]],\"sequentialminus\":[[0.0,\"#440154\"],[0.1111111111111111,\"#482878\"],[0.2222222222222222,\"#3e4989\"],[0.3333333333333333,\"#31688e\"],[0.4444444444444444,\"#26828e\"],[0.5555555555555556,\"#1f9e89\"],[0.6666666666666666,\"#35b779\"],[0.7777777777777778,\"#6ece58\"],[0.8888888888888888,\"#b5de2b\"],[1.0,\"#fde725\"]]},\"colorway\":[\"#1F77B4\",\"#FF7F0E\",\"#2CA02C\",\"#D62728\",\"#9467BD\",\"#8C564B\",\"#E377C2\",\"#7F7F7F\",\"#BCBD22\",\"#17BECF\"],\"font\":{\"color\":\"rgb(36,36,36)\"},\"geo\":{\"bgcolor\":\"white\",\"lakecolor\":\"white\",\"landcolor\":\"white\",\"showlakes\":true,\"showland\":true,\"subunitcolor\":\"white\"},\"hoverlabel\":{\"align\":\"left\"},\"hovermode\":\"closest\",\"legend\":{\"bordercolor\":\"#e0e0e0\",\"borderwidth\":1,\"font\":{\"size\":12}},\"mapbox\":{\"style\":\"light\"},\"margin\":{\"b\":5,\"l\":5,\"r\":5,\"t\":5},\"paper_bgcolor\":\"white\",\"plot_bgcolor\":\"white\",\"polar\":{\"angularaxis\":{\"gridcolor\":\"rgb(232,232,232)\",\"linecolor\":\"rgb(36,36,36)\",\"showgrid\":false,\"showline\":true,\"ticks\":\"outside\"},\"bgcolor\":\"white\",\"radialaxis\":{\"gridcolor\":\"rgb(232,232,232)\",\"linecolor\":\"rgb(36,36,36)\",\"showgrid\":false,\"showline\":true,\"ticks\":\"outside\"}},\"scene\":{\"xaxis\":{\"backgroundcolor\":\"white\",\"gridcolor\":\"rgb(232,232,232)\",\"gridwidth\":2,\"linecolor\":\"rgb(36,36,36)\",\"showbackground\":true,\"showgrid\":false,\"showline\":true,\"ticks\":\"outside\",\"zeroline\":false,\"zerolinecolor\":\"rgb(36,36,36)\"},\"yaxis\":{\"backgroundcolor\":\"white\",\"gridcolor\":\"rgb(232,232,232)\",\"gridwidth\":2,\"linecolor\":\"rgb(36,36,36)\",\"showbackground\":true,\"showgrid\":false,\"showline\":true,\"ticks\":\"outside\",\"zeroline\":false,\"zerolinecolor\":\"rgb(36,36,36)\"},\"zaxis\":{\"backgroundcolor\":\"white\",\"gridcolor\":\"rgb(232,232,232)\",\"gridwidth\":2,\"linecolor\":\"rgb(36,36,36)\",\"showbackground\":true,\"showgrid\":false,\"showline\":true,\"ticks\":\"outside\",\"zeroline\":false,\"zerolinecolor\":\"rgb(36,36,36)\"}},\"shapedefaults\":{\"fillcolor\":\"black\",\"line\":{\"width\":0},\"opacity\":0.3},\"ternary\":{\"aaxis\":{\"gridcolor\":\"rgb(232,232,232)\",\"linecolor\":\"rgb(36,36,36)\",\"showgrid\":false,\"showline\":true,\"ticks\":\"outside\"},\"baxis\":{\"gridcolor\":\"rgb(232,232,232)\",\"linecolor\":\"rgb(36,36,36)\",\"showgrid\":false,\"showline\":true,\"ticks\":\"outside\"},\"bgcolor\":\"white\",\"caxis\":{\"gridcolor\":\"rgb(232,232,232)\",\"linecolor\":\"rgb(36,36,36)\",\"showgrid\":false,\"showline\":true,\"ticks\":\"outside\"}},\"title\":{\"font\":{\"size\":10},\"x\":0.05},\"xaxis\":{\"automargin\":true,\"gridcolor\":\"#e0e0e0\",\"linecolor\":\"#616161\",\"linewidth\":1,\"mirror\":true,\"showgrid\":true,\"showline\":true,\"tickfont\":{\"size\":10},\"ticks\":\"outside\",\"title\":{\"font\":{\"size\":12},\"standoff\":5},\"zeroline\":false,\"zerolinecolor\":\"rgb(36,36,36)\"},\"yaxis\":{\"automargin\":true,\"gridcolor\":\"#e0e0e0\",\"linecolor\":\"#616161\",\"linewidth\":1,\"mirror\":true,\"showgrid\":true,\"showline\":true,\"tickfont\":{\"size\":10},\"ticks\":\"outside\",\"title\":{\"font\":{\"size\":12},\"standoff\":5},\"zeroline\":false,\"zerolinecolor\":\"rgb(36,36,36)\"}}},\"xaxis\":{\"anchor\":\"y\",\"domain\":[0.0,1.0],\"matches\":\"x3\",\"showticklabels\":false},\"yaxis\":{\"anchor\":\"x\",\"domain\":[0.6933333333333334,1.0],\"title\":{\"font\":{\"size\":11},\"text\":\"Sequential\\u003cbr\\u003eOverhead = 0.2\"},\"showticklabels\":false,\"ticks\":\"\",\"autorange\":\"reversed\"},\"xaxis2\":{\"anchor\":\"y2\",\"domain\":[0.0,1.0],\"matches\":\"x3\",\"showticklabels\":false},\"yaxis2\":{\"anchor\":\"x2\",\"domain\":[0.3466666666666667,0.6533333333333333],\"title\":{\"font\":{\"size\":11},\"text\":\"Pipelined\\u003cbr\\u003eOverhead = 0.2\"},\"showticklabels\":false,\"ticks\":\"\",\"autorange\":\"reversed\"},\"xaxis3\":{\"anchor\":\"y3\",\"domain\":[0.0,1.0],\"title\":{\"text\":\"Runtime (s)\"},\"range\":[0,8.210195541381836]},\"yaxis3\":{\"anchor\":\"x3\",\"domain\":[0.0,0.3066666666666667],\"title\":{\"font\":{\"size\":11},\"text\":\"Pipelined\\u003cbr\\u003eOverhead = 0.5\"},\"showticklabels\":false,\"ticks\":\"\",\"autorange\":\"reversed\"},\"legend\":{\"yanchor\":\"bottom\",\"y\":0.02,\"xanchor\":\"right\",\"x\":0.99,\"tracegroupgap\":4},\"width\":800,\"height\":350},                        {\"responsive\": true}                    ).then(function(){\n",
       "                            \n",
       "var gd = document.getElementById('9a0463ea-ea17-4106-9cee-4d1dfdc2cd4b');\n",
       "var x = new MutationObserver(function (mutations, observer) {{\n",
       "        var display = window.getComputedStyle(gd).display;\n",
       "        if (!display || display === 'none') {{\n",
       "            console.log([gd, 'removed!']);\n",
       "            Plotly.purge(gd);\n",
       "            observer.disconnect();\n",
       "        }}\n",
       "}});\n",
       "\n",
       "// Listen for the removal of the full notebook cells\n",
       "var notebookContainer = gd.closest('#notebook-container');\n",
       "if (notebookContainer) {{\n",
       "    x.observe(notebookContainer, {childList: true});\n",
       "}}\n",
       "\n",
       "// Listen for the clearing of the current output cell\n",
       "var outputEl = gd.closest('.output');\n",
       "if (outputEl) {{\n",
       "    x.observe(outputEl, {childList: true});\n",
       "}}\n",
       "\n",
       "                        })                };                });            </script>        </div>"
      ]
     },
     "metadata": {},
     "output_type": "display_data"
    }
   ],
   "source": [
    "data = load_data(\n",
    "    '../data/alderaan/0-task-pipelining/task-pipelining-2024-03-07-14-20-08',\n",
    ")\n",
    "\n",
    "layout = dict(width=800, height=350)\n",
    "\n",
    "trend_fig = create_trend_figure(data, layout)\n",
    "timeline_fig = create_timeline_figure(data, layout)\n",
    "\n",
    "trend_fig.show()\n",
    "timeline_fig.show()\n",
    "\n",
    "figure_dir = pathlib.Path('../figures/alderaan/')\n",
    "figure_dir.mkdir(exist_ok=True)\n",
    "\n",
    "trend_fig.write_image(figure_dir / '0-task-pipelining-trend.pdf')\n",
    "timeline_fig.write_image(figure_dir / '0-task-pipelining-timeline.pdf')"
   ]
  },
  {
   "cell_type": "code",
   "execution_count": null,
   "id": "7e883ac2-c743-4cd2-91f1-a28542fa9413",
   "metadata": {},
   "outputs": [],
   "source": []
  }
 ],
 "metadata": {
  "kernelspec": {
   "display_name": "Python 3 (ipykernel)",
   "language": "python",
   "name": "python3"
  },
  "language_info": {
   "codemirror_mode": {
    "name": "ipython",
    "version": 3
   },
   "file_extension": ".py",
   "mimetype": "text/x-python",
   "name": "python",
   "nbconvert_exporter": "python",
   "pygments_lexer": "ipython3",
   "version": "3.11.5"
  }
 },
 "nbformat": 4,
 "nbformat_minor": 5
}
