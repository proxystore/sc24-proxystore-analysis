{
 "cells": [
  {
   "cell_type": "code",
   "execution_count": 6,
   "id": "3b371f9b-bdb4-4856-94c8-c6653ebe0211",
   "metadata": {},
   "outputs": [
    {
     "data": {
      "text/plain": [
       "<module 'theme' from '/home/jgpaul/workspace/sc24-proxystore-analysis/notebooks/theme.py'>"
      ]
     },
     "execution_count": 6,
     "metadata": {},
     "output_type": "execute_result"
    }
   ],
   "source": [
    "from __future__ import annotations\n",
    "\n",
    "import importlib\n",
    "import pathlib\n",
    "\n",
    "import plotly.express as px\n",
    "import plotly.figure_factory as ff\n",
    "import plotly.graph_objects as go\n",
    "import polars\n",
    "import theme\n",
    "from plotly.subplots import make_subplots\n",
    "\n",
    "importlib.reload(theme)"
   ]
  },
  {
   "cell_type": "code",
   "execution_count": 7,
   "id": "d89c3c66-db3c-4547-896d-782ac1f0734b",
   "metadata": {
    "scrolled": true
   },
   "outputs": [],
   "source": [
    "def load_data(directory):\n",
    "    data = polars.read_csv(pathlib.Path(directory) / 'results.csv')\n",
    "\n",
    "    data = data.with_columns(\n",
    "        (polars.col('workflow_makespan_ms') / 1000).alias(\n",
    "            'workflow_makespan_s',\n",
    "        ),\n",
    "    )\n",
    "    data = data.with_columns(\n",
    "        polars.when(polars.col('submission_method') == 'sequential')\n",
    "        .then(polars.col('task_sleep') * polars.col('task_chain_length'))\n",
    "        .otherwise(\n",
    "            (1 - polars.col('task_overhead_fraction'))\n",
    "            * polars.col('task_sleep')\n",
    "            * polars.col('task_chain_length'),\n",
    "        )\n",
    "        .alias('limit'),\n",
    "    )\n",
    "\n",
    "    return data"
   ]
  },
  {
   "cell_type": "code",
   "execution_count": 8,
   "id": "b9fa5625-69ed-4224-97e0-eef63c80faf5",
   "metadata": {},
   "outputs": [],
   "source": [
    "def create_trend_figure(data, layout=None):\n",
    "    fig = go.Figure()\n",
    "\n",
    "    data = data.select(\n",
    "        polars.col('submission_method'),\n",
    "        polars.col('task_overhead_fraction'),\n",
    "        polars.col('workflow_makespan_s'),\n",
    "        polars.col('limit'),\n",
    "    )\n",
    "    data = data.group_by('submission_method', 'task_overhead_fraction').agg(\n",
    "        [\n",
    "            polars.col('limit').mean(),\n",
    "            polars.col('workflow_makespan_s')\n",
    "            .mean()\n",
    "            .alias('workflow_makespan_s_mean'),\n",
    "            polars.col('workflow_makespan_s')\n",
    "            .std()\n",
    "            .alias('workflow_makespan_s_std'),\n",
    "        ],\n",
    "    )\n",
    "\n",
    "    colors = px.colors.qualitative.Bold[0:2]\n",
    "    markers = ('circle', 'diamond')\n",
    "\n",
    "    for i, deployment in enumerate(('Sequential', 'Pipelined')):\n",
    "        subdata = data.filter(\n",
    "            polars.col('submission_method') == deployment.lower(),\n",
    "        )\n",
    "\n",
    "        scatter_data = go.Scatter(\n",
    "            x=subdata['task_overhead_fraction'],\n",
    "            y=subdata['workflow_makespan_s_mean'],\n",
    "            # error_y=dict(\n",
    "            #     type='data',\n",
    "            #     array=subdata['workflow_makespan_s_std'],\n",
    "            #     visible=True,\n",
    "            # ),\n",
    "            name=deployment,\n",
    "            line=dict(color=colors[i]),\n",
    "            mode='lines+markers',\n",
    "            marker=dict(symbol=markers[i], size=10),\n",
    "        )\n",
    "        scatter_limit = go.Scatter(\n",
    "            x=subdata['task_overhead_fraction'],\n",
    "            y=subdata['limit'],\n",
    "            name=f'{deployment} Limit',\n",
    "            line=dict(color=colors[i], dash='dash'),\n",
    "            mode='lines',\n",
    "        )\n",
    "\n",
    "        fig.add_trace(scatter_data)\n",
    "        fig.add_trace(scatter_limit)\n",
    "\n",
    "    layout = {} if layout is None else layout\n",
    "    fig.update_layout(\n",
    "        # title={'text': 'Task Pipelining with Futures'},\n",
    "        xaxis_title='Task Overhead Fraction',\n",
    "        yaxis_title='Makespan (s)',\n",
    "        yaxis={'tickformat': '.0f'},\n",
    "        legend=dict(yanchor='bottom', y=0.02, xanchor='left', x=0.01),\n",
    "        template='proxystore',\n",
    "        **layout,\n",
    "    )\n",
    "\n",
    "    return fig"
   ]
  },
  {
   "cell_type": "code",
   "execution_count": 15,
   "id": "b390e73b-457b-4c1e-a47d-e5efa4119daa",
   "metadata": {},
   "outputs": [],
   "source": [
    "def extract_timestamps(data, sections):\n",
    "    assert len(data) == 1\n",
    "\n",
    "    timestamps = data['task_timestamps'].item()\n",
    "    timestamps = timestamps.split(':')\n",
    "    timestamps = [sorted(float(x) for x in t.split('-')) for t in timestamps]\n",
    "    timestamps = sorted(timestamps, key=lambda x: x[0])\n",
    "\n",
    "    start_timestamp = timestamps[0][0]\n",
    "    timestamps = [[v - start_timestamp for v in t] for t in timestamps]\n",
    "\n",
    "    parts = []\n",
    "    for task_index, timestamp in enumerate(timestamps):\n",
    "        assert len(timestamp) == len(sections) + 1\n",
    "        for i, section in enumerate(sections):\n",
    "            start = timestamp[i]\n",
    "            end = timestamp[i + 1]\n",
    "            part = dict(\n",
    "                Task=task_index % 3,\n",
    "                Start=start,\n",
    "                Finish=end,\n",
    "                delta=end - start,\n",
    "                section=section,\n",
    "            )\n",
    "            parts.append(part)\n",
    "\n",
    "    return parts  # polars.DataFrame(parts)\n",
    "\n",
    "\n",
    "def create_timeline_figure(data, layout=None):\n",
    "    sections = (\n",
    "        'submit',\n",
    "        'overhead',\n",
    "        'resolve',\n",
    "        'compute',\n",
    "        'generate',\n",
    "        'receive',\n",
    "    )\n",
    "    sample_types = (\n",
    "        ('sequential', 0.2),\n",
    "        ('pipelined', 0.2),\n",
    "        ('pipelined', 0.5),\n",
    "    )\n",
    "\n",
    "    fig = make_subplots(\n",
    "        cols=1,\n",
    "        rows=len(sample_types),\n",
    "        vertical_spacing=0.04,\n",
    "        shared_xaxes=True,\n",
    "    )\n",
    "\n",
    "    max_x_range = 0\n",
    "    for row, (deployment, overhead) in enumerate(sample_types):\n",
    "        subsamples = data.filter(\n",
    "            polars.col('submission_method') == deployment,\n",
    "        ).filter(polars.col('task_overhead_fraction') == overhead)\n",
    "        subsample = subsamples.sample(1)\n",
    "        timestamps = extract_timestamps(subsample, sections)\n",
    "\n",
    "        timeline_fig = ff.create_gantt(\n",
    "            timestamps,\n",
    "            index_col='section',\n",
    "            show_colorbar=False,\n",
    "            group_tasks=True,\n",
    "            bar_width=0.4,\n",
    "            colors=[px.colors.qualitative.Bold[i] for i in [1, 2, 0, 3, 4, 5]],\n",
    "        )\n",
    "\n",
    "        # Crazy hacks to add traces in right order for legend\n",
    "        traces = list(timeline_fig.data)\n",
    "        for section in sections:\n",
    "            for trace in traces:\n",
    "                if trace.name == section:\n",
    "                    fig.add_trace(trace, row=row + 1, col=1)\n",
    "                    traces.remove(trace)\n",
    "                    break\n",
    "        for trace in traces:\n",
    "            fig.add_trace(trace, row=row + 1, col=1)\n",
    "        fig.update_yaxes(\n",
    "            title_text=f'{deployment.capitalize()}<br>Overhead {100*overhead:.0f}%',\n",
    "            title_font=dict(size=11),\n",
    "            showticklabels=False,\n",
    "            ticks='',\n",
    "            row=row + 1,\n",
    "            col=1,\n",
    "            autorange='reversed',\n",
    "        )\n",
    "        max_x_range = max(max_x_range, timestamps[-1]['Finish'])\n",
    "        if row + 1 == len(sample_types):\n",
    "            fig.update_xaxes(\n",
    "                title_text='Runtime (s)',\n",
    "                range=[-0.1, max_x_range+0.1],\n",
    "                row=row + 1,\n",
    "                col=1,\n",
    "            )\n",
    "\n",
    "    fig.update_traces(showlegend=True)\n",
    "    names = set()\n",
    "    fig.for_each_trace(\n",
    "        lambda trace: trace.update(showlegend=False)\n",
    "        if trace.name == '' or trace.name in names\n",
    "        else names.add(trace.name),\n",
    "    )\n",
    "\n",
    "    layout = {} if layout is None else layout\n",
    "    fig.update_layout(\n",
    "        # title={'text': 'Task Pipelining with Futures'},\n",
    "        legend=dict(\n",
    "            yanchor='bottom',\n",
    "            y=0.02,\n",
    "            xanchor='left',\n",
    "            x=0.82,\n",
    "            tracegroupgap=4,\n",
    "        ),\n",
    "        template='proxystore',\n",
    "        **layout,\n",
    "    )\n",
    "\n",
    "    return fig"
   ]
  },
  {
   "cell_type": "markdown",
   "id": "74a16ea7-c015-4a19-85af-621e5111ac7a",
   "metadata": {},
   "source": [
    "## Alderaan Testing Run"
   ]
  },
  {
   "cell_type": "code",
   "execution_count": 16,
   "id": "080f0ed3-2169-44b3-945b-e4ebed7cec10",
   "metadata": {},
   "outputs": [
    {
     "data": {
      "application/vnd.plotly.v1+json": {
       "config": {
        "plotlyServerURL": "https://plot.ly"
       },
       "data": [
        {
         "line": {
          "color": "rgb(127, 60, 141)"
         },
         "marker": {
          "size": 10,
          "symbol": "circle"
         },
         "mode": "lines+markers",
         "name": "Sequential",
         "type": "scatter",
         "x": [
          0,
          0.8,
          0.7,
          0.4,
          0.1,
          0.5,
          0.6,
          0.2,
          0.3,
          0.9
         ],
         "y": [
          8.250334398800002,
          8.228458723200001,
          8.2282640926,
          8.2345981536,
          8.2417572372,
          8.231459594399999,
          8.228358735,
          8.2401862146,
          8.233964636600001,
          8.2250450646
         ]
        },
        {
         "line": {
          "color": "rgb(127, 60, 141)",
          "dash": "dash"
         },
         "mode": "lines",
         "name": "Sequential Limit",
         "type": "scatter",
         "x": [
          0,
          0.8,
          0.7,
          0.4,
          0.1,
          0.5,
          0.6,
          0.2,
          0.3,
          0.9
         ],
         "y": [
          8,
          8,
          8,
          8,
          8,
          8,
          8,
          8,
          8,
          8
         ]
        },
        {
         "line": {
          "color": "rgb(17, 165, 121)"
         },
         "marker": {
          "size": 10,
          "symbol": "diamond"
         },
         "mode": "lines+markers",
         "name": "Pipelined",
         "type": "scatter",
         "x": [
          0.6,
          0.8,
          0.4,
          0,
          0.7,
          0.9,
          0.1,
          0.2,
          0.5,
          0.3
         ],
         "y": [
          3.8676367172,
          2.458790792,
          5.2576136218,
          8.060227901200001,
          3.1577884586,
          1.7559919131999997,
          7.3588175566,
          6.6572448915999995,
          4.5675750048,
          5.9583467954
         ]
        },
        {
         "line": {
          "color": "rgb(17, 165, 121)",
          "dash": "dash"
         },
         "mode": "lines",
         "name": "Pipelined Limit",
         "type": "scatter",
         "x": [
          0.6,
          0.8,
          0.4,
          0,
          0.7,
          0.9,
          0.1,
          0.2,
          0.5,
          0.3
         ],
         "y": [
          3.2,
          1.5999999999999996,
          4.8,
          8,
          2.4000000000000004,
          0.7999999999999998,
          7.2,
          6.4,
          4,
          5.6
         ]
        }
       ],
       "layout": {
        "height": 200,
        "legend": {
         "x": 0.01,
         "xanchor": "left",
         "y": 0.02,
         "yanchor": "bottom"
        },
        "template": {
         "data": {
          "bar": [
           {
            "error_x": {
             "color": "rgb(36,36,36)"
            },
            "error_y": {
             "color": "rgb(36,36,36)"
            },
            "marker": {
             "line": {
              "color": "white",
              "width": 0.5
             },
             "pattern": {
              "fillmode": "overlay",
              "size": 10,
              "solidity": 0.2
             }
            },
            "type": "bar"
           }
          ],
          "barpolar": [
           {
            "marker": {
             "line": {
              "color": "white",
              "width": 0.5
             },
             "pattern": {
              "fillmode": "overlay",
              "size": 10,
              "solidity": 0.2
             }
            },
            "type": "barpolar"
           }
          ],
          "carpet": [
           {
            "aaxis": {
             "endlinecolor": "rgb(36,36,36)",
             "gridcolor": "white",
             "linecolor": "white",
             "minorgridcolor": "white",
             "startlinecolor": "rgb(36,36,36)"
            },
            "baxis": {
             "endlinecolor": "rgb(36,36,36)",
             "gridcolor": "white",
             "linecolor": "white",
             "minorgridcolor": "white",
             "startlinecolor": "rgb(36,36,36)"
            },
            "type": "carpet"
           }
          ],
          "choropleth": [
           {
            "colorbar": {
             "outlinewidth": 1,
             "tickcolor": "rgb(36,36,36)",
             "ticks": "outside"
            },
            "type": "choropleth"
           }
          ],
          "contour": [
           {
            "colorbar": {
             "outlinewidth": 1,
             "tickcolor": "rgb(36,36,36)",
             "ticks": "outside"
            },
            "colorscale": [
             [
              0,
              "#440154"
             ],
             [
              0.1111111111111111,
              "#482878"
             ],
             [
              0.2222222222222222,
              "#3e4989"
             ],
             [
              0.3333333333333333,
              "#31688e"
             ],
             [
              0.4444444444444444,
              "#26828e"
             ],
             [
              0.5555555555555556,
              "#1f9e89"
             ],
             [
              0.6666666666666666,
              "#35b779"
             ],
             [
              0.7777777777777778,
              "#6ece58"
             ],
             [
              0.8888888888888888,
              "#b5de2b"
             ],
             [
              1,
              "#fde725"
             ]
            ],
            "type": "contour"
           }
          ],
          "contourcarpet": [
           {
            "colorbar": {
             "outlinewidth": 1,
             "tickcolor": "rgb(36,36,36)",
             "ticks": "outside"
            },
            "type": "contourcarpet"
           }
          ],
          "heatmap": [
           {
            "colorbar": {
             "outlinewidth": 1,
             "tickcolor": "rgb(36,36,36)",
             "ticks": "outside"
            },
            "colorscale": [
             [
              0,
              "#440154"
             ],
             [
              0.1111111111111111,
              "#482878"
             ],
             [
              0.2222222222222222,
              "#3e4989"
             ],
             [
              0.3333333333333333,
              "#31688e"
             ],
             [
              0.4444444444444444,
              "#26828e"
             ],
             [
              0.5555555555555556,
              "#1f9e89"
             ],
             [
              0.6666666666666666,
              "#35b779"
             ],
             [
              0.7777777777777778,
              "#6ece58"
             ],
             [
              0.8888888888888888,
              "#b5de2b"
             ],
             [
              1,
              "#fde725"
             ]
            ],
            "type": "heatmap"
           }
          ],
          "heatmapgl": [
           {
            "colorbar": {
             "outlinewidth": 1,
             "tickcolor": "rgb(36,36,36)",
             "ticks": "outside"
            },
            "colorscale": [
             [
              0,
              "#440154"
             ],
             [
              0.1111111111111111,
              "#482878"
             ],
             [
              0.2222222222222222,
              "#3e4989"
             ],
             [
              0.3333333333333333,
              "#31688e"
             ],
             [
              0.4444444444444444,
              "#26828e"
             ],
             [
              0.5555555555555556,
              "#1f9e89"
             ],
             [
              0.6666666666666666,
              "#35b779"
             ],
             [
              0.7777777777777778,
              "#6ece58"
             ],
             [
              0.8888888888888888,
              "#b5de2b"
             ],
             [
              1,
              "#fde725"
             ]
            ],
            "type": "heatmapgl"
           }
          ],
          "histogram": [
           {
            "marker": {
             "line": {
              "color": "white",
              "width": 0.6
             }
            },
            "type": "histogram"
           }
          ],
          "histogram2d": [
           {
            "colorbar": {
             "outlinewidth": 1,
             "tickcolor": "rgb(36,36,36)",
             "ticks": "outside"
            },
            "colorscale": [
             [
              0,
              "#440154"
             ],
             [
              0.1111111111111111,
              "#482878"
             ],
             [
              0.2222222222222222,
              "#3e4989"
             ],
             [
              0.3333333333333333,
              "#31688e"
             ],
             [
              0.4444444444444444,
              "#26828e"
             ],
             [
              0.5555555555555556,
              "#1f9e89"
             ],
             [
              0.6666666666666666,
              "#35b779"
             ],
             [
              0.7777777777777778,
              "#6ece58"
             ],
             [
              0.8888888888888888,
              "#b5de2b"
             ],
             [
              1,
              "#fde725"
             ]
            ],
            "type": "histogram2d"
           }
          ],
          "histogram2dcontour": [
           {
            "colorbar": {
             "outlinewidth": 1,
             "tickcolor": "rgb(36,36,36)",
             "ticks": "outside"
            },
            "colorscale": [
             [
              0,
              "#440154"
             ],
             [
              0.1111111111111111,
              "#482878"
             ],
             [
              0.2222222222222222,
              "#3e4989"
             ],
             [
              0.3333333333333333,
              "#31688e"
             ],
             [
              0.4444444444444444,
              "#26828e"
             ],
             [
              0.5555555555555556,
              "#1f9e89"
             ],
             [
              0.6666666666666666,
              "#35b779"
             ],
             [
              0.7777777777777778,
              "#6ece58"
             ],
             [
              0.8888888888888888,
              "#b5de2b"
             ],
             [
              1,
              "#fde725"
             ]
            ],
            "type": "histogram2dcontour"
           }
          ],
          "mesh3d": [
           {
            "colorbar": {
             "outlinewidth": 1,
             "tickcolor": "rgb(36,36,36)",
             "ticks": "outside"
            },
            "type": "mesh3d"
           }
          ],
          "parcoords": [
           {
            "line": {
             "colorbar": {
              "outlinewidth": 1,
              "tickcolor": "rgb(36,36,36)",
              "ticks": "outside"
             }
            },
            "type": "parcoords"
           }
          ],
          "pie": [
           {
            "automargin": true,
            "type": "pie"
           }
          ],
          "scatter": [
           {
            "fillpattern": {
             "fillmode": "overlay",
             "size": 10,
             "solidity": 0.2
            },
            "type": "scatter"
           }
          ],
          "scatter3d": [
           {
            "line": {
             "colorbar": {
              "outlinewidth": 1,
              "tickcolor": "rgb(36,36,36)",
              "ticks": "outside"
             }
            },
            "marker": {
             "colorbar": {
              "outlinewidth": 1,
              "tickcolor": "rgb(36,36,36)",
              "ticks": "outside"
             }
            },
            "type": "scatter3d"
           }
          ],
          "scattercarpet": [
           {
            "marker": {
             "colorbar": {
              "outlinewidth": 1,
              "tickcolor": "rgb(36,36,36)",
              "ticks": "outside"
             }
            },
            "type": "scattercarpet"
           }
          ],
          "scattergeo": [
           {
            "marker": {
             "colorbar": {
              "outlinewidth": 1,
              "tickcolor": "rgb(36,36,36)",
              "ticks": "outside"
             }
            },
            "type": "scattergeo"
           }
          ],
          "scattergl": [
           {
            "marker": {
             "colorbar": {
              "outlinewidth": 1,
              "tickcolor": "rgb(36,36,36)",
              "ticks": "outside"
             }
            },
            "type": "scattergl"
           }
          ],
          "scattermapbox": [
           {
            "marker": {
             "colorbar": {
              "outlinewidth": 1,
              "tickcolor": "rgb(36,36,36)",
              "ticks": "outside"
             }
            },
            "type": "scattermapbox"
           }
          ],
          "scatterpolar": [
           {
            "marker": {
             "colorbar": {
              "outlinewidth": 1,
              "tickcolor": "rgb(36,36,36)",
              "ticks": "outside"
             }
            },
            "type": "scatterpolar"
           }
          ],
          "scatterpolargl": [
           {
            "marker": {
             "colorbar": {
              "outlinewidth": 1,
              "tickcolor": "rgb(36,36,36)",
              "ticks": "outside"
             }
            },
            "type": "scatterpolargl"
           }
          ],
          "scatterternary": [
           {
            "marker": {
             "colorbar": {
              "outlinewidth": 1,
              "tickcolor": "rgb(36,36,36)",
              "ticks": "outside"
             }
            },
            "type": "scatterternary"
           }
          ],
          "surface": [
           {
            "colorbar": {
             "outlinewidth": 1,
             "tickcolor": "rgb(36,36,36)",
             "ticks": "outside"
            },
            "colorscale": [
             [
              0,
              "#440154"
             ],
             [
              0.1111111111111111,
              "#482878"
             ],
             [
              0.2222222222222222,
              "#3e4989"
             ],
             [
              0.3333333333333333,
              "#31688e"
             ],
             [
              0.4444444444444444,
              "#26828e"
             ],
             [
              0.5555555555555556,
              "#1f9e89"
             ],
             [
              0.6666666666666666,
              "#35b779"
             ],
             [
              0.7777777777777778,
              "#6ece58"
             ],
             [
              0.8888888888888888,
              "#b5de2b"
             ],
             [
              1,
              "#fde725"
             ]
            ],
            "type": "surface"
           }
          ],
          "table": [
           {
            "cells": {
             "fill": {
              "color": "rgb(237,237,237)"
             },
             "line": {
              "color": "white"
             }
            },
            "header": {
             "fill": {
              "color": "rgb(217,217,217)"
             },
             "line": {
              "color": "white"
             }
            },
            "type": "table"
           }
          ]
         },
         "layout": {
          "annotationdefaults": {
           "arrowhead": 0,
           "arrowwidth": 1
          },
          "autotypenumbers": "strict",
          "coloraxis": {
           "colorbar": {
            "outlinewidth": 1,
            "tickcolor": "rgb(36,36,36)",
            "ticks": "outside"
           }
          },
          "colorscale": {
           "diverging": [
            [
             0,
             "rgb(103,0,31)"
            ],
            [
             0.1,
             "rgb(178,24,43)"
            ],
            [
             0.2,
             "rgb(214,96,77)"
            ],
            [
             0.3,
             "rgb(244,165,130)"
            ],
            [
             0.4,
             "rgb(253,219,199)"
            ],
            [
             0.5,
             "rgb(247,247,247)"
            ],
            [
             0.6,
             "rgb(209,229,240)"
            ],
            [
             0.7,
             "rgb(146,197,222)"
            ],
            [
             0.8,
             "rgb(67,147,195)"
            ],
            [
             0.9,
             "rgb(33,102,172)"
            ],
            [
             1,
             "rgb(5,48,97)"
            ]
           ],
           "sequential": [
            [
             0,
             "#440154"
            ],
            [
             0.1111111111111111,
             "#482878"
            ],
            [
             0.2222222222222222,
             "#3e4989"
            ],
            [
             0.3333333333333333,
             "#31688e"
            ],
            [
             0.4444444444444444,
             "#26828e"
            ],
            [
             0.5555555555555556,
             "#1f9e89"
            ],
            [
             0.6666666666666666,
             "#35b779"
            ],
            [
             0.7777777777777778,
             "#6ece58"
            ],
            [
             0.8888888888888888,
             "#b5de2b"
            ],
            [
             1,
             "#fde725"
            ]
           ],
           "sequentialminus": [
            [
             0,
             "#440154"
            ],
            [
             0.1111111111111111,
             "#482878"
            ],
            [
             0.2222222222222222,
             "#3e4989"
            ],
            [
             0.3333333333333333,
             "#31688e"
            ],
            [
             0.4444444444444444,
             "#26828e"
            ],
            [
             0.5555555555555556,
             "#1f9e89"
            ],
            [
             0.6666666666666666,
             "#35b779"
            ],
            [
             0.7777777777777778,
             "#6ece58"
            ],
            [
             0.8888888888888888,
             "#b5de2b"
            ],
            [
             1,
             "#fde725"
            ]
           ]
          },
          "colorway": [
           "#1F77B4",
           "#FF7F0E",
           "#2CA02C",
           "#D62728",
           "#9467BD",
           "#8C564B",
           "#E377C2",
           "#7F7F7F",
           "#BCBD22",
           "#17BECF"
          ],
          "font": {
           "color": "rgb(36,36,36)",
           "family": "Arial"
          },
          "geo": {
           "bgcolor": "white",
           "lakecolor": "white",
           "landcolor": "white",
           "showlakes": true,
           "showland": true,
           "subunitcolor": "white"
          },
          "hoverlabel": {
           "align": "left"
          },
          "hovermode": "closest",
          "legend": {
           "bordercolor": "#e0e0e0",
           "borderwidth": 1,
           "font": {
            "size": 12
           }
          },
          "mapbox": {
           "style": "light"
          },
          "margin": {
           "b": 5,
           "l": 5,
           "r": 5,
           "t": 5
          },
          "paper_bgcolor": "white",
          "plot_bgcolor": "white",
          "polar": {
           "angularaxis": {
            "gridcolor": "rgb(232,232,232)",
            "linecolor": "rgb(36,36,36)",
            "showgrid": false,
            "showline": true,
            "ticks": "outside"
           },
           "bgcolor": "white",
           "radialaxis": {
            "gridcolor": "rgb(232,232,232)",
            "linecolor": "rgb(36,36,36)",
            "showgrid": false,
            "showline": true,
            "ticks": "outside"
           }
          },
          "scene": {
           "xaxis": {
            "backgroundcolor": "white",
            "gridcolor": "rgb(232,232,232)",
            "gridwidth": 2,
            "linecolor": "rgb(36,36,36)",
            "showbackground": true,
            "showgrid": false,
            "showline": true,
            "ticks": "outside",
            "zeroline": false,
            "zerolinecolor": "rgb(36,36,36)"
           },
           "yaxis": {
            "backgroundcolor": "white",
            "gridcolor": "rgb(232,232,232)",
            "gridwidth": 2,
            "linecolor": "rgb(36,36,36)",
            "showbackground": true,
            "showgrid": false,
            "showline": true,
            "ticks": "outside",
            "zeroline": false,
            "zerolinecolor": "rgb(36,36,36)"
           },
           "zaxis": {
            "backgroundcolor": "white",
            "gridcolor": "rgb(232,232,232)",
            "gridwidth": 2,
            "linecolor": "rgb(36,36,36)",
            "showbackground": true,
            "showgrid": false,
            "showline": true,
            "ticks": "outside",
            "zeroline": false,
            "zerolinecolor": "rgb(36,36,36)"
           }
          },
          "shapedefaults": {
           "fillcolor": "black",
           "line": {
            "width": 0
           },
           "opacity": 0.3
          },
          "ternary": {
           "aaxis": {
            "gridcolor": "rgb(232,232,232)",
            "linecolor": "rgb(36,36,36)",
            "showgrid": false,
            "showline": true,
            "ticks": "outside"
           },
           "baxis": {
            "gridcolor": "rgb(232,232,232)",
            "linecolor": "rgb(36,36,36)",
            "showgrid": false,
            "showline": true,
            "ticks": "outside"
           },
           "bgcolor": "white",
           "caxis": {
            "gridcolor": "rgb(232,232,232)",
            "linecolor": "rgb(36,36,36)",
            "showgrid": false,
            "showline": true,
            "ticks": "outside"
           }
          },
          "title": {
           "font": {
            "size": 10
           },
           "x": 0.05
          },
          "xaxis": {
           "automargin": true,
           "gridcolor": "#e0e0e0",
           "linecolor": "#616161",
           "linewidth": 1,
           "mirror": true,
           "showgrid": true,
           "showline": true,
           "tickfont": {
            "size": 10
           },
           "ticks": "outside",
           "title": {
            "font": {
             "size": 12
            },
            "standoff": 5
           },
           "zeroline": false,
           "zerolinecolor": "rgb(36,36,36)"
          },
          "yaxis": {
           "automargin": true,
           "gridcolor": "#e0e0e0",
           "linecolor": "#616161",
           "linewidth": 1,
           "mirror": true,
           "showgrid": true,
           "showline": true,
           "tickfont": {
            "size": 10
           },
           "ticks": "outside",
           "title": {
            "font": {
             "size": 12
            },
            "standoff": 5
           },
           "zeroline": false,
           "zerolinecolor": "rgb(36,36,36)"
          }
         }
        },
        "width": 500,
        "xaxis": {
         "autorange": true,
         "range": [
          -0.06549714852467146,
          0.9654971485246715
         ],
         "title": {
          "text": "Task Overhead Fraction"
         },
         "type": "linear"
        },
        "yaxis": {
         "autorange": true,
         "range": [
          0.3668087341733876,
          9.030634050705629
         ],
         "tickformat": ".0f",
         "title": {
          "text": "Makespan (s)"
         },
         "type": "linear"
        }
       }
      },
      "image/png": "[encoded data removed]",
      "text/html": [
       "<div>                            <div id=\"1ad6aec0-c956-4bf0-8574-e71d029374e6\" class=\"plotly-graph-div\" style=\"height:200px; width:500px;\"></div>            <script type=\"text/javascript\">                require([\"plotly\"], function(Plotly) {                    window.PLOTLYENV=window.PLOTLYENV || {};                                    if (document.getElementById(\"1ad6aec0-c956-4bf0-8574-e71d029374e6\")) {                    Plotly.newPlot(                        \"1ad6aec0-c956-4bf0-8574-e71d029374e6\",                        [{\"line\":{\"color\":\"rgb(127, 60, 141)\"},\"marker\":{\"size\":10,\"symbol\":\"circle\"},\"mode\":\"lines+markers\",\"name\":\"Sequential\",\"x\":[0.0,0.8,0.7,0.4,0.1,0.5,0.6,0.2,0.3,0.9],\"y\":[8.250334398800002,8.228458723200001,8.2282640926,8.2345981536,8.2417572372,8.231459594399999,8.228358735,8.2401862146,8.233964636600001,8.2250450646],\"type\":\"scatter\"},{\"line\":{\"color\":\"rgb(127, 60, 141)\",\"dash\":\"dash\"},\"mode\":\"lines\",\"name\":\"Sequential Limit\",\"x\":[0.0,0.8,0.7,0.4,0.1,0.5,0.6,0.2,0.3,0.9],\"y\":[8.0,8.0,8.0,8.0,8.0,8.0,8.0,8.0,8.0,8.0],\"type\":\"scatter\"},{\"line\":{\"color\":\"rgb(17, 165, 121)\"},\"marker\":{\"size\":10,\"symbol\":\"diamond\"},\"mode\":\"lines+markers\",\"name\":\"Pipelined\",\"x\":[0.6,0.8,0.4,0.0,0.7,0.9,0.1,0.2,0.5,0.3],\"y\":[3.8676367172,2.458790792,5.2576136218,8.060227901200001,3.1577884586,1.7559919131999997,7.3588175566,6.6572448915999995,4.5675750048,5.9583467954],\"type\":\"scatter\"},{\"line\":{\"color\":\"rgb(17, 165, 121)\",\"dash\":\"dash\"},\"mode\":\"lines\",\"name\":\"Pipelined Limit\",\"x\":[0.6,0.8,0.4,0.0,0.7,0.9,0.1,0.2,0.5,0.3],\"y\":[3.2,1.5999999999999996,4.8,8.0,2.4000000000000004,0.7999999999999998,7.2,6.4,4.0,5.6],\"type\":\"scatter\"}],                        {\"template\":{\"data\":{\"barpolar\":[{\"marker\":{\"line\":{\"color\":\"white\",\"width\":0.5},\"pattern\":{\"fillmode\":\"overlay\",\"size\":10,\"solidity\":0.2}},\"type\":\"barpolar\"}],\"bar\":[{\"error_x\":{\"color\":\"rgb(36,36,36)\"},\"error_y\":{\"color\":\"rgb(36,36,36)\"},\"marker\":{\"line\":{\"color\":\"white\",\"width\":0.5},\"pattern\":{\"fillmode\":\"overlay\",\"size\":10,\"solidity\":0.2}},\"type\":\"bar\"}],\"carpet\":[{\"aaxis\":{\"endlinecolor\":\"rgb(36,36,36)\",\"gridcolor\":\"white\",\"linecolor\":\"white\",\"minorgridcolor\":\"white\",\"startlinecolor\":\"rgb(36,36,36)\"},\"baxis\":{\"endlinecolor\":\"rgb(36,36,36)\",\"gridcolor\":\"white\",\"linecolor\":\"white\",\"minorgridcolor\":\"white\",\"startlinecolor\":\"rgb(36,36,36)\"},\"type\":\"carpet\"}],\"choropleth\":[{\"colorbar\":{\"outlinewidth\":1,\"tickcolor\":\"rgb(36,36,36)\",\"ticks\":\"outside\"},\"type\":\"choropleth\"}],\"contourcarpet\":[{\"colorbar\":{\"outlinewidth\":1,\"tickcolor\":\"rgb(36,36,36)\",\"ticks\":\"outside\"},\"type\":\"contourcarpet\"}],\"contour\":[{\"colorbar\":{\"outlinewidth\":1,\"tickcolor\":\"rgb(36,36,36)\",\"ticks\":\"outside\"},\"colorscale\":[[0.0,\"#440154\"],[0.1111111111111111,\"#482878\"],[0.2222222222222222,\"#3e4989\"],[0.3333333333333333,\"#31688e\"],[0.4444444444444444,\"#26828e\"],[0.5555555555555556,\"#1f9e89\"],[0.6666666666666666,\"#35b779\"],[0.7777777777777778,\"#6ece58\"],[0.8888888888888888,\"#b5de2b\"],[1.0,\"#fde725\"]],\"type\":\"contour\"}],\"heatmapgl\":[{\"colorbar\":{\"outlinewidth\":1,\"tickcolor\":\"rgb(36,36,36)\",\"ticks\":\"outside\"},\"colorscale\":[[0.0,\"#440154\"],[0.1111111111111111,\"#482878\"],[0.2222222222222222,\"#3e4989\"],[0.3333333333333333,\"#31688e\"],[0.4444444444444444,\"#26828e\"],[0.5555555555555556,\"#1f9e89\"],[0.6666666666666666,\"#35b779\"],[0.7777777777777778,\"#6ece58\"],[0.8888888888888888,\"#b5de2b\"],[1.0,\"#fde725\"]],\"type\":\"heatmapgl\"}],\"heatmap\":[{\"colorbar\":{\"outlinewidth\":1,\"tickcolor\":\"rgb(36,36,36)\",\"ticks\":\"outside\"},\"colorscale\":[[0.0,\"#440154\"],[0.1111111111111111,\"#482878\"],[0.2222222222222222,\"#3e4989\"],[0.3333333333333333,\"#31688e\"],[0.4444444444444444,\"#26828e\"],[0.5555555555555556,\"#1f9e89\"],[0.6666666666666666,\"#35b779\"],[0.7777777777777778,\"#6ece58\"],[0.8888888888888888,\"#b5de2b\"],[1.0,\"#fde725\"]],\"type\":\"heatmap\"}],\"histogram2dcontour\":[{\"colorbar\":{\"outlinewidth\":1,\"tickcolor\":\"rgb(36,36,36)\",\"ticks\":\"outside\"},\"colorscale\":[[0.0,\"#440154\"],[0.1111111111111111,\"#482878\"],[0.2222222222222222,\"#3e4989\"],[0.3333333333333333,\"#31688e\"],[0.4444444444444444,\"#26828e\"],[0.5555555555555556,\"#1f9e89\"],[0.6666666666666666,\"#35b779\"],[0.7777777777777778,\"#6ece58\"],[0.8888888888888888,\"#b5de2b\"],[1.0,\"#fde725\"]],\"type\":\"histogram2dcontour\"}],\"histogram2d\":[{\"colorbar\":{\"outlinewidth\":1,\"tickcolor\":\"rgb(36,36,36)\",\"ticks\":\"outside\"},\"colorscale\":[[0.0,\"#440154\"],[0.1111111111111111,\"#482878\"],[0.2222222222222222,\"#3e4989\"],[0.3333333333333333,\"#31688e\"],[0.4444444444444444,\"#26828e\"],[0.5555555555555556,\"#1f9e89\"],[0.6666666666666666,\"#35b779\"],[0.7777777777777778,\"#6ece58\"],[0.8888888888888888,\"#b5de2b\"],[1.0,\"#fde725\"]],\"type\":\"histogram2d\"}],\"histogram\":[{\"marker\":{\"line\":{\"color\":\"white\",\"width\":0.6}},\"type\":\"histogram\"}],\"mesh3d\":[{\"colorbar\":{\"outlinewidth\":1,\"tickcolor\":\"rgb(36,36,36)\",\"ticks\":\"outside\"},\"type\":\"mesh3d\"}],\"parcoords\":[{\"line\":{\"colorbar\":{\"outlinewidth\":1,\"tickcolor\":\"rgb(36,36,36)\",\"ticks\":\"outside\"}},\"type\":\"parcoords\"}],\"pie\":[{\"automargin\":true,\"type\":\"pie\"}],\"scatter3d\":[{\"line\":{\"colorbar\":{\"outlinewidth\":1,\"tickcolor\":\"rgb(36,36,36)\",\"ticks\":\"outside\"}},\"marker\":{\"colorbar\":{\"outlinewidth\":1,\"tickcolor\":\"rgb(36,36,36)\",\"ticks\":\"outside\"}},\"type\":\"scatter3d\"}],\"scattercarpet\":[{\"marker\":{\"colorbar\":{\"outlinewidth\":1,\"tickcolor\":\"rgb(36,36,36)\",\"ticks\":\"outside\"}},\"type\":\"scattercarpet\"}],\"scattergeo\":[{\"marker\":{\"colorbar\":{\"outlinewidth\":1,\"tickcolor\":\"rgb(36,36,36)\",\"ticks\":\"outside\"}},\"type\":\"scattergeo\"}],\"scattergl\":[{\"marker\":{\"colorbar\":{\"outlinewidth\":1,\"tickcolor\":\"rgb(36,36,36)\",\"ticks\":\"outside\"}},\"type\":\"scattergl\"}],\"scattermapbox\":[{\"marker\":{\"colorbar\":{\"outlinewidth\":1,\"tickcolor\":\"rgb(36,36,36)\",\"ticks\":\"outside\"}},\"type\":\"scattermapbox\"}],\"scatterpolargl\":[{\"marker\":{\"colorbar\":{\"outlinewidth\":1,\"tickcolor\":\"rgb(36,36,36)\",\"ticks\":\"outside\"}},\"type\":\"scatterpolargl\"}],\"scatterpolar\":[{\"marker\":{\"colorbar\":{\"outlinewidth\":1,\"tickcolor\":\"rgb(36,36,36)\",\"ticks\":\"outside\"}},\"type\":\"scatterpolar\"}],\"scatter\":[{\"fillpattern\":{\"fillmode\":\"overlay\",\"size\":10,\"solidity\":0.2},\"type\":\"scatter\"}],\"scatterternary\":[{\"marker\":{\"colorbar\":{\"outlinewidth\":1,\"tickcolor\":\"rgb(36,36,36)\",\"ticks\":\"outside\"}},\"type\":\"scatterternary\"}],\"surface\":[{\"colorbar\":{\"outlinewidth\":1,\"tickcolor\":\"rgb(36,36,36)\",\"ticks\":\"outside\"},\"colorscale\":[[0.0,\"#440154\"],[0.1111111111111111,\"#482878\"],[0.2222222222222222,\"#3e4989\"],[0.3333333333333333,\"#31688e\"],[0.4444444444444444,\"#26828e\"],[0.5555555555555556,\"#1f9e89\"],[0.6666666666666666,\"#35b779\"],[0.7777777777777778,\"#6ece58\"],[0.8888888888888888,\"#b5de2b\"],[1.0,\"#fde725\"]],\"type\":\"surface\"}],\"table\":[{\"cells\":{\"fill\":{\"color\":\"rgb(237,237,237)\"},\"line\":{\"color\":\"white\"}},\"header\":{\"fill\":{\"color\":\"rgb(217,217,217)\"},\"line\":{\"color\":\"white\"}},\"type\":\"table\"}]},\"layout\":{\"annotationdefaults\":{\"arrowhead\":0,\"arrowwidth\":1},\"autotypenumbers\":\"strict\",\"coloraxis\":{\"colorbar\":{\"outlinewidth\":1,\"tickcolor\":\"rgb(36,36,36)\",\"ticks\":\"outside\"}},\"colorscale\":{\"diverging\":[[0.0,\"rgb(103,0,31)\"],[0.1,\"rgb(178,24,43)\"],[0.2,\"rgb(214,96,77)\"],[0.3,\"rgb(244,165,130)\"],[0.4,\"rgb(253,219,199)\"],[0.5,\"rgb(247,247,247)\"],[0.6,\"rgb(209,229,240)\"],[0.7,\"rgb(146,197,222)\"],[0.8,\"rgb(67,147,195)\"],[0.9,\"rgb(33,102,172)\"],[1.0,\"rgb(5,48,97)\"]],\"sequential\":[[0.0,\"#440154\"],[0.1111111111111111,\"#482878\"],[0.2222222222222222,\"#3e4989\"],[0.3333333333333333,\"#31688e\"],[0.4444444444444444,\"#26828e\"],[0.5555555555555556,\"#1f9e89\"],[0.6666666666666666,\"#35b779\"],[0.7777777777777778,\"#6ece58\"],[0.8888888888888888,\"#b5de2b\"],[1.0,\"#fde725\"]],\"sequentialminus\":[[0.0,\"#440154\"],[0.1111111111111111,\"#482878\"],[0.2222222222222222,\"#3e4989\"],[0.3333333333333333,\"#31688e\"],[0.4444444444444444,\"#26828e\"],[0.5555555555555556,\"#1f9e89\"],[0.6666666666666666,\"#35b779\"],[0.7777777777777778,\"#6ece58\"],[0.8888888888888888,\"#b5de2b\"],[1.0,\"#fde725\"]]},\"colorway\":[\"#1F77B4\",\"#FF7F0E\",\"#2CA02C\",\"#D62728\",\"#9467BD\",\"#8C564B\",\"#E377C2\",\"#7F7F7F\",\"#BCBD22\",\"#17BECF\"],\"font\":{\"color\":\"rgb(36,36,36)\",\"family\":\"Arial\"},\"geo\":{\"bgcolor\":\"white\",\"lakecolor\":\"white\",\"landcolor\":\"white\",\"showlakes\":true,\"showland\":true,\"subunitcolor\":\"white\"},\"hoverlabel\":{\"align\":\"left\"},\"hovermode\":\"closest\",\"legend\":{\"bordercolor\":\"#e0e0e0\",\"borderwidth\":1,\"font\":{\"size\":12}},\"mapbox\":{\"style\":\"light\"},\"margin\":{\"b\":5,\"l\":5,\"r\":5,\"t\":5},\"paper_bgcolor\":\"white\",\"plot_bgcolor\":\"white\",\"polar\":{\"angularaxis\":{\"gridcolor\":\"rgb(232,232,232)\",\"linecolor\":\"rgb(36,36,36)\",\"showgrid\":false,\"showline\":true,\"ticks\":\"outside\"},\"bgcolor\":\"white\",\"radialaxis\":{\"gridcolor\":\"rgb(232,232,232)\",\"linecolor\":\"rgb(36,36,36)\",\"showgrid\":false,\"showline\":true,\"ticks\":\"outside\"}},\"scene\":{\"xaxis\":{\"backgroundcolor\":\"white\",\"gridcolor\":\"rgb(232,232,232)\",\"gridwidth\":2,\"linecolor\":\"rgb(36,36,36)\",\"showbackground\":true,\"showgrid\":false,\"showline\":true,\"ticks\":\"outside\",\"zeroline\":false,\"zerolinecolor\":\"rgb(36,36,36)\"},\"yaxis\":{\"backgroundcolor\":\"white\",\"gridcolor\":\"rgb(232,232,232)\",\"gridwidth\":2,\"linecolor\":\"rgb(36,36,36)\",\"showbackground\":true,\"showgrid\":false,\"showline\":true,\"ticks\":\"outside\",\"zeroline\":false,\"zerolinecolor\":\"rgb(36,36,36)\"},\"zaxis\":{\"backgroundcolor\":\"white\",\"gridcolor\":\"rgb(232,232,232)\",\"gridwidth\":2,\"linecolor\":\"rgb(36,36,36)\",\"showbackground\":true,\"showgrid\":false,\"showline\":true,\"ticks\":\"outside\",\"zeroline\":false,\"zerolinecolor\":\"rgb(36,36,36)\"}},\"shapedefaults\":{\"fillcolor\":\"black\",\"line\":{\"width\":0},\"opacity\":0.3},\"ternary\":{\"aaxis\":{\"gridcolor\":\"rgb(232,232,232)\",\"linecolor\":\"rgb(36,36,36)\",\"showgrid\":false,\"showline\":true,\"ticks\":\"outside\"},\"baxis\":{\"gridcolor\":\"rgb(232,232,232)\",\"linecolor\":\"rgb(36,36,36)\",\"showgrid\":false,\"showline\":true,\"ticks\":\"outside\"},\"bgcolor\":\"white\",\"caxis\":{\"gridcolor\":\"rgb(232,232,232)\",\"linecolor\":\"rgb(36,36,36)\",\"showgrid\":false,\"showline\":true,\"ticks\":\"outside\"}},\"title\":{\"font\":{\"size\":10},\"x\":0.05},\"xaxis\":{\"automargin\":true,\"gridcolor\":\"#e0e0e0\",\"linecolor\":\"#616161\",\"linewidth\":1,\"mirror\":true,\"showgrid\":true,\"showline\":true,\"tickfont\":{\"size\":10},\"ticks\":\"outside\",\"title\":{\"font\":{\"size\":12},\"standoff\":5},\"zeroline\":false,\"zerolinecolor\":\"rgb(36,36,36)\"},\"yaxis\":{\"automargin\":true,\"gridcolor\":\"#e0e0e0\",\"linecolor\":\"#616161\",\"linewidth\":1,\"mirror\":true,\"showgrid\":true,\"showline\":true,\"tickfont\":{\"size\":10},\"ticks\":\"outside\",\"title\":{\"font\":{\"size\":12},\"standoff\":5},\"zeroline\":false,\"zerolinecolor\":\"rgb(36,36,36)\"}}},\"yaxis\":{\"title\":{\"text\":\"Makespan (s)\"},\"tickformat\":\".0f\"},\"legend\":{\"yanchor\":\"bottom\",\"y\":0.02,\"xanchor\":\"left\",\"x\":0.01},\"xaxis\":{\"title\":{\"text\":\"Task Overhead Fraction\"}},\"width\":500,\"height\":200},                        {\"responsive\": true}                    ).then(function(){\n",
       "                            \n",
       "var gd = document.getElementById('1ad6aec0-c956-4bf0-8574-e71d029374e6');\n",
       "var x = new MutationObserver(function (mutations, observer) {{\n",
       "        var display = window.getComputedStyle(gd).display;\n",
       "        if (!display || display === 'none') {{\n",
       "            console.log([gd, 'removed!']);\n",
       "            Plotly.purge(gd);\n",
       "            observer.disconnect();\n",
       "        }}\n",
       "}});\n",
       "\n",
       "// Listen for the removal of the full notebook cells\n",
       "var notebookContainer = gd.closest('#notebook-container');\n",
       "if (notebookContainer) {{\n",
       "    x.observe(notebookContainer, {childList: true});\n",
       "}}\n",
       "\n",
       "// Listen for the clearing of the current output cell\n",
       "var outputEl = gd.closest('.output');\n",
       "if (outputEl) {{\n",
       "    x.observe(outputEl, {childList: true});\n",
       "}}\n",
       "\n",
       "                        })                };                });            </script>        </div>"
      ]
     },
     "metadata": {},
     "output_type": "display_data"
    },
    {
     "data": {
      "application/vnd.plotly.v1+json": {
       "config": {
        "plotlyServerURL": "https://plot.ly"
       },
       "data": [
        {
         "fill": "toself",
         "fillcolor": "rgb(128, 186, 90)",
         "hoverinfo": "name",
         "legendgroup": "rgb(128, 186, 90)",
         "mode": "none",
         "name": "submit",
         "showlegend": true,
         "type": "scatter",
         "x": [
          0,
          0.0012488365173339844,
          0.0012488365173339844,
          0,
          0,
          1.026921033859253,
          1.0281460285186768,
          1.0281460285186768,
          1.026921033859253,
          1.026921033859253,
          2.0524823665618896,
          2.0537126064300537,
          2.0537126064300537,
          2.0524823665618896,
          2.0524823665618896,
          3.0784544944763184,
          3.0797457695007324,
          3.0797457695007324,
          3.0784544944763184,
          3.0784544944763184,
          4.103823661804199,
          4.105218887329102,
          4.105218887329102,
          4.103823661804199,
          4.103823661804199,
          5.131972551345825,
          5.133226633071899,
          5.133226633071899,
          5.131972551345825,
          5.131972551345825,
          6.158735036849976,
          6.160120487213135,
          6.160120487213135,
          6.158735036849976,
          6.158735036849976,
          7.185741901397705,
          7.192180633544922,
          7.192180633544922,
          7.185741901397705
         ],
         "xaxis": "x",
         "y": [
          1.6,
          1.6,
          2.4,
          2.4,
          null,
          0.6,
          0.6,
          1.4,
          1.4,
          null,
          -0.4,
          -0.4,
          0.4,
          0.4,
          null,
          1.6,
          1.6,
          2.4,
          2.4,
          null,
          0.6,
          0.6,
          1.4,
          1.4,
          null,
          -0.4,
          -0.4,
          0.4,
          0.4,
          null,
          1.6,
          1.6,
          2.4,
          2.4,
          null,
          0.6,
          0.6,
          1.4,
          1.4
         ],
         "yaxis": "y"
        },
        {
         "fill": "toself",
         "fillcolor": "rgb(127, 60, 141)",
         "hoverinfo": "name",
         "legendgroup": "rgb(127, 60, 141)",
         "mode": "none",
         "name": "overhead",
         "showlegend": true,
         "type": "scatter",
         "x": [
          0.0012488365173339844,
          0.20132184028625488,
          0.20132184028625488,
          0.0012488365173339844,
          0.0012488365173339844,
          1.0281460285186768,
          1.2282259464263916,
          1.2282259464263916,
          1.0281460285186768,
          1.0281460285186768,
          2.0537126064300537,
          2.253782033920288,
          2.253782033920288,
          2.0537126064300537,
          2.0537126064300537,
          3.0797457695007324,
          3.2798216342926025,
          3.2798216342926025,
          3.0797457695007324,
          3.0797457695007324,
          4.105218887329102,
          4.305293560028076,
          4.305293560028076,
          4.105218887329102,
          4.105218887329102,
          5.133226633071899,
          5.3333048820495605,
          5.3333048820495605,
          5.133226633071899,
          5.133226633071899,
          6.160120487213135,
          6.360194206237793,
          6.360194206237793,
          6.160120487213135,
          6.160120487213135,
          7.192180633544922,
          7.39225959777832,
          7.39225959777832,
          7.192180633544922
         ],
         "xaxis": "x",
         "y": [
          1.6,
          1.6,
          2.4,
          2.4,
          null,
          0.6,
          0.6,
          1.4,
          1.4,
          null,
          -0.4,
          -0.4,
          0.4,
          0.4,
          null,
          1.6,
          1.6,
          2.4,
          2.4,
          null,
          0.6,
          0.6,
          1.4,
          1.4,
          null,
          -0.4,
          -0.4,
          0.4,
          0.4,
          null,
          1.6,
          1.6,
          2.4,
          2.4,
          null,
          0.6,
          0.6,
          1.4,
          1.4
         ],
         "yaxis": "y"
        },
        {
         "fill": "toself",
         "fillcolor": "rgb(231, 63, 116)",
         "hoverinfo": "name",
         "legendgroup": "rgb(231, 63, 116)",
         "mode": "none",
         "name": "resolve",
         "showlegend": true,
         "type": "scatter",
         "x": [
          0.20132184028625488,
          0.21207165718078613,
          0.21207165718078613,
          0.20132184028625488,
          0.20132184028625488,
          1.2282259464263916,
          1.2389519214630127,
          1.2389519214630127,
          1.2282259464263916,
          1.2282259464263916,
          2.253782033920288,
          2.266831874847412,
          2.266831874847412,
          2.253782033920288,
          2.253782033920288,
          3.2798216342926025,
          3.292600393295288,
          3.292600393295288,
          3.2798216342926025,
          3.2798216342926025,
          4.305293560028076,
          4.315097093582153,
          4.315097093582153,
          4.305293560028076,
          4.305293560028076,
          5.3333048820495605,
          5.344865560531616,
          5.344865560531616,
          5.3333048820495605,
          5.3333048820495605,
          6.360194206237793,
          6.371790409088135,
          6.371790409088135,
          6.360194206237793,
          6.360194206237793,
          7.39225959777832,
          7.403642416000366,
          7.403642416000366,
          7.39225959777832
         ],
         "xaxis": "x",
         "y": [
          1.6,
          1.6,
          2.4,
          2.4,
          null,
          0.6,
          0.6,
          1.4,
          1.4,
          null,
          -0.4,
          -0.4,
          0.4,
          0.4,
          null,
          1.6,
          1.6,
          2.4,
          2.4,
          null,
          0.6,
          0.6,
          1.4,
          1.4,
          null,
          -0.4,
          -0.4,
          0.4,
          0.4,
          null,
          1.6,
          1.6,
          2.4,
          2.4,
          null,
          0.6,
          0.6,
          1.4,
          1.4
         ],
         "yaxis": "y"
        },
        {
         "fill": "toself",
         "fillcolor": "rgb(17, 165, 121)",
         "hoverinfo": "name",
         "legendgroup": "rgb(17, 165, 121)",
         "mode": "none",
         "name": "compute",
         "showlegend": true,
         "type": "scatter",
         "x": [
          0.21207165718078613,
          1.0013914108276367,
          1.0013914108276367,
          0.21207165718078613,
          0.21207165718078613,
          1.2389519214630127,
          2.0283167362213135,
          2.0283167362213135,
          1.2389519214630127,
          1.2389519214630127,
          2.266831874847412,
          3.0538601875305176,
          3.0538601875305176,
          2.266831874847412,
          2.266831874847412,
          3.292600393295288,
          4.079890727996826,
          4.079890727996826,
          3.292600393295288,
          3.292600393295288,
          4.315097093582153,
          5.105359792709351,
          5.105359792709351,
          4.315097093582153,
          4.315097093582153,
          5.344865560531616,
          6.133367538452148,
          6.133367538452148,
          5.344865560531616,
          5.344865560531616,
          6.371790409088135,
          7.160260200500488,
          7.160260200500488,
          6.371790409088135,
          6.371790409088135,
          7.403642416000366,
          8.1923348903656,
          8.1923348903656,
          7.403642416000366
         ],
         "xaxis": "x",
         "y": [
          1.6,
          1.6,
          2.4,
          2.4,
          null,
          0.6,
          0.6,
          1.4,
          1.4,
          null,
          -0.4,
          -0.4,
          0.4,
          0.4,
          null,
          1.6,
          1.6,
          2.4,
          2.4,
          null,
          0.6,
          0.6,
          1.4,
          1.4,
          null,
          -0.4,
          -0.4,
          0.4,
          0.4,
          null,
          1.6,
          1.6,
          2.4,
          2.4,
          null,
          0.6,
          0.6,
          1.4,
          1.4
         ],
         "yaxis": "y"
        },
        {
         "fill": "toself",
         "fillcolor": "rgb(57, 105, 172)",
         "hoverinfo": "name",
         "legendgroup": "rgb(57, 105, 172)",
         "mode": "none",
         "name": "generate",
         "showlegend": true,
         "type": "scatter",
         "x": [
          1.0013914108276367,
          1.0240740776062012,
          1.0240740776062012,
          1.0013914108276367,
          1.0013914108276367,
          2.0283167362213135,
          2.049933910369873,
          2.049933910369873,
          2.0283167362213135,
          2.0283167362213135,
          3.0538601875305176,
          3.076016664505005,
          3.076016664505005,
          3.0538601875305176,
          3.0538601875305176,
          4.079890727996826,
          4.101251125335693,
          4.101251125335693,
          4.079890727996826,
          4.079890727996826,
          5.105359792709351,
          5.1292688846588135,
          5.1292688846588135,
          5.105359792709351,
          5.105359792709351,
          6.133367538452148,
          6.155715465545654,
          6.155715465545654,
          6.133367538452148,
          6.133367538452148,
          7.160260200500488,
          7.183060884475708,
          7.183060884475708,
          7.160260200500488,
          7.160260200500488,
          8.1923348903656,
          8.215770244598389,
          8.215770244598389,
          8.1923348903656
         ],
         "xaxis": "x",
         "y": [
          1.6,
          1.6,
          2.4,
          2.4,
          null,
          0.6,
          0.6,
          1.4,
          1.4,
          null,
          -0.4,
          -0.4,
          0.4,
          0.4,
          null,
          1.6,
          1.6,
          2.4,
          2.4,
          null,
          0.6,
          0.6,
          1.4,
          1.4,
          null,
          -0.4,
          -0.4,
          0.4,
          0.4,
          null,
          1.6,
          1.6,
          2.4,
          2.4,
          null,
          0.6,
          0.6,
          1.4,
          1.4
         ],
         "yaxis": "y"
        },
        {
         "fill": "toself",
         "fillcolor": "rgb(242, 183, 1)",
         "hoverinfo": "name",
         "legendgroup": "rgb(242, 183, 1)",
         "mode": "none",
         "name": "receive",
         "showlegend": true,
         "type": "scatter",
         "x": [
          1.0240740776062012,
          1.0263826847076416,
          1.0263826847076416,
          1.0240740776062012,
          1.0240740776062012,
          2.049933910369873,
          2.0521068572998047,
          2.0521068572998047,
          2.049933910369873,
          2.049933910369873,
          3.076016664505005,
          3.0780656337738037,
          3.0780656337738037,
          3.076016664505005,
          3.076016664505005,
          4.101251125335693,
          4.10344934463501,
          4.10344934463501,
          4.101251125335693,
          4.101251125335693,
          5.1292688846588135,
          5.131584882736206,
          5.131584882736206,
          5.1292688846588135,
          5.1292688846588135,
          6.155715465545654,
          6.15833044052124,
          6.15833044052124,
          6.155715465545654,
          6.155715465545654,
          7.183060884475708,
          7.185362100601196,
          7.185362100601196,
          7.183060884475708,
          7.183060884475708,
          8.215770244598389,
          8.21842646598816,
          8.21842646598816,
          8.215770244598389
         ],
         "xaxis": "x",
         "y": [
          1.6,
          1.6,
          2.4,
          2.4,
          null,
          0.6,
          0.6,
          1.4,
          1.4,
          null,
          -0.4,
          -0.4,
          0.4,
          0.4,
          null,
          1.6,
          1.6,
          2.4,
          2.4,
          null,
          0.6,
          0.6,
          1.4,
          1.4,
          null,
          -0.4,
          -0.4,
          0.4,
          0.4,
          null,
          1.6,
          1.6,
          2.4,
          2.4,
          null,
          0.6,
          0.6,
          1.4,
          1.4
         ],
         "yaxis": "y"
        },
        {
         "legendgroup": "rgb(127, 60, 141)",
         "marker": {
          "color": "rgb(127, 60, 141)",
          "opacity": 0,
          "size": 1
         },
         "mode": "markers",
         "name": "",
         "showlegend": false,
         "text": [
          null,
          null,
          null,
          null,
          null,
          null,
          null,
          null,
          null,
          null,
          null,
          null,
          null,
          null,
          null,
          null
         ],
         "type": "scatter",
         "x": [
          0.0012488365173339844,
          0.20132184028625488,
          1.0281460285186768,
          1.2282259464263916,
          2.0537126064300537,
          2.253782033920288,
          3.0797457695007324,
          3.2798216342926025,
          4.105218887329102,
          4.305293560028076,
          5.133226633071899,
          5.3333048820495605,
          6.160120487213135,
          6.360194206237793,
          7.192180633544922,
          7.39225959777832
         ],
         "xaxis": "x",
         "y": [
          2,
          2,
          1,
          1,
          0,
          0,
          2,
          2,
          1,
          1,
          0,
          0,
          2,
          2,
          1,
          1
         ],
         "yaxis": "y"
        },
        {
         "legendgroup": "rgb(128, 186, 90)",
         "marker": {
          "color": "rgb(128, 186, 90)",
          "opacity": 0,
          "size": 1
         },
         "mode": "markers",
         "name": "",
         "showlegend": false,
         "text": [
          null,
          null,
          null,
          null,
          null,
          null,
          null,
          null,
          null,
          null,
          null,
          null,
          null,
          null,
          null,
          null
         ],
         "type": "scatter",
         "x": [
          0,
          0.0012488365173339844,
          1.026921033859253,
          1.0281460285186768,
          2.0524823665618896,
          2.0537126064300537,
          3.0784544944763184,
          3.0797457695007324,
          4.103823661804199,
          4.105218887329102,
          5.131972551345825,
          5.133226633071899,
          6.158735036849976,
          6.160120487213135,
          7.185741901397705,
          7.192180633544922
         ],
         "xaxis": "x",
         "y": [
          2,
          2,
          1,
          1,
          0,
          0,
          2,
          2,
          1,
          1,
          0,
          0,
          2,
          2,
          1,
          1
         ],
         "yaxis": "y"
        },
        {
         "legendgroup": "rgb(17, 165, 121)",
         "marker": {
          "color": "rgb(17, 165, 121)",
          "opacity": 0,
          "size": 1
         },
         "mode": "markers",
         "name": "",
         "showlegend": false,
         "text": [
          null,
          null,
          null,
          null,
          null,
          null,
          null,
          null,
          null,
          null,
          null,
          null,
          null,
          null,
          null,
          null
         ],
         "type": "scatter",
         "x": [
          0.21207165718078613,
          1.0013914108276367,
          1.2389519214630127,
          2.0283167362213135,
          2.266831874847412,
          3.0538601875305176,
          3.292600393295288,
          4.079890727996826,
          4.315097093582153,
          5.105359792709351,
          5.344865560531616,
          6.133367538452148,
          6.371790409088135,
          7.160260200500488,
          7.403642416000366,
          8.1923348903656
         ],
         "xaxis": "x",
         "y": [
          2,
          2,
          1,
          1,
          0,
          0,
          2,
          2,
          1,
          1,
          0,
          0,
          2,
          2,
          1,
          1
         ],
         "yaxis": "y"
        },
        {
         "legendgroup": "rgb(231, 63, 116)",
         "marker": {
          "color": "rgb(231, 63, 116)",
          "opacity": 0,
          "size": 1
         },
         "mode": "markers",
         "name": "",
         "showlegend": false,
         "text": [
          null,
          null,
          null,
          null,
          null,
          null,
          null,
          null,
          null,
          null,
          null,
          null,
          null,
          null,
          null,
          null
         ],
         "type": "scatter",
         "x": [
          0.20132184028625488,
          0.21207165718078613,
          1.2282259464263916,
          1.2389519214630127,
          2.253782033920288,
          2.266831874847412,
          3.2798216342926025,
          3.292600393295288,
          4.305293560028076,
          4.315097093582153,
          5.3333048820495605,
          5.344865560531616,
          6.360194206237793,
          6.371790409088135,
          7.39225959777832,
          7.403642416000366
         ],
         "xaxis": "x",
         "y": [
          2,
          2,
          1,
          1,
          0,
          0,
          2,
          2,
          1,
          1,
          0,
          0,
          2,
          2,
          1,
          1
         ],
         "yaxis": "y"
        },
        {
         "legendgroup": "rgb(242, 183, 1)",
         "marker": {
          "color": "rgb(242, 183, 1)",
          "opacity": 0,
          "size": 1
         },
         "mode": "markers",
         "name": "",
         "showlegend": false,
         "text": [
          null,
          null,
          null,
          null,
          null,
          null,
          null,
          null,
          null,
          null,
          null,
          null,
          null,
          null,
          null,
          null
         ],
         "type": "scatter",
         "x": [
          1.0240740776062012,
          1.0263826847076416,
          2.049933910369873,
          2.0521068572998047,
          3.076016664505005,
          3.0780656337738037,
          4.101251125335693,
          4.10344934463501,
          5.1292688846588135,
          5.131584882736206,
          6.155715465545654,
          6.15833044052124,
          7.183060884475708,
          7.185362100601196,
          8.215770244598389,
          8.21842646598816
         ],
         "xaxis": "x",
         "y": [
          2,
          2,
          1,
          1,
          0,
          0,
          2,
          2,
          1,
          1,
          0,
          0,
          2,
          2,
          1,
          1
         ],
         "yaxis": "y"
        },
        {
         "legendgroup": "rgb(57, 105, 172)",
         "marker": {
          "color": "rgb(57, 105, 172)",
          "opacity": 0,
          "size": 1
         },
         "mode": "markers",
         "name": "",
         "showlegend": false,
         "text": [
          null,
          null,
          null,
          null,
          null,
          null,
          null,
          null,
          null,
          null,
          null,
          null,
          null,
          null,
          null,
          null
         ],
         "type": "scatter",
         "x": [
          1.0013914108276367,
          1.0240740776062012,
          2.0283167362213135,
          2.049933910369873,
          3.0538601875305176,
          3.076016664505005,
          4.079890727996826,
          4.101251125335693,
          5.105359792709351,
          5.1292688846588135,
          6.133367538452148,
          6.155715465545654,
          7.160260200500488,
          7.183060884475708,
          8.1923348903656,
          8.215770244598389
         ],
         "xaxis": "x",
         "y": [
          2,
          2,
          1,
          1,
          0,
          0,
          2,
          2,
          1,
          1,
          0,
          0,
          2,
          2,
          1,
          1
         ],
         "yaxis": "y"
        },
        {
         "fill": "toself",
         "fillcolor": "rgb(128, 186, 90)",
         "hoverinfo": "name",
         "legendgroup": "rgb(128, 186, 90)",
         "mode": "none",
         "name": "submit",
         "showlegend": false,
         "type": "scatter",
         "x": [
          0,
          0.0011911392211914062,
          0.0011911392211914062,
          0,
          0,
          0.8005688190460205,
          0.8016684055328369,
          0.8016684055328369,
          0.8005688190460205,
          0.8005688190460205,
          1.6011521816253662,
          1.602217197418213,
          1.602217197418213,
          1.6011521816253662,
          1.6011521816253662,
          2.401710033416748,
          2.402900457382202,
          2.402900457382202,
          2.401710033416748,
          2.401710033416748,
          3.202237606048584,
          3.203418254852295,
          3.203418254852295,
          3.202237606048584,
          3.202237606048584,
          4.002774715423584,
          4.003877878189087,
          4.003877878189087,
          4.002774715423584,
          4.002774715423584,
          4.803288459777832,
          4.8044328689575195,
          4.8044328689575195,
          4.803288459777832,
          4.803288459777832,
          5.6038665771484375,
          5.604986667633057,
          5.604986667633057,
          5.6038665771484375
         ],
         "xaxis": "x2",
         "y": [
          1.6,
          1.6,
          2.4,
          2.4,
          null,
          0.6,
          0.6,
          1.4,
          1.4,
          null,
          -0.4,
          -0.4,
          0.4,
          0.4,
          null,
          1.6,
          1.6,
          2.4,
          2.4,
          null,
          0.6,
          0.6,
          1.4,
          1.4,
          null,
          -0.4,
          -0.4,
          0.4,
          0.4,
          null,
          1.6,
          1.6,
          2.4,
          2.4,
          null,
          0.6,
          0.6,
          1.4,
          1.4
         ],
         "yaxis": "y2"
        },
        {
         "fill": "toself",
         "fillcolor": "rgb(127, 60, 141)",
         "hoverinfo": "name",
         "legendgroup": "rgb(127, 60, 141)",
         "mode": "none",
         "name": "overhead",
         "showlegend": false,
         "type": "scatter",
         "x": [
          0.0011911392211914062,
          0.20128202438354492,
          0.20128202438354492,
          0.0011911392211914062,
          0.0011911392211914062,
          0.8016684055328369,
          1.0017335414886475,
          1.0017335414886475,
          0.8016684055328369,
          0.8016684055328369,
          1.602217197418213,
          1.8022854328155518,
          1.8022854328155518,
          1.602217197418213,
          1.602217197418213,
          2.402900457382202,
          2.6029744148254395,
          2.6029744148254395,
          2.402900457382202,
          2.402900457382202,
          3.203418254852295,
          3.403482675552368,
          3.403482675552368,
          3.203418254852295,
          3.203418254852295,
          4.003877878189087,
          4.203945875167847,
          4.203945875167847,
          4.003877878189087,
          4.003877878189087,
          4.8044328689575195,
          5.004496335983276,
          5.004496335983276,
          4.8044328689575195,
          4.8044328689575195,
          5.604986667633057,
          5.805051565170288,
          5.805051565170288,
          5.604986667633057
         ],
         "xaxis": "x2",
         "y": [
          1.6,
          1.6,
          2.4,
          2.4,
          null,
          0.6,
          0.6,
          1.4,
          1.4,
          null,
          -0.4,
          -0.4,
          0.4,
          0.4,
          null,
          1.6,
          1.6,
          2.4,
          2.4,
          null,
          0.6,
          0.6,
          1.4,
          1.4,
          null,
          -0.4,
          -0.4,
          0.4,
          0.4,
          null,
          1.6,
          1.6,
          2.4,
          2.4,
          null,
          0.6,
          0.6,
          1.4,
          1.4
         ],
         "yaxis": "y2"
        },
        {
         "fill": "toself",
         "fillcolor": "rgb(231, 63, 116)",
         "hoverinfo": "name",
         "legendgroup": "rgb(231, 63, 116)",
         "mode": "none",
         "name": "resolve",
         "showlegend": false,
         "type": "scatter",
         "x": [
          0.20128202438354492,
          0.2124309539794922,
          0.2124309539794922,
          0.20128202438354492,
          0.20128202438354492,
          1.0017335414886475,
          1.034379243850708,
          1.034379243850708,
          1.0017335414886475,
          1.0017335414886475,
          1.8022854328155518,
          1.835507869720459,
          1.835507869720459,
          1.8022854328155518,
          1.8022854328155518,
          2.6029744148254395,
          2.6359541416168213,
          2.6359541416168213,
          2.6029744148254395,
          2.6029744148254395,
          3.403482675552368,
          3.4397945404052734,
          3.4397945404052734,
          3.403482675552368,
          3.403482675552368,
          4.203945875167847,
          4.238750457763672,
          4.238750457763672,
          4.203945875167847,
          4.203945875167847,
          5.004496335983276,
          5.037585973739624,
          5.037585973739624,
          5.004496335983276,
          5.004496335983276,
          5.805051565170288,
          5.840599775314331,
          5.840599775314331,
          5.805051565170288
         ],
         "xaxis": "x2",
         "y": [
          1.6,
          1.6,
          2.4,
          2.4,
          null,
          0.6,
          0.6,
          1.4,
          1.4,
          null,
          -0.4,
          -0.4,
          0.4,
          0.4,
          null,
          1.6,
          1.6,
          2.4,
          2.4,
          null,
          0.6,
          0.6,
          1.4,
          1.4,
          null,
          -0.4,
          -0.4,
          0.4,
          0.4,
          null,
          1.6,
          1.6,
          2.4,
          2.4,
          null,
          0.6,
          0.6,
          1.4,
          1.4
         ],
         "yaxis": "y2"
        },
        {
         "fill": "toself",
         "fillcolor": "rgb(17, 165, 121)",
         "hoverinfo": "name",
         "legendgroup": "rgb(17, 165, 121)",
         "mode": "none",
         "name": "compute",
         "showlegend": false,
         "type": "scatter",
         "x": [
          0.2124309539794922,
          1.0013673305511475,
          1.0013673305511475,
          0.2124309539794922,
          0.2124309539794922,
          1.034379243850708,
          1.8017988204956055,
          1.8017988204956055,
          1.034379243850708,
          1.034379243850708,
          1.835507869720459,
          2.60237455368042,
          2.60237455368042,
          1.835507869720459,
          1.835507869720459,
          2.6359541416168213,
          3.403059720993042,
          3.403059720993042,
          2.6359541416168213,
          2.6359541416168213,
          3.4397945404052734,
          4.203545093536377,
          4.203545093536377,
          3.4397945404052734,
          3.4397945404052734,
          4.238750457763672,
          5.004014015197754,
          5.004014015197754,
          4.238750457763672,
          4.238750457763672,
          5.037585973739624,
          5.804558753967285,
          5.804558753967285,
          5.037585973739624,
          5.037585973739624,
          5.840599775314331,
          6.605133533477783,
          6.605133533477783,
          5.840599775314331
         ],
         "xaxis": "x2",
         "y": [
          1.6,
          1.6,
          2.4,
          2.4,
          null,
          0.6,
          0.6,
          1.4,
          1.4,
          null,
          -0.4,
          -0.4,
          0.4,
          0.4,
          null,
          1.6,
          1.6,
          2.4,
          2.4,
          null,
          0.6,
          0.6,
          1.4,
          1.4,
          null,
          -0.4,
          -0.4,
          0.4,
          0.4,
          null,
          1.6,
          1.6,
          2.4,
          2.4,
          null,
          0.6,
          0.6,
          1.4,
          1.4
         ],
         "yaxis": "y2"
        },
        {
         "fill": "toself",
         "fillcolor": "rgb(57, 105, 172)",
         "hoverinfo": "name",
         "legendgroup": "rgb(57, 105, 172)",
         "mode": "none",
         "name": "generate",
         "showlegend": false,
         "type": "scatter",
         "x": [
          1.0013673305511475,
          1.0237441062927246,
          1.0237441062927246,
          1.0013673305511475,
          1.0013673305511475,
          1.8017988204956055,
          1.824676275253296,
          1.824676275253296,
          1.8017988204956055,
          1.8017988204956055,
          2.60237455368042,
          2.624725818634033,
          2.624725818634033,
          2.60237455368042,
          2.60237455368042,
          3.403059720993042,
          3.4260106086730957,
          3.4260106086730957,
          3.403059720993042,
          3.403059720993042,
          4.203545093536377,
          4.2250566482543945,
          4.2250566482543945,
          4.203545093536377,
          4.203545093536377,
          5.004014015197754,
          5.02725887298584,
          5.02725887298584,
          5.004014015197754,
          5.004014015197754,
          5.804558753967285,
          5.826399803161621,
          5.826399803161621,
          5.804558753967285,
          5.804558753967285,
          6.605133533477783,
          6.627737283706665,
          6.627737283706665,
          6.605133533477783
         ],
         "xaxis": "x2",
         "y": [
          1.6,
          1.6,
          2.4,
          2.4,
          null,
          0.6,
          0.6,
          1.4,
          1.4,
          null,
          -0.4,
          -0.4,
          0.4,
          0.4,
          null,
          1.6,
          1.6,
          2.4,
          2.4,
          null,
          0.6,
          0.6,
          1.4,
          1.4,
          null,
          -0.4,
          -0.4,
          0.4,
          0.4,
          null,
          1.6,
          1.6,
          2.4,
          2.4,
          null,
          0.6,
          0.6,
          1.4,
          1.4
         ],
         "yaxis": "y2"
        },
        {
         "fill": "toself",
         "fillcolor": "rgb(242, 183, 1)",
         "hoverinfo": "name",
         "legendgroup": "rgb(242, 183, 1)",
         "mode": "none",
         "name": "receive",
         "showlegend": false,
         "type": "scatter",
         "x": [
          1.0237441062927246,
          1.0257244110107422,
          1.0257244110107422,
          1.0237441062927246,
          1.0237441062927246,
          1.824676275253296,
          1.8270375728607178,
          1.8270375728607178,
          1.824676275253296,
          1.824676275253296,
          2.624725818634033,
          2.6284873485565186,
          2.6284873485565186,
          2.624725818634033,
          2.624725818634033,
          3.4260106086730957,
          3.429997444152832,
          3.429997444152832,
          3.4260106086730957,
          3.4260106086730957,
          4.2250566482543945,
          4.231460809707642,
          4.231460809707642,
          4.2250566482543945,
          4.2250566482543945,
          5.02725887298584,
          5.032809257507324,
          5.032809257507324,
          5.02725887298584,
          5.02725887298584,
          5.826399803161621,
          5.8341569900512695,
          5.8341569900512695,
          5.826399803161621,
          5.826399803161621,
          6.627737283706665,
          6.635540723800659,
          6.635540723800659,
          6.627737283706665
         ],
         "xaxis": "x2",
         "y": [
          1.6,
          1.6,
          2.4,
          2.4,
          null,
          0.6,
          0.6,
          1.4,
          1.4,
          null,
          -0.4,
          -0.4,
          0.4,
          0.4,
          null,
          1.6,
          1.6,
          2.4,
          2.4,
          null,
          0.6,
          0.6,
          1.4,
          1.4,
          null,
          -0.4,
          -0.4,
          0.4,
          0.4,
          null,
          1.6,
          1.6,
          2.4,
          2.4,
          null,
          0.6,
          0.6,
          1.4,
          1.4
         ],
         "yaxis": "y2"
        },
        {
         "legendgroup": "rgb(127, 60, 141)",
         "marker": {
          "color": "rgb(127, 60, 141)",
          "opacity": 0,
          "size": 1
         },
         "mode": "markers",
         "name": "",
         "showlegend": false,
         "text": [
          null,
          null,
          null,
          null,
          null,
          null,
          null,
          null,
          null,
          null,
          null,
          null,
          null,
          null,
          null,
          null
         ],
         "type": "scatter",
         "x": [
          0.0011911392211914062,
          0.20128202438354492,
          0.8016684055328369,
          1.0017335414886475,
          1.602217197418213,
          1.8022854328155518,
          2.402900457382202,
          2.6029744148254395,
          3.203418254852295,
          3.403482675552368,
          4.003877878189087,
          4.203945875167847,
          4.8044328689575195,
          5.004496335983276,
          5.604986667633057,
          5.805051565170288
         ],
         "xaxis": "x2",
         "y": [
          2,
          2,
          1,
          1,
          0,
          0,
          2,
          2,
          1,
          1,
          0,
          0,
          2,
          2,
          1,
          1
         ],
         "yaxis": "y2"
        },
        {
         "legendgroup": "rgb(128, 186, 90)",
         "marker": {
          "color": "rgb(128, 186, 90)",
          "opacity": 0,
          "size": 1
         },
         "mode": "markers",
         "name": "",
         "showlegend": false,
         "text": [
          null,
          null,
          null,
          null,
          null,
          null,
          null,
          null,
          null,
          null,
          null,
          null,
          null,
          null,
          null,
          null
         ],
         "type": "scatter",
         "x": [
          0,
          0.0011911392211914062,
          0.8005688190460205,
          0.8016684055328369,
          1.6011521816253662,
          1.602217197418213,
          2.401710033416748,
          2.402900457382202,
          3.202237606048584,
          3.203418254852295,
          4.002774715423584,
          4.003877878189087,
          4.803288459777832,
          4.8044328689575195,
          5.6038665771484375,
          5.604986667633057
         ],
         "xaxis": "x2",
         "y": [
          2,
          2,
          1,
          1,
          0,
          0,
          2,
          2,
          1,
          1,
          0,
          0,
          2,
          2,
          1,
          1
         ],
         "yaxis": "y2"
        },
        {
         "legendgroup": "rgb(17, 165, 121)",
         "marker": {
          "color": "rgb(17, 165, 121)",
          "opacity": 0,
          "size": 1
         },
         "mode": "markers",
         "name": "",
         "showlegend": false,
         "text": [
          null,
          null,
          null,
          null,
          null,
          null,
          null,
          null,
          null,
          null,
          null,
          null,
          null,
          null,
          null,
          null
         ],
         "type": "scatter",
         "x": [
          0.2124309539794922,
          1.0013673305511475,
          1.034379243850708,
          1.8017988204956055,
          1.835507869720459,
          2.60237455368042,
          2.6359541416168213,
          3.403059720993042,
          3.4397945404052734,
          4.203545093536377,
          4.238750457763672,
          5.004014015197754,
          5.037585973739624,
          5.804558753967285,
          5.840599775314331,
          6.605133533477783
         ],
         "xaxis": "x2",
         "y": [
          2,
          2,
          1,
          1,
          0,
          0,
          2,
          2,
          1,
          1,
          0,
          0,
          2,
          2,
          1,
          1
         ],
         "yaxis": "y2"
        },
        {
         "legendgroup": "rgb(231, 63, 116)",
         "marker": {
          "color": "rgb(231, 63, 116)",
          "opacity": 0,
          "size": 1
         },
         "mode": "markers",
         "name": "",
         "showlegend": false,
         "text": [
          null,
          null,
          null,
          null,
          null,
          null,
          null,
          null,
          null,
          null,
          null,
          null,
          null,
          null,
          null,
          null
         ],
         "type": "scatter",
         "x": [
          0.20128202438354492,
          0.2124309539794922,
          1.0017335414886475,
          1.034379243850708,
          1.8022854328155518,
          1.835507869720459,
          2.6029744148254395,
          2.6359541416168213,
          3.403482675552368,
          3.4397945404052734,
          4.203945875167847,
          4.238750457763672,
          5.004496335983276,
          5.037585973739624,
          5.805051565170288,
          5.840599775314331
         ],
         "xaxis": "x2",
         "y": [
          2,
          2,
          1,
          1,
          0,
          0,
          2,
          2,
          1,
          1,
          0,
          0,
          2,
          2,
          1,
          1
         ],
         "yaxis": "y2"
        },
        {
         "legendgroup": "rgb(242, 183, 1)",
         "marker": {
          "color": "rgb(242, 183, 1)",
          "opacity": 0,
          "size": 1
         },
         "mode": "markers",
         "name": "",
         "showlegend": false,
         "text": [
          null,
          null,
          null,
          null,
          null,
          null,
          null,
          null,
          null,
          null,
          null,
          null,
          null,
          null,
          null,
          null
         ],
         "type": "scatter",
         "x": [
          1.0237441062927246,
          1.0257244110107422,
          1.824676275253296,
          1.8270375728607178,
          2.624725818634033,
          2.6284873485565186,
          3.4260106086730957,
          3.429997444152832,
          4.2250566482543945,
          4.231460809707642,
          5.02725887298584,
          5.032809257507324,
          5.826399803161621,
          5.8341569900512695,
          6.627737283706665,
          6.635540723800659
         ],
         "xaxis": "x2",
         "y": [
          2,
          2,
          1,
          1,
          0,
          0,
          2,
          2,
          1,
          1,
          0,
          0,
          2,
          2,
          1,
          1
         ],
         "yaxis": "y2"
        },
        {
         "legendgroup": "rgb(57, 105, 172)",
         "marker": {
          "color": "rgb(57, 105, 172)",
          "opacity": 0,
          "size": 1
         },
         "mode": "markers",
         "name": "",
         "showlegend": false,
         "text": [
          null,
          null,
          null,
          null,
          null,
          null,
          null,
          null,
          null,
          null,
          null,
          null,
          null,
          null,
          null,
          null
         ],
         "type": "scatter",
         "x": [
          1.0013673305511475,
          1.0237441062927246,
          1.8017988204956055,
          1.824676275253296,
          2.60237455368042,
          2.624725818634033,
          3.403059720993042,
          3.4260106086730957,
          4.203545093536377,
          4.2250566482543945,
          5.004014015197754,
          5.02725887298584,
          5.804558753967285,
          5.826399803161621,
          6.605133533477783,
          6.627737283706665
         ],
         "xaxis": "x2",
         "y": [
          2,
          2,
          1,
          1,
          0,
          0,
          2,
          2,
          1,
          1,
          0,
          0,
          2,
          2,
          1,
          1
         ],
         "yaxis": "y2"
        },
        {
         "fill": "toself",
         "fillcolor": "rgb(128, 186, 90)",
         "hoverinfo": "name",
         "legendgroup": "rgb(128, 186, 90)",
         "mode": "none",
         "name": "submit",
         "showlegend": false,
         "type": "scatter",
         "x": [
          0,
          0.004462718963623047,
          0.004462718963623047,
          0,
          0,
          0.5004453659057617,
          0.5015127658843994,
          0.5015127658843994,
          0.5004453659057617,
          0.5004453659057617,
          1.0009362697601318,
          1.0019936561584473,
          1.0019936561584473,
          1.0009362697601318,
          1.0009362697601318,
          1.5014843940734863,
          1.5029780864715576,
          1.5029780864715576,
          1.5014843940734863,
          1.5014843940734863,
          2.002152442932129,
          2.00337553024292,
          2.00337553024292,
          2.002152442932129,
          2.002152442932129,
          2.502657175064087,
          2.5039353370666504,
          2.5039353370666504,
          2.502657175064087,
          2.502657175064087,
          3.003152847290039,
          3.0045480728149414,
          3.0045480728149414,
          3.003152847290039,
          3.003152847290039,
          3.503657102584839,
          3.5047383308410645,
          3.5047383308410645,
          3.503657102584839
         ],
         "xaxis": "x3",
         "y": [
          1.6,
          1.6,
          2.4,
          2.4,
          null,
          0.6,
          0.6,
          1.4,
          1.4,
          null,
          -0.4,
          -0.4,
          0.4,
          0.4,
          null,
          1.6,
          1.6,
          2.4,
          2.4,
          null,
          0.6,
          0.6,
          1.4,
          1.4,
          null,
          -0.4,
          -0.4,
          0.4,
          0.4,
          null,
          1.6,
          1.6,
          2.4,
          2.4,
          null,
          0.6,
          0.6,
          1.4,
          1.4
         ],
         "yaxis": "y3"
        },
        {
         "fill": "toself",
         "fillcolor": "rgb(127, 60, 141)",
         "hoverinfo": "name",
         "legendgroup": "rgb(127, 60, 141)",
         "mode": "none",
         "name": "overhead",
         "showlegend": false,
         "type": "scatter",
         "x": [
          0.004462718963623047,
          0.5045287609100342,
          0.5045287609100342,
          0.004462718963623047,
          0.004462718963623047,
          0.5015127658843994,
          1.0015921592712402,
          1.0015921592712402,
          0.5015127658843994,
          0.5015127658843994,
          1.0019936561584473,
          1.5020701885223389,
          1.5020701885223389,
          1.0019936561584473,
          1.0019936561584473,
          1.5029780864715576,
          2.021895408630371,
          2.021895408630371,
          1.5029780864715576,
          1.5029780864715576,
          2.00337553024292,
          2.5034568309783936,
          2.5034568309783936,
          2.00337553024292,
          2.00337553024292,
          2.5039353370666504,
          3.00433611869812,
          3.00433611869812,
          2.5039353370666504,
          2.5039353370666504,
          3.0045480728149414,
          3.5231893062591553,
          3.5231893062591553,
          3.0045480728149414,
          3.0045480728149414,
          3.5047383308410645,
          4.004802942276001,
          4.004802942276001,
          3.5047383308410645
         ],
         "xaxis": "x3",
         "y": [
          1.6,
          1.6,
          2.4,
          2.4,
          null,
          0.6,
          0.6,
          1.4,
          1.4,
          null,
          -0.4,
          -0.4,
          0.4,
          0.4,
          null,
          1.6,
          1.6,
          2.4,
          2.4,
          null,
          0.6,
          0.6,
          1.4,
          1.4,
          null,
          -0.4,
          -0.4,
          0.4,
          0.4,
          null,
          1.6,
          1.6,
          2.4,
          2.4,
          null,
          0.6,
          0.6,
          1.4,
          1.4
         ],
         "yaxis": "y3"
        },
        {
         "fill": "toself",
         "fillcolor": "rgb(231, 63, 116)",
         "hoverinfo": "name",
         "legendgroup": "rgb(231, 63, 116)",
         "mode": "none",
         "name": "resolve",
         "showlegend": false,
         "type": "scatter",
         "x": [
          0.5045287609100342,
          0.5178029537200928,
          0.5178029537200928,
          0.5045287609100342,
          0.5045287609100342,
          1.0015921592712402,
          1.0353295803070068,
          1.0353295803070068,
          1.0015921592712402,
          1.0015921592712402,
          1.5020701885223389,
          1.5360462665557861,
          1.5360462665557861,
          1.5020701885223389,
          1.5020701885223389,
          2.021895408630371,
          2.037712335586548,
          2.037712335586548,
          2.021895408630371,
          2.021895408630371,
          2.5034568309783936,
          2.5572071075439453,
          2.5572071075439453,
          2.5034568309783936,
          2.5034568309783936,
          3.00433611869812,
          3.034038782119751,
          3.034038782119751,
          3.00433611869812,
          3.00433611869812,
          3.5231893062591553,
          3.5356454849243164,
          3.5356454849243164,
          3.5231893062591553,
          3.5231893062591553,
          4.004802942276001,
          4.053987503051758,
          4.053987503051758,
          4.004802942276001
         ],
         "xaxis": "x3",
         "y": [
          1.6,
          1.6,
          2.4,
          2.4,
          null,
          0.6,
          0.6,
          1.4,
          1.4,
          null,
          -0.4,
          -0.4,
          0.4,
          0.4,
          null,
          1.6,
          1.6,
          2.4,
          2.4,
          null,
          0.6,
          0.6,
          1.4,
          1.4,
          null,
          -0.4,
          -0.4,
          0.4,
          0.4,
          null,
          1.6,
          1.6,
          2.4,
          2.4,
          null,
          0.6,
          0.6,
          1.4,
          1.4
         ],
         "yaxis": "y3"
        },
        {
         "fill": "toself",
         "fillcolor": "rgb(17, 165, 121)",
         "hoverinfo": "name",
         "legendgroup": "rgb(17, 165, 121)",
         "mode": "none",
         "name": "compute",
         "showlegend": false,
         "type": "scatter",
         "x": [
          0.5178029537200928,
          1.00462007522583,
          1.00462007522583,
          0.5178029537200928,
          0.5178029537200928,
          1.0353295803070068,
          1.5016615390777588,
          1.5016615390777588,
          1.0353295803070068,
          1.0353295803070068,
          1.5360462665557861,
          2.002168655395508,
          2.002168655395508,
          1.5360462665557861,
          1.5360462665557861,
          2.037712335586548,
          2.521958112716675,
          2.521958112716675,
          2.037712335586548,
          2.037712335586548,
          2.5572071075439453,
          3.003516912460327,
          3.003516912460327,
          2.5572071075439453,
          2.5572071075439453,
          3.034038782119751,
          3.5044302940368652,
          3.5044302940368652,
          3.034038782119751,
          3.034038782119751,
          3.5356454849243164,
          4.023250341415405,
          4.023250341415405,
          3.5356454849243164,
          3.5356454849243164,
          4.053987503051758,
          4.50487756729126,
          4.50487756729126,
          4.053987503051758
         ],
         "xaxis": "x3",
         "y": [
          1.6,
          1.6,
          2.4,
          2.4,
          null,
          0.6,
          0.6,
          1.4,
          1.4,
          null,
          -0.4,
          -0.4,
          0.4,
          0.4,
          null,
          1.6,
          1.6,
          2.4,
          2.4,
          null,
          0.6,
          0.6,
          1.4,
          1.4,
          null,
          -0.4,
          -0.4,
          0.4,
          0.4,
          null,
          1.6,
          1.6,
          2.4,
          2.4,
          null,
          0.6,
          0.6,
          1.4,
          1.4
         ],
         "yaxis": "y3"
        },
        {
         "fill": "toself",
         "fillcolor": "rgb(57, 105, 172)",
         "hoverinfo": "name",
         "legendgroup": "rgb(57, 105, 172)",
         "mode": "none",
         "name": "generate",
         "showlegend": false,
         "type": "scatter",
         "x": [
          1.00462007522583,
          1.0258920192718506,
          1.0258920192718506,
          1.00462007522583,
          1.00462007522583,
          1.5016615390777588,
          1.5226669311523438,
          1.5226669311523438,
          1.5016615390777588,
          1.5016615390777588,
          2.002168655395508,
          2.023975133895874,
          2.023975133895874,
          2.002168655395508,
          2.002168655395508,
          2.521958112716675,
          2.5432887077331543,
          2.5432887077331543,
          2.521958112716675,
          2.521958112716675,
          3.003516912460327,
          3.024254322052002,
          3.024254322052002,
          3.003516912460327,
          3.003516912460327,
          3.5044302940368652,
          3.5253164768218994,
          3.5253164768218994,
          3.5044302940368652,
          3.5044302940368652,
          4.023250341415405,
          4.0445051193237305,
          4.0445051193237305,
          4.023250341415405,
          4.023250341415405,
          4.50487756729126,
          4.526864051818848,
          4.526864051818848,
          4.50487756729126
         ],
         "xaxis": "x3",
         "y": [
          1.6,
          1.6,
          2.4,
          2.4,
          null,
          0.6,
          0.6,
          1.4,
          1.4,
          null,
          -0.4,
          -0.4,
          0.4,
          0.4,
          null,
          1.6,
          1.6,
          2.4,
          2.4,
          null,
          0.6,
          0.6,
          1.4,
          1.4,
          null,
          -0.4,
          -0.4,
          0.4,
          0.4,
          null,
          1.6,
          1.6,
          2.4,
          2.4,
          null,
          0.6,
          0.6,
          1.4,
          1.4
         ],
         "yaxis": "y3"
        },
        {
         "fill": "toself",
         "fillcolor": "rgb(242, 183, 1)",
         "hoverinfo": "name",
         "legendgroup": "rgb(242, 183, 1)",
         "mode": "none",
         "name": "receive",
         "showlegend": false,
         "type": "scatter",
         "x": [
          1.0258920192718506,
          1.027484655380249,
          1.027484655380249,
          1.0258920192718506,
          1.0258920192718506,
          1.5226669311523438,
          1.528961420059204,
          1.528961420059204,
          1.5226669311523438,
          1.5226669311523438,
          2.023975133895874,
          2.0304949283599854,
          2.0304949283599854,
          2.023975133895874,
          2.023975133895874,
          2.5432887077331543,
          2.5449368953704834,
          2.5449368953704834,
          2.5432887077331543,
          2.5432887077331543,
          3.024254322052002,
          3.046377658843994,
          3.046377658843994,
          3.024254322052002,
          3.024254322052002,
          3.5253164768218994,
          3.5477190017700195,
          3.5477190017700195,
          3.5253164768218994,
          3.5253164768218994,
          4.0445051193237305,
          4.049037933349609,
          4.049037933349609,
          4.0445051193237305,
          4.0445051193237305,
          4.526864051818848,
          4.550426483154297,
          4.550426483154297,
          4.526864051818848
         ],
         "xaxis": "x3",
         "y": [
          1.6,
          1.6,
          2.4,
          2.4,
          null,
          0.6,
          0.6,
          1.4,
          1.4,
          null,
          -0.4,
          -0.4,
          0.4,
          0.4,
          null,
          1.6,
          1.6,
          2.4,
          2.4,
          null,
          0.6,
          0.6,
          1.4,
          1.4,
          null,
          -0.4,
          -0.4,
          0.4,
          0.4,
          null,
          1.6,
          1.6,
          2.4,
          2.4,
          null,
          0.6,
          0.6,
          1.4,
          1.4
         ],
         "yaxis": "y3"
        },
        {
         "legendgroup": "rgb(127, 60, 141)",
         "marker": {
          "color": "rgb(127, 60, 141)",
          "opacity": 0,
          "size": 1
         },
         "mode": "markers",
         "name": "",
         "showlegend": false,
         "text": [
          null,
          null,
          null,
          null,
          null,
          null,
          null,
          null,
          null,
          null,
          null,
          null,
          null,
          null,
          null,
          null
         ],
         "type": "scatter",
         "x": [
          0.004462718963623047,
          0.5045287609100342,
          0.5015127658843994,
          1.0015921592712402,
          1.0019936561584473,
          1.5020701885223389,
          1.5029780864715576,
          2.021895408630371,
          2.00337553024292,
          2.5034568309783936,
          2.5039353370666504,
          3.00433611869812,
          3.0045480728149414,
          3.5231893062591553,
          3.5047383308410645,
          4.004802942276001
         ],
         "xaxis": "x3",
         "y": [
          2,
          2,
          1,
          1,
          0,
          0,
          2,
          2,
          1,
          1,
          0,
          0,
          2,
          2,
          1,
          1
         ],
         "yaxis": "y3"
        },
        {
         "legendgroup": "rgb(128, 186, 90)",
         "marker": {
          "color": "rgb(128, 186, 90)",
          "opacity": 0,
          "size": 1
         },
         "mode": "markers",
         "name": "",
         "showlegend": false,
         "text": [
          null,
          null,
          null,
          null,
          null,
          null,
          null,
          null,
          null,
          null,
          null,
          null,
          null,
          null,
          null,
          null
         ],
         "type": "scatter",
         "x": [
          0,
          0.004462718963623047,
          0.5004453659057617,
          0.5015127658843994,
          1.0009362697601318,
          1.0019936561584473,
          1.5014843940734863,
          1.5029780864715576,
          2.002152442932129,
          2.00337553024292,
          2.502657175064087,
          2.5039353370666504,
          3.003152847290039,
          3.0045480728149414,
          3.503657102584839,
          3.5047383308410645
         ],
         "xaxis": "x3",
         "y": [
          2,
          2,
          1,
          1,
          0,
          0,
          2,
          2,
          1,
          1,
          0,
          0,
          2,
          2,
          1,
          1
         ],
         "yaxis": "y3"
        },
        {
         "legendgroup": "rgb(17, 165, 121)",
         "marker": {
          "color": "rgb(17, 165, 121)",
          "opacity": 0,
          "size": 1
         },
         "mode": "markers",
         "name": "",
         "showlegend": false,
         "text": [
          null,
          null,
          null,
          null,
          null,
          null,
          null,
          null,
          null,
          null,
          null,
          null,
          null,
          null,
          null,
          null
         ],
         "type": "scatter",
         "x": [
          0.5178029537200928,
          1.00462007522583,
          1.0353295803070068,
          1.5016615390777588,
          1.5360462665557861,
          2.002168655395508,
          2.037712335586548,
          2.521958112716675,
          2.5572071075439453,
          3.003516912460327,
          3.034038782119751,
          3.5044302940368652,
          3.5356454849243164,
          4.023250341415405,
          4.053987503051758,
          4.50487756729126
         ],
         "xaxis": "x3",
         "y": [
          2,
          2,
          1,
          1,
          0,
          0,
          2,
          2,
          1,
          1,
          0,
          0,
          2,
          2,
          1,
          1
         ],
         "yaxis": "y3"
        },
        {
         "legendgroup": "rgb(231, 63, 116)",
         "marker": {
          "color": "rgb(231, 63, 116)",
          "opacity": 0,
          "size": 1
         },
         "mode": "markers",
         "name": "",
         "showlegend": false,
         "text": [
          null,
          null,
          null,
          null,
          null,
          null,
          null,
          null,
          null,
          null,
          null,
          null,
          null,
          null,
          null,
          null
         ],
         "type": "scatter",
         "x": [
          0.5045287609100342,
          0.5178029537200928,
          1.0015921592712402,
          1.0353295803070068,
          1.5020701885223389,
          1.5360462665557861,
          2.021895408630371,
          2.037712335586548,
          2.5034568309783936,
          2.5572071075439453,
          3.00433611869812,
          3.034038782119751,
          3.5231893062591553,
          3.5356454849243164,
          4.004802942276001,
          4.053987503051758
         ],
         "xaxis": "x3",
         "y": [
          2,
          2,
          1,
          1,
          0,
          0,
          2,
          2,
          1,
          1,
          0,
          0,
          2,
          2,
          1,
          1
         ],
         "yaxis": "y3"
        },
        {
         "legendgroup": "rgb(242, 183, 1)",
         "marker": {
          "color": "rgb(242, 183, 1)",
          "opacity": 0,
          "size": 1
         },
         "mode": "markers",
         "name": "",
         "showlegend": false,
         "text": [
          null,
          null,
          null,
          null,
          null,
          null,
          null,
          null,
          null,
          null,
          null,
          null,
          null,
          null,
          null,
          null
         ],
         "type": "scatter",
         "x": [
          1.0258920192718506,
          1.027484655380249,
          1.5226669311523438,
          1.528961420059204,
          2.023975133895874,
          2.0304949283599854,
          2.5432887077331543,
          2.5449368953704834,
          3.024254322052002,
          3.046377658843994,
          3.5253164768218994,
          3.5477190017700195,
          4.0445051193237305,
          4.049037933349609,
          4.526864051818848,
          4.550426483154297
         ],
         "xaxis": "x3",
         "y": [
          2,
          2,
          1,
          1,
          0,
          0,
          2,
          2,
          1,
          1,
          0,
          0,
          2,
          2,
          1,
          1
         ],
         "yaxis": "y3"
        },
        {
         "legendgroup": "rgb(57, 105, 172)",
         "marker": {
          "color": "rgb(57, 105, 172)",
          "opacity": 0,
          "size": 1
         },
         "mode": "markers",
         "name": "",
         "showlegend": false,
         "text": [
          null,
          null,
          null,
          null,
          null,
          null,
          null,
          null,
          null,
          null,
          null,
          null,
          null,
          null,
          null,
          null
         ],
         "type": "scatter",
         "x": [
          1.00462007522583,
          1.0258920192718506,
          1.5016615390777588,
          1.5226669311523438,
          2.002168655395508,
          2.023975133895874,
          2.521958112716675,
          2.5432887077331543,
          3.003516912460327,
          3.024254322052002,
          3.5044302940368652,
          3.5253164768218994,
          4.023250341415405,
          4.0445051193237305,
          4.50487756729126,
          4.526864051818848
         ],
         "xaxis": "x3",
         "y": [
          2,
          2,
          1,
          1,
          0,
          0,
          2,
          2,
          1,
          1,
          0,
          0,
          2,
          2,
          1,
          1
         ],
         "yaxis": "y3"
        }
       ],
       "layout": {
        "height": 300,
        "legend": {
         "tracegroupgap": 4,
         "x": 0.82,
         "xanchor": "left",
         "y": 0.02,
         "yanchor": "bottom"
        },
        "template": {
         "data": {
          "bar": [
           {
            "error_x": {
             "color": "rgb(36,36,36)"
            },
            "error_y": {
             "color": "rgb(36,36,36)"
            },
            "marker": {
             "line": {
              "color": "white",
              "width": 0.5
             },
             "pattern": {
              "fillmode": "overlay",
              "size": 10,
              "solidity": 0.2
             }
            },
            "type": "bar"
           }
          ],
          "barpolar": [
           {
            "marker": {
             "line": {
              "color": "white",
              "width": 0.5
             },
             "pattern": {
              "fillmode": "overlay",
              "size": 10,
              "solidity": 0.2
             }
            },
            "type": "barpolar"
           }
          ],
          "carpet": [
           {
            "aaxis": {
             "endlinecolor": "rgb(36,36,36)",
             "gridcolor": "white",
             "linecolor": "white",
             "minorgridcolor": "white",
             "startlinecolor": "rgb(36,36,36)"
            },
            "baxis": {
             "endlinecolor": "rgb(36,36,36)",
             "gridcolor": "white",
             "linecolor": "white",
             "minorgridcolor": "white",
             "startlinecolor": "rgb(36,36,36)"
            },
            "type": "carpet"
           }
          ],
          "choropleth": [
           {
            "colorbar": {
             "outlinewidth": 1,
             "tickcolor": "rgb(36,36,36)",
             "ticks": "outside"
            },
            "type": "choropleth"
           }
          ],
          "contour": [
           {
            "colorbar": {
             "outlinewidth": 1,
             "tickcolor": "rgb(36,36,36)",
             "ticks": "outside"
            },
            "colorscale": [
             [
              0,
              "#440154"
             ],
             [
              0.1111111111111111,
              "#482878"
             ],
             [
              0.2222222222222222,
              "#3e4989"
             ],
             [
              0.3333333333333333,
              "#31688e"
             ],
             [
              0.4444444444444444,
              "#26828e"
             ],
             [
              0.5555555555555556,
              "#1f9e89"
             ],
             [
              0.6666666666666666,
              "#35b779"
             ],
             [
              0.7777777777777778,
              "#6ece58"
             ],
             [
              0.8888888888888888,
              "#b5de2b"
             ],
             [
              1,
              "#fde725"
             ]
            ],
            "type": "contour"
           }
          ],
          "contourcarpet": [
           {
            "colorbar": {
             "outlinewidth": 1,
             "tickcolor": "rgb(36,36,36)",
             "ticks": "outside"
            },
            "type": "contourcarpet"
           }
          ],
          "heatmap": [
           {
            "colorbar": {
             "outlinewidth": 1,
             "tickcolor": "rgb(36,36,36)",
             "ticks": "outside"
            },
            "colorscale": [
             [
              0,
              "#440154"
             ],
             [
              0.1111111111111111,
              "#482878"
             ],
             [
              0.2222222222222222,
              "#3e4989"
             ],
             [
              0.3333333333333333,
              "#31688e"
             ],
             [
              0.4444444444444444,
              "#26828e"
             ],
             [
              0.5555555555555556,
              "#1f9e89"
             ],
             [
              0.6666666666666666,
              "#35b779"
             ],
             [
              0.7777777777777778,
              "#6ece58"
             ],
             [
              0.8888888888888888,
              "#b5de2b"
             ],
             [
              1,
              "#fde725"
             ]
            ],
            "type": "heatmap"
           }
          ],
          "heatmapgl": [
           {
            "colorbar": {
             "outlinewidth": 1,
             "tickcolor": "rgb(36,36,36)",
             "ticks": "outside"
            },
            "colorscale": [
             [
              0,
              "#440154"
             ],
             [
              0.1111111111111111,
              "#482878"
             ],
             [
              0.2222222222222222,
              "#3e4989"
             ],
             [
              0.3333333333333333,
              "#31688e"
             ],
             [
              0.4444444444444444,
              "#26828e"
             ],
             [
              0.5555555555555556,
              "#1f9e89"
             ],
             [
              0.6666666666666666,
              "#35b779"
             ],
             [
              0.7777777777777778,
              "#6ece58"
             ],
             [
              0.8888888888888888,
              "#b5de2b"
             ],
             [
              1,
              "#fde725"
             ]
            ],
            "type": "heatmapgl"
           }
          ],
          "histogram": [
           {
            "marker": {
             "line": {
              "color": "white",
              "width": 0.6
             }
            },
            "type": "histogram"
           }
          ],
          "histogram2d": [
           {
            "colorbar": {
             "outlinewidth": 1,
             "tickcolor": "rgb(36,36,36)",
             "ticks": "outside"
            },
            "colorscale": [
             [
              0,
              "#440154"
             ],
             [
              0.1111111111111111,
              "#482878"
             ],
             [
              0.2222222222222222,
              "#3e4989"
             ],
             [
              0.3333333333333333,
              "#31688e"
             ],
             [
              0.4444444444444444,
              "#26828e"
             ],
             [
              0.5555555555555556,
              "#1f9e89"
             ],
             [
              0.6666666666666666,
              "#35b779"
             ],
             [
              0.7777777777777778,
              "#6ece58"
             ],
             [
              0.8888888888888888,
              "#b5de2b"
             ],
             [
              1,
              "#fde725"
             ]
            ],
            "type": "histogram2d"
           }
          ],
          "histogram2dcontour": [
           {
            "colorbar": {
             "outlinewidth": 1,
             "tickcolor": "rgb(36,36,36)",
             "ticks": "outside"
            },
            "colorscale": [
             [
              0,
              "#440154"
             ],
             [
              0.1111111111111111,
              "#482878"
             ],
             [
              0.2222222222222222,
              "#3e4989"
             ],
             [
              0.3333333333333333,
              "#31688e"
             ],
             [
              0.4444444444444444,
              "#26828e"
             ],
             [
              0.5555555555555556,
              "#1f9e89"
             ],
             [
              0.6666666666666666,
              "#35b779"
             ],
             [
              0.7777777777777778,
              "#6ece58"
             ],
             [
              0.8888888888888888,
              "#b5de2b"
             ],
             [
              1,
              "#fde725"
             ]
            ],
            "type": "histogram2dcontour"
           }
          ],
          "mesh3d": [
           {
            "colorbar": {
             "outlinewidth": 1,
             "tickcolor": "rgb(36,36,36)",
             "ticks": "outside"
            },
            "type": "mesh3d"
           }
          ],
          "parcoords": [
           {
            "line": {
             "colorbar": {
              "outlinewidth": 1,
              "tickcolor": "rgb(36,36,36)",
              "ticks": "outside"
             }
            },
            "type": "parcoords"
           }
          ],
          "pie": [
           {
            "automargin": true,
            "type": "pie"
           }
          ],
          "scatter": [
           {
            "fillpattern": {
             "fillmode": "overlay",
             "size": 10,
             "solidity": 0.2
            },
            "type": "scatter"
           }
          ],
          "scatter3d": [
           {
            "line": {
             "colorbar": {
              "outlinewidth": 1,
              "tickcolor": "rgb(36,36,36)",
              "ticks": "outside"
             }
            },
            "marker": {
             "colorbar": {
              "outlinewidth": 1,
              "tickcolor": "rgb(36,36,36)",
              "ticks": "outside"
             }
            },
            "type": "scatter3d"
           }
          ],
          "scattercarpet": [
           {
            "marker": {
             "colorbar": {
              "outlinewidth": 1,
              "tickcolor": "rgb(36,36,36)",
              "ticks": "outside"
             }
            },
            "type": "scattercarpet"
           }
          ],
          "scattergeo": [
           {
            "marker": {
             "colorbar": {
              "outlinewidth": 1,
              "tickcolor": "rgb(36,36,36)",
              "ticks": "outside"
             }
            },
            "type": "scattergeo"
           }
          ],
          "scattergl": [
           {
            "marker": {
             "colorbar": {
              "outlinewidth": 1,
              "tickcolor": "rgb(36,36,36)",
              "ticks": "outside"
             }
            },
            "type": "scattergl"
           }
          ],
          "scattermapbox": [
           {
            "marker": {
             "colorbar": {
              "outlinewidth": 1,
              "tickcolor": "rgb(36,36,36)",
              "ticks": "outside"
             }
            },
            "type": "scattermapbox"
           }
          ],
          "scatterpolar": [
           {
            "marker": {
             "colorbar": {
              "outlinewidth": 1,
              "tickcolor": "rgb(36,36,36)",
              "ticks": "outside"
             }
            },
            "type": "scatterpolar"
           }
          ],
          "scatterpolargl": [
           {
            "marker": {
             "colorbar": {
              "outlinewidth": 1,
              "tickcolor": "rgb(36,36,36)",
              "ticks": "outside"
             }
            },
            "type": "scatterpolargl"
           }
          ],
          "scatterternary": [
           {
            "marker": {
             "colorbar": {
              "outlinewidth": 1,
              "tickcolor": "rgb(36,36,36)",
              "ticks": "outside"
             }
            },
            "type": "scatterternary"
           }
          ],
          "surface": [
           {
            "colorbar": {
             "outlinewidth": 1,
             "tickcolor": "rgb(36,36,36)",
             "ticks": "outside"
            },
            "colorscale": [
             [
              0,
              "#440154"
             ],
             [
              0.1111111111111111,
              "#482878"
             ],
             [
              0.2222222222222222,
              "#3e4989"
             ],
             [
              0.3333333333333333,
              "#31688e"
             ],
             [
              0.4444444444444444,
              "#26828e"
             ],
             [
              0.5555555555555556,
              "#1f9e89"
             ],
             [
              0.6666666666666666,
              "#35b779"
             ],
             [
              0.7777777777777778,
              "#6ece58"
             ],
             [
              0.8888888888888888,
              "#b5de2b"
             ],
             [
              1,
              "#fde725"
             ]
            ],
            "type": "surface"
           }
          ],
          "table": [
           {
            "cells": {
             "fill": {
              "color": "rgb(237,237,237)"
             },
             "line": {
              "color": "white"
             }
            },
            "header": {
             "fill": {
              "color": "rgb(217,217,217)"
             },
             "line": {
              "color": "white"
             }
            },
            "type": "table"
           }
          ]
         },
         "layout": {
          "annotationdefaults": {
           "arrowhead": 0,
           "arrowwidth": 1
          },
          "autotypenumbers": "strict",
          "coloraxis": {
           "colorbar": {
            "outlinewidth": 1,
            "tickcolor": "rgb(36,36,36)",
            "ticks": "outside"
           }
          },
          "colorscale": {
           "diverging": [
            [
             0,
             "rgb(103,0,31)"
            ],
            [
             0.1,
             "rgb(178,24,43)"
            ],
            [
             0.2,
             "rgb(214,96,77)"
            ],
            [
             0.3,
             "rgb(244,165,130)"
            ],
            [
             0.4,
             "rgb(253,219,199)"
            ],
            [
             0.5,
             "rgb(247,247,247)"
            ],
            [
             0.6,
             "rgb(209,229,240)"
            ],
            [
             0.7,
             "rgb(146,197,222)"
            ],
            [
             0.8,
             "rgb(67,147,195)"
            ],
            [
             0.9,
             "rgb(33,102,172)"
            ],
            [
             1,
             "rgb(5,48,97)"
            ]
           ],
           "sequential": [
            [
             0,
             "#440154"
            ],
            [
             0.1111111111111111,
             "#482878"
            ],
            [
             0.2222222222222222,
             "#3e4989"
            ],
            [
             0.3333333333333333,
             "#31688e"
            ],
            [
             0.4444444444444444,
             "#26828e"
            ],
            [
             0.5555555555555556,
             "#1f9e89"
            ],
            [
             0.6666666666666666,
             "#35b779"
            ],
            [
             0.7777777777777778,
             "#6ece58"
            ],
            [
             0.8888888888888888,
             "#b5de2b"
            ],
            [
             1,
             "#fde725"
            ]
           ],
           "sequentialminus": [
            [
             0,
             "#440154"
            ],
            [
             0.1111111111111111,
             "#482878"
            ],
            [
             0.2222222222222222,
             "#3e4989"
            ],
            [
             0.3333333333333333,
             "#31688e"
            ],
            [
             0.4444444444444444,
             "#26828e"
            ],
            [
             0.5555555555555556,
             "#1f9e89"
            ],
            [
             0.6666666666666666,
             "#35b779"
            ],
            [
             0.7777777777777778,
             "#6ece58"
            ],
            [
             0.8888888888888888,
             "#b5de2b"
            ],
            [
             1,
             "#fde725"
            ]
           ]
          },
          "colorway": [
           "#1F77B4",
           "#FF7F0E",
           "#2CA02C",
           "#D62728",
           "#9467BD",
           "#8C564B",
           "#E377C2",
           "#7F7F7F",
           "#BCBD22",
           "#17BECF"
          ],
          "font": {
           "color": "rgb(36,36,36)",
           "family": "Arial"
          },
          "geo": {
           "bgcolor": "white",
           "lakecolor": "white",
           "landcolor": "white",
           "showlakes": true,
           "showland": true,
           "subunitcolor": "white"
          },
          "hoverlabel": {
           "align": "left"
          },
          "hovermode": "closest",
          "legend": {
           "bordercolor": "#e0e0e0",
           "borderwidth": 1,
           "font": {
            "size": 12
           }
          },
          "mapbox": {
           "style": "light"
          },
          "margin": {
           "b": 5,
           "l": 5,
           "r": 5,
           "t": 5
          },
          "paper_bgcolor": "white",
          "plot_bgcolor": "white",
          "polar": {
           "angularaxis": {
            "gridcolor": "rgb(232,232,232)",
            "linecolor": "rgb(36,36,36)",
            "showgrid": false,
            "showline": true,
            "ticks": "outside"
           },
           "bgcolor": "white",
           "radialaxis": {
            "gridcolor": "rgb(232,232,232)",
            "linecolor": "rgb(36,36,36)",
            "showgrid": false,
            "showline": true,
            "ticks": "outside"
           }
          },
          "scene": {
           "xaxis": {
            "backgroundcolor": "white",
            "gridcolor": "rgb(232,232,232)",
            "gridwidth": 2,
            "linecolor": "rgb(36,36,36)",
            "showbackground": true,
            "showgrid": false,
            "showline": true,
            "ticks": "outside",
            "zeroline": false,
            "zerolinecolor": "rgb(36,36,36)"
           },
           "yaxis": {
            "backgroundcolor": "white",
            "gridcolor": "rgb(232,232,232)",
            "gridwidth": 2,
            "linecolor": "rgb(36,36,36)",
            "showbackground": true,
            "showgrid": false,
            "showline": true,
            "ticks": "outside",
            "zeroline": false,
            "zerolinecolor": "rgb(36,36,36)"
           },
           "zaxis": {
            "backgroundcolor": "white",
            "gridcolor": "rgb(232,232,232)",
            "gridwidth": 2,
            "linecolor": "rgb(36,36,36)",
            "showbackground": true,
            "showgrid": false,
            "showline": true,
            "ticks": "outside",
            "zeroline": false,
            "zerolinecolor": "rgb(36,36,36)"
           }
          },
          "shapedefaults": {
           "fillcolor": "black",
           "line": {
            "width": 0
           },
           "opacity": 0.3
          },
          "ternary": {
           "aaxis": {
            "gridcolor": "rgb(232,232,232)",
            "linecolor": "rgb(36,36,36)",
            "showgrid": false,
            "showline": true,
            "ticks": "outside"
           },
           "baxis": {
            "gridcolor": "rgb(232,232,232)",
            "linecolor": "rgb(36,36,36)",
            "showgrid": false,
            "showline": true,
            "ticks": "outside"
           },
           "bgcolor": "white",
           "caxis": {
            "gridcolor": "rgb(232,232,232)",
            "linecolor": "rgb(36,36,36)",
            "showgrid": false,
            "showline": true,
            "ticks": "outside"
           }
          },
          "title": {
           "font": {
            "size": 10
           },
           "x": 0.05
          },
          "xaxis": {
           "automargin": true,
           "gridcolor": "#e0e0e0",
           "linecolor": "#616161",
           "linewidth": 1,
           "mirror": true,
           "showgrid": true,
           "showline": true,
           "tickfont": {
            "size": 10
           },
           "ticks": "outside",
           "title": {
            "font": {
             "size": 12
            },
            "standoff": 5
           },
           "zeroline": false,
           "zerolinecolor": "rgb(36,36,36)"
          },
          "yaxis": {
           "automargin": true,
           "gridcolor": "#e0e0e0",
           "linecolor": "#616161",
           "linewidth": 1,
           "mirror": true,
           "showgrid": true,
           "showline": true,
           "tickfont": {
            "size": 10
           },
           "ticks": "outside",
           "title": {
            "font": {
             "size": 12
            },
            "standoff": 5
           },
           "zeroline": false,
           "zerolinecolor": "rgb(36,36,36)"
          }
         }
        },
        "width": 500,
        "xaxis": {
         "anchor": "y",
         "domain": [
          0,
          1
         ],
         "matches": "x3",
         "showticklabels": false,
         "type": "linear"
        },
        "xaxis2": {
         "anchor": "y2",
         "domain": [
          0,
          1
         ],
         "matches": "x3",
         "showticklabels": false,
         "type": "linear"
        },
        "xaxis3": {
         "anchor": "y3",
         "domain": [
          0,
          1
         ],
         "range": [
          -0.1,
          8.318426465988159
         ],
         "title": {
          "text": "Runtime (s)"
         },
         "type": "linear"
        },
        "yaxis": {
         "anchor": "x",
         "autorange": true,
         "domain": [
          0.6933333333333334,
          1
         ],
         "range": [
          2.5555555555555554,
          -0.5555555555555556
         ],
         "showticklabels": false,
         "ticks": "",
         "title": {
          "font": {
           "size": 11
          },
          "text": "Sequential<br>Overhead 20%"
         },
         "type": "linear"
        },
        "yaxis2": {
         "anchor": "x2",
         "autorange": true,
         "domain": [
          0.3466666666666667,
          0.6533333333333333
         ],
         "range": [
          2.5555555555555554,
          -0.5555555555555556
         ],
         "showticklabels": false,
         "ticks": "",
         "title": {
          "font": {
           "size": 11
          },
          "text": "Pipelined<br>Overhead 20%"
         },
         "type": "linear"
        },
        "yaxis3": {
         "anchor": "x3",
         "autorange": true,
         "domain": [
          0,
          0.3066666666666667
         ],
         "range": [
          2.5555555555555554,
          -0.5555555555555556
         ],
         "showticklabels": false,
         "ticks": "",
         "title": {
          "font": {
           "size": 11
          },
          "text": "Pipelined<br>Overhead 50%"
         },
         "type": "linear"
        }
       }
      },
      "image/png": "[encoded data removed]",
      "text/html": [
       "<div>                            <div id=\"480494e5-11e1-4b45-b12a-b06195d47f43\" class=\"plotly-graph-div\" style=\"height:300px; width:500px;\"></div>            <script type=\"text/javascript\">                require([\"plotly\"], function(Plotly) {                    window.PLOTLYENV=window.PLOTLYENV || {};                                    if (document.getElementById(\"480494e5-11e1-4b45-b12a-b06195d47f43\")) {                    Plotly.newPlot(                        \"480494e5-11e1-4b45-b12a-b06195d47f43\",                        [{\"fill\":\"toself\",\"fillcolor\":\"rgb(128, 186, 90)\",\"hoverinfo\":\"name\",\"legendgroup\":\"rgb(128, 186, 90)\",\"mode\":\"none\",\"name\":\"submit\",\"showlegend\":true,\"x\":[0.0,0.0012488365173339844,0.0012488365173339844,0.0,0.0,1.026921033859253,1.0281460285186768,1.0281460285186768,1.026921033859253,1.026921033859253,2.0524823665618896,2.0537126064300537,2.0537126064300537,2.0524823665618896,2.0524823665618896,3.0784544944763184,3.0797457695007324,3.0797457695007324,3.0784544944763184,3.0784544944763184,4.103823661804199,4.105218887329102,4.105218887329102,4.103823661804199,4.103823661804199,5.131972551345825,5.133226633071899,5.133226633071899,5.131972551345825,5.131972551345825,6.158735036849976,6.160120487213135,6.160120487213135,6.158735036849976,6.158735036849976,7.185741901397705,7.192180633544922,7.192180633544922,7.185741901397705],\"y\":[1.6,1.6,2.4,2.4,null,0.6,0.6,1.4,1.4,null,-0.4,-0.4,0.4,0.4,null,1.6,1.6,2.4,2.4,null,0.6,0.6,1.4,1.4,null,-0.4,-0.4,0.4,0.4,null,1.6,1.6,2.4,2.4,null,0.6,0.6,1.4,1.4],\"type\":\"scatter\",\"xaxis\":\"x\",\"yaxis\":\"y\"},{\"fill\":\"toself\",\"fillcolor\":\"rgb(127, 60, 141)\",\"hoverinfo\":\"name\",\"legendgroup\":\"rgb(127, 60, 141)\",\"mode\":\"none\",\"name\":\"overhead\",\"showlegend\":true,\"x\":[0.0012488365173339844,0.20132184028625488,0.20132184028625488,0.0012488365173339844,0.0012488365173339844,1.0281460285186768,1.2282259464263916,1.2282259464263916,1.0281460285186768,1.0281460285186768,2.0537126064300537,2.253782033920288,2.253782033920288,2.0537126064300537,2.0537126064300537,3.0797457695007324,3.2798216342926025,3.2798216342926025,3.0797457695007324,3.0797457695007324,4.105218887329102,4.305293560028076,4.305293560028076,4.105218887329102,4.105218887329102,5.133226633071899,5.3333048820495605,5.3333048820495605,5.133226633071899,5.133226633071899,6.160120487213135,6.360194206237793,6.360194206237793,6.160120487213135,6.160120487213135,7.192180633544922,7.39225959777832,7.39225959777832,7.192180633544922],\"y\":[1.6,1.6,2.4,2.4,null,0.6,0.6,1.4,1.4,null,-0.4,-0.4,0.4,0.4,null,1.6,1.6,2.4,2.4,null,0.6,0.6,1.4,1.4,null,-0.4,-0.4,0.4,0.4,null,1.6,1.6,2.4,2.4,null,0.6,0.6,1.4,1.4],\"type\":\"scatter\",\"xaxis\":\"x\",\"yaxis\":\"y\"},{\"fill\":\"toself\",\"fillcolor\":\"rgb(231, 63, 116)\",\"hoverinfo\":\"name\",\"legendgroup\":\"rgb(231, 63, 116)\",\"mode\":\"none\",\"name\":\"resolve\",\"showlegend\":true,\"x\":[0.20132184028625488,0.21207165718078613,0.21207165718078613,0.20132184028625488,0.20132184028625488,1.2282259464263916,1.2389519214630127,1.2389519214630127,1.2282259464263916,1.2282259464263916,2.253782033920288,2.266831874847412,2.266831874847412,2.253782033920288,2.253782033920288,3.2798216342926025,3.292600393295288,3.292600393295288,3.2798216342926025,3.2798216342926025,4.305293560028076,4.315097093582153,4.315097093582153,4.305293560028076,4.305293560028076,5.3333048820495605,5.344865560531616,5.344865560531616,5.3333048820495605,5.3333048820495605,6.360194206237793,6.371790409088135,6.371790409088135,6.360194206237793,6.360194206237793,7.39225959777832,7.403642416000366,7.403642416000366,7.39225959777832],\"y\":[1.6,1.6,2.4,2.4,null,0.6,0.6,1.4,1.4,null,-0.4,-0.4,0.4,0.4,null,1.6,1.6,2.4,2.4,null,0.6,0.6,1.4,1.4,null,-0.4,-0.4,0.4,0.4,null,1.6,1.6,2.4,2.4,null,0.6,0.6,1.4,1.4],\"type\":\"scatter\",\"xaxis\":\"x\",\"yaxis\":\"y\"},{\"fill\":\"toself\",\"fillcolor\":\"rgb(17, 165, 121)\",\"hoverinfo\":\"name\",\"legendgroup\":\"rgb(17, 165, 121)\",\"mode\":\"none\",\"name\":\"compute\",\"showlegend\":true,\"x\":[0.21207165718078613,1.0013914108276367,1.0013914108276367,0.21207165718078613,0.21207165718078613,1.2389519214630127,2.0283167362213135,2.0283167362213135,1.2389519214630127,1.2389519214630127,2.266831874847412,3.0538601875305176,3.0538601875305176,2.266831874847412,2.266831874847412,3.292600393295288,4.079890727996826,4.079890727996826,3.292600393295288,3.292600393295288,4.315097093582153,5.105359792709351,5.105359792709351,4.315097093582153,4.315097093582153,5.344865560531616,6.133367538452148,6.133367538452148,5.344865560531616,5.344865560531616,6.371790409088135,7.160260200500488,7.160260200500488,6.371790409088135,6.371790409088135,7.403642416000366,8.1923348903656,8.1923348903656,7.403642416000366],\"y\":[1.6,1.6,2.4,2.4,null,0.6,0.6,1.4,1.4,null,-0.4,-0.4,0.4,0.4,null,1.6,1.6,2.4,2.4,null,0.6,0.6,1.4,1.4,null,-0.4,-0.4,0.4,0.4,null,1.6,1.6,2.4,2.4,null,0.6,0.6,1.4,1.4],\"type\":\"scatter\",\"xaxis\":\"x\",\"yaxis\":\"y\"},{\"fill\":\"toself\",\"fillcolor\":\"rgb(57, 105, 172)\",\"hoverinfo\":\"name\",\"legendgroup\":\"rgb(57, 105, 172)\",\"mode\":\"none\",\"name\":\"generate\",\"showlegend\":true,\"x\":[1.0013914108276367,1.0240740776062012,1.0240740776062012,1.0013914108276367,1.0013914108276367,2.0283167362213135,2.049933910369873,2.049933910369873,2.0283167362213135,2.0283167362213135,3.0538601875305176,3.076016664505005,3.076016664505005,3.0538601875305176,3.0538601875305176,4.079890727996826,4.101251125335693,4.101251125335693,4.079890727996826,4.079890727996826,5.105359792709351,5.1292688846588135,5.1292688846588135,5.105359792709351,5.105359792709351,6.133367538452148,6.155715465545654,6.155715465545654,6.133367538452148,6.133367538452148,7.160260200500488,7.183060884475708,7.183060884475708,7.160260200500488,7.160260200500488,8.1923348903656,8.215770244598389,8.215770244598389,8.1923348903656],\"y\":[1.6,1.6,2.4,2.4,null,0.6,0.6,1.4,1.4,null,-0.4,-0.4,0.4,0.4,null,1.6,1.6,2.4,2.4,null,0.6,0.6,1.4,1.4,null,-0.4,-0.4,0.4,0.4,null,1.6,1.6,2.4,2.4,null,0.6,0.6,1.4,1.4],\"type\":\"scatter\",\"xaxis\":\"x\",\"yaxis\":\"y\"},{\"fill\":\"toself\",\"fillcolor\":\"rgb(242, 183, 1)\",\"hoverinfo\":\"name\",\"legendgroup\":\"rgb(242, 183, 1)\",\"mode\":\"none\",\"name\":\"receive\",\"showlegend\":true,\"x\":[1.0240740776062012,1.0263826847076416,1.0263826847076416,1.0240740776062012,1.0240740776062012,2.049933910369873,2.0521068572998047,2.0521068572998047,2.049933910369873,2.049933910369873,3.076016664505005,3.0780656337738037,3.0780656337738037,3.076016664505005,3.076016664505005,4.101251125335693,4.10344934463501,4.10344934463501,4.101251125335693,4.101251125335693,5.1292688846588135,5.131584882736206,5.131584882736206,5.1292688846588135,5.1292688846588135,6.155715465545654,6.15833044052124,6.15833044052124,6.155715465545654,6.155715465545654,7.183060884475708,7.185362100601196,7.185362100601196,7.183060884475708,7.183060884475708,8.215770244598389,8.21842646598816,8.21842646598816,8.215770244598389],\"y\":[1.6,1.6,2.4,2.4,null,0.6,0.6,1.4,1.4,null,-0.4,-0.4,0.4,0.4,null,1.6,1.6,2.4,2.4,null,0.6,0.6,1.4,1.4,null,-0.4,-0.4,0.4,0.4,null,1.6,1.6,2.4,2.4,null,0.6,0.6,1.4,1.4],\"type\":\"scatter\",\"xaxis\":\"x\",\"yaxis\":\"y\"},{\"legendgroup\":\"rgb(127, 60, 141)\",\"marker\":{\"color\":\"rgb(127, 60, 141)\",\"opacity\":0,\"size\":1},\"mode\":\"markers\",\"name\":\"\",\"showlegend\":false,\"text\":[null,null,null,null,null,null,null,null,null,null,null,null,null,null,null,null],\"x\":[0.0012488365173339844,0.20132184028625488,1.0281460285186768,1.2282259464263916,2.0537126064300537,2.253782033920288,3.0797457695007324,3.2798216342926025,4.105218887329102,4.305293560028076,5.133226633071899,5.3333048820495605,6.160120487213135,6.360194206237793,7.192180633544922,7.39225959777832],\"y\":[2,2,1,1,0,0,2,2,1,1,0,0,2,2,1,1],\"type\":\"scatter\",\"xaxis\":\"x\",\"yaxis\":\"y\"},{\"legendgroup\":\"rgb(128, 186, 90)\",\"marker\":{\"color\":\"rgb(128, 186, 90)\",\"opacity\":0,\"size\":1},\"mode\":\"markers\",\"name\":\"\",\"showlegend\":false,\"text\":[null,null,null,null,null,null,null,null,null,null,null,null,null,null,null,null],\"x\":[0.0,0.0012488365173339844,1.026921033859253,1.0281460285186768,2.0524823665618896,2.0537126064300537,3.0784544944763184,3.0797457695007324,4.103823661804199,4.105218887329102,5.131972551345825,5.133226633071899,6.158735036849976,6.160120487213135,7.185741901397705,7.192180633544922],\"y\":[2,2,1,1,0,0,2,2,1,1,0,0,2,2,1,1],\"type\":\"scatter\",\"xaxis\":\"x\",\"yaxis\":\"y\"},{\"legendgroup\":\"rgb(17, 165, 121)\",\"marker\":{\"color\":\"rgb(17, 165, 121)\",\"opacity\":0,\"size\":1},\"mode\":\"markers\",\"name\":\"\",\"showlegend\":false,\"text\":[null,null,null,null,null,null,null,null,null,null,null,null,null,null,null,null],\"x\":[0.21207165718078613,1.0013914108276367,1.2389519214630127,2.0283167362213135,2.266831874847412,3.0538601875305176,3.292600393295288,4.079890727996826,4.315097093582153,5.105359792709351,5.344865560531616,6.133367538452148,6.371790409088135,7.160260200500488,7.403642416000366,8.1923348903656],\"y\":[2,2,1,1,0,0,2,2,1,1,0,0,2,2,1,1],\"type\":\"scatter\",\"xaxis\":\"x\",\"yaxis\":\"y\"},{\"legendgroup\":\"rgb(231, 63, 116)\",\"marker\":{\"color\":\"rgb(231, 63, 116)\",\"opacity\":0,\"size\":1},\"mode\":\"markers\",\"name\":\"\",\"showlegend\":false,\"text\":[null,null,null,null,null,null,null,null,null,null,null,null,null,null,null,null],\"x\":[0.20132184028625488,0.21207165718078613,1.2282259464263916,1.2389519214630127,2.253782033920288,2.266831874847412,3.2798216342926025,3.292600393295288,4.305293560028076,4.315097093582153,5.3333048820495605,5.344865560531616,6.360194206237793,6.371790409088135,7.39225959777832,7.403642416000366],\"y\":[2,2,1,1,0,0,2,2,1,1,0,0,2,2,1,1],\"type\":\"scatter\",\"xaxis\":\"x\",\"yaxis\":\"y\"},{\"legendgroup\":\"rgb(242, 183, 1)\",\"marker\":{\"color\":\"rgb(242, 183, 1)\",\"opacity\":0,\"size\":1},\"mode\":\"markers\",\"name\":\"\",\"showlegend\":false,\"text\":[null,null,null,null,null,null,null,null,null,null,null,null,null,null,null,null],\"x\":[1.0240740776062012,1.0263826847076416,2.049933910369873,2.0521068572998047,3.076016664505005,3.0780656337738037,4.101251125335693,4.10344934463501,5.1292688846588135,5.131584882736206,6.155715465545654,6.15833044052124,7.183060884475708,7.185362100601196,8.215770244598389,8.21842646598816],\"y\":[2,2,1,1,0,0,2,2,1,1,0,0,2,2,1,1],\"type\":\"scatter\",\"xaxis\":\"x\",\"yaxis\":\"y\"},{\"legendgroup\":\"rgb(57, 105, 172)\",\"marker\":{\"color\":\"rgb(57, 105, 172)\",\"opacity\":0,\"size\":1},\"mode\":\"markers\",\"name\":\"\",\"showlegend\":false,\"text\":[null,null,null,null,null,null,null,null,null,null,null,null,null,null,null,null],\"x\":[1.0013914108276367,1.0240740776062012,2.0283167362213135,2.049933910369873,3.0538601875305176,3.076016664505005,4.079890727996826,4.101251125335693,5.105359792709351,5.1292688846588135,6.133367538452148,6.155715465545654,7.160260200500488,7.183060884475708,8.1923348903656,8.215770244598389],\"y\":[2,2,1,1,0,0,2,2,1,1,0,0,2,2,1,1],\"type\":\"scatter\",\"xaxis\":\"x\",\"yaxis\":\"y\"},{\"fill\":\"toself\",\"fillcolor\":\"rgb(128, 186, 90)\",\"hoverinfo\":\"name\",\"legendgroup\":\"rgb(128, 186, 90)\",\"mode\":\"none\",\"name\":\"submit\",\"showlegend\":false,\"x\":[0.0,0.0011911392211914062,0.0011911392211914062,0.0,0.0,0.8005688190460205,0.8016684055328369,0.8016684055328369,0.8005688190460205,0.8005688190460205,1.6011521816253662,1.602217197418213,1.602217197418213,1.6011521816253662,1.6011521816253662,2.401710033416748,2.402900457382202,2.402900457382202,2.401710033416748,2.401710033416748,3.202237606048584,3.203418254852295,3.203418254852295,3.202237606048584,3.202237606048584,4.002774715423584,4.003877878189087,4.003877878189087,4.002774715423584,4.002774715423584,4.803288459777832,4.8044328689575195,4.8044328689575195,4.803288459777832,4.803288459777832,5.6038665771484375,5.604986667633057,5.604986667633057,5.6038665771484375],\"y\":[1.6,1.6,2.4,2.4,null,0.6,0.6,1.4,1.4,null,-0.4,-0.4,0.4,0.4,null,1.6,1.6,2.4,2.4,null,0.6,0.6,1.4,1.4,null,-0.4,-0.4,0.4,0.4,null,1.6,1.6,2.4,2.4,null,0.6,0.6,1.4,1.4],\"type\":\"scatter\",\"xaxis\":\"x2\",\"yaxis\":\"y2\"},{\"fill\":\"toself\",\"fillcolor\":\"rgb(127, 60, 141)\",\"hoverinfo\":\"name\",\"legendgroup\":\"rgb(127, 60, 141)\",\"mode\":\"none\",\"name\":\"overhead\",\"showlegend\":false,\"x\":[0.0011911392211914062,0.20128202438354492,0.20128202438354492,0.0011911392211914062,0.0011911392211914062,0.8016684055328369,1.0017335414886475,1.0017335414886475,0.8016684055328369,0.8016684055328369,1.602217197418213,1.8022854328155518,1.8022854328155518,1.602217197418213,1.602217197418213,2.402900457382202,2.6029744148254395,2.6029744148254395,2.402900457382202,2.402900457382202,3.203418254852295,3.403482675552368,3.403482675552368,3.203418254852295,3.203418254852295,4.003877878189087,4.203945875167847,4.203945875167847,4.003877878189087,4.003877878189087,4.8044328689575195,5.004496335983276,5.004496335983276,4.8044328689575195,4.8044328689575195,5.604986667633057,5.805051565170288,5.805051565170288,5.604986667633057],\"y\":[1.6,1.6,2.4,2.4,null,0.6,0.6,1.4,1.4,null,-0.4,-0.4,0.4,0.4,null,1.6,1.6,2.4,2.4,null,0.6,0.6,1.4,1.4,null,-0.4,-0.4,0.4,0.4,null,1.6,1.6,2.4,2.4,null,0.6,0.6,1.4,1.4],\"type\":\"scatter\",\"xaxis\":\"x2\",\"yaxis\":\"y2\"},{\"fill\":\"toself\",\"fillcolor\":\"rgb(231, 63, 116)\",\"hoverinfo\":\"name\",\"legendgroup\":\"rgb(231, 63, 116)\",\"mode\":\"none\",\"name\":\"resolve\",\"showlegend\":false,\"x\":[0.20128202438354492,0.2124309539794922,0.2124309539794922,0.20128202438354492,0.20128202438354492,1.0017335414886475,1.034379243850708,1.034379243850708,1.0017335414886475,1.0017335414886475,1.8022854328155518,1.835507869720459,1.835507869720459,1.8022854328155518,1.8022854328155518,2.6029744148254395,2.6359541416168213,2.6359541416168213,2.6029744148254395,2.6029744148254395,3.403482675552368,3.4397945404052734,3.4397945404052734,3.403482675552368,3.403482675552368,4.203945875167847,4.238750457763672,4.238750457763672,4.203945875167847,4.203945875167847,5.004496335983276,5.037585973739624,5.037585973739624,5.004496335983276,5.004496335983276,5.805051565170288,5.840599775314331,5.840599775314331,5.805051565170288],\"y\":[1.6,1.6,2.4,2.4,null,0.6,0.6,1.4,1.4,null,-0.4,-0.4,0.4,0.4,null,1.6,1.6,2.4,2.4,null,0.6,0.6,1.4,1.4,null,-0.4,-0.4,0.4,0.4,null,1.6,1.6,2.4,2.4,null,0.6,0.6,1.4,1.4],\"type\":\"scatter\",\"xaxis\":\"x2\",\"yaxis\":\"y2\"},{\"fill\":\"toself\",\"fillcolor\":\"rgb(17, 165, 121)\",\"hoverinfo\":\"name\",\"legendgroup\":\"rgb(17, 165, 121)\",\"mode\":\"none\",\"name\":\"compute\",\"showlegend\":false,\"x\":[0.2124309539794922,1.0013673305511475,1.0013673305511475,0.2124309539794922,0.2124309539794922,1.034379243850708,1.8017988204956055,1.8017988204956055,1.034379243850708,1.034379243850708,1.835507869720459,2.60237455368042,2.60237455368042,1.835507869720459,1.835507869720459,2.6359541416168213,3.403059720993042,3.403059720993042,2.6359541416168213,2.6359541416168213,3.4397945404052734,4.203545093536377,4.203545093536377,3.4397945404052734,3.4397945404052734,4.238750457763672,5.004014015197754,5.004014015197754,4.238750457763672,4.238750457763672,5.037585973739624,5.804558753967285,5.804558753967285,5.037585973739624,5.037585973739624,5.840599775314331,6.605133533477783,6.605133533477783,5.840599775314331],\"y\":[1.6,1.6,2.4,2.4,null,0.6,0.6,1.4,1.4,null,-0.4,-0.4,0.4,0.4,null,1.6,1.6,2.4,2.4,null,0.6,0.6,1.4,1.4,null,-0.4,-0.4,0.4,0.4,null,1.6,1.6,2.4,2.4,null,0.6,0.6,1.4,1.4],\"type\":\"scatter\",\"xaxis\":\"x2\",\"yaxis\":\"y2\"},{\"fill\":\"toself\",\"fillcolor\":\"rgb(57, 105, 172)\",\"hoverinfo\":\"name\",\"legendgroup\":\"rgb(57, 105, 172)\",\"mode\":\"none\",\"name\":\"generate\",\"showlegend\":false,\"x\":[1.0013673305511475,1.0237441062927246,1.0237441062927246,1.0013673305511475,1.0013673305511475,1.8017988204956055,1.824676275253296,1.824676275253296,1.8017988204956055,1.8017988204956055,2.60237455368042,2.624725818634033,2.624725818634033,2.60237455368042,2.60237455368042,3.403059720993042,3.4260106086730957,3.4260106086730957,3.403059720993042,3.403059720993042,4.203545093536377,4.2250566482543945,4.2250566482543945,4.203545093536377,4.203545093536377,5.004014015197754,5.02725887298584,5.02725887298584,5.004014015197754,5.004014015197754,5.804558753967285,5.826399803161621,5.826399803161621,5.804558753967285,5.804558753967285,6.605133533477783,6.627737283706665,6.627737283706665,6.605133533477783],\"y\":[1.6,1.6,2.4,2.4,null,0.6,0.6,1.4,1.4,null,-0.4,-0.4,0.4,0.4,null,1.6,1.6,2.4,2.4,null,0.6,0.6,1.4,1.4,null,-0.4,-0.4,0.4,0.4,null,1.6,1.6,2.4,2.4,null,0.6,0.6,1.4,1.4],\"type\":\"scatter\",\"xaxis\":\"x2\",\"yaxis\":\"y2\"},{\"fill\":\"toself\",\"fillcolor\":\"rgb(242, 183, 1)\",\"hoverinfo\":\"name\",\"legendgroup\":\"rgb(242, 183, 1)\",\"mode\":\"none\",\"name\":\"receive\",\"showlegend\":false,\"x\":[1.0237441062927246,1.0257244110107422,1.0257244110107422,1.0237441062927246,1.0237441062927246,1.824676275253296,1.8270375728607178,1.8270375728607178,1.824676275253296,1.824676275253296,2.624725818634033,2.6284873485565186,2.6284873485565186,2.624725818634033,2.624725818634033,3.4260106086730957,3.429997444152832,3.429997444152832,3.4260106086730957,3.4260106086730957,4.2250566482543945,4.231460809707642,4.231460809707642,4.2250566482543945,4.2250566482543945,5.02725887298584,5.032809257507324,5.032809257507324,5.02725887298584,5.02725887298584,5.826399803161621,5.8341569900512695,5.8341569900512695,5.826399803161621,5.826399803161621,6.627737283706665,6.635540723800659,6.635540723800659,6.627737283706665],\"y\":[1.6,1.6,2.4,2.4,null,0.6,0.6,1.4,1.4,null,-0.4,-0.4,0.4,0.4,null,1.6,1.6,2.4,2.4,null,0.6,0.6,1.4,1.4,null,-0.4,-0.4,0.4,0.4,null,1.6,1.6,2.4,2.4,null,0.6,0.6,1.4,1.4],\"type\":\"scatter\",\"xaxis\":\"x2\",\"yaxis\":\"y2\"},{\"legendgroup\":\"rgb(127, 60, 141)\",\"marker\":{\"color\":\"rgb(127, 60, 141)\",\"opacity\":0,\"size\":1},\"mode\":\"markers\",\"name\":\"\",\"showlegend\":false,\"text\":[null,null,null,null,null,null,null,null,null,null,null,null,null,null,null,null],\"x\":[0.0011911392211914062,0.20128202438354492,0.8016684055328369,1.0017335414886475,1.602217197418213,1.8022854328155518,2.402900457382202,2.6029744148254395,3.203418254852295,3.403482675552368,4.003877878189087,4.203945875167847,4.8044328689575195,5.004496335983276,5.604986667633057,5.805051565170288],\"y\":[2,2,1,1,0,0,2,2,1,1,0,0,2,2,1,1],\"type\":\"scatter\",\"xaxis\":\"x2\",\"yaxis\":\"y2\"},{\"legendgroup\":\"rgb(128, 186, 90)\",\"marker\":{\"color\":\"rgb(128, 186, 90)\",\"opacity\":0,\"size\":1},\"mode\":\"markers\",\"name\":\"\",\"showlegend\":false,\"text\":[null,null,null,null,null,null,null,null,null,null,null,null,null,null,null,null],\"x\":[0.0,0.0011911392211914062,0.8005688190460205,0.8016684055328369,1.6011521816253662,1.602217197418213,2.401710033416748,2.402900457382202,3.202237606048584,3.203418254852295,4.002774715423584,4.003877878189087,4.803288459777832,4.8044328689575195,5.6038665771484375,5.604986667633057],\"y\":[2,2,1,1,0,0,2,2,1,1,0,0,2,2,1,1],\"type\":\"scatter\",\"xaxis\":\"x2\",\"yaxis\":\"y2\"},{\"legendgroup\":\"rgb(17, 165, 121)\",\"marker\":{\"color\":\"rgb(17, 165, 121)\",\"opacity\":0,\"size\":1},\"mode\":\"markers\",\"name\":\"\",\"showlegend\":false,\"text\":[null,null,null,null,null,null,null,null,null,null,null,null,null,null,null,null],\"x\":[0.2124309539794922,1.0013673305511475,1.034379243850708,1.8017988204956055,1.835507869720459,2.60237455368042,2.6359541416168213,3.403059720993042,3.4397945404052734,4.203545093536377,4.238750457763672,5.004014015197754,5.037585973739624,5.804558753967285,5.840599775314331,6.605133533477783],\"y\":[2,2,1,1,0,0,2,2,1,1,0,0,2,2,1,1],\"type\":\"scatter\",\"xaxis\":\"x2\",\"yaxis\":\"y2\"},{\"legendgroup\":\"rgb(231, 63, 116)\",\"marker\":{\"color\":\"rgb(231, 63, 116)\",\"opacity\":0,\"size\":1},\"mode\":\"markers\",\"name\":\"\",\"showlegend\":false,\"text\":[null,null,null,null,null,null,null,null,null,null,null,null,null,null,null,null],\"x\":[0.20128202438354492,0.2124309539794922,1.0017335414886475,1.034379243850708,1.8022854328155518,1.835507869720459,2.6029744148254395,2.6359541416168213,3.403482675552368,3.4397945404052734,4.203945875167847,4.238750457763672,5.004496335983276,5.037585973739624,5.805051565170288,5.840599775314331],\"y\":[2,2,1,1,0,0,2,2,1,1,0,0,2,2,1,1],\"type\":\"scatter\",\"xaxis\":\"x2\",\"yaxis\":\"y2\"},{\"legendgroup\":\"rgb(242, 183, 1)\",\"marker\":{\"color\":\"rgb(242, 183, 1)\",\"opacity\":0,\"size\":1},\"mode\":\"markers\",\"name\":\"\",\"showlegend\":false,\"text\":[null,null,null,null,null,null,null,null,null,null,null,null,null,null,null,null],\"x\":[1.0237441062927246,1.0257244110107422,1.824676275253296,1.8270375728607178,2.624725818634033,2.6284873485565186,3.4260106086730957,3.429997444152832,4.2250566482543945,4.231460809707642,5.02725887298584,5.032809257507324,5.826399803161621,5.8341569900512695,6.627737283706665,6.635540723800659],\"y\":[2,2,1,1,0,0,2,2,1,1,0,0,2,2,1,1],\"type\":\"scatter\",\"xaxis\":\"x2\",\"yaxis\":\"y2\"},{\"legendgroup\":\"rgb(57, 105, 172)\",\"marker\":{\"color\":\"rgb(57, 105, 172)\",\"opacity\":0,\"size\":1},\"mode\":\"markers\",\"name\":\"\",\"showlegend\":false,\"text\":[null,null,null,null,null,null,null,null,null,null,null,null,null,null,null,null],\"x\":[1.0013673305511475,1.0237441062927246,1.8017988204956055,1.824676275253296,2.60237455368042,2.624725818634033,3.403059720993042,3.4260106086730957,4.203545093536377,4.2250566482543945,5.004014015197754,5.02725887298584,5.804558753967285,5.826399803161621,6.605133533477783,6.627737283706665],\"y\":[2,2,1,1,0,0,2,2,1,1,0,0,2,2,1,1],\"type\":\"scatter\",\"xaxis\":\"x2\",\"yaxis\":\"y2\"},{\"fill\":\"toself\",\"fillcolor\":\"rgb(128, 186, 90)\",\"hoverinfo\":\"name\",\"legendgroup\":\"rgb(128, 186, 90)\",\"mode\":\"none\",\"name\":\"submit\",\"showlegend\":false,\"x\":[0.0,0.004462718963623047,0.004462718963623047,0.0,0.0,0.5004453659057617,0.5015127658843994,0.5015127658843994,0.5004453659057617,0.5004453659057617,1.0009362697601318,1.0019936561584473,1.0019936561584473,1.0009362697601318,1.0009362697601318,1.5014843940734863,1.5029780864715576,1.5029780864715576,1.5014843940734863,1.5014843940734863,2.002152442932129,2.00337553024292,2.00337553024292,2.002152442932129,2.002152442932129,2.502657175064087,2.5039353370666504,2.5039353370666504,2.502657175064087,2.502657175064087,3.003152847290039,3.0045480728149414,3.0045480728149414,3.003152847290039,3.003152847290039,3.503657102584839,3.5047383308410645,3.5047383308410645,3.503657102584839],\"y\":[1.6,1.6,2.4,2.4,null,0.6,0.6,1.4,1.4,null,-0.4,-0.4,0.4,0.4,null,1.6,1.6,2.4,2.4,null,0.6,0.6,1.4,1.4,null,-0.4,-0.4,0.4,0.4,null,1.6,1.6,2.4,2.4,null,0.6,0.6,1.4,1.4],\"type\":\"scatter\",\"xaxis\":\"x3\",\"yaxis\":\"y3\"},{\"fill\":\"toself\",\"fillcolor\":\"rgb(127, 60, 141)\",\"hoverinfo\":\"name\",\"legendgroup\":\"rgb(127, 60, 141)\",\"mode\":\"none\",\"name\":\"overhead\",\"showlegend\":false,\"x\":[0.004462718963623047,0.5045287609100342,0.5045287609100342,0.004462718963623047,0.004462718963623047,0.5015127658843994,1.0015921592712402,1.0015921592712402,0.5015127658843994,0.5015127658843994,1.0019936561584473,1.5020701885223389,1.5020701885223389,1.0019936561584473,1.0019936561584473,1.5029780864715576,2.021895408630371,2.021895408630371,1.5029780864715576,1.5029780864715576,2.00337553024292,2.5034568309783936,2.5034568309783936,2.00337553024292,2.00337553024292,2.5039353370666504,3.00433611869812,3.00433611869812,2.5039353370666504,2.5039353370666504,3.0045480728149414,3.5231893062591553,3.5231893062591553,3.0045480728149414,3.0045480728149414,3.5047383308410645,4.004802942276001,4.004802942276001,3.5047383308410645],\"y\":[1.6,1.6,2.4,2.4,null,0.6,0.6,1.4,1.4,null,-0.4,-0.4,0.4,0.4,null,1.6,1.6,2.4,2.4,null,0.6,0.6,1.4,1.4,null,-0.4,-0.4,0.4,0.4,null,1.6,1.6,2.4,2.4,null,0.6,0.6,1.4,1.4],\"type\":\"scatter\",\"xaxis\":\"x3\",\"yaxis\":\"y3\"},{\"fill\":\"toself\",\"fillcolor\":\"rgb(231, 63, 116)\",\"hoverinfo\":\"name\",\"legendgroup\":\"rgb(231, 63, 116)\",\"mode\":\"none\",\"name\":\"resolve\",\"showlegend\":false,\"x\":[0.5045287609100342,0.5178029537200928,0.5178029537200928,0.5045287609100342,0.5045287609100342,1.0015921592712402,1.0353295803070068,1.0353295803070068,1.0015921592712402,1.0015921592712402,1.5020701885223389,1.5360462665557861,1.5360462665557861,1.5020701885223389,1.5020701885223389,2.021895408630371,2.037712335586548,2.037712335586548,2.021895408630371,2.021895408630371,2.5034568309783936,2.5572071075439453,2.5572071075439453,2.5034568309783936,2.5034568309783936,3.00433611869812,3.034038782119751,3.034038782119751,3.00433611869812,3.00433611869812,3.5231893062591553,3.5356454849243164,3.5356454849243164,3.5231893062591553,3.5231893062591553,4.004802942276001,4.053987503051758,4.053987503051758,4.004802942276001],\"y\":[1.6,1.6,2.4,2.4,null,0.6,0.6,1.4,1.4,null,-0.4,-0.4,0.4,0.4,null,1.6,1.6,2.4,2.4,null,0.6,0.6,1.4,1.4,null,-0.4,-0.4,0.4,0.4,null,1.6,1.6,2.4,2.4,null,0.6,0.6,1.4,1.4],\"type\":\"scatter\",\"xaxis\":\"x3\",\"yaxis\":\"y3\"},{\"fill\":\"toself\",\"fillcolor\":\"rgb(17, 165, 121)\",\"hoverinfo\":\"name\",\"legendgroup\":\"rgb(17, 165, 121)\",\"mode\":\"none\",\"name\":\"compute\",\"showlegend\":false,\"x\":[0.5178029537200928,1.00462007522583,1.00462007522583,0.5178029537200928,0.5178029537200928,1.0353295803070068,1.5016615390777588,1.5016615390777588,1.0353295803070068,1.0353295803070068,1.5360462665557861,2.002168655395508,2.002168655395508,1.5360462665557861,1.5360462665557861,2.037712335586548,2.521958112716675,2.521958112716675,2.037712335586548,2.037712335586548,2.5572071075439453,3.003516912460327,3.003516912460327,2.5572071075439453,2.5572071075439453,3.034038782119751,3.5044302940368652,3.5044302940368652,3.034038782119751,3.034038782119751,3.5356454849243164,4.023250341415405,4.023250341415405,3.5356454849243164,3.5356454849243164,4.053987503051758,4.50487756729126,4.50487756729126,4.053987503051758],\"y\":[1.6,1.6,2.4,2.4,null,0.6,0.6,1.4,1.4,null,-0.4,-0.4,0.4,0.4,null,1.6,1.6,2.4,2.4,null,0.6,0.6,1.4,1.4,null,-0.4,-0.4,0.4,0.4,null,1.6,1.6,2.4,2.4,null,0.6,0.6,1.4,1.4],\"type\":\"scatter\",\"xaxis\":\"x3\",\"yaxis\":\"y3\"},{\"fill\":\"toself\",\"fillcolor\":\"rgb(57, 105, 172)\",\"hoverinfo\":\"name\",\"legendgroup\":\"rgb(57, 105, 172)\",\"mode\":\"none\",\"name\":\"generate\",\"showlegend\":false,\"x\":[1.00462007522583,1.0258920192718506,1.0258920192718506,1.00462007522583,1.00462007522583,1.5016615390777588,1.5226669311523438,1.5226669311523438,1.5016615390777588,1.5016615390777588,2.002168655395508,2.023975133895874,2.023975133895874,2.002168655395508,2.002168655395508,2.521958112716675,2.5432887077331543,2.5432887077331543,2.521958112716675,2.521958112716675,3.003516912460327,3.024254322052002,3.024254322052002,3.003516912460327,3.003516912460327,3.5044302940368652,3.5253164768218994,3.5253164768218994,3.5044302940368652,3.5044302940368652,4.023250341415405,4.0445051193237305,4.0445051193237305,4.023250341415405,4.023250341415405,4.50487756729126,4.526864051818848,4.526864051818848,4.50487756729126],\"y\":[1.6,1.6,2.4,2.4,null,0.6,0.6,1.4,1.4,null,-0.4,-0.4,0.4,0.4,null,1.6,1.6,2.4,2.4,null,0.6,0.6,1.4,1.4,null,-0.4,-0.4,0.4,0.4,null,1.6,1.6,2.4,2.4,null,0.6,0.6,1.4,1.4],\"type\":\"scatter\",\"xaxis\":\"x3\",\"yaxis\":\"y3\"},{\"fill\":\"toself\",\"fillcolor\":\"rgb(242, 183, 1)\",\"hoverinfo\":\"name\",\"legendgroup\":\"rgb(242, 183, 1)\",\"mode\":\"none\",\"name\":\"receive\",\"showlegend\":false,\"x\":[1.0258920192718506,1.027484655380249,1.027484655380249,1.0258920192718506,1.0258920192718506,1.5226669311523438,1.528961420059204,1.528961420059204,1.5226669311523438,1.5226669311523438,2.023975133895874,2.0304949283599854,2.0304949283599854,2.023975133895874,2.023975133895874,2.5432887077331543,2.5449368953704834,2.5449368953704834,2.5432887077331543,2.5432887077331543,3.024254322052002,3.046377658843994,3.046377658843994,3.024254322052002,3.024254322052002,3.5253164768218994,3.5477190017700195,3.5477190017700195,3.5253164768218994,3.5253164768218994,4.0445051193237305,4.049037933349609,4.049037933349609,4.0445051193237305,4.0445051193237305,4.526864051818848,4.550426483154297,4.550426483154297,4.526864051818848],\"y\":[1.6,1.6,2.4,2.4,null,0.6,0.6,1.4,1.4,null,-0.4,-0.4,0.4,0.4,null,1.6,1.6,2.4,2.4,null,0.6,0.6,1.4,1.4,null,-0.4,-0.4,0.4,0.4,null,1.6,1.6,2.4,2.4,null,0.6,0.6,1.4,1.4],\"type\":\"scatter\",\"xaxis\":\"x3\",\"yaxis\":\"y3\"},{\"legendgroup\":\"rgb(127, 60, 141)\",\"marker\":{\"color\":\"rgb(127, 60, 141)\",\"opacity\":0,\"size\":1},\"mode\":\"markers\",\"name\":\"\",\"showlegend\":false,\"text\":[null,null,null,null,null,null,null,null,null,null,null,null,null,null,null,null],\"x\":[0.004462718963623047,0.5045287609100342,0.5015127658843994,1.0015921592712402,1.0019936561584473,1.5020701885223389,1.5029780864715576,2.021895408630371,2.00337553024292,2.5034568309783936,2.5039353370666504,3.00433611869812,3.0045480728149414,3.5231893062591553,3.5047383308410645,4.004802942276001],\"y\":[2,2,1,1,0,0,2,2,1,1,0,0,2,2,1,1],\"type\":\"scatter\",\"xaxis\":\"x3\",\"yaxis\":\"y3\"},{\"legendgroup\":\"rgb(128, 186, 90)\",\"marker\":{\"color\":\"rgb(128, 186, 90)\",\"opacity\":0,\"size\":1},\"mode\":\"markers\",\"name\":\"\",\"showlegend\":false,\"text\":[null,null,null,null,null,null,null,null,null,null,null,null,null,null,null,null],\"x\":[0.0,0.004462718963623047,0.5004453659057617,0.5015127658843994,1.0009362697601318,1.0019936561584473,1.5014843940734863,1.5029780864715576,2.002152442932129,2.00337553024292,2.502657175064087,2.5039353370666504,3.003152847290039,3.0045480728149414,3.503657102584839,3.5047383308410645],\"y\":[2,2,1,1,0,0,2,2,1,1,0,0,2,2,1,1],\"type\":\"scatter\",\"xaxis\":\"x3\",\"yaxis\":\"y3\"},{\"legendgroup\":\"rgb(17, 165, 121)\",\"marker\":{\"color\":\"rgb(17, 165, 121)\",\"opacity\":0,\"size\":1},\"mode\":\"markers\",\"name\":\"\",\"showlegend\":false,\"text\":[null,null,null,null,null,null,null,null,null,null,null,null,null,null,null,null],\"x\":[0.5178029537200928,1.00462007522583,1.0353295803070068,1.5016615390777588,1.5360462665557861,2.002168655395508,2.037712335586548,2.521958112716675,2.5572071075439453,3.003516912460327,3.034038782119751,3.5044302940368652,3.5356454849243164,4.023250341415405,4.053987503051758,4.50487756729126],\"y\":[2,2,1,1,0,0,2,2,1,1,0,0,2,2,1,1],\"type\":\"scatter\",\"xaxis\":\"x3\",\"yaxis\":\"y3\"},{\"legendgroup\":\"rgb(231, 63, 116)\",\"marker\":{\"color\":\"rgb(231, 63, 116)\",\"opacity\":0,\"size\":1},\"mode\":\"markers\",\"name\":\"\",\"showlegend\":false,\"text\":[null,null,null,null,null,null,null,null,null,null,null,null,null,null,null,null],\"x\":[0.5045287609100342,0.5178029537200928,1.0015921592712402,1.0353295803070068,1.5020701885223389,1.5360462665557861,2.021895408630371,2.037712335586548,2.5034568309783936,2.5572071075439453,3.00433611869812,3.034038782119751,3.5231893062591553,3.5356454849243164,4.004802942276001,4.053987503051758],\"y\":[2,2,1,1,0,0,2,2,1,1,0,0,2,2,1,1],\"type\":\"scatter\",\"xaxis\":\"x3\",\"yaxis\":\"y3\"},{\"legendgroup\":\"rgb(242, 183, 1)\",\"marker\":{\"color\":\"rgb(242, 183, 1)\",\"opacity\":0,\"size\":1},\"mode\":\"markers\",\"name\":\"\",\"showlegend\":false,\"text\":[null,null,null,null,null,null,null,null,null,null,null,null,null,null,null,null],\"x\":[1.0258920192718506,1.027484655380249,1.5226669311523438,1.528961420059204,2.023975133895874,2.0304949283599854,2.5432887077331543,2.5449368953704834,3.024254322052002,3.046377658843994,3.5253164768218994,3.5477190017700195,4.0445051193237305,4.049037933349609,4.526864051818848,4.550426483154297],\"y\":[2,2,1,1,0,0,2,2,1,1,0,0,2,2,1,1],\"type\":\"scatter\",\"xaxis\":\"x3\",\"yaxis\":\"y3\"},{\"legendgroup\":\"rgb(57, 105, 172)\",\"marker\":{\"color\":\"rgb(57, 105, 172)\",\"opacity\":0,\"size\":1},\"mode\":\"markers\",\"name\":\"\",\"showlegend\":false,\"text\":[null,null,null,null,null,null,null,null,null,null,null,null,null,null,null,null],\"x\":[1.00462007522583,1.0258920192718506,1.5016615390777588,1.5226669311523438,2.002168655395508,2.023975133895874,2.521958112716675,2.5432887077331543,3.003516912460327,3.024254322052002,3.5044302940368652,3.5253164768218994,4.023250341415405,4.0445051193237305,4.50487756729126,4.526864051818848],\"y\":[2,2,1,1,0,0,2,2,1,1,0,0,2,2,1,1],\"type\":\"scatter\",\"xaxis\":\"x3\",\"yaxis\":\"y3\"}],                        {\"template\":{\"data\":{\"barpolar\":[{\"marker\":{\"line\":{\"color\":\"white\",\"width\":0.5},\"pattern\":{\"fillmode\":\"overlay\",\"size\":10,\"solidity\":0.2}},\"type\":\"barpolar\"}],\"bar\":[{\"error_x\":{\"color\":\"rgb(36,36,36)\"},\"error_y\":{\"color\":\"rgb(36,36,36)\"},\"marker\":{\"line\":{\"color\":\"white\",\"width\":0.5},\"pattern\":{\"fillmode\":\"overlay\",\"size\":10,\"solidity\":0.2}},\"type\":\"bar\"}],\"carpet\":[{\"aaxis\":{\"endlinecolor\":\"rgb(36,36,36)\",\"gridcolor\":\"white\",\"linecolor\":\"white\",\"minorgridcolor\":\"white\",\"startlinecolor\":\"rgb(36,36,36)\"},\"baxis\":{\"endlinecolor\":\"rgb(36,36,36)\",\"gridcolor\":\"white\",\"linecolor\":\"white\",\"minorgridcolor\":\"white\",\"startlinecolor\":\"rgb(36,36,36)\"},\"type\":\"carpet\"}],\"choropleth\":[{\"colorbar\":{\"outlinewidth\":1,\"tickcolor\":\"rgb(36,36,36)\",\"ticks\":\"outside\"},\"type\":\"choropleth\"}],\"contourcarpet\":[{\"colorbar\":{\"outlinewidth\":1,\"tickcolor\":\"rgb(36,36,36)\",\"ticks\":\"outside\"},\"type\":\"contourcarpet\"}],\"contour\":[{\"colorbar\":{\"outlinewidth\":1,\"tickcolor\":\"rgb(36,36,36)\",\"ticks\":\"outside\"},\"colorscale\":[[0.0,\"#440154\"],[0.1111111111111111,\"#482878\"],[0.2222222222222222,\"#3e4989\"],[0.3333333333333333,\"#31688e\"],[0.4444444444444444,\"#26828e\"],[0.5555555555555556,\"#1f9e89\"],[0.6666666666666666,\"#35b779\"],[0.7777777777777778,\"#6ece58\"],[0.8888888888888888,\"#b5de2b\"],[1.0,\"#fde725\"]],\"type\":\"contour\"}],\"heatmapgl\":[{\"colorbar\":{\"outlinewidth\":1,\"tickcolor\":\"rgb(36,36,36)\",\"ticks\":\"outside\"},\"colorscale\":[[0.0,\"#440154\"],[0.1111111111111111,\"#482878\"],[0.2222222222222222,\"#3e4989\"],[0.3333333333333333,\"#31688e\"],[0.4444444444444444,\"#26828e\"],[0.5555555555555556,\"#1f9e89\"],[0.6666666666666666,\"#35b779\"],[0.7777777777777778,\"#6ece58\"],[0.8888888888888888,\"#b5de2b\"],[1.0,\"#fde725\"]],\"type\":\"heatmapgl\"}],\"heatmap\":[{\"colorbar\":{\"outlinewidth\":1,\"tickcolor\":\"rgb(36,36,36)\",\"ticks\":\"outside\"},\"colorscale\":[[0.0,\"#440154\"],[0.1111111111111111,\"#482878\"],[0.2222222222222222,\"#3e4989\"],[0.3333333333333333,\"#31688e\"],[0.4444444444444444,\"#26828e\"],[0.5555555555555556,\"#1f9e89\"],[0.6666666666666666,\"#35b779\"],[0.7777777777777778,\"#6ece58\"],[0.8888888888888888,\"#b5de2b\"],[1.0,\"#fde725\"]],\"type\":\"heatmap\"}],\"histogram2dcontour\":[{\"colorbar\":{\"outlinewidth\":1,\"tickcolor\":\"rgb(36,36,36)\",\"ticks\":\"outside\"},\"colorscale\":[[0.0,\"#440154\"],[0.1111111111111111,\"#482878\"],[0.2222222222222222,\"#3e4989\"],[0.3333333333333333,\"#31688e\"],[0.4444444444444444,\"#26828e\"],[0.5555555555555556,\"#1f9e89\"],[0.6666666666666666,\"#35b779\"],[0.7777777777777778,\"#6ece58\"],[0.8888888888888888,\"#b5de2b\"],[1.0,\"#fde725\"]],\"type\":\"histogram2dcontour\"}],\"histogram2d\":[{\"colorbar\":{\"outlinewidth\":1,\"tickcolor\":\"rgb(36,36,36)\",\"ticks\":\"outside\"},\"colorscale\":[[0.0,\"#440154\"],[0.1111111111111111,\"#482878\"],[0.2222222222222222,\"#3e4989\"],[0.3333333333333333,\"#31688e\"],[0.4444444444444444,\"#26828e\"],[0.5555555555555556,\"#1f9e89\"],[0.6666666666666666,\"#35b779\"],[0.7777777777777778,\"#6ece58\"],[0.8888888888888888,\"#b5de2b\"],[1.0,\"#fde725\"]],\"type\":\"histogram2d\"}],\"histogram\":[{\"marker\":{\"line\":{\"color\":\"white\",\"width\":0.6}},\"type\":\"histogram\"}],\"mesh3d\":[{\"colorbar\":{\"outlinewidth\":1,\"tickcolor\":\"rgb(36,36,36)\",\"ticks\":\"outside\"},\"type\":\"mesh3d\"}],\"parcoords\":[{\"line\":{\"colorbar\":{\"outlinewidth\":1,\"tickcolor\":\"rgb(36,36,36)\",\"ticks\":\"outside\"}},\"type\":\"parcoords\"}],\"pie\":[{\"automargin\":true,\"type\":\"pie\"}],\"scatter3d\":[{\"line\":{\"colorbar\":{\"outlinewidth\":1,\"tickcolor\":\"rgb(36,36,36)\",\"ticks\":\"outside\"}},\"marker\":{\"colorbar\":{\"outlinewidth\":1,\"tickcolor\":\"rgb(36,36,36)\",\"ticks\":\"outside\"}},\"type\":\"scatter3d\"}],\"scattercarpet\":[{\"marker\":{\"colorbar\":{\"outlinewidth\":1,\"tickcolor\":\"rgb(36,36,36)\",\"ticks\":\"outside\"}},\"type\":\"scattercarpet\"}],\"scattergeo\":[{\"marker\":{\"colorbar\":{\"outlinewidth\":1,\"tickcolor\":\"rgb(36,36,36)\",\"ticks\":\"outside\"}},\"type\":\"scattergeo\"}],\"scattergl\":[{\"marker\":{\"colorbar\":{\"outlinewidth\":1,\"tickcolor\":\"rgb(36,36,36)\",\"ticks\":\"outside\"}},\"type\":\"scattergl\"}],\"scattermapbox\":[{\"marker\":{\"colorbar\":{\"outlinewidth\":1,\"tickcolor\":\"rgb(36,36,36)\",\"ticks\":\"outside\"}},\"type\":\"scattermapbox\"}],\"scatterpolargl\":[{\"marker\":{\"colorbar\":{\"outlinewidth\":1,\"tickcolor\":\"rgb(36,36,36)\",\"ticks\":\"outside\"}},\"type\":\"scatterpolargl\"}],\"scatterpolar\":[{\"marker\":{\"colorbar\":{\"outlinewidth\":1,\"tickcolor\":\"rgb(36,36,36)\",\"ticks\":\"outside\"}},\"type\":\"scatterpolar\"}],\"scatter\":[{\"fillpattern\":{\"fillmode\":\"overlay\",\"size\":10,\"solidity\":0.2},\"type\":\"scatter\"}],\"scatterternary\":[{\"marker\":{\"colorbar\":{\"outlinewidth\":1,\"tickcolor\":\"rgb(36,36,36)\",\"ticks\":\"outside\"}},\"type\":\"scatterternary\"}],\"surface\":[{\"colorbar\":{\"outlinewidth\":1,\"tickcolor\":\"rgb(36,36,36)\",\"ticks\":\"outside\"},\"colorscale\":[[0.0,\"#440154\"],[0.1111111111111111,\"#482878\"],[0.2222222222222222,\"#3e4989\"],[0.3333333333333333,\"#31688e\"],[0.4444444444444444,\"#26828e\"],[0.5555555555555556,\"#1f9e89\"],[0.6666666666666666,\"#35b779\"],[0.7777777777777778,\"#6ece58\"],[0.8888888888888888,\"#b5de2b\"],[1.0,\"#fde725\"]],\"type\":\"surface\"}],\"table\":[{\"cells\":{\"fill\":{\"color\":\"rgb(237,237,237)\"},\"line\":{\"color\":\"white\"}},\"header\":{\"fill\":{\"color\":\"rgb(217,217,217)\"},\"line\":{\"color\":\"white\"}},\"type\":\"table\"}]},\"layout\":{\"annotationdefaults\":{\"arrowhead\":0,\"arrowwidth\":1},\"autotypenumbers\":\"strict\",\"coloraxis\":{\"colorbar\":{\"outlinewidth\":1,\"tickcolor\":\"rgb(36,36,36)\",\"ticks\":\"outside\"}},\"colorscale\":{\"diverging\":[[0.0,\"rgb(103,0,31)\"],[0.1,\"rgb(178,24,43)\"],[0.2,\"rgb(214,96,77)\"],[0.3,\"rgb(244,165,130)\"],[0.4,\"rgb(253,219,199)\"],[0.5,\"rgb(247,247,247)\"],[0.6,\"rgb(209,229,240)\"],[0.7,\"rgb(146,197,222)\"],[0.8,\"rgb(67,147,195)\"],[0.9,\"rgb(33,102,172)\"],[1.0,\"rgb(5,48,97)\"]],\"sequential\":[[0.0,\"#440154\"],[0.1111111111111111,\"#482878\"],[0.2222222222222222,\"#3e4989\"],[0.3333333333333333,\"#31688e\"],[0.4444444444444444,\"#26828e\"],[0.5555555555555556,\"#1f9e89\"],[0.6666666666666666,\"#35b779\"],[0.7777777777777778,\"#6ece58\"],[0.8888888888888888,\"#b5de2b\"],[1.0,\"#fde725\"]],\"sequentialminus\":[[0.0,\"#440154\"],[0.1111111111111111,\"#482878\"],[0.2222222222222222,\"#3e4989\"],[0.3333333333333333,\"#31688e\"],[0.4444444444444444,\"#26828e\"],[0.5555555555555556,\"#1f9e89\"],[0.6666666666666666,\"#35b779\"],[0.7777777777777778,\"#6ece58\"],[0.8888888888888888,\"#b5de2b\"],[1.0,\"#fde725\"]]},\"colorway\":[\"#1F77B4\",\"#FF7F0E\",\"#2CA02C\",\"#D62728\",\"#9467BD\",\"#8C564B\",\"#E377C2\",\"#7F7F7F\",\"#BCBD22\",\"#17BECF\"],\"font\":{\"color\":\"rgb(36,36,36)\",\"family\":\"Arial\"},\"geo\":{\"bgcolor\":\"white\",\"lakecolor\":\"white\",\"landcolor\":\"white\",\"showlakes\":true,\"showland\":true,\"subunitcolor\":\"white\"},\"hoverlabel\":{\"align\":\"left\"},\"hovermode\":\"closest\",\"legend\":{\"bordercolor\":\"#e0e0e0\",\"borderwidth\":1,\"font\":{\"size\":12}},\"mapbox\":{\"style\":\"light\"},\"margin\":{\"b\":5,\"l\":5,\"r\":5,\"t\":5},\"paper_bgcolor\":\"white\",\"plot_bgcolor\":\"white\",\"polar\":{\"angularaxis\":{\"gridcolor\":\"rgb(232,232,232)\",\"linecolor\":\"rgb(36,36,36)\",\"showgrid\":false,\"showline\":true,\"ticks\":\"outside\"},\"bgcolor\":\"white\",\"radialaxis\":{\"gridcolor\":\"rgb(232,232,232)\",\"linecolor\":\"rgb(36,36,36)\",\"showgrid\":false,\"showline\":true,\"ticks\":\"outside\"}},\"scene\":{\"xaxis\":{\"backgroundcolor\":\"white\",\"gridcolor\":\"rgb(232,232,232)\",\"gridwidth\":2,\"linecolor\":\"rgb(36,36,36)\",\"showbackground\":true,\"showgrid\":false,\"showline\":true,\"ticks\":\"outside\",\"zeroline\":false,\"zerolinecolor\":\"rgb(36,36,36)\"},\"yaxis\":{\"backgroundcolor\":\"white\",\"gridcolor\":\"rgb(232,232,232)\",\"gridwidth\":2,\"linecolor\":\"rgb(36,36,36)\",\"showbackground\":true,\"showgrid\":false,\"showline\":true,\"ticks\":\"outside\",\"zeroline\":false,\"zerolinecolor\":\"rgb(36,36,36)\"},\"zaxis\":{\"backgroundcolor\":\"white\",\"gridcolor\":\"rgb(232,232,232)\",\"gridwidth\":2,\"linecolor\":\"rgb(36,36,36)\",\"showbackground\":true,\"showgrid\":false,\"showline\":true,\"ticks\":\"outside\",\"zeroline\":false,\"zerolinecolor\":\"rgb(36,36,36)\"}},\"shapedefaults\":{\"fillcolor\":\"black\",\"line\":{\"width\":0},\"opacity\":0.3},\"ternary\":{\"aaxis\":{\"gridcolor\":\"rgb(232,232,232)\",\"linecolor\":\"rgb(36,36,36)\",\"showgrid\":false,\"showline\":true,\"ticks\":\"outside\"},\"baxis\":{\"gridcolor\":\"rgb(232,232,232)\",\"linecolor\":\"rgb(36,36,36)\",\"showgrid\":false,\"showline\":true,\"ticks\":\"outside\"},\"bgcolor\":\"white\",\"caxis\":{\"gridcolor\":\"rgb(232,232,232)\",\"linecolor\":\"rgb(36,36,36)\",\"showgrid\":false,\"showline\":true,\"ticks\":\"outside\"}},\"title\":{\"font\":{\"size\":10},\"x\":0.05},\"xaxis\":{\"automargin\":true,\"gridcolor\":\"#e0e0e0\",\"linecolor\":\"#616161\",\"linewidth\":1,\"mirror\":true,\"showgrid\":true,\"showline\":true,\"tickfont\":{\"size\":10},\"ticks\":\"outside\",\"title\":{\"font\":{\"size\":12},\"standoff\":5},\"zeroline\":false,\"zerolinecolor\":\"rgb(36,36,36)\"},\"yaxis\":{\"automargin\":true,\"gridcolor\":\"#e0e0e0\",\"linecolor\":\"#616161\",\"linewidth\":1,\"mirror\":true,\"showgrid\":true,\"showline\":true,\"tickfont\":{\"size\":10},\"ticks\":\"outside\",\"title\":{\"font\":{\"size\":12},\"standoff\":5},\"zeroline\":false,\"zerolinecolor\":\"rgb(36,36,36)\"}}},\"xaxis\":{\"anchor\":\"y\",\"domain\":[0.0,1.0],\"matches\":\"x3\",\"showticklabels\":false},\"yaxis\":{\"anchor\":\"x\",\"domain\":[0.6933333333333334,1.0],\"title\":{\"font\":{\"size\":11},\"text\":\"Sequential\\u003cbr\\u003eOverhead 20%\"},\"showticklabels\":false,\"ticks\":\"\",\"autorange\":\"reversed\"},\"xaxis2\":{\"anchor\":\"y2\",\"domain\":[0.0,1.0],\"matches\":\"x3\",\"showticklabels\":false},\"yaxis2\":{\"anchor\":\"x2\",\"domain\":[0.3466666666666667,0.6533333333333333],\"title\":{\"font\":{\"size\":11},\"text\":\"Pipelined\\u003cbr\\u003eOverhead 20%\"},\"showticklabels\":false,\"ticks\":\"\",\"autorange\":\"reversed\"},\"xaxis3\":{\"anchor\":\"y3\",\"domain\":[0.0,1.0],\"title\":{\"text\":\"Runtime (s)\"},\"range\":[-0.1,8.318426465988159]},\"yaxis3\":{\"anchor\":\"x3\",\"domain\":[0.0,0.3066666666666667],\"title\":{\"font\":{\"size\":11},\"text\":\"Pipelined\\u003cbr\\u003eOverhead 50%\"},\"showticklabels\":false,\"ticks\":\"\",\"autorange\":\"reversed\"},\"legend\":{\"yanchor\":\"bottom\",\"y\":0.02,\"xanchor\":\"left\",\"x\":0.82,\"tracegroupgap\":4},\"width\":500,\"height\":300},                        {\"responsive\": true}                    ).then(function(){\n",
       "                            \n",
       "var gd = document.getElementById('480494e5-11e1-4b45-b12a-b06195d47f43');\n",
       "var x = new MutationObserver(function (mutations, observer) {{\n",
       "        var display = window.getComputedStyle(gd).display;\n",
       "        if (!display || display === 'none') {{\n",
       "            console.log([gd, 'removed!']);\n",
       "            Plotly.purge(gd);\n",
       "            observer.disconnect();\n",
       "        }}\n",
       "}});\n",
       "\n",
       "// Listen for the removal of the full notebook cells\n",
       "var notebookContainer = gd.closest('#notebook-container');\n",
       "if (notebookContainer) {{\n",
       "    x.observe(notebookContainer, {childList: true});\n",
       "}}\n",
       "\n",
       "// Listen for the clearing of the current output cell\n",
       "var outputEl = gd.closest('.output');\n",
       "if (outputEl) {{\n",
       "    x.observe(outputEl, {childList: true});\n",
       "}}\n",
       "\n",
       "                        })                };                });            </script>        </div>"
      ]
     },
     "metadata": {},
     "output_type": "display_data"
    }
   ],
   "source": [
    "data = load_data(\n",
    "    '../data/alderaan/0-task-pipelining/task-pipelining-2024-03-07-14-20-08',\n",
    ")\n",
    "\n",
    "trend_fig = create_trend_figure(data, dict(width=500, height=200))\n",
    "timeline_fig = create_timeline_figure(data, dict(width=500, height=300))\n",
    "\n",
    "trend_fig.show()\n",
    "timeline_fig.show()\n",
    "\n",
    "figure_dir = pathlib.Path('../figures/alderaan/')\n",
    "figure_dir.mkdir(exist_ok=True)\n",
    "\n",
    "trend_fig.write_image(figure_dir / '0-task-pipelining-trend.pdf')\n",
    "timeline_fig.write_image(figure_dir / '0-task-pipelining-timeline.pdf')"
   ]
  },
  {
   "cell_type": "code",
   "execution_count": null,
   "id": "7e883ac2-c743-4cd2-91f1-a28542fa9413",
   "metadata": {},
   "outputs": [],
   "source": []
  }
 ],
 "metadata": {
  "kernelspec": {
   "display_name": "Python 3 (ipykernel)",
   "language": "python",
   "name": "python3"
  },
  "language_info": {
   "codemirror_mode": {
    "name": "ipython",
    "version": 3
   },
   "file_extension": ".py",
   "mimetype": "text/x-python",
   "name": "python",
   "nbconvert_exporter": "python",
   "pygments_lexer": "ipython3",
   "version": "3.11.5"
  }
 },
 "nbformat": 4,
 "nbformat_minor": 5
}
